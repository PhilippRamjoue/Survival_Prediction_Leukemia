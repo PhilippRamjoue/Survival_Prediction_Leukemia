{
 "cells": [
  {
   "cell_type": "markdown",
   "metadata": {},
   "source": [
    "# Automated ML\n",
    "\n",
    "TODO: Import Dependencies. In the cell below, import all the dependencies that you will need to complete the project."
   ]
  },
  {
   "cell_type": "code",
   "execution_count": 1,
   "metadata": {
    "gather": {
     "logged": 1606386833953
    },
    "jupyter": {
     "outputs_hidden": false,
     "source_hidden": false
    },
    "nteract": {
     "transient": {
      "deleting": false
     }
    }
   },
   "outputs": [],
   "source": [
    "from azureml.core import Workspace, Experiment\n",
    "from azureml.core.compute import ComputeTarget, AmlCompute\n",
    "from azureml.core.compute_target import ComputeTargetException\n",
    "from azureml.widgets import RunDetails\n",
    "from azureml.core import Environment,ScriptRunConfig\n",
    "from azureml.train.estimator import Estimator\n",
    "from azureml.train.sklearn import SKLearn\n",
    "from azureml.train.hyperdrive.run import PrimaryMetricGoal\n",
    "from azureml.train.hyperdrive.policy import BanditPolicy\n",
    "from azureml.train.hyperdrive.sampling import RandomParameterSampling\n",
    "from azureml.train.hyperdrive.runconfig import HyperDriveConfig\n",
    "from azureml.train.hyperdrive.parameter_expressions import uniform, normal, choice\n",
    "from azureml.data.dataset_factory import TabularDatasetFactory\n",
    "from azureml.core import Dataset\n",
    "from azureml.core.model import InferenceConfig, Model\n",
    "from azureml.core.webservice import AciWebservice, Webservice\n",
    "from train import clean_data\n",
    "from sklearn.model_selection import train_test_split\n",
    "import pandas as pd\n",
    "from azureml.train.automl import AutoMLConfig\n",
    "\n",
    "import os\n",
    "\n",
    "import json\n",
    "import joblib\n"
   ]
  },
  {
   "cell_type": "markdown",
   "metadata": {},
   "source": [
    "## Dataset\n",
    "\n",
    "### Overview\n",
    "TODO: In this markdown cell, give an overview of the dataset you are using. Also mention the task you will be performing.\n",
    "\n",
    "\n",
    "TODO: Get data. In the cell below, write code to access the data you will be using in this project. Remember that the dataset needs to be external."
   ]
  },
  {
   "cell_type": "code",
   "execution_count": 2,
   "metadata": {
    "gather": {
     "logged": 1606390632790
    },
    "jupyter": {
     "outputs_hidden": false,
     "source_hidden": false
    },
    "nteract": {
     "transient": {
      "deleting": false
     }
    }
   },
   "outputs": [],
   "source": [
    "ws = Workspace.from_config()\n",
    "\n",
    "# choose a name for experiment\n",
    "experiment_name = 'automl_leukemia_experiment'\n",
    "\n",
    "# Enviornment for model deployment\n",
    "myenv = Environment(workspace=ws,name=\"myenv\")\n",
    " \n",
    "auto_exp = Experiment(ws,experiment_name)"
   ]
  },
  {
   "cell_type": "code",
   "execution_count": 3,
   "metadata": {
    "gather": {
     "logged": 1606378078757
    },
    "pycharm": {
     "name": "#%%\n"
    }
   },
   "outputs": [
    {
     "name": "stdout",
     "output_type": "stream",
     "text": [
      "Creating\n",
      "Succeeded\n",
      "AmlCompute wait for completion finished\n",
      "\n",
      "Minimum number of nodes requested have been provisioned\n"
     ]
    }
   ],
   "source": [
    "# Create compute cluster\n",
    "\n",
    "cpu_cluster_name = \"cluster-leukemia\"\n",
    "\n",
    "try:\n",
    "    cpu_cluster = ComputeTarget(workspace=ws, name=cpu_cluster_name)\n",
    "    print('Found existing cluster, use it.')\n",
    "except ComputeTargetException:\n",
    "    compute_config = AmlCompute.provisioning_configuration(vm_size='STANDARD_D2_V2',min_nodes=0,\n",
    "                                                            max_nodes=4)\n",
    "    cpu_cluster = ComputeTarget.create(ws, cpu_cluster_name, compute_config)\n",
    "\n",
    "cpu_cluster.wait_for_completion(show_output=True)"
   ]
  },
  {
   "cell_type": "markdown",
   "metadata": {},
   "source": [
    "### Dataset is hosted on Github"
   ]
  },
  {
   "cell_type": "code",
   "execution_count": 4,
   "metadata": {
    "gather": {
     "logged": 1606378163980
    },
    "pycharm": {
     "name": "#%%\n"
    }
   },
   "outputs": [],
   "source": [
    "dataset_path = 'https://raw.githubusercontent.com/PhilippRamjoue/Leukemia_Classification/main/dataset/bone-marrow-dataset.csv'\n",
    "\n",
    "ds = Dataset.Tabular.from_delimited_files(path=dataset_path)"
   ]
  },
  {
   "cell_type": "code",
   "execution_count": 5,
   "metadata": {
    "gather": {
     "logged": 1606378168148
    },
    "pycharm": {
     "name": "#%%\n"
    }
   },
   "outputs": [
    {
     "name": "stdout",
     "output_type": "stream",
     "text": [
      "survival_status_0: 36\n",
      "survival_status_1: 85\n",
      "survival_status_ongoing: 66\n",
      "Shape of original frame: (121, 37)\n",
      "Shape of frame with dropped nan rows: (104, 37); Loss: 14 %\n"
     ]
    }
   ],
   "source": [
    "\n",
    "# Use the clean_data function to clean your data.\n",
    "x, y = clean_data(ds)\n",
    "\n",
    "# use full dataset but provide test data\n",
    "x_train,x_test,y_train,y_test = train_test_split(x,y,test_size=0.4,random_state=42)\n",
    "#automl_training_set = pd.concat([x_train,y_train],axis=1)\n",
    "\n",
    "automl_training_set = pd.concat([x,y],axis=1)"
   ]
  },
  {
   "cell_type": "markdown",
   "metadata": {
    "pycharm": {
     "name": "#%% md\n"
    }
   },
   "source": [
    "## Save data in datastore\n",
    "\n",
    "A datastore is necessary to run AutoML on a remote compute"
   ]
  },
  {
   "cell_type": "code",
   "execution_count": 6,
   "metadata": {
    "gather": {
     "logged": 1606378185713
    },
    "pycharm": {
     "name": "#%%\n"
    }
   },
   "outputs": [
    {
     "name": "stdout",
     "output_type": "stream",
     "text": [
      "Uploading an estimated of 1 files\n",
      "Uploading ./data/cleaned_dataset.csv\n",
      "Uploaded ./data/cleaned_dataset.csv, 1 files out of an estimated total of 1\n",
      "Uploaded 1 files\n"
     ]
    }
   ],
   "source": [
    "\n",
    "# Create a project_folder if it doesn't exist\n",
    "if not os.path.isdir('data'):\n",
    "    os.mkdir('data')\n",
    "\n",
    "if not os.path.exists('project_folder'):\n",
    "    os.makedirs('project_folder')\n",
    "\n",
    "automl_training_set.to_csv('data/cleaned_dataset.csv')\n",
    "\n",
    "ds = ws.get_default_datastore()\n",
    "\n",
    "ds.upload(src_dir='./data', target_path='leukemiadata', overwrite=True, show_progress=True)\n",
    "\n",
    "training_data = Dataset.Tabular.from_delimited_files(path=ds.path('leukemiadata/cleaned_dataset.csv'))"
   ]
  },
  {
   "cell_type": "markdown",
   "metadata": {},
   "source": [
    "## AutoML Configuration\n",
    "\n",
    "TODO: Explain why you chose the automl settings and cofiguration you used below."
   ]
  },
  {
   "cell_type": "code",
   "execution_count": 7,
   "metadata": {
    "gather": {
     "logged": 1606378238405
    },
    "pycharm": {
     "name": "#%%\n"
    }
   },
   "outputs": [],
   "source": [
    "# TODO: Put your automl settings here\n",
    "automl_settings = {'experiment_timeout_minutes':30,\n",
    "                    'primary_metric':'accuracy',\n",
    "                    'enable_early_stopping':True,\n",
    "                    'n_cross_validations':5,\n",
    "                    'max_concurrent_iterations':4\n",
    "                    }\n",
    "\n",
    "# TODO: Put your automl config here\n",
    "automl_config = AutoMLConfig(\n",
    "    task=\"classification\",\n",
    "    compute_target=cpu_cluster,\n",
    "    training_data=training_data,\n",
    "    iterations=30,\n",
    "    iteration_timeout_minutes=5,\n",
    "    label_column_name='survival_status',\n",
    "    **automl_settings\n",
    "    )"
   ]
  },
  {
   "cell_type": "code",
   "execution_count": 8,
   "metadata": {
    "gather": {
     "logged": 1606379816743
    },
    "jupyter": {
     "outputs_hidden": false,
     "source_hidden": false
    },
    "nteract": {
     "transient": {
      "deleting": false
     }
    },
    "scrolled": false
   },
   "outputs": [
    {
     "name": "stdout",
     "output_type": "stream",
     "text": [
      "Running on remote.\n",
      "Running on remote compute: cluster-leukemia\n",
      "Parent Run ID: AutoML_0dc345fc-190d-4af4-9971-13c998ca6441\n",
      "\n",
      "Current status: FeaturesGeneration. Generating features for the dataset.\n",
      "Current status: ModelSelection. Beginning model selection.\n",
      "\n",
      "****************************************************************************************************\n",
      "DATA GUARDRAILS: \n",
      "\n",
      "TYPE:         Class balancing detection\n",
      "STATUS:       PASSED\n",
      "DESCRIPTION:  Your inputs were analyzed, and all classes are balanced in your training data.\n",
      "              Learn more about imbalanced data: https://aka.ms/AutomatedMLImbalancedData\n",
      "\n",
      "****************************************************************************************************\n",
      "\n",
      "TYPE:         Missing feature values imputation\n",
      "STATUS:       PASSED\n",
      "DESCRIPTION:  No feature missing values were detected in the training data.\n",
      "              Learn more about missing value imputation: https://aka.ms/AutomatedMLFeaturization\n",
      "\n",
      "****************************************************************************************************\n",
      "\n",
      "TYPE:         High cardinality feature detection\n",
      "STATUS:       PASSED\n",
      "DESCRIPTION:  Your inputs were analyzed, and no high cardinality features were detected.\n",
      "              Learn more about high cardinality feature handling: https://aka.ms/AutomatedMLFeaturization\n",
      "\n",
      "****************************************************************************************************\n",
      "\n",
      "****************************************************************************************************\n",
      "ITERATION: The iteration being evaluated.\n",
      "PIPELINE: A summary description of the pipeline being evaluated.\n",
      "DURATION: Time taken for the current iteration.\n",
      "METRIC: The result of computing score on the fitted pipeline.\n",
      "BEST: The best observed score thus far.\n",
      "****************************************************************************************************\n",
      "\n",
      " ITERATION   PIPELINE                                       DURATION      METRIC      BEST\n",
      "         1   MaxAbsScaler XGBoostClassifier                 0:00:40       0.6824    0.6824\n",
      "         0   MaxAbsScaler LightGBM                          0:00:47       0.6257    0.6824\n",
      "         2   MinMaxScaler RandomForest                      0:00:43       0.6638    0.6824\n",
      "         3   StandardScalerWrapper SGD                      0:00:48       0.6433    0.6824\n",
      "         7   RobustScaler ExtremeRandomTrees                0:00:45       0.6348    0.6824\n",
      "         8   StandardScalerWrapper ExtremeRandomTrees       0:00:41       0.6152    0.6824\n",
      "         4   MinMaxScaler RandomForest                      0:03:12       0.6643    0.6824\n",
      "         5   StandardScalerWrapper SGD                      0:03:15       0.6243    0.6824\n",
      "         6   StandardScalerWrapper RandomForest             0:03:15       0.6629    0.6824\n",
      "         9   StandardScalerWrapper SGD                      0:00:49       0.6143    0.6824\n",
      "        10   StandardScalerWrapper SGD                      0:00:36       0.6457    0.6824\n",
      "        11   MinMaxScaler SGD                               0:00:46       0.6629    0.6824\n",
      "        13   MinMaxScaler SGD                               0:00:43       0.6843    0.6843\n",
      "        12   RobustScaler ExtremeRandomTrees                0:00:44       0.6329    0.6843\n",
      "        14   MinMaxScaler ExtremeRandomTrees                0:00:23       0.6248    0.6843\n",
      "        16   MinMaxScaler ExtremeRandomTrees                0:00:30       0.6538    0.6843\n",
      "        17   StandardScalerWrapper RandomForest             0:00:40       0.7019    0.7019\n",
      "        15   MinMaxScaler ExtremeRandomTrees                0:00:47       0.6443    0.7019\n",
      "        18   StandardScalerWrapper SGD                      0:00:40       0.5952    0.7019\n",
      "        19   RobustScaler ExtremeRandomTrees                0:00:44       0.6143    0.7019\n",
      "        20   StandardScalerWrapper RandomForest             0:00:47       0.6248    0.7019\n",
      "        21   MinMaxScaler ExtremeRandomTrees                0:00:48       0.6714    0.7019\n",
      "        22   MaxAbsScaler RandomForest                      0:00:29       0.6362    0.7019\n",
      "        23   MaxAbsScaler ExtremeRandomTrees                0:00:47       0.5948    0.7019\n",
      "        24   MaxAbsScaler SGD                               0:00:46       0.6148    0.7019\n",
      "        25   RobustScaler RandomForest                      0:01:02       0.6748    0.7019\n",
      "        26   MinMaxScaler RandomForest                      0:00:17       0.6829    0.7019\n",
      "        27   MinMaxScaler KNN                               0:00:24       0.6843    0.7019\n",
      "        28    VotingEnsemble                                0:01:00       0.7500    0.7500\n",
      "        29    StackEnsemble                                 0:01:10       0.6638    0.7500\n"
     ]
    }
   ],
   "source": [
    "# TODO: Submit your experiment\n",
    "auto_run = auto_exp.submit(config=automl_config,show_output=True)"
   ]
  },
  {
   "cell_type": "markdown",
   "metadata": {},
   "source": [
    "## Run Details\n",
    "\n",
    "OPTIONAL: Write about the different models trained and their performance. Why do you think some models did better than others?\n",
    "\n",
    "TODO: In the cell below, use the `RunDetails` widget to show the different experiments."
   ]
  },
  {
   "cell_type": "code",
   "execution_count": 9,
   "metadata": {
    "gather": {
     "logged": 1606379867852
    },
    "jupyter": {
     "outputs_hidden": false,
     "source_hidden": false
    },
    "nteract": {
     "transient": {
      "deleting": false
     }
    },
    "scrolled": false
   },
   "outputs": [
    {
     "data": {
      "application/vnd.jupyter.widget-view+json": {
       "model_id": "cd17abacf6a44ab094c75a11514a5fcc",
       "version_major": 2,
       "version_minor": 0
      },
      "text/plain": [
       "_AutoMLWidget(widget_settings={'childWidgetDisplay': 'popup', 'send_telemetry': False, 'log_level': 'INFO', 's…"
      ]
     },
     "metadata": {},
     "output_type": "display_data"
    },
    {
     "data": {
      "application/aml.mini.widget.v1": "{\"status\": \"Completed\", \"workbench_run_details_uri\": \"https://ml.azure.com/experiments/automl_leukemia_experiment/runs/AutoML_0dc345fc-190d-4af4-9971-13c998ca6441?wsid=/subscriptions/a0f586ec-8016-4ea9-8248-9bf2299ad437/resourcegroups/aml-quickstarts-127973/workspaces/quick-starts-ws-127973\", \"run_id\": \"AutoML_0dc345fc-190d-4af4-9971-13c998ca6441\", \"run_properties\": {\"run_id\": \"AutoML_0dc345fc-190d-4af4-9971-13c998ca6441\", \"created_utc\": \"2020-11-26T12:24:46.563298Z\", \"properties\": {\"num_iterations\": \"30\", \"training_type\": \"TrainFull\", \"acquisition_function\": \"EI\", \"primary_metric\": \"accuracy\", \"train_split\": \"0\", \"acquisition_parameter\": \"0\", \"num_cross_validation\": \"5\", \"target\": \"cluster-leukemia\", \"AMLSettingsJsonString\": \"{\\\"path\\\":null,\\\"name\\\":\\\"automl_leukemia_experiment\\\",\\\"subscription_id\\\":\\\"a0f586ec-8016-4ea9-8248-9bf2299ad437\\\",\\\"resource_group\\\":\\\"aml-quickstarts-127973\\\",\\\"workspace_name\\\":\\\"quick-starts-ws-127973\\\",\\\"region\\\":\\\"southcentralus\\\",\\\"compute_target\\\":\\\"cluster-leukemia\\\",\\\"spark_service\\\":null,\\\"azure_service\\\":\\\"remote\\\",\\\"_local_managed_run_id\\\":null,\\\"many_models\\\":false,\\\"pipeline_fetch_max_batch_size\\\":1,\\\"iterations\\\":30,\\\"primary_metric\\\":\\\"accuracy\\\",\\\"task_type\\\":\\\"classification\\\",\\\"data_script\\\":null,\\\"validation_size\\\":0.0,\\\"n_cross_validations\\\":5,\\\"y_min\\\":null,\\\"y_max\\\":null,\\\"num_classes\\\":null,\\\"featurization\\\":\\\"auto\\\",\\\"_ignore_package_version_incompatibilities\\\":false,\\\"is_timeseries\\\":false,\\\"max_cores_per_iteration\\\":1,\\\"max_concurrent_iterations\\\":4,\\\"iteration_timeout_minutes\\\":5,\\\"mem_in_mb\\\":null,\\\"enforce_time_on_windows\\\":false,\\\"experiment_timeout_minutes\\\":30,\\\"experiment_exit_score\\\":null,\\\"whitelist_models\\\":null,\\\"blacklist_algos\\\":[\\\"TensorFlowLinearClassifier\\\",\\\"TensorFlowDNN\\\"],\\\"supported_models\\\":[\\\"MultinomialNaiveBayes\\\",\\\"SGD\\\",\\\"SVM\\\",\\\"LogisticRegression\\\",\\\"TensorFlowLinearClassifier\\\",\\\"GradientBoosting\\\",\\\"LinearSVM\\\",\\\"RandomForest\\\",\\\"LightGBM\\\",\\\"XGBoostClassifier\\\",\\\"TensorFlowDNN\\\",\\\"ExtremeRandomTrees\\\",\\\"DecisionTree\\\",\\\"AveragedPerceptronClassifier\\\",\\\"BernoulliNaiveBayes\\\",\\\"KNN\\\"],\\\"auto_blacklist\\\":true,\\\"blacklist_samples_reached\\\":false,\\\"exclude_nan_labels\\\":true,\\\"verbosity\\\":20,\\\"_debug_log\\\":\\\"azureml_automl.log\\\",\\\"show_warnings\\\":false,\\\"model_explainability\\\":true,\\\"service_url\\\":null,\\\"sdk_url\\\":null,\\\"sdk_packages\\\":null,\\\"enable_onnx_compatible_models\\\":false,\\\"enable_split_onnx_featurizer_estimator_models\\\":false,\\\"vm_type\\\":\\\"STANDARD_D2_V2\\\",\\\"telemetry_verbosity\\\":20,\\\"send_telemetry\\\":true,\\\"enable_dnn\\\":false,\\\"scenario\\\":\\\"SDK-1.13.0\\\",\\\"environment_label\\\":null,\\\"force_text_dnn\\\":false,\\\"enable_feature_sweeping\\\":true,\\\"enable_early_stopping\\\":true,\\\"early_stopping_n_iters\\\":10,\\\"metrics\\\":null,\\\"enable_ensembling\\\":true,\\\"enable_stack_ensembling\\\":true,\\\"ensemble_iterations\\\":15,\\\"enable_tf\\\":false,\\\"enable_subsampling\\\":false,\\\"subsample_seed\\\":null,\\\"enable_nimbusml\\\":false,\\\"enable_streaming\\\":false,\\\"force_streaming\\\":false,\\\"track_child_runs\\\":true,\\\"allowed_private_models\\\":[],\\\"label_column_name\\\":\\\"survival_status\\\",\\\"weight_column_name\\\":null,\\\"cv_split_column_names\\\":null,\\\"enable_local_managed\\\":false,\\\"cost_mode\\\":1,\\\"lag_length\\\":0,\\\"metric_operation\\\":\\\"maximize\\\",\\\"preprocess\\\":true}\", \"DataPrepJsonString\": \"{\\\\\\\"training_data\\\\\\\": \\\\\\\"{\\\\\\\\\\\\\\\"blocks\\\\\\\\\\\\\\\": [{\\\\\\\\\\\\\\\"id\\\\\\\\\\\\\\\": \\\\\\\\\\\\\\\"abc5d23d-d5e3-4e34-998d-38e7a02658d1\\\\\\\\\\\\\\\", \\\\\\\\\\\\\\\"type\\\\\\\\\\\\\\\": \\\\\\\\\\\\\\\"Microsoft.DPrep.GetDatastoreFilesBlock\\\\\\\\\\\\\\\", \\\\\\\\\\\\\\\"arguments\\\\\\\\\\\\\\\": {\\\\\\\\\\\\\\\"datastores\\\\\\\\\\\\\\\": [{\\\\\\\\\\\\\\\"datastoreName\\\\\\\\\\\\\\\": \\\\\\\\\\\\\\\"workspaceblobstore\\\\\\\\\\\\\\\", \\\\\\\\\\\\\\\"path\\\\\\\\\\\\\\\": \\\\\\\\\\\\\\\"leukemiadata/cleaned_dataset.csv\\\\\\\\\\\\\\\", \\\\\\\\\\\\\\\"resourceGroup\\\\\\\\\\\\\\\": \\\\\\\\\\\\\\\"aml-quickstarts-127973\\\\\\\\\\\\\\\", \\\\\\\\\\\\\\\"subscription\\\\\\\\\\\\\\\": \\\\\\\\\\\\\\\"a0f586ec-8016-4ea9-8248-9bf2299ad437\\\\\\\\\\\\\\\", \\\\\\\\\\\\\\\"workspaceName\\\\\\\\\\\\\\\": \\\\\\\\\\\\\\\"quick-starts-ws-127973\\\\\\\\\\\\\\\"}]}, \\\\\\\\\\\\\\\"localData\\\\\\\\\\\\\\\": {}, \\\\\\\\\\\\\\\"isEnabled\\\\\\\\\\\\\\\": true, \\\\\\\\\\\\\\\"name\\\\\\\\\\\\\\\": null, \\\\\\\\\\\\\\\"annotation\\\\\\\\\\\\\\\": null}, {\\\\\\\\\\\\\\\"id\\\\\\\\\\\\\\\": \\\\\\\\\\\\\\\"0f7cf31b-394a-411f-9dfe-592073541df3\\\\\\\\\\\\\\\", \\\\\\\\\\\\\\\"type\\\\\\\\\\\\\\\": \\\\\\\\\\\\\\\"Microsoft.DPrep.ParseDelimitedBlock\\\\\\\\\\\\\\\", \\\\\\\\\\\\\\\"arguments\\\\\\\\\\\\\\\": {\\\\\\\\\\\\\\\"columnHeadersMode\\\\\\\\\\\\\\\": 3, \\\\\\\\\\\\\\\"fileEncoding\\\\\\\\\\\\\\\": 0, \\\\\\\\\\\\\\\"handleQuotedLineBreaks\\\\\\\\\\\\\\\": false, \\\\\\\\\\\\\\\"preview\\\\\\\\\\\\\\\": false, \\\\\\\\\\\\\\\"separator\\\\\\\\\\\\\\\": \\\\\\\\\\\\\\\",\\\\\\\\\\\\\\\", \\\\\\\\\\\\\\\"skipRows\\\\\\\\\\\\\\\": 0, \\\\\\\\\\\\\\\"skipRowsMode\\\\\\\\\\\\\\\": 0}, \\\\\\\\\\\\\\\"localData\\\\\\\\\\\\\\\": {}, \\\\\\\\\\\\\\\"isEnabled\\\\\\\\\\\\\\\": true, \\\\\\\\\\\\\\\"name\\\\\\\\\\\\\\\": null, \\\\\\\\\\\\\\\"annotation\\\\\\\\\\\\\\\": null}, {\\\\\\\\\\\\\\\"id\\\\\\\\\\\\\\\": \\\\\\\\\\\\\\\"e0cd7296-ff13-4315-9cfa-9323e51c3cfb\\\\\\\\\\\\\\\", \\\\\\\\\\\\\\\"type\\\\\\\\\\\\\\\": \\\\\\\\\\\\\\\"Microsoft.DPrep.DropColumnsBlock\\\\\\\\\\\\\\\", \\\\\\\\\\\\\\\"arguments\\\\\\\\\\\\\\\": {\\\\\\\\\\\\\\\"columns\\\\\\\\\\\\\\\": {\\\\\\\\\\\\\\\"type\\\\\\\\\\\\\\\": 0, \\\\\\\\\\\\\\\"details\\\\\\\\\\\\\\\": {\\\\\\\\\\\\\\\"selectedColumns\\\\\\\\\\\\\\\": [\\\\\\\\\\\\\\\"Path\\\\\\\\\\\\\\\"]}}}, \\\\\\\\\\\\\\\"localData\\\\\\\\\\\\\\\": {}, \\\\\\\\\\\\\\\"isEnabled\\\\\\\\\\\\\\\": true, \\\\\\\\\\\\\\\"name\\\\\\\\\\\\\\\": null, \\\\\\\\\\\\\\\"annotation\\\\\\\\\\\\\\\": null}, {\\\\\\\\\\\\\\\"id\\\\\\\\\\\\\\\": \\\\\\\\\\\\\\\"8a376970-a3db-4f4e-a4f6-a3b33bbe3d15\\\\\\\\\\\\\\\", \\\\\\\\\\\\\\\"type\\\\\\\\\\\\\\\": \\\\\\\\\\\\\\\"Microsoft.DPrep.SetColumnTypesBlock\\\\\\\\\\\\\\\", \\\\\\\\\\\\\\\"arguments\\\\\\\\\\\\\\\": {\\\\\\\\\\\\\\\"columnConversion\\\\\\\\\\\\\\\": [{\\\\\\\\\\\\\\\"column\\\\\\\\\\\\\\\": {\\\\\\\\\\\\\\\"type\\\\\\\\\\\\\\\": 2, \\\\\\\\\\\\\\\"details\\\\\\\\\\\\\\\": {\\\\\\\\\\\\\\\"selectedColumn\\\\\\\\\\\\\\\": \\\\\\\\\\\\\\\"Column1\\\\\\\\\\\\\\\"}}, \\\\\\\\\\\\\\\"typeProperty\\\\\\\\\\\\\\\": 2}, {\\\\\\\\\\\\\\\"column\\\\\\\\\\\\\\\": {\\\\\\\\\\\\\\\"type\\\\\\\\\\\\\\\": 2, \\\\\\\\\\\\\\\"details\\\\\\\\\\\\\\\": {\\\\\\\\\\\\\\\"selectedColumn\\\\\\\\\\\\\\\": \\\\\\\\\\\\\\\"donor_age_below_35\\\\\\\\\\\\\\\"}}, \\\\\\\\\\\\\\\"typeProperty\\\\\\\\\\\\\\\": 2}, {\\\\\\\\\\\\\\\"column\\\\\\\\\\\\\\\": {\\\\\\\\\\\\\\\"type\\\\\\\\\\\\\\\": 2, \\\\\\\\\\\\\\\"details\\\\\\\\\\\\\\\": {\\\\\\\\\\\\\\\"selectedColumn\\\\\\\\\\\\\\\": \\\\\\\\\\\\\\\"donor_CMV\\\\\\\\\\\\\\\"}}, \\\\\\\\\\\\\\\"typeProperty\\\\\\\\\\\\\\\": 2}, {\\\\\\\\\\\\\\\"column\\\\\\\\\\\\\\\": {\\\\\\\\\\\\\\\"type\\\\\\\\\\\\\\\": 2, \\\\\\\\\\\\\\\"details\\\\\\\\\\\\\\\": {\\\\\\\\\\\\\\\"selectedColumn\\\\\\\\\\\\\\\": \\\\\\\\\\\\\\\"recipient_age_below_10\\\\\\\\\\\\\\\"}}, \\\\\\\\\\\\\\\"typeProperty\\\\\\\\\\\\\\\": 2}, {\\\\\\\\\\\\\\\"column\\\\\\\\\\\\\\\": {\\\\\\\\\\\\\\\"type\\\\\\\\\\\\\\\": 2, \\\\\\\\\\\\\\\"details\\\\\\\\\\\\\\\": {\\\\\\\\\\\\\\\"selectedColumn\\\\\\\\\\\\\\\": \\\\\\\\\\\\\\\"recipient_gender\\\\\\\\\\\\\\\"}}, \\\\\\\\\\\\\\\"typeProperty\\\\\\\\\\\\\\\": 2}, {\\\\\\\\\\\\\\\"column\\\\\\\\\\\\\\\": {\\\\\\\\\\\\\\\"type\\\\\\\\\\\\\\\": 2, \\\\\\\\\\\\\\\"details\\\\\\\\\\\\\\\": {\\\\\\\\\\\\\\\"selectedColumn\\\\\\\\\\\\\\\": \\\\\\\\\\\\\\\"recipient_rh\\\\\\\\\\\\\\\"}}, \\\\\\\\\\\\\\\"typeProperty\\\\\\\\\\\\\\\": 2}, {\\\\\\\\\\\\\\\"column\\\\\\\\\\\\\\\": {\\\\\\\\\\\\\\\"type\\\\\\\\\\\\\\\": 2, \\\\\\\\\\\\\\\"details\\\\\\\\\\\\\\\": {\\\\\\\\\\\\\\\"selectedColumn\\\\\\\\\\\\\\\": \\\\\\\\\\\\\\\"recipient_CMV\\\\\\\\\\\\\\\"}}, \\\\\\\\\\\\\\\"typeProperty\\\\\\\\\\\\\\\": 2}, {\\\\\\\\\\\\\\\"column\\\\\\\\\\\\\\\": {\\\\\\\\\\\\\\\"type\\\\\\\\\\\\\\\": 2, \\\\\\\\\\\\\\\"details\\\\\\\\\\\\\\\": {\\\\\\\\\\\\\\\"selectedColumn\\\\\\\\\\\\\\\": \\\\\\\\\\\\\\\"gender_match\\\\\\\\\\\\\\\"}}, \\\\\\\\\\\\\\\"typeProperty\\\\\\\\\\\\\\\": 2}, {\\\\\\\\\\\\\\\"column\\\\\\\\\\\\\\\": {\\\\\\\\\\\\\\\"type\\\\\\\\\\\\\\\": 2, \\\\\\\\\\\\\\\"details\\\\\\\\\\\\\\\": {\\\\\\\\\\\\\\\"selectedColumn\\\\\\\\\\\\\\\": \\\\\\\\\\\\\\\"ABO_match\\\\\\\\\\\\\\\"}}, \\\\\\\\\\\\\\\"typeProperty\\\\\\\\\\\\\\\": 2}, {\\\\\\\\\\\\\\\"column\\\\\\\\\\\\\\\": {\\\\\\\\\\\\\\\"type\\\\\\\\\\\\\\\": 2, \\\\\\\\\\\\\\\"details\\\\\\\\\\\\\\\": {\\\\\\\\\\\\\\\"selectedColumn\\\\\\\\\\\\\\\": \\\\\\\\\\\\\\\"HLA_mismatch\\\\\\\\\\\\\\\"}}, \\\\\\\\\\\\\\\"typeProperty\\\\\\\\\\\\\\\": 2}, {\\\\\\\\\\\\\\\"column\\\\\\\\\\\\\\\": {\\\\\\\\\\\\\\\"type\\\\\\\\\\\\\\\": 2, \\\\\\\\\\\\\\\"details\\\\\\\\\\\\\\\": {\\\\\\\\\\\\\\\"selectedColumn\\\\\\\\\\\\\\\": \\\\\\\\\\\\\\\"risk_group\\\\\\\\\\\\\\\"}}, \\\\\\\\\\\\\\\"typeProperty\\\\\\\\\\\\\\\": 2}, {\\\\\\\\\\\\\\\"column\\\\\\\\\\\\\\\": {\\\\\\\\\\\\\\\"type\\\\\\\\\\\\\\\": 2, \\\\\\\\\\\\\\\"details\\\\\\\\\\\\\\\": {\\\\\\\\\\\\\\\"selectedColumn\\\\\\\\\\\\\\\": \\\\\\\\\\\\\\\"stem_cell_source\\\\\\\\\\\\\\\"}}, \\\\\\\\\\\\\\\"typeProperty\\\\\\\\\\\\\\\": 2}, {\\\\\\\\\\\\\\\"column\\\\\\\\\\\\\\\": {\\\\\\\\\\\\\\\"type\\\\\\\\\\\\\\\": 2, \\\\\\\\\\\\\\\"details\\\\\\\\\\\\\\\": {\\\\\\\\\\\\\\\"selectedColumn\\\\\\\\\\\\\\\": \\\\\\\\\\\\\\\"tx_post_relapse\\\\\\\\\\\\\\\"}}, \\\\\\\\\\\\\\\"typeProperty\\\\\\\\\\\\\\\": 2}, {\\\\\\\\\\\\\\\"column\\\\\\\\\\\\\\\": {\\\\\\\\\\\\\\\"type\\\\\\\\\\\\\\\": 2, \\\\\\\\\\\\\\\"details\\\\\\\\\\\\\\\": {\\\\\\\\\\\\\\\"selectedColumn\\\\\\\\\\\\\\\": \\\\\\\\\\\\\\\"ANC_recovery\\\\\\\\\\\\\\\"}}, \\\\\\\\\\\\\\\"typeProperty\\\\\\\\\\\\\\\": 2}, {\\\\\\\\\\\\\\\"column\\\\\\\\\\\\\\\": {\\\\\\\\\\\\\\\"type\\\\\\\\\\\\\\\": 2, \\\\\\\\\\\\\\\"details\\\\\\\\\\\\\\\": {\\\\\\\\\\\\\\\"selectedColumn\\\\\\\\\\\\\\\": \\\\\\\\\\\\\\\"PLT_recovery\\\\\\\\\\\\\\\"}}, \\\\\\\\\\\\\\\"typeProperty\\\\\\\\\\\\\\\": 2}, {\\\\\\\\\\\\\\\"column\\\\\\\\\\\\\\\": {\\\\\\\\\\\\\\\"type\\\\\\\\\\\\\\\": 2, \\\\\\\\\\\\\\\"details\\\\\\\\\\\\\\\": {\\\\\\\\\\\\\\\"selectedColumn\\\\\\\\\\\\\\\": \\\\\\\\\\\\\\\"acute_GvHD_II_III_IV\\\\\\\\\\\\\\\"}}, \\\\\\\\\\\\\\\"typeProperty\\\\\\\\\\\\\\\": 2}, {\\\\\\\\\\\\\\\"column\\\\\\\\\\\\\\\": {\\\\\\\\\\\\\\\"type\\\\\\\\\\\\\\\": 2, \\\\\\\\\\\\\\\"details\\\\\\\\\\\\\\\": {\\\\\\\\\\\\\\\"selectedColumn\\\\\\\\\\\\\\\": \\\\\\\\\\\\\\\"acute_GvHD_III_IV\\\\\\\\\\\\\\\"}}, \\\\\\\\\\\\\\\"typeProperty\\\\\\\\\\\\\\\": 2}, {\\\\\\\\\\\\\\\"column\\\\\\\\\\\\\\\": {\\\\\\\\\\\\\\\"type\\\\\\\\\\\\\\\": 2, \\\\\\\\\\\\\\\"details\\\\\\\\\\\\\\\": {\\\\\\\\\\\\\\\"selectedColumn\\\\\\\\\\\\\\\": \\\\\\\\\\\\\\\"relapse\\\\\\\\\\\\\\\"}}, \\\\\\\\\\\\\\\"typeProperty\\\\\\\\\\\\\\\": 2}, {\\\\\\\\\\\\\\\"column\\\\\\\\\\\\\\\": {\\\\\\\\\\\\\\\"type\\\\\\\\\\\\\\\": 2, \\\\\\\\\\\\\\\"details\\\\\\\\\\\\\\\": {\\\\\\\\\\\\\\\"selectedColumn\\\\\\\\\\\\\\\": \\\\\\\\\\\\\\\"donor_age\\\\\\\\\\\\\\\"}}, \\\\\\\\\\\\\\\"typeProperty\\\\\\\\\\\\\\\": 3}, {\\\\\\\\\\\\\\\"column\\\\\\\\\\\\\\\": {\\\\\\\\\\\\\\\"type\\\\\\\\\\\\\\\": 2, \\\\\\\\\\\\\\\"details\\\\\\\\\\\\\\\": {\\\\\\\\\\\\\\\"selectedColumn\\\\\\\\\\\\\\\": \\\\\\\\\\\\\\\"recipient_age\\\\\\\\\\\\\\\"}}, \\\\\\\\\\\\\\\"typeProperty\\\\\\\\\\\\\\\": 3}, {\\\\\\\\\\\\\\\"column\\\\\\\\\\\\\\\": {\\\\\\\\\\\\\\\"type\\\\\\\\\\\\\\\": 2, \\\\\\\\\\\\\\\"details\\\\\\\\\\\\\\\": {\\\\\\\\\\\\\\\"selectedColumn\\\\\\\\\\\\\\\": \\\\\\\\\\\\\\\"recipient_body_mass\\\\\\\\\\\\\\\"}}, \\\\\\\\\\\\\\\"typeProperty\\\\\\\\\\\\\\\": 3}, {\\\\\\\\\\\\\\\"column\\\\\\\\\\\\\\\": {\\\\\\\\\\\\\\\"type\\\\\\\\\\\\\\\": 2, \\\\\\\\\\\\\\\"details\\\\\\\\\\\\\\\": {\\\\\\\\\\\\\\\"selectedColumn\\\\\\\\\\\\\\\": \\\\\\\\\\\\\\\"CD34_x1e6_per_kg\\\\\\\\\\\\\\\"}}, \\\\\\\\\\\\\\\"typeProperty\\\\\\\\\\\\\\\": 3}, {\\\\\\\\\\\\\\\"column\\\\\\\\\\\\\\\": {\\\\\\\\\\\\\\\"type\\\\\\\\\\\\\\\": 2, \\\\\\\\\\\\\\\"details\\\\\\\\\\\\\\\": {\\\\\\\\\\\\\\\"selectedColumn\\\\\\\\\\\\\\\": \\\\\\\\\\\\\\\"CD3_x1e8_per_kg\\\\\\\\\\\\\\\"}}, \\\\\\\\\\\\\\\"typeProperty\\\\\\\\\\\\\\\": 3}, {\\\\\\\\\\\\\\\"column\\\\\\\\\\\\\\\": {\\\\\\\\\\\\\\\"type\\\\\\\\\\\\\\\": 2, \\\\\\\\\\\\\\\"details\\\\\\\\\\\\\\\": {\\\\\\\\\\\\\\\"selectedColumn\\\\\\\\\\\\\\\": \\\\\\\\\\\\\\\"CD3_to_CD34_ratio\\\\\\\\\\\\\\\"}}, \\\\\\\\\\\\\\\"typeProperty\\\\\\\\\\\\\\\": 3}, {\\\\\\\\\\\\\\\"column\\\\\\\\\\\\\\\": {\\\\\\\\\\\\\\\"type\\\\\\\\\\\\\\\": 2, \\\\\\\\\\\\\\\"details\\\\\\\\\\\\\\\": {\\\\\\\\\\\\\\\"selectedColumn\\\\\\\\\\\\\\\": \\\\\\\\\\\\\\\"time_to_ANC_recovery\\\\\\\\\\\\\\\"}}, \\\\\\\\\\\\\\\"typeProperty\\\\\\\\\\\\\\\": 3}, {\\\\\\\\\\\\\\\"column\\\\\\\\\\\\\\\": {\\\\\\\\\\\\\\\"type\\\\\\\\\\\\\\\": 2, \\\\\\\\\\\\\\\"details\\\\\\\\\\\\\\\": {\\\\\\\\\\\\\\\"selectedColumn\\\\\\\\\\\\\\\": \\\\\\\\\\\\\\\"time_to_PLT_recovery\\\\\\\\\\\\\\\"}}, \\\\\\\\\\\\\\\"typeProperty\\\\\\\\\\\\\\\": 3}, {\\\\\\\\\\\\\\\"column\\\\\\\\\\\\\\\": {\\\\\\\\\\\\\\\"type\\\\\\\\\\\\\\\": 2, \\\\\\\\\\\\\\\"details\\\\\\\\\\\\\\\": {\\\\\\\\\\\\\\\"selectedColumn\\\\\\\\\\\\\\\": \\\\\\\\\\\\\\\"time_to_acute_GvHD_III_IV\\\\\\\\\\\\\\\"}}, \\\\\\\\\\\\\\\"typeProperty\\\\\\\\\\\\\\\": 3}, {\\\\\\\\\\\\\\\"column\\\\\\\\\\\\\\\": {\\\\\\\\\\\\\\\"type\\\\\\\\\\\\\\\": 2, \\\\\\\\\\\\\\\"details\\\\\\\\\\\\\\\": {\\\\\\\\\\\\\\\"selectedColumn\\\\\\\\\\\\\\\": \\\\\\\\\\\\\\\"donor_ABO_0\\\\\\\\\\\\\\\"}}, \\\\\\\\\\\\\\\"typeProperty\\\\\\\\\\\\\\\": 2}, {\\\\\\\\\\\\\\\"column\\\\\\\\\\\\\\\": {\\\\\\\\\\\\\\\"type\\\\\\\\\\\\\\\": 2, \\\\\\\\\\\\\\\"details\\\\\\\\\\\\\\\": {\\\\\\\\\\\\\\\"selectedColumn\\\\\\\\\\\\\\\": \\\\\\\\\\\\\\\"donor_ABO_A\\\\\\\\\\\\\\\"}}, \\\\\\\\\\\\\\\"typeProperty\\\\\\\\\\\\\\\": 2}, {\\\\\\\\\\\\\\\"column\\\\\\\\\\\\\\\": {\\\\\\\\\\\\\\\"type\\\\\\\\\\\\\\\": 2, \\\\\\\\\\\\\\\"details\\\\\\\\\\\\\\\": {\\\\\\\\\\\\\\\"selectedColumn\\\\\\\\\\\\\\\": \\\\\\\\\\\\\\\"donor_ABO_AB\\\\\\\\\\\\\\\"}}, \\\\\\\\\\\\\\\"typeProperty\\\\\\\\\\\\\\\": 2}, {\\\\\\\\\\\\\\\"column\\\\\\\\\\\\\\\": {\\\\\\\\\\\\\\\"type\\\\\\\\\\\\\\\": 2, \\\\\\\\\\\\\\\"details\\\\\\\\\\\\\\\": {\\\\\\\\\\\\\\\"selectedColumn\\\\\\\\\\\\\\\": \\\\\\\\\\\\\\\"donor_ABO_B\\\\\\\\\\\\\\\"}}, \\\\\\\\\\\\\\\"typeProperty\\\\\\\\\\\\\\\": 2}, {\\\\\\\\\\\\\\\"column\\\\\\\\\\\\\\\": {\\\\\\\\\\\\\\\"type\\\\\\\\\\\\\\\": 2, \\\\\\\\\\\\\\\"details\\\\\\\\\\\\\\\": {\\\\\\\\\\\\\\\"selectedColumn\\\\\\\\\\\\\\\": \\\\\\\\\\\\\\\"recipient_age_int_0_5\\\\\\\\\\\\\\\"}}, \\\\\\\\\\\\\\\"typeProperty\\\\\\\\\\\\\\\": 2}, {\\\\\\\\\\\\\\\"column\\\\\\\\\\\\\\\": {\\\\\\\\\\\\\\\"type\\\\\\\\\\\\\\\": 2, \\\\\\\\\\\\\\\"details\\\\\\\\\\\\\\\": {\\\\\\\\\\\\\\\"selectedColumn\\\\\\\\\\\\\\\": \\\\\\\\\\\\\\\"recipient_age_int_10_20\\\\\\\\\\\\\\\"}}, \\\\\\\\\\\\\\\"typeProperty\\\\\\\\\\\\\\\": 2}, {\\\\\\\\\\\\\\\"column\\\\\\\\\\\\\\\": {\\\\\\\\\\\\\\\"type\\\\\\\\\\\\\\\": 2, \\\\\\\\\\\\\\\"details\\\\\\\\\\\\\\\": {\\\\\\\\\\\\\\\"selectedColumn\\\\\\\\\\\\\\\": \\\\\\\\\\\\\\\"recipient_age_int_5_10\\\\\\\\\\\\\\\"}}, \\\\\\\\\\\\\\\"typeProperty\\\\\\\\\\\\\\\": 2}, {\\\\\\\\\\\\\\\"column\\\\\\\\\\\\\\\": {\\\\\\\\\\\\\\\"type\\\\\\\\\\\\\\\": 2, \\\\\\\\\\\\\\\"details\\\\\\\\\\\\\\\": {\\\\\\\\\\\\\\\"selectedColumn\\\\\\\\\\\\\\\": \\\\\\\\\\\\\\\"recipient_ABO_0\\\\\\\\\\\\\\\"}}, \\\\\\\\\\\\\\\"typeProperty\\\\\\\\\\\\\\\": 2}, {\\\\\\\\\\\\\\\"column\\\\\\\\\\\\\\\": {\\\\\\\\\\\\\\\"type\\\\\\\\\\\\\\\": 2, \\\\\\\\\\\\\\\"details\\\\\\\\\\\\\\\": {\\\\\\\\\\\\\\\"selectedColumn\\\\\\\\\\\\\\\": \\\\\\\\\\\\\\\"recipient_ABO_A\\\\\\\\\\\\\\\"}}, \\\\\\\\\\\\\\\"typeProperty\\\\\\\\\\\\\\\": 2}, {\\\\\\\\\\\\\\\"column\\\\\\\\\\\\\\\": {\\\\\\\\\\\\\\\"type\\\\\\\\\\\\\\\": 2, \\\\\\\\\\\\\\\"details\\\\\\\\\\\\\\\": {\\\\\\\\\\\\\\\"selectedColumn\\\\\\\\\\\\\\\": \\\\\\\\\\\\\\\"recipient_ABO_AB\\\\\\\\\\\\\\\"}}, \\\\\\\\\\\\\\\"typeProperty\\\\\\\\\\\\\\\": 2}, {\\\\\\\\\\\\\\\"column\\\\\\\\\\\\\\\": {\\\\\\\\\\\\\\\"type\\\\\\\\\\\\\\\": 2, \\\\\\\\\\\\\\\"details\\\\\\\\\\\\\\\": {\\\\\\\\\\\\\\\"selectedColumn\\\\\\\\\\\\\\\": \\\\\\\\\\\\\\\"recipient_ABO_B\\\\\\\\\\\\\\\"}}, \\\\\\\\\\\\\\\"typeProperty\\\\\\\\\\\\\\\": 2}, {\\\\\\\\\\\\\\\"column\\\\\\\\\\\\\\\": {\\\\\\\\\\\\\\\"type\\\\\\\\\\\\\\\": 2, \\\\\\\\\\\\\\\"details\\\\\\\\\\\\\\\": {\\\\\\\\\\\\\\\"selectedColumn\\\\\\\\\\\\\\\": \\\\\\\\\\\\\\\"disease_ALL\\\\\\\\\\\\\\\"}}, \\\\\\\\\\\\\\\"typeProperty\\\\\\\\\\\\\\\": 2}, {\\\\\\\\\\\\\\\"column\\\\\\\\\\\\\\\": {\\\\\\\\\\\\\\\"type\\\\\\\\\\\\\\\": 2, \\\\\\\\\\\\\\\"details\\\\\\\\\\\\\\\": {\\\\\\\\\\\\\\\"selectedColumn\\\\\\\\\\\\\\\": \\\\\\\\\\\\\\\"disease_AML\\\\\\\\\\\\\\\"}}, \\\\\\\\\\\\\\\"typeProperty\\\\\\\\\\\\\\\": 2}, {\\\\\\\\\\\\\\\"column\\\\\\\\\\\\\\\": {\\\\\\\\\\\\\\\"type\\\\\\\\\\\\\\\": 2, \\\\\\\\\\\\\\\"details\\\\\\\\\\\\\\\": {\\\\\\\\\\\\\\\"selectedColumn\\\\\\\\\\\\\\\": \\\\\\\\\\\\\\\"disease_chronic\\\\\\\\\\\\\\\"}}, \\\\\\\\\\\\\\\"typeProperty\\\\\\\\\\\\\\\": 2}, {\\\\\\\\\\\\\\\"column\\\\\\\\\\\\\\\": {\\\\\\\\\\\\\\\"type\\\\\\\\\\\\\\\": 2, \\\\\\\\\\\\\\\"details\\\\\\\\\\\\\\\": {\\\\\\\\\\\\\\\"selectedColumn\\\\\\\\\\\\\\\": \\\\\\\\\\\\\\\"disease_lymphoma\\\\\\\\\\\\\\\"}}, \\\\\\\\\\\\\\\"typeProperty\\\\\\\\\\\\\\\": 2}, {\\\\\\\\\\\\\\\"column\\\\\\\\\\\\\\\": {\\\\\\\\\\\\\\\"type\\\\\\\\\\\\\\\": 2, \\\\\\\\\\\\\\\"details\\\\\\\\\\\\\\\": {\\\\\\\\\\\\\\\"selectedColumn\\\\\\\\\\\\\\\": \\\\\\\\\\\\\\\"disease_nonmalignant\\\\\\\\\\\\\\\"}}, \\\\\\\\\\\\\\\"typeProperty\\\\\\\\\\\\\\\": 2}, {\\\\\\\\\\\\\\\"column\\\\\\\\\\\\\\\": {\\\\\\\\\\\\\\\"type\\\\\\\\\\\\\\\": 2, \\\\\\\\\\\\\\\"details\\\\\\\\\\\\\\\": {\\\\\\\\\\\\\\\"selectedColumn\\\\\\\\\\\\\\\": \\\\\\\\\\\\\\\"disease_group_malignant\\\\\\\\\\\\\\\"}}, \\\\\\\\\\\\\\\"typeProperty\\\\\\\\\\\\\\\": 2}, {\\\\\\\\\\\\\\\"column\\\\\\\\\\\\\\\": {\\\\\\\\\\\\\\\"type\\\\\\\\\\\\\\\": 2, \\\\\\\\\\\\\\\"details\\\\\\\\\\\\\\\": {\\\\\\\\\\\\\\\"selectedColumn\\\\\\\\\\\\\\\": \\\\\\\\\\\\\\\"disease_group_nonmalignant\\\\\\\\\\\\\\\"}}, \\\\\\\\\\\\\\\"typeProperty\\\\\\\\\\\\\\\": 2}, {\\\\\\\\\\\\\\\"column\\\\\\\\\\\\\\\": {\\\\\\\\\\\\\\\"type\\\\\\\\\\\\\\\": 2, \\\\\\\\\\\\\\\"details\\\\\\\\\\\\\\\": {\\\\\\\\\\\\\\\"selectedColumn\\\\\\\\\\\\\\\": \\\\\\\\\\\\\\\"CMV_status_0\\\\\\\\\\\\\\\"}}, \\\\\\\\\\\\\\\"typeProperty\\\\\\\\\\\\\\\": 2}, {\\\\\\\\\\\\\\\"column\\\\\\\\\\\\\\\": {\\\\\\\\\\\\\\\"type\\\\\\\\\\\\\\\": 2, \\\\\\\\\\\\\\\"details\\\\\\\\\\\\\\\": {\\\\\\\\\\\\\\\"selectedColumn\\\\\\\\\\\\\\\": \\\\\\\\\\\\\\\"CMV_status_1\\\\\\\\\\\\\\\"}}, \\\\\\\\\\\\\\\"typeProperty\\\\\\\\\\\\\\\": 2}, {\\\\\\\\\\\\\\\"column\\\\\\\\\\\\\\\": {\\\\\\\\\\\\\\\"type\\\\\\\\\\\\\\\": 2, \\\\\\\\\\\\\\\"details\\\\\\\\\\\\\\\": {\\\\\\\\\\\\\\\"selectedColumn\\\\\\\\\\\\\\\": \\\\\\\\\\\\\\\"CMV_status_2\\\\\\\\\\\\\\\"}}, \\\\\\\\\\\\\\\"typeProperty\\\\\\\\\\\\\\\": 2}, {\\\\\\\\\\\\\\\"column\\\\\\\\\\\\\\\": {\\\\\\\\\\\\\\\"type\\\\\\\\\\\\\\\": 2, \\\\\\\\\\\\\\\"details\\\\\\\\\\\\\\\": {\\\\\\\\\\\\\\\"selectedColumn\\\\\\\\\\\\\\\": \\\\\\\\\\\\\\\"CMV_status_3\\\\\\\\\\\\\\\"}}, \\\\\\\\\\\\\\\"typeProperty\\\\\\\\\\\\\\\": 2}, {\\\\\\\\\\\\\\\"column\\\\\\\\\\\\\\\": {\\\\\\\\\\\\\\\"type\\\\\\\\\\\\\\\": 2, \\\\\\\\\\\\\\\"details\\\\\\\\\\\\\\\": {\\\\\\\\\\\\\\\"selectedColumn\\\\\\\\\\\\\\\": \\\\\\\\\\\\\\\"HLA_match_10/10\\\\\\\\\\\\\\\"}}, \\\\\\\\\\\\\\\"typeProperty\\\\\\\\\\\\\\\": 2}, {\\\\\\\\\\\\\\\"column\\\\\\\\\\\\\\\": {\\\\\\\\\\\\\\\"type\\\\\\\\\\\\\\\": 2, \\\\\\\\\\\\\\\"details\\\\\\\\\\\\\\\": {\\\\\\\\\\\\\\\"selectedColumn\\\\\\\\\\\\\\\": \\\\\\\\\\\\\\\"HLA_match_7/10\\\\\\\\\\\\\\\"}}, \\\\\\\\\\\\\\\"typeProperty\\\\\\\\\\\\\\\": 2}, {\\\\\\\\\\\\\\\"column\\\\\\\\\\\\\\\": {\\\\\\\\\\\\\\\"type\\\\\\\\\\\\\\\": 2, \\\\\\\\\\\\\\\"details\\\\\\\\\\\\\\\": {\\\\\\\\\\\\\\\"selectedColumn\\\\\\\\\\\\\\\": \\\\\\\\\\\\\\\"HLA_match_8/10\\\\\\\\\\\\\\\"}}, \\\\\\\\\\\\\\\"typeProperty\\\\\\\\\\\\\\\": 2}, {\\\\\\\\\\\\\\\"column\\\\\\\\\\\\\\\": {\\\\\\\\\\\\\\\"type\\\\\\\\\\\\\\\": 2, \\\\\\\\\\\\\\\"details\\\\\\\\\\\\\\\": {\\\\\\\\\\\\\\\"selectedColumn\\\\\\\\\\\\\\\": \\\\\\\\\\\\\\\"HLA_match_9/10\\\\\\\\\\\\\\\"}}, \\\\\\\\\\\\\\\"typeProperty\\\\\\\\\\\\\\\": 2}, {\\\\\\\\\\\\\\\"column\\\\\\\\\\\\\\\": {\\\\\\\\\\\\\\\"type\\\\\\\\\\\\\\\": 2, \\\\\\\\\\\\\\\"details\\\\\\\\\\\\\\\": {\\\\\\\\\\\\\\\"selectedColumn\\\\\\\\\\\\\\\": \\\\\\\\\\\\\\\"antigen_0\\\\\\\\\\\\\\\"}}, \\\\\\\\\\\\\\\"typeProperty\\\\\\\\\\\\\\\": 2}, {\\\\\\\\\\\\\\\"column\\\\\\\\\\\\\\\": {\\\\\\\\\\\\\\\"type\\\\\\\\\\\\\\\": 2, \\\\\\\\\\\\\\\"details\\\\\\\\\\\\\\\": {\\\\\\\\\\\\\\\"selectedColumn\\\\\\\\\\\\\\\": \\\\\\\\\\\\\\\"antigen_1\\\\\\\\\\\\\\\"}}, \\\\\\\\\\\\\\\"typeProperty\\\\\\\\\\\\\\\": 2}, {\\\\\\\\\\\\\\\"column\\\\\\\\\\\\\\\": {\\\\\\\\\\\\\\\"type\\\\\\\\\\\\\\\": 2, \\\\\\\\\\\\\\\"details\\\\\\\\\\\\\\\": {\\\\\\\\\\\\\\\"selectedColumn\\\\\\\\\\\\\\\": \\\\\\\\\\\\\\\"antigen_2\\\\\\\\\\\\\\\"}}, \\\\\\\\\\\\\\\"typeProperty\\\\\\\\\\\\\\\": 2}, {\\\\\\\\\\\\\\\"column\\\\\\\\\\\\\\\": {\\\\\\\\\\\\\\\"type\\\\\\\\\\\\\\\": 2, \\\\\\\\\\\\\\\"details\\\\\\\\\\\\\\\": {\\\\\\\\\\\\\\\"selectedColumn\\\\\\\\\\\\\\\": \\\\\\\\\\\\\\\"antigen_3\\\\\\\\\\\\\\\"}}, \\\\\\\\\\\\\\\"typeProperty\\\\\\\\\\\\\\\": 2}, {\\\\\\\\\\\\\\\"column\\\\\\\\\\\\\\\": {\\\\\\\\\\\\\\\"type\\\\\\\\\\\\\\\": 2, \\\\\\\\\\\\\\\"details\\\\\\\\\\\\\\\": {\\\\\\\\\\\\\\\"selectedColumn\\\\\\\\\\\\\\\": \\\\\\\\\\\\\\\"allel_0\\\\\\\\\\\\\\\"}}, \\\\\\\\\\\\\\\"typeProperty\\\\\\\\\\\\\\\": 2}, {\\\\\\\\\\\\\\\"column\\\\\\\\\\\\\\\": {\\\\\\\\\\\\\\\"type\\\\\\\\\\\\\\\": 2, \\\\\\\\\\\\\\\"details\\\\\\\\\\\\\\\": {\\\\\\\\\\\\\\\"selectedColumn\\\\\\\\\\\\\\\": \\\\\\\\\\\\\\\"allel_1\\\\\\\\\\\\\\\"}}, \\\\\\\\\\\\\\\"typeProperty\\\\\\\\\\\\\\\": 2}, {\\\\\\\\\\\\\\\"column\\\\\\\\\\\\\\\": {\\\\\\\\\\\\\\\"type\\\\\\\\\\\\\\\": 2, \\\\\\\\\\\\\\\"details\\\\\\\\\\\\\\\": {\\\\\\\\\\\\\\\"selectedColumn\\\\\\\\\\\\\\\": \\\\\\\\\\\\\\\"allel_2\\\\\\\\\\\\\\\"}}, \\\\\\\\\\\\\\\"typeProperty\\\\\\\\\\\\\\\": 2}, {\\\\\\\\\\\\\\\"column\\\\\\\\\\\\\\\": {\\\\\\\\\\\\\\\"type\\\\\\\\\\\\\\\": 2, \\\\\\\\\\\\\\\"details\\\\\\\\\\\\\\\": {\\\\\\\\\\\\\\\"selectedColumn\\\\\\\\\\\\\\\": \\\\\\\\\\\\\\\"allel_3\\\\\\\\\\\\\\\"}}, \\\\\\\\\\\\\\\"typeProperty\\\\\\\\\\\\\\\": 2}, {\\\\\\\\\\\\\\\"column\\\\\\\\\\\\\\\": {\\\\\\\\\\\\\\\"type\\\\\\\\\\\\\\\": 2, \\\\\\\\\\\\\\\"details\\\\\\\\\\\\\\\": {\\\\\\\\\\\\\\\"selectedColumn\\\\\\\\\\\\\\\": \\\\\\\\\\\\\\\"allel_4\\\\\\\\\\\\\\\"}}, \\\\\\\\\\\\\\\"typeProperty\\\\\\\\\\\\\\\": 2}, {\\\\\\\\\\\\\\\"column\\\\\\\\\\\\\\\": {\\\\\\\\\\\\\\\"type\\\\\\\\\\\\\\\": 2, \\\\\\\\\\\\\\\"details\\\\\\\\\\\\\\\": {\\\\\\\\\\\\\\\"selectedColumn\\\\\\\\\\\\\\\": \\\\\\\\\\\\\\\"HLA_group_1_DRB1_cell\\\\\\\\\\\\\\\"}}, \\\\\\\\\\\\\\\"typeProperty\\\\\\\\\\\\\\\": 2}, {\\\\\\\\\\\\\\\"column\\\\\\\\\\\\\\\": {\\\\\\\\\\\\\\\"type\\\\\\\\\\\\\\\": 2, \\\\\\\\\\\\\\\"details\\\\\\\\\\\\\\\": {\\\\\\\\\\\\\\\"selectedColumn\\\\\\\\\\\\\\\": \\\\\\\\\\\\\\\"HLA_group_1_matched\\\\\\\\\\\\\\\"}}, \\\\\\\\\\\\\\\"typeProperty\\\\\\\\\\\\\\\": 2}, {\\\\\\\\\\\\\\\"column\\\\\\\\\\\\\\\": {\\\\\\\\\\\\\\\"type\\\\\\\\\\\\\\\": 2, \\\\\\\\\\\\\\\"details\\\\\\\\\\\\\\\": {\\\\\\\\\\\\\\\"selectedColumn\\\\\\\\\\\\\\\": \\\\\\\\\\\\\\\"HLA_group_1_mismatched\\\\\\\\\\\\\\\"}}, \\\\\\\\\\\\\\\"typeProperty\\\\\\\\\\\\\\\": 2}, {\\\\\\\\\\\\\\\"column\\\\\\\\\\\\\\\": {\\\\\\\\\\\\\\\"type\\\\\\\\\\\\\\\": 2, \\\\\\\\\\\\\\\"details\\\\\\\\\\\\\\\": {\\\\\\\\\\\\\\\"selectedColumn\\\\\\\\\\\\\\\": \\\\\\\\\\\\\\\"HLA_group_1_one_allel\\\\\\\\\\\\\\\"}}, \\\\\\\\\\\\\\\"typeProperty\\\\\\\\\\\\\\\": 2}, {\\\\\\\\\\\\\\\"column\\\\\\\\\\\\\\\": {\\\\\\\\\\\\\\\"type\\\\\\\\\\\\\\\": 2, \\\\\\\\\\\\\\\"details\\\\\\\\\\\\\\\": {\\\\\\\\\\\\\\\"selectedColumn\\\\\\\\\\\\\\\": \\\\\\\\\\\\\\\"HLA_group_1_one_antigen\\\\\\\\\\\\\\\"}}, \\\\\\\\\\\\\\\"typeProperty\\\\\\\\\\\\\\\": 2}, {\\\\\\\\\\\\\\\"column\\\\\\\\\\\\\\\": {\\\\\\\\\\\\\\\"type\\\\\\\\\\\\\\\": 2, \\\\\\\\\\\\\\\"details\\\\\\\\\\\\\\\": {\\\\\\\\\\\\\\\"selectedColumn\\\\\\\\\\\\\\\": \\\\\\\\\\\\\\\"HLA_group_1_three_diffs\\\\\\\\\\\\\\\"}}, \\\\\\\\\\\\\\\"typeProperty\\\\\\\\\\\\\\\": 2}, {\\\\\\\\\\\\\\\"column\\\\\\\\\\\\\\\": {\\\\\\\\\\\\\\\"type\\\\\\\\\\\\\\\": 2, \\\\\\\\\\\\\\\"details\\\\\\\\\\\\\\\": {\\\\\\\\\\\\\\\"selectedColumn\\\\\\\\\\\\\\\": \\\\\\\\\\\\\\\"HLA_group_1_two_diffs\\\\\\\\\\\\\\\"}}, \\\\\\\\\\\\\\\"typeProperty\\\\\\\\\\\\\\\": 2}, {\\\\\\\\\\\\\\\"column\\\\\\\\\\\\\\\": {\\\\\\\\\\\\\\\"type\\\\\\\\\\\\\\\": 2, \\\\\\\\\\\\\\\"details\\\\\\\\\\\\\\\": {\\\\\\\\\\\\\\\"selectedColumn\\\\\\\\\\\\\\\": \\\\\\\\\\\\\\\"survival_status\\\\\\\\\\\\\\\"}}, \\\\\\\\\\\\\\\"typeProperty\\\\\\\\\\\\\\\": 2}]}, \\\\\\\\\\\\\\\"localData\\\\\\\\\\\\\\\": {}, \\\\\\\\\\\\\\\"isEnabled\\\\\\\\\\\\\\\": true, \\\\\\\\\\\\\\\"name\\\\\\\\\\\\\\\": null, \\\\\\\\\\\\\\\"annotation\\\\\\\\\\\\\\\": null}], \\\\\\\\\\\\\\\"inspectors\\\\\\\\\\\\\\\": [], \\\\\\\\\\\\\\\"meta\\\\\\\\\\\\\\\": {\\\\\\\\\\\\\\\"savedDatasetId\\\\\\\\\\\\\\\": \\\\\\\\\\\\\\\"ab9b1155-5219-4358-992b-86fa5029994b\\\\\\\\\\\\\\\", \\\\\\\\\\\\\\\"datasetType\\\\\\\\\\\\\\\": \\\\\\\\\\\\\\\"tabular\\\\\\\\\\\\\\\", \\\\\\\\\\\\\\\"subscriptionId\\\\\\\\\\\\\\\": \\\\\\\\\\\\\\\"a0f586ec-8016-4ea9-8248-9bf2299ad437\\\\\\\\\\\\\\\", \\\\\\\\\\\\\\\"workspaceId\\\\\\\\\\\\\\\": \\\\\\\\\\\\\\\"2f28b882-1796-430c-b045-60260920675a\\\\\\\\\\\\\\\", \\\\\\\\\\\\\\\"workspaceLocation\\\\\\\\\\\\\\\": \\\\\\\\\\\\\\\"southcentralus\\\\\\\\\\\\\\\"}}\\\\\\\", \\\\\\\"activities\\\\\\\": 0}\", \"EnableSubsampling\": \"False\", \"runTemplate\": \"AutoML\", \"azureml.runsource\": \"automl\", \"display_task_type\": \"classification\", \"dependencies_versions\": \"{\\\"azureml-widgets\\\": \\\"1.18.0\\\", \\\"azureml-train\\\": \\\"1.18.0\\\", \\\"azureml-train-restclients-hyperdrive\\\": \\\"1.18.0\\\", \\\"azureml-train-core\\\": \\\"1.18.0\\\", \\\"azureml-train-automl\\\": \\\"1.18.0\\\", \\\"azureml-train-automl-runtime\\\": \\\"1.18.0\\\", \\\"azureml-train-automl-client\\\": \\\"1.18.0\\\", \\\"azureml-tensorboard\\\": \\\"1.18.0\\\", \\\"azureml-telemetry\\\": \\\"1.18.0\\\", \\\"azureml-sdk\\\": \\\"1.18.0\\\", \\\"azureml-samples\\\": \\\"0+unknown\\\", \\\"azureml-pipeline\\\": \\\"1.18.0\\\", \\\"azureml-pipeline-steps\\\": \\\"1.18.0\\\", \\\"azureml-pipeline-core\\\": \\\"1.18.0\\\", \\\"azureml-opendatasets\\\": \\\"1.18.0\\\", \\\"azureml-model-management-sdk\\\": \\\"1.0.1b6.post1\\\", \\\"azureml-mlflow\\\": \\\"1.18.0\\\", \\\"azureml-interpret\\\": \\\"1.18.0\\\", \\\"azureml-explain-model\\\": \\\"1.18.0\\\", \\\"azureml-defaults\\\": \\\"1.18.0\\\", \\\"azureml-dataset-runtime\\\": \\\"1.18.0\\\", \\\"azureml-dataprep\\\": \\\"2.4.2\\\", \\\"azureml-dataprep-rslex\\\": \\\"1.2.2\\\", \\\"azureml-dataprep-native\\\": \\\"24.0.0\\\", \\\"azureml-datadrift\\\": \\\"1.18.0\\\", \\\"azureml-core\\\": \\\"1.18.0\\\", \\\"azureml-contrib-services\\\": \\\"1.18.0\\\", \\\"azureml-contrib-server\\\": \\\"1.18.0\\\", \\\"azureml-contrib-reinforcementlearning\\\": \\\"1.18.0\\\", \\\"azureml-contrib-pipeline-steps\\\": \\\"1.18.0\\\", \\\"azureml-contrib-notebook\\\": \\\"1.18.0\\\", \\\"azureml-contrib-interpret\\\": \\\"1.18.0\\\", \\\"azureml-contrib-gbdt\\\": \\\"1.18.0\\\", \\\"azureml-contrib-fairness\\\": \\\"1.18.0\\\", \\\"azureml-contrib-dataset\\\": \\\"1.18.0\\\", \\\"azureml-cli-common\\\": \\\"1.18.0\\\", \\\"azureml-automl-runtime\\\": \\\"1.18.0\\\", \\\"azureml-automl-core\\\": \\\"1.18.0\\\", \\\"azureml-accel-models\\\": \\\"1.18.0\\\"}\", \"_aml_system_scenario_identification\": \"Remote.Parent\", \"ClientType\": \"SDK\", \"environment_cpu_name\": \"AzureML-AutoML\", \"environment_cpu_version\": \"44\", \"environment_gpu_name\": \"AzureML-AutoML-GPU\", \"environment_gpu_version\": \"32\", \"root_attribution\": \"automl\", \"attribution\": \"AutoML\", \"Orchestrator\": \"AutoML\", \"CancelUri\": \"https://southcentralus.experiments.azureml.net/jasmine/v1.0/subscriptions/a0f586ec-8016-4ea9-8248-9bf2299ad437/resourceGroups/aml-quickstarts-127973/providers/Microsoft.MachineLearningServices/workspaces/quick-starts-ws-127973/experimentids/44d26013-47a6-4cdd-abc3-788660ece9e6/cancel/AutoML_0dc345fc-190d-4af4-9971-13c998ca6441\", \"ClientSdkVersion\": \"1.17.0\", \"snapshotId\": \"00000000-0000-0000-0000-000000000000\", \"SetupRunId\": \"AutoML_0dc345fc-190d-4af4-9971-13c998ca6441_setup\", \"SetupRunContainerId\": \"dcid.AutoML_0dc345fc-190d-4af4-9971-13c998ca6441_setup\", \"FeaturizationRunJsonPath\": \"featurizer_container.json\", \"FeaturizationRunId\": \"AutoML_0dc345fc-190d-4af4-9971-13c998ca6441_featurize\", \"ProblemInfoJsonString\": \"{\\\"dataset_num_categorical\\\": 0, \\\"is_sparse\\\": false, \\\"subsampling\\\": false, \\\"dataset_classes\\\": 2, \\\"dataset_features\\\": 69, \\\"dataset_samples\\\": 104, \\\"single_frequency_class_detected\\\": false}\", \"ModelExplainRunId\": \"AutoML_0dc345fc-190d-4af4-9971-13c998ca6441_ModelExplain\"}, \"tags\": {\"model_explain_run\": \"best_run\", \"_aml_system_azureml.automlComponent\": \"AutoML\", \"pipeline_id\": \"<c7af0367625be6ac5c2fecbfc72ed444cb7a2111>;<5dfac790c5c209f98a1da2dc1c7fb76f0397324f>;<cf1dc9b7ea4a50d759bce352343ec6737501695a>;<f873311e8cfb2bcdbeb6c20367cf912f4ee6733e>;<62c0e30b2e9113b3ecd95bcf5b31423c72074070>;<9e3f4780268658ad403e896559a8d3406152018c>;<b19eeb61727e9c4fbb5aa45fb6e9fe3fab5b1f04>;<713f188a27b176644f73e8664c667c674a2d3d62>;<47dd667bb7c34b68c9fffa6fd580565b1f85400f>;<e81d621ed176e5fac9def492d4ac54f304146b7c>;<59e4a1b86a57dfaeac5f3a051de6155ffc74f55b>;<52ac74da744a165756acc49238b34b81115532fd>;<a91f8b94ae9bf0dfc66e93d29d1ef41b7e2687f2>;<a2983da01504b121cc4056d933a1191b51be87bc>;<8de8c085d2a4b23d3f4cc392a2f2660d23d38c14>;<d8d1a28b70a271fc16185d8e06b7faeee4bdd817>;<80d7fafc6227885ab86e843212a0c5ea47a69004>;<4d4be808b8b6dd0f67e8354c79eddd3d712440a5>;<19bb9b610818186383462e6b1f9b568bc04b93e9>;<f86e0c37319548491774cfe027df9161ae6eecd2>;<9fd7f177a78effac65f3f97ae40ca91e296c3f10>;<9845a0ba1345a7474c237d10111bcf5bccbb1f0e>;<ce2643edf3d450b10c86c7d034a9bc952dc282d3>;<bc9206626b500d75953081471497ef8df99a5b5f>;<5d17b2a2a8090d01c86179e6577d7e60dd5f3c35>;<f278b8166760d8a4636eeaac50616b8292d033b1>;<be1ef63576c9bf239084ecda182b48071c3c26e3>;<51ae05309834b29f71340af1008fc94fbd8213f4>;<__AutoML_Ensemble__>;<__AutoML_Stack_Ensemble__>;\", \"score\": \"<0.6823809523809523>;<0.6257142857142857>;<0.6638095238095237>;<0.6433333333333333>;<0.6347619047619047>;<0.6152380952380951>;<0.6642857142857143>;<0.6628571428571428>;<0.6242857142857142>;<0.6142857142857143>;<0.6457142857142857>;<0.6328571428571428>;<0.6842857142857143>;<0.6628571428571429>;<0.6247619047619047>;<0.6538095238095238>;<0.7019047619047619>;<0.6442857142857144>;<0.5952380952380952>;<0.6247619047619047>;<0.6142857142857143>;<0.6714285714285715>;<0.6361904761904762>;<0.6147619047619047>;<0.6842857142857143>;<0.6747619047619048>;<0.6828571428571429>;<0.5947619047619048>;<0.7499999999999999>;<0.6638095238095237>;\", \"predicted_cost\": \"<0>;<0>;<0.5>;<0.5>;<0.011864940497950819>;<0.020546037789854026>;<0.5>;<0.015044399999999994>;<0.5>;<0.007127950617769194>;<0.009587970225501013>;<0.026994271767532902>;<0.006509209125736202>;<0.005045689300372493>;<0.017868581526728253>;<0.023011717267564517>;<0.017705342253194777>;<0.01979798576906779>;<0.0054054476738237735>;<0.02091078340956898>;<0.022325862263195516>;<0.024138476670422414>;<0.02776144159023244>;<0.004107217660582603>;<0.009935502202058497>;<0.0628977818414272>;<0.022937936827201424>;<0.023667556826788113>;<0>;<0>;\", \"fit_time\": \"<0.0394114>;<0.022278600000000003>;<0.0150444>;<0.0056386000000000006>;<0.055226399999999995>;<0.037012>;<0.0211726>;<0.0172486>;<0.0050894>;<0.0033756000000000003>;<0.0200724>;<0.0550794>;<0.015550999999999999>;<0.0047096>;<0.0214478>;<0.05496179999999999>;<0.014036799999999999>;<0.056237800000000004>;<0.004026200000000001>;<0.0136522>;<0.039269399999999996>;<0.0613158>;<0.0170764>;<0.0035552>;<0.0042122>;<0.481602>;<0.09810519999999999>;<0.017829400000000002>;<27>;<26>;\", \"training_percent\": \"<100>;<100>;<100>;<100>;<100>;<100>;<100>;<100>;<100>;<100>;<100>;<100>;<100>;<100>;<100>;<100>;<100>;<100>;<100>;<100>;<100>;<100>;<100>;<100>;<100>;<100>;<100>;<100>;<100>;<100>;\", \"iteration\": \"<1>;<0>;<2>;<3>;<7>;<8>;<4>;<6>;<5>;<9>;<10>;<12>;<13>;<11>;<14>;<16>;<17>;<15>;<18>;<20>;<19>;<21>;<22>;<24>;<27>;<25>;<26>;<23>;<28>;<29>;\", \"run_preprocessor\": \"<MaxAbsScaler>;<MaxAbsScaler>;<MinMaxScaler>;<StandardScalerWrapper>;<RobustScaler>;<StandardScalerWrapper>;<MinMaxScaler>;<StandardScalerWrapper>;<StandardScalerWrapper>;<StandardScalerWrapper>;<StandardScalerWrapper>;<RobustScaler>;<MinMaxScaler>;<MinMaxScaler>;<MinMaxScaler>;<MinMaxScaler>;<StandardScalerWrapper>;<MinMaxScaler>;<StandardScalerWrapper>;<StandardScalerWrapper>;<RobustScaler>;<MinMaxScaler>;<MaxAbsScaler>;<MaxAbsScaler>;<MinMaxScaler>;<RobustScaler>;<MinMaxScaler>;<MaxAbsScaler>;<>;<>;\", \"run_algorithm\": \"<XGBoostClassifier>;<LightGBM>;<RandomForest>;<SGD>;<ExtremeRandomTrees>;<ExtremeRandomTrees>;<RandomForest>;<RandomForest>;<SGD>;<SGD>;<SGD>;<ExtremeRandomTrees>;<SGD>;<SGD>;<ExtremeRandomTrees>;<ExtremeRandomTrees>;<RandomForest>;<ExtremeRandomTrees>;<SGD>;<RandomForest>;<ExtremeRandomTrees>;<ExtremeRandomTrees>;<RandomForest>;<SGD>;<KNN>;<RandomForest>;<RandomForest>;<ExtremeRandomTrees>;<VotingEnsemble>;<StackEnsemble>;\", \"dynamic_whitelisting_iterations\": \"<25>;\", \"automl_best_child_run_id\": \"AutoML_0dc345fc-190d-4af4-9971-13c998ca6441_28\", \"model_explain_best_run_child_id\": \"AutoML_0dc345fc-190d-4af4-9971-13c998ca6441_28\"}, \"end_time_utc\": \"2020-11-26T12:49:24.566384Z\", \"status\": \"Completed\", \"log_files\": {}, \"log_groups\": [], \"run_duration\": \"0:24:38\"}, \"child_runs\": [{\"run_id\": \"AutoML_0dc345fc-190d-4af4-9971-13c998ca6441_0\", \"run_number\": 5, \"metric\": null, \"status\": \"Completed\", \"run_type\": \"azureml.scriptrun\", \"training_percent\": \"100\", \"start_time\": \"2020-11-26T12:35:10.32475Z\", \"end_time\": \"2020-11-26T12:35:56.943838Z\", \"created_time\": \"2020-11-26T12:33:52.904726Z\", \"created_time_dt\": \"2020-11-26T12:33:52.904726Z\", \"duration\": \"0:02:04\", \"iteration\": \"0\", \"goal\": \"accuracy_max\", \"run_name\": \"MaxAbsScaler, LightGBM\", \"run_properties\": \"copy=True\", \"primary_metric\": 0.62571429, \"best_metric\": 0.62571429}, {\"run_id\": \"AutoML_0dc345fc-190d-4af4-9971-13c998ca6441_2\", \"run_number\": 6, \"metric\": null, \"status\": \"Completed\", \"run_type\": \"azureml.scriptrun\", \"training_percent\": \"100\", \"start_time\": \"2020-11-26T12:36:21.844764Z\", \"end_time\": \"2020-11-26T12:37:05.339556Z\", \"created_time\": \"2020-11-26T12:33:53.097208Z\", \"created_time_dt\": \"2020-11-26T12:33:53.097208Z\", \"duration\": \"0:03:12\", \"iteration\": \"2\", \"goal\": \"accuracy_max\", \"run_name\": \"MinMaxScaler, RandomForest\", \"run_properties\": \"copy=True, feature_range=(0, 1\", \"primary_metric\": 0.66380952, \"best_metric\": 0.68238095}, {\"run_id\": \"AutoML_0dc345fc-190d-4af4-9971-13c998ca6441_3\", \"run_number\": 7, \"metric\": null, \"status\": \"Completed\", \"run_type\": \"azureml.scriptrun\", \"training_percent\": \"100\", \"start_time\": \"2020-11-26T12:37:30.447567Z\", \"end_time\": \"2020-11-26T12:38:18.592712Z\", \"created_time\": \"2020-11-26T12:33:53.191449Z\", \"created_time_dt\": \"2020-11-26T12:33:53.191449Z\", \"duration\": \"0:04:25\", \"iteration\": \"3\", \"goal\": \"accuracy_max\", \"run_name\": \"StandardScalerWrapper, SGD\", \"run_properties\": \"<azureml.automl.runtime.shared.model_wrappers.StandardScalerWrapper object at 0x7fa594276d30\", \"primary_metric\": 0.64333333, \"best_metric\": 0.68238095}, {\"run_id\": \"AutoML_0dc345fc-190d-4af4-9971-13c998ca6441_1\", \"run_number\": 8, \"metric\": null, \"status\": \"Completed\", \"run_type\": \"azureml.scriptrun\", \"training_percent\": \"100\", \"start_time\": \"2020-11-26T12:34:04.844161Z\", \"end_time\": \"2020-11-26T12:34:44.855596Z\", \"created_time\": \"2020-11-26T12:33:52.909503Z\", \"created_time_dt\": \"2020-11-26T12:33:52.909503Z\", \"duration\": \"0:00:51\", \"iteration\": \"1\", \"goal\": \"accuracy_max\", \"run_name\": \"MaxAbsScaler, XGBoostClassifier\", \"run_properties\": \"copy=True\", \"primary_metric\": 0.68238095, \"best_metric\": 0.68238095}, {\"run_id\": \"AutoML_0dc345fc-190d-4af4-9971-13c998ca6441_4\", \"run_number\": 9, \"metric\": null, \"status\": \"Completed\", \"run_type\": \"azureml.scriptrun\", \"training_percent\": \"100\", \"start_time\": \"2020-11-26T12:38:10.846664Z\", \"end_time\": \"2020-11-26T12:41:22.662797Z\", \"created_time\": \"2020-11-26T12:34:51.68712Z\", \"created_time_dt\": \"2020-11-26T12:34:51.68712Z\", \"duration\": \"0:06:30\", \"iteration\": \"4\", \"goal\": \"accuracy_max\", \"run_name\": \"MinMaxScaler, RandomForest\", \"run_properties\": \"copy=True, feature_range=(0, 1\", \"primary_metric\": 0.66428571, \"best_metric\": 0.68238095}, {\"run_id\": \"AutoML_0dc345fc-190d-4af4-9971-13c998ca6441_5\", \"run_number\": 10, \"metric\": null, \"status\": \"Completed\", \"run_type\": \"azureml.scriptrun\", \"training_percent\": \"100\", \"start_time\": \"2020-11-26T12:38:07.701971Z\", \"end_time\": \"2020-11-26T12:41:23.069687Z\", \"created_time\": \"2020-11-26T12:35:58.437122Z\", \"created_time_dt\": \"2020-11-26T12:35:58.437122Z\", \"duration\": \"0:05:24\", \"iteration\": \"5\", \"goal\": \"accuracy_max\", \"run_name\": \"StandardScalerWrapper, SGD\", \"run_properties\": \"<azureml.automl.runtime.shared.model_wrappers.StandardScalerWrapper object at 0x7f2828d5eda0\", \"primary_metric\": 0.62428571, \"best_metric\": 0.68238095}, {\"run_id\": \"AutoML_0dc345fc-190d-4af4-9971-13c998ca6441_6\", \"run_number\": 11, \"metric\": null, \"status\": \"Completed\", \"run_type\": \"azureml.scriptrun\", \"training_percent\": \"100\", \"start_time\": \"2020-11-26T12:38:10.095433Z\", \"end_time\": \"2020-11-26T12:41:25.211168Z\", \"created_time\": \"2020-11-26T12:37:18.569399Z\", \"created_time_dt\": \"2020-11-26T12:37:18.569399Z\", \"duration\": \"0:04:06\", \"iteration\": \"6\", \"goal\": \"accuracy_max\", \"run_name\": \"StandardScalerWrapper, RandomForest\", \"run_properties\": \"<azureml.automl.runtime.shared.model_wrappers.StandardScalerWrapper object at 0x7fefb00934e0\", \"primary_metric\": 0.66285714, \"best_metric\": 0.68238095}, {\"run_id\": \"AutoML_0dc345fc-190d-4af4-9971-13c998ca6441_7\", \"run_number\": 12, \"metric\": null, \"status\": \"Completed\", \"run_type\": \"azureml.scriptrun\", \"training_percent\": \"100\", \"start_time\": \"2020-11-26T12:38:38.492992Z\", \"end_time\": \"2020-11-26T12:39:23.943099Z\", \"created_time\": \"2020-11-26T12:38:22.420289Z\", \"created_time_dt\": \"2020-11-26T12:38:22.420289Z\", \"duration\": \"0:01:01\", \"iteration\": \"7\", \"goal\": \"accuracy_max\", \"run_name\": \"RobustScaler, ExtremeRandomTrees\", \"run_properties\": \"copy=True, quantile_range=[10, 90], with_centering=False,\\n             with_scaling=False\", \"primary_metric\": 0.6347619, \"best_metric\": 0.68238095}, {\"run_id\": \"AutoML_0dc345fc-190d-4af4-9971-13c998ca6441_8\", \"run_number\": 13, \"metric\": null, \"status\": \"Completed\", \"run_type\": \"azureml.scriptrun\", \"training_percent\": \"100\", \"start_time\": \"2020-11-26T12:39:52.591193Z\", \"end_time\": \"2020-11-26T12:40:33.809658Z\", \"created_time\": \"2020-11-26T12:39:36.966913Z\", \"created_time_dt\": \"2020-11-26T12:39:36.966913Z\", \"duration\": \"0:00:56\", \"iteration\": \"8\", \"goal\": \"accuracy_max\", \"run_name\": \"StandardScalerWrapper, ExtremeRandomTrees\", \"run_properties\": \"<azureml.automl.runtime.shared.model_wrappers.StandardScalerWrapper object at 0x7f29c80b4f98\", \"primary_metric\": 0.6152381, \"best_metric\": 0.68238095}, {\"run_id\": \"AutoML_0dc345fc-190d-4af4-9971-13c998ca6441_9\", \"run_number\": 14, \"metric\": null, \"status\": \"Completed\", \"run_type\": \"azureml.scriptrun\", \"training_percent\": \"100\", \"start_time\": \"2020-11-26T12:40:59.815175Z\", \"end_time\": \"2020-11-26T12:41:48.95291Z\", \"created_time\": \"2020-11-26T12:40:41.069572Z\", \"created_time_dt\": \"2020-11-26T12:40:41.069572Z\", \"duration\": \"0:01:07\", \"iteration\": \"9\", \"goal\": \"accuracy_max\", \"run_name\": \"StandardScalerWrapper, SGD\", \"run_properties\": \"<azureml.automl.runtime.shared.model_wrappers.StandardScalerWrapper object at 0x7fa6d8225518\", \"primary_metric\": 0.61428571, \"best_metric\": 0.68238095}, {\"run_id\": \"AutoML_0dc345fc-190d-4af4-9971-13c998ca6441_11\", \"run_number\": 15, \"metric\": null, \"status\": \"Completed\", \"run_type\": \"azureml.scriptrun\", \"training_percent\": \"100\", \"start_time\": \"2020-11-26T12:41:56.246357Z\", \"end_time\": \"2020-11-26T12:42:42.153174Z\", \"created_time\": \"2020-11-26T12:41:30.920902Z\", \"created_time_dt\": \"2020-11-26T12:41:30.920902Z\", \"duration\": \"0:01:11\", \"iteration\": \"11\", \"goal\": \"accuracy_max\", \"run_name\": \"MinMaxScaler, SGD\", \"run_properties\": \"copy=True, feature_range=(0, 1\", \"primary_metric\": 0.66285714, \"best_metric\": 0.68238095}, {\"run_id\": \"AutoML_0dc345fc-190d-4af4-9971-13c998ca6441_12\", \"run_number\": 16, \"metric\": null, \"status\": \"Completed\", \"run_type\": \"azureml.scriptrun\", \"training_percent\": \"100\", \"start_time\": \"2020-11-26T12:42:12.262102Z\", \"end_time\": \"2020-11-26T12:42:56.224825Z\", \"created_time\": \"2020-11-26T12:41:31.053253Z\", \"created_time_dt\": \"2020-11-26T12:41:31.053253Z\", \"duration\": \"0:01:25\", \"iteration\": \"12\", \"goal\": \"accuracy_max\", \"run_name\": \"RobustScaler, ExtremeRandomTrees\", \"run_properties\": \"copy=True, quantile_range=[10, 90], with_centering=False,\\n             with_scaling=False\", \"primary_metric\": 0.63285714, \"best_metric\": 0.68238095}, {\"run_id\": \"AutoML_0dc345fc-190d-4af4-9971-13c998ca6441_10\", \"run_number\": 17, \"metric\": null, \"status\": \"Completed\", \"run_type\": \"azureml.scriptrun\", \"training_percent\": \"100\", \"start_time\": \"2020-11-26T12:41:59.114267Z\", \"end_time\": \"2020-11-26T12:42:35.524345Z\", \"created_time\": \"2020-11-26T12:41:30.921889Z\", \"created_time_dt\": \"2020-11-26T12:41:30.921889Z\", \"duration\": \"0:01:04\", \"iteration\": \"10\", \"goal\": \"accuracy_max\", \"run_name\": \"StandardScalerWrapper, SGD\", \"run_properties\": \"<azureml.automl.runtime.shared.model_wrappers.StandardScalerWrapper object at 0x7faee2a297b8\", \"primary_metric\": 0.64571429, \"best_metric\": 0.68238095}, {\"run_id\": \"AutoML_0dc345fc-190d-4af4-9971-13c998ca6441_13\", \"run_number\": 18, \"metric\": null, \"status\": \"Completed\", \"run_type\": \"azureml.scriptrun\", \"training_percent\": \"100\", \"start_time\": \"2020-11-26T12:42:11.218131Z\", \"end_time\": \"2020-11-26T12:42:54.524713Z\", \"created_time\": \"2020-11-26T12:41:53.440001Z\", \"created_time_dt\": \"2020-11-26T12:41:53.440001Z\", \"duration\": \"0:01:01\", \"iteration\": \"13\", \"goal\": \"accuracy_max\", \"run_name\": \"MinMaxScaler, SGD\", \"run_properties\": \"copy=True, feature_range=(0, 1\", \"primary_metric\": 0.68428571, \"best_metric\": 0.68428571}, {\"run_id\": \"AutoML_0dc345fc-190d-4af4-9971-13c998ca6441_14\", \"run_number\": 19, \"metric\": null, \"status\": \"Completed\", \"run_type\": \"azureml.scriptrun\", \"training_percent\": \"100\", \"start_time\": \"2020-11-26T12:43:25.070112Z\", \"end_time\": \"2020-11-26T12:43:48.563537Z\", \"created_time\": \"2020-11-26T12:42:44.005837Z\", \"created_time_dt\": \"2020-11-26T12:42:44.005837Z\", \"duration\": \"0:01:04\", \"iteration\": \"14\", \"goal\": \"accuracy_max\", \"run_name\": \"MinMaxScaler, ExtremeRandomTrees\", \"run_properties\": \"copy=True, feature_range=(0, 1\", \"primary_metric\": 0.6247619, \"best_metric\": 0.68428571}, {\"run_id\": \"AutoML_0dc345fc-190d-4af4-9971-13c998ca6441_15\", \"run_number\": 20, \"metric\": null, \"status\": \"Completed\", \"run_type\": \"azureml.scriptrun\", \"training_percent\": \"100\", \"start_time\": \"2020-11-26T12:43:40.890045Z\", \"end_time\": \"2020-11-26T12:44:28.366411Z\", \"created_time\": \"2020-11-26T12:43:06.432974Z\", \"created_time_dt\": \"2020-11-26T12:43:06.432974Z\", \"duration\": \"0:01:21\", \"iteration\": \"15\", \"goal\": \"accuracy_max\", \"run_name\": \"MinMaxScaler, ExtremeRandomTrees\", \"run_properties\": \"copy=True, feature_range=(0, 1\", \"primary_metric\": 0.64428571, \"best_metric\": 0.68428571}, {\"run_id\": \"AutoML_0dc345fc-190d-4af4-9971-13c998ca6441_17\", \"run_number\": 21, \"metric\": null, \"status\": \"Completed\", \"run_type\": \"azureml.scriptrun\", \"training_percent\": \"100\", \"start_time\": \"2020-11-26T12:43:25.188174Z\", \"end_time\": \"2020-11-26T12:44:05.555057Z\", \"created_time\": \"2020-11-26T12:43:06.547267Z\", \"created_time_dt\": \"2020-11-26T12:43:06.547267Z\", \"duration\": \"0:00:59\", \"iteration\": \"17\", \"goal\": \"accuracy_max\", \"run_name\": \"StandardScalerWrapper, RandomForest\", \"run_properties\": \"<azureml.automl.runtime.shared.model_wrappers.StandardScalerWrapper object at 0x7f4511d2aa58\", \"primary_metric\": 0.70190476, \"best_metric\": 0.70190476}, {\"run_id\": \"AutoML_0dc345fc-190d-4af4-9971-13c998ca6441_16\", \"run_number\": 22, \"metric\": null, \"status\": \"Completed\", \"run_type\": \"azureml.scriptrun\", \"training_percent\": \"100\", \"start_time\": \"2020-11-26T12:43:38.09001Z\", \"end_time\": \"2020-11-26T12:44:07.744489Z\", \"created_time\": \"2020-11-26T12:43:06.580329Z\", \"created_time_dt\": \"2020-11-26T12:43:06.580329Z\", \"duration\": \"0:01:01\", \"iteration\": \"16\", \"goal\": \"accuracy_max\", \"run_name\": \"MinMaxScaler, ExtremeRandomTrees\", \"run_properties\": \"copy=True, feature_range=(0, 1\", \"primary_metric\": 0.65380952, \"best_metric\": 0.68428571}, {\"run_id\": \"AutoML_0dc345fc-190d-4af4-9971-13c998ca6441_18\", \"run_number\": 23, \"metric\": null, \"status\": \"Completed\", \"run_type\": \"azureml.scriptrun\", \"training_percent\": \"100\", \"start_time\": \"2020-11-26T12:44:17.103513Z\", \"end_time\": \"2020-11-26T12:44:57.595866Z\", \"created_time\": \"2020-11-26T12:44:00.21233Z\", \"created_time_dt\": \"2020-11-26T12:44:00.21233Z\", \"duration\": \"0:00:57\", \"iteration\": \"18\", \"goal\": \"accuracy_max\", \"run_name\": \"StandardScalerWrapper, SGD\", \"run_properties\": \"<azureml.automl.runtime.shared.model_wrappers.StandardScalerWrapper object at 0x7f70385bef98\", \"primary_metric\": 0.5952381, \"best_metric\": 0.70190476}, {\"run_id\": \"AutoML_0dc345fc-190d-4af4-9971-13c998ca6441_19\", \"run_number\": 24, \"metric\": null, \"status\": \"Completed\", \"run_type\": \"azureml.scriptrun\", \"training_percent\": \"100\", \"start_time\": \"2020-11-26T12:44:36.205802Z\", \"end_time\": \"2020-11-26T12:45:20.079893Z\", \"created_time\": \"2020-11-26T12:44:20.134611Z\", \"created_time_dt\": \"2020-11-26T12:44:20.134611Z\", \"duration\": \"0:00:59\", \"iteration\": \"19\", \"goal\": \"accuracy_max\", \"run_name\": \"RobustScaler, ExtremeRandomTrees\", \"run_properties\": \"copy=True, quantile_range=[25, 75], with_centering=True,\\n             with_scaling=False\", \"primary_metric\": 0.61428571, \"best_metric\": 0.70190476}, {\"run_id\": \"AutoML_0dc345fc-190d-4af4-9971-13c998ca6441_20\", \"run_number\": 25, \"metric\": null, \"status\": \"Completed\", \"run_type\": \"azureml.scriptrun\", \"training_percent\": \"100\", \"start_time\": \"2020-11-26T12:44:32.383255Z\", \"end_time\": \"2020-11-26T12:45:19.40144Z\", \"created_time\": \"2020-11-26T12:44:20.165008Z\", \"created_time_dt\": \"2020-11-26T12:44:20.165008Z\", \"duration\": \"0:00:59\", \"iteration\": \"20\", \"goal\": \"accuracy_max\", \"run_name\": \"StandardScalerWrapper, RandomForest\", \"run_properties\": \"<azureml.automl.runtime.shared.model_wrappers.StandardScalerWrapper object at 0x7fa7b44bb320\", \"primary_metric\": 0.6247619, \"best_metric\": 0.70190476}, {\"run_id\": \"AutoML_0dc345fc-190d-4af4-9971-13c998ca6441_21\", \"run_number\": 26, \"metric\": null, \"status\": \"Completed\", \"run_type\": \"azureml.scriptrun\", \"training_percent\": \"100\", \"start_time\": \"2020-11-26T12:44:58.577355Z\", \"end_time\": \"2020-11-26T12:45:46.365326Z\", \"created_time\": \"2020-11-26T12:44:36.419438Z\", \"created_time_dt\": \"2020-11-26T12:44:36.419438Z\", \"duration\": \"0:01:09\", \"iteration\": \"21\", \"goal\": \"accuracy_max\", \"run_name\": \"MinMaxScaler, ExtremeRandomTrees\", \"run_properties\": \"copy=True, feature_range=(0, 1\", \"primary_metric\": 0.67142857, \"best_metric\": 0.70190476}, {\"run_id\": \"AutoML_0dc345fc-190d-4af4-9971-13c998ca6441_22\", \"run_number\": 27, \"metric\": null, \"status\": \"Completed\", \"run_type\": \"azureml.scriptrun\", \"training_percent\": \"100\", \"start_time\": \"2020-11-26T12:45:41.212376Z\", \"end_time\": \"2020-11-26T12:46:10.344598Z\", \"created_time\": \"2020-11-26T12:45:12.074452Z\", \"created_time_dt\": \"2020-11-26T12:45:12.074452Z\", \"duration\": \"0:00:58\", \"iteration\": \"22\", \"goal\": \"accuracy_max\", \"run_name\": \"MaxAbsScaler, RandomForest\", \"run_properties\": \"copy=True\", \"primary_metric\": 0.63619048, \"best_metric\": 0.70190476}, {\"run_id\": \"AutoML_0dc345fc-190d-4af4-9971-13c998ca6441_23\", \"run_number\": 28, \"metric\": null, \"status\": \"Completed\", \"run_type\": \"azureml.scriptrun\", \"training_percent\": \"100\", \"start_time\": \"2020-11-26T12:45:48.482475Z\", \"end_time\": \"2020-11-26T12:46:35.744962Z\", \"created_time\": \"2020-11-26T12:45:33.356794Z\", \"created_time_dt\": \"2020-11-26T12:45:33.356794Z\", \"duration\": \"0:01:02\", \"iteration\": \"23\", \"goal\": \"accuracy_max\", \"run_name\": \"MaxAbsScaler, ExtremeRandomTrees\", \"run_properties\": \"copy=True\", \"primary_metric\": 0.5947619, \"best_metric\": 0.70190476}, {\"run_id\": \"AutoML_0dc345fc-190d-4af4-9971-13c998ca6441_24\", \"run_number\": 29, \"metric\": null, \"status\": \"Completed\", \"run_type\": \"azureml.scriptrun\", \"training_percent\": \"100\", \"start_time\": \"2020-11-26T12:45:45.774883Z\", \"end_time\": \"2020-11-26T12:46:32.258489Z\", \"created_time\": \"2020-11-26T12:45:33.368703Z\", \"created_time_dt\": \"2020-11-26T12:45:33.368703Z\", \"duration\": \"0:00:58\", \"iteration\": \"24\", \"goal\": \"accuracy_max\", \"run_name\": \"MaxAbsScaler, SGD\", \"run_properties\": \"copy=True\", \"primary_metric\": 0.6147619, \"best_metric\": 0.70190476}, {\"run_id\": \"AutoML_0dc345fc-190d-4af4-9971-13c998ca6441_25\", \"run_number\": 30, \"metric\": null, \"status\": \"Completed\", \"run_type\": \"azureml.scriptrun\", \"training_percent\": \"100\", \"start_time\": \"2020-11-26T12:46:09.454039Z\", \"end_time\": \"2020-11-26T12:47:10.990007Z\", \"created_time\": \"2020-11-26T12:45:50.114786Z\", \"created_time_dt\": \"2020-11-26T12:45:50.114786Z\", \"duration\": \"0:01:20\", \"iteration\": \"25\", \"goal\": \"accuracy_max\", \"run_name\": \"RobustScaler, RandomForest\", \"run_properties\": \"copy=True, quantile_range=[25, 75], with_centering=True,\\n             with_scaling=False\", \"primary_metric\": 0.6747619, \"best_metric\": 0.70190476}, {\"run_id\": \"AutoML_0dc345fc-190d-4af4-9971-13c998ca6441_26\", \"run_number\": 31, \"metric\": null, \"status\": \"Completed\", \"run_type\": \"azureml.scriptrun\", \"training_percent\": \"100\", \"start_time\": \"2020-11-26T12:47:12.00298Z\", \"end_time\": \"2020-11-26T12:47:29.272766Z\", \"created_time\": \"2020-11-26T12:46:21.044467Z\", \"created_time_dt\": \"2020-11-26T12:46:21.044467Z\", \"duration\": \"0:01:08\", \"iteration\": \"26\", \"goal\": \"accuracy_max\", \"run_name\": \"MinMaxScaler, RandomForest\", \"run_properties\": \"copy=True, feature_range=(0, 1\", \"primary_metric\": 0.68285714, \"best_metric\": 0.70190476}, {\"run_id\": \"AutoML_0dc345fc-190d-4af4-9971-13c998ca6441_27\", \"run_number\": 32, \"metric\": null, \"status\": \"Completed\", \"run_type\": \"azureml.scriptrun\", \"training_percent\": \"100\", \"start_time\": \"2020-11-26T12:47:14.75191Z\", \"end_time\": \"2020-11-26T12:47:38.736259Z\", \"created_time\": \"2020-11-26T12:46:36.361265Z\", \"created_time_dt\": \"2020-11-26T12:46:36.361265Z\", \"duration\": \"0:01:02\", \"iteration\": \"27\", \"goal\": \"accuracy_max\", \"run_name\": \"MinMaxScaler, KNN\", \"run_properties\": \"copy=True, feature_range=(0, 1\", \"primary_metric\": 0.68428571, \"best_metric\": 0.70190476}, {\"run_id\": \"AutoML_0dc345fc-190d-4af4-9971-13c998ca6441_29\", \"run_number\": 33, \"metric\": null, \"status\": \"Completed\", \"run_type\": \"azureml.scriptrun\", \"training_percent\": \"100\", \"start_time\": \"2020-11-26T12:48:03.238444Z\", \"end_time\": \"2020-11-26T12:49:12.993603Z\", \"created_time\": \"2020-11-26T12:47:50.927861Z\", \"created_time_dt\": \"2020-11-26T12:47:50.927861Z\", \"duration\": \"0:01:22\", \"iteration\": \"29\", \"goal\": \"accuracy_max\", \"run_name\": \"StackEnsemble\", \"run_properties\": \"base_learners=[('17',\\n                                        Pipeline(memory=None,\\n                                                 steps=[('standardscalerwrapper',\\n                                                         <azureml.automl.runtime.shared.model_wrappers.StandardScalerWrapper object at 0x7f2948188b00>\", \"primary_metric\": 0.66380952, \"best_metric\": 0.75}, {\"run_id\": \"AutoML_0dc345fc-190d-4af4-9971-13c998ca6441_28\", \"run_number\": 34, \"metric\": null, \"status\": \"Completed\", \"run_type\": \"azureml.scriptrun\", \"training_percent\": \"100\", \"start_time\": \"2020-11-26T12:48:04.510974Z\", \"end_time\": \"2020-11-26T12:49:04.350013Z\", \"created_time\": \"2020-11-26T12:47:51.195896Z\", \"created_time_dt\": \"2020-11-26T12:47:51.195896Z\", \"duration\": \"0:01:13\", \"iteration\": \"28\", \"goal\": \"accuracy_max\", \"run_name\": \"VotingEnsemble\", \"run_properties\": \"classification_labels=None,\\n                              estimators=[('17',\\n                                           Pipeline(memory=None,\\n                                                    steps=[('standardscalerwrapper',\\n                                                            <azureml.automl.runtime.shared.model_wrappers.StandardScalerWrapper object at 0x7fa2d749da20>\", \"primary_metric\": 0.75, \"best_metric\": 0.75}], \"children_metrics\": {\"categories\": [0], \"series\": {\"average_precision_score_macro\": [{\"categories\": [\"0\", \"1\", \"2\", \"3\", \"4\", \"5\", \"6\", \"7\", \"8\", \"9\", \"10\", \"11\", \"12\", \"13\", \"14\", \"15\", \"16\", \"17\", \"18\", \"19\", \"20\", \"21\", \"22\", \"23\", \"24\", \"25\", \"26\", \"27\", \"28\", \"29\"], \"mode\": \"markers\", \"name\": \"average_precision_score_macro\", \"stepped\": false, \"type\": \"scatter\", \"data\": [0.5733214930181054, 0.7045972490930323, 0.6628270059886581, 0.6932519230928326, 0.5813723085945607, 0.7037901770309845, 0.644491581895122, 0.672296875392431, 0.6614598873429492, 0.6692756035064045, 0.6374544821546604, 0.6979339929253762, 0.6872946791514025, 0.6752021483019057, 0.687229404391551, 0.6746434180575225, 0.6956843896781327, 0.7582678598162801, 0.6928296316256841, 0.6407438808713687, 0.675576795599729, 0.7238867303180962, 0.6075964468310582, 0.6707549762164327, 0.6742001748506841, 0.6808423469109558, 0.6945517140769144, 0.5793628002783096, 0.7630000183423903, 0.745283913439783]}, {\"categories\": [\"0\", \"1\", \"2\", \"3\", \"4\", \"5\", \"6\", \"7\", \"8\", \"9\", \"10\", \"11\", \"12\", \"13\", \"14\", \"15\", \"16\", \"17\", \"18\", \"19\", \"20\", \"21\", \"22\", \"23\", \"24\", \"25\", \"26\", \"27\", \"28\", \"29\"], \"mode\": \"lines\", \"name\": \"average_precision_score_macro_max\", \"stepped\": true, \"type\": \"scatter\", \"data\": [0.5733214930181054, 0.7045972490930323, 0.7045972490930323, 0.7045972490930323, 0.7045972490930323, 0.7045972490930323, 0.7045972490930323, 0.7045972490930323, 0.7045972490930323, 0.7045972490930323, 0.7045972490930323, 0.7045972490930323, 0.7045972490930323, 0.7045972490930323, 0.7045972490930323, 0.7045972490930323, 0.7045972490930323, 0.7582678598162801, 0.7582678598162801, 0.7582678598162801, 0.7582678598162801, 0.7582678598162801, 0.7582678598162801, 0.7582678598162801, 0.7582678598162801, 0.7582678598162801, 0.7582678598162801, 0.7582678598162801, 0.7630000183423903, 0.7630000183423903]}], \"matthews_correlation\": [{\"categories\": [\"0\", \"1\", \"2\", \"3\", \"4\", \"5\", \"6\", \"7\", \"8\", \"9\", \"10\", \"11\", \"12\", \"13\", \"14\", \"15\", \"16\", \"17\", \"18\", \"19\", \"20\", \"21\", \"22\", \"23\", \"24\", \"25\", \"26\", \"27\", \"28\", \"29\"], \"mode\": \"markers\", \"name\": \"matthews_correlation\", \"stepped\": false, \"type\": \"scatter\", \"data\": [0.1362934813020564, 0.2795038159822158, 0.23092891176163607, 0.18704954750169275, 0.17861484632463723, 0.266061531937091, 0.20975512760727102, 0.09763569734325467, 0.11545078598838221, 0.15705721415507584, 0.002098120818554622, 0.30248270932151256, 0.21495715028305312, 0.06558171665817826, 0.10275825320642365, 0.190370942680969, 0.2124497828052883, 0.36582111992392174, 0.2224294697454165, 0.08739284704047703, 0.17341200226989245, 0.30147406049286507, 0.20221400852888785, 0.13762655833376833, 0.08851790778420185, 0.0, 0.20941502644870905, 0.07071067811865475, 0.4398374357893061, 0.19876976927705448]}, {\"categories\": [\"0\", \"1\", \"2\", \"3\", \"4\", \"5\", \"6\", \"7\", \"8\", \"9\", \"10\", \"11\", \"12\", \"13\", \"14\", \"15\", \"16\", \"17\", \"18\", \"19\", \"20\", \"21\", \"22\", \"23\", \"24\", \"25\", \"26\", \"27\", \"28\", \"29\"], \"mode\": \"lines\", \"name\": \"matthews_correlation_max\", \"stepped\": true, \"type\": \"scatter\", \"data\": [0.1362934813020564, 0.2795038159822158, 0.2795038159822158, 0.2795038159822158, 0.2795038159822158, 0.2795038159822158, 0.2795038159822158, 0.2795038159822158, 0.2795038159822158, 0.2795038159822158, 0.2795038159822158, 0.30248270932151256, 0.30248270932151256, 0.30248270932151256, 0.30248270932151256, 0.30248270932151256, 0.30248270932151256, 0.36582111992392174, 0.36582111992392174, 0.36582111992392174, 0.36582111992392174, 0.36582111992392174, 0.36582111992392174, 0.36582111992392174, 0.36582111992392174, 0.36582111992392174, 0.36582111992392174, 0.36582111992392174, 0.4398374357893061, 0.4398374357893061]}], \"precision_score_micro\": [{\"categories\": [\"0\", \"1\", \"2\", \"3\", \"4\", \"5\", \"6\", \"7\", \"8\", \"9\", \"10\", \"11\", \"12\", \"13\", \"14\", \"15\", \"16\", \"17\", \"18\", \"19\", \"20\", \"21\", \"22\", \"23\", \"24\", \"25\", \"26\", \"27\", \"28\", \"29\"], \"mode\": \"markers\", \"name\": \"precision_score_micro\", \"stepped\": false, \"type\": \"scatter\", \"data\": [0.6257142857142857, 0.6823809523809523, 0.6638095238095237, 0.6433333333333333, 0.6642857142857143, 0.6242857142857142, 0.6628571428571428, 0.6347619047619047, 0.6152380952380951, 0.6142857142857143, 0.6457142857142857, 0.6628571428571429, 0.6328571428571428, 0.6842857142857143, 0.6247619047619047, 0.6442857142857144, 0.6538095238095238, 0.7019047619047619, 0.5952380952380952, 0.6142857142857143, 0.6247619047619047, 0.6714285714285715, 0.6361904761904762, 0.5947619047619048, 0.6147619047619047, 0.6747619047619048, 0.6828571428571429, 0.6842857142857143, 0.7499999999999999, 0.6638095238095237]}, {\"categories\": [\"0\", \"1\", \"2\", \"3\", \"4\", \"5\", \"6\", \"7\", \"8\", \"9\", \"10\", \"11\", \"12\", \"13\", \"14\", \"15\", \"16\", \"17\", \"18\", \"19\", \"20\", \"21\", \"22\", \"23\", \"24\", \"25\", \"26\", \"27\", \"28\", \"29\"], \"mode\": \"lines\", \"name\": \"precision_score_micro_max\", \"stepped\": true, \"type\": \"scatter\", \"data\": [0.6257142857142857, 0.6823809523809523, 0.6823809523809523, 0.6823809523809523, 0.6823809523809523, 0.6823809523809523, 0.6823809523809523, 0.6823809523809523, 0.6823809523809523, 0.6823809523809523, 0.6823809523809523, 0.6823809523809523, 0.6823809523809523, 0.6842857142857143, 0.6842857142857143, 0.6842857142857143, 0.6842857142857143, 0.7019047619047619, 0.7019047619047619, 0.7019047619047619, 0.7019047619047619, 0.7019047619047619, 0.7019047619047619, 0.7019047619047619, 0.7019047619047619, 0.7019047619047619, 0.7019047619047619, 0.7019047619047619, 0.7499999999999999, 0.7499999999999999]}], \"balanced_accuracy\": [{\"categories\": [\"0\", \"1\", \"2\", \"3\", \"4\", \"5\", \"6\", \"7\", \"8\", \"9\", \"10\", \"11\", \"12\", \"13\", \"14\", \"15\", \"16\", \"17\", \"18\", \"19\", \"20\", \"21\", \"22\", \"23\", \"24\", \"25\", \"26\", \"27\", \"28\", \"29\"], \"mode\": \"markers\", \"name\": \"balanced_accuracy\", \"stepped\": false, \"type\": \"scatter\", \"data\": [0.5687267634326458, 0.6253119429590017, 0.6155233002291827, 0.5966208301502418, 0.5769900687547747, 0.6506951871657753, 0.5939699516170104, 0.5547924624395212, 0.5609014514896867, 0.5782709447415331, 0.508235294117647, 0.6651489686783804, 0.6048128342245989, 0.5162337662337662, 0.5607715813598166, 0.5985586962057551, 0.5866539343009931, 0.6911128087598677, 0.6248128342245989, 0.5350190985485103, 0.5932391138273491, 0.6386605551311433, 0.6046091163738222, 0.5685357779475426, 0.5584823020117138, 0.5, 0.584008148714031, 0.5166666666666667, 0.6771199388846447, 0.5880825057295646]}, {\"categories\": [\"0\", \"1\", \"2\", \"3\", \"4\", \"5\", \"6\", \"7\", \"8\", \"9\", \"10\", \"11\", \"12\", \"13\", \"14\", \"15\", \"16\", \"17\", \"18\", \"19\", \"20\", \"21\", \"22\", \"23\", \"24\", \"25\", \"26\", \"27\", \"28\", \"29\"], \"mode\": \"lines\", \"name\": \"balanced_accuracy_max\", \"stepped\": true, \"type\": \"scatter\", \"data\": [0.5687267634326458, 0.6253119429590017, 0.6253119429590017, 0.6253119429590017, 0.6253119429590017, 0.6506951871657753, 0.6506951871657753, 0.6506951871657753, 0.6506951871657753, 0.6506951871657753, 0.6506951871657753, 0.6651489686783804, 0.6651489686783804, 0.6651489686783804, 0.6651489686783804, 0.6651489686783804, 0.6651489686783804, 0.6911128087598677, 0.6911128087598677, 0.6911128087598677, 0.6911128087598677, 0.6911128087598677, 0.6911128087598677, 0.6911128087598677, 0.6911128087598677, 0.6911128087598677, 0.6911128087598677, 0.6911128087598677, 0.6911128087598677, 0.6911128087598677]}], \"AUC_micro\": [{\"categories\": [\"0\", \"1\", \"2\", \"3\", \"4\", \"5\", \"6\", \"7\", \"8\", \"9\", \"10\", \"11\", \"12\", \"13\", \"14\", \"15\", \"16\", \"17\", \"18\", \"19\", \"20\", \"21\", \"22\", \"23\", \"24\", \"25\", \"26\", \"27\", \"28\", \"29\"], \"mode\": \"markers\", \"name\": \"AUC_micro\", \"stepped\": false, \"type\": \"scatter\", \"data\": [0.6393197278911565, 0.733953514739229, 0.7110272108843537, 0.7074637188208616, 0.6496224489795919, 0.6574160997732426, 0.7445232426303854, 0.6903344671201814, 0.6885442176870749, 0.6895793650793651, 0.6992743764172336, 0.6504852607709751, 0.6540102040816327, 0.7358809523809524, 0.7244285714285714, 0.7032942176870748, 0.712218820861678, 0.7752585034013606, 0.6288684807256236, 0.6808117913832199, 0.6723219954648526, 0.7037324263038547, 0.6852743764172337, 0.6887426303854876, 0.6828934240362813, 0.7423117913832199, 0.7242312925170068, 0.6869716553287982, 0.7700827664399092, 0.7394421768707483]}, {\"categories\": [\"0\", \"1\", \"2\", \"3\", \"4\", \"5\", \"6\", \"7\", \"8\", \"9\", \"10\", \"11\", \"12\", \"13\", \"14\", \"15\", \"16\", \"17\", \"18\", \"19\", \"20\", \"21\", \"22\", \"23\", \"24\", \"25\", \"26\", \"27\", \"28\", \"29\"], \"mode\": \"lines\", \"name\": \"AUC_micro_max\", \"stepped\": true, \"type\": \"scatter\", \"data\": [0.6393197278911565, 0.733953514739229, 0.733953514739229, 0.733953514739229, 0.733953514739229, 0.733953514739229, 0.7445232426303854, 0.7445232426303854, 0.7445232426303854, 0.7445232426303854, 0.7445232426303854, 0.7445232426303854, 0.7445232426303854, 0.7445232426303854, 0.7445232426303854, 0.7445232426303854, 0.7445232426303854, 0.7752585034013606, 0.7752585034013606, 0.7752585034013606, 0.7752585034013606, 0.7752585034013606, 0.7752585034013606, 0.7752585034013606, 0.7752585034013606, 0.7752585034013606, 0.7752585034013606, 0.7752585034013606, 0.7752585034013606, 0.7752585034013606]}], \"precision_score_weighted\": [{\"categories\": [\"0\", \"1\", \"2\", \"3\", \"4\", \"5\", \"6\", \"7\", \"8\", \"9\", \"10\", \"11\", \"12\", \"13\", \"14\", \"15\", \"16\", \"17\", \"18\", \"19\", \"20\", \"21\", \"22\", \"23\", \"24\", \"25\", \"26\", \"27\", \"28\", \"29\"], \"mode\": \"markers\", \"name\": \"precision_score_weighted\", \"stepped\": false, \"type\": \"scatter\", \"data\": [0.6398642533936651, 0.7222720199190787, 0.6945121125373227, 0.6737245564892623, 0.6940392648287386, 0.7064275539275539, 0.6904554642369768, 0.6331189083820663, 0.6518112497524263, 0.6658773812555325, 0.48087361260293593, 0.7180841380841381, 0.688800505050505, 0.6123720611051438, 0.6261568359401177, 0.6687308958671189, 0.7194179894179893, 0.7474670637485763, 0.6916074666074665, 0.6420998202577151, 0.6613708513708514, 0.7334284016636957, 0.7004588394062078, 0.6603290418731597, 0.6263522040395106, 0.4696700680272109, 0.6762237094567922, 0.5319149659863944, 0.8154393336281881, 0.6833106575963719]}, {\"categories\": [\"0\", \"1\", \"2\", \"3\", \"4\", \"5\", \"6\", \"7\", \"8\", \"9\", \"10\", \"11\", \"12\", \"13\", \"14\", \"15\", \"16\", \"17\", \"18\", \"19\", \"20\", \"21\", \"22\", \"23\", \"24\", \"25\", \"26\", \"27\", \"28\", \"29\"], \"mode\": \"lines\", \"name\": \"precision_score_weighted_max\", \"stepped\": true, \"type\": \"scatter\", \"data\": [0.6398642533936651, 0.7222720199190787, 0.7222720199190787, 0.7222720199190787, 0.7222720199190787, 0.7222720199190787, 0.7222720199190787, 0.7222720199190787, 0.7222720199190787, 0.7222720199190787, 0.7222720199190787, 0.7222720199190787, 0.7222720199190787, 0.7222720199190787, 0.7222720199190787, 0.7222720199190787, 0.7222720199190787, 0.7474670637485763, 0.7474670637485763, 0.7474670637485763, 0.7474670637485763, 0.7474670637485763, 0.7474670637485763, 0.7474670637485763, 0.7474670637485763, 0.7474670637485763, 0.7474670637485763, 0.7474670637485763, 0.8154393336281881, 0.8154393336281881]}], \"log_loss\": [{\"categories\": [\"0\", \"1\", \"2\", \"3\", \"4\", \"5\", \"6\", \"7\", \"8\", \"9\", \"10\", \"11\", \"12\", \"13\", \"14\", \"15\", \"16\", \"17\", \"18\", \"19\", \"20\", \"21\", \"22\", \"23\", \"24\", \"25\", \"26\", \"27\", \"28\", \"29\"], \"mode\": \"markers\", \"name\": \"log_loss\", \"stepped\": false, \"type\": \"scatter\", \"data\": [0.8272229056675192, 0.695031847482929, 0.6161132872828342, 1.0736660999233785, 0.6701536996086394, 0.6566483642051646, 0.598735595223466, 0.6337106714417255, 0.6208415054080156, 2.565537645810288, 0.61969376600612, 0.6663603349155575, 0.6495765195496757, 0.6129522315521919, 0.6120760877933821, 0.6225367969373706, 0.6204480850481857, 0.5902646995901881, 0.6640496283066698, 0.97415867642201, 0.6373560087824774, 0.6165723587350571, 0.6743143301623145, 0.9940257472787426, 2.9422629093141692, 0.6348844326038188, 0.6131485115005353, 0.6544001089261308, 0.5862048966575598, 0.6129868076684599]}, {\"categories\": [\"0\", \"1\", \"2\", \"3\", \"4\", \"5\", \"6\", \"7\", \"8\", \"9\", \"10\", \"11\", \"12\", \"13\", \"14\", \"15\", \"16\", \"17\", \"18\", \"19\", \"20\", \"21\", \"22\", \"23\", \"24\", \"25\", \"26\", \"27\", \"28\", \"29\"], \"mode\": \"lines\", \"name\": \"log_loss_min\", \"stepped\": true, \"type\": \"scatter\", \"data\": [0.8272229056675192, 0.695031847482929, 0.6161132872828342, 0.6161132872828342, 0.6161132872828342, 0.6161132872828342, 0.598735595223466, 0.598735595223466, 0.598735595223466, 0.598735595223466, 0.598735595223466, 0.598735595223466, 0.598735595223466, 0.598735595223466, 0.598735595223466, 0.598735595223466, 0.598735595223466, 0.5902646995901881, 0.5902646995901881, 0.5902646995901881, 0.5902646995901881, 0.5902646995901881, 0.5902646995901881, 0.5902646995901881, 0.5902646995901881, 0.5902646995901881, 0.5902646995901881, 0.5902646995901881, 0.5862048966575598, 0.5862048966575598]}], \"f1_score_macro\": [{\"categories\": [\"0\", \"1\", \"2\", \"3\", \"4\", \"5\", \"6\", \"7\", \"8\", \"9\", \"10\", \"11\", \"12\", \"13\", \"14\", \"15\", \"16\", \"17\", \"18\", \"19\", \"20\", \"21\", \"22\", \"23\", \"24\", \"25\", \"26\", \"27\", \"28\", \"29\"], \"mode\": \"markers\", \"name\": \"f1_score_macro\", \"stepped\": false, \"type\": \"scatter\", \"data\": [0.5347447982125402, 0.5994353012887496, 0.5888126667548247, 0.5725786453998356, 0.5184223640580375, 0.599305173468789, 0.5897708841646551, 0.5017807091488633, 0.5213689700383248, 0.5506456043956044, 0.42255534471853257, 0.6240244621279105, 0.5817989063217095, 0.4395686595686595, 0.5059984768661075, 0.5600285346837071, 0.539069139672588, 0.6550339027758383, 0.568276197186263, 0.5121894527041586, 0.5624829480863964, 0.6139239926739926, 0.5417508417508416, 0.5356323514964488, 0.522406695139143, 0.3997413542574833, 0.5123610106368728, 0.4306937352098642, 0.6616674652917537, 0.4825910364145658]}, {\"categories\": [\"0\", \"1\", \"2\", \"3\", \"4\", \"5\", \"6\", \"7\", \"8\", \"9\", \"10\", \"11\", \"12\", \"13\", \"14\", \"15\", \"16\", \"17\", \"18\", \"19\", \"20\", \"21\", \"22\", \"23\", \"24\", \"25\", \"26\", \"27\", \"28\", \"29\"], \"mode\": \"lines\", \"name\": \"f1_score_macro_max\", \"stepped\": true, \"type\": \"scatter\", \"data\": [0.5347447982125402, 0.5994353012887496, 0.5994353012887496, 0.5994353012887496, 0.5994353012887496, 0.5994353012887496, 0.5994353012887496, 0.5994353012887496, 0.5994353012887496, 0.5994353012887496, 0.5994353012887496, 0.6240244621279105, 0.6240244621279105, 0.6240244621279105, 0.6240244621279105, 0.6240244621279105, 0.6240244621279105, 0.6550339027758383, 0.6550339027758383, 0.6550339027758383, 0.6550339027758383, 0.6550339027758383, 0.6550339027758383, 0.6550339027758383, 0.6550339027758383, 0.6550339027758383, 0.6550339027758383, 0.6550339027758383, 0.6616674652917537, 0.6616674652917537]}], \"AUC_weighted\": [{\"categories\": [\"0\", \"1\", \"2\", \"3\", \"4\", \"5\", \"6\", \"7\", \"8\", \"9\", \"10\", \"11\", \"12\", \"13\", \"14\", \"15\", \"16\", \"17\", \"18\", \"19\", \"20\", \"21\", \"22\", \"23\", \"24\", \"25\", \"26\", \"27\", \"28\", \"29\"], \"mode\": \"markers\", \"name\": \"AUC_weighted\", \"stepped\": false, \"type\": \"scatter\", \"data\": [0.5447701504844362, 0.7306294639067747, 0.6672858234202772, 0.6899678659342525, 0.523554391453551, 0.7062340087550172, 0.6532753707543624, 0.6449852668340064, 0.6644924636521276, 0.6877859022396837, 0.5914382722786083, 0.6705404586076855, 0.668386627378224, 0.6486946293668983, 0.7095309639007118, 0.6628544751233827, 0.6783741375338014, 0.7848232626383886, 0.6855867195362993, 0.637704657620624, 0.6467224465543794, 0.719523930784435, 0.6195372694532358, 0.680663053100028, 0.6725583566760037, 0.6680155698643094, 0.6773291134635672, 0.5346827215734778, 0.7755104466028836, 0.7798147137642936]}, {\"categories\": [\"0\", \"1\", \"2\", \"3\", \"4\", \"5\", \"6\", \"7\", \"8\", \"9\", \"10\", \"11\", \"12\", \"13\", \"14\", \"15\", \"16\", \"17\", \"18\", \"19\", \"20\", \"21\", \"22\", \"23\", \"24\", \"25\", \"26\", \"27\", \"28\", \"29\"], \"mode\": \"lines\", \"name\": \"AUC_weighted_max\", \"stepped\": true, \"type\": \"scatter\", \"data\": [0.5447701504844362, 0.7306294639067747, 0.7306294639067747, 0.7306294639067747, 0.7306294639067747, 0.7306294639067747, 0.7306294639067747, 0.7306294639067747, 0.7306294639067747, 0.7306294639067747, 0.7306294639067747, 0.7306294639067747, 0.7306294639067747, 0.7306294639067747, 0.7306294639067747, 0.7306294639067747, 0.7306294639067747, 0.7848232626383886, 0.7848232626383886, 0.7848232626383886, 0.7848232626383886, 0.7848232626383886, 0.7848232626383886, 0.7848232626383886, 0.7848232626383886, 0.7848232626383886, 0.7848232626383886, 0.7848232626383886, 0.7848232626383886, 0.7848232626383886]}], \"f1_score_weighted\": [{\"categories\": [\"0\", \"1\", \"2\", \"3\", \"4\", \"5\", \"6\", \"7\", \"8\", \"9\", \"10\", \"11\", \"12\", \"13\", \"14\", \"15\", \"16\", \"17\", \"18\", \"19\", \"20\", \"21\", \"22\", \"23\", \"24\", \"25\", \"26\", \"27\", \"28\", \"29\"], \"mode\": \"markers\", \"name\": \"f1_score_weighted\", \"stepped\": false, \"type\": \"scatter\", \"data\": [0.604608813613422, 0.6668803801562422, 0.6559994903131722, 0.6430133409415946, 0.6068406117741981, 0.6393777131952352, 0.6638483368894936, 0.5939111318508596, 0.6008932903018924, 0.6171947496947496, 0.5440209632239993, 0.6706691648070959, 0.639830288510155, 0.5827482027482027, 0.5884130330181498, 0.6255952093883128, 0.6160795143553764, 0.7037616306433512, 0.6081826868774087, 0.6006539538892481, 0.6231457622836932, 0.670430402930403, 0.6052339265672598, 0.5987553381584484, 0.6052193347449515, 0.550041101008843, 0.6143911057014505, 0.5697689921653055, 0.7279081164343657, 0.5817086834733893]}, {\"categories\": [\"0\", \"1\", \"2\", \"3\", \"4\", \"5\", \"6\", \"7\", \"8\", \"9\", \"10\", \"11\", \"12\", \"13\", \"14\", \"15\", \"16\", \"17\", \"18\", \"19\", \"20\", \"21\", \"22\", \"23\", \"24\", \"25\", \"26\", \"27\", \"28\", \"29\"], \"mode\": \"lines\", \"name\": \"f1_score_weighted_max\", \"stepped\": true, \"type\": \"scatter\", \"data\": [0.604608813613422, 0.6668803801562422, 0.6668803801562422, 0.6668803801562422, 0.6668803801562422, 0.6668803801562422, 0.6668803801562422, 0.6668803801562422, 0.6668803801562422, 0.6668803801562422, 0.6668803801562422, 0.6706691648070959, 0.6706691648070959, 0.6706691648070959, 0.6706691648070959, 0.6706691648070959, 0.6706691648070959, 0.7037616306433512, 0.7037616306433512, 0.7037616306433512, 0.7037616306433512, 0.7037616306433512, 0.7037616306433512, 0.7037616306433512, 0.7037616306433512, 0.7037616306433512, 0.7037616306433512, 0.7037616306433512, 0.7279081164343657, 0.7279081164343657]}], \"recall_score_weighted\": [{\"categories\": [\"0\", \"1\", \"2\", \"3\", \"4\", \"5\", \"6\", \"7\", \"8\", \"9\", \"10\", \"11\", \"12\", \"13\", \"14\", \"15\", \"16\", \"17\", \"18\", \"19\", \"20\", \"21\", \"22\", \"23\", \"24\", \"25\", \"26\", \"27\", \"28\", \"29\"], \"mode\": \"markers\", \"name\": \"recall_score_weighted\", \"stepped\": false, \"type\": \"scatter\", \"data\": [0.6257142857142857, 0.6823809523809523, 0.6638095238095237, 0.6433333333333333, 0.6642857142857143, 0.6242857142857142, 0.6628571428571428, 0.6347619047619047, 0.6152380952380951, 0.6142857142857143, 0.6457142857142857, 0.6628571428571429, 0.6328571428571428, 0.6842857142857143, 0.6247619047619047, 0.6442857142857144, 0.6538095238095238, 0.7019047619047619, 0.5952380952380952, 0.6142857142857143, 0.6247619047619047, 0.6714285714285715, 0.6361904761904762, 0.5947619047619048, 0.6147619047619047, 0.6747619047619048, 0.6828571428571429, 0.6842857142857143, 0.7499999999999999, 0.6638095238095237]}, {\"categories\": [\"0\", \"1\", \"2\", \"3\", \"4\", \"5\", \"6\", \"7\", \"8\", \"9\", \"10\", \"11\", \"12\", \"13\", \"14\", \"15\", \"16\", \"17\", \"18\", \"19\", \"20\", \"21\", \"22\", \"23\", \"24\", \"25\", \"26\", \"27\", \"28\", \"29\"], \"mode\": \"lines\", \"name\": \"recall_score_weighted_max\", \"stepped\": true, \"type\": \"scatter\", \"data\": [0.6257142857142857, 0.6823809523809523, 0.6823809523809523, 0.6823809523809523, 0.6823809523809523, 0.6823809523809523, 0.6823809523809523, 0.6823809523809523, 0.6823809523809523, 0.6823809523809523, 0.6823809523809523, 0.6823809523809523, 0.6823809523809523, 0.6842857142857143, 0.6842857142857143, 0.6842857142857143, 0.6842857142857143, 0.7019047619047619, 0.7019047619047619, 0.7019047619047619, 0.7019047619047619, 0.7019047619047619, 0.7019047619047619, 0.7019047619047619, 0.7019047619047619, 0.7019047619047619, 0.7019047619047619, 0.7019047619047619, 0.7499999999999999, 0.7499999999999999]}], \"recall_score_micro\": [{\"categories\": [\"0\", \"1\", \"2\", \"3\", \"4\", \"5\", \"6\", \"7\", \"8\", \"9\", \"10\", \"11\", \"12\", \"13\", \"14\", \"15\", \"16\", \"17\", \"18\", \"19\", \"20\", \"21\", \"22\", \"23\", \"24\", \"25\", \"26\", \"27\", \"28\", \"29\"], \"mode\": \"markers\", \"name\": \"recall_score_micro\", \"stepped\": false, \"type\": \"scatter\", \"data\": [0.6257142857142857, 0.6823809523809523, 0.6638095238095237, 0.6433333333333333, 0.6642857142857143, 0.6242857142857142, 0.6628571428571428, 0.6347619047619047, 0.6152380952380951, 0.6142857142857143, 0.6457142857142857, 0.6628571428571429, 0.6328571428571428, 0.6842857142857143, 0.6247619047619047, 0.6442857142857144, 0.6538095238095238, 0.7019047619047619, 0.5952380952380952, 0.6142857142857143, 0.6247619047619047, 0.6714285714285715, 0.6361904761904762, 0.5947619047619048, 0.6147619047619047, 0.6747619047619048, 0.6828571428571429, 0.6842857142857143, 0.7499999999999999, 0.6638095238095237]}, {\"categories\": [\"0\", \"1\", \"2\", \"3\", \"4\", \"5\", \"6\", \"7\", \"8\", \"9\", \"10\", \"11\", \"12\", \"13\", \"14\", \"15\", \"16\", \"17\", \"18\", \"19\", \"20\", \"21\", \"22\", \"23\", \"24\", \"25\", \"26\", \"27\", \"28\", \"29\"], \"mode\": \"lines\", \"name\": \"recall_score_micro_max\", \"stepped\": true, \"type\": \"scatter\", \"data\": [0.6257142857142857, 0.6823809523809523, 0.6823809523809523, 0.6823809523809523, 0.6823809523809523, 0.6823809523809523, 0.6823809523809523, 0.6823809523809523, 0.6823809523809523, 0.6823809523809523, 0.6823809523809523, 0.6823809523809523, 0.6823809523809523, 0.6842857142857143, 0.6842857142857143, 0.6842857142857143, 0.6842857142857143, 0.7019047619047619, 0.7019047619047619, 0.7019047619047619, 0.7019047619047619, 0.7019047619047619, 0.7019047619047619, 0.7019047619047619, 0.7019047619047619, 0.7019047619047619, 0.7019047619047619, 0.7019047619047619, 0.7499999999999999, 0.7499999999999999]}], \"accuracy\": [{\"categories\": [\"0\", \"1\", \"2\", \"3\", \"4\", \"5\", \"6\", \"7\", \"8\", \"9\", \"10\", \"11\", \"12\", \"13\", \"14\", \"15\", \"16\", \"17\", \"18\", \"19\", \"20\", \"21\", \"22\", \"23\", \"24\", \"25\", \"26\", \"27\", \"28\", \"29\"], \"mode\": \"markers\", \"name\": \"accuracy\", \"stepped\": false, \"type\": \"scatter\", \"data\": [0.6257142857142857, 0.6823809523809523, 0.6638095238095237, 0.6433333333333333, 0.6642857142857143, 0.6242857142857142, 0.6628571428571428, 0.6347619047619047, 0.6152380952380951, 0.6142857142857143, 0.6457142857142857, 0.6628571428571429, 0.6328571428571428, 0.6842857142857143, 0.6247619047619047, 0.6442857142857144, 0.6538095238095238, 0.7019047619047619, 0.5952380952380952, 0.6142857142857143, 0.6247619047619047, 0.6714285714285715, 0.6361904761904762, 0.5947619047619048, 0.6147619047619047, 0.6747619047619048, 0.6828571428571429, 0.6842857142857143, 0.7499999999999999, 0.6638095238095237]}, {\"categories\": [\"0\", \"1\", \"2\", \"3\", \"4\", \"5\", \"6\", \"7\", \"8\", \"9\", \"10\", \"11\", \"12\", \"13\", \"14\", \"15\", \"16\", \"17\", \"18\", \"19\", \"20\", \"21\", \"22\", \"23\", \"24\", \"25\", \"26\", \"27\", \"28\", \"29\"], \"mode\": \"lines\", \"name\": \"accuracy_max\", \"stepped\": true, \"type\": \"scatter\", \"data\": [0.6257142857142857, 0.6823809523809523, 0.6823809523809523, 0.6823809523809523, 0.6823809523809523, 0.6823809523809523, 0.6823809523809523, 0.6823809523809523, 0.6823809523809523, 0.6823809523809523, 0.6823809523809523, 0.6823809523809523, 0.6823809523809523, 0.6842857142857143, 0.6842857142857143, 0.6842857142857143, 0.6842857142857143, 0.7019047619047619, 0.7019047619047619, 0.7019047619047619, 0.7019047619047619, 0.7019047619047619, 0.7019047619047619, 0.7019047619047619, 0.7019047619047619, 0.7019047619047619, 0.7019047619047619, 0.7019047619047619, 0.7499999999999999, 0.7499999999999999]}], \"average_precision_score_micro\": [{\"categories\": [\"0\", \"1\", \"2\", \"3\", \"4\", \"5\", \"6\", \"7\", \"8\", \"9\", \"10\", \"11\", \"12\", \"13\", \"14\", \"15\", \"16\", \"17\", \"18\", \"19\", \"20\", \"21\", \"22\", \"23\", \"24\", \"25\", \"26\", \"27\", \"28\", \"29\"], \"mode\": \"markers\", \"name\": \"average_precision_score_micro\", \"stepped\": false, \"type\": \"scatter\", \"data\": [0.6389788787450528, 0.7366374342174598, 0.714688634878433, 0.7309864124704071, 0.6523539790366444, 0.6772939835864504, 0.7220179994589898, 0.7058727256747142, 0.7227451082795253, 0.6864412770497846, 0.7274895060658271, 0.6677479645927331, 0.6725305145806559, 0.7425788768276989, 0.7405421246571577, 0.7266304827883374, 0.710425860131382, 0.7740842645436512, 0.6569793870534216, 0.692328635568185, 0.7008872548783499, 0.722835302383828, 0.6862732199516713, 0.7214070563339117, 0.6831461221827755, 0.7476204147888769, 0.7072441053793053, 0.7046533311550552, 0.7650897092369837, 0.7449054026316906]}, {\"categories\": [\"0\", \"1\", \"2\", \"3\", \"4\", \"5\", \"6\", \"7\", \"8\", \"9\", \"10\", \"11\", \"12\", \"13\", \"14\", \"15\", \"16\", \"17\", \"18\", \"19\", \"20\", \"21\", \"22\", \"23\", \"24\", \"25\", \"26\", \"27\", \"28\", \"29\"], \"mode\": \"lines\", \"name\": \"average_precision_score_micro_max\", \"stepped\": true, \"type\": \"scatter\", \"data\": [0.6389788787450528, 0.7366374342174598, 0.7366374342174598, 0.7366374342174598, 0.7366374342174598, 0.7366374342174598, 0.7366374342174598, 0.7366374342174598, 0.7366374342174598, 0.7366374342174598, 0.7366374342174598, 0.7366374342174598, 0.7366374342174598, 0.7425788768276989, 0.7425788768276989, 0.7425788768276989, 0.7425788768276989, 0.7740842645436512, 0.7740842645436512, 0.7740842645436512, 0.7740842645436512, 0.7740842645436512, 0.7740842645436512, 0.7740842645436512, 0.7740842645436512, 0.7740842645436512, 0.7740842645436512, 0.7740842645436512, 0.7740842645436512, 0.7740842645436512]}], \"average_precision_score_weighted\": [{\"categories\": [\"0\", \"1\", \"2\", \"3\", \"4\", \"5\", \"6\", \"7\", \"8\", \"9\", \"10\", \"11\", \"12\", \"13\", \"14\", \"15\", \"16\", \"17\", \"18\", \"19\", \"20\", \"21\", \"22\", \"23\", \"24\", \"25\", \"26\", \"27\", \"28\", \"29\"], \"mode\": \"markers\", \"name\": \"average_precision_score_weighted\", \"stepped\": false, \"type\": \"scatter\", \"data\": [0.6515412492891485, 0.7788211191850067, 0.741522627510907, 0.7626850047547749, 0.6541987779203613, 0.7692199309384734, 0.7221008849722361, 0.7306142409587235, 0.7519354604087575, 0.7488855900618947, 0.7064194869989873, 0.745926374927757, 0.7525073533257413, 0.7374660164540195, 0.7624231640985842, 0.7467229403027722, 0.7466105510866679, 0.8201051661943966, 0.7586445021819302, 0.7250826379932417, 0.7372133679996351, 0.7856129654802254, 0.6870667117131072, 0.7580796448174821, 0.7398908849435165, 0.7467777148953065, 0.7532028580908501, 0.6629846236474388, 0.8237734635955556, 0.8161842173502943]}, {\"categories\": [\"0\", \"1\", \"2\", \"3\", \"4\", \"5\", \"6\", \"7\", \"8\", \"9\", \"10\", \"11\", \"12\", \"13\", \"14\", \"15\", \"16\", \"17\", \"18\", \"19\", \"20\", \"21\", \"22\", \"23\", \"24\", \"25\", \"26\", \"27\", \"28\", \"29\"], \"mode\": \"lines\", \"name\": \"average_precision_score_weighted_max\", \"stepped\": true, \"type\": \"scatter\", \"data\": [0.6515412492891485, 0.7788211191850067, 0.7788211191850067, 0.7788211191850067, 0.7788211191850067, 0.7788211191850067, 0.7788211191850067, 0.7788211191850067, 0.7788211191850067, 0.7788211191850067, 0.7788211191850067, 0.7788211191850067, 0.7788211191850067, 0.7788211191850067, 0.7788211191850067, 0.7788211191850067, 0.7788211191850067, 0.8201051661943966, 0.8201051661943966, 0.8201051661943966, 0.8201051661943966, 0.8201051661943966, 0.8201051661943966, 0.8201051661943966, 0.8201051661943966, 0.8201051661943966, 0.8201051661943966, 0.8201051661943966, 0.8237734635955556, 0.8237734635955556]}], \"weighted_accuracy\": [{\"categories\": [\"0\", \"1\", \"2\", \"3\", \"4\", \"5\", \"6\", \"7\", \"8\", \"9\", \"10\", \"11\", \"12\", \"13\", \"14\", \"15\", \"16\", \"17\", \"18\", \"19\", \"20\", \"21\", \"22\", \"23\", \"24\", \"25\", \"26\", \"27\", \"28\", \"29\"], \"mode\": \"markers\", \"name\": \"weighted_accuracy\", \"stepped\": false, \"type\": \"scatter\", \"data\": [0.6674961509713814, 0.7252430753513018, 0.6995793078415565, 0.6826042386762264, 0.7268244704821205, 0.6199322920024827, 0.7053865895778852, 0.6945986690476664, 0.6584211270893275, 0.6465277450947979, 0.7330773873289902, 0.6749027516584046, 0.6611935855822756, 0.7811117276205695, 0.6733002033882821, 0.6777473661923069, 0.7040056785358118, 0.7197911035241719, 0.5911829945514959, 0.6668188136878663, 0.6510564836192073, 0.7009039571180689, 0.6657837061087942, 0.6205002153960048, 0.6601185972047838, 0.7768712622036335, 0.7551892016664604, 0.7814689633530587, 0.8014177879151945, 0.7301241916665905]}, {\"categories\": [\"0\", \"1\", \"2\", \"3\", \"4\", \"5\", \"6\", \"7\", \"8\", \"9\", \"10\", \"11\", \"12\", \"13\", \"14\", \"15\", \"16\", \"17\", \"18\", \"19\", \"20\", \"21\", \"22\", \"23\", \"24\", \"25\", \"26\", \"27\", \"28\", \"29\"], \"mode\": \"lines\", \"name\": \"weighted_accuracy_max\", \"stepped\": true, \"type\": \"scatter\", \"data\": [0.6674961509713814, 0.7252430753513018, 0.7252430753513018, 0.7252430753513018, 0.7268244704821205, 0.7268244704821205, 0.7268244704821205, 0.7268244704821205, 0.7268244704821205, 0.7268244704821205, 0.7330773873289902, 0.7330773873289902, 0.7330773873289902, 0.7811117276205695, 0.7811117276205695, 0.7811117276205695, 0.7811117276205695, 0.7811117276205695, 0.7811117276205695, 0.7811117276205695, 0.7811117276205695, 0.7811117276205695, 0.7811117276205695, 0.7811117276205695, 0.7811117276205695, 0.7811117276205695, 0.7811117276205695, 0.7814689633530587, 0.8014177879151945, 0.8014177879151945]}], \"f1_score_micro\": [{\"categories\": [\"0\", \"1\", \"2\", \"3\", \"4\", \"5\", \"6\", \"7\", \"8\", \"9\", \"10\", \"11\", \"12\", \"13\", \"14\", \"15\", \"16\", \"17\", \"18\", \"19\", \"20\", \"21\", \"22\", \"23\", \"24\", \"25\", \"26\", \"27\", \"28\", \"29\"], \"mode\": \"markers\", \"name\": \"f1_score_micro\", \"stepped\": false, \"type\": \"scatter\", \"data\": [0.6257142857142857, 0.6823809523809523, 0.6638095238095237, 0.6433333333333333, 0.6642857142857143, 0.6242857142857142, 0.6628571428571428, 0.6347619047619047, 0.6152380952380951, 0.6142857142857143, 0.6457142857142857, 0.6628571428571429, 0.6328571428571428, 0.6842857142857143, 0.6247619047619047, 0.6442857142857144, 0.6538095238095238, 0.7019047619047619, 0.5952380952380952, 0.6142857142857143, 0.6247619047619047, 0.6714285714285715, 0.6361904761904762, 0.5947619047619048, 0.6147619047619047, 0.6747619047619048, 0.6828571428571429, 0.6842857142857143, 0.7499999999999999, 0.6638095238095237]}, {\"categories\": [\"0\", \"1\", \"2\", \"3\", \"4\", \"5\", \"6\", \"7\", \"8\", \"9\", \"10\", \"11\", \"12\", \"13\", \"14\", \"15\", \"16\", \"17\", \"18\", \"19\", \"20\", \"21\", \"22\", \"23\", \"24\", \"25\", \"26\", \"27\", \"28\", \"29\"], \"mode\": \"lines\", \"name\": \"f1_score_micro_max\", \"stepped\": true, \"type\": \"scatter\", \"data\": [0.6257142857142857, 0.6823809523809523, 0.6823809523809523, 0.6823809523809523, 0.6823809523809523, 0.6823809523809523, 0.6823809523809523, 0.6823809523809523, 0.6823809523809523, 0.6823809523809523, 0.6823809523809523, 0.6823809523809523, 0.6823809523809523, 0.6842857142857143, 0.6842857142857143, 0.6842857142857143, 0.6842857142857143, 0.7019047619047619, 0.7019047619047619, 0.7019047619047619, 0.7019047619047619, 0.7019047619047619, 0.7019047619047619, 0.7019047619047619, 0.7019047619047619, 0.7019047619047619, 0.7019047619047619, 0.7019047619047619, 0.7499999999999999, 0.7499999999999999]}], \"AUC_macro\": [{\"categories\": [\"0\", \"1\", \"2\", \"3\", \"4\", \"5\", \"6\", \"7\", \"8\", \"9\", \"10\", \"11\", \"12\", \"13\", \"14\", \"15\", \"16\", \"17\", \"18\", \"19\", \"20\", \"21\", \"22\", \"23\", \"24\", \"25\", \"26\", \"27\", \"28\", \"29\"], \"mode\": \"markers\", \"name\": \"AUC_macro\", \"stepped\": false, \"type\": \"scatter\", \"data\": [0.5447701504844362, 0.730629463906775, 0.6672858234202772, 0.6899678659342524, 0.523554391453551, 0.7062340087550172, 0.6532753707543624, 0.6449852668340064, 0.6644924636521276, 0.6877859022396837, 0.5914382722786083, 0.6705404586076855, 0.6683866273782242, 0.6486946293668983, 0.7095309639007118, 0.6628544751233827, 0.6783741375338014, 0.7848232626383886, 0.6855867195362993, 0.637704657620624, 0.6467224465543794, 0.719523930784435, 0.6195372694532358, 0.680663053100028, 0.6725583566760037, 0.6680155698643093, 0.6773291134635672, 0.5346827215734778, 0.7755104466028836, 0.7798147137642936]}, {\"categories\": [\"0\", \"1\", \"2\", \"3\", \"4\", \"5\", \"6\", \"7\", \"8\", \"9\", \"10\", \"11\", \"12\", \"13\", \"14\", \"15\", \"16\", \"17\", \"18\", \"19\", \"20\", \"21\", \"22\", \"23\", \"24\", \"25\", \"26\", \"27\", \"28\", \"29\"], \"mode\": \"lines\", \"name\": \"AUC_macro_max\", \"stepped\": true, \"type\": \"scatter\", \"data\": [0.5447701504844362, 0.730629463906775, 0.730629463906775, 0.730629463906775, 0.730629463906775, 0.730629463906775, 0.730629463906775, 0.730629463906775, 0.730629463906775, 0.730629463906775, 0.730629463906775, 0.730629463906775, 0.730629463906775, 0.730629463906775, 0.730629463906775, 0.730629463906775, 0.730629463906775, 0.7848232626383886, 0.7848232626383886, 0.7848232626383886, 0.7848232626383886, 0.7848232626383886, 0.7848232626383886, 0.7848232626383886, 0.7848232626383886, 0.7848232626383886, 0.7848232626383886, 0.7848232626383886, 0.7848232626383886, 0.7848232626383886]}], \"precision_score_macro\": [{\"categories\": [\"0\", \"1\", \"2\", \"3\", \"4\", \"5\", \"6\", \"7\", \"8\", \"9\", \"10\", \"11\", \"12\", \"13\", \"14\", \"15\", \"16\", \"17\", \"18\", \"19\", \"20\", \"21\", \"22\", \"23\", \"24\", \"25\", \"26\", \"27\", \"28\", \"29\"], \"mode\": \"markers\", \"name\": \"precision_score_macro\", \"stepped\": false, \"type\": \"scatter\", \"data\": [0.5728072254542843, 0.6629411764705881, 0.6197341628959276, 0.5922370766488413, 0.6204302422723476, 0.6191239316239316, 0.6172764490411549, 0.5426900584795321, 0.556815953654189, 0.5803270095917155, 0.37094206103494026, 0.6415950715950716, 0.6111363636363637, 0.491516290726817, 0.5360879694780624, 0.5942066563467492, 0.65, 0.6815484270631329, 0.6004448329448329, 0.550774948735475, 0.5822979797979798, 0.6660412953060012, 0.6215346057451321, 0.5700113122171946, 0.5274775843351694, 0.3373809523809524, 0.5852901484480432, 0.4409523809523809, 0.7891161727849034, 0.5914285714285714]}, {\"categories\": [\"0\", \"1\", \"2\", \"3\", \"4\", \"5\", \"6\", \"7\", \"8\", \"9\", \"10\", \"11\", \"12\", \"13\", \"14\", \"15\", \"16\", \"17\", \"18\", \"19\", \"20\", \"21\", \"22\", \"23\", \"24\", \"25\", \"26\", \"27\", \"28\", \"29\"], \"mode\": \"lines\", \"name\": \"precision_score_macro_max\", \"stepped\": true, \"type\": \"scatter\", \"data\": [0.5728072254542843, 0.6629411764705881, 0.6629411764705881, 0.6629411764705881, 0.6629411764705881, 0.6629411764705881, 0.6629411764705881, 0.6629411764705881, 0.6629411764705881, 0.6629411764705881, 0.6629411764705881, 0.6629411764705881, 0.6629411764705881, 0.6629411764705881, 0.6629411764705881, 0.6629411764705881, 0.6629411764705881, 0.6815484270631329, 0.6815484270631329, 0.6815484270631329, 0.6815484270631329, 0.6815484270631329, 0.6815484270631329, 0.6815484270631329, 0.6815484270631329, 0.6815484270631329, 0.6815484270631329, 0.6815484270631329, 0.7891161727849034, 0.7891161727849034]}], \"norm_macro_recall\": [{\"categories\": [\"0\", \"1\", \"2\", \"3\", \"4\", \"5\", \"6\", \"7\", \"8\", \"9\", \"10\", \"11\", \"12\", \"13\", \"14\", \"15\", \"16\", \"17\", \"18\", \"19\", \"20\", \"21\", \"22\", \"23\", \"24\", \"25\", \"26\", \"27\", \"28\", \"29\"], \"mode\": \"markers\", \"name\": \"norm_macro_recall\", \"stepped\": false, \"type\": \"scatter\", \"data\": [0.1735574229691877, 0.25062388591800355, 0.23104660045836517, 0.20752737458619808, 0.1682658517952635, 0.3013903743315508, 0.19186147186147187, 0.16482302011713776, 0.16466004583651644, 0.18511331805449446, 0.04313725490196076, 0.33029793735676083, 0.2096256684491978, 0.032467532467532444, 0.13669467787114842, 0.20560224089635853, 0.1733078686019863, 0.38222561751973516, 0.2496256684491978, 0.12415584415584417, 0.21504965622612676, 0.2773211102622867, 0.24255156608097778, 0.14373822256175192, 0.1579169849758085, 0.0, 0.16801629742806212, 0.03333333333333335, 0.3542398777692895, 0.17616501145912905]}, {\"categories\": [\"0\", \"1\", \"2\", \"3\", \"4\", \"5\", \"6\", \"7\", \"8\", \"9\", \"10\", \"11\", \"12\", \"13\", \"14\", \"15\", \"16\", \"17\", \"18\", \"19\", \"20\", \"21\", \"22\", \"23\", \"24\", \"25\", \"26\", \"27\", \"28\", \"29\"], \"mode\": \"lines\", \"name\": \"norm_macro_recall_max\", \"stepped\": true, \"type\": \"scatter\", \"data\": [0.1735574229691877, 0.25062388591800355, 0.25062388591800355, 0.25062388591800355, 0.25062388591800355, 0.3013903743315508, 0.3013903743315508, 0.3013903743315508, 0.3013903743315508, 0.3013903743315508, 0.3013903743315508, 0.33029793735676083, 0.33029793735676083, 0.33029793735676083, 0.33029793735676083, 0.33029793735676083, 0.33029793735676083, 0.38222561751973516, 0.38222561751973516, 0.38222561751973516, 0.38222561751973516, 0.38222561751973516, 0.38222561751973516, 0.38222561751973516, 0.38222561751973516, 0.38222561751973516, 0.38222561751973516, 0.38222561751973516, 0.38222561751973516, 0.38222561751973516]}], \"recall_score_macro\": [{\"categories\": [\"0\", \"1\", \"2\", \"3\", \"4\", \"5\", \"6\", \"7\", \"8\", \"9\", \"10\", \"11\", \"12\", \"13\", \"14\", \"15\", \"16\", \"17\", \"18\", \"19\", \"20\", \"21\", \"22\", \"23\", \"24\", \"25\", \"26\", \"27\", \"28\", \"29\"], \"mode\": \"markers\", \"name\": \"recall_score_macro\", \"stepped\": false, \"type\": \"scatter\", \"data\": [0.5687267634326458, 0.6253119429590017, 0.6155233002291827, 0.5966208301502418, 0.5769900687547747, 0.6506951871657753, 0.5939699516170104, 0.5547924624395212, 0.5609014514896867, 0.5782709447415331, 0.508235294117647, 0.6651489686783804, 0.6048128342245989, 0.5162337662337662, 0.5607715813598166, 0.5985586962057551, 0.5866539343009931, 0.6911128087598677, 0.6248128342245989, 0.5350190985485103, 0.5932391138273491, 0.6386605551311433, 0.6046091163738222, 0.5685357779475426, 0.5584823020117138, 0.5, 0.584008148714031, 0.5166666666666667, 0.6771199388846447, 0.5880825057295646]}, {\"categories\": [\"0\", \"1\", \"2\", \"3\", \"4\", \"5\", \"6\", \"7\", \"8\", \"9\", \"10\", \"11\", \"12\", \"13\", \"14\", \"15\", \"16\", \"17\", \"18\", \"19\", \"20\", \"21\", \"22\", \"23\", \"24\", \"25\", \"26\", \"27\", \"28\", \"29\"], \"mode\": \"lines\", \"name\": \"recall_score_macro_max\", \"stepped\": true, \"type\": \"scatter\", \"data\": [0.5687267634326458, 0.6253119429590017, 0.6253119429590017, 0.6253119429590017, 0.6253119429590017, 0.6506951871657753, 0.6506951871657753, 0.6506951871657753, 0.6506951871657753, 0.6506951871657753, 0.6506951871657753, 0.6651489686783804, 0.6651489686783804, 0.6651489686783804, 0.6651489686783804, 0.6651489686783804, 0.6651489686783804, 0.6911128087598677, 0.6911128087598677, 0.6911128087598677, 0.6911128087598677, 0.6911128087598677, 0.6911128087598677, 0.6911128087598677, 0.6911128087598677, 0.6911128087598677, 0.6911128087598677, 0.6911128087598677, 0.6911128087598677, 0.6911128087598677]}]}, \"metricName\": null, \"primaryMetricName\": \"accuracy\", \"showLegend\": false}, \"run_metrics\": [{\"name\": \"experiment_status\", \"run_id\": \"AutoML_0dc345fc-190d-4af4-9971-13c998ca6441\", \"categories\": [0, 1, 2, 3, 4, 5, 6, 7, 8, 9, 10, 11, 12, 13], \"series\": [{\"data\": [\"DatasetEvaluation\", \"FeaturesGeneration\", \"DatasetFeaturization\", \"DatasetFeaturizationCompleted\", \"DatasetCrossValidationSplit\", \"ModelSelection\", \"BestRunExplainModel\", \"ModelExplanationDataSetSetup\", \"PickSurrogateModel\", \"EngineeredFeatureExplanations\", \"EngineeredFeatureExplanations\", \"RawFeaturesExplanations\", \"RawFeaturesExplanations\", \"BestRunExplainModel\"]}]}, {\"name\": \"experiment_status_description\", \"run_id\": \"AutoML_0dc345fc-190d-4af4-9971-13c998ca6441\", \"categories\": [0, 1, 2, 3, 4, 5, 6, 7, 8, 9, 10, 11, 12, 13], \"series\": [{\"data\": [\"Gathering dataset statistics.\", \"Generating features for the dataset.\", \"Beginning to fit featurizers and featurize the dataset.\", \"Completed fit featurizers and featurizing the dataset.\", \"Generating individually featurized CV splits.\", \"Beginning model selection.\", \"Best run model explanations started\", \"Model explanations data setup completed\", \"Choosing LightGBM as the surrogate model for explanations\", \"Computation of engineered features started\", \"Computation of engineered features completed\", \"Computation of raw features started\", \"Computation of raw features completed\", \"Best run model explanations completed\"]}]}, {\"name\": \"norm_macro_recall\", \"run_id\": \"AutoML_0dc345fc-190d-4af4-9971-13c998ca6441\", \"categories\": [0], \"series\": [{\"data\": [0.3542398777692895]}]}, {\"name\": \"average_precision_score_weighted\", \"run_id\": \"AutoML_0dc345fc-190d-4af4-9971-13c998ca6441\", \"categories\": [0], \"series\": [{\"data\": [0.8237734635955556]}]}, {\"name\": \"balanced_accuracy\", \"run_id\": \"AutoML_0dc345fc-190d-4af4-9971-13c998ca6441\", \"categories\": [0], \"series\": [{\"data\": [0.6771199388846447]}]}, {\"name\": \"log_loss\", \"run_id\": \"AutoML_0dc345fc-190d-4af4-9971-13c998ca6441\", \"categories\": [0], \"series\": [{\"data\": [0.5862048966575598]}]}, {\"name\": \"recall_score_weighted\", \"run_id\": \"AutoML_0dc345fc-190d-4af4-9971-13c998ca6441\", \"categories\": [0], \"series\": [{\"data\": [0.7499999999999999]}]}, {\"name\": \"average_precision_score_micro\", \"run_id\": \"AutoML_0dc345fc-190d-4af4-9971-13c998ca6441\", \"categories\": [0], \"series\": [{\"data\": [0.7650897092369837]}]}, {\"name\": \"f1_score_weighted\", \"run_id\": \"AutoML_0dc345fc-190d-4af4-9971-13c998ca6441\", \"categories\": [0], \"series\": [{\"data\": [0.7279081164343657]}]}, {\"name\": \"AUC_weighted\", \"run_id\": \"AutoML_0dc345fc-190d-4af4-9971-13c998ca6441\", \"categories\": [0], \"series\": [{\"data\": [0.7755104466028836]}]}, {\"name\": \"f1_score_micro\", \"run_id\": \"AutoML_0dc345fc-190d-4af4-9971-13c998ca6441\", \"categories\": [0], \"series\": [{\"data\": [0.7499999999999999]}]}, {\"name\": \"recall_score_macro\", \"run_id\": \"AutoML_0dc345fc-190d-4af4-9971-13c998ca6441\", \"categories\": [0], \"series\": [{\"data\": [0.6771199388846447]}]}, {\"name\": \"accuracy\", \"run_id\": \"AutoML_0dc345fc-190d-4af4-9971-13c998ca6441\", \"categories\": [0], \"series\": [{\"data\": [0.7499999999999999]}]}, {\"name\": \"precision_score_micro\", \"run_id\": \"AutoML_0dc345fc-190d-4af4-9971-13c998ca6441\", \"categories\": [0], \"series\": [{\"data\": [0.7499999999999999]}]}, {\"name\": \"precision_score_macro\", \"run_id\": \"AutoML_0dc345fc-190d-4af4-9971-13c998ca6441\", \"categories\": [0], \"series\": [{\"data\": [0.7891161727849034]}]}, {\"name\": \"matthews_correlation\", \"run_id\": \"AutoML_0dc345fc-190d-4af4-9971-13c998ca6441\", \"categories\": [0], \"series\": [{\"data\": [0.4398374357893061]}]}, {\"name\": \"f1_score_macro\", \"run_id\": \"AutoML_0dc345fc-190d-4af4-9971-13c998ca6441\", \"categories\": [0], \"series\": [{\"data\": [0.6616674652917537]}]}, {\"name\": \"AUC_micro\", \"run_id\": \"AutoML_0dc345fc-190d-4af4-9971-13c998ca6441\", \"categories\": [0], \"series\": [{\"data\": [0.7700827664399092]}]}, {\"name\": \"average_precision_score_macro\", \"run_id\": \"AutoML_0dc345fc-190d-4af4-9971-13c998ca6441\", \"categories\": [0], \"series\": [{\"data\": [0.7630000183423903]}]}, {\"name\": \"precision_score_weighted\", \"run_id\": \"AutoML_0dc345fc-190d-4af4-9971-13c998ca6441\", \"categories\": [0], \"series\": [{\"data\": [0.8154393336281881]}]}, {\"name\": \"AUC_macro\", \"run_id\": \"AutoML_0dc345fc-190d-4af4-9971-13c998ca6441\", \"categories\": [0], \"series\": [{\"data\": [0.7755104466028836]}]}, {\"name\": \"weighted_accuracy\", \"run_id\": \"AutoML_0dc345fc-190d-4af4-9971-13c998ca6441\", \"categories\": [0], \"series\": [{\"data\": [0.8014177879151945]}]}, {\"name\": \"recall_score_micro\", \"run_id\": \"AutoML_0dc345fc-190d-4af4-9971-13c998ca6441\", \"categories\": [0], \"series\": [{\"data\": [0.7499999999999999]}]}], \"run_logs\": \"\\nRun is completed.\", \"graph\": {}, \"widget_settings\": {\"childWidgetDisplay\": \"popup\", \"send_telemetry\": false, \"log_level\": \"INFO\", \"sdk_version\": \"1.18.0\"}, \"loading\": false}"
     },
     "metadata": {},
     "output_type": "display_data"
    }
   ],
   "source": [
    "RunDetails(auto_run).show()\n"
   ]
  },
  {
   "cell_type": "code",
   "execution_count": 30,
   "metadata": {
    "gather": {
     "logged": 1606379898706
    },
    "pycharm": {
     "name": "#%%\n"
    }
   },
   "outputs": [],
   "source": [
    "# Retrieve and save your best automl model.\n",
    "best_run,fitted_model = auto_run.get_output(iteration=28)"
   ]
  },
  {
   "cell_type": "code",
   "execution_count": 11,
   "metadata": {
    "gather": {
     "logged": 1606379911449
    },
    "pycharm": {
     "name": "#%%\n"
    },
    "scrolled": true
   },
   "outputs": [
    {
     "name": "stdout",
     "output_type": "stream",
     "text": [
      "datatransformer\n",
      "{'enable_dnn': None,\n",
      " 'enable_feature_sweeping': None,\n",
      " 'feature_sweeping_config': None,\n",
      " 'feature_sweeping_timeout': None,\n",
      " 'featurization_config': None,\n",
      " 'force_text_dnn': None,\n",
      " 'is_cross_validation': None,\n",
      " 'is_onnx_compatible': None,\n",
      " 'logger': None,\n",
      " 'observer': None,\n",
      " 'task': None,\n",
      " 'working_dir': None}\n",
      "\n",
      "prefittedsoftvotingclassifier\n",
      "{'estimators': ['17', '27', '13', '26', '1', '2', '5', '18'],\n",
      " 'weights': [0.25,\n",
      "             0.08333333333333333,\n",
      "             0.08333333333333333,\n",
      "             0.16666666666666666,\n",
      "             0.08333333333333333,\n",
      "             0.16666666666666666,\n",
      "             0.08333333333333333,\n",
      "             0.08333333333333333]}\n",
      "\n",
      "17 - standardscalerwrapper\n",
      "{'class_name': 'StandardScaler',\n",
      " 'copy': True,\n",
      " 'module_name': 'sklearn.preprocessing._data',\n",
      " 'with_mean': True,\n",
      " 'with_std': True}\n",
      "\n",
      "17 - randomforestclassifier\n",
      "{'bootstrap': False,\n",
      " 'ccp_alpha': 0.0,\n",
      " 'class_weight': 'balanced',\n",
      " 'criterion': 'entropy',\n",
      " 'max_depth': None,\n",
      " 'max_features': 'sqrt',\n",
      " 'max_leaf_nodes': None,\n",
      " 'max_samples': None,\n",
      " 'min_impurity_decrease': 0.0,\n",
      " 'min_impurity_split': None,\n",
      " 'min_samples_leaf': 0.035789473684210524,\n",
      " 'min_samples_split': 0.15052631578947367,\n",
      " 'min_weight_fraction_leaf': 0.0,\n",
      " 'n_estimators': 10,\n",
      " 'n_jobs': 1,\n",
      " 'oob_score': False,\n",
      " 'random_state': None,\n",
      " 'verbose': 0,\n",
      " 'warm_start': False}\n",
      "\n",
      "27 - minmaxscaler\n",
      "{'copy': True, 'feature_range': (0, 1)}\n",
      "\n",
      "27 - kneighborsclassifier\n",
      "{'algorithm': 'auto',\n",
      " 'leaf_size': 30,\n",
      " 'metric': 'euclidean',\n",
      " 'metric_params': None,\n",
      " 'n_jobs': 1,\n",
      " 'n_neighbors': 29,\n",
      " 'p': 2,\n",
      " 'weights': 'distance'}\n",
      "\n",
      "13 - minmaxscaler\n",
      "{'copy': True, 'feature_range': (0, 1)}\n",
      "\n",
      "13 - sgdclassifierwrapper\n",
      "{'alpha': 4.693930612244897,\n",
      " 'class_weight': 'balanced',\n",
      " 'eta0': 0.001,\n",
      " 'fit_intercept': False,\n",
      " 'l1_ratio': 0.3877551020408163,\n",
      " 'learning_rate': 'constant',\n",
      " 'loss': 'squared_hinge',\n",
      " 'max_iter': 1000,\n",
      " 'n_jobs': 1,\n",
      " 'penalty': 'none',\n",
      " 'power_t': 0.3333333333333333,\n",
      " 'random_state': None,\n",
      " 'tol': 0.001}\n",
      "\n",
      "26 - minmaxscaler\n",
      "{'copy': True, 'feature_range': (0, 1)}\n",
      "\n",
      "26 - randomforestclassifier\n",
      "{'bootstrap': True,\n",
      " 'ccp_alpha': 0.0,\n",
      " 'class_weight': None,\n",
      " 'criterion': 'entropy',\n",
      " 'max_depth': None,\n",
      " 'max_features': 0.3,\n",
      " 'max_leaf_nodes': None,\n",
      " 'max_samples': None,\n",
      " 'min_impurity_decrease': 0.0,\n",
      " 'min_impurity_split': None,\n",
      " 'min_samples_leaf': 0.01,\n",
      " 'min_samples_split': 0.056842105263157895,\n",
      " 'min_weight_fraction_leaf': 0.0,\n",
      " 'n_estimators': 50,\n",
      " 'n_jobs': 1,\n",
      " 'oob_score': True,\n",
      " 'random_state': None,\n",
      " 'verbose': 0,\n",
      " 'warm_start': False}\n",
      "\n",
      "1 - maxabsscaler\n",
      "{'copy': True}\n",
      "\n",
      "1 - xgboostclassifier\n",
      "{'base_score': 0.5,\n",
      " 'booster': 'gbtree',\n",
      " 'colsample_bylevel': 1,\n",
      " 'colsample_bynode': 1,\n",
      " 'colsample_bytree': 1,\n",
      " 'gamma': 0,\n",
      " 'learning_rate': 0.1,\n",
      " 'max_delta_step': 0,\n",
      " 'max_depth': 3,\n",
      " 'min_child_weight': 1,\n",
      " 'missing': nan,\n",
      " 'n_estimators': 100,\n",
      " 'n_jobs': 1,\n",
      " 'nthread': None,\n",
      " 'objective': 'binary:logistic',\n",
      " 'random_state': 0,\n",
      " 'reg_alpha': 0,\n",
      " 'reg_lambda': 1,\n",
      " 'scale_pos_weight': 1,\n",
      " 'seed': None,\n",
      " 'silent': None,\n",
      " 'subsample': 1,\n",
      " 'tree_method': 'auto',\n",
      " 'verbose': -10,\n",
      " 'verbosity': 0}\n",
      "\n",
      "2 - minmaxscaler\n",
      "{'copy': True, 'feature_range': (0, 1)}\n",
      "\n",
      "2 - randomforestclassifier\n",
      "{'bootstrap': False,\n",
      " 'ccp_alpha': 0.0,\n",
      " 'class_weight': None,\n",
      " 'criterion': 'gini',\n",
      " 'max_depth': None,\n",
      " 'max_features': 'sqrt',\n",
      " 'max_leaf_nodes': None,\n",
      " 'max_samples': None,\n",
      " 'min_impurity_decrease': 0.0,\n",
      " 'min_impurity_split': None,\n",
      " 'min_samples_leaf': 0.01,\n",
      " 'min_samples_split': 0.10368421052631578,\n",
      " 'min_weight_fraction_leaf': 0.0,\n",
      " 'n_estimators': 10,\n",
      " 'n_jobs': 1,\n",
      " 'oob_score': False,\n",
      " 'random_state': None,\n",
      " 'verbose': 0,\n",
      " 'warm_start': False}\n",
      "\n",
      "5 - standardscalerwrapper\n",
      "{'class_name': 'StandardScaler',\n",
      " 'copy': True,\n",
      " 'module_name': 'sklearn.preprocessing._data',\n",
      " 'with_mean': True,\n",
      " 'with_std': True}\n",
      "\n",
      "5 - sgdclassifierwrapper\n",
      "{'alpha': 3.0612938775510203,\n",
      " 'class_weight': 'balanced',\n",
      " 'eta0': 0.0001,\n",
      " 'fit_intercept': True,\n",
      " 'l1_ratio': 0.8979591836734693,\n",
      " 'learning_rate': 'constant',\n",
      " 'loss': 'modified_huber',\n",
      " 'max_iter': 1000,\n",
      " 'n_jobs': 1,\n",
      " 'penalty': 'none',\n",
      " 'power_t': 0.6666666666666666,\n",
      " 'random_state': None,\n",
      " 'tol': 0.01}\n",
      "\n",
      "18 - standardscalerwrapper\n",
      "{'class_name': 'StandardScaler',\n",
      " 'copy': True,\n",
      " 'module_name': 'sklearn.preprocessing._data',\n",
      " 'with_mean': True,\n",
      " 'with_std': True}\n",
      "\n",
      "18 - sgdclassifierwrapper\n",
      "{'alpha': 6.326567346938775,\n",
      " 'class_weight': 'balanced',\n",
      " 'eta0': 0.01,\n",
      " 'fit_intercept': True,\n",
      " 'l1_ratio': 0.26530612244897955,\n",
      " 'learning_rate': 'invscaling',\n",
      " 'loss': 'log',\n",
      " 'max_iter': 1000,\n",
      " 'n_jobs': 1,\n",
      " 'penalty': 'none',\n",
      " 'power_t': 0.4444444444444444,\n",
      " 'random_state': None,\n",
      " 'tol': 0.01}\n",
      "\n"
     ]
    }
   ],
   "source": [
    "#Example code from https://docs.microsoft.com/en-us/azure/machine-learning/how-to-configure-auto-features#scaling-and-normalization\n",
    "\n",
    "from pprint import pprint\n",
    "model = fitted_model\n",
    "\n",
    "def print_model(model, prefix=\"\"):\n",
    "    for step in model.steps:\n",
    "        print(prefix + step[0])\n",
    "        if hasattr(step[1], 'estimators') and hasattr(step[1], 'weights'):\n",
    "            pprint({'estimators': list(\n",
    "                e[0] for e in step[1].estimators), 'weights': step[1].weights})\n",
    "            print()\n",
    "            for estimator in step[1].estimators:\n",
    "                print_model(estimator[1], estimator[0] + ' - ')\n",
    "        else:\n",
    "            pprint(step[1].get_params())\n",
    "            print()\n",
    "\n",
    "print_model(model)"
   ]
  },
  {
   "cell_type": "markdown",
   "metadata": {},
   "source": [
    "## Best Model\n",
    "\n",
    "TODO: In the cell below, get the best model from the automl experiments and display all the properties of the model."
   ]
  },
  {
   "cell_type": "code",
   "execution_count": 32,
   "metadata": {
    "gather": {
     "logged": 1606390674847
    },
    "pycharm": {
     "name": "#%%\n"
    }
   },
   "outputs": [
    {
     "name": "stdout",
     "output_type": "stream",
     "text": [
      "AutoML0dc345fc128\n"
     ]
    }
   ],
   "source": [
    "# TODO: save best AutoML model\n",
    "model_name = best_run.properties['model_name']\n",
    "print(model_name)\n",
    "joblib.dump(fitted_model,'best_automl_model.pkl')\n",
    "automl_model= auto_run.register_model(model_name=model_name)\n"
   ]
  },
  {
   "cell_type": "markdown",
   "metadata": {},
   "source": [
    "## Model Deployment\n",
    "\n",
    "Remember you have to deploy only one of the two models you trained.. Perform the steps in the rest of this notebook only if you wish to deploy this model.\n",
    "\n",
    "TODO: In the cell below, register the model, create an inference config and deploy the model as a web service."
   ]
  },
  {
   "cell_type": "code",
   "execution_count": 41,
   "metadata": {
    "gather": {
     "logged": 1598431435189
    },
    "jupyter": {
     "outputs_hidden": false,
     "source_hidden": false
    },
    "nteract": {
     "transient": {
      "deleting": false
     }
    }
   },
   "outputs": [
    {
     "name": "stdout",
     "output_type": "stream",
     "text": [
      "Tips: You can try get_logs(): https://aka.ms/debugimage#dockerlog or local deployment: https://aka.ms/debugimage#debug-locally to debug if deployment takes longer than 10 minutes.\n",
      "Running..................................................................................................................................................................................................\n",
      "Failed\n"
     ]
    },
    {
     "name": "stderr",
     "output_type": "stream",
     "text": [
      "ERROR - Service deployment polling reached non-successful terminal state, current service state: Failed\n",
      "Operation ID: 4dad69e0-89d6-494e-91ad-71c1c90a013a\n",
      "More information can be found using '.get_logs()'\n",
      "Error:\n",
      "{\n",
      "  \"code\": \"AciDeploymentFailed\",\n",
      "  \"message\": \"Aci Deployment failed with exception: Your container application crashed. This may be caused by errors in your scoring file's init() function.\\nPlease check the logs for your container instance: webservice-final-3. From the AML SDK, you can run print(service.get_logs()) if you have service object to fetch the logs. \\nYou can also try to run image 2f28b8821796430cb04560260920675a.azurecr.io/azureml/azureml_e303acaed3886f9c9130c3f485865120 locally. Please refer to https://aka.ms/debugimage#service-launch-fails for more information.\",\n",
      "  \"details\": [\n",
      "    {\n",
      "      \"code\": \"CrashLoopBackOff\",\n",
      "      \"message\": \"Your container application crashed. This may be caused by errors in your scoring file's init() function.\\nPlease check the logs for your container instance: webservice-final-3. From the AML SDK, you can run print(service.get_logs()) if you have service object to fetch the logs. \\nYou can also try to run image 2f28b8821796430cb04560260920675a.azurecr.io/azureml/azureml_e303acaed3886f9c9130c3f485865120 locally. Please refer to https://aka.ms/debugimage#service-launch-fails for more information.\"\n",
      "    },\n",
      "    {\n",
      "      \"code\": \"AciDeploymentFailed\",\n",
      "      \"message\": \"Your container application crashed. Please follow the steps to debug:\\n1. From the AML SDK, you can run print(service.get_logs()) if you have service object to fetch the logs. Please refer to https://aka.ms/debugimage#dockerlog for more information.\\n2. If your container application crashed. This may be caused by errors in your scoring file's init() function. You can try debugging locally first. Please refer to https://aka.ms/debugimage#debug-locally for more information.\\n3. View the diagnostic events to check status of container, it may help you to debug the issue. {\\\"restartCount\\\":6,\\\"currentState\\\":{\\\"state\\\":\\\"Waiting\\\",\\\"startTime\\\":null,\\\"exitCode\\\":null,\\\"finishTime\\\":null,\\\"detailStatus\\\":\\\"CrashLoopBackOff: Back-off restarting failed\\\"},\\\"previousState\\\":{\\\"state\\\":\\\"Terminated\\\",\\\"startTime\\\":\\\"2020-11-26T14:09:30.672Z\\\",\\\"exitCode\\\":111,\\\"finishTime\\\":\\\"2020-11-26T14:09:36.952Z\\\",\\\"detailStatus\\\":\\\"Error\\\"},\\\"events\\\":[{\\\"count\\\":1,\\\"firstTimestamp\\\":\\\"2020-11-26T14:00:49Z\\\",\\\"lastTimestamp\\\":\\\"2020-11-26T14:00:49Z\\\",\\\"name\\\":\\\"Pulling\\\",\\\"message\\\":\\\"pulling image \\\\\\\"2f28b8821796430cb04560260920675a.azurecr.io/azureml/azureml_e303acaed3886f9c9130c3f485865120:latest\\\\\\\"\\\",\\\"type\\\":\\\"Normal\\\"},{\\\"count\\\":1,\\\"firstTimestamp\\\":\\\"2020-11-26T14:02:54Z\\\",\\\"lastTimestamp\\\":\\\"2020-11-26T14:02:54Z\\\",\\\"name\\\":\\\"Pulled\\\",\\\"message\\\":\\\"Successfully pulled image \\\\\\\"2f28b8821796430cb04560260920675a.azurecr.io/azureml/azureml_e303acaed3886f9c9130c3f485865120:latest\\\\\\\"\\\",\\\"type\\\":\\\"Normal\\\"},{\\\"count\\\":7,\\\"firstTimestamp\\\":\\\"2020-11-26T14:03:27Z\\\",\\\"lastTimestamp\\\":\\\"2020-11-26T14:09:30Z\\\",\\\"name\\\":\\\"Started\\\",\\\"message\\\":\\\"Started container\\\",\\\"type\\\":\\\"Normal\\\"},{\\\"count\\\":7,\\\"firstTimestamp\\\":\\\"2020-11-26T14:03:44Z\\\",\\\"lastTimestamp\\\":\\\"2020-11-26T14:09:36Z\\\",\\\"name\\\":\\\"Killing\\\",\\\"message\\\":\\\"Killing container with id 1322c5bfaff38c5141a11c25fe4d6fe4e44451e3854ab51844cae217769fa8bc.\\\",\\\"type\\\":\\\"Normal\\\"}]}\"\n",
      "    }\n",
      "  ]\n",
      "}\n",
      "\n"
     ]
    },
    {
     "ename": "WebserviceException",
     "evalue": "WebserviceException:\n\tMessage: Service deployment polling reached non-successful terminal state, current service state: Failed\nOperation ID: 4dad69e0-89d6-494e-91ad-71c1c90a013a\nMore information can be found using '.get_logs()'\nError:\n{\n  \"code\": \"AciDeploymentFailed\",\n  \"message\": \"Aci Deployment failed with exception: Your container application crashed. This may be caused by errors in your scoring file's init() function.\\nPlease check the logs for your container instance: webservice-final-3. From the AML SDK, you can run print(service.get_logs()) if you have service object to fetch the logs. \\nYou can also try to run image 2f28b8821796430cb04560260920675a.azurecr.io/azureml/azureml_e303acaed3886f9c9130c3f485865120 locally. Please refer to https://aka.ms/debugimage#service-launch-fails for more information.\",\n  \"details\": [\n    {\n      \"code\": \"CrashLoopBackOff\",\n      \"message\": \"Your container application crashed. This may be caused by errors in your scoring file's init() function.\\nPlease check the logs for your container instance: webservice-final-3. From the AML SDK, you can run print(service.get_logs()) if you have service object to fetch the logs. \\nYou can also try to run image 2f28b8821796430cb04560260920675a.azurecr.io/azureml/azureml_e303acaed3886f9c9130c3f485865120 locally. Please refer to https://aka.ms/debugimage#service-launch-fails for more information.\"\n    },\n    {\n      \"code\": \"AciDeploymentFailed\",\n      \"message\": \"Your container application crashed. Please follow the steps to debug:\\n1. From the AML SDK, you can run print(service.get_logs()) if you have service object to fetch the logs. Please refer to https://aka.ms/debugimage#dockerlog for more information.\\n2. If your container application crashed. This may be caused by errors in your scoring file's init() function. You can try debugging locally first. Please refer to https://aka.ms/debugimage#debug-locally for more information.\\n3. View the diagnostic events to check status of container, it may help you to debug the issue. {\\\"restartCount\\\":6,\\\"currentState\\\":{\\\"state\\\":\\\"Waiting\\\",\\\"startTime\\\":null,\\\"exitCode\\\":null,\\\"finishTime\\\":null,\\\"detailStatus\\\":\\\"CrashLoopBackOff: Back-off restarting failed\\\"},\\\"previousState\\\":{\\\"state\\\":\\\"Terminated\\\",\\\"startTime\\\":\\\"2020-11-26T14:09:30.672Z\\\",\\\"exitCode\\\":111,\\\"finishTime\\\":\\\"2020-11-26T14:09:36.952Z\\\",\\\"detailStatus\\\":\\\"Error\\\"},\\\"events\\\":[{\\\"count\\\":1,\\\"firstTimestamp\\\":\\\"2020-11-26T14:00:49Z\\\",\\\"lastTimestamp\\\":\\\"2020-11-26T14:00:49Z\\\",\\\"name\\\":\\\"Pulling\\\",\\\"message\\\":\\\"pulling image \\\\\\\"2f28b8821796430cb04560260920675a.azurecr.io/azureml/azureml_e303acaed3886f9c9130c3f485865120:latest\\\\\\\"\\\",\\\"type\\\":\\\"Normal\\\"},{\\\"count\\\":1,\\\"firstTimestamp\\\":\\\"2020-11-26T14:02:54Z\\\",\\\"lastTimestamp\\\":\\\"2020-11-26T14:02:54Z\\\",\\\"name\\\":\\\"Pulled\\\",\\\"message\\\":\\\"Successfully pulled image \\\\\\\"2f28b8821796430cb04560260920675a.azurecr.io/azureml/azureml_e303acaed3886f9c9130c3f485865120:latest\\\\\\\"\\\",\\\"type\\\":\\\"Normal\\\"},{\\\"count\\\":7,\\\"firstTimestamp\\\":\\\"2020-11-26T14:03:27Z\\\",\\\"lastTimestamp\\\":\\\"2020-11-26T14:09:30Z\\\",\\\"name\\\":\\\"Started\\\",\\\"message\\\":\\\"Started container\\\",\\\"type\\\":\\\"Normal\\\"},{\\\"count\\\":7,\\\"firstTimestamp\\\":\\\"2020-11-26T14:03:44Z\\\",\\\"lastTimestamp\\\":\\\"2020-11-26T14:09:36Z\\\",\\\"name\\\":\\\"Killing\\\",\\\"message\\\":\\\"Killing container with id 1322c5bfaff38c5141a11c25fe4d6fe4e44451e3854ab51844cae217769fa8bc.\\\",\\\"type\\\":\\\"Normal\\\"}]}\"\n    }\n  ]\n}\n\tInnerException None\n\tErrorResponse \n{\n    \"error\": {\n        \"message\": \"Service deployment polling reached non-successful terminal state, current service state: Failed\\nOperation ID: 4dad69e0-89d6-494e-91ad-71c1c90a013a\\nMore information can be found using '.get_logs()'\\nError:\\n{\\n  \\\"code\\\": \\\"AciDeploymentFailed\\\",\\n  \\\"message\\\": \\\"Aci Deployment failed with exception: Your container application crashed. This may be caused by errors in your scoring file's init() function.\\\\nPlease check the logs for your container instance: webservice-final-3. From the AML SDK, you can run print(service.get_logs()) if you have service object to fetch the logs. \\\\nYou can also try to run image 2f28b8821796430cb04560260920675a.azurecr.io/azureml/azureml_e303acaed3886f9c9130c3f485865120 locally. Please refer to https://aka.ms/debugimage#service-launch-fails for more information.\\\",\\n  \\\"details\\\": [\\n    {\\n      \\\"code\\\": \\\"CrashLoopBackOff\\\",\\n      \\\"message\\\": \\\"Your container application crashed. This may be caused by errors in your scoring file's init() function.\\\\nPlease check the logs for your container instance: webservice-final-3. From the AML SDK, you can run print(service.get_logs()) if you have service object to fetch the logs. \\\\nYou can also try to run image 2f28b8821796430cb04560260920675a.azurecr.io/azureml/azureml_e303acaed3886f9c9130c3f485865120 locally. Please refer to https://aka.ms/debugimage#service-launch-fails for more information.\\\"\\n    },\\n    {\\n      \\\"code\\\": \\\"AciDeploymentFailed\\\",\\n      \\\"message\\\": \\\"Your container application crashed. Please follow the steps to debug:\\\\n1. From the AML SDK, you can run print(service.get_logs()) if you have service object to fetch the logs. Please refer to https://aka.ms/debugimage#dockerlog for more information.\\\\n2. If your container application crashed. This may be caused by errors in your scoring file's init() function. You can try debugging locally first. Please refer to https://aka.ms/debugimage#debug-locally for more information.\\\\n3. View the diagnostic events to check status of container, it may help you to debug the issue. {\\\\\\\"restartCount\\\\\\\":6,\\\\\\\"currentState\\\\\\\":{\\\\\\\"state\\\\\\\":\\\\\\\"Waiting\\\\\\\",\\\\\\\"startTime\\\\\\\":null,\\\\\\\"exitCode\\\\\\\":null,\\\\\\\"finishTime\\\\\\\":null,\\\\\\\"detailStatus\\\\\\\":\\\\\\\"CrashLoopBackOff: Back-off restarting failed\\\\\\\"},\\\\\\\"previousState\\\\\\\":{\\\\\\\"state\\\\\\\":\\\\\\\"Terminated\\\\\\\",\\\\\\\"startTime\\\\\\\":\\\\\\\"2020-11-26T14:09:30.672Z\\\\\\\",\\\\\\\"exitCode\\\\\\\":111,\\\\\\\"finishTime\\\\\\\":\\\\\\\"2020-11-26T14:09:36.952Z\\\\\\\",\\\\\\\"detailStatus\\\\\\\":\\\\\\\"Error\\\\\\\"},\\\\\\\"events\\\\\\\":[{\\\\\\\"count\\\\\\\":1,\\\\\\\"firstTimestamp\\\\\\\":\\\\\\\"2020-11-26T14:00:49Z\\\\\\\",\\\\\\\"lastTimestamp\\\\\\\":\\\\\\\"2020-11-26T14:00:49Z\\\\\\\",\\\\\\\"name\\\\\\\":\\\\\\\"Pulling\\\\\\\",\\\\\\\"message\\\\\\\":\\\\\\\"pulling image \\\\\\\\\\\\\\\"2f28b8821796430cb04560260920675a.azurecr.io/azureml/azureml_e303acaed3886f9c9130c3f485865120:latest\\\\\\\\\\\\\\\"\\\\\\\",\\\\\\\"type\\\\\\\":\\\\\\\"Normal\\\\\\\"},{\\\\\\\"count\\\\\\\":1,\\\\\\\"firstTimestamp\\\\\\\":\\\\\\\"2020-11-26T14:02:54Z\\\\\\\",\\\\\\\"lastTimestamp\\\\\\\":\\\\\\\"2020-11-26T14:02:54Z\\\\\\\",\\\\\\\"name\\\\\\\":\\\\\\\"Pulled\\\\\\\",\\\\\\\"message\\\\\\\":\\\\\\\"Successfully pulled image \\\\\\\\\\\\\\\"2f28b8821796430cb04560260920675a.azurecr.io/azureml/azureml_e303acaed3886f9c9130c3f485865120:latest\\\\\\\\\\\\\\\"\\\\\\\",\\\\\\\"type\\\\\\\":\\\\\\\"Normal\\\\\\\"},{\\\\\\\"count\\\\\\\":7,\\\\\\\"firstTimestamp\\\\\\\":\\\\\\\"2020-11-26T14:03:27Z\\\\\\\",\\\\\\\"lastTimestamp\\\\\\\":\\\\\\\"2020-11-26T14:09:30Z\\\\\\\",\\\\\\\"name\\\\\\\":\\\\\\\"Started\\\\\\\",\\\\\\\"message\\\\\\\":\\\\\\\"Started container\\\\\\\",\\\\\\\"type\\\\\\\":\\\\\\\"Normal\\\\\\\"},{\\\\\\\"count\\\\\\\":7,\\\\\\\"firstTimestamp\\\\\\\":\\\\\\\"2020-11-26T14:03:44Z\\\\\\\",\\\\\\\"lastTimestamp\\\\\\\":\\\\\\\"2020-11-26T14:09:36Z\\\\\\\",\\\\\\\"name\\\\\\\":\\\\\\\"Killing\\\\\\\",\\\\\\\"message\\\\\\\":\\\\\\\"Killing container with id 1322c5bfaff38c5141a11c25fe4d6fe4e44451e3854ab51844cae217769fa8bc.\\\\\\\",\\\\\\\"type\\\\\\\":\\\\\\\"Normal\\\\\\\"}]}\\\"\\n    }\\n  ]\\n}\"\n    }\n}",
     "output_type": "error",
     "traceback": [
      "\u001b[0;31m---------------------------------------------------------------------------\u001b[0m",
      "\u001b[0;31mWebserviceException\u001b[0m                       Traceback (most recent call last)",
      "\u001b[0;32m<ipython-input-41-cc833f8af963>\u001b[0m in \u001b[0;36m<module>\u001b[0;34m\u001b[0m\n\u001b[1;32m     18\u001b[0m                        deployment_config = deployment_config)\n\u001b[1;32m     19\u001b[0m \u001b[0;34m\u001b[0m\u001b[0m\n\u001b[0;32m---> 20\u001b[0;31m \u001b[0mservice\u001b[0m\u001b[0;34m.\u001b[0m\u001b[0mwait_for_deployment\u001b[0m\u001b[0;34m(\u001b[0m\u001b[0mshow_output\u001b[0m\u001b[0;34m=\u001b[0m\u001b[0;32mTrue\u001b[0m\u001b[0;34m)\u001b[0m\u001b[0;34m\u001b[0m\u001b[0;34m\u001b[0m\u001b[0m\n\u001b[0m",
      "\u001b[0;32m/anaconda/envs/azureml_py36/lib/python3.6/site-packages/azureml/core/webservice/webservice.py\u001b[0m in \u001b[0;36mwait_for_deployment\u001b[0;34m(self, show_output, timeout_sec)\u001b[0m\n\u001b[1;32m    810\u001b[0m                                           \u001b[0;34m'Error:\\n'\u001b[0m\u001b[0;34m\u001b[0m\u001b[0;34m\u001b[0m\u001b[0m\n\u001b[1;32m    811\u001b[0m                                           '{}'.format(self.state, self._operation_endpoint.split('/')[-1],\n\u001b[0;32m--> 812\u001b[0;31m                                                       logs_response, error_response), logger=module_logger)\n\u001b[0m\u001b[1;32m    813\u001b[0m             print('{} service creation operation finished, operation \"{}\"'.format(self._webservice_type,\n\u001b[1;32m    814\u001b[0m                                                                                   operation_state))\n",
      "\u001b[0;31mWebserviceException\u001b[0m: WebserviceException:\n\tMessage: Service deployment polling reached non-successful terminal state, current service state: Failed\nOperation ID: 4dad69e0-89d6-494e-91ad-71c1c90a013a\nMore information can be found using '.get_logs()'\nError:\n{\n  \"code\": \"AciDeploymentFailed\",\n  \"message\": \"Aci Deployment failed with exception: Your container application crashed. This may be caused by errors in your scoring file's init() function.\\nPlease check the logs for your container instance: webservice-final-3. From the AML SDK, you can run print(service.get_logs()) if you have service object to fetch the logs. \\nYou can also try to run image 2f28b8821796430cb04560260920675a.azurecr.io/azureml/azureml_e303acaed3886f9c9130c3f485865120 locally. Please refer to https://aka.ms/debugimage#service-launch-fails for more information.\",\n  \"details\": [\n    {\n      \"code\": \"CrashLoopBackOff\",\n      \"message\": \"Your container application crashed. This may be caused by errors in your scoring file's init() function.\\nPlease check the logs for your container instance: webservice-final-3. From the AML SDK, you can run print(service.get_logs()) if you have service object to fetch the logs. \\nYou can also try to run image 2f28b8821796430cb04560260920675a.azurecr.io/azureml/azureml_e303acaed3886f9c9130c3f485865120 locally. Please refer to https://aka.ms/debugimage#service-launch-fails for more information.\"\n    },\n    {\n      \"code\": \"AciDeploymentFailed\",\n      \"message\": \"Your container application crashed. Please follow the steps to debug:\\n1. From the AML SDK, you can run print(service.get_logs()) if you have service object to fetch the logs. Please refer to https://aka.ms/debugimage#dockerlog for more information.\\n2. If your container application crashed. This may be caused by errors in your scoring file's init() function. You can try debugging locally first. Please refer to https://aka.ms/debugimage#debug-locally for more information.\\n3. View the diagnostic events to check status of container, it may help you to debug the issue. {\\\"restartCount\\\":6,\\\"currentState\\\":{\\\"state\\\":\\\"Waiting\\\",\\\"startTime\\\":null,\\\"exitCode\\\":null,\\\"finishTime\\\":null,\\\"detailStatus\\\":\\\"CrashLoopBackOff: Back-off restarting failed\\\"},\\\"previousState\\\":{\\\"state\\\":\\\"Terminated\\\",\\\"startTime\\\":\\\"2020-11-26T14:09:30.672Z\\\",\\\"exitCode\\\":111,\\\"finishTime\\\":\\\"2020-11-26T14:09:36.952Z\\\",\\\"detailStatus\\\":\\\"Error\\\"},\\\"events\\\":[{\\\"count\\\":1,\\\"firstTimestamp\\\":\\\"2020-11-26T14:00:49Z\\\",\\\"lastTimestamp\\\":\\\"2020-11-26T14:00:49Z\\\",\\\"name\\\":\\\"Pulling\\\",\\\"message\\\":\\\"pulling image \\\\\\\"2f28b8821796430cb04560260920675a.azurecr.io/azureml/azureml_e303acaed3886f9c9130c3f485865120:latest\\\\\\\"\\\",\\\"type\\\":\\\"Normal\\\"},{\\\"count\\\":1,\\\"firstTimestamp\\\":\\\"2020-11-26T14:02:54Z\\\",\\\"lastTimestamp\\\":\\\"2020-11-26T14:02:54Z\\\",\\\"name\\\":\\\"Pulled\\\",\\\"message\\\":\\\"Successfully pulled image \\\\\\\"2f28b8821796430cb04560260920675a.azurecr.io/azureml/azureml_e303acaed3886f9c9130c3f485865120:latest\\\\\\\"\\\",\\\"type\\\":\\\"Normal\\\"},{\\\"count\\\":7,\\\"firstTimestamp\\\":\\\"2020-11-26T14:03:27Z\\\",\\\"lastTimestamp\\\":\\\"2020-11-26T14:09:30Z\\\",\\\"name\\\":\\\"Started\\\",\\\"message\\\":\\\"Started container\\\",\\\"type\\\":\\\"Normal\\\"},{\\\"count\\\":7,\\\"firstTimestamp\\\":\\\"2020-11-26T14:03:44Z\\\",\\\"lastTimestamp\\\":\\\"2020-11-26T14:09:36Z\\\",\\\"name\\\":\\\"Killing\\\",\\\"message\\\":\\\"Killing container with id 1322c5bfaff38c5141a11c25fe4d6fe4e44451e3854ab51844cae217769fa8bc.\\\",\\\"type\\\":\\\"Normal\\\"}]}\"\n    }\n  ]\n}\n\tInnerException None\n\tErrorResponse \n{\n    \"error\": {\n        \"message\": \"Service deployment polling reached non-successful terminal state, current service state: Failed\\nOperation ID: 4dad69e0-89d6-494e-91ad-71c1c90a013a\\nMore information can be found using '.get_logs()'\\nError:\\n{\\n  \\\"code\\\": \\\"AciDeploymentFailed\\\",\\n  \\\"message\\\": \\\"Aci Deployment failed with exception: Your container application crashed. This may be caused by errors in your scoring file's init() function.\\\\nPlease check the logs for your container instance: webservice-final-3. From the AML SDK, you can run print(service.get_logs()) if you have service object to fetch the logs. \\\\nYou can also try to run image 2f28b8821796430cb04560260920675a.azurecr.io/azureml/azureml_e303acaed3886f9c9130c3f485865120 locally. Please refer to https://aka.ms/debugimage#service-launch-fails for more information.\\\",\\n  \\\"details\\\": [\\n    {\\n      \\\"code\\\": \\\"CrashLoopBackOff\\\",\\n      \\\"message\\\": \\\"Your container application crashed. This may be caused by errors in your scoring file's init() function.\\\\nPlease check the logs for your container instance: webservice-final-3. From the AML SDK, you can run print(service.get_logs()) if you have service object to fetch the logs. \\\\nYou can also try to run image 2f28b8821796430cb04560260920675a.azurecr.io/azureml/azureml_e303acaed3886f9c9130c3f485865120 locally. Please refer to https://aka.ms/debugimage#service-launch-fails for more information.\\\"\\n    },\\n    {\\n      \\\"code\\\": \\\"AciDeploymentFailed\\\",\\n      \\\"message\\\": \\\"Your container application crashed. Please follow the steps to debug:\\\\n1. From the AML SDK, you can run print(service.get_logs()) if you have service object to fetch the logs. Please refer to https://aka.ms/debugimage#dockerlog for more information.\\\\n2. If your container application crashed. This may be caused by errors in your scoring file's init() function. You can try debugging locally first. Please refer to https://aka.ms/debugimage#debug-locally for more information.\\\\n3. View the diagnostic events to check status of container, it may help you to debug the issue. {\\\\\\\"restartCount\\\\\\\":6,\\\\\\\"currentState\\\\\\\":{\\\\\\\"state\\\\\\\":\\\\\\\"Waiting\\\\\\\",\\\\\\\"startTime\\\\\\\":null,\\\\\\\"exitCode\\\\\\\":null,\\\\\\\"finishTime\\\\\\\":null,\\\\\\\"detailStatus\\\\\\\":\\\\\\\"CrashLoopBackOff: Back-off restarting failed\\\\\\\"},\\\\\\\"previousState\\\\\\\":{\\\\\\\"state\\\\\\\":\\\\\\\"Terminated\\\\\\\",\\\\\\\"startTime\\\\\\\":\\\\\\\"2020-11-26T14:09:30.672Z\\\\\\\",\\\\\\\"exitCode\\\\\\\":111,\\\\\\\"finishTime\\\\\\\":\\\\\\\"2020-11-26T14:09:36.952Z\\\\\\\",\\\\\\\"detailStatus\\\\\\\":\\\\\\\"Error\\\\\\\"},\\\\\\\"events\\\\\\\":[{\\\\\\\"count\\\\\\\":1,\\\\\\\"firstTimestamp\\\\\\\":\\\\\\\"2020-11-26T14:00:49Z\\\\\\\",\\\\\\\"lastTimestamp\\\\\\\":\\\\\\\"2020-11-26T14:00:49Z\\\\\\\",\\\\\\\"name\\\\\\\":\\\\\\\"Pulling\\\\\\\",\\\\\\\"message\\\\\\\":\\\\\\\"pulling image \\\\\\\\\\\\\\\"2f28b8821796430cb04560260920675a.azurecr.io/azureml/azureml_e303acaed3886f9c9130c3f485865120:latest\\\\\\\\\\\\\\\"\\\\\\\",\\\\\\\"type\\\\\\\":\\\\\\\"Normal\\\\\\\"},{\\\\\\\"count\\\\\\\":1,\\\\\\\"firstTimestamp\\\\\\\":\\\\\\\"2020-11-26T14:02:54Z\\\\\\\",\\\\\\\"lastTimestamp\\\\\\\":\\\\\\\"2020-11-26T14:02:54Z\\\\\\\",\\\\\\\"name\\\\\\\":\\\\\\\"Pulled\\\\\\\",\\\\\\\"message\\\\\\\":\\\\\\\"Successfully pulled image \\\\\\\\\\\\\\\"2f28b8821796430cb04560260920675a.azurecr.io/azureml/azureml_e303acaed3886f9c9130c3f485865120:latest\\\\\\\\\\\\\\\"\\\\\\\",\\\\\\\"type\\\\\\\":\\\\\\\"Normal\\\\\\\"},{\\\\\\\"count\\\\\\\":7,\\\\\\\"firstTimestamp\\\\\\\":\\\\\\\"2020-11-26T14:03:27Z\\\\\\\",\\\\\\\"lastTimestamp\\\\\\\":\\\\\\\"2020-11-26T14:09:30Z\\\\\\\",\\\\\\\"name\\\\\\\":\\\\\\\"Started\\\\\\\",\\\\\\\"message\\\\\\\":\\\\\\\"Started container\\\\\\\",\\\\\\\"type\\\\\\\":\\\\\\\"Normal\\\\\\\"},{\\\\\\\"count\\\\\\\":7,\\\\\\\"firstTimestamp\\\\\\\":\\\\\\\"2020-11-26T14:03:44Z\\\\\\\",\\\\\\\"lastTimestamp\\\\\\\":\\\\\\\"2020-11-26T14:09:36Z\\\\\\\",\\\\\\\"name\\\\\\\":\\\\\\\"Killing\\\\\\\",\\\\\\\"message\\\\\\\":\\\\\\\"Killing container with id 1322c5bfaff38c5141a11c25fe4d6fe4e44451e3854ab51844cae217769fa8bc.\\\\\\\",\\\\\\\"type\\\\\\\":\\\\\\\"Normal\\\\\\\"}]}\\\"\\n    }\\n  ]\\n}\"\n    }\n}"
     ]
    }
   ],
   "source": [
    "# Code from https://docs.microsoft.com/en-us/python/api/overview/azure/ml/?view=azure-ml-py#model-deploy\n",
    "\n",
    "myenv.python.conda_dependencies.add_pip_package(\"joblib\")\n",
    "\n",
    "# Combine scoring script & environment in Inference configuration\n",
    "inference_config = InferenceConfig(entry_script=\"score.py\",\n",
    "                                   environment=myenv)\n",
    "\n",
    "# Set deployment configuration\n",
    "deployment_config = AciWebservice.deploy_configuration(cpu_cores = 1,\n",
    "                                                       memory_gb = 1)\n",
    "\n",
    "# Define the model, inference, & deployment configuration and web service name and location to deploy\n",
    "service = Model.deploy(workspace = ws,\n",
    "                       name = \"webservice-final-3\",\n",
    "                       models = [automl_model],\n",
    "                       inference_config = inference_config,\n",
    "                       deployment_config = deployment_config)\n",
    "\n",
    "service.wait_for_deployment(show_output=True)"
   ]
  },
  {
   "cell_type": "code",
   "execution_count": 51,
   "metadata": {
    "gather": {
     "logged": 1606387856204
    },
    "jupyter": {
     "outputs_hidden": false,
     "source_hidden": false
    },
    "nteract": {
     "transient": {
      "deleting": false
     }
    }
   },
   "outputs": [
    {
     "name": "stdout",
     "output_type": "stream",
     "text": [
      "None\n"
     ]
    }
   ],
   "source": [
    "print(service.get_logs())"
   ]
  },
  {
   "cell_type": "code",
   "execution_count": 22,
   "metadata": {
    "collapsed": true,
    "gather": {
     "logged": 1606310426987
    },
    "jupyter": {
     "outputs_hidden": false,
     "source_hidden": false
    },
    "nteract": {
     "transient": {
      "deleting": false
     }
    }
   },
   "outputs": [
    {
     "data": {
      "text/plain": [
       "'[{\"donor_age_below_35\":1,\"donor_CMV\":0,\"recipient_age_below_10\":1,\"recipient_gender\":1,\"recipient_rh\":1,\"recipient_CMV\":0,\"gender_match\":0,\"ABO_match\":1,\"HLA_mismatch\":1,\"risk_group\":0,\"stem_cell_source\":1,\"tx_post_relapse\":0,\"ANC_recovery\":1,\"PLT_recovery\":1,\"acute_GvHD_II_III_IV\":1,\"acute_GvHD_III_IV\":0,\"relapse\":1,\"donor_age\":0.1277579149,\"recipient_age\":0.1436170213,\"recipient_body_mass\":0.1388733965,\"CD34_x1e6_per_kg\":0.0650991402,\"CD3_x1e8_per_kg\":0.0230817218,\"CD3_to_CD34_ratio\":0.1079678604,\"time_to_ANC_recovery\":0.6153846154,\"time_to_PLT_recovery\":0.1497975709,\"time_to_acute_GvHD_III_IV\":0.0,\"donor_ABO_0\":0,\"donor_ABO_A\":0,\"donor_ABO_AB\":0,\"donor_ABO_B\":1,\"recipient_age_int_0_5\":1,\"recipient_age_int_10_20\":0,\"recipient_age_int_5_10\":0,\"recipient_ABO_0\":0,\"recipient_ABO_A\":0,\"recipient_ABO_AB\":0,\"recipient_ABO_B\":1,\"disease_ALL\":1,\"disease_AML\":0,\"disease_chronic\":0,\"disease_lymphoma\":0,\"disease_nonmalignant\":0,\"disease_group_malignant\":1,\"disease_group_nonmalignant\":0,\"CMV_status_0\":1,\"CMV_status_1\":0,\"CMV_status_2\":0,\"CMV_status_3\":0,\"HLA_match_10\\\\/10\":1,\"HLA_match_7\\\\/10\":0,\"HLA_match_8\\\\/10\":0,\"HLA_match_9\\\\/10\":0,\"antigen_0\":1,\"antigen_1\":0,\"antigen_2\":0,\"antigen_3\":0,\"allel_0\":1,\"allel_1\":0,\"allel_2\":0,\"allel_3\":0,\"allel_4\":0,\"HLA_group_1_DRB1_cell\":0,\"HLA_group_1_matched\":1,\"HLA_group_1_mismatched\":0,\"HLA_group_1_one_allel\":0,\"HLA_group_1_one_antigen\":0,\"HLA_group_1_three_diffs\":0,\"HLA_group_1_two_diffs\":0,\"survival_status\":1}]'"
      ]
     },
     "execution_count": 22,
     "metadata": {},
     "output_type": "execute_result"
    }
   ],
   "source": [
    "automl_training_set[:1].to_json(orient='records')\n"
   ]
  },
  {
   "cell_type": "markdown",
   "metadata": {
    "collapsed": true,
    "gather": {
     "logged": 1598431657736
    },
    "jupyter": {
     "outputs_hidden": false,
     "source_hidden": false
    },
    "nteract": {
     "transient": {
      "deleting": false
     }
    }
   },
   "source": [
    "TODO: In the cell below, send a request to the web service you deployed to test it."
   ]
  },
  {
   "cell_type": "code",
   "execution_count": null,
   "metadata": {
    "gather": {
     "logged": 1598432707604
    },
    "jupyter": {
     "outputs_hidden": false,
     "source_hidden": false
    },
    "nteract": {
     "transient": {
      "deleting": false
     }
    }
   },
   "outputs": [],
   "source": [
    "if service.state == 'Healthy':\n",
    "    x_test_json = x_test[:1].to_json(orient='records')    \n",
    "    output = service.run(x_test_json)\n",
    "    print(output['predictions'])\n",
    "\n"
   ]
  },
  {
   "cell_type": "markdown",
   "metadata": {
    "collapsed": true,
    "gather": {
     "logged": 1598432765711
    },
    "jupyter": {
     "outputs_hidden": false,
     "source_hidden": false
    },
    "nteract": {
     "transient": {
      "deleting": false
     }
    }
   },
   "source": [
    "TODO: In the cell below, print the logs of the web service and delete the service"
   ]
  },
  {
   "cell_type": "code",
   "execution_count": 50,
   "metadata": {
    "gather": {
     "logged": 1606385979439
    },
    "jupyter": {
     "outputs_hidden": false,
     "source_hidden": false
    },
    "nteract": {
     "transient": {
      "deleting": false
     }
    }
   },
   "outputs": [],
   "source": [
    "service.delete()"
   ]
  },
  {
   "cell_type": "code",
   "execution_count": null,
   "metadata": {
    "pycharm": {
     "name": "#%%\n"
    }
   },
   "outputs": [],
   "source": [
    "# delete compute cluster\n",
    "cpu_cluster.delete()\n"
   ]
  }
 ],
 "metadata": {
  "kernel_info": {
   "name": "python3"
  },
  "kernelspec": {
   "display_name": "Python 3",
   "language": "python",
   "name": "python3"
  },
  "language_info": {
   "codemirror_mode": {
    "name": "ipython",
    "version": 3
   },
   "file_extension": ".py",
   "mimetype": "text/x-python",
   "name": "python",
   "nbconvert_exporter": "python",
   "pygments_lexer": "ipython3",
   "version": "3.6.9"
  },
  "nteract": {
   "version": "nteract-front-end@1.0.0"
  }
 },
 "nbformat": 4,
 "nbformat_minor": 2
}
