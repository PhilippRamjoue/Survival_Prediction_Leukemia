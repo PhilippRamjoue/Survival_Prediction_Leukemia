{
 "cells": [
  {
   "cell_type": "markdown",
   "metadata": {},
   "source": [
    "# Automated ML\n",
    "\n",
    "TODO: Import Dependencies. In the cell below, import all the dependencies that you will need to complete the project."
   ]
  },
  {
   "cell_type": "code",
   "execution_count": 1,
   "metadata": {
    "gather": {
     "logged": 1606386833953
    },
    "jupyter": {
     "outputs_hidden": false,
     "source_hidden": false
    },
    "nteract": {
     "transient": {
      "deleting": false
     }
    }
   },
   "outputs": [],
   "source": [
    "from azureml.core import Workspace, Experiment\n",
    "from azureml.core.compute import ComputeTarget, AmlCompute\n",
    "from azureml.core.compute_target import ComputeTargetException\n",
    "from azureml.widgets import RunDetails\n",
    "from azureml.core import Environment,ScriptRunConfig\n",
    "from azureml.train.estimator import Estimator\n",
    "from azureml.train.sklearn import SKLearn\n",
    "from azureml.train.hyperdrive.run import PrimaryMetricGoal\n",
    "from azureml.train.hyperdrive.policy import BanditPolicy\n",
    "from azureml.train.hyperdrive.sampling import RandomParameterSampling\n",
    "from azureml.train.hyperdrive.runconfig import HyperDriveConfig\n",
    "from azureml.train.hyperdrive.parameter_expressions import uniform, normal, choice\n",
    "from azureml.data.dataset_factory import TabularDatasetFactory\n",
    "from azureml.core import Dataset\n",
    "from azureml.core.model import InferenceConfig, Model\n",
    "from azureml.core.webservice import AciWebservice, Webservice\n",
    "from train import clean_data\n",
    "from sklearn.model_selection import train_test_split\n",
    "import pandas as pd\n",
    "from azureml.train.automl import AutoMLConfig\n",
    "\n",
    "import os\n",
    "\n",
    "import json\n",
    "import joblib\n"
   ]
  },
  {
   "cell_type": "markdown",
   "metadata": {},
   "source": [
    "## Dataset\n",
    "\n",
    "### Overview\n",
    "TODO: In this markdown cell, give an overview of the dataset you are using. Also mention the task you will be performing.\n",
    "\n",
    "Check out the data exploration in the Readme.md file."
   ]
  },
  {
   "cell_type": "code",
   "execution_count": 2,
   "metadata": {
    "gather": {
     "logged": 1606390632790
    },
    "jupyter": {
     "outputs_hidden": false,
     "source_hidden": false
    },
    "nteract": {
     "transient": {
      "deleting": false
     }
    }
   },
   "outputs": [],
   "source": [
    "ws = Workspace.from_config()\n",
    "\n",
    "# choose a name for experiment\n",
    "experiment_name = 'automl_leukemia_experiment'\n",
    "\n",
    "# Enviornment for model deployment\n",
    "myenv = Environment(workspace=ws,name=\"myenv\")\n",
    " \n",
    "auto_exp = Experiment(ws,experiment_name)"
   ]
  },
  {
   "cell_type": "code",
   "execution_count": 3,
   "metadata": {
    "gather": {
     "logged": 1606378078757
    },
    "pycharm": {
     "name": "#%%\n"
    }
   },
   "outputs": [
    {
     "name": "stdout",
     "output_type": "stream",
     "text": [
      "Creating\n",
      "Succeeded\n",
      "AmlCompute wait for completion finished\n",
      "\n",
      "Minimum number of nodes requested have been provisioned\n"
     ]
    }
   ],
   "source": [
    "# Create compute cluster\n",
    "\n",
    "cpu_cluster_name = \"cluster-leukemia\"\n",
    "\n",
    "try:\n",
    "    cpu_cluster = ComputeTarget(workspace=ws, name=cpu_cluster_name)\n",
    "    print('Found existing cluster, use it.')\n",
    "except ComputeTargetException:\n",
    "    compute_config = AmlCompute.provisioning_configuration(vm_size='STANDARD_D2_V2',min_nodes=0,\n",
    "                                                            max_nodes=4)\n",
    "    cpu_cluster = ComputeTarget.create(ws, cpu_cluster_name, compute_config)\n",
    "\n",
    "cpu_cluster.wait_for_completion(show_output=True)"
   ]
  },
  {
   "cell_type": "markdown",
   "metadata": {},
   "source": [
    "### Dataset is hosted on Github\n",
    "\n",
    "TODO: Get data. In the cell below, write code to access the data you will be using in this project. Remember that the dataset needs to be external."
   ]
  },
  {
   "cell_type": "code",
   "execution_count": 4,
   "metadata": {
    "gather": {
     "logged": 1606378163980
    },
    "pycharm": {
     "name": "#%%\n"
    }
   },
   "outputs": [],
   "source": [
    "dataset_path = 'https://raw.githubusercontent.com/PhilippRamjoue/Leukemia_Classification/main/dataset/bone-marrow-dataset.csv'\n",
    "\n",
    "ds = Dataset.Tabular.from_delimited_files(path=dataset_path)"
   ]
  },
  {
   "cell_type": "code",
   "execution_count": 5,
   "metadata": {
    "gather": {
     "logged": 1606378168148
    },
    "pycharm": {
     "name": "#%%\n"
    }
   },
   "outputs": [
    {
     "name": "stdout",
     "output_type": "stream",
     "text": [
      "survival_status_0: 36\n",
      "survival_status_1: 85\n",
      "survival_status_ongoing: 66\n",
      "Shape of original frame: (121, 37)\n",
      "Shape of frame with dropped nan rows: (104, 37); Loss: 14 %\n"
     ]
    }
   ],
   "source": [
    "\n",
    "# Use the clean_data function to clean your data.\n",
    "x, y = clean_data(ds)\n",
    "\n",
    "# use full dataset but provide test data\n",
    "x_train,x_test,y_train,y_test = train_test_split(x,y,test_size=0.4,random_state=42)\n",
    "\n",
    "automl_training_set = pd.concat([x,y],axis=1)"
   ]
  },
  {
   "cell_type": "markdown",
   "metadata": {
    "pycharm": {
     "name": "#%% md\n"
    }
   },
   "source": [
    "## Save data in datastore\n",
    "\n",
    "A datastore is necessary to run AutoML on a remote compute"
   ]
  },
  {
   "cell_type": "code",
   "execution_count": 6,
   "metadata": {
    "gather": {
     "logged": 1606378185713
    },
    "pycharm": {
     "name": "#%%\n"
    }
   },
   "outputs": [
    {
     "name": "stdout",
     "output_type": "stream",
     "text": [
      "Uploading an estimated of 1 files\n",
      "Uploading ./data/cleaned_dataset.csv\n",
      "Uploaded ./data/cleaned_dataset.csv, 1 files out of an estimated total of 1\n",
      "Uploaded 1 files\n"
     ]
    }
   ],
   "source": [
    "\n",
    "# Create a project_folder if it doesn't exist\n",
    "if not os.path.isdir('data'):\n",
    "    os.mkdir('data')\n",
    "\n",
    "if not os.path.exists('project_folder'):\n",
    "    os.makedirs('project_folder')\n",
    "\n",
    "automl_training_set.to_csv('data/cleaned_dataset.csv')\n",
    "\n",
    "ds = ws.get_default_datastore()\n",
    "\n",
    "ds.upload(src_dir='./data', target_path='leukemiadata', overwrite=True, show_progress=True)\n",
    "\n",
    "training_data = Dataset.Tabular.from_delimited_files(path=ds.path('leukemiadata/cleaned_dataset.csv'))"
   ]
  },
  {
   "cell_type": "markdown",
   "metadata": {},
   "source": [
    "## AutoML Configuration\n",
    "\n",
    "TODO: Explain why you chose the automl settings and cofiguration you used below.\n",
    "\n",
    "The settings and configurations are explained in the Readme.md file."
   ]
  },
  {
   "cell_type": "code",
   "execution_count": 7,
   "metadata": {
    "gather": {
     "logged": 1606378238405
    },
    "pycharm": {
     "name": "#%%\n"
    }
   },
   "outputs": [],
   "source": [
    "# TODO: Put your automl settings here\n",
    "automl_settings = {'experiment_timeout_minutes':30,\n",
    "                    'primary_metric':'accuracy',\n",
    "                    'enable_early_stopping':True,\n",
    "                    'n_cross_validations':5,\n",
    "                    'max_concurrent_iterations':4\n",
    "                    }\n",
    "\n",
    "# TODO: Put your automl config here\n",
    "automl_config = AutoMLConfig(\n",
    "    task=\"classification\",\n",
    "    compute_target=cpu_cluster,\n",
    "    training_data=training_data,\n",
    "    iterations=30,\n",
    "    iteration_timeout_minutes=5,\n",
    "    label_column_name='survival_status',\n",
    "    **automl_settings\n",
    "    )"
   ]
  },
  {
   "cell_type": "code",
   "execution_count": 8,
   "metadata": {
    "gather": {
     "logged": 1606379816743
    },
    "jupyter": {
     "outputs_hidden": false,
     "source_hidden": false
    },
    "nteract": {
     "transient": {
      "deleting": false
     }
    },
    "scrolled": false
   },
   "outputs": [
    {
     "name": "stdout",
     "output_type": "stream",
     "text": [
      "Running on remote.\n",
      "Running on remote compute: cluster-leukemia\n",
      "Parent Run ID: AutoML_5579856f-bffa-4c36-84d6-e8241a6bd632\n",
      "\n",
      "Current status: FeaturesGeneration. Generating features for the dataset.\n",
      "Current status: DatasetCrossValidationSplit. Generating individually featurized CV splits.\n",
      "Current status: ModelSelection. Beginning model selection.\n",
      "\n",
      "****************************************************************************************************\n",
      "DATA GUARDRAILS: \n",
      "\n",
      "TYPE:         Class balancing detection\n",
      "STATUS:       PASSED\n",
      "DESCRIPTION:  Your inputs were analyzed, and all classes are balanced in your training data.\n",
      "              Learn more about imbalanced data: https://aka.ms/AutomatedMLImbalancedData\n",
      "\n",
      "****************************************************************************************************\n",
      "\n",
      "TYPE:         Missing feature values imputation\n",
      "STATUS:       PASSED\n",
      "DESCRIPTION:  No feature missing values were detected in the training data.\n",
      "              Learn more about missing value imputation: https://aka.ms/AutomatedMLFeaturization\n",
      "\n",
      "****************************************************************************************************\n",
      "\n",
      "TYPE:         High cardinality feature detection\n",
      "STATUS:       PASSED\n",
      "DESCRIPTION:  Your inputs were analyzed, and no high cardinality features were detected.\n",
      "              Learn more about high cardinality feature handling: https://aka.ms/AutomatedMLFeaturization\n",
      "\n",
      "****************************************************************************************************\n",
      "\n",
      "****************************************************************************************************\n",
      "ITERATION: The iteration being evaluated.\n",
      "PIPELINE: A summary description of the pipeline being evaluated.\n",
      "DURATION: Time taken for the current iteration.\n",
      "METRIC: The result of computing score on the fitted pipeline.\n",
      "BEST: The best observed score thus far.\n",
      "****************************************************************************************************\n",
      "\n",
      " ITERATION   PIPELINE                                       DURATION      METRIC      BEST\n",
      "         0   MaxAbsScaler LightGBM                          0:00:48       0.6257    0.6257\n",
      "         3   StandardScalerWrapper SGD                      0:00:36       0.6433    0.6433\n",
      "         2   MinMaxScaler RandomForest                      0:00:39       0.6443    0.6443\n",
      "         1   MaxAbsScaler XGBoostClassifier                 0:00:55       0.6824    0.6824\n",
      "         7   RobustScaler ExtremeRandomTrees                0:01:06       0.6252    0.6824\n",
      "         4   MinMaxScaler RandomForest                      0:03:17       0.6052    0.6824\n",
      "         5   StandardScalerWrapper SGD                      0:03:21       0.6243    0.6824\n",
      "         6   StandardScalerWrapper RandomForest             0:03:20       0.6243    0.6824\n",
      "         8   StandardScalerWrapper ExtremeRandomTrees       0:00:49       0.5967    0.6824\n",
      "        10   StandardScalerWrapper SGD                      0:00:45       0.6462    0.6824\n",
      "        11   MinMaxScaler SGD                               0:00:47       0.6629    0.6824\n",
      "         9   StandardScalerWrapper SGD                      0:00:51       0.6048    0.6824\n",
      "        12   RobustScaler ExtremeRandomTrees                0:00:54       0.5943    0.6824\n",
      "        13   MinMaxScaler SGD                               0:00:56       0.6843    0.6843\n",
      "        14   MinMaxScaler ExtremeRandomTrees                0:00:48       0.5852    0.6843\n",
      "        15   MinMaxScaler ExtremeRandomTrees                0:00:43       0.5948    0.6843\n",
      "        16   MinMaxScaler ExtremeRandomTrees                0:00:44       0.6543    0.6843\n",
      "        17   StandardScalerWrapper RandomForest             0:00:51       0.6719    0.6843\n",
      "        18   StandardScalerWrapper SGD                      0:00:50       0.6243    0.6843\n",
      "        20   StandardScalerWrapper RandomForest             0:00:49       0.5281    0.6843\n",
      "        19   RobustScaler ExtremeRandomTrees                0:00:50       0.6143    0.6843\n",
      "        21   MinMaxScaler ExtremeRandomTrees                0:00:46       0.6814    0.6843\n",
      "        22   MaxAbsScaler RandomForest                      0:00:54       0.6248    0.6843\n",
      "        23   MaxAbsScaler ExtremeRandomTrees                0:00:47       0.5752    0.6843\n",
      "        24   MaxAbsScaler SGD                               0:00:41       0.6333    0.6843\n",
      "        26   MinMaxScaler RandomForest                      0:00:43       0.6538    0.6843\n",
      "        25   TruncatedSVDWrapper SGD                        0:00:53       0.5348    0.6843\n",
      "        27   MinMaxScaler RandomForest                      0:00:52       0.6543    0.6843\n",
      "        28    VotingEnsemble                                0:01:03       0.7405    0.7405\n",
      "        29    StackEnsemble                                 0:00:53       0.6148    0.7405\n"
     ]
    }
   ],
   "source": [
    "# TODO: Submit your experiment\n",
    "auto_run = auto_exp.submit(config=automl_config,show_output=True)"
   ]
  },
  {
   "cell_type": "markdown",
   "metadata": {},
   "source": [
    "## Run Details\n",
    "\n",
    "OPTIONAL: Write about the different models trained and their performance. Why do you think some models did better than others?\n",
    "\n",
    "TODO: In the cell below, use the `RunDetails` widget to show the different experiments."
   ]
  },
  {
   "cell_type": "code",
   "execution_count": 9,
   "metadata": {
    "gather": {
     "logged": 1606379867852
    },
    "jupyter": {
     "outputs_hidden": false,
     "source_hidden": false
    },
    "nteract": {
     "transient": {
      "deleting": false
     }
    },
    "scrolled": false
   },
   "outputs": [
    {
     "data": {
      "application/vnd.jupyter.widget-view+json": {
       "model_id": "a516e2f45db041c496184b5aad6ddd41",
       "version_major": 2,
       "version_minor": 0
      },
      "text/plain": [
       "_AutoMLWidget(widget_settings={'childWidgetDisplay': 'popup', 'send_telemetry': False, 'log_level': 'INFO', 's…"
      ]
     },
     "metadata": {},
     "output_type": "display_data"
    },
    {
     "data": {
      "application/aml.mini.widget.v1": "{\"status\": \"Completed\", \"workbench_run_details_uri\": \"https://ml.azure.com/experiments/automl_leukemia_experiment/runs/AutoML_5579856f-bffa-4c36-84d6-e8241a6bd632?wsid=/subscriptions/a7e82b92-bbed-4497-a8df-009b71b94f9c/resourcegroups/aml-quickstarts-128600/workspaces/quick-starts-ws-128600\", \"run_id\": \"AutoML_5579856f-bffa-4c36-84d6-e8241a6bd632\", \"run_properties\": {\"run_id\": \"AutoML_5579856f-bffa-4c36-84d6-e8241a6bd632\", \"created_utc\": \"2020-12-01T07:37:25.012683Z\", \"properties\": {\"num_iterations\": \"30\", \"training_type\": \"TrainFull\", \"acquisition_function\": \"EI\", \"primary_metric\": \"accuracy\", \"train_split\": \"0\", \"acquisition_parameter\": \"0\", \"num_cross_validation\": \"5\", \"target\": \"cluster-leukemia\", \"AMLSettingsJsonString\": \"{\\\"path\\\":null,\\\"name\\\":\\\"automl_leukemia_experiment\\\",\\\"subscription_id\\\":\\\"a7e82b92-bbed-4497-a8df-009b71b94f9c\\\",\\\"resource_group\\\":\\\"aml-quickstarts-128600\\\",\\\"workspace_name\\\":\\\"quick-starts-ws-128600\\\",\\\"region\\\":\\\"southcentralus\\\",\\\"compute_target\\\":\\\"cluster-leukemia\\\",\\\"spark_service\\\":null,\\\"azure_service\\\":\\\"remote\\\",\\\"_local_managed_run_id\\\":null,\\\"many_models\\\":false,\\\"pipeline_fetch_max_batch_size\\\":1,\\\"iterations\\\":30,\\\"primary_metric\\\":\\\"accuracy\\\",\\\"task_type\\\":\\\"classification\\\",\\\"data_script\\\":null,\\\"validation_size\\\":0.0,\\\"n_cross_validations\\\":5,\\\"y_min\\\":null,\\\"y_max\\\":null,\\\"num_classes\\\":null,\\\"featurization\\\":\\\"auto\\\",\\\"_ignore_package_version_incompatibilities\\\":false,\\\"is_timeseries\\\":false,\\\"max_cores_per_iteration\\\":1,\\\"max_concurrent_iterations\\\":4,\\\"iteration_timeout_minutes\\\":5,\\\"mem_in_mb\\\":null,\\\"enforce_time_on_windows\\\":false,\\\"experiment_timeout_minutes\\\":30,\\\"experiment_exit_score\\\":null,\\\"whitelist_models\\\":null,\\\"blacklist_algos\\\":[\\\"TensorFlowLinearClassifier\\\",\\\"TensorFlowDNN\\\"],\\\"supported_models\\\":[\\\"TensorFlowLinearClassifier\\\",\\\"GradientBoosting\\\",\\\"BernoulliNaiveBayes\\\",\\\"XGBoostClassifier\\\",\\\"TensorFlowDNN\\\",\\\"ExtremeRandomTrees\\\",\\\"RandomForest\\\",\\\"SGD\\\",\\\"LinearSVM\\\",\\\"LogisticRegression\\\",\\\"KNN\\\",\\\"SVM\\\",\\\"AveragedPerceptronClassifier\\\",\\\"LightGBM\\\",\\\"DecisionTree\\\",\\\"MultinomialNaiveBayes\\\"],\\\"auto_blacklist\\\":true,\\\"blacklist_samples_reached\\\":false,\\\"exclude_nan_labels\\\":true,\\\"verbosity\\\":20,\\\"_debug_log\\\":\\\"azureml_automl.log\\\",\\\"show_warnings\\\":false,\\\"model_explainability\\\":true,\\\"service_url\\\":null,\\\"sdk_url\\\":null,\\\"sdk_packages\\\":null,\\\"enable_onnx_compatible_models\\\":false,\\\"enable_split_onnx_featurizer_estimator_models\\\":false,\\\"vm_type\\\":\\\"STANDARD_D2_V2\\\",\\\"telemetry_verbosity\\\":20,\\\"send_telemetry\\\":true,\\\"enable_dnn\\\":false,\\\"scenario\\\":\\\"SDK-1.13.0\\\",\\\"environment_label\\\":null,\\\"force_text_dnn\\\":false,\\\"enable_feature_sweeping\\\":true,\\\"enable_early_stopping\\\":true,\\\"early_stopping_n_iters\\\":10,\\\"metrics\\\":null,\\\"enable_ensembling\\\":true,\\\"enable_stack_ensembling\\\":true,\\\"ensemble_iterations\\\":15,\\\"enable_tf\\\":false,\\\"enable_subsampling\\\":false,\\\"subsample_seed\\\":null,\\\"enable_nimbusml\\\":false,\\\"enable_streaming\\\":false,\\\"force_streaming\\\":false,\\\"track_child_runs\\\":true,\\\"allowed_private_models\\\":[],\\\"label_column_name\\\":\\\"survival_status\\\",\\\"weight_column_name\\\":null,\\\"cv_split_column_names\\\":null,\\\"enable_local_managed\\\":false,\\\"cost_mode\\\":1,\\\"lag_length\\\":0,\\\"metric_operation\\\":\\\"maximize\\\",\\\"preprocess\\\":true}\", \"DataPrepJsonString\": \"{\\\\\\\"training_data\\\\\\\": \\\\\\\"{\\\\\\\\\\\\\\\"blocks\\\\\\\\\\\\\\\": [{\\\\\\\\\\\\\\\"id\\\\\\\\\\\\\\\": \\\\\\\\\\\\\\\"067b333b-d452-4e91-85f2-d94217c5bf01\\\\\\\\\\\\\\\", \\\\\\\\\\\\\\\"type\\\\\\\\\\\\\\\": \\\\\\\\\\\\\\\"Microsoft.DPrep.GetDatastoreFilesBlock\\\\\\\\\\\\\\\", \\\\\\\\\\\\\\\"arguments\\\\\\\\\\\\\\\": {\\\\\\\\\\\\\\\"datastores\\\\\\\\\\\\\\\": [{\\\\\\\\\\\\\\\"datastoreName\\\\\\\\\\\\\\\": \\\\\\\\\\\\\\\"workspaceblobstore\\\\\\\\\\\\\\\", \\\\\\\\\\\\\\\"path\\\\\\\\\\\\\\\": \\\\\\\\\\\\\\\"leukemiadata/cleaned_dataset.csv\\\\\\\\\\\\\\\", \\\\\\\\\\\\\\\"resourceGroup\\\\\\\\\\\\\\\": \\\\\\\\\\\\\\\"aml-quickstarts-128600\\\\\\\\\\\\\\\", \\\\\\\\\\\\\\\"subscription\\\\\\\\\\\\\\\": \\\\\\\\\\\\\\\"a7e82b92-bbed-4497-a8df-009b71b94f9c\\\\\\\\\\\\\\\", \\\\\\\\\\\\\\\"workspaceName\\\\\\\\\\\\\\\": \\\\\\\\\\\\\\\"quick-starts-ws-128600\\\\\\\\\\\\\\\"}]}, \\\\\\\\\\\\\\\"localData\\\\\\\\\\\\\\\": {}, \\\\\\\\\\\\\\\"isEnabled\\\\\\\\\\\\\\\": true, \\\\\\\\\\\\\\\"name\\\\\\\\\\\\\\\": null, \\\\\\\\\\\\\\\"annotation\\\\\\\\\\\\\\\": null}, {\\\\\\\\\\\\\\\"id\\\\\\\\\\\\\\\": \\\\\\\\\\\\\\\"d2d5e08a-1a6a-494f-bdd1-4e935f419931\\\\\\\\\\\\\\\", \\\\\\\\\\\\\\\"type\\\\\\\\\\\\\\\": \\\\\\\\\\\\\\\"Microsoft.DPrep.ParseDelimitedBlock\\\\\\\\\\\\\\\", \\\\\\\\\\\\\\\"arguments\\\\\\\\\\\\\\\": {\\\\\\\\\\\\\\\"columnHeadersMode\\\\\\\\\\\\\\\": 3, \\\\\\\\\\\\\\\"fileEncoding\\\\\\\\\\\\\\\": 0, \\\\\\\\\\\\\\\"handleQuotedLineBreaks\\\\\\\\\\\\\\\": false, \\\\\\\\\\\\\\\"preview\\\\\\\\\\\\\\\": false, \\\\\\\\\\\\\\\"separator\\\\\\\\\\\\\\\": \\\\\\\\\\\\\\\",\\\\\\\\\\\\\\\", \\\\\\\\\\\\\\\"skipRows\\\\\\\\\\\\\\\": 0, \\\\\\\\\\\\\\\"skipRowsMode\\\\\\\\\\\\\\\": 0}, \\\\\\\\\\\\\\\"localData\\\\\\\\\\\\\\\": {}, \\\\\\\\\\\\\\\"isEnabled\\\\\\\\\\\\\\\": true, \\\\\\\\\\\\\\\"name\\\\\\\\\\\\\\\": null, \\\\\\\\\\\\\\\"annotation\\\\\\\\\\\\\\\": null}, {\\\\\\\\\\\\\\\"id\\\\\\\\\\\\\\\": \\\\\\\\\\\\\\\"65806302-9a7b-4a23-805a-288d363b2830\\\\\\\\\\\\\\\", \\\\\\\\\\\\\\\"type\\\\\\\\\\\\\\\": \\\\\\\\\\\\\\\"Microsoft.DPrep.DropColumnsBlock\\\\\\\\\\\\\\\", \\\\\\\\\\\\\\\"arguments\\\\\\\\\\\\\\\": {\\\\\\\\\\\\\\\"columns\\\\\\\\\\\\\\\": {\\\\\\\\\\\\\\\"type\\\\\\\\\\\\\\\": 0, \\\\\\\\\\\\\\\"details\\\\\\\\\\\\\\\": {\\\\\\\\\\\\\\\"selectedColumns\\\\\\\\\\\\\\\": [\\\\\\\\\\\\\\\"Path\\\\\\\\\\\\\\\"]}}}, \\\\\\\\\\\\\\\"localData\\\\\\\\\\\\\\\": {}, \\\\\\\\\\\\\\\"isEnabled\\\\\\\\\\\\\\\": true, \\\\\\\\\\\\\\\"name\\\\\\\\\\\\\\\": null, \\\\\\\\\\\\\\\"annotation\\\\\\\\\\\\\\\": null}, {\\\\\\\\\\\\\\\"id\\\\\\\\\\\\\\\": \\\\\\\\\\\\\\\"42526d76-9040-41dd-8724-93dd28b53576\\\\\\\\\\\\\\\", \\\\\\\\\\\\\\\"type\\\\\\\\\\\\\\\": \\\\\\\\\\\\\\\"Microsoft.DPrep.SetColumnTypesBlock\\\\\\\\\\\\\\\", \\\\\\\\\\\\\\\"arguments\\\\\\\\\\\\\\\": {\\\\\\\\\\\\\\\"columnConversion\\\\\\\\\\\\\\\": [{\\\\\\\\\\\\\\\"column\\\\\\\\\\\\\\\": {\\\\\\\\\\\\\\\"type\\\\\\\\\\\\\\\": 2, \\\\\\\\\\\\\\\"details\\\\\\\\\\\\\\\": {\\\\\\\\\\\\\\\"selectedColumn\\\\\\\\\\\\\\\": \\\\\\\\\\\\\\\"Column1\\\\\\\\\\\\\\\"}}, \\\\\\\\\\\\\\\"typeProperty\\\\\\\\\\\\\\\": 2}, {\\\\\\\\\\\\\\\"column\\\\\\\\\\\\\\\": {\\\\\\\\\\\\\\\"type\\\\\\\\\\\\\\\": 2, \\\\\\\\\\\\\\\"details\\\\\\\\\\\\\\\": {\\\\\\\\\\\\\\\"selectedColumn\\\\\\\\\\\\\\\": \\\\\\\\\\\\\\\"donor_age_below_35\\\\\\\\\\\\\\\"}}, \\\\\\\\\\\\\\\"typeProperty\\\\\\\\\\\\\\\": 2}, {\\\\\\\\\\\\\\\"column\\\\\\\\\\\\\\\": {\\\\\\\\\\\\\\\"type\\\\\\\\\\\\\\\": 2, \\\\\\\\\\\\\\\"details\\\\\\\\\\\\\\\": {\\\\\\\\\\\\\\\"selectedColumn\\\\\\\\\\\\\\\": \\\\\\\\\\\\\\\"donor_CMV\\\\\\\\\\\\\\\"}}, \\\\\\\\\\\\\\\"typeProperty\\\\\\\\\\\\\\\": 2}, {\\\\\\\\\\\\\\\"column\\\\\\\\\\\\\\\": {\\\\\\\\\\\\\\\"type\\\\\\\\\\\\\\\": 2, \\\\\\\\\\\\\\\"details\\\\\\\\\\\\\\\": {\\\\\\\\\\\\\\\"selectedColumn\\\\\\\\\\\\\\\": \\\\\\\\\\\\\\\"recipient_age_below_10\\\\\\\\\\\\\\\"}}, \\\\\\\\\\\\\\\"typeProperty\\\\\\\\\\\\\\\": 2}, {\\\\\\\\\\\\\\\"column\\\\\\\\\\\\\\\": {\\\\\\\\\\\\\\\"type\\\\\\\\\\\\\\\": 2, \\\\\\\\\\\\\\\"details\\\\\\\\\\\\\\\": {\\\\\\\\\\\\\\\"selectedColumn\\\\\\\\\\\\\\\": \\\\\\\\\\\\\\\"recipient_gender\\\\\\\\\\\\\\\"}}, \\\\\\\\\\\\\\\"typeProperty\\\\\\\\\\\\\\\": 2}, {\\\\\\\\\\\\\\\"column\\\\\\\\\\\\\\\": {\\\\\\\\\\\\\\\"type\\\\\\\\\\\\\\\": 2, \\\\\\\\\\\\\\\"details\\\\\\\\\\\\\\\": {\\\\\\\\\\\\\\\"selectedColumn\\\\\\\\\\\\\\\": \\\\\\\\\\\\\\\"recipient_rh\\\\\\\\\\\\\\\"}}, \\\\\\\\\\\\\\\"typeProperty\\\\\\\\\\\\\\\": 2}, {\\\\\\\\\\\\\\\"column\\\\\\\\\\\\\\\": {\\\\\\\\\\\\\\\"type\\\\\\\\\\\\\\\": 2, \\\\\\\\\\\\\\\"details\\\\\\\\\\\\\\\": {\\\\\\\\\\\\\\\"selectedColumn\\\\\\\\\\\\\\\": \\\\\\\\\\\\\\\"recipient_CMV\\\\\\\\\\\\\\\"}}, \\\\\\\\\\\\\\\"typeProperty\\\\\\\\\\\\\\\": 2}, {\\\\\\\\\\\\\\\"column\\\\\\\\\\\\\\\": {\\\\\\\\\\\\\\\"type\\\\\\\\\\\\\\\": 2, \\\\\\\\\\\\\\\"details\\\\\\\\\\\\\\\": {\\\\\\\\\\\\\\\"selectedColumn\\\\\\\\\\\\\\\": \\\\\\\\\\\\\\\"gender_match\\\\\\\\\\\\\\\"}}, \\\\\\\\\\\\\\\"typeProperty\\\\\\\\\\\\\\\": 2}, {\\\\\\\\\\\\\\\"column\\\\\\\\\\\\\\\": {\\\\\\\\\\\\\\\"type\\\\\\\\\\\\\\\": 2, \\\\\\\\\\\\\\\"details\\\\\\\\\\\\\\\": {\\\\\\\\\\\\\\\"selectedColumn\\\\\\\\\\\\\\\": \\\\\\\\\\\\\\\"ABO_match\\\\\\\\\\\\\\\"}}, \\\\\\\\\\\\\\\"typeProperty\\\\\\\\\\\\\\\": 2}, {\\\\\\\\\\\\\\\"column\\\\\\\\\\\\\\\": {\\\\\\\\\\\\\\\"type\\\\\\\\\\\\\\\": 2, \\\\\\\\\\\\\\\"details\\\\\\\\\\\\\\\": {\\\\\\\\\\\\\\\"selectedColumn\\\\\\\\\\\\\\\": \\\\\\\\\\\\\\\"HLA_mismatch\\\\\\\\\\\\\\\"}}, \\\\\\\\\\\\\\\"typeProperty\\\\\\\\\\\\\\\": 2}, {\\\\\\\\\\\\\\\"column\\\\\\\\\\\\\\\": {\\\\\\\\\\\\\\\"type\\\\\\\\\\\\\\\": 2, \\\\\\\\\\\\\\\"details\\\\\\\\\\\\\\\": {\\\\\\\\\\\\\\\"selectedColumn\\\\\\\\\\\\\\\": \\\\\\\\\\\\\\\"risk_group\\\\\\\\\\\\\\\"}}, \\\\\\\\\\\\\\\"typeProperty\\\\\\\\\\\\\\\": 2}, {\\\\\\\\\\\\\\\"column\\\\\\\\\\\\\\\": {\\\\\\\\\\\\\\\"type\\\\\\\\\\\\\\\": 2, \\\\\\\\\\\\\\\"details\\\\\\\\\\\\\\\": {\\\\\\\\\\\\\\\"selectedColumn\\\\\\\\\\\\\\\": \\\\\\\\\\\\\\\"stem_cell_source\\\\\\\\\\\\\\\"}}, \\\\\\\\\\\\\\\"typeProperty\\\\\\\\\\\\\\\": 2}, {\\\\\\\\\\\\\\\"column\\\\\\\\\\\\\\\": {\\\\\\\\\\\\\\\"type\\\\\\\\\\\\\\\": 2, \\\\\\\\\\\\\\\"details\\\\\\\\\\\\\\\": {\\\\\\\\\\\\\\\"selectedColumn\\\\\\\\\\\\\\\": \\\\\\\\\\\\\\\"tx_post_relapse\\\\\\\\\\\\\\\"}}, \\\\\\\\\\\\\\\"typeProperty\\\\\\\\\\\\\\\": 2}, {\\\\\\\\\\\\\\\"column\\\\\\\\\\\\\\\": {\\\\\\\\\\\\\\\"type\\\\\\\\\\\\\\\": 2, \\\\\\\\\\\\\\\"details\\\\\\\\\\\\\\\": {\\\\\\\\\\\\\\\"selectedColumn\\\\\\\\\\\\\\\": \\\\\\\\\\\\\\\"ANC_recovery\\\\\\\\\\\\\\\"}}, \\\\\\\\\\\\\\\"typeProperty\\\\\\\\\\\\\\\": 2}, {\\\\\\\\\\\\\\\"column\\\\\\\\\\\\\\\": {\\\\\\\\\\\\\\\"type\\\\\\\\\\\\\\\": 2, \\\\\\\\\\\\\\\"details\\\\\\\\\\\\\\\": {\\\\\\\\\\\\\\\"selectedColumn\\\\\\\\\\\\\\\": \\\\\\\\\\\\\\\"PLT_recovery\\\\\\\\\\\\\\\"}}, \\\\\\\\\\\\\\\"typeProperty\\\\\\\\\\\\\\\": 2}, {\\\\\\\\\\\\\\\"column\\\\\\\\\\\\\\\": {\\\\\\\\\\\\\\\"type\\\\\\\\\\\\\\\": 2, \\\\\\\\\\\\\\\"details\\\\\\\\\\\\\\\": {\\\\\\\\\\\\\\\"selectedColumn\\\\\\\\\\\\\\\": \\\\\\\\\\\\\\\"acute_GvHD_II_III_IV\\\\\\\\\\\\\\\"}}, \\\\\\\\\\\\\\\"typeProperty\\\\\\\\\\\\\\\": 2}, {\\\\\\\\\\\\\\\"column\\\\\\\\\\\\\\\": {\\\\\\\\\\\\\\\"type\\\\\\\\\\\\\\\": 2, \\\\\\\\\\\\\\\"details\\\\\\\\\\\\\\\": {\\\\\\\\\\\\\\\"selectedColumn\\\\\\\\\\\\\\\": \\\\\\\\\\\\\\\"acute_GvHD_III_IV\\\\\\\\\\\\\\\"}}, \\\\\\\\\\\\\\\"typeProperty\\\\\\\\\\\\\\\": 2}, {\\\\\\\\\\\\\\\"column\\\\\\\\\\\\\\\": {\\\\\\\\\\\\\\\"type\\\\\\\\\\\\\\\": 2, \\\\\\\\\\\\\\\"details\\\\\\\\\\\\\\\": {\\\\\\\\\\\\\\\"selectedColumn\\\\\\\\\\\\\\\": \\\\\\\\\\\\\\\"relapse\\\\\\\\\\\\\\\"}}, \\\\\\\\\\\\\\\"typeProperty\\\\\\\\\\\\\\\": 2}, {\\\\\\\\\\\\\\\"column\\\\\\\\\\\\\\\": {\\\\\\\\\\\\\\\"type\\\\\\\\\\\\\\\": 2, \\\\\\\\\\\\\\\"details\\\\\\\\\\\\\\\": {\\\\\\\\\\\\\\\"selectedColumn\\\\\\\\\\\\\\\": \\\\\\\\\\\\\\\"donor_age\\\\\\\\\\\\\\\"}}, \\\\\\\\\\\\\\\"typeProperty\\\\\\\\\\\\\\\": 3}, {\\\\\\\\\\\\\\\"column\\\\\\\\\\\\\\\": {\\\\\\\\\\\\\\\"type\\\\\\\\\\\\\\\": 2, \\\\\\\\\\\\\\\"details\\\\\\\\\\\\\\\": {\\\\\\\\\\\\\\\"selectedColumn\\\\\\\\\\\\\\\": \\\\\\\\\\\\\\\"recipient_age\\\\\\\\\\\\\\\"}}, \\\\\\\\\\\\\\\"typeProperty\\\\\\\\\\\\\\\": 3}, {\\\\\\\\\\\\\\\"column\\\\\\\\\\\\\\\": {\\\\\\\\\\\\\\\"type\\\\\\\\\\\\\\\": 2, \\\\\\\\\\\\\\\"details\\\\\\\\\\\\\\\": {\\\\\\\\\\\\\\\"selectedColumn\\\\\\\\\\\\\\\": \\\\\\\\\\\\\\\"recipient_body_mass\\\\\\\\\\\\\\\"}}, \\\\\\\\\\\\\\\"typeProperty\\\\\\\\\\\\\\\": 3}, {\\\\\\\\\\\\\\\"column\\\\\\\\\\\\\\\": {\\\\\\\\\\\\\\\"type\\\\\\\\\\\\\\\": 2, \\\\\\\\\\\\\\\"details\\\\\\\\\\\\\\\": {\\\\\\\\\\\\\\\"selectedColumn\\\\\\\\\\\\\\\": \\\\\\\\\\\\\\\"CD34_x1e6_per_kg\\\\\\\\\\\\\\\"}}, \\\\\\\\\\\\\\\"typeProperty\\\\\\\\\\\\\\\": 3}, {\\\\\\\\\\\\\\\"column\\\\\\\\\\\\\\\": {\\\\\\\\\\\\\\\"type\\\\\\\\\\\\\\\": 2, \\\\\\\\\\\\\\\"details\\\\\\\\\\\\\\\": {\\\\\\\\\\\\\\\"selectedColumn\\\\\\\\\\\\\\\": \\\\\\\\\\\\\\\"CD3_x1e8_per_kg\\\\\\\\\\\\\\\"}}, \\\\\\\\\\\\\\\"typeProperty\\\\\\\\\\\\\\\": 3}, {\\\\\\\\\\\\\\\"column\\\\\\\\\\\\\\\": {\\\\\\\\\\\\\\\"type\\\\\\\\\\\\\\\": 2, \\\\\\\\\\\\\\\"details\\\\\\\\\\\\\\\": {\\\\\\\\\\\\\\\"selectedColumn\\\\\\\\\\\\\\\": \\\\\\\\\\\\\\\"CD3_to_CD34_ratio\\\\\\\\\\\\\\\"}}, \\\\\\\\\\\\\\\"typeProperty\\\\\\\\\\\\\\\": 3}, {\\\\\\\\\\\\\\\"column\\\\\\\\\\\\\\\": {\\\\\\\\\\\\\\\"type\\\\\\\\\\\\\\\": 2, \\\\\\\\\\\\\\\"details\\\\\\\\\\\\\\\": {\\\\\\\\\\\\\\\"selectedColumn\\\\\\\\\\\\\\\": \\\\\\\\\\\\\\\"time_to_ANC_recovery\\\\\\\\\\\\\\\"}}, \\\\\\\\\\\\\\\"typeProperty\\\\\\\\\\\\\\\": 3}, {\\\\\\\\\\\\\\\"column\\\\\\\\\\\\\\\": {\\\\\\\\\\\\\\\"type\\\\\\\\\\\\\\\": 2, \\\\\\\\\\\\\\\"details\\\\\\\\\\\\\\\": {\\\\\\\\\\\\\\\"selectedColumn\\\\\\\\\\\\\\\": \\\\\\\\\\\\\\\"time_to_PLT_recovery\\\\\\\\\\\\\\\"}}, \\\\\\\\\\\\\\\"typeProperty\\\\\\\\\\\\\\\": 3}, {\\\\\\\\\\\\\\\"column\\\\\\\\\\\\\\\": {\\\\\\\\\\\\\\\"type\\\\\\\\\\\\\\\": 2, \\\\\\\\\\\\\\\"details\\\\\\\\\\\\\\\": {\\\\\\\\\\\\\\\"selectedColumn\\\\\\\\\\\\\\\": \\\\\\\\\\\\\\\"time_to_acute_GvHD_III_IV\\\\\\\\\\\\\\\"}}, \\\\\\\\\\\\\\\"typeProperty\\\\\\\\\\\\\\\": 3}, {\\\\\\\\\\\\\\\"column\\\\\\\\\\\\\\\": {\\\\\\\\\\\\\\\"type\\\\\\\\\\\\\\\": 2, \\\\\\\\\\\\\\\"details\\\\\\\\\\\\\\\": {\\\\\\\\\\\\\\\"selectedColumn\\\\\\\\\\\\\\\": \\\\\\\\\\\\\\\"donor_ABO_0\\\\\\\\\\\\\\\"}}, \\\\\\\\\\\\\\\"typeProperty\\\\\\\\\\\\\\\": 2}, {\\\\\\\\\\\\\\\"column\\\\\\\\\\\\\\\": {\\\\\\\\\\\\\\\"type\\\\\\\\\\\\\\\": 2, \\\\\\\\\\\\\\\"details\\\\\\\\\\\\\\\": {\\\\\\\\\\\\\\\"selectedColumn\\\\\\\\\\\\\\\": \\\\\\\\\\\\\\\"donor_ABO_A\\\\\\\\\\\\\\\"}}, \\\\\\\\\\\\\\\"typeProperty\\\\\\\\\\\\\\\": 2}, {\\\\\\\\\\\\\\\"column\\\\\\\\\\\\\\\": {\\\\\\\\\\\\\\\"type\\\\\\\\\\\\\\\": 2, \\\\\\\\\\\\\\\"details\\\\\\\\\\\\\\\": {\\\\\\\\\\\\\\\"selectedColumn\\\\\\\\\\\\\\\": \\\\\\\\\\\\\\\"donor_ABO_AB\\\\\\\\\\\\\\\"}}, \\\\\\\\\\\\\\\"typeProperty\\\\\\\\\\\\\\\": 2}, {\\\\\\\\\\\\\\\"column\\\\\\\\\\\\\\\": {\\\\\\\\\\\\\\\"type\\\\\\\\\\\\\\\": 2, \\\\\\\\\\\\\\\"details\\\\\\\\\\\\\\\": {\\\\\\\\\\\\\\\"selectedColumn\\\\\\\\\\\\\\\": \\\\\\\\\\\\\\\"donor_ABO_B\\\\\\\\\\\\\\\"}}, \\\\\\\\\\\\\\\"typeProperty\\\\\\\\\\\\\\\": 2}, {\\\\\\\\\\\\\\\"column\\\\\\\\\\\\\\\": {\\\\\\\\\\\\\\\"type\\\\\\\\\\\\\\\": 2, \\\\\\\\\\\\\\\"details\\\\\\\\\\\\\\\": {\\\\\\\\\\\\\\\"selectedColumn\\\\\\\\\\\\\\\": \\\\\\\\\\\\\\\"recipient_age_int_0_5\\\\\\\\\\\\\\\"}}, \\\\\\\\\\\\\\\"typeProperty\\\\\\\\\\\\\\\": 2}, {\\\\\\\\\\\\\\\"column\\\\\\\\\\\\\\\": {\\\\\\\\\\\\\\\"type\\\\\\\\\\\\\\\": 2, \\\\\\\\\\\\\\\"details\\\\\\\\\\\\\\\": {\\\\\\\\\\\\\\\"selectedColumn\\\\\\\\\\\\\\\": \\\\\\\\\\\\\\\"recipient_age_int_10_20\\\\\\\\\\\\\\\"}}, \\\\\\\\\\\\\\\"typeProperty\\\\\\\\\\\\\\\": 2}, {\\\\\\\\\\\\\\\"column\\\\\\\\\\\\\\\": {\\\\\\\\\\\\\\\"type\\\\\\\\\\\\\\\": 2, \\\\\\\\\\\\\\\"details\\\\\\\\\\\\\\\": {\\\\\\\\\\\\\\\"selectedColumn\\\\\\\\\\\\\\\": \\\\\\\\\\\\\\\"recipient_age_int_5_10\\\\\\\\\\\\\\\"}}, \\\\\\\\\\\\\\\"typeProperty\\\\\\\\\\\\\\\": 2}, {\\\\\\\\\\\\\\\"column\\\\\\\\\\\\\\\": {\\\\\\\\\\\\\\\"type\\\\\\\\\\\\\\\": 2, \\\\\\\\\\\\\\\"details\\\\\\\\\\\\\\\": {\\\\\\\\\\\\\\\"selectedColumn\\\\\\\\\\\\\\\": \\\\\\\\\\\\\\\"recipient_ABO_0\\\\\\\\\\\\\\\"}}, \\\\\\\\\\\\\\\"typeProperty\\\\\\\\\\\\\\\": 2}, {\\\\\\\\\\\\\\\"column\\\\\\\\\\\\\\\": {\\\\\\\\\\\\\\\"type\\\\\\\\\\\\\\\": 2, \\\\\\\\\\\\\\\"details\\\\\\\\\\\\\\\": {\\\\\\\\\\\\\\\"selectedColumn\\\\\\\\\\\\\\\": \\\\\\\\\\\\\\\"recipient_ABO_A\\\\\\\\\\\\\\\"}}, \\\\\\\\\\\\\\\"typeProperty\\\\\\\\\\\\\\\": 2}, {\\\\\\\\\\\\\\\"column\\\\\\\\\\\\\\\": {\\\\\\\\\\\\\\\"type\\\\\\\\\\\\\\\": 2, \\\\\\\\\\\\\\\"details\\\\\\\\\\\\\\\": {\\\\\\\\\\\\\\\"selectedColumn\\\\\\\\\\\\\\\": \\\\\\\\\\\\\\\"recipient_ABO_AB\\\\\\\\\\\\\\\"}}, \\\\\\\\\\\\\\\"typeProperty\\\\\\\\\\\\\\\": 2}, {\\\\\\\\\\\\\\\"column\\\\\\\\\\\\\\\": {\\\\\\\\\\\\\\\"type\\\\\\\\\\\\\\\": 2, \\\\\\\\\\\\\\\"details\\\\\\\\\\\\\\\": {\\\\\\\\\\\\\\\"selectedColumn\\\\\\\\\\\\\\\": \\\\\\\\\\\\\\\"recipient_ABO_B\\\\\\\\\\\\\\\"}}, \\\\\\\\\\\\\\\"typeProperty\\\\\\\\\\\\\\\": 2}, {\\\\\\\\\\\\\\\"column\\\\\\\\\\\\\\\": {\\\\\\\\\\\\\\\"type\\\\\\\\\\\\\\\": 2, \\\\\\\\\\\\\\\"details\\\\\\\\\\\\\\\": {\\\\\\\\\\\\\\\"selectedColumn\\\\\\\\\\\\\\\": \\\\\\\\\\\\\\\"disease_ALL\\\\\\\\\\\\\\\"}}, \\\\\\\\\\\\\\\"typeProperty\\\\\\\\\\\\\\\": 2}, {\\\\\\\\\\\\\\\"column\\\\\\\\\\\\\\\": {\\\\\\\\\\\\\\\"type\\\\\\\\\\\\\\\": 2, \\\\\\\\\\\\\\\"details\\\\\\\\\\\\\\\": {\\\\\\\\\\\\\\\"selectedColumn\\\\\\\\\\\\\\\": \\\\\\\\\\\\\\\"disease_AML\\\\\\\\\\\\\\\"}}, \\\\\\\\\\\\\\\"typeProperty\\\\\\\\\\\\\\\": 2}, {\\\\\\\\\\\\\\\"column\\\\\\\\\\\\\\\": {\\\\\\\\\\\\\\\"type\\\\\\\\\\\\\\\": 2, \\\\\\\\\\\\\\\"details\\\\\\\\\\\\\\\": {\\\\\\\\\\\\\\\"selectedColumn\\\\\\\\\\\\\\\": \\\\\\\\\\\\\\\"disease_chronic\\\\\\\\\\\\\\\"}}, \\\\\\\\\\\\\\\"typeProperty\\\\\\\\\\\\\\\": 2}, {\\\\\\\\\\\\\\\"column\\\\\\\\\\\\\\\": {\\\\\\\\\\\\\\\"type\\\\\\\\\\\\\\\": 2, \\\\\\\\\\\\\\\"details\\\\\\\\\\\\\\\": {\\\\\\\\\\\\\\\"selectedColumn\\\\\\\\\\\\\\\": \\\\\\\\\\\\\\\"disease_lymphoma\\\\\\\\\\\\\\\"}}, \\\\\\\\\\\\\\\"typeProperty\\\\\\\\\\\\\\\": 2}, {\\\\\\\\\\\\\\\"column\\\\\\\\\\\\\\\": {\\\\\\\\\\\\\\\"type\\\\\\\\\\\\\\\": 2, \\\\\\\\\\\\\\\"details\\\\\\\\\\\\\\\": {\\\\\\\\\\\\\\\"selectedColumn\\\\\\\\\\\\\\\": \\\\\\\\\\\\\\\"disease_nonmalignant\\\\\\\\\\\\\\\"}}, \\\\\\\\\\\\\\\"typeProperty\\\\\\\\\\\\\\\": 2}, {\\\\\\\\\\\\\\\"column\\\\\\\\\\\\\\\": {\\\\\\\\\\\\\\\"type\\\\\\\\\\\\\\\": 2, \\\\\\\\\\\\\\\"details\\\\\\\\\\\\\\\": {\\\\\\\\\\\\\\\"selectedColumn\\\\\\\\\\\\\\\": \\\\\\\\\\\\\\\"disease_group_malignant\\\\\\\\\\\\\\\"}}, \\\\\\\\\\\\\\\"typeProperty\\\\\\\\\\\\\\\": 2}, {\\\\\\\\\\\\\\\"column\\\\\\\\\\\\\\\": {\\\\\\\\\\\\\\\"type\\\\\\\\\\\\\\\": 2, \\\\\\\\\\\\\\\"details\\\\\\\\\\\\\\\": {\\\\\\\\\\\\\\\"selectedColumn\\\\\\\\\\\\\\\": \\\\\\\\\\\\\\\"disease_group_nonmalignant\\\\\\\\\\\\\\\"}}, \\\\\\\\\\\\\\\"typeProperty\\\\\\\\\\\\\\\": 2}, {\\\\\\\\\\\\\\\"column\\\\\\\\\\\\\\\": {\\\\\\\\\\\\\\\"type\\\\\\\\\\\\\\\": 2, \\\\\\\\\\\\\\\"details\\\\\\\\\\\\\\\": {\\\\\\\\\\\\\\\"selectedColumn\\\\\\\\\\\\\\\": \\\\\\\\\\\\\\\"CMV_status_0\\\\\\\\\\\\\\\"}}, \\\\\\\\\\\\\\\"typeProperty\\\\\\\\\\\\\\\": 2}, {\\\\\\\\\\\\\\\"column\\\\\\\\\\\\\\\": {\\\\\\\\\\\\\\\"type\\\\\\\\\\\\\\\": 2, \\\\\\\\\\\\\\\"details\\\\\\\\\\\\\\\": {\\\\\\\\\\\\\\\"selectedColumn\\\\\\\\\\\\\\\": \\\\\\\\\\\\\\\"CMV_status_1\\\\\\\\\\\\\\\"}}, \\\\\\\\\\\\\\\"typeProperty\\\\\\\\\\\\\\\": 2}, {\\\\\\\\\\\\\\\"column\\\\\\\\\\\\\\\": {\\\\\\\\\\\\\\\"type\\\\\\\\\\\\\\\": 2, \\\\\\\\\\\\\\\"details\\\\\\\\\\\\\\\": {\\\\\\\\\\\\\\\"selectedColumn\\\\\\\\\\\\\\\": \\\\\\\\\\\\\\\"CMV_status_2\\\\\\\\\\\\\\\"}}, \\\\\\\\\\\\\\\"typeProperty\\\\\\\\\\\\\\\": 2}, {\\\\\\\\\\\\\\\"column\\\\\\\\\\\\\\\": {\\\\\\\\\\\\\\\"type\\\\\\\\\\\\\\\": 2, \\\\\\\\\\\\\\\"details\\\\\\\\\\\\\\\": {\\\\\\\\\\\\\\\"selectedColumn\\\\\\\\\\\\\\\": \\\\\\\\\\\\\\\"CMV_status_3\\\\\\\\\\\\\\\"}}, \\\\\\\\\\\\\\\"typeProperty\\\\\\\\\\\\\\\": 2}, {\\\\\\\\\\\\\\\"column\\\\\\\\\\\\\\\": {\\\\\\\\\\\\\\\"type\\\\\\\\\\\\\\\": 2, \\\\\\\\\\\\\\\"details\\\\\\\\\\\\\\\": {\\\\\\\\\\\\\\\"selectedColumn\\\\\\\\\\\\\\\": \\\\\\\\\\\\\\\"HLA_match_10/10\\\\\\\\\\\\\\\"}}, \\\\\\\\\\\\\\\"typeProperty\\\\\\\\\\\\\\\": 2}, {\\\\\\\\\\\\\\\"column\\\\\\\\\\\\\\\": {\\\\\\\\\\\\\\\"type\\\\\\\\\\\\\\\": 2, \\\\\\\\\\\\\\\"details\\\\\\\\\\\\\\\": {\\\\\\\\\\\\\\\"selectedColumn\\\\\\\\\\\\\\\": \\\\\\\\\\\\\\\"HLA_match_7/10\\\\\\\\\\\\\\\"}}, \\\\\\\\\\\\\\\"typeProperty\\\\\\\\\\\\\\\": 2}, {\\\\\\\\\\\\\\\"column\\\\\\\\\\\\\\\": {\\\\\\\\\\\\\\\"type\\\\\\\\\\\\\\\": 2, \\\\\\\\\\\\\\\"details\\\\\\\\\\\\\\\": {\\\\\\\\\\\\\\\"selectedColumn\\\\\\\\\\\\\\\": \\\\\\\\\\\\\\\"HLA_match_8/10\\\\\\\\\\\\\\\"}}, \\\\\\\\\\\\\\\"typeProperty\\\\\\\\\\\\\\\": 2}, {\\\\\\\\\\\\\\\"column\\\\\\\\\\\\\\\": {\\\\\\\\\\\\\\\"type\\\\\\\\\\\\\\\": 2, \\\\\\\\\\\\\\\"details\\\\\\\\\\\\\\\": {\\\\\\\\\\\\\\\"selectedColumn\\\\\\\\\\\\\\\": \\\\\\\\\\\\\\\"HLA_match_9/10\\\\\\\\\\\\\\\"}}, \\\\\\\\\\\\\\\"typeProperty\\\\\\\\\\\\\\\": 2}, {\\\\\\\\\\\\\\\"column\\\\\\\\\\\\\\\": {\\\\\\\\\\\\\\\"type\\\\\\\\\\\\\\\": 2, \\\\\\\\\\\\\\\"details\\\\\\\\\\\\\\\": {\\\\\\\\\\\\\\\"selectedColumn\\\\\\\\\\\\\\\": \\\\\\\\\\\\\\\"antigen_0\\\\\\\\\\\\\\\"}}, \\\\\\\\\\\\\\\"typeProperty\\\\\\\\\\\\\\\": 2}, {\\\\\\\\\\\\\\\"column\\\\\\\\\\\\\\\": {\\\\\\\\\\\\\\\"type\\\\\\\\\\\\\\\": 2, \\\\\\\\\\\\\\\"details\\\\\\\\\\\\\\\": {\\\\\\\\\\\\\\\"selectedColumn\\\\\\\\\\\\\\\": \\\\\\\\\\\\\\\"antigen_1\\\\\\\\\\\\\\\"}}, \\\\\\\\\\\\\\\"typeProperty\\\\\\\\\\\\\\\": 2}, {\\\\\\\\\\\\\\\"column\\\\\\\\\\\\\\\": {\\\\\\\\\\\\\\\"type\\\\\\\\\\\\\\\": 2, \\\\\\\\\\\\\\\"details\\\\\\\\\\\\\\\": {\\\\\\\\\\\\\\\"selectedColumn\\\\\\\\\\\\\\\": \\\\\\\\\\\\\\\"antigen_2\\\\\\\\\\\\\\\"}}, \\\\\\\\\\\\\\\"typeProperty\\\\\\\\\\\\\\\": 2}, {\\\\\\\\\\\\\\\"column\\\\\\\\\\\\\\\": {\\\\\\\\\\\\\\\"type\\\\\\\\\\\\\\\": 2, \\\\\\\\\\\\\\\"details\\\\\\\\\\\\\\\": {\\\\\\\\\\\\\\\"selectedColumn\\\\\\\\\\\\\\\": \\\\\\\\\\\\\\\"antigen_3\\\\\\\\\\\\\\\"}}, \\\\\\\\\\\\\\\"typeProperty\\\\\\\\\\\\\\\": 2}, {\\\\\\\\\\\\\\\"column\\\\\\\\\\\\\\\": {\\\\\\\\\\\\\\\"type\\\\\\\\\\\\\\\": 2, \\\\\\\\\\\\\\\"details\\\\\\\\\\\\\\\": {\\\\\\\\\\\\\\\"selectedColumn\\\\\\\\\\\\\\\": \\\\\\\\\\\\\\\"allel_0\\\\\\\\\\\\\\\"}}, \\\\\\\\\\\\\\\"typeProperty\\\\\\\\\\\\\\\": 2}, {\\\\\\\\\\\\\\\"column\\\\\\\\\\\\\\\": {\\\\\\\\\\\\\\\"type\\\\\\\\\\\\\\\": 2, \\\\\\\\\\\\\\\"details\\\\\\\\\\\\\\\": {\\\\\\\\\\\\\\\"selectedColumn\\\\\\\\\\\\\\\": \\\\\\\\\\\\\\\"allel_1\\\\\\\\\\\\\\\"}}, \\\\\\\\\\\\\\\"typeProperty\\\\\\\\\\\\\\\": 2}, {\\\\\\\\\\\\\\\"column\\\\\\\\\\\\\\\": {\\\\\\\\\\\\\\\"type\\\\\\\\\\\\\\\": 2, \\\\\\\\\\\\\\\"details\\\\\\\\\\\\\\\": {\\\\\\\\\\\\\\\"selectedColumn\\\\\\\\\\\\\\\": \\\\\\\\\\\\\\\"allel_2\\\\\\\\\\\\\\\"}}, \\\\\\\\\\\\\\\"typeProperty\\\\\\\\\\\\\\\": 2}, {\\\\\\\\\\\\\\\"column\\\\\\\\\\\\\\\": {\\\\\\\\\\\\\\\"type\\\\\\\\\\\\\\\": 2, \\\\\\\\\\\\\\\"details\\\\\\\\\\\\\\\": {\\\\\\\\\\\\\\\"selectedColumn\\\\\\\\\\\\\\\": \\\\\\\\\\\\\\\"allel_3\\\\\\\\\\\\\\\"}}, \\\\\\\\\\\\\\\"typeProperty\\\\\\\\\\\\\\\": 2}, {\\\\\\\\\\\\\\\"column\\\\\\\\\\\\\\\": {\\\\\\\\\\\\\\\"type\\\\\\\\\\\\\\\": 2, \\\\\\\\\\\\\\\"details\\\\\\\\\\\\\\\": {\\\\\\\\\\\\\\\"selectedColumn\\\\\\\\\\\\\\\": \\\\\\\\\\\\\\\"allel_4\\\\\\\\\\\\\\\"}}, \\\\\\\\\\\\\\\"typeProperty\\\\\\\\\\\\\\\": 2}, {\\\\\\\\\\\\\\\"column\\\\\\\\\\\\\\\": {\\\\\\\\\\\\\\\"type\\\\\\\\\\\\\\\": 2, \\\\\\\\\\\\\\\"details\\\\\\\\\\\\\\\": {\\\\\\\\\\\\\\\"selectedColumn\\\\\\\\\\\\\\\": \\\\\\\\\\\\\\\"HLA_group_1_DRB1_cell\\\\\\\\\\\\\\\"}}, \\\\\\\\\\\\\\\"typeProperty\\\\\\\\\\\\\\\": 2}, {\\\\\\\\\\\\\\\"column\\\\\\\\\\\\\\\": {\\\\\\\\\\\\\\\"type\\\\\\\\\\\\\\\": 2, \\\\\\\\\\\\\\\"details\\\\\\\\\\\\\\\": {\\\\\\\\\\\\\\\"selectedColumn\\\\\\\\\\\\\\\": \\\\\\\\\\\\\\\"HLA_group_1_matched\\\\\\\\\\\\\\\"}}, \\\\\\\\\\\\\\\"typeProperty\\\\\\\\\\\\\\\": 2}, {\\\\\\\\\\\\\\\"column\\\\\\\\\\\\\\\": {\\\\\\\\\\\\\\\"type\\\\\\\\\\\\\\\": 2, \\\\\\\\\\\\\\\"details\\\\\\\\\\\\\\\": {\\\\\\\\\\\\\\\"selectedColumn\\\\\\\\\\\\\\\": \\\\\\\\\\\\\\\"HLA_group_1_mismatched\\\\\\\\\\\\\\\"}}, \\\\\\\\\\\\\\\"typeProperty\\\\\\\\\\\\\\\": 2}, {\\\\\\\\\\\\\\\"column\\\\\\\\\\\\\\\": {\\\\\\\\\\\\\\\"type\\\\\\\\\\\\\\\": 2, \\\\\\\\\\\\\\\"details\\\\\\\\\\\\\\\": {\\\\\\\\\\\\\\\"selectedColumn\\\\\\\\\\\\\\\": \\\\\\\\\\\\\\\"HLA_group_1_one_allel\\\\\\\\\\\\\\\"}}, \\\\\\\\\\\\\\\"typeProperty\\\\\\\\\\\\\\\": 2}, {\\\\\\\\\\\\\\\"column\\\\\\\\\\\\\\\": {\\\\\\\\\\\\\\\"type\\\\\\\\\\\\\\\": 2, \\\\\\\\\\\\\\\"details\\\\\\\\\\\\\\\": {\\\\\\\\\\\\\\\"selectedColumn\\\\\\\\\\\\\\\": \\\\\\\\\\\\\\\"HLA_group_1_one_antigen\\\\\\\\\\\\\\\"}}, \\\\\\\\\\\\\\\"typeProperty\\\\\\\\\\\\\\\": 2}, {\\\\\\\\\\\\\\\"column\\\\\\\\\\\\\\\": {\\\\\\\\\\\\\\\"type\\\\\\\\\\\\\\\": 2, \\\\\\\\\\\\\\\"details\\\\\\\\\\\\\\\": {\\\\\\\\\\\\\\\"selectedColumn\\\\\\\\\\\\\\\": \\\\\\\\\\\\\\\"HLA_group_1_three_diffs\\\\\\\\\\\\\\\"}}, \\\\\\\\\\\\\\\"typeProperty\\\\\\\\\\\\\\\": 2}, {\\\\\\\\\\\\\\\"column\\\\\\\\\\\\\\\": {\\\\\\\\\\\\\\\"type\\\\\\\\\\\\\\\": 2, \\\\\\\\\\\\\\\"details\\\\\\\\\\\\\\\": {\\\\\\\\\\\\\\\"selectedColumn\\\\\\\\\\\\\\\": \\\\\\\\\\\\\\\"HLA_group_1_two_diffs\\\\\\\\\\\\\\\"}}, \\\\\\\\\\\\\\\"typeProperty\\\\\\\\\\\\\\\": 2}, {\\\\\\\\\\\\\\\"column\\\\\\\\\\\\\\\": {\\\\\\\\\\\\\\\"type\\\\\\\\\\\\\\\": 2, \\\\\\\\\\\\\\\"details\\\\\\\\\\\\\\\": {\\\\\\\\\\\\\\\"selectedColumn\\\\\\\\\\\\\\\": \\\\\\\\\\\\\\\"survival_status\\\\\\\\\\\\\\\"}}, \\\\\\\\\\\\\\\"typeProperty\\\\\\\\\\\\\\\": 2}]}, \\\\\\\\\\\\\\\"localData\\\\\\\\\\\\\\\": {}, \\\\\\\\\\\\\\\"isEnabled\\\\\\\\\\\\\\\": true, \\\\\\\\\\\\\\\"name\\\\\\\\\\\\\\\": null, \\\\\\\\\\\\\\\"annotation\\\\\\\\\\\\\\\": null}], \\\\\\\\\\\\\\\"inspectors\\\\\\\\\\\\\\\": [], \\\\\\\\\\\\\\\"meta\\\\\\\\\\\\\\\": {\\\\\\\\\\\\\\\"savedDatasetId\\\\\\\\\\\\\\\": \\\\\\\\\\\\\\\"9b18ca9a-9918-4c1a-8bbd-c595c45e7cb5\\\\\\\\\\\\\\\", \\\\\\\\\\\\\\\"datasetType\\\\\\\\\\\\\\\": \\\\\\\\\\\\\\\"tabular\\\\\\\\\\\\\\\", \\\\\\\\\\\\\\\"subscriptionId\\\\\\\\\\\\\\\": \\\\\\\\\\\\\\\"a7e82b92-bbed-4497-a8df-009b71b94f9c\\\\\\\\\\\\\\\", \\\\\\\\\\\\\\\"workspaceId\\\\\\\\\\\\\\\": \\\\\\\\\\\\\\\"651412dd-88dd-4480-bff1-3265966eac92\\\\\\\\\\\\\\\", \\\\\\\\\\\\\\\"workspaceLocation\\\\\\\\\\\\\\\": \\\\\\\\\\\\\\\"southcentralus\\\\\\\\\\\\\\\"}}\\\\\\\", \\\\\\\"activities\\\\\\\": 0}\", \"EnableSubsampling\": \"False\", \"runTemplate\": \"AutoML\", \"azureml.runsource\": \"automl\", \"display_task_type\": \"classification\", \"dependencies_versions\": \"{\\\"azureml-widgets\\\": \\\"1.18.0\\\", \\\"azureml-train\\\": \\\"1.18.0\\\", \\\"azureml-train-restclients-hyperdrive\\\": \\\"1.18.0\\\", \\\"azureml-train-core\\\": \\\"1.18.0\\\", \\\"azureml-train-automl\\\": \\\"1.18.0\\\", \\\"azureml-train-automl-runtime\\\": \\\"1.18.0\\\", \\\"azureml-train-automl-client\\\": \\\"1.18.0\\\", \\\"azureml-tensorboard\\\": \\\"1.18.0\\\", \\\"azureml-telemetry\\\": \\\"1.18.0\\\", \\\"azureml-sdk\\\": \\\"1.18.0\\\", \\\"azureml-samples\\\": \\\"0+unknown\\\", \\\"azureml-pipeline\\\": \\\"1.18.0\\\", \\\"azureml-pipeline-steps\\\": \\\"1.18.0\\\", \\\"azureml-pipeline-core\\\": \\\"1.18.0\\\", \\\"azureml-opendatasets\\\": \\\"1.18.0\\\", \\\"azureml-model-management-sdk\\\": \\\"1.0.1b6.post1\\\", \\\"azureml-mlflow\\\": \\\"1.18.0\\\", \\\"azureml-interpret\\\": \\\"1.18.0\\\", \\\"azureml-explain-model\\\": \\\"1.18.0\\\", \\\"azureml-defaults\\\": \\\"1.18.0\\\", \\\"azureml-dataset-runtime\\\": \\\"1.18.0\\\", \\\"azureml-dataprep\\\": \\\"2.4.2\\\", \\\"azureml-dataprep-rslex\\\": \\\"1.2.2\\\", \\\"azureml-dataprep-native\\\": \\\"24.0.0\\\", \\\"azureml-datadrift\\\": \\\"1.18.0\\\", \\\"azureml-core\\\": \\\"1.18.0\\\", \\\"azureml-contrib-services\\\": \\\"1.18.0\\\", \\\"azureml-contrib-server\\\": \\\"1.18.0\\\", \\\"azureml-contrib-reinforcementlearning\\\": \\\"1.18.0\\\", \\\"azureml-contrib-pipeline-steps\\\": \\\"1.18.0\\\", \\\"azureml-contrib-notebook\\\": \\\"1.18.0\\\", \\\"azureml-contrib-interpret\\\": \\\"1.18.0\\\", \\\"azureml-contrib-gbdt\\\": \\\"1.18.0\\\", \\\"azureml-contrib-fairness\\\": \\\"1.18.0\\\", \\\"azureml-contrib-dataset\\\": \\\"1.18.0\\\", \\\"azureml-cli-common\\\": \\\"1.18.0\\\", \\\"azureml-automl-runtime\\\": \\\"1.18.0\\\", \\\"azureml-automl-core\\\": \\\"1.18.0\\\", \\\"azureml-accel-models\\\": \\\"1.18.0\\\"}\", \"_aml_system_scenario_identification\": \"Remote.Parent\", \"ClientType\": \"SDK\", \"environment_cpu_name\": \"AzureML-AutoML\", \"environment_cpu_version\": \"44\", \"environment_gpu_name\": \"AzureML-AutoML-GPU\", \"environment_gpu_version\": \"32\", \"root_attribution\": \"automl\", \"attribution\": \"AutoML\", \"Orchestrator\": \"AutoML\", \"CancelUri\": \"https://southcentralus.experiments.azureml.net/jasmine/v1.0/subscriptions/a7e82b92-bbed-4497-a8df-009b71b94f9c/resourceGroups/aml-quickstarts-128600/providers/Microsoft.MachineLearningServices/workspaces/quick-starts-ws-128600/experimentids/37800ec5-d1ff-4bee-aa47-9d651320fa21/cancel/AutoML_5579856f-bffa-4c36-84d6-e8241a6bd632\", \"ClientSdkVersion\": \"1.17.0\", \"snapshotId\": \"00000000-0000-0000-0000-000000000000\", \"SetupRunId\": \"AutoML_5579856f-bffa-4c36-84d6-e8241a6bd632_setup\", \"SetupRunContainerId\": \"dcid.AutoML_5579856f-bffa-4c36-84d6-e8241a6bd632_setup\", \"FeaturizationRunJsonPath\": \"featurizer_container.json\", \"FeaturizationRunId\": \"AutoML_5579856f-bffa-4c36-84d6-e8241a6bd632_featurize\", \"ProblemInfoJsonString\": \"{\\\"dataset_num_categorical\\\": 0, \\\"is_sparse\\\": false, \\\"subsampling\\\": false, \\\"dataset_classes\\\": 2, \\\"dataset_features\\\": 69, \\\"dataset_samples\\\": 104, \\\"single_frequency_class_detected\\\": false}\", \"ModelExplainRunId\": \"AutoML_5579856f-bffa-4c36-84d6-e8241a6bd632_ModelExplain\"}, \"tags\": {\"model_explain_run\": \"best_run\", \"_aml_system_azureml.automlComponent\": \"AutoML\", \"pipeline_id\": \"<5dfac790c5c209f98a1da2dc1c7fb76f0397324f>;<f873311e8cfb2bcdbeb6c20367cf912f4ee6733e>;<cf1dc9b7ea4a50d759bce352343ec6737501695a>;<c7af0367625be6ac5c2fecbfc72ed444cb7a2111>;<62c0e30b2e9113b3ecd95bcf5b31423c72074070>;<b19eeb61727e9c4fbb5aa45fb6e9fe3fab5b1f04>;<47dd667bb7c34b68c9fffa6fd580565b1f85400f>;<713f188a27b176644f73e8664c667c674a2d3d62>;<9e3f4780268658ad403e896559a8d3406152018c>;<a2983da01504b121cc4056d933a1191b51be87bc>;<59e4a1b86a57dfaeac5f3a051de6155ffc74f55b>;<e81d621ed176e5fac9def492d4ac54f304146b7c>;<52ac74da744a165756acc49238b34b81115532fd>;<a91f8b94ae9bf0dfc66e93d29d1ef41b7e2687f2>;<8de8c085d2a4b23d3f4cc392a2f2660d23d38c14>;<d8d1a28b70a271fc16185d8e06b7faeee4bdd817>;<4d4be808b8b6dd0f67e8354c79eddd3d712440a5>;<19bb9b610818186383462e6b1f9b568bc04b93e9>;<80d7fafc6227885ab86e843212a0c5ea47a69004>;<f86e0c37319548491774cfe027df9161ae6eecd2>;<9fd7f177a78effac65f3f97ae40ca91e296c3f10>;<ce2643edf3d450b10c86c7d034a9bc952dc282d3>;<9845a0ba1345a7474c237d10111bcf5bccbb1f0e>;<51ae05309834b29f71340af1008fc94fbd8213f4>;<bc9206626b500d75953081471497ef8df99a5b5f>;<54e574277aabf82c4de559c253dd362590236841>;<adf88c245fccd90cff054b0559cb3f18c133bb49>;<be1ef63576c9bf239084ecda182b48071c3c26e3>;<__AutoML_Ensemble__>;<__AutoML_Stack_Ensemble__>;\", \"score\": \"<0.6257142857142857>;<0.6433333333333333>;<0.6442857142857142>;<0.6823809523809523>;<0.6252380952380951>;<0.6052380952380952>;<0.6242857142857142>;<0.6242857142857142>;<0.5966666666666666>;<0.6628571428571429>;<0.6461904761904762>;<0.6047619047619047>;<0.5942857142857142>;<0.6842857142857144>;<0.5852380952380953>;<0.6542857142857142>;<0.5947619047619048>;<0.6242857142857142>;<0.6719047619047618>;<0.5280952380952382>;<0.6142857142857142>;<0.6247619047619047>;<0.6814285714285715>;<0.5752380952380952>;<0.6333333333333333>;<0.5347619047619048>;<0.6542857142857142>;<0.6538095238095238>;<0.7404761904761904>;<0.6147619047619047>;\", \"predicted_cost\": \"<0>;<0.5>;<0.5>;<0>;<0.012268331271074961>;<0.5>;<0.006114000000000001>;<0.010990952130385596>;<0.021329685430850943>;<0.004687479206913999>;<0.008240447357791034>;<0.0051871980661301565>;<0.02643298314518032>;<0.0072454333812486>;<0.01754239844620069>;<0.023106805215062993>;<0.016090773782300206>;<0.004275218670234701>;<0.017127645433662752>;<0.022378886522551426>;<0.023768586079424312>;<0.026737472834857022>;<0.022370986944293094>;<0.02149071404560087>;<0.003127605422429497>;<0.01011218960900448>;<0.028698933027002885>;<0.020626825849178805>;<0>;<0>;\", \"fit_time\": \"<0.0195526>;<0.006114>;<0.0153218>;<0.054048200000000005>;<0.057099>;<0.0201478>;<0.0039185999999999995>;<0.014922399999999999>;<0.0412836>;<0.0028596000000000003>;<0.011597399999999999>;<0.0028954000000000002>;<0.0590218>;<0.012027000000000001>;<0.020036>;<0.048786399999999994>;<0.044440999999999994>;<0.0027438000000000002>;<0.013394>;<0.013623199999999999>;<0.036567>;<0.0182494>;<0.0404538>;<0.021184599999999998>;<0.0038483999999999997>;<0.0109448>;<0.985914>;<0.0875112>;<28>;<29>;\", \"training_percent\": \"<100>;<100>;<100>;<100>;<100>;<100>;<100>;<100>;<100>;<100>;<100>;<100>;<100>;<100>;<100>;<100>;<100>;<100>;<100>;<100>;<100>;<100>;<100>;<100>;<100>;<100>;<100>;<100>;<100>;<100>;\", \"iteration\": \"<0>;<3>;<2>;<1>;<7>;<4>;<5>;<6>;<8>;<11>;<10>;<9>;<12>;<13>;<14>;<16>;<15>;<18>;<17>;<20>;<19>;<22>;<21>;<23>;<24>;<25>;<27>;<26>;<28>;<29>;\", \"run_preprocessor\": \"<MaxAbsScaler>;<StandardScalerWrapper>;<MinMaxScaler>;<MaxAbsScaler>;<RobustScaler>;<MinMaxScaler>;<StandardScalerWrapper>;<StandardScalerWrapper>;<StandardScalerWrapper>;<MinMaxScaler>;<StandardScalerWrapper>;<StandardScalerWrapper>;<RobustScaler>;<MinMaxScaler>;<MinMaxScaler>;<MinMaxScaler>;<MinMaxScaler>;<StandardScalerWrapper>;<StandardScalerWrapper>;<StandardScalerWrapper>;<RobustScaler>;<MaxAbsScaler>;<MinMaxScaler>;<MaxAbsScaler>;<MaxAbsScaler>;<TruncatedSVDWrapper>;<MinMaxScaler>;<MinMaxScaler>;<>;<>;\", \"run_algorithm\": \"<LightGBM>;<SGD>;<RandomForest>;<XGBoostClassifier>;<ExtremeRandomTrees>;<RandomForest>;<SGD>;<RandomForest>;<ExtremeRandomTrees>;<SGD>;<SGD>;<SGD>;<ExtremeRandomTrees>;<SGD>;<ExtremeRandomTrees>;<ExtremeRandomTrees>;<ExtremeRandomTrees>;<SGD>;<RandomForest>;<RandomForest>;<ExtremeRandomTrees>;<RandomForest>;<ExtremeRandomTrees>;<ExtremeRandomTrees>;<SGD>;<SGD>;<RandomForest>;<RandomForest>;<VotingEnsemble>;<StackEnsemble>;\", \"dynamic_whitelisting_iterations\": \"<25>;\", \"automl_best_child_run_id\": \"AutoML_5579856f-bffa-4c36-84d6-e8241a6bd632_28\", \"model_explain_best_run_child_id\": \"AutoML_5579856f-bffa-4c36-84d6-e8241a6bd632_28\"}, \"end_time_utc\": \"2020-12-01T08:04:00.822148Z\", \"status\": \"Completed\", \"log_files\": {}, \"log_groups\": [], \"run_duration\": \"0:26:35\"}, \"child_runs\": [{\"run_id\": \"AutoML_5579856f-bffa-4c36-84d6-e8241a6bd632_0\", \"run_number\": 5, \"metric\": null, \"status\": \"Completed\", \"run_type\": \"azureml.scriptrun\", \"training_percent\": \"100\", \"start_time\": \"2020-12-01T07:48:55.824404Z\", \"end_time\": \"2020-12-01T07:49:44.312289Z\", \"created_time\": \"2020-12-01T07:48:42.613009Z\", \"created_time_dt\": \"2020-12-01T07:48:42.613009Z\", \"duration\": \"0:01:01\", \"iteration\": \"0\", \"goal\": \"accuracy_max\", \"run_name\": \"MaxAbsScaler, LightGBM\", \"run_properties\": \"copy=True\", \"primary_metric\": 0.62571429, \"best_metric\": 0.62571429}, {\"run_id\": \"AutoML_5579856f-bffa-4c36-84d6-e8241a6bd632_1\", \"run_number\": 6, \"metric\": null, \"status\": \"Completed\", \"run_type\": \"azureml.scriptrun\", \"training_percent\": \"100\", \"start_time\": \"2020-12-01T07:52:30.254004Z\", \"end_time\": \"2020-12-01T07:53:24.765199Z\", \"created_time\": \"2020-12-01T07:48:42.646071Z\", \"created_time_dt\": \"2020-12-01T07:48:42.646071Z\", \"duration\": \"0:04:42\", \"iteration\": \"1\", \"goal\": \"accuracy_max\", \"run_name\": \"MaxAbsScaler, XGBoostClassifier\", \"run_properties\": \"copy=True\", \"primary_metric\": 0.68238095, \"best_metric\": 0.68238095}, {\"run_id\": \"AutoML_5579856f-bffa-4c36-84d6-e8241a6bd632_2\", \"run_number\": 7, \"metric\": null, \"status\": \"Completed\", \"run_type\": \"azureml.scriptrun\", \"training_percent\": \"100\", \"start_time\": \"2020-12-01T07:51:29.230172Z\", \"end_time\": \"2020-12-01T07:52:07.8431Z\", \"created_time\": \"2020-12-01T07:48:43.018144Z\", \"created_time_dt\": \"2020-12-01T07:48:43.018144Z\", \"duration\": \"0:03:24\", \"iteration\": \"2\", \"goal\": \"accuracy_max\", \"run_name\": \"MinMaxScaler, RandomForest\", \"run_properties\": \"copy=True, feature_range=(0, 1\", \"primary_metric\": 0.64428571, \"best_metric\": 0.68238095}, {\"run_id\": \"AutoML_5579856f-bffa-4c36-84d6-e8241a6bd632_3\", \"run_number\": 8, \"metric\": null, \"status\": \"Completed\", \"run_type\": \"azureml.scriptrun\", \"training_percent\": \"100\", \"start_time\": \"2020-12-01T07:50:19.316259Z\", \"end_time\": \"2020-12-01T07:50:55.37851Z\", \"created_time\": \"2020-12-01T07:48:43.076943Z\", \"created_time_dt\": \"2020-12-01T07:48:43.076943Z\", \"duration\": \"0:02:12\", \"iteration\": \"3\", \"goal\": \"accuracy_max\", \"run_name\": \"StandardScalerWrapper, SGD\", \"run_properties\": \"<azureml.automl.runtime.shared.model_wrappers.StandardScalerWrapper object at 0x7f48134e0ef0\", \"primary_metric\": 0.64333333, \"best_metric\": 0.68238095}, {\"run_id\": \"AutoML_5579856f-bffa-4c36-84d6-e8241a6bd632_4\", \"run_number\": 9, \"metric\": null, \"status\": \"Completed\", \"run_type\": \"azureml.scriptrun\", \"training_percent\": \"100\", \"start_time\": \"2020-12-01T07:52:30.584589Z\", \"end_time\": \"2020-12-01T07:55:47.422685Z\", \"created_time\": \"2020-12-01T07:49:53.235941Z\", \"created_time_dt\": \"2020-12-01T07:49:53.235941Z\", \"duration\": \"0:05:54\", \"iteration\": \"4\", \"goal\": \"accuracy_max\", \"run_name\": \"MinMaxScaler, RandomForest\", \"run_properties\": \"copy=True, feature_range=(0, 1\", \"primary_metric\": 0.6052381, \"best_metric\": 0.68238095}, {\"run_id\": \"AutoML_5579856f-bffa-4c36-84d6-e8241a6bd632_5\", \"run_number\": 10, \"metric\": null, \"status\": \"Completed\", \"run_type\": \"azureml.scriptrun\", \"training_percent\": \"100\", \"start_time\": \"2020-12-01T07:52:29.003042Z\", \"end_time\": \"2020-12-01T07:55:50.103518Z\", \"created_time\": \"2020-12-01T07:51:06.0174Z\", \"created_time_dt\": \"2020-12-01T07:51:06.0174Z\", \"duration\": \"0:04:44\", \"iteration\": \"5\", \"goal\": \"accuracy_max\", \"run_name\": \"StandardScalerWrapper, SGD\", \"run_properties\": \"<azureml.automl.runtime.shared.model_wrappers.StandardScalerWrapper object at 0x7f0a55a2e320\", \"primary_metric\": 0.62428571, \"best_metric\": 0.68238095}, {\"run_id\": \"AutoML_5579856f-bffa-4c36-84d6-e8241a6bd632_6\", \"run_number\": 11, \"metric\": null, \"status\": \"Completed\", \"run_type\": \"azureml.scriptrun\", \"training_percent\": \"100\", \"start_time\": \"2020-12-01T07:52:35.965752Z\", \"end_time\": \"2020-12-01T07:55:55.8064Z\", \"created_time\": \"2020-12-01T07:52:14.617658Z\", \"created_time_dt\": \"2020-12-01T07:52:14.617658Z\", \"duration\": \"0:03:41\", \"iteration\": \"6\", \"goal\": \"accuracy_max\", \"run_name\": \"StandardScalerWrapper, RandomForest\", \"run_properties\": \"<azureml.automl.runtime.shared.model_wrappers.StandardScalerWrapper object at 0x7fcab058d128\", \"primary_metric\": 0.62428571, \"best_metric\": 0.68238095}, {\"run_id\": \"AutoML_5579856f-bffa-4c36-84d6-e8241a6bd632_7\", \"run_number\": 12, \"metric\": null, \"status\": \"Completed\", \"run_type\": \"azureml.scriptrun\", \"training_percent\": \"100\", \"start_time\": \"2020-12-01T07:53:47.942709Z\", \"end_time\": \"2020-12-01T07:54:53.446766Z\", \"created_time\": \"2020-12-01T07:53:29.496536Z\", \"created_time_dt\": \"2020-12-01T07:53:29.496536Z\", \"duration\": \"0:01:23\", \"iteration\": \"7\", \"goal\": \"accuracy_max\", \"run_name\": \"RobustScaler, ExtremeRandomTrees\", \"run_properties\": \"copy=True, quantile_range=[10, 90], with_centering=False,\\n             with_scaling=False\", \"primary_metric\": 0.6252381, \"best_metric\": 0.68238095}, {\"run_id\": \"AutoML_5579856f-bffa-4c36-84d6-e8241a6bd632_8\", \"run_number\": 13, \"metric\": null, \"status\": \"Completed\", \"run_type\": \"azureml.scriptrun\", \"training_percent\": \"100\", \"start_time\": \"2020-12-01T07:55:18.220759Z\", \"end_time\": \"2020-12-01T07:56:07.185584Z\", \"created_time\": \"2020-12-01T07:55:00.255678Z\", \"created_time_dt\": \"2020-12-01T07:55:00.255678Z\", \"duration\": \"0:01:06\", \"iteration\": \"8\", \"goal\": \"accuracy_max\", \"run_name\": \"StandardScalerWrapper, ExtremeRandomTrees\", \"run_properties\": \"<azureml.automl.runtime.shared.model_wrappers.StandardScalerWrapper object at 0x7f8fa45fd0b8\", \"primary_metric\": 0.59666667, \"best_metric\": 0.68238095}, {\"run_id\": \"AutoML_5579856f-bffa-4c36-84d6-e8241a6bd632_9\", \"run_number\": 14, \"metric\": null, \"status\": \"Completed\", \"run_type\": \"azureml.scriptrun\", \"training_percent\": \"100\", \"start_time\": \"2020-12-01T07:56:17.740488Z\", \"end_time\": \"2020-12-01T07:57:08.712555Z\", \"created_time\": \"2020-12-01T07:55:59.557984Z\", \"created_time_dt\": \"2020-12-01T07:55:59.557984Z\", \"duration\": \"0:01:09\", \"iteration\": \"9\", \"goal\": \"accuracy_max\", \"run_name\": \"StandardScalerWrapper, SGD\", \"run_properties\": \"<azureml.automl.runtime.shared.model_wrappers.StandardScalerWrapper object at 0x7eff893ba358\", \"primary_metric\": 0.6047619, \"best_metric\": 0.68238095}, {\"run_id\": \"AutoML_5579856f-bffa-4c36-84d6-e8241a6bd632_10\", \"run_number\": 15, \"metric\": null, \"status\": \"Completed\", \"run_type\": \"azureml.scriptrun\", \"training_percent\": \"100\", \"start_time\": \"2020-12-01T07:56:10.513377Z\", \"end_time\": \"2020-12-01T07:56:55.430177Z\", \"created_time\": \"2020-12-01T07:55:59.573454Z\", \"created_time_dt\": \"2020-12-01T07:55:59.573454Z\", \"duration\": \"0:00:55\", \"iteration\": \"10\", \"goal\": \"accuracy_max\", \"run_name\": \"StandardScalerWrapper, SGD\", \"run_properties\": \"<azureml.automl.runtime.shared.model_wrappers.StandardScalerWrapper object at 0x7f871ee5a7b8\", \"primary_metric\": 0.64619048, \"best_metric\": 0.68238095}, {\"run_id\": \"AutoML_5579856f-bffa-4c36-84d6-e8241a6bd632_11\", \"run_number\": 16, \"metric\": null, \"status\": \"Completed\", \"run_type\": \"azureml.scriptrun\", \"training_percent\": \"100\", \"start_time\": \"2020-12-01T07:56:12.937306Z\", \"end_time\": \"2020-12-01T07:57:00.049049Z\", \"created_time\": \"2020-12-01T07:55:59.57976Z\", \"created_time_dt\": \"2020-12-01T07:55:59.57976Z\", \"duration\": \"0:01:00\", \"iteration\": \"11\", \"goal\": \"accuracy_max\", \"run_name\": \"MinMaxScaler, SGD\", \"run_properties\": \"copy=True, feature_range=(0, 1\", \"primary_metric\": 0.66285714, \"best_metric\": 0.68238095}, {\"run_id\": \"AutoML_5579856f-bffa-4c36-84d6-e8241a6bd632_12\", \"run_number\": 17, \"metric\": null, \"status\": \"Completed\", \"run_type\": \"azureml.scriptrun\", \"training_percent\": \"100\", \"start_time\": \"2020-12-01T07:56:28.92388Z\", \"end_time\": \"2020-12-01T07:57:23.2567Z\", \"created_time\": \"2020-12-01T07:56:15.786405Z\", \"created_time_dt\": \"2020-12-01T07:56:15.786405Z\", \"duration\": \"0:01:07\", \"iteration\": \"12\", \"goal\": \"accuracy_max\", \"run_name\": \"RobustScaler, ExtremeRandomTrees\", \"run_properties\": \"copy=True, quantile_range=[10, 90], with_centering=False,\\n             with_scaling=False\", \"primary_metric\": 0.59428571, \"best_metric\": 0.68238095}, {\"run_id\": \"AutoML_5579856f-bffa-4c36-84d6-e8241a6bd632_13\", \"run_number\": 18, \"metric\": null, \"status\": \"Completed\", \"run_type\": \"azureml.scriptrun\", \"training_percent\": \"100\", \"start_time\": \"2020-12-01T07:57:20.430702Z\", \"end_time\": \"2020-12-01T07:58:16.377164Z\", \"created_time\": \"2020-12-01T07:57:04.065637Z\", \"created_time_dt\": \"2020-12-01T07:57:04.065637Z\", \"duration\": \"0:01:12\", \"iteration\": \"13\", \"goal\": \"accuracy_max\", \"run_name\": \"MinMaxScaler, SGD\", \"run_properties\": \"copy=True, feature_range=(0, 1\", \"primary_metric\": 0.68428571, \"best_metric\": 0.68428571}, {\"run_id\": \"AutoML_5579856f-bffa-4c36-84d6-e8241a6bd632_14\", \"run_number\": 19, \"metric\": null, \"status\": \"Completed\", \"run_type\": \"azureml.scriptrun\", \"training_percent\": \"100\", \"start_time\": \"2020-12-01T07:57:22.671388Z\", \"end_time\": \"2020-12-01T07:58:10.923659Z\", \"created_time\": \"2020-12-01T07:57:04.135807Z\", \"created_time_dt\": \"2020-12-01T07:57:04.135807Z\", \"duration\": \"0:01:06\", \"iteration\": \"14\", \"goal\": \"accuracy_max\", \"run_name\": \"MinMaxScaler, ExtremeRandomTrees\", \"run_properties\": \"copy=True, feature_range=(0, 1\", \"primary_metric\": 0.5852381, \"best_metric\": 0.68428571}, {\"run_id\": \"AutoML_5579856f-bffa-4c36-84d6-e8241a6bd632_15\", \"run_number\": 20, \"metric\": null, \"status\": \"Completed\", \"run_type\": \"azureml.scriptrun\", \"training_percent\": \"100\", \"start_time\": \"2020-12-01T07:57:42.782084Z\", \"end_time\": \"2020-12-01T07:58:26.179062Z\", \"created_time\": \"2020-12-01T07:57:20.930045Z\", \"created_time_dt\": \"2020-12-01T07:57:20.930045Z\", \"duration\": \"0:01:05\", \"iteration\": \"15\", \"goal\": \"accuracy_max\", \"run_name\": \"MinMaxScaler, ExtremeRandomTrees\", \"run_properties\": \"copy=True, feature_range=(0, 1\", \"primary_metric\": 0.5947619, \"best_metric\": 0.68428571}, {\"run_id\": \"AutoML_5579856f-bffa-4c36-84d6-e8241a6bd632_16\", \"run_number\": 21, \"metric\": null, \"status\": \"Completed\", \"run_type\": \"azureml.scriptrun\", \"training_percent\": \"100\", \"start_time\": \"2020-12-01T07:57:55.785841Z\", \"end_time\": \"2020-12-01T07:58:40.035835Z\", \"created_time\": \"2020-12-01T07:57:41.582174Z\", \"created_time_dt\": \"2020-12-01T07:57:41.582174Z\", \"duration\": \"0:00:58\", \"iteration\": \"16\", \"goal\": \"accuracy_max\", \"run_name\": \"MinMaxScaler, ExtremeRandomTrees\", \"run_properties\": \"copy=True, feature_range=(0, 1\", \"primary_metric\": 0.65428571, \"best_metric\": 0.68428571}, {\"run_id\": \"AutoML_5579856f-bffa-4c36-84d6-e8241a6bd632_18\", \"run_number\": 22, \"metric\": null, \"status\": \"Completed\", \"run_type\": \"azureml.scriptrun\", \"training_percent\": \"100\", \"start_time\": \"2020-12-01T07:58:41.000313Z\", \"end_time\": \"2020-12-01T07:59:30.772528Z\", \"created_time\": \"2020-12-01T07:58:27.287692Z\", \"created_time_dt\": \"2020-12-01T07:58:27.287692Z\", \"duration\": \"0:01:03\", \"iteration\": \"18\", \"goal\": \"accuracy_max\", \"run_name\": \"StandardScalerWrapper, SGD\", \"run_properties\": \"<azureml.automl.runtime.shared.model_wrappers.StandardScalerWrapper object at 0x7fa118198a20\", \"primary_metric\": 0.62428571, \"best_metric\": 0.68428571}, {\"run_id\": \"AutoML_5579856f-bffa-4c36-84d6-e8241a6bd632_17\", \"run_number\": 23, \"metric\": null, \"status\": \"Completed\", \"run_type\": \"azureml.scriptrun\", \"training_percent\": \"100\", \"start_time\": \"2020-12-01T07:58:40.559718Z\", \"end_time\": \"2020-12-01T07:59:31.496329Z\", \"created_time\": \"2020-12-01T07:58:27.295202Z\", \"created_time_dt\": \"2020-12-01T07:58:27.295202Z\", \"duration\": \"0:01:04\", \"iteration\": \"17\", \"goal\": \"accuracy_max\", \"run_name\": \"StandardScalerWrapper, RandomForest\", \"run_properties\": \"<azureml.automl.runtime.shared.model_wrappers.StandardScalerWrapper object at 0x7ff2ac0b7c18\", \"primary_metric\": 0.67190476, \"best_metric\": 0.68428571}, {\"run_id\": \"AutoML_5579856f-bffa-4c36-84d6-e8241a6bd632_19\", \"run_number\": 24, \"metric\": null, \"status\": \"Completed\", \"run_type\": \"azureml.scriptrun\", \"training_percent\": \"100\", \"start_time\": \"2020-12-01T07:59:01.826378Z\", \"end_time\": \"2020-12-01T07:59:51.792808Z\", \"created_time\": \"2020-12-01T07:58:44.190059Z\", \"created_time_dt\": \"2020-12-01T07:58:44.190059Z\", \"duration\": \"0:01:07\", \"iteration\": \"19\", \"goal\": \"accuracy_max\", \"run_name\": \"RobustScaler, ExtremeRandomTrees\", \"run_properties\": \"copy=True, quantile_range=[25, 75], with_centering=True,\\n             with_scaling=False\", \"primary_metric\": 0.61428571, \"best_metric\": 0.68428571}, {\"run_id\": \"AutoML_5579856f-bffa-4c36-84d6-e8241a6bd632_20\", \"run_number\": 25, \"metric\": null, \"status\": \"Completed\", \"run_type\": \"azureml.scriptrun\", \"training_percent\": \"100\", \"start_time\": \"2020-12-01T07:58:56.933892Z\", \"end_time\": \"2020-12-01T07:59:45.758499Z\", \"created_time\": \"2020-12-01T07:58:44.355345Z\", \"created_time_dt\": \"2020-12-01T07:58:44.355345Z\", \"duration\": \"0:01:01\", \"iteration\": \"20\", \"goal\": \"accuracy_max\", \"run_name\": \"StandardScalerWrapper, RandomForest\", \"run_properties\": \"<azureml.automl.runtime.shared.model_wrappers.StandardScalerWrapper object at 0x7f399bcf2ef0\", \"primary_metric\": 0.52809524, \"best_metric\": 0.68428571}, {\"run_id\": \"AutoML_5579856f-bffa-4c36-84d6-e8241a6bd632_21\", \"run_number\": 26, \"metric\": null, \"status\": \"Completed\", \"run_type\": \"azureml.scriptrun\", \"training_percent\": \"100\", \"start_time\": \"2020-12-01T07:59:57.242661Z\", \"end_time\": \"2020-12-01T08:00:43.426531Z\", \"created_time\": \"2020-12-01T07:59:34.33241Z\", \"created_time_dt\": \"2020-12-01T07:59:34.33241Z\", \"duration\": \"0:01:09\", \"iteration\": \"21\", \"goal\": \"accuracy_max\", \"run_name\": \"MinMaxScaler, ExtremeRandomTrees\", \"run_properties\": \"copy=True, feature_range=(0, 1\", \"primary_metric\": 0.68142857, \"best_metric\": 0.68428571}, {\"run_id\": \"AutoML_5579856f-bffa-4c36-84d6-e8241a6bd632_22\", \"run_number\": 27, \"metric\": null, \"status\": \"Completed\", \"run_type\": \"azureml.scriptrun\", \"training_percent\": \"100\", \"start_time\": \"2020-12-01T07:59:53.220409Z\", \"end_time\": \"2020-12-01T08:00:47.384095Z\", \"created_time\": \"2020-12-01T07:59:34.388515Z\", \"created_time_dt\": \"2020-12-01T07:59:34.388515Z\", \"duration\": \"0:01:12\", \"iteration\": \"22\", \"goal\": \"accuracy_max\", \"run_name\": \"MaxAbsScaler, RandomForest\", \"run_properties\": \"copy=True\", \"primary_metric\": 0.6247619, \"best_metric\": 0.68428571}, {\"run_id\": \"AutoML_5579856f-bffa-4c36-84d6-e8241a6bd632_23\", \"run_number\": 28, \"metric\": null, \"status\": \"Completed\", \"run_type\": \"azureml.scriptrun\", \"training_percent\": \"100\", \"start_time\": \"2020-12-01T08:00:06.861923Z\", \"end_time\": \"2020-12-01T08:00:54.040494Z\", \"created_time\": \"2020-12-01T07:59:50.253751Z\", \"created_time_dt\": \"2020-12-01T07:59:50.253751Z\", \"duration\": \"0:01:03\", \"iteration\": \"23\", \"goal\": \"accuracy_max\", \"run_name\": \"MaxAbsScaler, ExtremeRandomTrees\", \"run_properties\": \"copy=True\", \"primary_metric\": 0.5752381, \"best_metric\": 0.68428571}, {\"run_id\": \"AutoML_5579856f-bffa-4c36-84d6-e8241a6bd632_24\", \"run_number\": 29, \"metric\": null, \"status\": \"Completed\", \"run_type\": \"azureml.scriptrun\", \"training_percent\": \"100\", \"start_time\": \"2020-12-01T08:00:15.932533Z\", \"end_time\": \"2020-12-01T08:00:56.908725Z\", \"created_time\": \"2020-12-01T08:00:05.602957Z\", \"created_time_dt\": \"2020-12-01T08:00:05.602957Z\", \"duration\": \"0:00:51\", \"iteration\": \"24\", \"goal\": \"accuracy_max\", \"run_name\": \"MaxAbsScaler, SGD\", \"run_properties\": \"copy=True\", \"primary_metric\": 0.63333333, \"best_metric\": 0.68428571}, {\"run_id\": \"AutoML_5579856f-bffa-4c36-84d6-e8241a6bd632_25\", \"run_number\": 30, \"metric\": null, \"status\": \"Completed\", \"run_type\": \"azureml.scriptrun\", \"training_percent\": \"100\", \"start_time\": \"2020-12-01T08:01:09.611174Z\", \"end_time\": \"2020-12-01T08:02:02.49758Z\", \"created_time\": \"2020-12-01T08:00:53.014697Z\", \"created_time_dt\": \"2020-12-01T08:00:53.014697Z\", \"duration\": \"0:01:09\", \"iteration\": \"25\", \"goal\": \"accuracy_max\", \"run_name\": \"TruncatedSVDWrapper, SGD\", \"run_properties\": \"n_components=0.40578947368421053, random_state=None\", \"primary_metric\": 0.5347619, \"best_metric\": 0.68428571}, {\"run_id\": \"AutoML_5579856f-bffa-4c36-84d6-e8241a6bd632_26\", \"run_number\": 31, \"metric\": null, \"status\": \"Completed\", \"run_type\": \"azureml.scriptrun\", \"training_percent\": \"100\", \"start_time\": \"2020-12-01T08:01:04.874537Z\", \"end_time\": \"2020-12-01T08:01:48.126837Z\", \"created_time\": \"2020-12-01T08:00:53.152489Z\", \"created_time_dt\": \"2020-12-01T08:00:53.152489Z\", \"duration\": \"0:00:54\", \"iteration\": \"26\", \"goal\": \"accuracy_max\", \"run_name\": \"MinMaxScaler, RandomForest\", \"run_properties\": \"copy=True, feature_range=(0, 1\", \"primary_metric\": 0.65380952, \"best_metric\": 0.68428571}, {\"run_id\": \"AutoML_5579856f-bffa-4c36-84d6-e8241a6bd632_27\", \"run_number\": 32, \"metric\": null, \"status\": \"Completed\", \"run_type\": \"azureml.scriptrun\", \"training_percent\": \"100\", \"start_time\": \"2020-12-01T08:01:21.12087Z\", \"end_time\": \"2020-12-01T08:02:13.136084Z\", \"created_time\": \"2020-12-01T08:01:08.447763Z\", \"created_time_dt\": \"2020-12-01T08:01:08.447763Z\", \"duration\": \"0:01:04\", \"iteration\": \"27\", \"goal\": \"accuracy_max\", \"run_name\": \"MinMaxScaler, RandomForest\", \"run_properties\": \"copy=True, feature_range=(0, 1\", \"primary_metric\": 0.65428571, \"best_metric\": 0.68428571}, {\"run_id\": \"AutoML_5579856f-bffa-4c36-84d6-e8241a6bd632_28\", \"run_number\": 33, \"metric\": null, \"status\": \"Completed\", \"run_type\": \"azureml.scriptrun\", \"training_percent\": \"100\", \"start_time\": \"2020-12-01T08:02:32.698318Z\", \"end_time\": \"2020-12-01T08:03:35.297553Z\", \"created_time\": \"2020-12-01T08:02:15.927733Z\", \"created_time_dt\": \"2020-12-01T08:02:15.927733Z\", \"duration\": \"0:01:19\", \"iteration\": \"28\", \"goal\": \"accuracy_max\", \"run_name\": \"VotingEnsemble\", \"run_properties\": \"classification_labels=None,\\n                              estimators=[('13',\\n                                           Pipeline(memory=None,\\n                                                    steps=[('minmaxscaler',\\n                                                            MinMaxScaler(copy=True,\\n                                                                         feature_range=(0,\\n                                                                                        1\", \"primary_metric\": 0.74047619, \"best_metric\": 0.74047619}, {\"run_id\": \"AutoML_5579856f-bffa-4c36-84d6-e8241a6bd632_29\", \"run_number\": 34, \"metric\": null, \"status\": \"Completed\", \"run_type\": \"azureml.scriptrun\", \"training_percent\": \"100\", \"start_time\": \"2020-12-01T08:02:51.443529Z\", \"end_time\": \"2020-12-01T08:03:44.64617Z\", \"created_time\": \"2020-12-01T08:02:16.581427Z\", \"created_time_dt\": \"2020-12-01T08:02:16.581427Z\", \"duration\": \"0:01:28\", \"iteration\": \"29\", \"goal\": \"accuracy_max\", \"run_name\": \"StackEnsemble\", \"run_properties\": \"base_learners=[('13',\\n                                        Pipeline(memory=None,\\n                                                 steps=[('minmaxscaler',\\n                                                         MinMaxScaler(copy=True,\\n                                                                      feature_range=(0,\\n                                                                                     1\", \"primary_metric\": 0.6147619, \"best_metric\": 0.74047619}], \"children_metrics\": {\"categories\": [0], \"series\": {\"matthews_correlation\": [{\"categories\": [\"0\", \"1\", \"2\", \"3\", \"4\", \"5\", \"6\", \"7\", \"8\", \"9\", \"10\", \"11\", \"12\", \"13\", \"14\", \"15\", \"16\", \"17\", \"18\", \"19\", \"20\", \"21\", \"22\", \"23\", \"24\", \"25\", \"26\", \"27\", \"28\", \"29\"], \"mode\": \"markers\", \"name\": \"matthews_correlation\", \"stepped\": false, \"type\": \"scatter\", \"data\": [0.1362934813020564, 0.2795038159822158, 0.2007599920373456, 0.18704954750169275, -0.05475684559191951, 0.266061531937091, 0.11990377489091794, 0.09727108193937466, 0.021175897368970336, 0.11964594448247232, -0.034793453531906396, 0.30248270932151256, 0.15057064253584418, 0.09754527023186936, 0.10656893900073014, 0.05048770178957072, 0.13690423008213534, 0.2980212715154048, 0.2740987834239051, 0.14109823440192748, -0.028094609185191216, 0.34846349861666565, 0.12561797395154706, 0.05699292087381752, 0.1915434177922598, 0.0, 0.20129295028411404, 0.18478505975633824, 0.4374567271208788, 0.04236147370422038]}, {\"categories\": [\"0\", \"1\", \"2\", \"3\", \"4\", \"5\", \"6\", \"7\", \"8\", \"9\", \"10\", \"11\", \"12\", \"13\", \"14\", \"15\", \"16\", \"17\", \"18\", \"19\", \"20\", \"21\", \"22\", \"23\", \"24\", \"25\", \"26\", \"27\", \"28\", \"29\"], \"mode\": \"lines\", \"name\": \"matthews_correlation_max\", \"stepped\": true, \"type\": \"scatter\", \"data\": [0.1362934813020564, 0.2795038159822158, 0.2795038159822158, 0.2795038159822158, 0.2795038159822158, 0.2795038159822158, 0.2795038159822158, 0.2795038159822158, 0.2795038159822158, 0.2795038159822158, 0.2795038159822158, 0.30248270932151256, 0.30248270932151256, 0.30248270932151256, 0.30248270932151256, 0.30248270932151256, 0.30248270932151256, 0.30248270932151256, 0.30248270932151256, 0.30248270932151256, 0.30248270932151256, 0.34846349861666565, 0.34846349861666565, 0.34846349861666565, 0.34846349861666565, 0.34846349861666565, 0.34846349861666565, 0.34846349861666565, 0.4374567271208788, 0.4374567271208788]}], \"weighted_accuracy\": [{\"categories\": [\"0\", \"1\", \"2\", \"3\", \"4\", \"5\", \"6\", \"7\", \"8\", \"9\", \"10\", \"11\", \"12\", \"13\", \"14\", \"15\", \"16\", \"17\", \"18\", \"19\", \"20\", \"21\", \"22\", \"23\", \"24\", \"25\", \"26\", \"27\", \"28\", \"29\"], \"mode\": \"markers\", \"name\": \"weighted_accuracy\", \"stepped\": false, \"type\": \"scatter\", \"data\": [0.6674961509713814, 0.7252430753513018, 0.6847794815147143, 0.6826042386762264, 0.692111325152424, 0.6199322920024827, 0.6897575322653939, 0.6736382636653543, 0.6454832138470186, 0.6419300439453727, 0.7368712622036335, 0.6749027516584046, 0.6202421022171353, 0.7711569764893477, 0.6201123679493338, 0.6460791260053413, 0.7142325112980054, 0.6983083452525439, 0.6197352476675073, 0.652401925005489, 0.5629587716738023, 0.7047133662358898, 0.6845828490725505, 0.6129434373931154, 0.6656921641780811, 0.5889517991163851, 0.7095083570608026, 0.7110286833477272, 0.7805275618872688, 0.6880834383136409]}, {\"categories\": [\"0\", \"1\", \"2\", \"3\", \"4\", \"5\", \"6\", \"7\", \"8\", \"9\", \"10\", \"11\", \"12\", \"13\", \"14\", \"15\", \"16\", \"17\", \"18\", \"19\", \"20\", \"21\", \"22\", \"23\", \"24\", \"25\", \"26\", \"27\", \"28\", \"29\"], \"mode\": \"lines\", \"name\": \"weighted_accuracy_max\", \"stepped\": true, \"type\": \"scatter\", \"data\": [0.6674961509713814, 0.7252430753513018, 0.7252430753513018, 0.7252430753513018, 0.7252430753513018, 0.7252430753513018, 0.7252430753513018, 0.7252430753513018, 0.7252430753513018, 0.7252430753513018, 0.7368712622036335, 0.7368712622036335, 0.7368712622036335, 0.7711569764893477, 0.7711569764893477, 0.7711569764893477, 0.7711569764893477, 0.7711569764893477, 0.7711569764893477, 0.7711569764893477, 0.7711569764893477, 0.7711569764893477, 0.7711569764893477, 0.7711569764893477, 0.7711569764893477, 0.7711569764893477, 0.7711569764893477, 0.7711569764893477, 0.7805275618872688, 0.7805275618872688]}], \"recall_score_micro\": [{\"categories\": [\"0\", \"1\", \"2\", \"3\", \"4\", \"5\", \"6\", \"7\", \"8\", \"9\", \"10\", \"11\", \"12\", \"13\", \"14\", \"15\", \"16\", \"17\", \"18\", \"19\", \"20\", \"21\", \"22\", \"23\", \"24\", \"25\", \"26\", \"27\", \"28\", \"29\"], \"mode\": \"markers\", \"name\": \"recall_score_micro\", \"stepped\": false, \"type\": \"scatter\", \"data\": [0.6257142857142857, 0.6823809523809523, 0.6442857142857142, 0.6433333333333333, 0.6052380952380952, 0.6242857142857142, 0.6242857142857142, 0.6252380952380951, 0.5966666666666666, 0.6047619047619047, 0.6461904761904762, 0.6628571428571429, 0.5942857142857142, 0.6842857142857144, 0.5852380952380953, 0.5947619047619048, 0.6542857142857142, 0.6719047619047618, 0.6242857142857142, 0.6142857142857142, 0.5280952380952382, 0.6814285714285715, 0.6247619047619047, 0.5752380952380952, 0.6333333333333333, 0.5347619047619048, 0.6538095238095238, 0.6542857142857142, 0.7404761904761904, 0.6147619047619047]}, {\"categories\": [\"0\", \"1\", \"2\", \"3\", \"4\", \"5\", \"6\", \"7\", \"8\", \"9\", \"10\", \"11\", \"12\", \"13\", \"14\", \"15\", \"16\", \"17\", \"18\", \"19\", \"20\", \"21\", \"22\", \"23\", \"24\", \"25\", \"26\", \"27\", \"28\", \"29\"], \"mode\": \"lines\", \"name\": \"recall_score_micro_max\", \"stepped\": true, \"type\": \"scatter\", \"data\": [0.6257142857142857, 0.6823809523809523, 0.6823809523809523, 0.6823809523809523, 0.6823809523809523, 0.6823809523809523, 0.6823809523809523, 0.6823809523809523, 0.6823809523809523, 0.6823809523809523, 0.6823809523809523, 0.6823809523809523, 0.6823809523809523, 0.6842857142857144, 0.6842857142857144, 0.6842857142857144, 0.6842857142857144, 0.6842857142857144, 0.6842857142857144, 0.6842857142857144, 0.6842857142857144, 0.6842857142857144, 0.6842857142857144, 0.6842857142857144, 0.6842857142857144, 0.6842857142857144, 0.6842857142857144, 0.6842857142857144, 0.7404761904761904, 0.7404761904761904]}], \"AUC_weighted\": [{\"categories\": [\"0\", \"1\", \"2\", \"3\", \"4\", \"5\", \"6\", \"7\", \"8\", \"9\", \"10\", \"11\", \"12\", \"13\", \"14\", \"15\", \"16\", \"17\", \"18\", \"19\", \"20\", \"21\", \"22\", \"23\", \"24\", \"25\", \"26\", \"27\", \"28\", \"29\"], \"mode\": \"markers\", \"name\": \"AUC_weighted\", \"stepped\": false, \"type\": \"scatter\", \"data\": [0.5447701504844362, 0.7306294639067747, 0.6325213721852376, 0.6881496841160708, 0.47623995052566476, 0.7066380491590575, 0.5819837025719379, 0.6236756520790133, 0.6054193798731614, 0.6864105642256902, 0.532298737676889, 0.6746220912607467, 0.6738790061479136, 0.6743368862696594, 0.6466441121903307, 0.6341022469593898, 0.6560961354238666, 0.7329200771217579, 0.7063591497204943, 0.6357158621024167, 0.5771695344804588, 0.7624535874956042, 0.5220450604484219, 0.6531140941224975, 0.6578987958819893, 0.5, 0.6809147901584878, 0.6681319800647533, 0.7504599415523785, 0.764050104890441]}, {\"categories\": [\"0\", \"1\", \"2\", \"3\", \"4\", \"5\", \"6\", \"7\", \"8\", \"9\", \"10\", \"11\", \"12\", \"13\", \"14\", \"15\", \"16\", \"17\", \"18\", \"19\", \"20\", \"21\", \"22\", \"23\", \"24\", \"25\", \"26\", \"27\", \"28\", \"29\"], \"mode\": \"lines\", \"name\": \"AUC_weighted_max\", \"stepped\": true, \"type\": \"scatter\", \"data\": [0.5447701504844362, 0.7306294639067747, 0.7306294639067747, 0.7306294639067747, 0.7306294639067747, 0.7306294639067747, 0.7306294639067747, 0.7306294639067747, 0.7306294639067747, 0.7306294639067747, 0.7306294639067747, 0.7306294639067747, 0.7306294639067747, 0.7306294639067747, 0.7306294639067747, 0.7306294639067747, 0.7306294639067747, 0.7329200771217579, 0.7329200771217579, 0.7329200771217579, 0.7329200771217579, 0.7624535874956042, 0.7624535874956042, 0.7624535874956042, 0.7624535874956042, 0.7624535874956042, 0.7624535874956042, 0.7624535874956042, 0.7624535874956042, 0.764050104890441]}], \"f1_score_micro\": [{\"categories\": [\"0\", \"1\", \"2\", \"3\", \"4\", \"5\", \"6\", \"7\", \"8\", \"9\", \"10\", \"11\", \"12\", \"13\", \"14\", \"15\", \"16\", \"17\", \"18\", \"19\", \"20\", \"21\", \"22\", \"23\", \"24\", \"25\", \"26\", \"27\", \"28\", \"29\"], \"mode\": \"markers\", \"name\": \"f1_score_micro\", \"stepped\": false, \"type\": \"scatter\", \"data\": [0.6257142857142857, 0.6823809523809523, 0.6442857142857142, 0.6433333333333333, 0.6052380952380952, 0.6242857142857142, 0.6242857142857142, 0.6252380952380951, 0.5966666666666666, 0.6047619047619047, 0.6461904761904762, 0.6628571428571429, 0.5942857142857142, 0.6842857142857144, 0.5852380952380953, 0.5947619047619048, 0.6542857142857142, 0.6719047619047618, 0.6242857142857142, 0.6142857142857142, 0.5280952380952382, 0.6814285714285715, 0.6247619047619047, 0.5752380952380952, 0.6333333333333333, 0.5347619047619048, 0.6538095238095238, 0.6542857142857142, 0.7404761904761904, 0.6147619047619047]}, {\"categories\": [\"0\", \"1\", \"2\", \"3\", \"4\", \"5\", \"6\", \"7\", \"8\", \"9\", \"10\", \"11\", \"12\", \"13\", \"14\", \"15\", \"16\", \"17\", \"18\", \"19\", \"20\", \"21\", \"22\", \"23\", \"24\", \"25\", \"26\", \"27\", \"28\", \"29\"], \"mode\": \"lines\", \"name\": \"f1_score_micro_max\", \"stepped\": true, \"type\": \"scatter\", \"data\": [0.6257142857142857, 0.6823809523809523, 0.6823809523809523, 0.6823809523809523, 0.6823809523809523, 0.6823809523809523, 0.6823809523809523, 0.6823809523809523, 0.6823809523809523, 0.6823809523809523, 0.6823809523809523, 0.6823809523809523, 0.6823809523809523, 0.6842857142857144, 0.6842857142857144, 0.6842857142857144, 0.6842857142857144, 0.6842857142857144, 0.6842857142857144, 0.6842857142857144, 0.6842857142857144, 0.6842857142857144, 0.6842857142857144, 0.6842857142857144, 0.6842857142857144, 0.6842857142857144, 0.6842857142857144, 0.6842857142857144, 0.7404761904761904, 0.7404761904761904]}], \"f1_score_weighted\": [{\"categories\": [\"0\", \"1\", \"2\", \"3\", \"4\", \"5\", \"6\", \"7\", \"8\", \"9\", \"10\", \"11\", \"12\", \"13\", \"14\", \"15\", \"16\", \"17\", \"18\", \"19\", \"20\", \"21\", \"22\", \"23\", \"24\", \"25\", \"26\", \"27\", \"28\", \"29\"], \"mode\": \"markers\", \"name\": \"f1_score_weighted\", \"stepped\": false, \"type\": \"scatter\", \"data\": [0.604608813613422, 0.6668803801562422, 0.6281506038764103, 0.6430133409415946, 0.5385927647348834, 0.6393777131952352, 0.5869534661652888, 0.580734214324478, 0.5711817450323198, 0.6035187035187034, 0.5482397542074962, 0.6706691648070959, 0.601194368836403, 0.5906465866048409, 0.5803236383194114, 0.5674673992673993, 0.6129464434410672, 0.6786481121427357, 0.638017832766003, 0.6143693854038681, 0.5313830595603994, 0.6783827935505353, 0.5877766325385372, 0.5611503692386045, 0.6371691144104936, 0.4016509717491485, 0.6162955502646896, 0.609643384787401, 0.7217486578980832, 0.5311355311355312]}, {\"categories\": [\"0\", \"1\", \"2\", \"3\", \"4\", \"5\", \"6\", \"7\", \"8\", \"9\", \"10\", \"11\", \"12\", \"13\", \"14\", \"15\", \"16\", \"17\", \"18\", \"19\", \"20\", \"21\", \"22\", \"23\", \"24\", \"25\", \"26\", \"27\", \"28\", \"29\"], \"mode\": \"lines\", \"name\": \"f1_score_weighted_max\", \"stepped\": true, \"type\": \"scatter\", \"data\": [0.604608813613422, 0.6668803801562422, 0.6668803801562422, 0.6668803801562422, 0.6668803801562422, 0.6668803801562422, 0.6668803801562422, 0.6668803801562422, 0.6668803801562422, 0.6668803801562422, 0.6668803801562422, 0.6706691648070959, 0.6706691648070959, 0.6706691648070959, 0.6706691648070959, 0.6706691648070959, 0.6706691648070959, 0.6786481121427357, 0.6786481121427357, 0.6786481121427357, 0.6786481121427357, 0.6786481121427357, 0.6786481121427357, 0.6786481121427357, 0.6786481121427357, 0.6786481121427357, 0.6786481121427357, 0.6786481121427357, 0.7217486578980832, 0.7217486578980832]}], \"average_precision_score_weighted\": [{\"categories\": [\"0\", \"1\", \"2\", \"3\", \"4\", \"5\", \"6\", \"7\", \"8\", \"9\", \"10\", \"11\", \"12\", \"13\", \"14\", \"15\", \"16\", \"17\", \"18\", \"19\", \"20\", \"21\", \"22\", \"23\", \"24\", \"25\", \"26\", \"27\", \"28\", \"29\"], \"mode\": \"markers\", \"name\": \"average_precision_score_weighted\", \"stepped\": false, \"type\": \"scatter\", \"data\": [0.6515412492891485, 0.7788211191850067, 0.7058103818470913, 0.7614558635256335, 0.6495286527996059, 0.7693829689586544, 0.6701432194682969, 0.7151192526247812, 0.704055016631034, 0.7464914973820879, 0.6614993353043994, 0.7449139015623426, 0.7544654441050945, 0.7477997179753593, 0.7382805154675455, 0.7225629614132489, 0.7113968045035051, 0.8132295562481321, 0.7694923590832481, 0.7170549001263288, 0.6729142521074188, 0.8083796859458623, 0.6346275024138801, 0.7414685452187664, 0.7309050514492798, 0.5898163265306122, 0.7502202518761563, 0.733300043947158, 0.7971221756767974, 0.8120501206453218]}, {\"categories\": [\"0\", \"1\", \"2\", \"3\", \"4\", \"5\", \"6\", \"7\", \"8\", \"9\", \"10\", \"11\", \"12\", \"13\", \"14\", \"15\", \"16\", \"17\", \"18\", \"19\", \"20\", \"21\", \"22\", \"23\", \"24\", \"25\", \"26\", \"27\", \"28\", \"29\"], \"mode\": \"lines\", \"name\": \"average_precision_score_weighted_max\", \"stepped\": true, \"type\": \"scatter\", \"data\": [0.6515412492891485, 0.7788211191850067, 0.7788211191850067, 0.7788211191850067, 0.7788211191850067, 0.7788211191850067, 0.7788211191850067, 0.7788211191850067, 0.7788211191850067, 0.7788211191850067, 0.7788211191850067, 0.7788211191850067, 0.7788211191850067, 0.7788211191850067, 0.7788211191850067, 0.7788211191850067, 0.7788211191850067, 0.8132295562481321, 0.8132295562481321, 0.8132295562481321, 0.8132295562481321, 0.8132295562481321, 0.8132295562481321, 0.8132295562481321, 0.8132295562481321, 0.8132295562481321, 0.8132295562481321, 0.8132295562481321, 0.8132295562481321, 0.8132295562481321]}], \"f1_score_macro\": [{\"categories\": [\"0\", \"1\", \"2\", \"3\", \"4\", \"5\", \"6\", \"7\", \"8\", \"9\", \"10\", \"11\", \"12\", \"13\", \"14\", \"15\", \"16\", \"17\", \"18\", \"19\", \"20\", \"21\", \"22\", \"23\", \"24\", \"25\", \"26\", \"27\", \"28\", \"29\"], \"mode\": \"markers\", \"name\": \"f1_score_macro\", \"stepped\": false, \"type\": \"scatter\", \"data\": [0.5347447982125402, 0.5994353012887496, 0.5590487902181451, 0.5725786453998356, 0.41224485224910545, 0.599305173468789, 0.49715455043041246, 0.5026046626350885, 0.4839259862104689, 0.5304057054057054, 0.4095014552675843, 0.6240244621279105, 0.5441245268054231, 0.46087728663629984, 0.5148562985031283, 0.4806474358974359, 0.5226756815466492, 0.625045441416409, 0.598724030961683, 0.5444911027669648, 0.4572357655116276, 0.6243223926611023, 0.500983645983646, 0.4895003819709702, 0.5710014889325233, 0.3339364188873305, 0.534695890372868, 0.5290994513712566, 0.6627544119354465, 0.4207692307692308]}, {\"categories\": [\"0\", \"1\", \"2\", \"3\", \"4\", \"5\", \"6\", \"7\", \"8\", \"9\", \"10\", \"11\", \"12\", \"13\", \"14\", \"15\", \"16\", \"17\", \"18\", \"19\", \"20\", \"21\", \"22\", \"23\", \"24\", \"25\", \"26\", \"27\", \"28\", \"29\"], \"mode\": \"lines\", \"name\": \"f1_score_macro_max\", \"stepped\": true, \"type\": \"scatter\", \"data\": [0.5347447982125402, 0.5994353012887496, 0.5994353012887496, 0.5994353012887496, 0.5994353012887496, 0.5994353012887496, 0.5994353012887496, 0.5994353012887496, 0.5994353012887496, 0.5994353012887496, 0.5994353012887496, 0.6240244621279105, 0.6240244621279105, 0.6240244621279105, 0.6240244621279105, 0.6240244621279105, 0.6240244621279105, 0.625045441416409, 0.625045441416409, 0.625045441416409, 0.625045441416409, 0.625045441416409, 0.625045441416409, 0.625045441416409, 0.625045441416409, 0.625045441416409, 0.625045441416409, 0.625045441416409, 0.6627544119354465, 0.6627544119354465]}], \"AUC_macro\": [{\"categories\": [\"0\", \"1\", \"2\", \"3\", \"4\", \"5\", \"6\", \"7\", \"8\", \"9\", \"10\", \"11\", \"12\", \"13\", \"14\", \"15\", \"16\", \"17\", \"18\", \"19\", \"20\", \"21\", \"22\", \"23\", \"24\", \"25\", \"26\", \"27\", \"28\", \"29\"], \"mode\": \"markers\", \"name\": \"AUC_macro\", \"stepped\": false, \"type\": \"scatter\", \"data\": [0.5447701504844362, 0.730629463906775, 0.6325213721852376, 0.6881496841160706, 0.4762399505256648, 0.7066380491590575, 0.5819837025719379, 0.6236756520790134, 0.6054193798731614, 0.6864105642256902, 0.532298737676889, 0.6746220912607467, 0.6738790061479139, 0.6743368862696594, 0.6466441121903307, 0.6341022469593898, 0.6560961354238666, 0.7329200771217578, 0.7063591497204943, 0.6357158621024168, 0.5771695344804588, 0.7624535874956042, 0.5220450604484219, 0.6532841621497083, 0.6578987958819893, 0.5, 0.6809147901584878, 0.6681319800647533, 0.7504599415523785, 0.764050104890441]}, {\"categories\": [\"0\", \"1\", \"2\", \"3\", \"4\", \"5\", \"6\", \"7\", \"8\", \"9\", \"10\", \"11\", \"12\", \"13\", \"14\", \"15\", \"16\", \"17\", \"18\", \"19\", \"20\", \"21\", \"22\", \"23\", \"24\", \"25\", \"26\", \"27\", \"28\", \"29\"], \"mode\": \"lines\", \"name\": \"AUC_macro_max\", \"stepped\": true, \"type\": \"scatter\", \"data\": [0.5447701504844362, 0.730629463906775, 0.730629463906775, 0.730629463906775, 0.730629463906775, 0.730629463906775, 0.730629463906775, 0.730629463906775, 0.730629463906775, 0.730629463906775, 0.730629463906775, 0.730629463906775, 0.730629463906775, 0.730629463906775, 0.730629463906775, 0.730629463906775, 0.730629463906775, 0.7329200771217578, 0.7329200771217578, 0.7329200771217578, 0.7329200771217578, 0.7624535874956042, 0.7624535874956042, 0.7624535874956042, 0.7624535874956042, 0.7624535874956042, 0.7624535874956042, 0.7624535874956042, 0.7624535874956042, 0.764050104890441]}], \"precision_score_micro\": [{\"categories\": [\"0\", \"1\", \"2\", \"3\", \"4\", \"5\", \"6\", \"7\", \"8\", \"9\", \"10\", \"11\", \"12\", \"13\", \"14\", \"15\", \"16\", \"17\", \"18\", \"19\", \"20\", \"21\", \"22\", \"23\", \"24\", \"25\", \"26\", \"27\", \"28\", \"29\"], \"mode\": \"markers\", \"name\": \"precision_score_micro\", \"stepped\": false, \"type\": \"scatter\", \"data\": [0.6257142857142857, 0.6823809523809523, 0.6442857142857142, 0.6433333333333333, 0.6052380952380952, 0.6242857142857142, 0.6242857142857142, 0.6252380952380951, 0.5966666666666666, 0.6047619047619047, 0.6461904761904762, 0.6628571428571429, 0.5942857142857142, 0.6842857142857144, 0.5852380952380953, 0.5947619047619048, 0.6542857142857142, 0.6719047619047618, 0.6242857142857142, 0.6142857142857142, 0.5280952380952382, 0.6814285714285715, 0.6247619047619047, 0.5752380952380952, 0.6333333333333333, 0.5347619047619048, 0.6538095238095238, 0.6542857142857142, 0.7404761904761904, 0.6147619047619047]}, {\"categories\": [\"0\", \"1\", \"2\", \"3\", \"4\", \"5\", \"6\", \"7\", \"8\", \"9\", \"10\", \"11\", \"12\", \"13\", \"14\", \"15\", \"16\", \"17\", \"18\", \"19\", \"20\", \"21\", \"22\", \"23\", \"24\", \"25\", \"26\", \"27\", \"28\", \"29\"], \"mode\": \"lines\", \"name\": \"precision_score_micro_max\", \"stepped\": true, \"type\": \"scatter\", \"data\": [0.6257142857142857, 0.6823809523809523, 0.6823809523809523, 0.6823809523809523, 0.6823809523809523, 0.6823809523809523, 0.6823809523809523, 0.6823809523809523, 0.6823809523809523, 0.6823809523809523, 0.6823809523809523, 0.6823809523809523, 0.6823809523809523, 0.6842857142857144, 0.6842857142857144, 0.6842857142857144, 0.6842857142857144, 0.6842857142857144, 0.6842857142857144, 0.6842857142857144, 0.6842857142857144, 0.6842857142857144, 0.6842857142857144, 0.6842857142857144, 0.6842857142857144, 0.6842857142857144, 0.6842857142857144, 0.6842857142857144, 0.7404761904761904, 0.7404761904761904]}], \"log_loss\": [{\"categories\": [\"0\", \"1\", \"2\", \"3\", \"4\", \"5\", \"6\", \"7\", \"8\", \"9\", \"10\", \"11\", \"12\", \"13\", \"14\", \"15\", \"16\", \"17\", \"18\", \"19\", \"20\", \"21\", \"22\", \"23\", \"24\", \"25\", \"26\", \"27\", \"28\", \"29\"], \"mode\": \"markers\", \"name\": \"log_loss\", \"stepped\": false, \"type\": \"scatter\", \"data\": [0.827222905667519, 0.6950319128121197, 0.6608416295944078, 1.0626130964801621, 0.6911881998875901, 0.6578752288366871, 1.3297971120460959, 0.6392412735194376, 0.6828793260127763, 2.85029825279326, 0.6553513573243617, 0.6563256025985105, 0.6529335324107081, 0.6140039491100235, 0.6744624369807745, 0.6505463595940257, 0.6385002303877958, 0.5840258755179727, 0.6602919944111225, 0.6850241892416117, 0.6915422995293443, 0.6052856473746215, 1.334492085148298, 1.0668023502972528, 3.828463100246566, 0.69314718017762, 0.6196631796932098, 0.6203598070674715, 0.5879614798262828, 0.6206596533169849]}, {\"categories\": [\"0\", \"1\", \"2\", \"3\", \"4\", \"5\", \"6\", \"7\", \"8\", \"9\", \"10\", \"11\", \"12\", \"13\", \"14\", \"15\", \"16\", \"17\", \"18\", \"19\", \"20\", \"21\", \"22\", \"23\", \"24\", \"25\", \"26\", \"27\", \"28\", \"29\"], \"mode\": \"lines\", \"name\": \"log_loss_min\", \"stepped\": true, \"type\": \"scatter\", \"data\": [0.827222905667519, 0.6950319128121197, 0.6608416295944078, 0.6608416295944078, 0.6608416295944078, 0.6578752288366871, 0.6578752288366871, 0.6392412735194376, 0.6392412735194376, 0.6392412735194376, 0.6392412735194376, 0.6392412735194376, 0.6392412735194376, 0.6140039491100235, 0.6140039491100235, 0.6140039491100235, 0.6140039491100235, 0.5840258755179727, 0.5840258755179727, 0.5840258755179727, 0.5840258755179727, 0.5840258755179727, 0.5840258755179727, 0.5840258755179727, 0.5840258755179727, 0.5840258755179727, 0.5840258755179727, 0.5840258755179727, 0.5840258755179727, 0.5840258755179727]}], \"AUC_micro\": [{\"categories\": [\"0\", \"1\", \"2\", \"3\", \"4\", \"5\", \"6\", \"7\", \"8\", \"9\", \"10\", \"11\", \"12\", \"13\", \"14\", \"15\", \"16\", \"17\", \"18\", \"19\", \"20\", \"21\", \"22\", \"23\", \"24\", \"25\", \"26\", \"27\", \"28\", \"29\"], \"mode\": \"markers\", \"name\": \"AUC_micro\", \"stepped\": false, \"type\": \"scatter\", \"data\": [0.6393197278911565, 0.733953514739229, 0.6896247165532878, 0.6990215419501133, 0.6285294784580499, 0.6556020408163266, 0.6400187074829932, 0.6847403628117913, 0.6379603174603174, 0.6934399092970521, 0.6643185941043084, 0.6552063492063492, 0.645079365079365, 0.7325317460317461, 0.6592528344671201, 0.6666020408163266, 0.7063809523809523, 0.7583163265306122, 0.6509965986394558, 0.6787766439909297, 0.6099943310657596, 0.7236746031746032, 0.6241632653061224, 0.6740612244897959, 0.6680204081632654, 0.5347619047619048, 0.7183820861678004, 0.7201020408163264, 0.7503027210884353, 0.7290351473922903]}, {\"categories\": [\"0\", \"1\", \"2\", \"3\", \"4\", \"5\", \"6\", \"7\", \"8\", \"9\", \"10\", \"11\", \"12\", \"13\", \"14\", \"15\", \"16\", \"17\", \"18\", \"19\", \"20\", \"21\", \"22\", \"23\", \"24\", \"25\", \"26\", \"27\", \"28\", \"29\"], \"mode\": \"lines\", \"name\": \"AUC_micro_max\", \"stepped\": true, \"type\": \"scatter\", \"data\": [0.6393197278911565, 0.733953514739229, 0.733953514739229, 0.733953514739229, 0.733953514739229, 0.733953514739229, 0.733953514739229, 0.733953514739229, 0.733953514739229, 0.733953514739229, 0.733953514739229, 0.733953514739229, 0.733953514739229, 0.733953514739229, 0.733953514739229, 0.733953514739229, 0.733953514739229, 0.7583163265306122, 0.7583163265306122, 0.7583163265306122, 0.7583163265306122, 0.7583163265306122, 0.7583163265306122, 0.7583163265306122, 0.7583163265306122, 0.7583163265306122, 0.7583163265306122, 0.7583163265306122, 0.7583163265306122, 0.7583163265306122]}], \"precision_score_weighted\": [{\"categories\": [\"0\", \"1\", \"2\", \"3\", \"4\", \"5\", \"6\", \"7\", \"8\", \"9\", \"10\", \"11\", \"12\", \"13\", \"14\", \"15\", \"16\", \"17\", \"18\", \"19\", \"20\", \"21\", \"22\", \"23\", \"24\", \"25\", \"26\", \"27\", \"28\", \"29\"], \"mode\": \"markers\", \"name\": \"precision_score_weighted\", \"stepped\": false, \"type\": \"scatter\", \"data\": [0.6398642533936651, 0.7222720199190787, 0.6763105031486278, 0.6737245564892623, 0.5777318295739349, 0.7064275539275539, 0.6629744500139236, 0.5956975772765247, 0.5883629007158419, 0.6502844774273346, 0.4979351752396866, 0.7180841380841381, 0.6624297924297924, 0.57934327064159, 0.6424241363211951, 0.6126124338624338, 0.6278060967976934, 0.7221676166970284, 0.7121843896843897, 0.6552958152958153, 0.5889561876032465, 0.7609033613445378, 0.6583692296695393, 0.6131583105576914, 0.6796344396344397, 0.3296700680272108, 0.7031701803528427, 0.6833057001478053, 0.8023517740429504, 0.5891587301587301]}, {\"categories\": [\"0\", \"1\", \"2\", \"3\", \"4\", \"5\", \"6\", \"7\", \"8\", \"9\", \"10\", \"11\", \"12\", \"13\", \"14\", \"15\", \"16\", \"17\", \"18\", \"19\", \"20\", \"21\", \"22\", \"23\", \"24\", \"25\", \"26\", \"27\", \"28\", \"29\"], \"mode\": \"lines\", \"name\": \"precision_score_weighted_max\", \"stepped\": true, \"type\": \"scatter\", \"data\": [0.6398642533936651, 0.7222720199190787, 0.7222720199190787, 0.7222720199190787, 0.7222720199190787, 0.7222720199190787, 0.7222720199190787, 0.7222720199190787, 0.7222720199190787, 0.7222720199190787, 0.7222720199190787, 0.7222720199190787, 0.7222720199190787, 0.7222720199190787, 0.7222720199190787, 0.7222720199190787, 0.7222720199190787, 0.7222720199190787, 0.7222720199190787, 0.7222720199190787, 0.7222720199190787, 0.7609033613445378, 0.7609033613445378, 0.7609033613445378, 0.7609033613445378, 0.7609033613445378, 0.7609033613445378, 0.7609033613445378, 0.8023517740429504, 0.8023517740429504]}], \"recall_score_macro\": [{\"categories\": [\"0\", \"1\", \"2\", \"3\", \"4\", \"5\", \"6\", \"7\", \"8\", \"9\", \"10\", \"11\", \"12\", \"13\", \"14\", \"15\", \"16\", \"17\", \"18\", \"19\", \"20\", \"21\", \"22\", \"23\", \"24\", \"25\", \"26\", \"27\", \"28\", \"29\"], \"mode\": \"markers\", \"name\": \"recall_score_macro\", \"stepped\": false, \"type\": \"scatter\", \"data\": [0.5687267634326458, 0.6253119429590017, 0.6066157372039725, 0.5966208301502418, 0.4642729819200408, 0.6506951871657753, 0.5264858670741024, 0.5599439775910364, 0.5309829386299975, 0.5616042780748662, 0.48571428571428577, 0.6651489686783804, 0.5717443340972752, 0.5285714285714286, 0.5474968169085817, 0.5346829640947288, 0.5711510058568882, 0.6417723453017571, 0.6521237585943469, 0.5701757066462948, 0.4767125031830914, 0.6701324166030048, 0.5474815380697733, 0.5364196587725999, 0.5964094728800611, 0.5, 0.5809829386299975, 0.5772981920040744, 0.697904252610135, 0.5220320855614974]}, {\"categories\": [\"0\", \"1\", \"2\", \"3\", \"4\", \"5\", \"6\", \"7\", \"8\", \"9\", \"10\", \"11\", \"12\", \"13\", \"14\", \"15\", \"16\", \"17\", \"18\", \"19\", \"20\", \"21\", \"22\", \"23\", \"24\", \"25\", \"26\", \"27\", \"28\", \"29\"], \"mode\": \"lines\", \"name\": \"recall_score_macro_max\", \"stepped\": true, \"type\": \"scatter\", \"data\": [0.5687267634326458, 0.6253119429590017, 0.6253119429590017, 0.6253119429590017, 0.6253119429590017, 0.6506951871657753, 0.6506951871657753, 0.6506951871657753, 0.6506951871657753, 0.6506951871657753, 0.6506951871657753, 0.6651489686783804, 0.6651489686783804, 0.6651489686783804, 0.6651489686783804, 0.6651489686783804, 0.6651489686783804, 0.6651489686783804, 0.6651489686783804, 0.6651489686783804, 0.6651489686783804, 0.6701324166030048, 0.6701324166030048, 0.6701324166030048, 0.6701324166030048, 0.6701324166030048, 0.6701324166030048, 0.6701324166030048, 0.697904252610135, 0.697904252610135]}], \"recall_score_weighted\": [{\"categories\": [\"0\", \"1\", \"2\", \"3\", \"4\", \"5\", \"6\", \"7\", \"8\", \"9\", \"10\", \"11\", \"12\", \"13\", \"14\", \"15\", \"16\", \"17\", \"18\", \"19\", \"20\", \"21\", \"22\", \"23\", \"24\", \"25\", \"26\", \"27\", \"28\", \"29\"], \"mode\": \"markers\", \"name\": \"recall_score_weighted\", \"stepped\": false, \"type\": \"scatter\", \"data\": [0.6257142857142857, 0.6823809523809523, 0.6442857142857142, 0.6433333333333333, 0.6052380952380952, 0.6242857142857142, 0.6242857142857142, 0.6252380952380951, 0.5966666666666666, 0.6047619047619047, 0.6461904761904762, 0.6628571428571429, 0.5942857142857142, 0.6842857142857144, 0.5852380952380953, 0.5947619047619048, 0.6542857142857142, 0.6719047619047618, 0.6242857142857142, 0.6142857142857142, 0.5280952380952382, 0.6814285714285715, 0.6247619047619047, 0.5752380952380952, 0.6333333333333333, 0.5347619047619048, 0.6538095238095238, 0.6542857142857142, 0.7404761904761904, 0.6147619047619047]}, {\"categories\": [\"0\", \"1\", \"2\", \"3\", \"4\", \"5\", \"6\", \"7\", \"8\", \"9\", \"10\", \"11\", \"12\", \"13\", \"14\", \"15\", \"16\", \"17\", \"18\", \"19\", \"20\", \"21\", \"22\", \"23\", \"24\", \"25\", \"26\", \"27\", \"28\", \"29\"], \"mode\": \"lines\", \"name\": \"recall_score_weighted_max\", \"stepped\": true, \"type\": \"scatter\", \"data\": [0.6257142857142857, 0.6823809523809523, 0.6823809523809523, 0.6823809523809523, 0.6823809523809523, 0.6823809523809523, 0.6823809523809523, 0.6823809523809523, 0.6823809523809523, 0.6823809523809523, 0.6823809523809523, 0.6823809523809523, 0.6823809523809523, 0.6842857142857144, 0.6842857142857144, 0.6842857142857144, 0.6842857142857144, 0.6842857142857144, 0.6842857142857144, 0.6842857142857144, 0.6842857142857144, 0.6842857142857144, 0.6842857142857144, 0.6842857142857144, 0.6842857142857144, 0.6842857142857144, 0.6842857142857144, 0.6842857142857144, 0.7404761904761904, 0.7404761904761904]}], \"average_precision_score_micro\": [{\"categories\": [\"0\", \"1\", \"2\", \"3\", \"4\", \"5\", \"6\", \"7\", \"8\", \"9\", \"10\", \"11\", \"12\", \"13\", \"14\", \"15\", \"16\", \"17\", \"18\", \"19\", \"20\", \"21\", \"22\", \"23\", \"24\", \"25\", \"26\", \"27\", \"28\", \"29\"], \"mode\": \"markers\", \"name\": \"average_precision_score_micro\", \"stepped\": false, \"type\": \"scatter\", \"data\": [0.6389788787450528, 0.7366374342174598, 0.6922708007964788, 0.7240704497626715, 0.6508839946575959, 0.6762938641509079, 0.6403459522827047, 0.6973387823784366, 0.6673139802443561, 0.6890038418689068, 0.69308611049732, 0.6719200767670204, 0.6679336364400534, 0.739881276760401, 0.6846199354823562, 0.6850045624565377, 0.7157525152565303, 0.7762905430453662, 0.6576011828766734, 0.6851922668606549, 0.6271068837410636, 0.7364000983884587, 0.6120508279134905, 0.7077955691439544, 0.6582152262749468, 0.5622891156462586, 0.7234060621273779, 0.7259547592550633, 0.7594101098736902, 0.7452452719181075]}, {\"categories\": [\"0\", \"1\", \"2\", \"3\", \"4\", \"5\", \"6\", \"7\", \"8\", \"9\", \"10\", \"11\", \"12\", \"13\", \"14\", \"15\", \"16\", \"17\", \"18\", \"19\", \"20\", \"21\", \"22\", \"23\", \"24\", \"25\", \"26\", \"27\", \"28\", \"29\"], \"mode\": \"lines\", \"name\": \"average_precision_score_micro_max\", \"stepped\": true, \"type\": \"scatter\", \"data\": [0.6389788787450528, 0.7366374342174598, 0.7366374342174598, 0.7366374342174598, 0.7366374342174598, 0.7366374342174598, 0.7366374342174598, 0.7366374342174598, 0.7366374342174598, 0.7366374342174598, 0.7366374342174598, 0.7366374342174598, 0.7366374342174598, 0.739881276760401, 0.739881276760401, 0.739881276760401, 0.739881276760401, 0.7762905430453662, 0.7762905430453662, 0.7762905430453662, 0.7762905430453662, 0.7762905430453662, 0.7762905430453662, 0.7762905430453662, 0.7762905430453662, 0.7762905430453662, 0.7762905430453662, 0.7762905430453662, 0.7762905430453662, 0.7762905430453662]}], \"balanced_accuracy\": [{\"categories\": [\"0\", \"1\", \"2\", \"3\", \"4\", \"5\", \"6\", \"7\", \"8\", \"9\", \"10\", \"11\", \"12\", \"13\", \"14\", \"15\", \"16\", \"17\", \"18\", \"19\", \"20\", \"21\", \"22\", \"23\", \"24\", \"25\", \"26\", \"27\", \"28\", \"29\"], \"mode\": \"markers\", \"name\": \"balanced_accuracy\", \"stepped\": false, \"type\": \"scatter\", \"data\": [0.5687267634326458, 0.6253119429590017, 0.6066157372039725, 0.5966208301502418, 0.4642729819200408, 0.6506951871657753, 0.5264858670741024, 0.5599439775910364, 0.5309829386299975, 0.5616042780748662, 0.48571428571428577, 0.6651489686783804, 0.5717443340972752, 0.5285714285714286, 0.5474968169085817, 0.5346829640947288, 0.5711510058568882, 0.6417723453017571, 0.6521237585943469, 0.5701757066462948, 0.4767125031830914, 0.6701324166030048, 0.5474815380697733, 0.5364196587725999, 0.5964094728800611, 0.5, 0.5809829386299975, 0.5772981920040744, 0.697904252610135, 0.5220320855614974]}, {\"categories\": [\"0\", \"1\", \"2\", \"3\", \"4\", \"5\", \"6\", \"7\", \"8\", \"9\", \"10\", \"11\", \"12\", \"13\", \"14\", \"15\", \"16\", \"17\", \"18\", \"19\", \"20\", \"21\", \"22\", \"23\", \"24\", \"25\", \"26\", \"27\", \"28\", \"29\"], \"mode\": \"lines\", \"name\": \"balanced_accuracy_max\", \"stepped\": true, \"type\": \"scatter\", \"data\": [0.5687267634326458, 0.6253119429590017, 0.6253119429590017, 0.6253119429590017, 0.6253119429590017, 0.6506951871657753, 0.6506951871657753, 0.6506951871657753, 0.6506951871657753, 0.6506951871657753, 0.6506951871657753, 0.6651489686783804, 0.6651489686783804, 0.6651489686783804, 0.6651489686783804, 0.6651489686783804, 0.6651489686783804, 0.6651489686783804, 0.6651489686783804, 0.6651489686783804, 0.6651489686783804, 0.6701324166030048, 0.6701324166030048, 0.6701324166030048, 0.6701324166030048, 0.6701324166030048, 0.6701324166030048, 0.6701324166030048, 0.697904252610135, 0.697904252610135]}], \"accuracy\": [{\"categories\": [\"0\", \"1\", \"2\", \"3\", \"4\", \"5\", \"6\", \"7\", \"8\", \"9\", \"10\", \"11\", \"12\", \"13\", \"14\", \"15\", \"16\", \"17\", \"18\", \"19\", \"20\", \"21\", \"22\", \"23\", \"24\", \"25\", \"26\", \"27\", \"28\", \"29\"], \"mode\": \"markers\", \"name\": \"accuracy\", \"stepped\": false, \"type\": \"scatter\", \"data\": [0.6257142857142857, 0.6823809523809523, 0.6442857142857142, 0.6433333333333333, 0.6052380952380952, 0.6242857142857142, 0.6242857142857142, 0.6252380952380951, 0.5966666666666666, 0.6047619047619047, 0.6461904761904762, 0.6628571428571429, 0.5942857142857142, 0.6842857142857144, 0.5852380952380953, 0.5947619047619048, 0.6542857142857142, 0.6719047619047618, 0.6242857142857142, 0.6142857142857142, 0.5280952380952382, 0.6814285714285715, 0.6247619047619047, 0.5752380952380952, 0.6333333333333333, 0.5347619047619048, 0.6538095238095238, 0.6542857142857142, 0.7404761904761904, 0.6147619047619047]}, {\"categories\": [\"0\", \"1\", \"2\", \"3\", \"4\", \"5\", \"6\", \"7\", \"8\", \"9\", \"10\", \"11\", \"12\", \"13\", \"14\", \"15\", \"16\", \"17\", \"18\", \"19\", \"20\", \"21\", \"22\", \"23\", \"24\", \"25\", \"26\", \"27\", \"28\", \"29\"], \"mode\": \"lines\", \"name\": \"accuracy_max\", \"stepped\": true, \"type\": \"scatter\", \"data\": [0.6257142857142857, 0.6823809523809523, 0.6823809523809523, 0.6823809523809523, 0.6823809523809523, 0.6823809523809523, 0.6823809523809523, 0.6823809523809523, 0.6823809523809523, 0.6823809523809523, 0.6823809523809523, 0.6823809523809523, 0.6823809523809523, 0.6842857142857144, 0.6842857142857144, 0.6842857142857144, 0.6842857142857144, 0.6842857142857144, 0.6842857142857144, 0.6842857142857144, 0.6842857142857144, 0.6842857142857144, 0.6842857142857144, 0.6842857142857144, 0.6842857142857144, 0.6842857142857144, 0.6842857142857144, 0.6842857142857144, 0.7404761904761904, 0.7404761904761904]}], \"average_precision_score_macro\": [{\"categories\": [\"0\", \"1\", \"2\", \"3\", \"4\", \"5\", \"6\", \"7\", \"8\", \"9\", \"10\", \"11\", \"12\", \"13\", \"14\", \"15\", \"16\", \"17\", \"18\", \"19\", \"20\", \"21\", \"22\", \"23\", \"24\", \"25\", \"26\", \"27\", \"28\", \"29\"], \"mode\": \"markers\", \"name\": \"average_precision_score_macro\", \"stepped\": false, \"type\": \"scatter\", \"data\": [0.5733214930181054, 0.7045972490930323, 0.6384410576808753, 0.6920320318729413, 0.5625222277914801, 0.7038686524276417, 0.5952124881113063, 0.6591922059963531, 0.6086883508963471, 0.6632707715425388, 0.5920868964748234, 0.6929927360807578, 0.690405185003583, 0.6869178524729946, 0.6766818782469992, 0.6411312284577738, 0.626535577914438, 0.746508795112003, 0.7032362052577568, 0.6291522449241087, 0.5842281553298152, 0.7547737219475917, 0.5596978208678863, 0.6528735794834521, 0.6581148440503262, 0.5, 0.6809993542890946, 0.671477793898809, 0.7230398636715987, 0.7394659616063765]}, {\"categories\": [\"0\", \"1\", \"2\", \"3\", \"4\", \"5\", \"6\", \"7\", \"8\", \"9\", \"10\", \"11\", \"12\", \"13\", \"14\", \"15\", \"16\", \"17\", \"18\", \"19\", \"20\", \"21\", \"22\", \"23\", \"24\", \"25\", \"26\", \"27\", \"28\", \"29\"], \"mode\": \"lines\", \"name\": \"average_precision_score_macro_max\", \"stepped\": true, \"type\": \"scatter\", \"data\": [0.5733214930181054, 0.7045972490930323, 0.7045972490930323, 0.7045972490930323, 0.7045972490930323, 0.7045972490930323, 0.7045972490930323, 0.7045972490930323, 0.7045972490930323, 0.7045972490930323, 0.7045972490930323, 0.7045972490930323, 0.7045972490930323, 0.7045972490930323, 0.7045972490930323, 0.7045972490930323, 0.7045972490930323, 0.746508795112003, 0.746508795112003, 0.746508795112003, 0.746508795112003, 0.7547737219475917, 0.7547737219475917, 0.7547737219475917, 0.7547737219475917, 0.7547737219475917, 0.7547737219475917, 0.7547737219475917, 0.7547737219475917, 0.7547737219475917]}], \"norm_macro_recall\": [{\"categories\": [\"0\", \"1\", \"2\", \"3\", \"4\", \"5\", \"6\", \"7\", \"8\", \"9\", \"10\", \"11\", \"12\", \"13\", \"14\", \"15\", \"16\", \"17\", \"18\", \"19\", \"20\", \"21\", \"22\", \"23\", \"24\", \"25\", \"26\", \"27\", \"28\", \"29\"], \"mode\": \"markers\", \"name\": \"norm_macro_recall\", \"stepped\": false, \"type\": \"scatter\", \"data\": [0.1735574229691877, 0.25062388591800355, 0.21323147440794496, 0.20752737458619808, 0.02857142857142856, 0.3013903743315508, 0.09047619047619046, 0.1398879551820728, 0.14845938375350137, 0.15177998472116117, 0.01428571428571428, 0.33029793735676083, 0.1434886681945505, 0.05714285714285712, 0.1016603004838299, 0.12555640437993376, 0.14593837535014006, 0.2835446906035141, 0.30424751718869364, 0.14035141329258974, 0.03454545454545457, 0.3402648332060097, 0.09859943977591037, 0.10807741278329512, 0.20710466004583652, 0.0, 0.16196587725999487, 0.1564145658263305, 0.39580850522027, 0.057397504456327963]}, {\"categories\": [\"0\", \"1\", \"2\", \"3\", \"4\", \"5\", \"6\", \"7\", \"8\", \"9\", \"10\", \"11\", \"12\", \"13\", \"14\", \"15\", \"16\", \"17\", \"18\", \"19\", \"20\", \"21\", \"22\", \"23\", \"24\", \"25\", \"26\", \"27\", \"28\", \"29\"], \"mode\": \"lines\", \"name\": \"norm_macro_recall_max\", \"stepped\": true, \"type\": \"scatter\", \"data\": [0.1735574229691877, 0.25062388591800355, 0.25062388591800355, 0.25062388591800355, 0.25062388591800355, 0.3013903743315508, 0.3013903743315508, 0.3013903743315508, 0.3013903743315508, 0.3013903743315508, 0.3013903743315508, 0.33029793735676083, 0.33029793735676083, 0.33029793735676083, 0.33029793735676083, 0.33029793735676083, 0.33029793735676083, 0.33029793735676083, 0.33029793735676083, 0.33029793735676083, 0.33029793735676083, 0.3402648332060097, 0.3402648332060097, 0.3402648332060097, 0.3402648332060097, 0.3402648332060097, 0.3402648332060097, 0.3402648332060097, 0.39580850522027, 0.39580850522027]}], \"precision_score_macro\": [{\"categories\": [\"0\", \"1\", \"2\", \"3\", \"4\", \"5\", \"6\", \"7\", \"8\", \"9\", \"10\", \"11\", \"12\", \"13\", \"14\", \"15\", \"16\", \"17\", \"18\", \"19\", \"20\", \"21\", \"22\", \"23\", \"24\", \"25\", \"26\", \"27\", \"28\", \"29\"], \"mode\": \"markers\", \"name\": \"precision_score_macro\", \"stepped\": false, \"type\": \"scatter\", \"data\": [0.5728072254542843, 0.6629411764705881, 0.6026227333038479, 0.5922370766488413, 0.4809398496240601, 0.6191239316239316, 0.6222953216374268, 0.5271052631578946, 0.48816993464052294, 0.559411976911977, 0.38357978279030913, 0.6415950715950716, 0.5793040293040294, 0.49463585434173674, 0.5612254901960785, 0.5065277777777778, 0.5408371040723983, 0.6602920608802961, 0.6257012432012432, 0.5726262626262627, 0.49467194570135753, 0.6843382352941176, 0.6036111892923038, 0.5155593168441466, 0.5965945165945167, 0.2673809523809524, 0.6482249742002063, 0.632691986376197, 0.7574346405228758, 0.46333333333333326]}, {\"categories\": [\"0\", \"1\", \"2\", \"3\", \"4\", \"5\", \"6\", \"7\", \"8\", \"9\", \"10\", \"11\", \"12\", \"13\", \"14\", \"15\", \"16\", \"17\", \"18\", \"19\", \"20\", \"21\", \"22\", \"23\", \"24\", \"25\", \"26\", \"27\", \"28\", \"29\"], \"mode\": \"lines\", \"name\": \"precision_score_macro_max\", \"stepped\": true, \"type\": \"scatter\", \"data\": [0.5728072254542843, 0.6629411764705881, 0.6629411764705881, 0.6629411764705881, 0.6629411764705881, 0.6629411764705881, 0.6629411764705881, 0.6629411764705881, 0.6629411764705881, 0.6629411764705881, 0.6629411764705881, 0.6629411764705881, 0.6629411764705881, 0.6629411764705881, 0.6629411764705881, 0.6629411764705881, 0.6629411764705881, 0.6629411764705881, 0.6629411764705881, 0.6629411764705881, 0.6629411764705881, 0.6843382352941176, 0.6843382352941176, 0.6843382352941176, 0.6843382352941176, 0.6843382352941176, 0.6843382352941176, 0.6843382352941176, 0.7574346405228758, 0.7574346405228758]}]}, \"metricName\": null, \"primaryMetricName\": \"accuracy\", \"showLegend\": false}, \"run_metrics\": [{\"name\": \"experiment_status\", \"run_id\": \"AutoML_5579856f-bffa-4c36-84d6-e8241a6bd632\", \"categories\": [0, 1, 2, 3, 4, 5, 6, 7, 8, 9, 10, 11, 12, 13], \"series\": [{\"data\": [\"DatasetEvaluation\", \"FeaturesGeneration\", \"DatasetFeaturization\", \"DatasetFeaturizationCompleted\", \"DatasetCrossValidationSplit\", \"ModelSelection\", \"BestRunExplainModel\", \"ModelExplanationDataSetSetup\", \"PickSurrogateModel\", \"EngineeredFeatureExplanations\", \"EngineeredFeatureExplanations\", \"RawFeaturesExplanations\", \"RawFeaturesExplanations\", \"BestRunExplainModel\"]}]}, {\"name\": \"experiment_status_description\", \"run_id\": \"AutoML_5579856f-bffa-4c36-84d6-e8241a6bd632\", \"categories\": [0, 1, 2, 3, 4, 5, 6, 7, 8, 9, 10, 11, 12, 13], \"series\": [{\"data\": [\"Gathering dataset statistics.\", \"Generating features for the dataset.\", \"Beginning to fit featurizers and featurize the dataset.\", \"Completed fit featurizers and featurizing the dataset.\", \"Generating individually featurized CV splits.\", \"Beginning model selection.\", \"Best run model explanations started\", \"Model explanations data setup completed\", \"Choosing LightGBM as the surrogate model for explanations\", \"Computation of engineered features started\", \"Computation of engineered features completed\", \"Computation of raw features started\", \"Computation of raw features completed\", \"Best run model explanations completed\"]}]}, {\"name\": \"recall_score_macro\", \"run_id\": \"AutoML_5579856f-bffa-4c36-84d6-e8241a6bd632\", \"categories\": [0], \"series\": [{\"data\": [0.697904252610135]}]}, {\"name\": \"recall_score_micro\", \"run_id\": \"AutoML_5579856f-bffa-4c36-84d6-e8241a6bd632\", \"categories\": [0], \"series\": [{\"data\": [0.7404761904761904]}]}, {\"name\": \"average_precision_score_weighted\", \"run_id\": \"AutoML_5579856f-bffa-4c36-84d6-e8241a6bd632\", \"categories\": [0], \"series\": [{\"data\": [0.7971221756767974]}]}, {\"name\": \"precision_score_macro\", \"run_id\": \"AutoML_5579856f-bffa-4c36-84d6-e8241a6bd632\", \"categories\": [0], \"series\": [{\"data\": [0.7574346405228758]}]}, {\"name\": \"AUC_weighted\", \"run_id\": \"AutoML_5579856f-bffa-4c36-84d6-e8241a6bd632\", \"categories\": [0], \"series\": [{\"data\": [0.7504599415523785]}]}, {\"name\": \"f1_score_macro\", \"run_id\": \"AutoML_5579856f-bffa-4c36-84d6-e8241a6bd632\", \"categories\": [0], \"series\": [{\"data\": [0.6627544119354465]}]}, {\"name\": \"norm_macro_recall\", \"run_id\": \"AutoML_5579856f-bffa-4c36-84d6-e8241a6bd632\", \"categories\": [0], \"series\": [{\"data\": [0.39580850522027]}]}, {\"name\": \"accuracy\", \"run_id\": \"AutoML_5579856f-bffa-4c36-84d6-e8241a6bd632\", \"categories\": [0], \"series\": [{\"data\": [0.7404761904761904]}]}, {\"name\": \"AUC_macro\", \"run_id\": \"AutoML_5579856f-bffa-4c36-84d6-e8241a6bd632\", \"categories\": [0], \"series\": [{\"data\": [0.7504599415523785]}]}, {\"name\": \"average_precision_score_macro\", \"run_id\": \"AutoML_5579856f-bffa-4c36-84d6-e8241a6bd632\", \"categories\": [0], \"series\": [{\"data\": [0.7230398636715987]}]}, {\"name\": \"log_loss\", \"run_id\": \"AutoML_5579856f-bffa-4c36-84d6-e8241a6bd632\", \"categories\": [0], \"series\": [{\"data\": [0.5879614798262828]}]}, {\"name\": \"average_precision_score_micro\", \"run_id\": \"AutoML_5579856f-bffa-4c36-84d6-e8241a6bd632\", \"categories\": [0], \"series\": [{\"data\": [0.7594101098736902]}]}, {\"name\": \"f1_score_weighted\", \"run_id\": \"AutoML_5579856f-bffa-4c36-84d6-e8241a6bd632\", \"categories\": [0], \"series\": [{\"data\": [0.7217486578980832]}]}, {\"name\": \"f1_score_micro\", \"run_id\": \"AutoML_5579856f-bffa-4c36-84d6-e8241a6bd632\", \"categories\": [0], \"series\": [{\"data\": [0.7404761904761904]}]}, {\"name\": \"precision_score_micro\", \"run_id\": \"AutoML_5579856f-bffa-4c36-84d6-e8241a6bd632\", \"categories\": [0], \"series\": [{\"data\": [0.7404761904761904]}]}, {\"name\": \"precision_score_weighted\", \"run_id\": \"AutoML_5579856f-bffa-4c36-84d6-e8241a6bd632\", \"categories\": [0], \"series\": [{\"data\": [0.8023517740429504]}]}, {\"name\": \"AUC_micro\", \"run_id\": \"AutoML_5579856f-bffa-4c36-84d6-e8241a6bd632\", \"categories\": [0], \"series\": [{\"data\": [0.7503027210884353]}]}, {\"name\": \"recall_score_weighted\", \"run_id\": \"AutoML_5579856f-bffa-4c36-84d6-e8241a6bd632\", \"categories\": [0], \"series\": [{\"data\": [0.7404761904761904]}]}, {\"name\": \"balanced_accuracy\", \"run_id\": \"AutoML_5579856f-bffa-4c36-84d6-e8241a6bd632\", \"categories\": [0], \"series\": [{\"data\": [0.697904252610135]}]}, {\"name\": \"weighted_accuracy\", \"run_id\": \"AutoML_5579856f-bffa-4c36-84d6-e8241a6bd632\", \"categories\": [0], \"series\": [{\"data\": [0.7805275618872688]}]}, {\"name\": \"matthews_correlation\", \"run_id\": \"AutoML_5579856f-bffa-4c36-84d6-e8241a6bd632\", \"categories\": [0], \"series\": [{\"data\": [0.4374567271208788]}]}], \"run_logs\": \"\\nRun is completed.\", \"graph\": {}, \"widget_settings\": {\"childWidgetDisplay\": \"popup\", \"send_telemetry\": false, \"log_level\": \"INFO\", \"sdk_version\": \"1.18.0\"}, \"loading\": false}"
     },
     "metadata": {},
     "output_type": "display_data"
    }
   ],
   "source": [
    "RunDetails(auto_run).show()\n"
   ]
  },
  {
   "cell_type": "code",
   "execution_count": 12,
   "metadata": {
    "gather": {
     "logged": 1606379898706
    },
    "pycharm": {
     "name": "#%%\n"
    }
   },
   "outputs": [],
   "source": [
    "# Retrieve and save your best automl model.\n",
    "best_run,fitted_model = auto_run.get_output(iteration=28)"
   ]
  },
  {
   "cell_type": "code",
   "execution_count": 13,
   "metadata": {
    "gather": {
     "logged": 1606379911449
    },
    "pycharm": {
     "name": "#%%\n"
    },
    "scrolled": true
   },
   "outputs": [
    {
     "name": "stdout",
     "output_type": "stream",
     "text": [
      "datatransformer\n",
      "{'enable_dnn': None,\n",
      " 'enable_feature_sweeping': None,\n",
      " 'feature_sweeping_config': None,\n",
      " 'feature_sweeping_timeout': None,\n",
      " 'featurization_config': None,\n",
      " 'force_text_dnn': None,\n",
      " 'is_cross_validation': None,\n",
      " 'is_onnx_compatible': None,\n",
      " 'logger': None,\n",
      " 'observer': None,\n",
      " 'task': None,\n",
      " 'working_dir': None}\n",
      "\n",
      "prefittedsoftvotingclassifier\n",
      "{'estimators': ['13', '1', '21', '17', '11', '26', '14'],\n",
      " 'weights': [0.14285714285714285,\n",
      "             0.14285714285714285,\n",
      "             0.14285714285714285,\n",
      "             0.14285714285714285,\n",
      "             0.14285714285714285,\n",
      "             0.14285714285714285,\n",
      "             0.14285714285714285]}\n",
      "\n",
      "13 - minmaxscaler\n",
      "{'copy': True, 'feature_range': (0, 1)}\n",
      "\n",
      "13 - sgdclassifierwrapper\n",
      "{'alpha': 4.693930612244897,\n",
      " 'class_weight': 'balanced',\n",
      " 'eta0': 0.001,\n",
      " 'fit_intercept': False,\n",
      " 'l1_ratio': 0.3877551020408163,\n",
      " 'learning_rate': 'constant',\n",
      " 'loss': 'squared_hinge',\n",
      " 'max_iter': 1000,\n",
      " 'n_jobs': 1,\n",
      " 'penalty': 'none',\n",
      " 'power_t': 0.3333333333333333,\n",
      " 'random_state': None,\n",
      " 'tol': 0.001}\n",
      "\n",
      "1 - maxabsscaler\n",
      "{'copy': True}\n",
      "\n",
      "1 - xgboostclassifier\n",
      "{'base_score': 0.5,\n",
      " 'booster': 'gbtree',\n",
      " 'colsample_bylevel': 1,\n",
      " 'colsample_bynode': 1,\n",
      " 'colsample_bytree': 1,\n",
      " 'gamma': 0,\n",
      " 'learning_rate': 0.1,\n",
      " 'max_delta_step': 0,\n",
      " 'max_depth': 3,\n",
      " 'min_child_weight': 1,\n",
      " 'missing': nan,\n",
      " 'n_estimators': 100,\n",
      " 'n_jobs': 1,\n",
      " 'nthread': None,\n",
      " 'objective': 'binary:logistic',\n",
      " 'random_state': 0,\n",
      " 'reg_alpha': 0,\n",
      " 'reg_lambda': 1,\n",
      " 'scale_pos_weight': 1,\n",
      " 'seed': None,\n",
      " 'silent': None,\n",
      " 'subsample': 1,\n",
      " 'tree_method': 'auto',\n",
      " 'verbose': -10,\n",
      " 'verbosity': 0}\n",
      "\n",
      "21 - minmaxscaler\n",
      "{'copy': True, 'feature_range': (0, 1)}\n",
      "\n",
      "21 - extratreesclassifier\n",
      "{'bootstrap': True,\n",
      " 'ccp_alpha': 0.0,\n",
      " 'class_weight': 'balanced',\n",
      " 'criterion': 'entropy',\n",
      " 'max_depth': None,\n",
      " 'max_features': 0.4,\n",
      " 'max_leaf_nodes': None,\n",
      " 'max_samples': None,\n",
      " 'min_impurity_decrease': 0.0,\n",
      " 'min_impurity_split': None,\n",
      " 'min_samples_leaf': 0.035789473684210524,\n",
      " 'min_samples_split': 0.01,\n",
      " 'min_weight_fraction_leaf': 0.0,\n",
      " 'n_estimators': 25,\n",
      " 'n_jobs': 1,\n",
      " 'oob_score': True,\n",
      " 'random_state': None,\n",
      " 'verbose': 0,\n",
      " 'warm_start': False}\n",
      "\n",
      "17 - standardscalerwrapper\n",
      "{'class_name': 'StandardScaler',\n",
      " 'copy': True,\n",
      " 'module_name': 'sklearn.preprocessing._data',\n",
      " 'with_mean': True,\n",
      " 'with_std': True}\n",
      "\n",
      "17 - randomforestclassifier\n",
      "{'bootstrap': False,\n",
      " 'ccp_alpha': 0.0,\n",
      " 'class_weight': 'balanced',\n",
      " 'criterion': 'entropy',\n",
      " 'max_depth': None,\n",
      " 'max_features': 'sqrt',\n",
      " 'max_leaf_nodes': None,\n",
      " 'max_samples': None,\n",
      " 'min_impurity_decrease': 0.0,\n",
      " 'min_impurity_split': None,\n",
      " 'min_samples_leaf': 0.035789473684210524,\n",
      " 'min_samples_split': 0.15052631578947367,\n",
      " 'min_weight_fraction_leaf': 0.0,\n",
      " 'n_estimators': 10,\n",
      " 'n_jobs': 1,\n",
      " 'oob_score': False,\n",
      " 'random_state': None,\n",
      " 'verbose': 0,\n",
      " 'warm_start': False}\n",
      "\n",
      "11 - minmaxscaler\n",
      "{'copy': True, 'feature_range': (0, 1)}\n",
      "\n",
      "11 - sgdclassifierwrapper\n",
      "{'alpha': 9.59184081632653,\n",
      " 'class_weight': 'balanced',\n",
      " 'eta0': 0.01,\n",
      " 'fit_intercept': True,\n",
      " 'l1_ratio': 0.3877551020408163,\n",
      " 'learning_rate': 'invscaling',\n",
      " 'loss': 'log',\n",
      " 'max_iter': 1000,\n",
      " 'n_jobs': 1,\n",
      " 'penalty': 'none',\n",
      " 'power_t': 0,\n",
      " 'random_state': None,\n",
      " 'tol': 0.01}\n",
      "\n",
      "26 - minmaxscaler\n",
      "{'copy': True, 'feature_range': (0, 1)}\n",
      "\n",
      "26 - randomforestclassifier\n",
      "{'bootstrap': True,\n",
      " 'ccp_alpha': 0.0,\n",
      " 'class_weight': None,\n",
      " 'criterion': 'entropy',\n",
      " 'max_depth': None,\n",
      " 'max_features': 0.3,\n",
      " 'max_leaf_nodes': None,\n",
      " 'max_samples': None,\n",
      " 'min_impurity_decrease': 0.0,\n",
      " 'min_impurity_split': None,\n",
      " 'min_samples_leaf': 0.01,\n",
      " 'min_samples_split': 0.056842105263157895,\n",
      " 'min_weight_fraction_leaf': 0.0,\n",
      " 'n_estimators': 50,\n",
      " 'n_jobs': 1,\n",
      " 'oob_score': True,\n",
      " 'random_state': None,\n",
      " 'verbose': 0,\n",
      " 'warm_start': False}\n",
      "\n",
      "14 - minmaxscaler\n",
      "{'copy': True, 'feature_range': (0, 1)}\n",
      "\n",
      "14 - extratreesclassifier\n",
      "{'bootstrap': True,\n",
      " 'ccp_alpha': 0.0,\n",
      " 'class_weight': None,\n",
      " 'criterion': 'gini',\n",
      " 'max_depth': None,\n",
      " 'max_features': 0.9,\n",
      " 'max_leaf_nodes': None,\n",
      " 'max_samples': None,\n",
      " 'min_impurity_decrease': 0.0,\n",
      " 'min_impurity_split': None,\n",
      " 'min_samples_leaf': 0.01,\n",
      " 'min_samples_split': 0.15052631578947367,\n",
      " 'min_weight_fraction_leaf': 0.0,\n",
      " 'n_estimators': 10,\n",
      " 'n_jobs': 1,\n",
      " 'oob_score': True,\n",
      " 'random_state': None,\n",
      " 'verbose': 0,\n",
      " 'warm_start': False}\n",
      "\n"
     ]
    }
   ],
   "source": [
    "#Example code from https://docs.microsoft.com/en-us/azure/machine-learning/how-to-configure-auto-features#scaling-and-normalization\n",
    "\n",
    "from pprint import pprint\n",
    "model = fitted_model\n",
    "\n",
    "def print_model(model, prefix=\"\"):\n",
    "    for step in model.steps:\n",
    "        print(prefix + step[0])\n",
    "        if hasattr(step[1], 'estimators') and hasattr(step[1], 'weights'):\n",
    "            pprint({'estimators': list(\n",
    "                e[0] for e in step[1].estimators), 'weights': step[1].weights})\n",
    "            print()\n",
    "            for estimator in step[1].estimators:\n",
    "                print_model(estimator[1], estimator[0] + ' - ')\n",
    "        else:\n",
    "            pprint(step[1].get_params())\n",
    "            print()\n",
    "\n",
    "print_model(model)"
   ]
  },
  {
   "cell_type": "markdown",
   "metadata": {},
   "source": [
    "## Best Model\n",
    "\n",
    "TODO: In the cell below, get the best model from the automl experiments and display all the properties of the model."
   ]
  },
  {
   "cell_type": "code",
   "execution_count": 14,
   "metadata": {
    "gather": {
     "logged": 1606390674847
    },
    "pycharm": {
     "name": "#%%\n"
    }
   },
   "outputs": [
    {
     "name": "stdout",
     "output_type": "stream",
     "text": [
      "AutoML5579856fb28\n"
     ]
    }
   ],
   "source": [
    "# TODO: save best AutoML model\n",
    "model_name = best_run.properties['model_name']\n",
    "print(model_name)\n",
    "automl_model= auto_run.register_model(model_name=model_name)\n"
   ]
  },
  {
   "cell_type": "markdown",
   "metadata": {},
   "source": [
    "## Model Deployment\n",
    "\n",
    "Remember you have to deploy only one of the two models you trained.. Perform the steps in the rest of this notebook only if you wish to deploy this model.\n",
    "\n",
    "TODO: In the cell below, register the model, create an inference config and deploy the model as a web service."
   ]
  },
  {
   "cell_type": "code",
   "execution_count": 15,
   "metadata": {
    "gather": {
     "logged": 1598431435189
    },
    "jupyter": {
     "outputs_hidden": false,
     "source_hidden": false
    },
    "nteract": {
     "transient": {
      "deleting": false
     }
    }
   },
   "outputs": [
    {
     "name": "stdout",
     "output_type": "stream",
     "text": [
      "Tips: You can try get_logs(): https://aka.ms/debugimage#dockerlog or local deployment: https://aka.ms/debugimage#debug-locally to debug if deployment takes longer than 10 minutes.\n",
      "Running..............................................\n",
      "Succeeded\n",
      "ACI service creation operation finished, operation \"Succeeded\"\n"
     ]
    }
   ],
   "source": [
    "# Code from https://docs.microsoft.com/en-us/python/api/overview/azure/ml/?view=azure-ml-py#model-deploy\n",
    "\n",
    "#myenv.python.conda_dependencies.add_pip_package(\"joblib\")\n",
    "\n",
    "inference_config = InferenceConfig(entry_script=\"score.py\")\n",
    "\n",
    "# Set deployment configuration\n",
    "deployment_config = AciWebservice.deploy_configuration(cpu_cores = 1,\n",
    "                                                       memory_gb = 1)\n",
    "\n",
    "# Define the model, inference, & deployment configuration and web service name and location to deploy\n",
    "service = Model.deploy(workspace = ws,\n",
    "                       name = \"webservice\",\n",
    "                       models = [automl_model],\n",
    "                       inference_config = inference_config,\n",
    "                       deployment_config = deployment_config)\n",
    "\n",
    "service.wait_for_deployment(show_output=True)"
   ]
  },
  {
   "cell_type": "code",
   "execution_count": 16,
   "metadata": {
    "gather": {
     "logged": 1606387856204
    },
    "jupyter": {
     "outputs_hidden": false,
     "source_hidden": false
    },
    "nteract": {
     "transient": {
      "deleting": false
     }
    },
    "scrolled": true
   },
   "outputs": [
    {
     "name": "stdout",
     "output_type": "stream",
     "text": [
      "2020-12-01T08:46:27.5264855Z stdout F 2020-12-01T08:46:27,524592500+00:00 - gunicorn/run \n",
      "2020-12-01T08:46:27.5406161Z stdout F 2020-12-01T08:46:27,532402500+00:00 - rsyslog/run \n",
      "2020-12-01T08:46:27.5604647Z stdout F 2020-12-01T08:46:27,559870900+00:00 - iot-server/run \n",
      "2020-12-01T08:46:27.6734705Z stderr F /usr/sbin/nginx: /azureml-envs/azureml_0e3a8a6dba181476a2523c12c58dfc97/lib/libcrypto.so.1.0.0: no version information available (required by /usr/sbin/nginx)\n",
      "2020-12-01T08:46:27.6734705Z stderr F /usr/sbin/nginx: /azureml-envs/azureml_0e3a8a6dba181476a2523c12c58dfc97/lib/libcrypto.so.1.0.0: no version information available (required by /usr/sbin/nginx)\n",
      "2020-12-01T08:46:27.6734705Z stderr F /usr/sbin/nginx: /azureml-envs/azureml_0e3a8a6dba181476a2523c12c58dfc97/lib/libssl.so.1.0.0: no version information available (required by /usr/sbin/nginx)\n",
      "2020-12-01T08:46:27.6764675Z stderr F /usr/sbin/nginx: /azureml-envs/azureml_0e3a8a6dba181476a2523c12c58dfc97/lib/libssl.so.1.0.0: no version information available (required by /usr/sbin/nginx)\n",
      "2020-12-01T08:46:27.6764675Z stderr F /usr/sbin/nginx: /azureml-envs/azureml_0e3a8a6dba181476a2523c12c58dfc97/lib/libssl.so.1.0.0: no version information available (required by /usr/sbin/nginx)\n",
      "2020-12-01T08:46:27.6764675Z stderr F rsyslogd: /azureml-envs/azureml_0e3a8a6dba181476a2523c12c58dfc97/lib/libuuid.so.1: no version information available (required by rsyslogd)\n",
      "2020-12-01T08:46:27.6774692Z stdout F 2020-12-01T08:46:27,651902100+00:00 - nginx/run \n",
      "2020-12-01T08:46:29.8013856Z stdout F EdgeHubConnectionString and IOTEDGE_IOTHUBHOSTNAME are not set. Exiting...\n",
      "2020-12-01T08:46:29.8126021Z stdout F 2020-12-01T08:46:29,811331700+00:00 - iot-server/finish 1 0\n",
      "2020-12-01T08:46:29.8166189Z stdout F 2020-12-01T08:46:29,815684600+00:00 - Exit code 1 is normal. Not restarting iot-server.\n",
      "2020-12-01T08:46:29.9001045Z stdout F Starting gunicorn 19.9.0\n",
      "2020-12-01T08:46:29.9001045Z stdout F Listening at: http://127.0.0.1:31311 (64)\n",
      "2020-12-01T08:46:29.9001045Z stdout F Using worker: sync\n",
      "2020-12-01T08:46:29.9011229Z stdout F worker timeout is set to 300\n",
      "2020-12-01T08:46:29.9051027Z stdout F Booting worker with pid: 93\n",
      "2020-12-01T08:46:33.8292696Z stdout F SPARK_HOME not set. Skipping PySpark Initialization.\n",
      "2020-12-01T08:46:33.8292696Z stdout F Generating new fontManager, this may take some time...\n",
      "2020-12-01T08:46:35.603673Z stdout F Initializing logger\n",
      "2020-12-01T08:46:35.603673Z stdout F 2020-12-01 08:46:35,602 | root | INFO | Starting up app insights client\n",
      "2020-12-01T08:46:35.603673Z stdout F Starting up app insights client\n",
      "2020-12-01T08:46:35.603673Z stdout F 2020-12-01 08:46:35,603 | root | INFO | Starting up request id generator\n",
      "2020-12-01T08:46:35.603673Z stdout F Starting up request id generator\n",
      "2020-12-01T08:46:35.603673Z stdout F 2020-12-01 08:46:35,603 | root | INFO | Starting up app insight hooks\n",
      "2020-12-01T08:46:35.603673Z stdout F Starting up app insight hooks\n",
      "2020-12-01T08:46:35.6046875Z stdout F 2020-12-01 08:46:35,604 | root | INFO | Invoking user's init function\n",
      "2020-12-01T08:46:35.6046875Z stdout F Invoking user's init function\n",
      "2020-12-01T08:46:44.9831582Z stdout F 2020-12-01 08:46:44,981 | root | INFO | Users's init has completed successfully\n",
      "2020-12-01T08:46:44.9831582Z stdout F Users's init has completed successfully\n",
      "2020-12-01T08:46:44.9913672Z stdout F 2020-12-01 08:46:44,990 | root | INFO | Skipping middleware: dbg_model_info as it's not enabled.\n",
      "2020-12-01T08:46:44.9913672Z stdout F Skipping middleware: dbg_model_info as it's not enabled.\n",
      "2020-12-01T08:46:44.9913672Z stdout F 2020-12-01 08:46:44,990 | root | INFO | Skipping middleware: dbg_resource_usage as it's not enabled.\n",
      "2020-12-01T08:46:44.9913672Z stdout F Skipping middleware: dbg_resource_usage as it's not enabled.\n",
      "2020-12-01T08:46:44.994387Z stdout F 2020-12-01 08:46:44,993 | root | INFO | Scoring timeout is found from os.environ: 60000 ms\n",
      "2020-12-01T08:46:44.994387Z stdout F Scoring timeout is found from os.environ: 60000 ms\n",
      "2020-12-01T08:46:46.4907705Z stdout F 2020-12-01 08:46:46,489 | root | INFO | Swagger file not present\n",
      "2020-12-01T08:46:46.4907705Z stdout F Swagger file not present\n",
      "2020-12-01T08:46:46.4907705Z stdout F 2020-12-01 08:46:46,490 | root | INFO | 404\n",
      "2020-12-01T08:46:46.4907705Z stdout F 404\n",
      "2020-12-01T08:46:46.4907705Z stdout F 127.0.0.1 - - [01/Dec/2020:08:46:46 +0000] \"GET /swagger.json HTTP/1.0\" 404 19 \"-\" \"Go-http-client/1.1\"\n",
      "2020-12-01T08:46:50.8317309Z stdout F 2020-12-01 08:46:50,831 | root | INFO | Swagger file not present\n",
      "2020-12-01T08:46:50.8317309Z stdout F Swagger file not present\n",
      "2020-12-01T08:46:50.8327805Z stdout F 2020-12-01 08:46:50,831 | root | INFO | 404\n",
      "2020-12-01T08:46:50.8327805Z stdout F 404\n",
      "2020-12-01T08:46:50.8337528Z stdout F 127.0.0.1 - - [01/Dec/2020:08:46:50 +0000] \"GET /swagger.json HTTP/1.0\" 404 19 \"-\" \"Go-http-client/1.1\"\n",
      "\n"
     ]
    }
   ],
   "source": [
    "print(service.get_logs())"
   ]
  },
  {
   "cell_type": "markdown",
   "metadata": {
    "collapsed": true,
    "gather": {
     "logged": 1598431657736
    },
    "jupyter": {
     "outputs_hidden": false,
     "source_hidden": false
    },
    "nteract": {
     "transient": {
      "deleting": false
     }
    }
   },
   "source": [
    "TODO: In the cell below, send a request to the web service you deployed to test it."
   ]
  },
  {
   "cell_type": "code",
   "execution_count": 44,
   "metadata": {},
   "outputs": [
    {
     "name": "stdout",
     "output_type": "stream",
     "text": [
      "Tips: You can try get_logs(): https://aka.ms/debugimage#dockerlog or local deployment: https://aka.ms/debugimage#debug-locally to debug if deployment takes longer than 10 minutes.\n",
      "Running.................................\n",
      "Succeeded\n",
      "ACI service creation operation finished, operation \"Succeeded\"\n"
     ]
    }
   ],
   "source": [
    "service.update(inference_config=inference_config)\n",
    "service.wait_for_deployment(show_output=True)"
   ]
  },
  {
   "cell_type": "code",
   "execution_count": 17,
   "metadata": {},
   "outputs": [
    {
     "name": "stdout",
     "output_type": "stream",
     "text": [
      "[{\"donor_age_below_35\":1,\"donor_CMV\":0,\"recipient_age_below_10\":1,\"recipient_gender\":1,\"recipient_rh\":1,\"recipient_CMV\":0,\"gender_match\":1,\"ABO_match\":0,\"HLA_mismatch\":1,\"risk_group\":1,\"stem_cell_source\":1,\"tx_post_relapse\":1,\"ANC_recovery\":1,\"PLT_recovery\":1,\"acute_GvHD_II_III_IV\":0,\"acute_GvHD_III_IV\":0,\"relapse\":0,\"donor_age\":0.2860763358,\"recipient_age\":0.170212766,\"recipient_body_mass\":0.0764082543,\"CD34_x1e6_per_kg\":0.1030005264,\"CD3_x1e8_per_kg\":0.0592638802,\"CD3_to_CD34_ratio\":0.0642309858,\"time_to_ANC_recovery\":0.4615384615,\"time_to_PLT_recovery\":0.3198380567,\"time_to_acute_GvHD_III_IV\":0.0,\"donor_ABO_0\":0,\"donor_ABO_A\":1,\"donor_ABO_AB\":0,\"donor_ABO_B\":0,\"recipient_age_int_0_5\":1,\"recipient_age_int_10_20\":0,\"recipient_age_int_5_10\":0,\"recipient_ABO_0\":1,\"recipient_ABO_A\":0,\"recipient_ABO_AB\":0,\"recipient_ABO_B\":0,\"disease_ALL\":0,\"disease_AML\":0,\"disease_chronic\":0,\"disease_lymphoma\":0,\"disease_nonmalignant\":1,\"disease_group_malignant\":0,\"disease_group_nonmalignant\":1,\"CMV_status_0\":1,\"CMV_status_1\":0,\"CMV_status_2\":0,\"CMV_status_3\":0,\"HLA_match_10\\/10\":1,\"HLA_match_7\\/10\":0,\"HLA_match_8\\/10\":0,\"HLA_match_9\\/10\":0,\"antigen_0\":1,\"antigen_1\":0,\"antigen_2\":0,\"antigen_3\":0,\"allel_0\":1,\"allel_1\":0,\"allel_2\":0,\"allel_3\":0,\"allel_4\":0,\"HLA_group_1_DRB1_cell\":0,\"HLA_group_1_matched\":1,\"HLA_group_1_mismatched\":0,\"HLA_group_1_one_allel\":0,\"HLA_group_1_one_antigen\":0,\"HLA_group_1_three_diffs\":0,\"HLA_group_1_two_diffs\":0}]\n"
     ]
    }
   ],
   "source": [
    "x_test_json = x_test[:1].to_json(orient='records')\n",
    "print(x_test_json)"
   ]
  },
  {
   "cell_type": "code",
   "execution_count": 18,
   "metadata": {
    "gather": {
     "logged": 1598432707604
    },
    "jupyter": {
     "outputs_hidden": false,
     "source_hidden": false
    },
    "nteract": {
     "transient": {
      "deleting": false
     }
    }
   },
   "outputs": [
    {
     "name": "stdout",
     "output_type": "stream",
     "text": [
      "0\n",
      "[0]\n"
     ]
    }
   ],
   "source": [
    "df_test = training_data.to_pandas_dataframe()\n",
    "y_test=df_test['survival_status']\n",
    "x_test=df_test.drop(['survival_status'],axis=1)\n",
    "print(y_test[1])\n",
    "\n",
    "if service.state == 'Healthy':\n",
    "    x_test_json = x_test[:1].to_json(orient='records')\n",
    "\n",
    "    output = service.run(x_test_json)\n",
    "\n",
    "    print(output)"
   ]
  },
  {
   "cell_type": "markdown",
   "metadata": {
    "collapsed": true,
    "gather": {
     "logged": 1598432765711
    },
    "jupyter": {
     "outputs_hidden": false,
     "source_hidden": false
    },
    "nteract": {
     "transient": {
      "deleting": false
     }
    }
   },
   "source": [
    "TODO: In the cell below, print the logs of the web service and delete the service"
   ]
  },
  {
   "cell_type": "code",
   "execution_count": 50,
   "metadata": {
    "gather": {
     "logged": 1606385979439
    },
    "jupyter": {
     "outputs_hidden": false,
     "source_hidden": false
    },
    "nteract": {
     "transient": {
      "deleting": false
     }
    }
   },
   "outputs": [],
   "source": [
    "# delete service\n",
    "service.delete()"
   ]
  },
  {
   "cell_type": "code",
   "execution_count": null,
   "metadata": {
    "pycharm": {
     "name": "#%%\n"
    }
   },
   "outputs": [],
   "source": [
    "# delete compute cluster\n",
    "cpu_cluster.delete()\n"
   ]
  }
 ],
 "metadata": {
  "kernel_info": {
   "name": "python3"
  },
  "kernelspec": {
   "display_name": "Python 3",
   "language": "python",
   "name": "python3"
  },
  "language_info": {
   "codemirror_mode": {
    "name": "ipython",
    "version": 3
   },
   "file_extension": ".py",
   "mimetype": "text/x-python",
   "name": "python",
   "nbconvert_exporter": "python",
   "pygments_lexer": "ipython3",
   "version": "3.6.9"
  },
  "nteract": {
   "version": "nteract-front-end@1.0.0"
  }
 },
 "nbformat": 4,
 "nbformat_minor": 2
}