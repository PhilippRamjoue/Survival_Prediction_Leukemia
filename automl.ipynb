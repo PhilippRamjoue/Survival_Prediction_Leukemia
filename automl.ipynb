{
 "cells": [
  {
   "cell_type": "markdown",
   "metadata": {},
   "source": [
    "# Automated ML\n",
    "\n",
    "TODO: Import Dependencies. In the cell below, import all the dependencies that you will need to complete the project."
   ]
  },
  {
   "cell_type": "code",
   "execution_count": 1,
   "metadata": {
    "gather": {
     "logged": 1606386833953
    },
    "jupyter": {
     "outputs_hidden": false,
     "source_hidden": false
    },
    "nteract": {
     "transient": {
      "deleting": false
     }
    }
   },
   "outputs": [],
   "source": [
    "from azureml.core import Workspace, Experiment\n",
    "from azureml.core.compute import ComputeTarget, AmlCompute\n",
    "from azureml.core.compute_target import ComputeTargetException\n",
    "from azureml.widgets import RunDetails\n",
    "from azureml.core import Environment,ScriptRunConfig\n",
    "from azureml.train.estimator import Estimator\n",
    "from azureml.train.sklearn import SKLearn\n",
    "from azureml.train.hyperdrive.run import PrimaryMetricGoal\n",
    "from azureml.train.hyperdrive.policy import BanditPolicy\n",
    "from azureml.train.hyperdrive.sampling import RandomParameterSampling\n",
    "from azureml.train.hyperdrive.runconfig import HyperDriveConfig\n",
    "from azureml.train.hyperdrive.parameter_expressions import uniform, normal, choice\n",
    "from azureml.data.dataset_factory import TabularDatasetFactory\n",
    "from azureml.core import Dataset\n",
    "from azureml.core.model import InferenceConfig, Model\n",
    "from azureml.core.webservice import AciWebservice, Webservice\n",
    "from train import clean_data\n",
    "from sklearn.model_selection import train_test_split\n",
    "import pandas as pd\n",
    "from azureml.train.automl import AutoMLConfig\n",
    "\n",
    "import os\n",
    "\n",
    "import json\n",
    "import joblib\n"
   ]
  },
  {
   "cell_type": "markdown",
   "metadata": {},
   "source": [
    "## Dataset\n",
    "\n",
    "### Overview\n",
    "TODO: In this markdown cell, give an overview of the dataset you are using. Also mention the task you will be performing.\n",
    "\n",
    "\n",
    "TODO: Get data. In the cell below, write code to access the data you will be using in this project. Remember that the dataset needs to be external."
   ]
  },
  {
   "cell_type": "code",
   "execution_count": 2,
   "metadata": {
    "gather": {
     "logged": 1606390632790
    },
    "jupyter": {
     "outputs_hidden": false,
     "source_hidden": false
    },
    "nteract": {
     "transient": {
      "deleting": false
     }
    }
   },
   "outputs": [],
   "source": [
    "ws = Workspace.from_config()\n",
    "\n",
    "# choose a name for experiment\n",
    "experiment_name = 'automl_leukemia_experiment'\n",
    "\n",
    "# Enviornment for model deployment\n",
    "myenv = Environment(workspace=ws,name=\"myenv\")\n",
    " \n",
    "auto_exp = Experiment(ws,experiment_name)"
   ]
  },
  {
   "cell_type": "code",
   "execution_count": 3,
   "metadata": {
    "gather": {
     "logged": 1606378078757
    },
    "pycharm": {
     "name": "#%%\n"
    }
   },
   "outputs": [
    {
     "name": "stdout",
     "output_type": "stream",
     "text": [
      "Creating\n",
      "Succeeded\n",
      "AmlCompute wait for completion finished\n",
      "\n",
      "Minimum number of nodes requested have been provisioned\n"
     ]
    }
   ],
   "source": [
    "# Create compute cluster\n",
    "\n",
    "cpu_cluster_name = \"cluster-leukemia\"\n",
    "\n",
    "try:\n",
    "    cpu_cluster = ComputeTarget(workspace=ws, name=cpu_cluster_name)\n",
    "    print('Found existing cluster, use it.')\n",
    "except ComputeTargetException:\n",
    "    compute_config = AmlCompute.provisioning_configuration(vm_size='STANDARD_D2_V2',min_nodes=0,\n",
    "                                                            max_nodes=4)\n",
    "    cpu_cluster = ComputeTarget.create(ws, cpu_cluster_name, compute_config)\n",
    "\n",
    "cpu_cluster.wait_for_completion(show_output=True)"
   ]
  },
  {
   "cell_type": "markdown",
   "metadata": {},
   "source": [
    "### Dataset is hosted on Github"
   ]
  },
  {
   "cell_type": "code",
   "execution_count": 4,
   "metadata": {
    "gather": {
     "logged": 1606378163980
    },
    "pycharm": {
     "name": "#%%\n"
    }
   },
   "outputs": [],
   "source": [
    "dataset_path = 'https://raw.githubusercontent.com/PhilippRamjoue/Leukemia_Classification/main/dataset/bone-marrow-dataset.csv'\n",
    "\n",
    "ds = Dataset.Tabular.from_delimited_files(path=dataset_path)"
   ]
  },
  {
   "cell_type": "code",
   "execution_count": 5,
   "metadata": {
    "gather": {
     "logged": 1606378168148
    },
    "pycharm": {
     "name": "#%%\n"
    }
   },
   "outputs": [
    {
     "name": "stdout",
     "output_type": "stream",
     "text": [
      "survival_status_0: 36\n",
      "survival_status_1: 85\n",
      "survival_status_ongoing: 66\n",
      "Shape of original frame: (121, 37)\n",
      "Shape of frame with dropped nan rows: (104, 37); Loss: 14 %\n"
     ]
    }
   ],
   "source": [
    "\n",
    "# Use the clean_data function to clean your data.\n",
    "x, y = clean_data(ds)\n",
    "\n",
    "# use full dataset but provide test data\n",
    "x_train,x_test,y_train,y_test = train_test_split(x,y,test_size=0.4,random_state=42)\n",
    "#automl_training_set = pd.concat([x_train,y_train],axis=1)\n",
    "\n",
    "automl_training_set = pd.concat([x,y],axis=1)"
   ]
  },
  {
   "cell_type": "markdown",
   "metadata": {
    "pycharm": {
     "name": "#%% md\n"
    }
   },
   "source": [
    "## Save data in datastore\n",
    "\n",
    "A datastore is necessary to run AutoML on a remote compute"
   ]
  },
  {
   "cell_type": "code",
   "execution_count": 6,
   "metadata": {
    "gather": {
     "logged": 1606378185713
    },
    "pycharm": {
     "name": "#%%\n"
    }
   },
   "outputs": [
    {
     "name": "stdout",
     "output_type": "stream",
     "text": [
      "Uploading an estimated of 1 files\n",
      "Uploading ./data/cleaned_dataset.csv\n",
      "Uploaded ./data/cleaned_dataset.csv, 1 files out of an estimated total of 1\n",
      "Uploaded 1 files\n"
     ]
    }
   ],
   "source": [
    "\n",
    "# Create a project_folder if it doesn't exist\n",
    "if not os.path.isdir('data'):\n",
    "    os.mkdir('data')\n",
    "\n",
    "if not os.path.exists('project_folder'):\n",
    "    os.makedirs('project_folder')\n",
    "\n",
    "automl_training_set.to_csv('data/cleaned_dataset.csv')\n",
    "\n",
    "ds = ws.get_default_datastore()\n",
    "\n",
    "ds.upload(src_dir='./data', target_path='leukemiadata', overwrite=True, show_progress=True)\n",
    "\n",
    "training_data = Dataset.Tabular.from_delimited_files(path=ds.path('leukemiadata/cleaned_dataset.csv'))"
   ]
  },
  {
   "cell_type": "markdown",
   "metadata": {},
   "source": [
    "## AutoML Configuration\n",
    "\n",
    "TODO: Explain why you chose the automl settings and cofiguration you used below."
   ]
  },
  {
   "cell_type": "code",
   "execution_count": 7,
   "metadata": {
    "gather": {
     "logged": 1606378238405
    },
    "pycharm": {
     "name": "#%%\n"
    }
   },
   "outputs": [],
   "source": [
    "# TODO: Put your automl settings here\n",
    "automl_settings = {'experiment_timeout_minutes':30,\n",
    "                    'primary_metric':'accuracy',\n",
    "                    'enable_early_stopping':True,\n",
    "                    'n_cross_validations':5,\n",
    "                    'max_concurrent_iterations':4\n",
    "                    }\n",
    "\n",
    "# TODO: Put your automl config here\n",
    "automl_config = AutoMLConfig(\n",
    "    task=\"classification\",\n",
    "    compute_target=cpu_cluster,\n",
    "    training_data=training_data,\n",
    "    iterations=30,\n",
    "    iteration_timeout_minutes=5,\n",
    "    label_column_name='survival_status',\n",
    "    **automl_settings\n",
    "    )"
   ]
  },
  {
   "cell_type": "code",
   "execution_count": 8,
   "metadata": {
    "gather": {
     "logged": 1606379816743
    },
    "jupyter": {
     "outputs_hidden": false,
     "source_hidden": false
    },
    "nteract": {
     "transient": {
      "deleting": false
     }
    },
    "scrolled": false
   },
   "outputs": [
    {
     "name": "stdout",
     "output_type": "stream",
     "text": [
      "Running on remote.\n",
      "Running on remote compute: cluster-leukemia\n",
      "Parent Run ID: AutoML_44ab4b49-5388-4a58-9f4d-fcabc0546992\n",
      "\n",
      "Current status: FeaturesGeneration. Generating features for the dataset.\n",
      "Current status: DatasetCrossValidationSplit. Generating individually featurized CV splits.\n",
      "Current status: ModelSelection. Beginning model selection.\n",
      "\n",
      "****************************************************************************************************\n",
      "DATA GUARDRAILS: \n",
      "\n",
      "TYPE:         Class balancing detection\n",
      "STATUS:       PASSED\n",
      "DESCRIPTION:  Your inputs were analyzed, and all classes are balanced in your training data.\n",
      "              Learn more about imbalanced data: https://aka.ms/AutomatedMLImbalancedData\n",
      "\n",
      "****************************************************************************************************\n",
      "\n",
      "TYPE:         Missing feature values imputation\n",
      "STATUS:       PASSED\n",
      "DESCRIPTION:  No feature missing values were detected in the training data.\n",
      "              Learn more about missing value imputation: https://aka.ms/AutomatedMLFeaturization\n",
      "\n",
      "****************************************************************************************************\n",
      "\n",
      "TYPE:         High cardinality feature detection\n",
      "STATUS:       PASSED\n",
      "DESCRIPTION:  Your inputs were analyzed, and no high cardinality features were detected.\n",
      "              Learn more about high cardinality feature handling: https://aka.ms/AutomatedMLFeaturization\n",
      "\n",
      "****************************************************************************************************\n",
      "\n",
      "****************************************************************************************************\n",
      "ITERATION: The iteration being evaluated.\n",
      "PIPELINE: A summary description of the pipeline being evaluated.\n",
      "DURATION: Time taken for the current iteration.\n",
      "METRIC: The result of computing score on the fitted pipeline.\n",
      "BEST: The best observed score thus far.\n",
      "****************************************************************************************************\n",
      "\n",
      " ITERATION   PIPELINE                                       DURATION      METRIC      BEST\n",
      "         1                                                  0:00:01          nan       nan\n",
      "         0   MaxAbsScaler LightGBM                          0:01:22       0.5967    0.5967\n",
      "         3   StandardScalerWrapper SGD                      0:00:27       0.6433    0.6433\n",
      "         6   StandardScalerWrapper RandomForest             0:00:51       0.6833    0.6833\n",
      "         2   MinMaxScaler RandomForest                      0:03:15       0.6552    0.6833\n",
      "         5   StandardScalerWrapper SGD                      0:03:20       0.6338    0.6833\n",
      "         4   MinMaxScaler RandomForest                      0:03:17       0.6743    0.6833\n",
      "         7   RobustScaler ExtremeRandomTrees                0:01:30       0.6343    0.6833\n",
      "        10   StandardScalerWrapper SGD                      0:00:45       0.6357    0.6833\n",
      "         8   StandardScalerWrapper ExtremeRandomTrees       0:00:42       0.6333    0.6833\n",
      "         9   StandardScalerWrapper SGD                      0:00:42       0.6333    0.6833\n",
      "        12   RobustScaler ExtremeRandomTrees                0:00:40       0.6529    0.6833\n",
      "        13   MinMaxScaler SGD                               0:00:42       0.6152    0.6833\n",
      "        11   MinMaxScaler SGD                               0:00:53       0.6038    0.6833\n",
      "        14   MinMaxScaler ExtremeRandomTrees                0:00:44       0.6057    0.6833\n",
      "        15   MinMaxScaler ExtremeRandomTrees                0:00:44       0.6719    0.6833\n",
      "        17   StandardScalerWrapper RandomForest             0:00:47       0.6733    0.6833\n",
      "        16   MinMaxScaler ExtremeRandomTrees                0:00:52       0.5867    0.6833\n",
      "        18   StandardScalerWrapper SGD                      0:00:41       0.6143    0.6833\n",
      "        21   MinMaxScaler ExtremeRandomTrees                0:00:34       0.6329    0.6833\n",
      "        19   RobustScaler ExtremeRandomTrees                0:00:59       0.5952    0.6833\n",
      "        20   StandardScalerWrapper RandomForest             0:00:26       0.6462    0.6833\n",
      "        22   MaxAbsScaler RandomForest                      0:00:46       0.6524    0.6833\n",
      "        23   MaxAbsScaler ExtremeRandomTrees                0:00:51       0.6329    0.6833\n",
      "        25   MaxAbsScaler RandomForest                      0:00:44       0.6743    0.6833\n",
      "        24   RobustScaler RandomForest                      0:00:31       0.6748    0.6833\n",
      "        26   MinMaxScaler RandomForest                      0:00:38       0.7024    0.7024\n",
      "        27   MinMaxScaler LightGBM                          0:00:23       0.7124    0.7124\n",
      "        28    VotingEnsemble                                0:00:53       0.7710    0.7710\n",
      "        29    StackEnsemble                                 0:00:58       0.6743    0.7710\n"
     ]
    }
   ],
   "source": [
    "# TODO: Submit your experiment\n",
    "auto_run = auto_exp.submit(config=automl_config,show_output=True)"
   ]
  },
  {
   "cell_type": "markdown",
   "metadata": {},
   "source": [
    "## Run Details\n",
    "\n",
    "OPTIONAL: Write about the different models trained and their performance. Why do you think some models did better than others?\n",
    "\n",
    "TODO: In the cell below, use the `RunDetails` widget to show the different experiments."
   ]
  },
  {
   "cell_type": "code",
   "execution_count": 9,
   "metadata": {
    "gather": {
     "logged": 1606379867852
    },
    "jupyter": {
     "outputs_hidden": false,
     "source_hidden": false
    },
    "nteract": {
     "transient": {
      "deleting": false
     }
    },
    "scrolled": false
   },
   "outputs": [
    {
     "data": {
      "application/vnd.jupyter.widget-view+json": {
       "model_id": "d16c21ec560c4693bd528c725ec625e3",
       "version_major": 2,
       "version_minor": 0
      },
      "text/plain": [
       "_AutoMLWidget(widget_settings={'childWidgetDisplay': 'popup', 'send_telemetry': False, 'log_level': 'INFO', 's…"
      ]
     },
     "metadata": {},
     "output_type": "display_data"
    },
    {
     "data": {
      "application/aml.mini.widget.v1": "{\"status\": \"Completed\", \"workbench_run_details_uri\": \"https://ml.azure.com/experiments/automl_leukemia_experiment/runs/AutoML_44ab4b49-5388-4a58-9f4d-fcabc0546992?wsid=/subscriptions/19019985-4709-4996-8830-8568281fc2ff/resourcegroups/aml-quickstarts-128048/workspaces/quick-starts-ws-128048\", \"run_id\": \"AutoML_44ab4b49-5388-4a58-9f4d-fcabc0546992\", \"run_properties\": {\"run_id\": \"AutoML_44ab4b49-5388-4a58-9f4d-fcabc0546992\", \"created_utc\": \"2020-11-27T05:56:18.317758Z\", \"properties\": {\"num_iterations\": \"30\", \"training_type\": \"TrainFull\", \"acquisition_function\": \"EI\", \"primary_metric\": \"accuracy\", \"train_split\": \"0\", \"acquisition_parameter\": \"0\", \"num_cross_validation\": \"5\", \"target\": \"cluster-leukemia\", \"AMLSettingsJsonString\": \"{\\\"path\\\":null,\\\"name\\\":\\\"automl_leukemia_experiment\\\",\\\"subscription_id\\\":\\\"19019985-4709-4996-8830-8568281fc2ff\\\",\\\"resource_group\\\":\\\"aml-quickstarts-128048\\\",\\\"workspace_name\\\":\\\"quick-starts-ws-128048\\\",\\\"region\\\":\\\"southcentralus\\\",\\\"compute_target\\\":\\\"cluster-leukemia\\\",\\\"spark_service\\\":null,\\\"azure_service\\\":\\\"remote\\\",\\\"_local_managed_run_id\\\":null,\\\"many_models\\\":false,\\\"pipeline_fetch_max_batch_size\\\":1,\\\"iterations\\\":30,\\\"primary_metric\\\":\\\"accuracy\\\",\\\"task_type\\\":\\\"classification\\\",\\\"data_script\\\":null,\\\"validation_size\\\":0.0,\\\"n_cross_validations\\\":5,\\\"y_min\\\":null,\\\"y_max\\\":null,\\\"num_classes\\\":null,\\\"featurization\\\":\\\"auto\\\",\\\"_ignore_package_version_incompatibilities\\\":false,\\\"is_timeseries\\\":false,\\\"max_cores_per_iteration\\\":1,\\\"max_concurrent_iterations\\\":4,\\\"iteration_timeout_minutes\\\":5,\\\"mem_in_mb\\\":null,\\\"enforce_time_on_windows\\\":false,\\\"experiment_timeout_minutes\\\":30,\\\"experiment_exit_score\\\":null,\\\"whitelist_models\\\":null,\\\"blacklist_algos\\\":[\\\"TensorFlowLinearClassifier\\\",\\\"TensorFlowDNN\\\"],\\\"supported_models\\\":[\\\"DecisionTree\\\",\\\"LinearSVM\\\",\\\"GradientBoosting\\\",\\\"LogisticRegression\\\",\\\"LightGBM\\\",\\\"SGD\\\",\\\"SVM\\\",\\\"AveragedPerceptronClassifier\\\",\\\"ExtremeRandomTrees\\\",\\\"XGBoostClassifier\\\",\\\"RandomForest\\\",\\\"TensorFlowLinearClassifier\\\",\\\"KNN\\\",\\\"MultinomialNaiveBayes\\\",\\\"BernoulliNaiveBayes\\\",\\\"TensorFlowDNN\\\"],\\\"auto_blacklist\\\":true,\\\"blacklist_samples_reached\\\":false,\\\"exclude_nan_labels\\\":true,\\\"verbosity\\\":20,\\\"_debug_log\\\":\\\"azureml_automl.log\\\",\\\"show_warnings\\\":false,\\\"model_explainability\\\":true,\\\"service_url\\\":null,\\\"sdk_url\\\":null,\\\"sdk_packages\\\":null,\\\"enable_onnx_compatible_models\\\":false,\\\"enable_split_onnx_featurizer_estimator_models\\\":false,\\\"vm_type\\\":\\\"STANDARD_D2_V2\\\",\\\"telemetry_verbosity\\\":20,\\\"send_telemetry\\\":true,\\\"enable_dnn\\\":false,\\\"scenario\\\":\\\"SDK-1.13.0\\\",\\\"environment_label\\\":null,\\\"force_text_dnn\\\":false,\\\"enable_feature_sweeping\\\":true,\\\"enable_early_stopping\\\":true,\\\"early_stopping_n_iters\\\":10,\\\"metrics\\\":null,\\\"enable_ensembling\\\":true,\\\"enable_stack_ensembling\\\":true,\\\"ensemble_iterations\\\":15,\\\"enable_tf\\\":false,\\\"enable_subsampling\\\":false,\\\"subsample_seed\\\":null,\\\"enable_nimbusml\\\":false,\\\"enable_streaming\\\":false,\\\"force_streaming\\\":false,\\\"track_child_runs\\\":true,\\\"allowed_private_models\\\":[],\\\"label_column_name\\\":\\\"survival_status\\\",\\\"weight_column_name\\\":null,\\\"cv_split_column_names\\\":null,\\\"enable_local_managed\\\":false,\\\"cost_mode\\\":1,\\\"lag_length\\\":0,\\\"metric_operation\\\":\\\"maximize\\\",\\\"preprocess\\\":true}\", \"DataPrepJsonString\": \"{\\\\\\\"training_data\\\\\\\": \\\\\\\"{\\\\\\\\\\\\\\\"blocks\\\\\\\\\\\\\\\": [{\\\\\\\\\\\\\\\"id\\\\\\\\\\\\\\\": \\\\\\\\\\\\\\\"3bf299e3-38f5-4262-bb06-885745bb40eb\\\\\\\\\\\\\\\", \\\\\\\\\\\\\\\"type\\\\\\\\\\\\\\\": \\\\\\\\\\\\\\\"Microsoft.DPrep.GetDatastoreFilesBlock\\\\\\\\\\\\\\\", \\\\\\\\\\\\\\\"arguments\\\\\\\\\\\\\\\": {\\\\\\\\\\\\\\\"datastores\\\\\\\\\\\\\\\": [{\\\\\\\\\\\\\\\"datastoreName\\\\\\\\\\\\\\\": \\\\\\\\\\\\\\\"workspaceblobstore\\\\\\\\\\\\\\\", \\\\\\\\\\\\\\\"path\\\\\\\\\\\\\\\": \\\\\\\\\\\\\\\"leukemiadata/cleaned_dataset.csv\\\\\\\\\\\\\\\", \\\\\\\\\\\\\\\"resourceGroup\\\\\\\\\\\\\\\": \\\\\\\\\\\\\\\"aml-quickstarts-128048\\\\\\\\\\\\\\\", \\\\\\\\\\\\\\\"subscription\\\\\\\\\\\\\\\": \\\\\\\\\\\\\\\"19019985-4709-4996-8830-8568281fc2ff\\\\\\\\\\\\\\\", \\\\\\\\\\\\\\\"workspaceName\\\\\\\\\\\\\\\": \\\\\\\\\\\\\\\"quick-starts-ws-128048\\\\\\\\\\\\\\\"}]}, \\\\\\\\\\\\\\\"localData\\\\\\\\\\\\\\\": {}, \\\\\\\\\\\\\\\"isEnabled\\\\\\\\\\\\\\\": true, \\\\\\\\\\\\\\\"name\\\\\\\\\\\\\\\": null, \\\\\\\\\\\\\\\"annotation\\\\\\\\\\\\\\\": null}, {\\\\\\\\\\\\\\\"id\\\\\\\\\\\\\\\": \\\\\\\\\\\\\\\"b81e6ddc-a3c1-43fd-90eb-071a0745f6de\\\\\\\\\\\\\\\", \\\\\\\\\\\\\\\"type\\\\\\\\\\\\\\\": \\\\\\\\\\\\\\\"Microsoft.DPrep.ParseDelimitedBlock\\\\\\\\\\\\\\\", \\\\\\\\\\\\\\\"arguments\\\\\\\\\\\\\\\": {\\\\\\\\\\\\\\\"columnHeadersMode\\\\\\\\\\\\\\\": 3, \\\\\\\\\\\\\\\"fileEncoding\\\\\\\\\\\\\\\": 0, \\\\\\\\\\\\\\\"handleQuotedLineBreaks\\\\\\\\\\\\\\\": false, \\\\\\\\\\\\\\\"preview\\\\\\\\\\\\\\\": false, \\\\\\\\\\\\\\\"separator\\\\\\\\\\\\\\\": \\\\\\\\\\\\\\\",\\\\\\\\\\\\\\\", \\\\\\\\\\\\\\\"skipRows\\\\\\\\\\\\\\\": 0, \\\\\\\\\\\\\\\"skipRowsMode\\\\\\\\\\\\\\\": 0}, \\\\\\\\\\\\\\\"localData\\\\\\\\\\\\\\\": {}, \\\\\\\\\\\\\\\"isEnabled\\\\\\\\\\\\\\\": true, \\\\\\\\\\\\\\\"name\\\\\\\\\\\\\\\": null, \\\\\\\\\\\\\\\"annotation\\\\\\\\\\\\\\\": null}, {\\\\\\\\\\\\\\\"id\\\\\\\\\\\\\\\": \\\\\\\\\\\\\\\"3a4693e0-18ef-40bc-94bf-82db5cc1b335\\\\\\\\\\\\\\\", \\\\\\\\\\\\\\\"type\\\\\\\\\\\\\\\": \\\\\\\\\\\\\\\"Microsoft.DPrep.DropColumnsBlock\\\\\\\\\\\\\\\", \\\\\\\\\\\\\\\"arguments\\\\\\\\\\\\\\\": {\\\\\\\\\\\\\\\"columns\\\\\\\\\\\\\\\": {\\\\\\\\\\\\\\\"type\\\\\\\\\\\\\\\": 0, \\\\\\\\\\\\\\\"details\\\\\\\\\\\\\\\": {\\\\\\\\\\\\\\\"selectedColumns\\\\\\\\\\\\\\\": [\\\\\\\\\\\\\\\"Path\\\\\\\\\\\\\\\"]}}}, \\\\\\\\\\\\\\\"localData\\\\\\\\\\\\\\\": {}, \\\\\\\\\\\\\\\"isEnabled\\\\\\\\\\\\\\\": true, \\\\\\\\\\\\\\\"name\\\\\\\\\\\\\\\": null, \\\\\\\\\\\\\\\"annotation\\\\\\\\\\\\\\\": null}, {\\\\\\\\\\\\\\\"id\\\\\\\\\\\\\\\": \\\\\\\\\\\\\\\"60199b9a-e79e-499c-9034-9a994679504f\\\\\\\\\\\\\\\", \\\\\\\\\\\\\\\"type\\\\\\\\\\\\\\\": \\\\\\\\\\\\\\\"Microsoft.DPrep.SetColumnTypesBlock\\\\\\\\\\\\\\\", \\\\\\\\\\\\\\\"arguments\\\\\\\\\\\\\\\": {\\\\\\\\\\\\\\\"columnConversion\\\\\\\\\\\\\\\": [{\\\\\\\\\\\\\\\"column\\\\\\\\\\\\\\\": {\\\\\\\\\\\\\\\"type\\\\\\\\\\\\\\\": 2, \\\\\\\\\\\\\\\"details\\\\\\\\\\\\\\\": {\\\\\\\\\\\\\\\"selectedColumn\\\\\\\\\\\\\\\": \\\\\\\\\\\\\\\"Column1\\\\\\\\\\\\\\\"}}, \\\\\\\\\\\\\\\"typeProperty\\\\\\\\\\\\\\\": 2}, {\\\\\\\\\\\\\\\"column\\\\\\\\\\\\\\\": {\\\\\\\\\\\\\\\"type\\\\\\\\\\\\\\\": 2, \\\\\\\\\\\\\\\"details\\\\\\\\\\\\\\\": {\\\\\\\\\\\\\\\"selectedColumn\\\\\\\\\\\\\\\": \\\\\\\\\\\\\\\"donor_age_below_35\\\\\\\\\\\\\\\"}}, \\\\\\\\\\\\\\\"typeProperty\\\\\\\\\\\\\\\": 2}, {\\\\\\\\\\\\\\\"column\\\\\\\\\\\\\\\": {\\\\\\\\\\\\\\\"type\\\\\\\\\\\\\\\": 2, \\\\\\\\\\\\\\\"details\\\\\\\\\\\\\\\": {\\\\\\\\\\\\\\\"selectedColumn\\\\\\\\\\\\\\\": \\\\\\\\\\\\\\\"donor_CMV\\\\\\\\\\\\\\\"}}, \\\\\\\\\\\\\\\"typeProperty\\\\\\\\\\\\\\\": 2}, {\\\\\\\\\\\\\\\"column\\\\\\\\\\\\\\\": {\\\\\\\\\\\\\\\"type\\\\\\\\\\\\\\\": 2, \\\\\\\\\\\\\\\"details\\\\\\\\\\\\\\\": {\\\\\\\\\\\\\\\"selectedColumn\\\\\\\\\\\\\\\": \\\\\\\\\\\\\\\"recipient_age_below_10\\\\\\\\\\\\\\\"}}, \\\\\\\\\\\\\\\"typeProperty\\\\\\\\\\\\\\\": 2}, {\\\\\\\\\\\\\\\"column\\\\\\\\\\\\\\\": {\\\\\\\\\\\\\\\"type\\\\\\\\\\\\\\\": 2, \\\\\\\\\\\\\\\"details\\\\\\\\\\\\\\\": {\\\\\\\\\\\\\\\"selectedColumn\\\\\\\\\\\\\\\": \\\\\\\\\\\\\\\"recipient_gender\\\\\\\\\\\\\\\"}}, \\\\\\\\\\\\\\\"typeProperty\\\\\\\\\\\\\\\": 2}, {\\\\\\\\\\\\\\\"column\\\\\\\\\\\\\\\": {\\\\\\\\\\\\\\\"type\\\\\\\\\\\\\\\": 2, \\\\\\\\\\\\\\\"details\\\\\\\\\\\\\\\": {\\\\\\\\\\\\\\\"selectedColumn\\\\\\\\\\\\\\\": \\\\\\\\\\\\\\\"recipient_rh\\\\\\\\\\\\\\\"}}, \\\\\\\\\\\\\\\"typeProperty\\\\\\\\\\\\\\\": 2}, {\\\\\\\\\\\\\\\"column\\\\\\\\\\\\\\\": {\\\\\\\\\\\\\\\"type\\\\\\\\\\\\\\\": 2, \\\\\\\\\\\\\\\"details\\\\\\\\\\\\\\\": {\\\\\\\\\\\\\\\"selectedColumn\\\\\\\\\\\\\\\": \\\\\\\\\\\\\\\"recipient_CMV\\\\\\\\\\\\\\\"}}, \\\\\\\\\\\\\\\"typeProperty\\\\\\\\\\\\\\\": 2}, {\\\\\\\\\\\\\\\"column\\\\\\\\\\\\\\\": {\\\\\\\\\\\\\\\"type\\\\\\\\\\\\\\\": 2, \\\\\\\\\\\\\\\"details\\\\\\\\\\\\\\\": {\\\\\\\\\\\\\\\"selectedColumn\\\\\\\\\\\\\\\": \\\\\\\\\\\\\\\"gender_match\\\\\\\\\\\\\\\"}}, \\\\\\\\\\\\\\\"typeProperty\\\\\\\\\\\\\\\": 2}, {\\\\\\\\\\\\\\\"column\\\\\\\\\\\\\\\": {\\\\\\\\\\\\\\\"type\\\\\\\\\\\\\\\": 2, \\\\\\\\\\\\\\\"details\\\\\\\\\\\\\\\": {\\\\\\\\\\\\\\\"selectedColumn\\\\\\\\\\\\\\\": \\\\\\\\\\\\\\\"ABO_match\\\\\\\\\\\\\\\"}}, \\\\\\\\\\\\\\\"typeProperty\\\\\\\\\\\\\\\": 2}, {\\\\\\\\\\\\\\\"column\\\\\\\\\\\\\\\": {\\\\\\\\\\\\\\\"type\\\\\\\\\\\\\\\": 2, \\\\\\\\\\\\\\\"details\\\\\\\\\\\\\\\": {\\\\\\\\\\\\\\\"selectedColumn\\\\\\\\\\\\\\\": \\\\\\\\\\\\\\\"HLA_mismatch\\\\\\\\\\\\\\\"}}, \\\\\\\\\\\\\\\"typeProperty\\\\\\\\\\\\\\\": 2}, {\\\\\\\\\\\\\\\"column\\\\\\\\\\\\\\\": {\\\\\\\\\\\\\\\"type\\\\\\\\\\\\\\\": 2, \\\\\\\\\\\\\\\"details\\\\\\\\\\\\\\\": {\\\\\\\\\\\\\\\"selectedColumn\\\\\\\\\\\\\\\": \\\\\\\\\\\\\\\"risk_group\\\\\\\\\\\\\\\"}}, \\\\\\\\\\\\\\\"typeProperty\\\\\\\\\\\\\\\": 2}, {\\\\\\\\\\\\\\\"column\\\\\\\\\\\\\\\": {\\\\\\\\\\\\\\\"type\\\\\\\\\\\\\\\": 2, \\\\\\\\\\\\\\\"details\\\\\\\\\\\\\\\": {\\\\\\\\\\\\\\\"selectedColumn\\\\\\\\\\\\\\\": \\\\\\\\\\\\\\\"stem_cell_source\\\\\\\\\\\\\\\"}}, \\\\\\\\\\\\\\\"typeProperty\\\\\\\\\\\\\\\": 2}, {\\\\\\\\\\\\\\\"column\\\\\\\\\\\\\\\": {\\\\\\\\\\\\\\\"type\\\\\\\\\\\\\\\": 2, \\\\\\\\\\\\\\\"details\\\\\\\\\\\\\\\": {\\\\\\\\\\\\\\\"selectedColumn\\\\\\\\\\\\\\\": \\\\\\\\\\\\\\\"tx_post_relapse\\\\\\\\\\\\\\\"}}, \\\\\\\\\\\\\\\"typeProperty\\\\\\\\\\\\\\\": 2}, {\\\\\\\\\\\\\\\"column\\\\\\\\\\\\\\\": {\\\\\\\\\\\\\\\"type\\\\\\\\\\\\\\\": 2, \\\\\\\\\\\\\\\"details\\\\\\\\\\\\\\\": {\\\\\\\\\\\\\\\"selectedColumn\\\\\\\\\\\\\\\": \\\\\\\\\\\\\\\"ANC_recovery\\\\\\\\\\\\\\\"}}, \\\\\\\\\\\\\\\"typeProperty\\\\\\\\\\\\\\\": 2}, {\\\\\\\\\\\\\\\"column\\\\\\\\\\\\\\\": {\\\\\\\\\\\\\\\"type\\\\\\\\\\\\\\\": 2, \\\\\\\\\\\\\\\"details\\\\\\\\\\\\\\\": {\\\\\\\\\\\\\\\"selectedColumn\\\\\\\\\\\\\\\": \\\\\\\\\\\\\\\"PLT_recovery\\\\\\\\\\\\\\\"}}, \\\\\\\\\\\\\\\"typeProperty\\\\\\\\\\\\\\\": 2}, {\\\\\\\\\\\\\\\"column\\\\\\\\\\\\\\\": {\\\\\\\\\\\\\\\"type\\\\\\\\\\\\\\\": 2, \\\\\\\\\\\\\\\"details\\\\\\\\\\\\\\\": {\\\\\\\\\\\\\\\"selectedColumn\\\\\\\\\\\\\\\": \\\\\\\\\\\\\\\"acute_GvHD_II_III_IV\\\\\\\\\\\\\\\"}}, \\\\\\\\\\\\\\\"typeProperty\\\\\\\\\\\\\\\": 2}, {\\\\\\\\\\\\\\\"column\\\\\\\\\\\\\\\": {\\\\\\\\\\\\\\\"type\\\\\\\\\\\\\\\": 2, \\\\\\\\\\\\\\\"details\\\\\\\\\\\\\\\": {\\\\\\\\\\\\\\\"selectedColumn\\\\\\\\\\\\\\\": \\\\\\\\\\\\\\\"acute_GvHD_III_IV\\\\\\\\\\\\\\\"}}, \\\\\\\\\\\\\\\"typeProperty\\\\\\\\\\\\\\\": 2}, {\\\\\\\\\\\\\\\"column\\\\\\\\\\\\\\\": {\\\\\\\\\\\\\\\"type\\\\\\\\\\\\\\\": 2, \\\\\\\\\\\\\\\"details\\\\\\\\\\\\\\\": {\\\\\\\\\\\\\\\"selectedColumn\\\\\\\\\\\\\\\": \\\\\\\\\\\\\\\"relapse\\\\\\\\\\\\\\\"}}, \\\\\\\\\\\\\\\"typeProperty\\\\\\\\\\\\\\\": 2}, {\\\\\\\\\\\\\\\"column\\\\\\\\\\\\\\\": {\\\\\\\\\\\\\\\"type\\\\\\\\\\\\\\\": 2, \\\\\\\\\\\\\\\"details\\\\\\\\\\\\\\\": {\\\\\\\\\\\\\\\"selectedColumn\\\\\\\\\\\\\\\": \\\\\\\\\\\\\\\"donor_age\\\\\\\\\\\\\\\"}}, \\\\\\\\\\\\\\\"typeProperty\\\\\\\\\\\\\\\": 3}, {\\\\\\\\\\\\\\\"column\\\\\\\\\\\\\\\": {\\\\\\\\\\\\\\\"type\\\\\\\\\\\\\\\": 2, \\\\\\\\\\\\\\\"details\\\\\\\\\\\\\\\": {\\\\\\\\\\\\\\\"selectedColumn\\\\\\\\\\\\\\\": \\\\\\\\\\\\\\\"recipient_age\\\\\\\\\\\\\\\"}}, \\\\\\\\\\\\\\\"typeProperty\\\\\\\\\\\\\\\": 3}, {\\\\\\\\\\\\\\\"column\\\\\\\\\\\\\\\": {\\\\\\\\\\\\\\\"type\\\\\\\\\\\\\\\": 2, \\\\\\\\\\\\\\\"details\\\\\\\\\\\\\\\": {\\\\\\\\\\\\\\\"selectedColumn\\\\\\\\\\\\\\\": \\\\\\\\\\\\\\\"recipient_body_mass\\\\\\\\\\\\\\\"}}, \\\\\\\\\\\\\\\"typeProperty\\\\\\\\\\\\\\\": 3}, {\\\\\\\\\\\\\\\"column\\\\\\\\\\\\\\\": {\\\\\\\\\\\\\\\"type\\\\\\\\\\\\\\\": 2, \\\\\\\\\\\\\\\"details\\\\\\\\\\\\\\\": {\\\\\\\\\\\\\\\"selectedColumn\\\\\\\\\\\\\\\": \\\\\\\\\\\\\\\"CD34_x1e6_per_kg\\\\\\\\\\\\\\\"}}, \\\\\\\\\\\\\\\"typeProperty\\\\\\\\\\\\\\\": 3}, {\\\\\\\\\\\\\\\"column\\\\\\\\\\\\\\\": {\\\\\\\\\\\\\\\"type\\\\\\\\\\\\\\\": 2, \\\\\\\\\\\\\\\"details\\\\\\\\\\\\\\\": {\\\\\\\\\\\\\\\"selectedColumn\\\\\\\\\\\\\\\": \\\\\\\\\\\\\\\"CD3_x1e8_per_kg\\\\\\\\\\\\\\\"}}, \\\\\\\\\\\\\\\"typeProperty\\\\\\\\\\\\\\\": 3}, {\\\\\\\\\\\\\\\"column\\\\\\\\\\\\\\\": {\\\\\\\\\\\\\\\"type\\\\\\\\\\\\\\\": 2, \\\\\\\\\\\\\\\"details\\\\\\\\\\\\\\\": {\\\\\\\\\\\\\\\"selectedColumn\\\\\\\\\\\\\\\": \\\\\\\\\\\\\\\"CD3_to_CD34_ratio\\\\\\\\\\\\\\\"}}, \\\\\\\\\\\\\\\"typeProperty\\\\\\\\\\\\\\\": 3}, {\\\\\\\\\\\\\\\"column\\\\\\\\\\\\\\\": {\\\\\\\\\\\\\\\"type\\\\\\\\\\\\\\\": 2, \\\\\\\\\\\\\\\"details\\\\\\\\\\\\\\\": {\\\\\\\\\\\\\\\"selectedColumn\\\\\\\\\\\\\\\": \\\\\\\\\\\\\\\"time_to_ANC_recovery\\\\\\\\\\\\\\\"}}, \\\\\\\\\\\\\\\"typeProperty\\\\\\\\\\\\\\\": 3}, {\\\\\\\\\\\\\\\"column\\\\\\\\\\\\\\\": {\\\\\\\\\\\\\\\"type\\\\\\\\\\\\\\\": 2, \\\\\\\\\\\\\\\"details\\\\\\\\\\\\\\\": {\\\\\\\\\\\\\\\"selectedColumn\\\\\\\\\\\\\\\": \\\\\\\\\\\\\\\"time_to_PLT_recovery\\\\\\\\\\\\\\\"}}, \\\\\\\\\\\\\\\"typeProperty\\\\\\\\\\\\\\\": 3}, {\\\\\\\\\\\\\\\"column\\\\\\\\\\\\\\\": {\\\\\\\\\\\\\\\"type\\\\\\\\\\\\\\\": 2, \\\\\\\\\\\\\\\"details\\\\\\\\\\\\\\\": {\\\\\\\\\\\\\\\"selectedColumn\\\\\\\\\\\\\\\": \\\\\\\\\\\\\\\"time_to_acute_GvHD_III_IV\\\\\\\\\\\\\\\"}}, \\\\\\\\\\\\\\\"typeProperty\\\\\\\\\\\\\\\": 3}, {\\\\\\\\\\\\\\\"column\\\\\\\\\\\\\\\": {\\\\\\\\\\\\\\\"type\\\\\\\\\\\\\\\": 2, \\\\\\\\\\\\\\\"details\\\\\\\\\\\\\\\": {\\\\\\\\\\\\\\\"selectedColumn\\\\\\\\\\\\\\\": \\\\\\\\\\\\\\\"donor_ABO_0\\\\\\\\\\\\\\\"}}, \\\\\\\\\\\\\\\"typeProperty\\\\\\\\\\\\\\\": 2}, {\\\\\\\\\\\\\\\"column\\\\\\\\\\\\\\\": {\\\\\\\\\\\\\\\"type\\\\\\\\\\\\\\\": 2, \\\\\\\\\\\\\\\"details\\\\\\\\\\\\\\\": {\\\\\\\\\\\\\\\"selectedColumn\\\\\\\\\\\\\\\": \\\\\\\\\\\\\\\"donor_ABO_A\\\\\\\\\\\\\\\"}}, \\\\\\\\\\\\\\\"typeProperty\\\\\\\\\\\\\\\": 2}, {\\\\\\\\\\\\\\\"column\\\\\\\\\\\\\\\": {\\\\\\\\\\\\\\\"type\\\\\\\\\\\\\\\": 2, \\\\\\\\\\\\\\\"details\\\\\\\\\\\\\\\": {\\\\\\\\\\\\\\\"selectedColumn\\\\\\\\\\\\\\\": \\\\\\\\\\\\\\\"donor_ABO_AB\\\\\\\\\\\\\\\"}}, \\\\\\\\\\\\\\\"typeProperty\\\\\\\\\\\\\\\": 2}, {\\\\\\\\\\\\\\\"column\\\\\\\\\\\\\\\": {\\\\\\\\\\\\\\\"type\\\\\\\\\\\\\\\": 2, \\\\\\\\\\\\\\\"details\\\\\\\\\\\\\\\": {\\\\\\\\\\\\\\\"selectedColumn\\\\\\\\\\\\\\\": \\\\\\\\\\\\\\\"donor_ABO_B\\\\\\\\\\\\\\\"}}, \\\\\\\\\\\\\\\"typeProperty\\\\\\\\\\\\\\\": 2}, {\\\\\\\\\\\\\\\"column\\\\\\\\\\\\\\\": {\\\\\\\\\\\\\\\"type\\\\\\\\\\\\\\\": 2, \\\\\\\\\\\\\\\"details\\\\\\\\\\\\\\\": {\\\\\\\\\\\\\\\"selectedColumn\\\\\\\\\\\\\\\": \\\\\\\\\\\\\\\"recipient_age_int_0_5\\\\\\\\\\\\\\\"}}, \\\\\\\\\\\\\\\"typeProperty\\\\\\\\\\\\\\\": 2}, {\\\\\\\\\\\\\\\"column\\\\\\\\\\\\\\\": {\\\\\\\\\\\\\\\"type\\\\\\\\\\\\\\\": 2, \\\\\\\\\\\\\\\"details\\\\\\\\\\\\\\\": {\\\\\\\\\\\\\\\"selectedColumn\\\\\\\\\\\\\\\": \\\\\\\\\\\\\\\"recipient_age_int_10_20\\\\\\\\\\\\\\\"}}, \\\\\\\\\\\\\\\"typeProperty\\\\\\\\\\\\\\\": 2}, {\\\\\\\\\\\\\\\"column\\\\\\\\\\\\\\\": {\\\\\\\\\\\\\\\"type\\\\\\\\\\\\\\\": 2, \\\\\\\\\\\\\\\"details\\\\\\\\\\\\\\\": {\\\\\\\\\\\\\\\"selectedColumn\\\\\\\\\\\\\\\": \\\\\\\\\\\\\\\"recipient_age_int_5_10\\\\\\\\\\\\\\\"}}, \\\\\\\\\\\\\\\"typeProperty\\\\\\\\\\\\\\\": 2}, {\\\\\\\\\\\\\\\"column\\\\\\\\\\\\\\\": {\\\\\\\\\\\\\\\"type\\\\\\\\\\\\\\\": 2, \\\\\\\\\\\\\\\"details\\\\\\\\\\\\\\\": {\\\\\\\\\\\\\\\"selectedColumn\\\\\\\\\\\\\\\": \\\\\\\\\\\\\\\"recipient_ABO_0\\\\\\\\\\\\\\\"}}, \\\\\\\\\\\\\\\"typeProperty\\\\\\\\\\\\\\\": 2}, {\\\\\\\\\\\\\\\"column\\\\\\\\\\\\\\\": {\\\\\\\\\\\\\\\"type\\\\\\\\\\\\\\\": 2, \\\\\\\\\\\\\\\"details\\\\\\\\\\\\\\\": {\\\\\\\\\\\\\\\"selectedColumn\\\\\\\\\\\\\\\": \\\\\\\\\\\\\\\"recipient_ABO_A\\\\\\\\\\\\\\\"}}, \\\\\\\\\\\\\\\"typeProperty\\\\\\\\\\\\\\\": 2}, {\\\\\\\\\\\\\\\"column\\\\\\\\\\\\\\\": {\\\\\\\\\\\\\\\"type\\\\\\\\\\\\\\\": 2, \\\\\\\\\\\\\\\"details\\\\\\\\\\\\\\\": {\\\\\\\\\\\\\\\"selectedColumn\\\\\\\\\\\\\\\": \\\\\\\\\\\\\\\"recipient_ABO_AB\\\\\\\\\\\\\\\"}}, \\\\\\\\\\\\\\\"typeProperty\\\\\\\\\\\\\\\": 2}, {\\\\\\\\\\\\\\\"column\\\\\\\\\\\\\\\": {\\\\\\\\\\\\\\\"type\\\\\\\\\\\\\\\": 2, \\\\\\\\\\\\\\\"details\\\\\\\\\\\\\\\": {\\\\\\\\\\\\\\\"selectedColumn\\\\\\\\\\\\\\\": \\\\\\\\\\\\\\\"recipient_ABO_B\\\\\\\\\\\\\\\"}}, \\\\\\\\\\\\\\\"typeProperty\\\\\\\\\\\\\\\": 2}, {\\\\\\\\\\\\\\\"column\\\\\\\\\\\\\\\": {\\\\\\\\\\\\\\\"type\\\\\\\\\\\\\\\": 2, \\\\\\\\\\\\\\\"details\\\\\\\\\\\\\\\": {\\\\\\\\\\\\\\\"selectedColumn\\\\\\\\\\\\\\\": \\\\\\\\\\\\\\\"disease_ALL\\\\\\\\\\\\\\\"}}, \\\\\\\\\\\\\\\"typeProperty\\\\\\\\\\\\\\\": 2}, {\\\\\\\\\\\\\\\"column\\\\\\\\\\\\\\\": {\\\\\\\\\\\\\\\"type\\\\\\\\\\\\\\\": 2, \\\\\\\\\\\\\\\"details\\\\\\\\\\\\\\\": {\\\\\\\\\\\\\\\"selectedColumn\\\\\\\\\\\\\\\": \\\\\\\\\\\\\\\"disease_AML\\\\\\\\\\\\\\\"}}, \\\\\\\\\\\\\\\"typeProperty\\\\\\\\\\\\\\\": 2}, {\\\\\\\\\\\\\\\"column\\\\\\\\\\\\\\\": {\\\\\\\\\\\\\\\"type\\\\\\\\\\\\\\\": 2, \\\\\\\\\\\\\\\"details\\\\\\\\\\\\\\\": {\\\\\\\\\\\\\\\"selectedColumn\\\\\\\\\\\\\\\": \\\\\\\\\\\\\\\"disease_chronic\\\\\\\\\\\\\\\"}}, \\\\\\\\\\\\\\\"typeProperty\\\\\\\\\\\\\\\": 2}, {\\\\\\\\\\\\\\\"column\\\\\\\\\\\\\\\": {\\\\\\\\\\\\\\\"type\\\\\\\\\\\\\\\": 2, \\\\\\\\\\\\\\\"details\\\\\\\\\\\\\\\": {\\\\\\\\\\\\\\\"selectedColumn\\\\\\\\\\\\\\\": \\\\\\\\\\\\\\\"disease_lymphoma\\\\\\\\\\\\\\\"}}, \\\\\\\\\\\\\\\"typeProperty\\\\\\\\\\\\\\\": 2}, {\\\\\\\\\\\\\\\"column\\\\\\\\\\\\\\\": {\\\\\\\\\\\\\\\"type\\\\\\\\\\\\\\\": 2, \\\\\\\\\\\\\\\"details\\\\\\\\\\\\\\\": {\\\\\\\\\\\\\\\"selectedColumn\\\\\\\\\\\\\\\": \\\\\\\\\\\\\\\"disease_nonmalignant\\\\\\\\\\\\\\\"}}, \\\\\\\\\\\\\\\"typeProperty\\\\\\\\\\\\\\\": 2}, {\\\\\\\\\\\\\\\"column\\\\\\\\\\\\\\\": {\\\\\\\\\\\\\\\"type\\\\\\\\\\\\\\\": 2, \\\\\\\\\\\\\\\"details\\\\\\\\\\\\\\\": {\\\\\\\\\\\\\\\"selectedColumn\\\\\\\\\\\\\\\": \\\\\\\\\\\\\\\"disease_group_malignant\\\\\\\\\\\\\\\"}}, \\\\\\\\\\\\\\\"typeProperty\\\\\\\\\\\\\\\": 2}, {\\\\\\\\\\\\\\\"column\\\\\\\\\\\\\\\": {\\\\\\\\\\\\\\\"type\\\\\\\\\\\\\\\": 2, \\\\\\\\\\\\\\\"details\\\\\\\\\\\\\\\": {\\\\\\\\\\\\\\\"selectedColumn\\\\\\\\\\\\\\\": \\\\\\\\\\\\\\\"disease_group_nonmalignant\\\\\\\\\\\\\\\"}}, \\\\\\\\\\\\\\\"typeProperty\\\\\\\\\\\\\\\": 2}, {\\\\\\\\\\\\\\\"column\\\\\\\\\\\\\\\": {\\\\\\\\\\\\\\\"type\\\\\\\\\\\\\\\": 2, \\\\\\\\\\\\\\\"details\\\\\\\\\\\\\\\": {\\\\\\\\\\\\\\\"selectedColumn\\\\\\\\\\\\\\\": \\\\\\\\\\\\\\\"CMV_status_0\\\\\\\\\\\\\\\"}}, \\\\\\\\\\\\\\\"typeProperty\\\\\\\\\\\\\\\": 2}, {\\\\\\\\\\\\\\\"column\\\\\\\\\\\\\\\": {\\\\\\\\\\\\\\\"type\\\\\\\\\\\\\\\": 2, \\\\\\\\\\\\\\\"details\\\\\\\\\\\\\\\": {\\\\\\\\\\\\\\\"selectedColumn\\\\\\\\\\\\\\\": \\\\\\\\\\\\\\\"CMV_status_1\\\\\\\\\\\\\\\"}}, \\\\\\\\\\\\\\\"typeProperty\\\\\\\\\\\\\\\": 2}, {\\\\\\\\\\\\\\\"column\\\\\\\\\\\\\\\": {\\\\\\\\\\\\\\\"type\\\\\\\\\\\\\\\": 2, \\\\\\\\\\\\\\\"details\\\\\\\\\\\\\\\": {\\\\\\\\\\\\\\\"selectedColumn\\\\\\\\\\\\\\\": \\\\\\\\\\\\\\\"CMV_status_2\\\\\\\\\\\\\\\"}}, \\\\\\\\\\\\\\\"typeProperty\\\\\\\\\\\\\\\": 2}, {\\\\\\\\\\\\\\\"column\\\\\\\\\\\\\\\": {\\\\\\\\\\\\\\\"type\\\\\\\\\\\\\\\": 2, \\\\\\\\\\\\\\\"details\\\\\\\\\\\\\\\": {\\\\\\\\\\\\\\\"selectedColumn\\\\\\\\\\\\\\\": \\\\\\\\\\\\\\\"CMV_status_3\\\\\\\\\\\\\\\"}}, \\\\\\\\\\\\\\\"typeProperty\\\\\\\\\\\\\\\": 2}, {\\\\\\\\\\\\\\\"column\\\\\\\\\\\\\\\": {\\\\\\\\\\\\\\\"type\\\\\\\\\\\\\\\": 2, \\\\\\\\\\\\\\\"details\\\\\\\\\\\\\\\": {\\\\\\\\\\\\\\\"selectedColumn\\\\\\\\\\\\\\\": \\\\\\\\\\\\\\\"HLA_match_10/10\\\\\\\\\\\\\\\"}}, \\\\\\\\\\\\\\\"typeProperty\\\\\\\\\\\\\\\": 2}, {\\\\\\\\\\\\\\\"column\\\\\\\\\\\\\\\": {\\\\\\\\\\\\\\\"type\\\\\\\\\\\\\\\": 2, \\\\\\\\\\\\\\\"details\\\\\\\\\\\\\\\": {\\\\\\\\\\\\\\\"selectedColumn\\\\\\\\\\\\\\\": \\\\\\\\\\\\\\\"HLA_match_7/10\\\\\\\\\\\\\\\"}}, \\\\\\\\\\\\\\\"typeProperty\\\\\\\\\\\\\\\": 2}, {\\\\\\\\\\\\\\\"column\\\\\\\\\\\\\\\": {\\\\\\\\\\\\\\\"type\\\\\\\\\\\\\\\": 2, \\\\\\\\\\\\\\\"details\\\\\\\\\\\\\\\": {\\\\\\\\\\\\\\\"selectedColumn\\\\\\\\\\\\\\\": \\\\\\\\\\\\\\\"HLA_match_8/10\\\\\\\\\\\\\\\"}}, \\\\\\\\\\\\\\\"typeProperty\\\\\\\\\\\\\\\": 2}, {\\\\\\\\\\\\\\\"column\\\\\\\\\\\\\\\": {\\\\\\\\\\\\\\\"type\\\\\\\\\\\\\\\": 2, \\\\\\\\\\\\\\\"details\\\\\\\\\\\\\\\": {\\\\\\\\\\\\\\\"selectedColumn\\\\\\\\\\\\\\\": \\\\\\\\\\\\\\\"HLA_match_9/10\\\\\\\\\\\\\\\"}}, \\\\\\\\\\\\\\\"typeProperty\\\\\\\\\\\\\\\": 2}, {\\\\\\\\\\\\\\\"column\\\\\\\\\\\\\\\": {\\\\\\\\\\\\\\\"type\\\\\\\\\\\\\\\": 2, \\\\\\\\\\\\\\\"details\\\\\\\\\\\\\\\": {\\\\\\\\\\\\\\\"selectedColumn\\\\\\\\\\\\\\\": \\\\\\\\\\\\\\\"antigen_0\\\\\\\\\\\\\\\"}}, \\\\\\\\\\\\\\\"typeProperty\\\\\\\\\\\\\\\": 2}, {\\\\\\\\\\\\\\\"column\\\\\\\\\\\\\\\": {\\\\\\\\\\\\\\\"type\\\\\\\\\\\\\\\": 2, \\\\\\\\\\\\\\\"details\\\\\\\\\\\\\\\": {\\\\\\\\\\\\\\\"selectedColumn\\\\\\\\\\\\\\\": \\\\\\\\\\\\\\\"antigen_1\\\\\\\\\\\\\\\"}}, \\\\\\\\\\\\\\\"typeProperty\\\\\\\\\\\\\\\": 2}, {\\\\\\\\\\\\\\\"column\\\\\\\\\\\\\\\": {\\\\\\\\\\\\\\\"type\\\\\\\\\\\\\\\": 2, \\\\\\\\\\\\\\\"details\\\\\\\\\\\\\\\": {\\\\\\\\\\\\\\\"selectedColumn\\\\\\\\\\\\\\\": \\\\\\\\\\\\\\\"antigen_2\\\\\\\\\\\\\\\"}}, \\\\\\\\\\\\\\\"typeProperty\\\\\\\\\\\\\\\": 2}, {\\\\\\\\\\\\\\\"column\\\\\\\\\\\\\\\": {\\\\\\\\\\\\\\\"type\\\\\\\\\\\\\\\": 2, \\\\\\\\\\\\\\\"details\\\\\\\\\\\\\\\": {\\\\\\\\\\\\\\\"selectedColumn\\\\\\\\\\\\\\\": \\\\\\\\\\\\\\\"antigen_3\\\\\\\\\\\\\\\"}}, \\\\\\\\\\\\\\\"typeProperty\\\\\\\\\\\\\\\": 2}, {\\\\\\\\\\\\\\\"column\\\\\\\\\\\\\\\": {\\\\\\\\\\\\\\\"type\\\\\\\\\\\\\\\": 2, \\\\\\\\\\\\\\\"details\\\\\\\\\\\\\\\": {\\\\\\\\\\\\\\\"selectedColumn\\\\\\\\\\\\\\\": \\\\\\\\\\\\\\\"allel_0\\\\\\\\\\\\\\\"}}, \\\\\\\\\\\\\\\"typeProperty\\\\\\\\\\\\\\\": 2}, {\\\\\\\\\\\\\\\"column\\\\\\\\\\\\\\\": {\\\\\\\\\\\\\\\"type\\\\\\\\\\\\\\\": 2, \\\\\\\\\\\\\\\"details\\\\\\\\\\\\\\\": {\\\\\\\\\\\\\\\"selectedColumn\\\\\\\\\\\\\\\": \\\\\\\\\\\\\\\"allel_1\\\\\\\\\\\\\\\"}}, \\\\\\\\\\\\\\\"typeProperty\\\\\\\\\\\\\\\": 2}, {\\\\\\\\\\\\\\\"column\\\\\\\\\\\\\\\": {\\\\\\\\\\\\\\\"type\\\\\\\\\\\\\\\": 2, \\\\\\\\\\\\\\\"details\\\\\\\\\\\\\\\": {\\\\\\\\\\\\\\\"selectedColumn\\\\\\\\\\\\\\\": \\\\\\\\\\\\\\\"allel_2\\\\\\\\\\\\\\\"}}, \\\\\\\\\\\\\\\"typeProperty\\\\\\\\\\\\\\\": 2}, {\\\\\\\\\\\\\\\"column\\\\\\\\\\\\\\\": {\\\\\\\\\\\\\\\"type\\\\\\\\\\\\\\\": 2, \\\\\\\\\\\\\\\"details\\\\\\\\\\\\\\\": {\\\\\\\\\\\\\\\"selectedColumn\\\\\\\\\\\\\\\": \\\\\\\\\\\\\\\"allel_3\\\\\\\\\\\\\\\"}}, \\\\\\\\\\\\\\\"typeProperty\\\\\\\\\\\\\\\": 2}, {\\\\\\\\\\\\\\\"column\\\\\\\\\\\\\\\": {\\\\\\\\\\\\\\\"type\\\\\\\\\\\\\\\": 2, \\\\\\\\\\\\\\\"details\\\\\\\\\\\\\\\": {\\\\\\\\\\\\\\\"selectedColumn\\\\\\\\\\\\\\\": \\\\\\\\\\\\\\\"allel_4\\\\\\\\\\\\\\\"}}, \\\\\\\\\\\\\\\"typeProperty\\\\\\\\\\\\\\\": 2}, {\\\\\\\\\\\\\\\"column\\\\\\\\\\\\\\\": {\\\\\\\\\\\\\\\"type\\\\\\\\\\\\\\\": 2, \\\\\\\\\\\\\\\"details\\\\\\\\\\\\\\\": {\\\\\\\\\\\\\\\"selectedColumn\\\\\\\\\\\\\\\": \\\\\\\\\\\\\\\"HLA_group_1_DRB1_cell\\\\\\\\\\\\\\\"}}, \\\\\\\\\\\\\\\"typeProperty\\\\\\\\\\\\\\\": 2}, {\\\\\\\\\\\\\\\"column\\\\\\\\\\\\\\\": {\\\\\\\\\\\\\\\"type\\\\\\\\\\\\\\\": 2, \\\\\\\\\\\\\\\"details\\\\\\\\\\\\\\\": {\\\\\\\\\\\\\\\"selectedColumn\\\\\\\\\\\\\\\": \\\\\\\\\\\\\\\"HLA_group_1_matched\\\\\\\\\\\\\\\"}}, \\\\\\\\\\\\\\\"typeProperty\\\\\\\\\\\\\\\": 2}, {\\\\\\\\\\\\\\\"column\\\\\\\\\\\\\\\": {\\\\\\\\\\\\\\\"type\\\\\\\\\\\\\\\": 2, \\\\\\\\\\\\\\\"details\\\\\\\\\\\\\\\": {\\\\\\\\\\\\\\\"selectedColumn\\\\\\\\\\\\\\\": \\\\\\\\\\\\\\\"HLA_group_1_mismatched\\\\\\\\\\\\\\\"}}, \\\\\\\\\\\\\\\"typeProperty\\\\\\\\\\\\\\\": 2}, {\\\\\\\\\\\\\\\"column\\\\\\\\\\\\\\\": {\\\\\\\\\\\\\\\"type\\\\\\\\\\\\\\\": 2, \\\\\\\\\\\\\\\"details\\\\\\\\\\\\\\\": {\\\\\\\\\\\\\\\"selectedColumn\\\\\\\\\\\\\\\": \\\\\\\\\\\\\\\"HLA_group_1_one_allel\\\\\\\\\\\\\\\"}}, \\\\\\\\\\\\\\\"typeProperty\\\\\\\\\\\\\\\": 2}, {\\\\\\\\\\\\\\\"column\\\\\\\\\\\\\\\": {\\\\\\\\\\\\\\\"type\\\\\\\\\\\\\\\": 2, \\\\\\\\\\\\\\\"details\\\\\\\\\\\\\\\": {\\\\\\\\\\\\\\\"selectedColumn\\\\\\\\\\\\\\\": \\\\\\\\\\\\\\\"HLA_group_1_one_antigen\\\\\\\\\\\\\\\"}}, \\\\\\\\\\\\\\\"typeProperty\\\\\\\\\\\\\\\": 2}, {\\\\\\\\\\\\\\\"column\\\\\\\\\\\\\\\": {\\\\\\\\\\\\\\\"type\\\\\\\\\\\\\\\": 2, \\\\\\\\\\\\\\\"details\\\\\\\\\\\\\\\": {\\\\\\\\\\\\\\\"selectedColumn\\\\\\\\\\\\\\\": \\\\\\\\\\\\\\\"HLA_group_1_three_diffs\\\\\\\\\\\\\\\"}}, \\\\\\\\\\\\\\\"typeProperty\\\\\\\\\\\\\\\": 2}, {\\\\\\\\\\\\\\\"column\\\\\\\\\\\\\\\": {\\\\\\\\\\\\\\\"type\\\\\\\\\\\\\\\": 2, \\\\\\\\\\\\\\\"details\\\\\\\\\\\\\\\": {\\\\\\\\\\\\\\\"selectedColumn\\\\\\\\\\\\\\\": \\\\\\\\\\\\\\\"HLA_group_1_two_diffs\\\\\\\\\\\\\\\"}}, \\\\\\\\\\\\\\\"typeProperty\\\\\\\\\\\\\\\": 2}, {\\\\\\\\\\\\\\\"column\\\\\\\\\\\\\\\": {\\\\\\\\\\\\\\\"type\\\\\\\\\\\\\\\": 2, \\\\\\\\\\\\\\\"details\\\\\\\\\\\\\\\": {\\\\\\\\\\\\\\\"selectedColumn\\\\\\\\\\\\\\\": \\\\\\\\\\\\\\\"survival_status\\\\\\\\\\\\\\\"}}, \\\\\\\\\\\\\\\"typeProperty\\\\\\\\\\\\\\\": 2}]}, \\\\\\\\\\\\\\\"localData\\\\\\\\\\\\\\\": {}, \\\\\\\\\\\\\\\"isEnabled\\\\\\\\\\\\\\\": true, \\\\\\\\\\\\\\\"name\\\\\\\\\\\\\\\": null, \\\\\\\\\\\\\\\"annotation\\\\\\\\\\\\\\\": null}], \\\\\\\\\\\\\\\"inspectors\\\\\\\\\\\\\\\": [], \\\\\\\\\\\\\\\"meta\\\\\\\\\\\\\\\": {\\\\\\\\\\\\\\\"savedDatasetId\\\\\\\\\\\\\\\": \\\\\\\\\\\\\\\"0be337f7-dcc3-44ec-8923-50ed3d653b3a\\\\\\\\\\\\\\\", \\\\\\\\\\\\\\\"datasetType\\\\\\\\\\\\\\\": \\\\\\\\\\\\\\\"tabular\\\\\\\\\\\\\\\", \\\\\\\\\\\\\\\"subscriptionId\\\\\\\\\\\\\\\": \\\\\\\\\\\\\\\"19019985-4709-4996-8830-8568281fc2ff\\\\\\\\\\\\\\\", \\\\\\\\\\\\\\\"workspaceId\\\\\\\\\\\\\\\": \\\\\\\\\\\\\\\"dca4a2c1-b6e8-4e79-b460-b704a2f5b306\\\\\\\\\\\\\\\", \\\\\\\\\\\\\\\"workspaceLocation\\\\\\\\\\\\\\\": \\\\\\\\\\\\\\\"southcentralus\\\\\\\\\\\\\\\"}}\\\\\\\", \\\\\\\"activities\\\\\\\": 0}\", \"EnableSubsampling\": \"False\", \"runTemplate\": \"AutoML\", \"azureml.runsource\": \"automl\", \"display_task_type\": \"classification\", \"dependencies_versions\": \"{\\\"azureml-widgets\\\": \\\"1.18.0\\\", \\\"azureml-train\\\": \\\"1.18.0\\\", \\\"azureml-train-restclients-hyperdrive\\\": \\\"1.18.0\\\", \\\"azureml-train-core\\\": \\\"1.18.0\\\", \\\"azureml-train-automl\\\": \\\"1.18.0\\\", \\\"azureml-train-automl-runtime\\\": \\\"1.18.0\\\", \\\"azureml-train-automl-client\\\": \\\"1.18.0\\\", \\\"azureml-tensorboard\\\": \\\"1.18.0\\\", \\\"azureml-telemetry\\\": \\\"1.18.0\\\", \\\"azureml-sdk\\\": \\\"1.18.0\\\", \\\"azureml-samples\\\": \\\"0+unknown\\\", \\\"azureml-pipeline\\\": \\\"1.18.0\\\", \\\"azureml-pipeline-steps\\\": \\\"1.18.0\\\", \\\"azureml-pipeline-core\\\": \\\"1.18.0\\\", \\\"azureml-opendatasets\\\": \\\"1.18.0\\\", \\\"azureml-model-management-sdk\\\": \\\"1.0.1b6.post1\\\", \\\"azureml-mlflow\\\": \\\"1.18.0\\\", \\\"azureml-interpret\\\": \\\"1.18.0\\\", \\\"azureml-explain-model\\\": \\\"1.18.0\\\", \\\"azureml-defaults\\\": \\\"1.18.0\\\", \\\"azureml-dataset-runtime\\\": \\\"1.18.0\\\", \\\"azureml-dataprep\\\": \\\"2.4.2\\\", \\\"azureml-dataprep-rslex\\\": \\\"1.2.2\\\", \\\"azureml-dataprep-native\\\": \\\"24.0.0\\\", \\\"azureml-datadrift\\\": \\\"1.18.0\\\", \\\"azureml-core\\\": \\\"1.18.0\\\", \\\"azureml-contrib-services\\\": \\\"1.18.0\\\", \\\"azureml-contrib-server\\\": \\\"1.18.0\\\", \\\"azureml-contrib-reinforcementlearning\\\": \\\"1.18.0\\\", \\\"azureml-contrib-pipeline-steps\\\": \\\"1.18.0\\\", \\\"azureml-contrib-notebook\\\": \\\"1.18.0\\\", \\\"azureml-contrib-interpret\\\": \\\"1.18.0\\\", \\\"azureml-contrib-gbdt\\\": \\\"1.18.0\\\", \\\"azureml-contrib-fairness\\\": \\\"1.18.0\\\", \\\"azureml-contrib-dataset\\\": \\\"1.18.0\\\", \\\"azureml-cli-common\\\": \\\"1.18.0\\\", \\\"azureml-automl-runtime\\\": \\\"1.18.0\\\", \\\"azureml-automl-core\\\": \\\"1.18.0\\\", \\\"azureml-accel-models\\\": \\\"1.18.0\\\"}\", \"_aml_system_scenario_identification\": \"Remote.Parent\", \"ClientType\": \"SDK\", \"environment_cpu_name\": \"AzureML-AutoML\", \"environment_cpu_version\": \"44\", \"environment_gpu_name\": \"AzureML-AutoML-GPU\", \"environment_gpu_version\": \"32\", \"root_attribution\": \"automl\", \"attribution\": \"AutoML\", \"Orchestrator\": \"AutoML\", \"CancelUri\": \"https://southcentralus.experiments.azureml.net/jasmine/v1.0/subscriptions/19019985-4709-4996-8830-8568281fc2ff/resourceGroups/aml-quickstarts-128048/providers/Microsoft.MachineLearningServices/workspaces/quick-starts-ws-128048/experimentids/adbb713a-b4e3-4634-ac78-026a26860ea3/cancel/AutoML_44ab4b49-5388-4a58-9f4d-fcabc0546992\", \"ClientSdkVersion\": \"1.17.0\", \"snapshotId\": \"00000000-0000-0000-0000-000000000000\", \"SetupRunId\": \"AutoML_44ab4b49-5388-4a58-9f4d-fcabc0546992_setup\", \"SetupRunContainerId\": \"dcid.AutoML_44ab4b49-5388-4a58-9f4d-fcabc0546992_setup\", \"FeaturizationRunJsonPath\": \"featurizer_container.json\", \"FeaturizationRunId\": \"AutoML_44ab4b49-5388-4a58-9f4d-fcabc0546992_featurize\", \"ProblemInfoJsonString\": \"{\\\"dataset_num_categorical\\\": 0, \\\"is_sparse\\\": false, \\\"subsampling\\\": false, \\\"dataset_classes\\\": 2, \\\"dataset_features\\\": 77, \\\"dataset_samples\\\": 104, \\\"single_frequency_class_detected\\\": false}\", \"ModelExplainRunId\": \"AutoML_44ab4b49-5388-4a58-9f4d-fcabc0546992_ModelExplain\"}, \"tags\": {\"model_explain_run\": \"best_run\", \"_aml_system_azureml.automlComponent\": \"AutoML\", \"pipeline_id\": \"<c7af0367625be6ac5c2fecbfc72ed444cb7a2111>;<5dfac790c5c209f98a1da2dc1c7fb76f0397324f>;<f873311e8cfb2bcdbeb6c20367cf912f4ee6733e>;<713f188a27b176644f73e8664c667c674a2d3d62>;<47dd667bb7c34b68c9fffa6fd580565b1f85400f>;<b19eeb61727e9c4fbb5aa45fb6e9fe3fab5b1f04>;<cf1dc9b7ea4a50d759bce352343ec6737501695a>;<62c0e30b2e9113b3ecd95bcf5b31423c72074070>;<9e3f4780268658ad403e896559a8d3406152018c>;<e81d621ed176e5fac9def492d4ac54f304146b7c>;<59e4a1b86a57dfaeac5f3a051de6155ffc74f55b>;<a2983da01504b121cc4056d933a1191b51be87bc>;<a91f8b94ae9bf0dfc66e93d29d1ef41b7e2687f2>;<52ac74da744a165756acc49238b34b81115532fd>;<8de8c085d2a4b23d3f4cc392a2f2660d23d38c14>;<4d4be808b8b6dd0f67e8354c79eddd3d712440a5>;<80d7fafc6227885ab86e843212a0c5ea47a69004>;<d8d1a28b70a271fc16185d8e06b7faeee4bdd817>;<19bb9b610818186383462e6b1f9b568bc04b93e9>;<9845a0ba1345a7474c237d10111bcf5bccbb1f0e>;<f86e0c37319548491774cfe027df9161ae6eecd2>;<9fd7f177a78effac65f3f97ae40ca91e296c3f10>;<ce2643edf3d450b10c86c7d034a9bc952dc282d3>;<c7429113d717a6044b165823048687f69481b4cc>;<51ae05309834b29f71340af1008fc94fbd8213f4>;<f278b8166760d8a4636eeaac50616b8292d033b1>;<9945d10cda55998fa90958e83e28d2572cf56b48>;<be1ef63576c9bf239084ecda182b48071c3c26e3>;<__AutoML_Ensemble__>;<__AutoML_Stack_Ensemble__>;\", \"score\": \"<NaN>;<0.5966666666666667>;<0.6433333333333333>;<0.6833333333333333>;<0.6338095238095238>;<0.6742857142857144>;<0.6552380952380952>;<0.6342857142857142>;<0.6333333333333333>;<0.6333333333333333>;<0.6357142857142857>;<0.6038095238095238>;<0.6152380952380953>;<0.6528571428571428>;<0.6057142857142856>;<0.6719047619047618>;<0.6733333333333332>;<0.5866666666666667>;<0.6142857142857143>;<0.6328571428571429>;<0.6461904761904762>;<0.5952380952380952>;<0.6523809523809524>;<0.6742857142857144>;<0.6328571428571429>;<0.6747619047619048>;<0.7123809523809523>;<0.7023809523809523>;<0.7709523809523808>;<0.6742857142857144>;\", \"predicted_cost\": \"<0>;<0>;<0.5>;<0.007655200000000002>;<0.5>;<0.5>;<0.5>;<0.01589574289871593>;<0.014448395887916502>;<0.006658797079297918>;<0.008146472190707655>;<0.005291919467344041>;<0.008193610586156804>;<0.027096790806808567>;<0.019264628987378428>;<0.020638725120161645>;<0.018737643504104503>;<0.02493783303177454>;<0.005561292660305823>;<0.025700656218370935>;<0.022944308908860882>;<0.023566025138831555>;<0.0304101870093355>;<0.04564134648872175>;<0.026800628532230558>;<0.06250705997237989>;<0.04277851112132365>;<0.02308504560165544>;<0>;<0>;\", \"fit_time\": \"<NaN>;<0.024730000000000002>;<0.007655199999999999>;<0.020030199999999998>;<0.0039927999999999995>;<0.0208746>;<0.014444800000000002>;<0.06340599999999999>;<0.039028>;<0.0046370000000000005>;<0.013431799999999999>;<0.0045962>;<0.012344400000000002>;<0.0581302>;<0.0211926>;<0.049171200000000005>;<0.0175954>;<0.05982620000000001>;<0.004117600000000001>;<0.0478454>;<0.014574600000000002>;<0.04283719999999999>;<0.017674000000000002>;<0.2205976>;<0.020453199999999998>;<0.39636020000000005>;<0.014152599999999998>;<0.10801179999999999>;<24>;<25>;\", \"training_percent\": \"<100>;<100>;<100>;<100>;<100>;<100>;<100>;<100>;<100>;<100>;<100>;<100>;<100>;<100>;<100>;<100>;<100>;<100>;<100>;<100>;<100>;<100>;<100>;<100>;<100>;<100>;<100>;<100>;<100>;<100>;\", \"iteration\": \"<1>;<0>;<3>;<6>;<5>;<4>;<2>;<7>;<8>;<9>;<10>;<11>;<13>;<12>;<14>;<15>;<17>;<16>;<18>;<21>;<20>;<19>;<22>;<25>;<23>;<24>;<27>;<26>;<28>;<29>;\", \"run_preprocessor\": \"<>;<MaxAbsScaler>;<StandardScalerWrapper>;<StandardScalerWrapper>;<StandardScalerWrapper>;<MinMaxScaler>;<MinMaxScaler>;<RobustScaler>;<StandardScalerWrapper>;<StandardScalerWrapper>;<StandardScalerWrapper>;<MinMaxScaler>;<MinMaxScaler>;<RobustScaler>;<MinMaxScaler>;<MinMaxScaler>;<StandardScalerWrapper>;<MinMaxScaler>;<StandardScalerWrapper>;<MinMaxScaler>;<StandardScalerWrapper>;<RobustScaler>;<MaxAbsScaler>;<MaxAbsScaler>;<MaxAbsScaler>;<RobustScaler>;<MinMaxScaler>;<MinMaxScaler>;<>;<>;\", \"run_algorithm\": \"<>;<LightGBM>;<SGD>;<RandomForest>;<SGD>;<RandomForest>;<RandomForest>;<ExtremeRandomTrees>;<ExtremeRandomTrees>;<SGD>;<SGD>;<SGD>;<SGD>;<ExtremeRandomTrees>;<ExtremeRandomTrees>;<ExtremeRandomTrees>;<RandomForest>;<ExtremeRandomTrees>;<SGD>;<ExtremeRandomTrees>;<RandomForest>;<ExtremeRandomTrees>;<RandomForest>;<RandomForest>;<ExtremeRandomTrees>;<RandomForest>;<LightGBM>;<RandomForest>;<VotingEnsemble>;<StackEnsemble>;\", \"dynamic_whitelisting_iterations\": \"<24>;\", \"automl_best_child_run_id\": \"AutoML_44ab4b49-5388-4a58-9f4d-fcabc0546992_28\", \"model_explain_best_run_child_id\": \"AutoML_44ab4b49-5388-4a58-9f4d-fcabc0546992_28\"}, \"end_time_utc\": \"2020-11-27T06:23:14.150775Z\", \"status\": \"Completed\", \"log_files\": {}, \"log_groups\": [], \"run_duration\": \"0:26:55\"}, \"child_runs\": [{\"run_id\": \"AutoML_44ab4b49-5388-4a58-9f4d-fcabc0546992_2\", \"run_number\": 5, \"metric\": null, \"status\": \"Completed\", \"run_type\": \"azureml.scriptrun\", \"training_percent\": \"100\", \"start_time\": \"2020-11-27T06:10:26.611887Z\", \"end_time\": \"2020-11-27T06:13:41.1209Z\", \"created_time\": \"2020-11-27T06:07:07.033231Z\", \"created_time_dt\": \"2020-11-27T06:07:07.033231Z\", \"duration\": \"0:06:34\", \"iteration\": \"2\", \"goal\": \"accuracy_max\", \"run_name\": \"MinMaxScaler, RandomForest\", \"run_properties\": \"copy=True, feature_range=(0, 1\", \"primary_metric\": 0.6552381, \"best_metric\": 0.6552381}, {\"run_id\": \"AutoML_44ab4b49-5388-4a58-9f4d-fcabc0546992_3\", \"run_number\": 6, \"metric\": null, \"status\": \"Completed\", \"run_type\": \"azureml.scriptrun\", \"training_percent\": \"100\", \"start_time\": \"2020-11-27T06:10:08.598822Z\", \"end_time\": \"2020-11-27T06:10:35.622215Z\", \"created_time\": \"2020-11-27T06:07:07.058496Z\", \"created_time_dt\": \"2020-11-27T06:07:07.058496Z\", \"duration\": \"0:03:28\", \"iteration\": \"3\", \"goal\": \"accuracy_max\", \"run_name\": \"StandardScalerWrapper, SGD\", \"run_properties\": \"<azureml.automl.runtime.shared.model_wrappers.StandardScalerWrapper object at 0x7fc54868ae10\", \"primary_metric\": 0.64333333, \"best_metric\": 0.6552381}, {\"run_id\": \"AutoML_44ab4b49-5388-4a58-9f4d-fcabc0546992_0\", \"run_number\": 7, \"metric\": null, \"status\": \"Completed\", \"run_type\": \"azureml.scriptrun\", \"training_percent\": \"100\", \"start_time\": \"2020-11-27T06:07:54.702281Z\", \"end_time\": \"2020-11-27T06:09:16.286441Z\", \"created_time\": \"2020-11-27T06:07:07.05162Z\", \"created_time_dt\": \"2020-11-27T06:07:07.05162Z\", \"duration\": \"0:02:09\", \"iteration\": \"0\", \"goal\": \"accuracy_max\", \"run_name\": \"MaxAbsScaler, LightGBM\", \"run_properties\": \"copy=True\", \"primary_metric\": 0.59666667, \"best_metric\": 0.59666667}, {\"run_id\": \"AutoML_44ab4b49-5388-4a58-9f4d-fcabc0546992_1\", \"run_number\": 8, \"metric\": null, \"status\": \"Failed\", \"run_type\": null, \"training_percent\": \"100\", \"start_time\": \"2020-11-27T06:07:07.074162Z\", \"end_time\": \"2020-11-27T06:07:08.39392Z\", \"created_time\": \"2020-11-27T06:07:07.074162Z\", \"created_time_dt\": \"2020-11-27T06:07:07.074162Z\", \"duration\": \"0:00:01\", \"iteration\": \"1\", \"goal\": null, \"run_name\": \"Failed\", \"run_properties\": null}, {\"run_id\": \"AutoML_44ab4b49-5388-4a58-9f4d-fcabc0546992_4\", \"run_number\": 9, \"metric\": null, \"status\": \"Completed\", \"run_type\": \"azureml.scriptrun\", \"training_percent\": \"100\", \"start_time\": \"2020-11-27T06:10:31.95715Z\", \"end_time\": \"2020-11-27T06:13:48.911335Z\", \"created_time\": \"2020-11-27T06:07:22.819638Z\", \"created_time_dt\": \"2020-11-27T06:07:22.819638Z\", \"duration\": \"0:06:26\", \"iteration\": \"4\", \"goal\": \"accuracy_max\", \"run_name\": \"MinMaxScaler, RandomForest\", \"run_properties\": \"copy=True, feature_range=(0, 1\", \"primary_metric\": 0.67428571, \"best_metric\": 0.67428571}, {\"run_id\": \"AutoML_44ab4b49-5388-4a58-9f4d-fcabc0546992_5\", \"run_number\": 10, \"metric\": null, \"status\": \"Completed\", \"run_type\": \"azureml.scriptrun\", \"training_percent\": \"100\", \"start_time\": \"2020-11-27T06:10:23.636668Z\", \"end_time\": \"2020-11-27T06:13:43.702302Z\", \"created_time\": \"2020-11-27T06:09:22.855593Z\", \"created_time_dt\": \"2020-11-27T06:09:22.855593Z\", \"duration\": \"0:04:20\", \"iteration\": \"5\", \"goal\": \"accuracy_max\", \"run_name\": \"StandardScalerWrapper, SGD\", \"run_properties\": \"<azureml.automl.runtime.shared.model_wrappers.StandardScalerWrapper object at 0x7f48f21fcda0\", \"primary_metric\": 0.63380952, \"best_metric\": 0.67428571}, {\"run_id\": \"AutoML_44ab4b49-5388-4a58-9f4d-fcabc0546992_6\", \"run_number\": 11, \"metric\": null, \"status\": \"Completed\", \"run_type\": \"azureml.scriptrun\", \"training_percent\": \"100\", \"start_time\": \"2020-11-27T06:11:19.007883Z\", \"end_time\": \"2020-11-27T06:12:10.440687Z\", \"created_time\": \"2020-11-27T06:10:44.899135Z\", \"created_time_dt\": \"2020-11-27T06:10:44.899135Z\", \"duration\": \"0:01:25\", \"iteration\": \"6\", \"goal\": \"accuracy_max\", \"run_name\": \"StandardScalerWrapper, RandomForest\", \"run_properties\": \"<azureml.automl.runtime.shared.model_wrappers.StandardScalerWrapper object at 0x7fa848089c50\", \"primary_metric\": 0.68333333, \"best_metric\": 0.68333333}, {\"run_id\": \"AutoML_44ab4b49-5388-4a58-9f4d-fcabc0546992_7\", \"run_number\": 12, \"metric\": null, \"status\": \"Completed\", \"run_type\": \"azureml.scriptrun\", \"training_percent\": \"100\", \"start_time\": \"2020-11-27T06:13:02.241439Z\", \"end_time\": \"2020-11-27T06:14:32.450015Z\", \"created_time\": \"2020-11-27T06:12:19.364067Z\", \"created_time_dt\": \"2020-11-27T06:12:19.364067Z\", \"duration\": \"0:02:13\", \"iteration\": \"7\", \"goal\": \"accuracy_max\", \"run_name\": \"RobustScaler, ExtremeRandomTrees\", \"run_properties\": \"copy=True, quantile_range=[10, 90], with_centering=False,\\n             with_scaling=False\", \"primary_metric\": 0.63428571, \"best_metric\": 0.68333333}, {\"run_id\": \"AutoML_44ab4b49-5388-4a58-9f4d-fcabc0546992_8\", \"run_number\": 13, \"metric\": null, \"status\": \"Completed\", \"run_type\": \"azureml.scriptrun\", \"training_percent\": \"100\", \"start_time\": \"2020-11-27T06:14:19.223736Z\", \"end_time\": \"2020-11-27T06:15:01.207209Z\", \"created_time\": \"2020-11-27T06:13:52.539315Z\", \"created_time_dt\": \"2020-11-27T06:13:52.539315Z\", \"duration\": \"0:01:08\", \"iteration\": \"8\", \"goal\": \"accuracy_max\", \"run_name\": \"StandardScalerWrapper, ExtremeRandomTrees\", \"run_properties\": \"<azureml.automl.runtime.shared.model_wrappers.StandardScalerWrapper object at 0x7fc960082e48\", \"primary_metric\": 0.63333333, \"best_metric\": 0.68333333}, {\"run_id\": \"AutoML_44ab4b49-5388-4a58-9f4d-fcabc0546992_10\", \"run_number\": 14, \"metric\": null, \"status\": \"Completed\", \"run_type\": \"azureml.scriptrun\", \"training_percent\": \"100\", \"start_time\": \"2020-11-27T06:14:06.26283Z\", \"end_time\": \"2020-11-27T06:14:51.020005Z\", \"created_time\": \"2020-11-27T06:13:52.74046Z\", \"created_time_dt\": \"2020-11-27T06:13:52.74046Z\", \"duration\": \"0:00:58\", \"iteration\": \"10\", \"goal\": \"accuracy_max\", \"run_name\": \"StandardScalerWrapper, SGD\", \"run_properties\": \"<azureml.automl.runtime.shared.model_wrappers.StandardScalerWrapper object at 0x7f3e48e86048\", \"primary_metric\": 0.63571429, \"best_metric\": 0.68333333}, {\"run_id\": \"AutoML_44ab4b49-5388-4a58-9f4d-fcabc0546992_9\", \"run_number\": 15, \"metric\": null, \"status\": \"Completed\", \"run_type\": \"azureml.scriptrun\", \"training_percent\": \"100\", \"start_time\": \"2020-11-27T06:14:10.158633Z\", \"end_time\": \"2020-11-27T06:14:51.786086Z\", \"created_time\": \"2020-11-27T06:13:52.814946Z\", \"created_time_dt\": \"2020-11-27T06:13:52.814946Z\", \"duration\": \"0:00:58\", \"iteration\": \"9\", \"goal\": \"accuracy_max\", \"run_name\": \"StandardScalerWrapper, SGD\", \"run_properties\": \"<azureml.automl.runtime.shared.model_wrappers.StandardScalerWrapper object at 0x7f0b15416d68\", \"primary_metric\": 0.63333333, \"best_metric\": 0.68333333}, {\"run_id\": \"AutoML_44ab4b49-5388-4a58-9f4d-fcabc0546992_11\", \"run_number\": 16, \"metric\": null, \"status\": \"Completed\", \"run_type\": \"azureml.scriptrun\", \"training_percent\": \"100\", \"start_time\": \"2020-11-27T06:15:13.553067Z\", \"end_time\": \"2020-11-27T06:16:06.1112Z\", \"created_time\": \"2020-11-27T06:14:49.788941Z\", \"created_time_dt\": \"2020-11-27T06:14:49.788941Z\", \"duration\": \"0:01:16\", \"iteration\": \"11\", \"goal\": \"accuracy_max\", \"run_name\": \"MinMaxScaler, SGD\", \"run_properties\": \"copy=True, feature_range=(0, 1\", \"primary_metric\": 0.60380952, \"best_metric\": 0.68333333}, {\"run_id\": \"AutoML_44ab4b49-5388-4a58-9f4d-fcabc0546992_12\", \"run_number\": 17, \"metric\": null, \"status\": \"Completed\", \"run_type\": \"azureml.scriptrun\", \"training_percent\": \"100\", \"start_time\": \"2020-11-27T06:15:24.300121Z\", \"end_time\": \"2020-11-27T06:16:04.489392Z\", \"created_time\": \"2020-11-27T06:15:04.558093Z\", \"created_time_dt\": \"2020-11-27T06:15:04.558093Z\", \"duration\": \"0:00:59\", \"iteration\": \"12\", \"goal\": \"accuracy_max\", \"run_name\": \"RobustScaler, ExtremeRandomTrees\", \"run_properties\": \"copy=True, quantile_range=[10, 90], with_centering=False,\\n             with_scaling=False\", \"primary_metric\": 0.65285714, \"best_metric\": 0.68333333}, {\"run_id\": \"AutoML_44ab4b49-5388-4a58-9f4d-fcabc0546992_14\", \"run_number\": 18, \"metric\": null, \"status\": \"Completed\", \"run_type\": \"azureml.scriptrun\", \"training_percent\": \"100\", \"start_time\": \"2020-11-27T06:15:33.749372Z\", \"end_time\": \"2020-11-27T06:16:18.196058Z\", \"created_time\": \"2020-11-27T06:15:04.620122Z\", \"created_time_dt\": \"2020-11-27T06:15:04.620122Z\", \"duration\": \"0:01:13\", \"iteration\": \"14\", \"goal\": \"accuracy_max\", \"run_name\": \"MinMaxScaler, ExtremeRandomTrees\", \"run_properties\": \"copy=True, feature_range=(0, 1\", \"primary_metric\": 0.60571429, \"best_metric\": 0.68333333}, {\"run_id\": \"AutoML_44ab4b49-5388-4a58-9f4d-fcabc0546992_13\", \"run_number\": 19, \"metric\": null, \"status\": \"Completed\", \"run_type\": \"azureml.scriptrun\", \"training_percent\": \"100\", \"start_time\": \"2020-11-27T06:15:21.941105Z\", \"end_time\": \"2020-11-27T06:16:03.840462Z\", \"created_time\": \"2020-11-27T06:15:04.73455Z\", \"created_time_dt\": \"2020-11-27T06:15:04.73455Z\", \"duration\": \"0:00:59\", \"iteration\": \"13\", \"goal\": \"accuracy_max\", \"run_name\": \"MinMaxScaler, SGD\", \"run_properties\": \"copy=True, feature_range=(0, 1\", \"primary_metric\": 0.6152381, \"best_metric\": 0.68333333}, {\"run_id\": \"AutoML_44ab4b49-5388-4a58-9f4d-fcabc0546992_15\", \"run_number\": 20, \"metric\": null, \"status\": \"Completed\", \"run_type\": \"azureml.scriptrun\", \"training_percent\": \"100\", \"start_time\": \"2020-11-27T06:16:27.637476Z\", \"end_time\": \"2020-11-27T06:17:11.161541Z\", \"created_time\": \"2020-11-27T06:16:15.532714Z\", \"created_time_dt\": \"2020-11-27T06:16:15.532714Z\", \"duration\": \"0:00:55\", \"iteration\": \"15\", \"goal\": \"accuracy_max\", \"run_name\": \"MinMaxScaler, ExtremeRandomTrees\", \"run_properties\": \"copy=True, feature_range=(0, 1\", \"primary_metric\": 0.67190476, \"best_metric\": 0.68333333}, {\"run_id\": \"AutoML_44ab4b49-5388-4a58-9f4d-fcabc0546992_17\", \"run_number\": 21, \"metric\": null, \"status\": \"Completed\", \"run_type\": \"azureml.scriptrun\", \"training_percent\": \"100\", \"start_time\": \"2020-11-27T06:16:28.436287Z\", \"end_time\": \"2020-11-27T06:17:15.76242Z\", \"created_time\": \"2020-11-27T06:16:15.579511Z\", \"created_time_dt\": \"2020-11-27T06:16:15.579511Z\", \"duration\": \"0:01:00\", \"iteration\": \"17\", \"goal\": \"accuracy_max\", \"run_name\": \"StandardScalerWrapper, RandomForest\", \"run_properties\": \"<azureml.automl.runtime.shared.model_wrappers.StandardScalerWrapper object at 0x7ff2c7a580f0\", \"primary_metric\": 0.67333333, \"best_metric\": 0.68333333}, {\"run_id\": \"AutoML_44ab4b49-5388-4a58-9f4d-fcabc0546992_16\", \"run_number\": 22, \"metric\": null, \"status\": \"Completed\", \"run_type\": \"azureml.scriptrun\", \"training_percent\": \"100\", \"start_time\": \"2020-11-27T06:16:30.162467Z\", \"end_time\": \"2020-11-27T06:17:21.697025Z\", \"created_time\": \"2020-11-27T06:16:15.597061Z\", \"created_time_dt\": \"2020-11-27T06:16:15.597061Z\", \"duration\": \"0:01:06\", \"iteration\": \"16\", \"goal\": \"accuracy_max\", \"run_name\": \"MinMaxScaler, ExtremeRandomTrees\", \"run_properties\": \"copy=True, feature_range=(0, 1\", \"primary_metric\": 0.58666667, \"best_metric\": 0.68333333}, {\"run_id\": \"AutoML_44ab4b49-5388-4a58-9f4d-fcabc0546992_18\", \"run_number\": 23, \"metric\": null, \"status\": \"Completed\", \"run_type\": \"azureml.scriptrun\", \"training_percent\": \"100\", \"start_time\": \"2020-11-27T06:17:46.549392Z\", \"end_time\": \"2020-11-27T06:18:28.044388Z\", \"created_time\": \"2020-11-27T06:16:32.700902Z\", \"created_time_dt\": \"2020-11-27T06:16:32.700902Z\", \"duration\": \"0:01:55\", \"iteration\": \"18\", \"goal\": \"accuracy_max\", \"run_name\": \"StandardScalerWrapper, SGD\", \"run_properties\": \"<azureml.automl.runtime.shared.model_wrappers.StandardScalerWrapper object at 0x7f9dd18e2ba8\", \"primary_metric\": 0.61428571, \"best_metric\": 0.68333333}, {\"run_id\": \"AutoML_44ab4b49-5388-4a58-9f4d-fcabc0546992_19\", \"run_number\": 24, \"metric\": null, \"status\": \"Completed\", \"run_type\": \"azureml.scriptrun\", \"training_percent\": \"100\", \"start_time\": \"2020-11-27T06:18:01.273966Z\", \"end_time\": \"2020-11-27T06:18:59.913699Z\", \"created_time\": \"2020-11-27T06:17:22.69262Z\", \"created_time_dt\": \"2020-11-27T06:17:22.69262Z\", \"duration\": \"0:01:37\", \"iteration\": \"19\", \"goal\": \"accuracy_max\", \"run_name\": \"RobustScaler, ExtremeRandomTrees\", \"run_properties\": \"copy=True, quantile_range=[25, 75], with_centering=True,\\n             with_scaling=False\", \"primary_metric\": 0.5952381, \"best_metric\": 0.68333333}, {\"run_id\": \"AutoML_44ab4b49-5388-4a58-9f4d-fcabc0546992_20\", \"run_number\": 25, \"metric\": null, \"status\": \"Completed\", \"run_type\": \"azureml.scriptrun\", \"training_percent\": \"100\", \"start_time\": \"2020-11-27T06:18:38.865331Z\", \"end_time\": \"2020-11-27T06:19:05.227109Z\", \"created_time\": \"2020-11-27T06:17:22.828749Z\", \"created_time_dt\": \"2020-11-27T06:17:22.828749Z\", \"duration\": \"0:01:42\", \"iteration\": \"20\", \"goal\": \"accuracy_max\", \"run_name\": \"StandardScalerWrapper, RandomForest\", \"run_properties\": \"<azureml.automl.runtime.shared.model_wrappers.StandardScalerWrapper object at 0x7f834a9f4080\", \"primary_metric\": 0.64619048, \"best_metric\": 0.68333333}, {\"run_id\": \"AutoML_44ab4b49-5388-4a58-9f4d-fcabc0546992_21\", \"run_number\": 26, \"metric\": null, \"status\": \"Completed\", \"run_type\": \"azureml.scriptrun\", \"training_percent\": \"100\", \"start_time\": \"2020-11-27T06:18:12.297826Z\", \"end_time\": \"2020-11-27T06:18:45.950503Z\", \"created_time\": \"2020-11-27T06:17:38.899643Z\", \"created_time_dt\": \"2020-11-27T06:17:38.899643Z\", \"duration\": \"0:01:07\", \"iteration\": \"21\", \"goal\": \"accuracy_max\", \"run_name\": \"MinMaxScaler, ExtremeRandomTrees\", \"run_properties\": \"copy=True, feature_range=(0, 1\", \"primary_metric\": 0.63285714, \"best_metric\": 0.68333333}, {\"run_id\": \"AutoML_44ab4b49-5388-4a58-9f4d-fcabc0546992_22\", \"run_number\": 27, \"metric\": null, \"status\": \"Completed\", \"run_type\": \"azureml.scriptrun\", \"training_percent\": \"100\", \"start_time\": \"2020-11-27T06:19:00.621926Z\", \"end_time\": \"2020-11-27T06:19:46.201342Z\", \"created_time\": \"2020-11-27T06:18:38.429176Z\", \"created_time_dt\": \"2020-11-27T06:18:38.429176Z\", \"duration\": \"0:01:07\", \"iteration\": \"22\", \"goal\": \"accuracy_max\", \"run_name\": \"MaxAbsScaler, RandomForest\", \"run_properties\": \"copy=True\", \"primary_metric\": 0.65238095, \"best_metric\": 0.68333333}, {\"run_id\": \"AutoML_44ab4b49-5388-4a58-9f4d-fcabc0546992_23\", \"run_number\": 28, \"metric\": null, \"status\": \"Completed\", \"run_type\": \"azureml.scriptrun\", \"training_percent\": \"100\", \"start_time\": \"2020-11-27T06:19:46.078229Z\", \"end_time\": \"2020-11-27T06:20:36.914527Z\", \"created_time\": \"2020-11-27T06:18:55.773527Z\", \"created_time_dt\": \"2020-11-27T06:18:55.773527Z\", \"duration\": \"0:01:41\", \"iteration\": \"23\", \"goal\": \"accuracy_max\", \"run_name\": \"MaxAbsScaler, ExtremeRandomTrees\", \"run_properties\": \"copy=True\", \"primary_metric\": 0.63285714, \"best_metric\": 0.68333333}, {\"run_id\": \"AutoML_44ab4b49-5388-4a58-9f4d-fcabc0546992_24\", \"run_number\": 29, \"metric\": null, \"status\": \"Completed\", \"run_type\": \"azureml.scriptrun\", \"training_percent\": \"100\", \"start_time\": \"2020-11-27T06:20:14.265549Z\", \"end_time\": \"2020-11-27T06:20:45.504237Z\", \"created_time\": \"2020-11-27T06:19:43.298434Z\", \"created_time_dt\": \"2020-11-27T06:19:43.298434Z\", \"duration\": \"0:01:02\", \"iteration\": \"24\", \"goal\": \"accuracy_max\", \"run_name\": \"RobustScaler, RandomForest\", \"run_properties\": \"copy=True, quantile_range=[25, 75], with_centering=True,\\n             with_scaling=False\", \"primary_metric\": 0.6747619, \"best_metric\": 0.68333333}, {\"run_id\": \"AutoML_44ab4b49-5388-4a58-9f4d-fcabc0546992_25\", \"run_number\": 30, \"metric\": null, \"status\": \"Completed\", \"run_type\": \"azureml.scriptrun\", \"training_percent\": \"100\", \"start_time\": \"2020-11-27T06:19:55.876352Z\", \"end_time\": \"2020-11-27T06:20:40.029103Z\", \"created_time\": \"2020-11-27T06:19:43.399842Z\", \"created_time_dt\": \"2020-11-27T06:19:43.399842Z\", \"duration\": \"0:00:56\", \"iteration\": \"25\", \"goal\": \"accuracy_max\", \"run_name\": \"MaxAbsScaler, RandomForest\", \"run_properties\": \"copy=True\", \"primary_metric\": 0.67428571, \"best_metric\": 0.68333333}, {\"run_id\": \"AutoML_44ab4b49-5388-4a58-9f4d-fcabc0546992_26\", \"run_number\": 31, \"metric\": null, \"status\": \"Completed\", \"run_type\": \"azureml.scriptrun\", \"training_percent\": \"100\", \"start_time\": \"2020-11-27T06:20:35.190686Z\", \"end_time\": \"2020-11-27T06:21:12.757859Z\", \"created_time\": \"2020-11-27T06:20:02.319264Z\", \"created_time_dt\": \"2020-11-27T06:20:02.319264Z\", \"duration\": \"0:01:10\", \"iteration\": \"26\", \"goal\": \"accuracy_max\", \"run_name\": \"MinMaxScaler, RandomForest\", \"run_properties\": \"copy=True, feature_range=(0, 1\", \"primary_metric\": 0.70238095, \"best_metric\": 0.70238095}, {\"run_id\": \"AutoML_44ab4b49-5388-4a58-9f4d-fcabc0546992_27\", \"run_number\": 32, \"metric\": null, \"status\": \"Completed\", \"run_type\": \"azureml.scriptrun\", \"training_percent\": \"100\", \"start_time\": \"2020-11-27T06:21:27.711239Z\", \"end_time\": \"2020-11-27T06:21:50.676368Z\", \"created_time\": \"2020-11-27T06:20:45.461151Z\", \"created_time_dt\": \"2020-11-27T06:20:45.461151Z\", \"duration\": \"0:01:05\", \"iteration\": \"27\", \"goal\": \"accuracy_max\", \"run_name\": \"MinMaxScaler, LightGBM\", \"run_properties\": \"copy=True, feature_range=(0, 1\", \"primary_metric\": 0.71238095, \"best_metric\": 0.71238095}, {\"run_id\": \"AutoML_44ab4b49-5388-4a58-9f4d-fcabc0546992_29\", \"run_number\": 33, \"metric\": null, \"status\": \"Completed\", \"run_type\": \"azureml.scriptrun\", \"training_percent\": \"100\", \"start_time\": \"2020-11-27T06:22:09.379691Z\", \"end_time\": \"2020-11-27T06:23:06.908324Z\", \"created_time\": \"2020-11-27T06:21:52.839747Z\", \"created_time_dt\": \"2020-11-27T06:21:52.839747Z\", \"duration\": \"0:01:14\", \"iteration\": \"29\", \"goal\": \"accuracy_max\", \"run_name\": \"StackEnsemble\", \"run_properties\": \"base_learners=[('27',\\n                                        Pipeline(memory=None,\\n                                                 steps=[('minmaxscaler',\\n                                                         MinMaxScaler(copy=True,\\n                                                                      feature_range=(0,\\n                                                                                     1\", \"primary_metric\": 0.67428571, \"best_metric\": 0.77095238}, {\"run_id\": \"AutoML_44ab4b49-5388-4a58-9f4d-fcabc0546992_28\", \"run_number\": 34, \"metric\": null, \"status\": \"Completed\", \"run_type\": \"azureml.scriptrun\", \"training_percent\": \"100\", \"start_time\": \"2020-11-27T06:22:05.548159Z\", \"end_time\": \"2020-11-27T06:22:58.108Z\", \"created_time\": \"2020-11-27T06:21:52.885406Z\", \"created_time_dt\": \"2020-11-27T06:21:52.885406Z\", \"duration\": \"0:01:05\", \"iteration\": \"28\", \"goal\": \"accuracy_max\", \"run_name\": \"VotingEnsemble\", \"run_properties\": \"classification_labels=None,\\n                              estimators=[('27',\\n                                           Pipeline(memory=None,\\n                                                    steps=[('minmaxscaler',\\n                                                            MinMaxScaler(copy=True,\\n                                                                         feature_range=(0,\\n                                                                                        1\", \"primary_metric\": 0.77095238, \"best_metric\": 0.77095238}], \"children_metrics\": {\"categories\": [0], \"series\": {\"log_loss\": [{\"categories\": [\"0\", \"2\", \"3\", \"4\", \"5\", \"6\", \"7\", \"8\", \"9\", \"10\", \"11\", \"12\", \"13\", \"14\", \"15\", \"16\", \"17\", \"18\", \"19\", \"20\", \"21\", \"22\", \"23\", \"24\", \"25\", \"26\", \"27\", \"28\", \"29\"], \"mode\": \"markers\", \"name\": \"log_loss\", \"stepped\": false, \"type\": \"scatter\", \"data\": [0.8390074678394399, 0.6637151050281143, 1.0779082533509776, 0.6168377808191637, 0.6558531485050507, 0.9258160971395204, 0.6220114771515786, 0.6544130401327035, 2.870727499345171, 0.6503867097057199, 0.6822119808549025, 0.657205973854612, 0.7411033753412113, 0.6541622795202598, 0.6072498365364521, 0.6886626809460425, 0.6356412808373387, 0.6627715224774805, 0.6506743034655779, 0.6391622134327456, 0.6222658549889021, 0.6336673949916642, 0.6685398235624708, 0.6377873523632334, 0.6267537507112835, 0.6250192606768058, 0.5810253909030862, 0.598529484928641, 0.6334523892185293]}, {\"categories\": [\"0\", \"2\", \"3\", \"4\", \"5\", \"6\", \"7\", \"8\", \"9\", \"10\", \"11\", \"12\", \"13\", \"14\", \"15\", \"16\", \"17\", \"18\", \"19\", \"20\", \"21\", \"22\", \"23\", \"24\", \"25\", \"26\", \"27\", \"28\", \"29\"], \"mode\": \"lines\", \"name\": \"log_loss_min\", \"stepped\": true, \"type\": \"scatter\", \"data\": [0.8390074678394399, 0.6637151050281143, 0.6637151050281143, 0.6168377808191637, 0.6168377808191637, 0.6168377808191637, 0.6168377808191637, 0.6168377808191637, 0.6168377808191637, 0.6168377808191637, 0.6168377808191637, 0.6168377808191637, 0.6168377808191637, 0.6168377808191637, 0.6072498365364521, 0.6072498365364521, 0.6072498365364521, 0.6072498365364521, 0.6072498365364521, 0.6072498365364521, 0.6072498365364521, 0.6072498365364521, 0.6072498365364521, 0.6072498365364521, 0.6072498365364521, 0.6072498365364521, 0.5810253909030862, 0.5810253909030862, 0.5810253909030862]}], \"AUC_weighted\": [{\"categories\": [\"0\", \"2\", \"3\", \"4\", \"5\", \"6\", \"7\", \"8\", \"9\", \"10\", \"11\", \"12\", \"13\", \"14\", \"15\", \"16\", \"17\", \"18\", \"19\", \"20\", \"21\", \"22\", \"23\", \"24\", \"25\", \"26\", \"27\", \"28\", \"29\"], \"mode\": \"markers\", \"name\": \"AUC_weighted\", \"stepped\": false, \"type\": \"scatter\", \"data\": [0.5617803485030376, 0.5576360241066123, 0.6983125371360666, 0.6126278390143938, 0.7083786241769434, 0.6768142408478542, 0.6694132198333881, 0.6405187529557277, 0.6904921968787514, 0.616515697187966, 0.6807033116276814, 0.6451516364121407, 0.575457576970182, 0.6666923739192647, 0.6725051838917385, 0.568531170043775, 0.64025707252598, 0.6894876738574217, 0.6678906714200832, 0.620454242302982, 0.6888200128536263, 0.6651526064971444, 0.6972074890562286, 0.616506481380431, 0.6545847429881043, 0.6239099276074066, 0.7249949676840434, 0.7271179987146373, 0.6964004995937769]}, {\"categories\": [\"0\", \"2\", \"3\", \"4\", \"5\", \"6\", \"7\", \"8\", \"9\", \"10\", \"11\", \"12\", \"13\", \"14\", \"15\", \"16\", \"17\", \"18\", \"19\", \"20\", \"21\", \"22\", \"23\", \"24\", \"25\", \"26\", \"27\", \"28\", \"29\"], \"mode\": \"lines\", \"name\": \"AUC_weighted_max\", \"stepped\": true, \"type\": \"scatter\", \"data\": [0.5617803485030376, 0.5617803485030376, 0.6983125371360666, 0.6983125371360666, 0.7083786241769434, 0.7083786241769434, 0.7083786241769434, 0.7083786241769434, 0.7083786241769434, 0.7083786241769434, 0.7083786241769434, 0.7083786241769434, 0.7083786241769434, 0.7083786241769434, 0.7083786241769434, 0.7083786241769434, 0.7083786241769434, 0.7083786241769434, 0.7083786241769434, 0.7083786241769434, 0.7083786241769434, 0.7083786241769434, 0.7083786241769434, 0.7083786241769434, 0.7083786241769434, 0.7083786241769434, 0.7249949676840434, 0.7271179987146373, 0.7271179987146373]}], \"precision_score_weighted\": [{\"categories\": [\"0\", \"2\", \"3\", \"4\", \"5\", \"6\", \"7\", \"8\", \"9\", \"10\", \"11\", \"12\", \"13\", \"14\", \"15\", \"16\", \"17\", \"18\", \"19\", \"20\", \"21\", \"22\", \"23\", \"24\", \"25\", \"26\", \"27\", \"28\", \"29\"], \"mode\": \"markers\", \"name\": \"precision_score_weighted\", \"stepped\": false, \"type\": \"scatter\", \"data\": [0.6146685340802988, 0.6219883040935672, 0.6736956964604023, 0.6736313004734058, 0.7187494912494913, 0.7101981946624804, 0.6639665563194975, 0.6861114748929875, 0.6810941346235463, 0.512796127222819, 0.6938266178266179, 0.7008310657596372, 0.567876726448155, 0.6445872256398573, 0.7639964699330024, 0.5870291146761735, 0.6908936566079422, 0.7041921041921042, 0.6366123419064595, 0.6641369047619048, 0.7497354497354498, 0.7082187208502998, 0.7097584033613445, 0.4696700680272109, 0.5919536937582051, 0.754605365538028, 0.7178111946532999, 0.8406678051337494, 0.5791383219954648]}, {\"categories\": [\"0\", \"2\", \"3\", \"4\", \"5\", \"6\", \"7\", \"8\", \"9\", \"10\", \"11\", \"12\", \"13\", \"14\", \"15\", \"16\", \"17\", \"18\", \"19\", \"20\", \"21\", \"22\", \"23\", \"24\", \"25\", \"26\", \"27\", \"28\", \"29\"], \"mode\": \"lines\", \"name\": \"precision_score_weighted_max\", \"stepped\": true, \"type\": \"scatter\", \"data\": [0.6146685340802988, 0.6219883040935672, 0.6736956964604023, 0.6736956964604023, 0.7187494912494913, 0.7187494912494913, 0.7187494912494913, 0.7187494912494913, 0.7187494912494913, 0.7187494912494913, 0.7187494912494913, 0.7187494912494913, 0.7187494912494913, 0.7187494912494913, 0.7639964699330024, 0.7639964699330024, 0.7639964699330024, 0.7639964699330024, 0.7639964699330024, 0.7639964699330024, 0.7639964699330024, 0.7639964699330024, 0.7639964699330024, 0.7639964699330024, 0.7639964699330024, 0.7639964699330024, 0.7639964699330024, 0.8406678051337494, 0.8406678051337494]}], \"recall_score_macro\": [{\"categories\": [\"0\", \"2\", \"3\", \"4\", \"5\", \"6\", \"7\", \"8\", \"9\", \"10\", \"11\", \"12\", \"13\", \"14\", \"15\", \"16\", \"17\", \"18\", \"19\", \"20\", \"21\", \"22\", \"23\", \"24\", \"25\", \"26\", \"27\", \"28\", \"29\"], \"mode\": \"markers\", \"name\": \"recall_score_macro\", \"stepped\": false, \"type\": \"scatter\", \"data\": [0.5547491723962312, 0.542131398013751, 0.59467277820219, 0.5587547746371276, 0.6649809014514897, 0.6660860707919531, 0.5727196333078687, 0.5953705118411001, 0.5858899923605806, 0.5094957983193277, 0.6135243188184364, 0.6245861981156099, 0.5745378151260504, 0.5307715813598166, 0.6390934555640438, 0.5255334861217215, 0.6119251336898396, 0.6377132671250317, 0.556366182836771, 0.5950751209574738, 0.6425668449197861, 0.6058034122740004, 0.6123020117137764, 0.5, 0.5429971988795519, 0.6038680926916221, 0.6116119174942705, 0.7179704609116374, 0.5907563025210083]}, {\"categories\": [\"0\", \"2\", \"3\", \"4\", \"5\", \"6\", \"7\", \"8\", \"9\", \"10\", \"11\", \"12\", \"13\", \"14\", \"15\", \"16\", \"17\", \"18\", \"19\", \"20\", \"21\", \"22\", \"23\", \"24\", \"25\", \"26\", \"27\", \"28\", \"29\"], \"mode\": \"lines\", \"name\": \"recall_score_macro_max\", \"stepped\": true, \"type\": \"scatter\", \"data\": [0.5547491723962312, 0.5547491723962312, 0.59467277820219, 0.59467277820219, 0.6649809014514897, 0.6660860707919531, 0.6660860707919531, 0.6660860707919531, 0.6660860707919531, 0.6660860707919531, 0.6660860707919531, 0.6660860707919531, 0.6660860707919531, 0.6660860707919531, 0.6660860707919531, 0.6660860707919531, 0.6660860707919531, 0.6660860707919531, 0.6660860707919531, 0.6660860707919531, 0.6660860707919531, 0.6660860707919531, 0.6660860707919531, 0.6660860707919531, 0.6660860707919531, 0.6660860707919531, 0.6660860707919531, 0.7179704609116374, 0.7179704609116374]}], \"norm_macro_recall\": [{\"categories\": [\"0\", \"2\", \"3\", \"4\", \"5\", \"6\", \"7\", \"8\", \"9\", \"10\", \"11\", \"12\", \"13\", \"14\", \"15\", \"16\", \"17\", \"18\", \"19\", \"20\", \"21\", \"22\", \"23\", \"24\", \"25\", \"26\", \"27\", \"28\", \"29\"], \"mode\": \"markers\", \"name\": \"norm_macro_recall\", \"stepped\": false, \"type\": \"scatter\", \"data\": [0.19417366946778714, 0.11283422459893044, 0.20363127069009418, 0.119327731092437, 0.3299618029029794, 0.33217214158390634, 0.14543926661573722, 0.19074102368220017, 0.18606569900687547, 0.0456582633053221, 0.22704863763687294, 0.24917239623121973, 0.14907563025210085, 0.09011459129106188, 0.27818691112808763, 0.12240896358543418, 0.2238502673796791, 0.2754265342500636, 0.14797046091163737, 0.20443595620066204, 0.2851336898395722, 0.21887955182072827, 0.22460402342755287, 0.0, 0.0859943977591036, 0.20773618538324418, 0.2250420168067227, 0.4359409218232747, 0.18151260504201677]}, {\"categories\": [\"0\", \"2\", \"3\", \"4\", \"5\", \"6\", \"7\", \"8\", \"9\", \"10\", \"11\", \"12\", \"13\", \"14\", \"15\", \"16\", \"17\", \"18\", \"19\", \"20\", \"21\", \"22\", \"23\", \"24\", \"25\", \"26\", \"27\", \"28\", \"29\"], \"mode\": \"lines\", \"name\": \"norm_macro_recall_max\", \"stepped\": true, \"type\": \"scatter\", \"data\": [0.19417366946778714, 0.19417366946778714, 0.20363127069009418, 0.20363127069009418, 0.3299618029029794, 0.33217214158390634, 0.33217214158390634, 0.33217214158390634, 0.33217214158390634, 0.33217214158390634, 0.33217214158390634, 0.33217214158390634, 0.33217214158390634, 0.33217214158390634, 0.33217214158390634, 0.33217214158390634, 0.33217214158390634, 0.33217214158390634, 0.33217214158390634, 0.33217214158390634, 0.33217214158390634, 0.33217214158390634, 0.33217214158390634, 0.33217214158390634, 0.33217214158390634, 0.33217214158390634, 0.33217214158390634, 0.4359409218232747, 0.4359409218232747]}], \"average_precision_score_micro\": [{\"categories\": [\"0\", \"2\", \"3\", \"4\", \"5\", \"6\", \"7\", \"8\", \"9\", \"10\", \"11\", \"12\", \"13\", \"14\", \"15\", \"16\", \"17\", \"18\", \"19\", \"20\", \"21\", \"22\", \"23\", \"24\", \"25\", \"26\", \"27\", \"28\", \"29\"], \"mode\": \"markers\", \"name\": \"average_precision_score_micro\", \"stepped\": false, \"type\": \"scatter\", \"data\": [0.6541550390517733, 0.6741925036638563, 0.7343690703060274, 0.7191792057612295, 0.6802274982264229, 0.7158026464011639, 0.7360926790335587, 0.6927342475894097, 0.6873334313535521, 0.7259772351814243, 0.6649806950946544, 0.6563130475208157, 0.6302030813484564, 0.7042270030654441, 0.7354037575657072, 0.659183817670093, 0.7010439861956689, 0.6577663951340917, 0.7175765464329744, 0.6837746846960606, 0.7032775917234264, 0.6772640905882654, 0.7473964985615436, 0.7347251691692375, 0.7397243122324009, 0.7285807112926972, 0.7775888823044441, 0.7647503056132092, 0.7299501363187478]}, {\"categories\": [\"0\", \"2\", \"3\", \"4\", \"5\", \"6\", \"7\", \"8\", \"9\", \"10\", \"11\", \"12\", \"13\", \"14\", \"15\", \"16\", \"17\", \"18\", \"19\", \"20\", \"21\", \"22\", \"23\", \"24\", \"25\", \"26\", \"27\", \"28\", \"29\"], \"mode\": \"lines\", \"name\": \"average_precision_score_micro_max\", \"stepped\": true, \"type\": \"scatter\", \"data\": [0.6541550390517733, 0.6741925036638563, 0.7343690703060274, 0.7343690703060274, 0.7343690703060274, 0.7343690703060274, 0.7360926790335587, 0.7360926790335587, 0.7360926790335587, 0.7360926790335587, 0.7360926790335587, 0.7360926790335587, 0.7360926790335587, 0.7360926790335587, 0.7360926790335587, 0.7360926790335587, 0.7360926790335587, 0.7360926790335587, 0.7360926790335587, 0.7360926790335587, 0.7360926790335587, 0.7360926790335587, 0.7473964985615436, 0.7473964985615436, 0.7473964985615436, 0.7473964985615436, 0.7775888823044441, 0.7775888823044441, 0.7775888823044441]}], \"accuracy\": [{\"categories\": [\"0\", \"2\", \"3\", \"4\", \"5\", \"6\", \"7\", \"8\", \"9\", \"10\", \"11\", \"12\", \"13\", \"14\", \"15\", \"16\", \"17\", \"18\", \"19\", \"20\", \"21\", \"22\", \"23\", \"24\", \"25\", \"26\", \"27\", \"28\", \"29\"], \"mode\": \"markers\", \"name\": \"accuracy\", \"stepped\": false, \"type\": \"scatter\", \"data\": [0.5966666666666667, 0.6552380952380952, 0.6433333333333333, 0.6742857142857144, 0.6338095238095238, 0.6833333333333333, 0.6342857142857142, 0.6333333333333333, 0.6333333333333333, 0.6357142857142857, 0.6038095238095238, 0.6528571428571428, 0.6152380952380953, 0.6057142857142856, 0.6719047619047618, 0.5866666666666667, 0.6733333333333332, 0.6142857142857143, 0.5952380952380952, 0.6461904761904762, 0.6328571428571429, 0.6523809523809524, 0.6328571428571429, 0.6747619047619048, 0.6742857142857144, 0.7023809523809523, 0.7123809523809523, 0.7709523809523808, 0.6742857142857144]}, {\"categories\": [\"0\", \"2\", \"3\", \"4\", \"5\", \"6\", \"7\", \"8\", \"9\", \"10\", \"11\", \"12\", \"13\", \"14\", \"15\", \"16\", \"17\", \"18\", \"19\", \"20\", \"21\", \"22\", \"23\", \"24\", \"25\", \"26\", \"27\", \"28\", \"29\"], \"mode\": \"lines\", \"name\": \"accuracy_max\", \"stepped\": true, \"type\": \"scatter\", \"data\": [0.5966666666666667, 0.6552380952380952, 0.6552380952380952, 0.6742857142857144, 0.6742857142857144, 0.6833333333333333, 0.6833333333333333, 0.6833333333333333, 0.6833333333333333, 0.6833333333333333, 0.6833333333333333, 0.6833333333333333, 0.6833333333333333, 0.6833333333333333, 0.6833333333333333, 0.6833333333333333, 0.6833333333333333, 0.6833333333333333, 0.6833333333333333, 0.6833333333333333, 0.6833333333333333, 0.6833333333333333, 0.6833333333333333, 0.6833333333333333, 0.6833333333333333, 0.7023809523809523, 0.7123809523809523, 0.7709523809523808, 0.7709523809523808]}], \"average_precision_score_macro\": [{\"categories\": [\"0\", \"2\", \"3\", \"4\", \"5\", \"6\", \"7\", \"8\", \"9\", \"10\", \"11\", \"12\", \"13\", \"14\", \"15\", \"16\", \"17\", \"18\", \"19\", \"20\", \"21\", \"22\", \"23\", \"24\", \"25\", \"26\", \"27\", \"28\", \"29\"], \"mode\": \"markers\", \"name\": \"average_precision_score_macro\", \"stepped\": false, \"type\": \"scatter\", \"data\": [0.6039163445881208, 0.5899948469320834, 0.6994563364432542, 0.6483617147238385, 0.7037101288787337, 0.668812582336742, 0.6842022027300892, 0.6373853496729567, 0.6661300293482253, 0.6412856082623234, 0.6972268044061172, 0.6683283973307594, 0.6268134560708318, 0.657830956948677, 0.6976686542027631, 0.6056247686413542, 0.6528816087792155, 0.6932168910395861, 0.6648041389314512, 0.6322345750567173, 0.678699487948767, 0.6367618625906993, 0.7039316056670961, 0.6400240865106521, 0.6808364942610201, 0.6521884249285593, 0.7328680758292306, 0.7238050627187371, 0.6948146110918644]}, {\"categories\": [\"0\", \"2\", \"3\", \"4\", \"5\", \"6\", \"7\", \"8\", \"9\", \"10\", \"11\", \"12\", \"13\", \"14\", \"15\", \"16\", \"17\", \"18\", \"19\", \"20\", \"21\", \"22\", \"23\", \"24\", \"25\", \"26\", \"27\", \"28\", \"29\"], \"mode\": \"lines\", \"name\": \"average_precision_score_macro_max\", \"stepped\": true, \"type\": \"scatter\", \"data\": [0.6039163445881208, 0.6039163445881208, 0.6994563364432542, 0.6994563364432542, 0.7037101288787337, 0.7037101288787337, 0.7037101288787337, 0.7037101288787337, 0.7037101288787337, 0.7037101288787337, 0.7037101288787337, 0.7037101288787337, 0.7037101288787337, 0.7037101288787337, 0.7037101288787337, 0.7037101288787337, 0.7037101288787337, 0.7037101288787337, 0.7037101288787337, 0.7037101288787337, 0.7037101288787337, 0.7037101288787337, 0.7039316056670961, 0.7039316056670961, 0.7039316056670961, 0.7039316056670961, 0.7328680758292306, 0.7328680758292306, 0.7328680758292306]}], \"weighted_accuracy\": [{\"categories\": [\"0\", \"2\", \"3\", \"4\", \"5\", \"6\", \"7\", \"8\", \"9\", \"10\", \"11\", \"12\", \"13\", \"14\", \"15\", \"16\", \"17\", \"18\", \"19\", \"20\", \"21\", \"22\", \"23\", \"24\", \"25\", \"26\", \"27\", \"28\", \"29\"], \"mode\": \"markers\", \"name\": \"weighted_accuracy\", \"stepped\": false, \"type\": \"scatter\", \"data\": [0.6288432209798451, 0.7246267710081915, 0.6840780589735761, 0.7444257144582505, 0.6256465777167683, 0.7056872703329814, 0.6820726885096516, 0.6674575387629283, 0.6738369605581715, 0.7159537056415501, 0.6153778515660977, 0.6778160316162141, 0.6471735511358692, 0.6640248539912289, 0.7112220705133565, 0.6344310536063534, 0.7078726648831608, 0.6138142645661331, 0.6294791007033544, 0.6777812231830229, 0.6437256303194199, 0.6920797590038098, 0.6550774839692166, 0.7768712622036335, 0.7560658930761166, 0.7622014673457015, 0.7718148770198269, 0.8123271649642178, 0.7429882324816776]}, {\"categories\": [\"0\", \"2\", \"3\", \"4\", \"5\", \"6\", \"7\", \"8\", \"9\", \"10\", \"11\", \"12\", \"13\", \"14\", \"15\", \"16\", \"17\", \"18\", \"19\", \"20\", \"21\", \"22\", \"23\", \"24\", \"25\", \"26\", \"27\", \"28\", \"29\"], \"mode\": \"lines\", \"name\": \"weighted_accuracy_max\", \"stepped\": true, \"type\": \"scatter\", \"data\": [0.6288432209798451, 0.7246267710081915, 0.7246267710081915, 0.7444257144582505, 0.7444257144582505, 0.7444257144582505, 0.7444257144582505, 0.7444257144582505, 0.7444257144582505, 0.7444257144582505, 0.7444257144582505, 0.7444257144582505, 0.7444257144582505, 0.7444257144582505, 0.7444257144582505, 0.7444257144582505, 0.7444257144582505, 0.7444257144582505, 0.7444257144582505, 0.7444257144582505, 0.7444257144582505, 0.7444257144582505, 0.7444257144582505, 0.7768712622036335, 0.7768712622036335, 0.7768712622036335, 0.7768712622036335, 0.8123271649642178, 0.8123271649642178]}], \"precision_score_micro\": [{\"categories\": [\"0\", \"2\", \"3\", \"4\", \"5\", \"6\", \"7\", \"8\", \"9\", \"10\", \"11\", \"12\", \"13\", \"14\", \"15\", \"16\", \"17\", \"18\", \"19\", \"20\", \"21\", \"22\", \"23\", \"24\", \"25\", \"26\", \"27\", \"28\", \"29\"], \"mode\": \"markers\", \"name\": \"precision_score_micro\", \"stepped\": false, \"type\": \"scatter\", \"data\": [0.5966666666666667, 0.6552380952380952, 0.6433333333333333, 0.6742857142857144, 0.6338095238095238, 0.6833333333333333, 0.6342857142857142, 0.6333333333333333, 0.6333333333333333, 0.6357142857142857, 0.6038095238095238, 0.6528571428571428, 0.6152380952380953, 0.6057142857142856, 0.6719047619047618, 0.5866666666666667, 0.6733333333333332, 0.6142857142857143, 0.5952380952380952, 0.6461904761904762, 0.6328571428571429, 0.6523809523809524, 0.6328571428571429, 0.6747619047619048, 0.6742857142857144, 0.7023809523809523, 0.7123809523809523, 0.7709523809523808, 0.6742857142857144]}, {\"categories\": [\"0\", \"2\", \"3\", \"4\", \"5\", \"6\", \"7\", \"8\", \"9\", \"10\", \"11\", \"12\", \"13\", \"14\", \"15\", \"16\", \"17\", \"18\", \"19\", \"20\", \"21\", \"22\", \"23\", \"24\", \"25\", \"26\", \"27\", \"28\", \"29\"], \"mode\": \"lines\", \"name\": \"precision_score_micro_max\", \"stepped\": true, \"type\": \"scatter\", \"data\": [0.5966666666666667, 0.6552380952380952, 0.6552380952380952, 0.6742857142857144, 0.6742857142857144, 0.6833333333333333, 0.6833333333333333, 0.6833333333333333, 0.6833333333333333, 0.6833333333333333, 0.6833333333333333, 0.6833333333333333, 0.6833333333333333, 0.6833333333333333, 0.6833333333333333, 0.6833333333333333, 0.6833333333333333, 0.6833333333333333, 0.6833333333333333, 0.6833333333333333, 0.6833333333333333, 0.6833333333333333, 0.6833333333333333, 0.6833333333333333, 0.6833333333333333, 0.7023809523809523, 0.7123809523809523, 0.7709523809523808, 0.7709523809523808]}], \"f1_score_micro\": [{\"categories\": [\"0\", \"2\", \"3\", \"4\", \"5\", \"6\", \"7\", \"8\", \"9\", \"10\", \"11\", \"12\", \"13\", \"14\", \"15\", \"16\", \"17\", \"18\", \"19\", \"20\", \"21\", \"22\", \"23\", \"24\", \"25\", \"26\", \"27\", \"28\", \"29\"], \"mode\": \"markers\", \"name\": \"f1_score_micro\", \"stepped\": false, \"type\": \"scatter\", \"data\": [0.5966666666666667, 0.6552380952380953, 0.6433333333333333, 0.6742857142857144, 0.6338095238095238, 0.6833333333333333, 0.6342857142857142, 0.6333333333333333, 0.6333333333333333, 0.6357142857142857, 0.6038095238095238, 0.6528571428571428, 0.6152380952380953, 0.6057142857142856, 0.6719047619047618, 0.5866666666666667, 0.6733333333333332, 0.6142857142857143, 0.5952380952380952, 0.6461904761904762, 0.6328571428571429, 0.6523809523809524, 0.6328571428571429, 0.6747619047619048, 0.6742857142857144, 0.7023809523809523, 0.7123809523809524, 0.770952380952381, 0.6742857142857144]}, {\"categories\": [\"0\", \"2\", \"3\", \"4\", \"5\", \"6\", \"7\", \"8\", \"9\", \"10\", \"11\", \"12\", \"13\", \"14\", \"15\", \"16\", \"17\", \"18\", \"19\", \"20\", \"21\", \"22\", \"23\", \"24\", \"25\", \"26\", \"27\", \"28\", \"29\"], \"mode\": \"lines\", \"name\": \"f1_score_micro_max\", \"stepped\": true, \"type\": \"scatter\", \"data\": [0.5966666666666667, 0.6552380952380953, 0.6552380952380953, 0.6742857142857144, 0.6742857142857144, 0.6833333333333333, 0.6833333333333333, 0.6833333333333333, 0.6833333333333333, 0.6833333333333333, 0.6833333333333333, 0.6833333333333333, 0.6833333333333333, 0.6833333333333333, 0.6833333333333333, 0.6833333333333333, 0.6833333333333333, 0.6833333333333333, 0.6833333333333333, 0.6833333333333333, 0.6833333333333333, 0.6833333333333333, 0.6833333333333333, 0.6833333333333333, 0.6833333333333333, 0.7023809523809523, 0.7123809523809524, 0.770952380952381, 0.770952380952381]}], \"recall_score_micro\": [{\"categories\": [\"0\", \"2\", \"3\", \"4\", \"5\", \"6\", \"7\", \"8\", \"9\", \"10\", \"11\", \"12\", \"13\", \"14\", \"15\", \"16\", \"17\", \"18\", \"19\", \"20\", \"21\", \"22\", \"23\", \"24\", \"25\", \"26\", \"27\", \"28\", \"29\"], \"mode\": \"markers\", \"name\": \"recall_score_micro\", \"stepped\": false, \"type\": \"scatter\", \"data\": [0.5966666666666667, 0.6552380952380952, 0.6433333333333333, 0.6742857142857144, 0.6338095238095238, 0.6833333333333333, 0.6342857142857142, 0.6333333333333333, 0.6333333333333333, 0.6357142857142857, 0.6038095238095238, 0.6528571428571428, 0.6152380952380953, 0.6057142857142856, 0.6719047619047618, 0.5866666666666667, 0.6733333333333332, 0.6142857142857143, 0.5952380952380952, 0.6461904761904762, 0.6328571428571429, 0.6523809523809524, 0.6328571428571429, 0.6747619047619048, 0.6742857142857144, 0.7023809523809523, 0.7123809523809523, 0.7709523809523808, 0.6742857142857144]}, {\"categories\": [\"0\", \"2\", \"3\", \"4\", \"5\", \"6\", \"7\", \"8\", \"9\", \"10\", \"11\", \"12\", \"13\", \"14\", \"15\", \"16\", \"17\", \"18\", \"19\", \"20\", \"21\", \"22\", \"23\", \"24\", \"25\", \"26\", \"27\", \"28\", \"29\"], \"mode\": \"lines\", \"name\": \"recall_score_micro_max\", \"stepped\": true, \"type\": \"scatter\", \"data\": [0.5966666666666667, 0.6552380952380952, 0.6552380952380952, 0.6742857142857144, 0.6742857142857144, 0.6833333333333333, 0.6833333333333333, 0.6833333333333333, 0.6833333333333333, 0.6833333333333333, 0.6833333333333333, 0.6833333333333333, 0.6833333333333333, 0.6833333333333333, 0.6833333333333333, 0.6833333333333333, 0.6833333333333333, 0.6833333333333333, 0.6833333333333333, 0.6833333333333333, 0.6833333333333333, 0.6833333333333333, 0.6833333333333333, 0.6833333333333333, 0.6833333333333333, 0.7023809523809523, 0.7123809523809523, 0.7709523809523808, 0.7709523809523808]}], \"recall_score_weighted\": [{\"categories\": [\"0\", \"2\", \"3\", \"4\", \"5\", \"6\", \"7\", \"8\", \"9\", \"10\", \"11\", \"12\", \"13\", \"14\", \"15\", \"16\", \"17\", \"18\", \"19\", \"20\", \"21\", \"22\", \"23\", \"24\", \"25\", \"26\", \"27\", \"28\", \"29\"], \"mode\": \"markers\", \"name\": \"recall_score_weighted\", \"stepped\": false, \"type\": \"scatter\", \"data\": [0.5966666666666667, 0.6552380952380952, 0.6433333333333333, 0.6742857142857144, 0.6338095238095238, 0.6833333333333333, 0.6342857142857142, 0.6333333333333333, 0.6333333333333333, 0.6357142857142857, 0.6038095238095238, 0.6528571428571428, 0.6152380952380953, 0.6057142857142856, 0.6719047619047618, 0.5866666666666667, 0.6733333333333332, 0.6142857142857143, 0.5952380952380952, 0.6461904761904762, 0.6328571428571429, 0.6523809523809524, 0.6328571428571429, 0.6747619047619048, 0.6742857142857144, 0.7023809523809523, 0.7123809523809523, 0.7709523809523808, 0.6742857142857144]}, {\"categories\": [\"0\", \"2\", \"3\", \"4\", \"5\", \"6\", \"7\", \"8\", \"9\", \"10\", \"11\", \"12\", \"13\", \"14\", \"15\", \"16\", \"17\", \"18\", \"19\", \"20\", \"21\", \"22\", \"23\", \"24\", \"25\", \"26\", \"27\", \"28\", \"29\"], \"mode\": \"lines\", \"name\": \"recall_score_weighted_max\", \"stepped\": true, \"type\": \"scatter\", \"data\": [0.5966666666666667, 0.6552380952380952, 0.6552380952380952, 0.6742857142857144, 0.6742857142857144, 0.6833333333333333, 0.6833333333333333, 0.6833333333333333, 0.6833333333333333, 0.6833333333333333, 0.6833333333333333, 0.6833333333333333, 0.6833333333333333, 0.6833333333333333, 0.6833333333333333, 0.6833333333333333, 0.6833333333333333, 0.6833333333333333, 0.6833333333333333, 0.6833333333333333, 0.6833333333333333, 0.6833333333333333, 0.6833333333333333, 0.6833333333333333, 0.6833333333333333, 0.7023809523809523, 0.7123809523809523, 0.7709523809523808, 0.7709523809523808]}], \"AUC_micro\": [{\"categories\": [\"0\", \"2\", \"3\", \"4\", \"5\", \"6\", \"7\", \"8\", \"9\", \"10\", \"11\", \"12\", \"13\", \"14\", \"15\", \"16\", \"17\", \"18\", \"19\", \"20\", \"21\", \"22\", \"23\", \"24\", \"25\", \"26\", \"27\", \"28\", \"29\"], \"mode\": \"markers\", \"name\": \"AUC_micro\", \"stepped\": false, \"type\": \"scatter\", \"data\": [0.6399126984126984, 0.6669251700680272, 0.7111848072562358, 0.7072630385487528, 0.6629625850340135, 0.732875283446712, 0.7148934240362813, 0.6868231292517006, 0.6977074829931973, 0.6993095238095238, 0.6421133786848073, 0.6475907029478458, 0.6090748299319728, 0.6818571428571427, 0.7146156462585033, 0.6384478458049887, 0.692124716553288, 0.6407755102040816, 0.6858004535147393, 0.6810419501133786, 0.6781507936507937, 0.7048180272108844, 0.7147902494331065, 0.7211712018140589, 0.7281020408163265, 0.7200668934240363, 0.7607324263038548, 0.763452380952381, 0.7227301587301588]}, {\"categories\": [\"0\", \"2\", \"3\", \"4\", \"5\", \"6\", \"7\", \"8\", \"9\", \"10\", \"11\", \"12\", \"13\", \"14\", \"15\", \"16\", \"17\", \"18\", \"19\", \"20\", \"21\", \"22\", \"23\", \"24\", \"25\", \"26\", \"27\", \"28\", \"29\"], \"mode\": \"lines\", \"name\": \"AUC_micro_max\", \"stepped\": true, \"type\": \"scatter\", \"data\": [0.6399126984126984, 0.6669251700680272, 0.7111848072562358, 0.7111848072562358, 0.7111848072562358, 0.732875283446712, 0.732875283446712, 0.732875283446712, 0.732875283446712, 0.732875283446712, 0.732875283446712, 0.732875283446712, 0.732875283446712, 0.732875283446712, 0.732875283446712, 0.732875283446712, 0.732875283446712, 0.732875283446712, 0.732875283446712, 0.732875283446712, 0.732875283446712, 0.732875283446712, 0.732875283446712, 0.732875283446712, 0.732875283446712, 0.732875283446712, 0.7607324263038548, 0.763452380952381, 0.763452380952381]}], \"precision_score_macro\": [{\"categories\": [\"0\", \"2\", \"3\", \"4\", \"5\", \"6\", \"7\", \"8\", \"9\", \"10\", \"11\", \"12\", \"13\", \"14\", \"15\", \"16\", \"17\", \"18\", \"19\", \"20\", \"21\", \"22\", \"23\", \"24\", \"25\", \"26\", \"27\", \"28\", \"29\"], \"mode\": \"markers\", \"name\": \"precision_score_macro\", \"stepped\": false, \"type\": \"scatter\", \"data\": [0.5409803921568628, 0.5458376332989336, 0.5948128342245989, 0.6328259373925009, 0.6318376068376068, 0.6343956043956044, 0.5868241235888295, 0.6108627238774298, 0.5923321449792038, 0.4136278195488721, 0.603038073038073, 0.6264880952380952, 0.47423520923520923, 0.5502658160552898, 0.7099587203302373, 0.49907902554961375, 0.6208913308913309, 0.6147130647130647, 0.5458732280791104, 0.5938095238095238, 0.668234126984127, 0.6513532081953135, 0.6342682072829132, 0.3373809523809524, 0.5290372991301784, 0.7041752665978672, 0.6800481596147231, 0.8338149294805642, 0.49857142857142855]}, {\"categories\": [\"0\", \"2\", \"3\", \"4\", \"5\", \"6\", \"7\", \"8\", \"9\", \"10\", \"11\", \"12\", \"13\", \"14\", \"15\", \"16\", \"17\", \"18\", \"19\", \"20\", \"21\", \"22\", \"23\", \"24\", \"25\", \"26\", \"27\", \"28\", \"29\"], \"mode\": \"lines\", \"name\": \"precision_score_macro_max\", \"stepped\": true, \"type\": \"scatter\", \"data\": [0.5409803921568628, 0.5458376332989336, 0.5948128342245989, 0.6328259373925009, 0.6328259373925009, 0.6343956043956044, 0.6343956043956044, 0.6343956043956044, 0.6343956043956044, 0.6343956043956044, 0.6343956043956044, 0.6343956043956044, 0.6343956043956044, 0.6343956043956044, 0.7099587203302373, 0.7099587203302373, 0.7099587203302373, 0.7099587203302373, 0.7099587203302373, 0.7099587203302373, 0.7099587203302373, 0.7099587203302373, 0.7099587203302373, 0.7099587203302373, 0.7099587203302373, 0.7099587203302373, 0.7099587203302373, 0.8338149294805642, 0.8338149294805642]}], \"balanced_accuracy\": [{\"categories\": [\"0\", \"2\", \"3\", \"4\", \"5\", \"6\", \"7\", \"8\", \"9\", \"10\", \"11\", \"12\", \"13\", \"14\", \"15\", \"16\", \"17\", \"18\", \"19\", \"20\", \"21\", \"22\", \"23\", \"24\", \"25\", \"26\", \"27\", \"28\", \"29\"], \"mode\": \"markers\", \"name\": \"balanced_accuracy\", \"stepped\": false, \"type\": \"scatter\", \"data\": [0.5547491723962312, 0.542131398013751, 0.59467277820219, 0.5587547746371276, 0.6649809014514897, 0.6660860707919531, 0.5727196333078687, 0.5953705118411001, 0.5858899923605806, 0.5094957983193277, 0.6135243188184364, 0.6245861981156099, 0.5745378151260504, 0.5307715813598166, 0.6390934555640438, 0.5255334861217215, 0.6119251336898396, 0.6377132671250317, 0.556366182836771, 0.5950751209574738, 0.6425668449197861, 0.6058034122740004, 0.6123020117137764, 0.5, 0.5429971988795519, 0.6038680926916221, 0.6116119174942705, 0.7179704609116374, 0.5907563025210083]}, {\"categories\": [\"0\", \"2\", \"3\", \"4\", \"5\", \"6\", \"7\", \"8\", \"9\", \"10\", \"11\", \"12\", \"13\", \"14\", \"15\", \"16\", \"17\", \"18\", \"19\", \"20\", \"21\", \"22\", \"23\", \"24\", \"25\", \"26\", \"27\", \"28\", \"29\"], \"mode\": \"lines\", \"name\": \"balanced_accuracy_max\", \"stepped\": true, \"type\": \"scatter\", \"data\": [0.5547491723962312, 0.5547491723962312, 0.59467277820219, 0.59467277820219, 0.6649809014514897, 0.6660860707919531, 0.6660860707919531, 0.6660860707919531, 0.6660860707919531, 0.6660860707919531, 0.6660860707919531, 0.6660860707919531, 0.6660860707919531, 0.6660860707919531, 0.6660860707919531, 0.6660860707919531, 0.6660860707919531, 0.6660860707919531, 0.6660860707919531, 0.6660860707919531, 0.6660860707919531, 0.6660860707919531, 0.6660860707919531, 0.6660860707919531, 0.6660860707919531, 0.6660860707919531, 0.6660860707919531, 0.7179704609116374, 0.7179704609116374]}], \"average_precision_score_weighted\": [{\"categories\": [\"0\", \"2\", \"3\", \"4\", \"5\", \"6\", \"7\", \"8\", \"9\", \"10\", \"11\", \"12\", \"13\", \"14\", \"15\", \"16\", \"17\", \"18\", \"19\", \"20\", \"21\", \"22\", \"23\", \"24\", \"25\", \"26\", \"27\", \"28\", \"29\"], \"mode\": \"markers\", \"name\": \"average_precision_score_weighted\", \"stepped\": false, \"type\": \"scatter\", \"data\": [0.6727191354233593, 0.6703814118724004, 0.7681288660599807, 0.7061026549048441, 0.7684011734596099, 0.7222258123795054, 0.7525757277904004, 0.7194557707596185, 0.749440942117247, 0.7105583192750375, 0.7501120320966075, 0.7357210074374493, 0.6873934796283867, 0.7324289725643661, 0.7757630083379199, 0.6714985716181536, 0.7289384380628299, 0.7567401632901964, 0.7515752188946572, 0.7113300608817525, 0.7663498742951972, 0.7089745287474167, 0.7797352338882635, 0.7158894602191264, 0.7501028550257873, 0.7248568188286233, 0.7974117284627015, 0.7752623513642974, 0.7559181010910887]}, {\"categories\": [\"0\", \"2\", \"3\", \"4\", \"5\", \"6\", \"7\", \"8\", \"9\", \"10\", \"11\", \"12\", \"13\", \"14\", \"15\", \"16\", \"17\", \"18\", \"19\", \"20\", \"21\", \"22\", \"23\", \"24\", \"25\", \"26\", \"27\", \"28\", \"29\"], \"mode\": \"lines\", \"name\": \"average_precision_score_weighted_max\", \"stepped\": true, \"type\": \"scatter\", \"data\": [0.6727191354233593, 0.6727191354233593, 0.7681288660599807, 0.7681288660599807, 0.7684011734596099, 0.7684011734596099, 0.7684011734596099, 0.7684011734596099, 0.7684011734596099, 0.7684011734596099, 0.7684011734596099, 0.7684011734596099, 0.7684011734596099, 0.7684011734596099, 0.7757630083379199, 0.7757630083379199, 0.7757630083379199, 0.7757630083379199, 0.7757630083379199, 0.7757630083379199, 0.7757630083379199, 0.7757630083379199, 0.7797352338882635, 0.7797352338882635, 0.7797352338882635, 0.7797352338882635, 0.7974117284627015, 0.7974117284627015, 0.7974117284627015]}], \"matthews_correlation\": [{\"categories\": [\"0\", \"2\", \"3\", \"4\", \"5\", \"6\", \"7\", \"8\", \"9\", \"10\", \"11\", \"12\", \"13\", \"14\", \"15\", \"16\", \"17\", \"18\", \"19\", \"20\", \"21\", \"22\", \"23\", \"24\", \"25\", \"26\", \"27\", \"28\", \"29\"], \"mode\": \"markers\", \"name\": \"matthews_correlation\", \"stepped\": false, \"type\": \"scatter\", \"data\": [0.09357370070202976, 0.08946211371860377, 0.18739192297324642, 0.16848951881512936, 0.2930188560778465, 0.2950206180278235, 0.15430158590080373, 0.20348362322625255, 0.176485350634724, 0.009908040984210206, 0.21532652118327839, 0.24916605570813138, 0.132294952840251, 0.06489589488876953, 0.3283796536573657, 0.02579535334382214, 0.22982644496182955, 0.2496285997404369, 0.1013821964787351, 0.1874668612441353, 0.30353152234373826, 0.24791522969003865, 0.24377264408578675, 0.0, 0.12932438149238457, 0.2853936439675643, 0.28210193180030946, 0.5176155492907913, 0.17774115878488755]}, {\"categories\": [\"0\", \"2\", \"3\", \"4\", \"5\", \"6\", \"7\", \"8\", \"9\", \"10\", \"11\", \"12\", \"13\", \"14\", \"15\", \"16\", \"17\", \"18\", \"19\", \"20\", \"21\", \"22\", \"23\", \"24\", \"25\", \"26\", \"27\", \"28\", \"29\"], \"mode\": \"lines\", \"name\": \"matthews_correlation_max\", \"stepped\": true, \"type\": \"scatter\", \"data\": [0.09357370070202976, 0.09357370070202976, 0.18739192297324642, 0.18739192297324642, 0.2930188560778465, 0.2950206180278235, 0.2950206180278235, 0.2950206180278235, 0.2950206180278235, 0.2950206180278235, 0.2950206180278235, 0.2950206180278235, 0.2950206180278235, 0.2950206180278235, 0.3283796536573657, 0.3283796536573657, 0.3283796536573657, 0.3283796536573657, 0.3283796536573657, 0.3283796536573657, 0.3283796536573657, 0.3283796536573657, 0.3283796536573657, 0.3283796536573657, 0.3283796536573657, 0.3283796536573657, 0.3283796536573657, 0.5176155492907913, 0.5176155492907913]}], \"AUC_macro\": [{\"categories\": [\"0\", \"2\", \"3\", \"4\", \"5\", \"6\", \"7\", \"8\", \"9\", \"10\", \"11\", \"12\", \"13\", \"14\", \"15\", \"16\", \"17\", \"18\", \"19\", \"20\", \"21\", \"22\", \"23\", \"24\", \"25\", \"26\", \"27\", \"28\", \"29\"], \"mode\": \"markers\", \"name\": \"AUC_macro\", \"stepped\": false, \"type\": \"scatter\", \"data\": [0.5617803485030376, 0.5576360241066123, 0.6983125371360666, 0.6126278390143935, 0.7083786241769434, 0.6768142408478542, 0.6694132198333881, 0.6405187529557277, 0.6904921968787515, 0.616515697187966, 0.6807033116276814, 0.6451516364121407, 0.575457576970182, 0.6666923739192647, 0.6718189093819346, 0.568531170043775, 0.6402570725259802, 0.6894876738574217, 0.6678906714200832, 0.6204542423029817, 0.6888200128536263, 0.6651526064971444, 0.6971858440345835, 0.616506481380431, 0.6545847429881043, 0.6239099276074066, 0.7249949676840434, 0.7271179987146373, 0.6964004995937769]}, {\"categories\": [\"0\", \"2\", \"3\", \"4\", \"5\", \"6\", \"7\", \"8\", \"9\", \"10\", \"11\", \"12\", \"13\", \"14\", \"15\", \"16\", \"17\", \"18\", \"19\", \"20\", \"21\", \"22\", \"23\", \"24\", \"25\", \"26\", \"27\", \"28\", \"29\"], \"mode\": \"lines\", \"name\": \"AUC_macro_max\", \"stepped\": true, \"type\": \"scatter\", \"data\": [0.5617803485030376, 0.5617803485030376, 0.6983125371360666, 0.6983125371360666, 0.7083786241769434, 0.7083786241769434, 0.7083786241769434, 0.7083786241769434, 0.7083786241769434, 0.7083786241769434, 0.7083786241769434, 0.7083786241769434, 0.7083786241769434, 0.7083786241769434, 0.7083786241769434, 0.7083786241769434, 0.7083786241769434, 0.7083786241769434, 0.7083786241769434, 0.7083786241769434, 0.7083786241769434, 0.7083786241769434, 0.7083786241769434, 0.7083786241769434, 0.7083786241769434, 0.7083786241769434, 0.7249949676840434, 0.7271179987146373, 0.7271179987146373]}], \"f1_score_macro\": [{\"categories\": [\"0\", \"2\", \"3\", \"4\", \"5\", \"6\", \"7\", \"8\", \"9\", \"10\", \"11\", \"12\", \"13\", \"14\", \"15\", \"16\", \"17\", \"18\", \"19\", \"20\", \"21\", \"22\", \"23\", \"24\", \"25\", \"26\", \"27\", \"28\", \"29\"], \"mode\": \"markers\", \"name\": \"f1_score_macro\", \"stepped\": false, \"type\": \"scatter\", \"data\": [0.5232808937035855, 0.5114459723283253, 0.5711687908865328, 0.5295579226385515, 0.6118692760328917, 0.6276576029247062, 0.5320455709165386, 0.5711981924885151, 0.5528737016507742, 0.43541673169756656, 0.5582491582491582, 0.6021063721842366, 0.4938845544082736, 0.4628427128427128, 0.588469696969697, 0.4783568984778663, 0.6037499441809786, 0.586050061050061, 0.5277938727938729, 0.581092241092241, 0.5848218263201947, 0.5835390897158504, 0.5826948105657783, 0.3997413542574833, 0.4777811320031433, 0.5849475907234527, 0.5970651376457664, 0.6903102453102452, 0.4818690702087286]}, {\"categories\": [\"0\", \"2\", \"3\", \"4\", \"5\", \"6\", \"7\", \"8\", \"9\", \"10\", \"11\", \"12\", \"13\", \"14\", \"15\", \"16\", \"17\", \"18\", \"19\", \"20\", \"21\", \"22\", \"23\", \"24\", \"25\", \"26\", \"27\", \"28\", \"29\"], \"mode\": \"lines\", \"name\": \"f1_score_macro_max\", \"stepped\": true, \"type\": \"scatter\", \"data\": [0.5232808937035855, 0.5232808937035855, 0.5711687908865328, 0.5711687908865328, 0.6118692760328917, 0.6276576029247062, 0.6276576029247062, 0.6276576029247062, 0.6276576029247062, 0.6276576029247062, 0.6276576029247062, 0.6276576029247062, 0.6276576029247062, 0.6276576029247062, 0.6276576029247062, 0.6276576029247062, 0.6276576029247062, 0.6276576029247062, 0.6276576029247062, 0.6276576029247062, 0.6276576029247062, 0.6276576029247062, 0.6276576029247062, 0.6276576029247062, 0.6276576029247062, 0.6276576029247062, 0.6276576029247062, 0.6903102453102452, 0.6903102453102452]}], \"f1_score_weighted\": [{\"categories\": [\"0\", \"2\", \"3\", \"4\", \"5\", \"6\", \"7\", \"8\", \"9\", \"10\", \"11\", \"12\", \"13\", \"14\", \"15\", \"16\", \"17\", \"18\", \"19\", \"20\", \"21\", \"22\", \"23\", \"24\", \"25\", \"26\", \"27\", \"28\", \"29\"], \"mode\": \"markers\", \"name\": \"f1_score_weighted\", \"stepped\": false, \"type\": \"scatter\", \"data\": [0.587289345324199, 0.608068439497011, 0.641570875361198, 0.6223393601472418, 0.6494631832807054, 0.68286272921166, 0.6093624859523478, 0.6344498273530531, 0.627242918553525, 0.5500334692365053, 0.6049767516434184, 0.6590790357419946, 0.5661331559016569, 0.5544684944684943, 0.65087696007696, 0.5592460151215912, 0.6726664281333822, 0.6277388947031806, 0.598078588078588, 0.6423842823842824, 0.627533043894527, 0.6469564382575834, 0.6363732783345687, 0.550041101008843, 0.5868274595599073, 0.667419244229589, 0.6735061298854402, 0.7302284752284752, 0.5789621396945874]}, {\"categories\": [\"0\", \"2\", \"3\", \"4\", \"5\", \"6\", \"7\", \"8\", \"9\", \"10\", \"11\", \"12\", \"13\", \"14\", \"15\", \"16\", \"17\", \"18\", \"19\", \"20\", \"21\", \"22\", \"23\", \"24\", \"25\", \"26\", \"27\", \"28\", \"29\"], \"mode\": \"lines\", \"name\": \"f1_score_weighted_max\", \"stepped\": true, \"type\": \"scatter\", \"data\": [0.587289345324199, 0.608068439497011, 0.641570875361198, 0.641570875361198, 0.6494631832807054, 0.68286272921166, 0.68286272921166, 0.68286272921166, 0.68286272921166, 0.68286272921166, 0.68286272921166, 0.68286272921166, 0.68286272921166, 0.68286272921166, 0.68286272921166, 0.68286272921166, 0.68286272921166, 0.68286272921166, 0.68286272921166, 0.68286272921166, 0.68286272921166, 0.68286272921166, 0.68286272921166, 0.68286272921166, 0.68286272921166, 0.68286272921166, 0.68286272921166, 0.7302284752284752, 0.7302284752284752]}]}, \"metricName\": null, \"primaryMetricName\": \"accuracy\", \"showLegend\": false}, \"run_metrics\": [{\"name\": \"experiment_status\", \"run_id\": \"AutoML_44ab4b49-5388-4a58-9f4d-fcabc0546992\", \"categories\": [0, 1, 2, 3, 4, 5, 6, 7, 8, 9, 10, 11, 12, 13], \"series\": [{\"data\": [\"DatasetEvaluation\", \"FeaturesGeneration\", \"DatasetFeaturization\", \"DatasetFeaturizationCompleted\", \"DatasetCrossValidationSplit\", \"ModelSelection\", \"BestRunExplainModel\", \"ModelExplanationDataSetSetup\", \"PickSurrogateModel\", \"EngineeredFeatureExplanations\", \"EngineeredFeatureExplanations\", \"RawFeaturesExplanations\", \"RawFeaturesExplanations\", \"BestRunExplainModel\"]}]}, {\"name\": \"experiment_status_description\", \"run_id\": \"AutoML_44ab4b49-5388-4a58-9f4d-fcabc0546992\", \"categories\": [0, 1, 2, 3, 4, 5, 6, 7, 8, 9, 10, 11, 12, 13], \"series\": [{\"data\": [\"Gathering dataset statistics.\", \"Generating features for the dataset.\", \"Beginning to fit featurizers and featurize the dataset.\", \"Completed fit featurizers and featurizing the dataset.\", \"Generating individually featurized CV splits.\", \"Beginning model selection.\", \"Best run model explanations started\", \"Model explanations data setup completed\", \"Choosing LightGBM as the surrogate model for explanations\", \"Computation of engineered features started\", \"Computation of engineered features completed\", \"Computation of raw features started\", \"Computation of raw features completed\", \"Best run model explanations completed\"]}]}, {\"name\": \"weighted_accuracy\", \"run_id\": \"AutoML_44ab4b49-5388-4a58-9f4d-fcabc0546992\", \"categories\": [0], \"series\": [{\"data\": [0.8123271649642178]}]}, {\"name\": \"log_loss\", \"run_id\": \"AutoML_44ab4b49-5388-4a58-9f4d-fcabc0546992\", \"categories\": [0], \"series\": [{\"data\": [0.598529484928641]}]}, {\"name\": \"average_precision_score_micro\", \"run_id\": \"AutoML_44ab4b49-5388-4a58-9f4d-fcabc0546992\", \"categories\": [0], \"series\": [{\"data\": [0.7647503056132092]}]}, {\"name\": \"average_precision_score_weighted\", \"run_id\": \"AutoML_44ab4b49-5388-4a58-9f4d-fcabc0546992\", \"categories\": [0], \"series\": [{\"data\": [0.7752623513642974]}]}, {\"name\": \"recall_score_macro\", \"run_id\": \"AutoML_44ab4b49-5388-4a58-9f4d-fcabc0546992\", \"categories\": [0], \"series\": [{\"data\": [0.7179704609116374]}]}, {\"name\": \"f1_score_micro\", \"run_id\": \"AutoML_44ab4b49-5388-4a58-9f4d-fcabc0546992\", \"categories\": [0], \"series\": [{\"data\": [0.770952380952381]}]}, {\"name\": \"norm_macro_recall\", \"run_id\": \"AutoML_44ab4b49-5388-4a58-9f4d-fcabc0546992\", \"categories\": [0], \"series\": [{\"data\": [0.4359409218232747]}]}, {\"name\": \"precision_score_micro\", \"run_id\": \"AutoML_44ab4b49-5388-4a58-9f4d-fcabc0546992\", \"categories\": [0], \"series\": [{\"data\": [0.7709523809523808]}]}, {\"name\": \"precision_score_weighted\", \"run_id\": \"AutoML_44ab4b49-5388-4a58-9f4d-fcabc0546992\", \"categories\": [0], \"series\": [{\"data\": [0.8406678051337494]}]}, {\"name\": \"recall_score_weighted\", \"run_id\": \"AutoML_44ab4b49-5388-4a58-9f4d-fcabc0546992\", \"categories\": [0], \"series\": [{\"data\": [0.7709523809523808]}]}, {\"name\": \"AUC_weighted\", \"run_id\": \"AutoML_44ab4b49-5388-4a58-9f4d-fcabc0546992\", \"categories\": [0], \"series\": [{\"data\": [0.7271179987146373]}]}, {\"name\": \"precision_score_macro\", \"run_id\": \"AutoML_44ab4b49-5388-4a58-9f4d-fcabc0546992\", \"categories\": [0], \"series\": [{\"data\": [0.8338149294805642]}]}, {\"name\": \"AUC_macro\", \"run_id\": \"AutoML_44ab4b49-5388-4a58-9f4d-fcabc0546992\", \"categories\": [0], \"series\": [{\"data\": [0.7271179987146373]}]}, {\"name\": \"f1_score_macro\", \"run_id\": \"AutoML_44ab4b49-5388-4a58-9f4d-fcabc0546992\", \"categories\": [0], \"series\": [{\"data\": [0.6903102453102452]}]}, {\"name\": \"f1_score_weighted\", \"run_id\": \"AutoML_44ab4b49-5388-4a58-9f4d-fcabc0546992\", \"categories\": [0], \"series\": [{\"data\": [0.7302284752284752]}]}, {\"name\": \"accuracy\", \"run_id\": \"AutoML_44ab4b49-5388-4a58-9f4d-fcabc0546992\", \"categories\": [0], \"series\": [{\"data\": [0.7709523809523808]}]}, {\"name\": \"recall_score_micro\", \"run_id\": \"AutoML_44ab4b49-5388-4a58-9f4d-fcabc0546992\", \"categories\": [0], \"series\": [{\"data\": [0.7709523809523808]}]}, {\"name\": \"average_precision_score_macro\", \"run_id\": \"AutoML_44ab4b49-5388-4a58-9f4d-fcabc0546992\", \"categories\": [0], \"series\": [{\"data\": [0.7238050627187371]}]}, {\"name\": \"matthews_correlation\", \"run_id\": \"AutoML_44ab4b49-5388-4a58-9f4d-fcabc0546992\", \"categories\": [0], \"series\": [{\"data\": [0.5176155492907913]}]}, {\"name\": \"AUC_micro\", \"run_id\": \"AutoML_44ab4b49-5388-4a58-9f4d-fcabc0546992\", \"categories\": [0], \"series\": [{\"data\": [0.763452380952381]}]}, {\"name\": \"balanced_accuracy\", \"run_id\": \"AutoML_44ab4b49-5388-4a58-9f4d-fcabc0546992\", \"categories\": [0], \"series\": [{\"data\": [0.7179704609116374]}]}], \"run_logs\": \"\\nRun is completed.\", \"graph\": {}, \"widget_settings\": {\"childWidgetDisplay\": \"popup\", \"send_telemetry\": false, \"log_level\": \"INFO\", \"sdk_version\": \"1.18.0\"}, \"loading\": false}"
     },
     "metadata": {},
     "output_type": "display_data"
    }
   ],
   "source": [
    "RunDetails(auto_run).show()\n"
   ]
  },
  {
   "cell_type": "code",
   "execution_count": 10,
   "metadata": {
    "gather": {
     "logged": 1606379898706
    },
    "pycharm": {
     "name": "#%%\n"
    }
   },
   "outputs": [],
   "source": [
    "# Retrieve and save your best automl model.\n",
    "best_run,fitted_model = auto_run.get_output(iteration=28)"
   ]
  },
  {
   "cell_type": "code",
   "execution_count": 11,
   "metadata": {
    "gather": {
     "logged": 1606379911449
    },
    "pycharm": {
     "name": "#%%\n"
    },
    "scrolled": true
   },
   "outputs": [
    {
     "name": "stdout",
     "output_type": "stream",
     "text": [
      "datatransformer\n",
      "{'enable_dnn': None,\n",
      " 'enable_feature_sweeping': None,\n",
      " 'feature_sweeping_config': None,\n",
      " 'feature_sweeping_timeout': None,\n",
      " 'featurization_config': None,\n",
      " 'force_text_dnn': None,\n",
      " 'is_cross_validation': None,\n",
      " 'is_onnx_compatible': None,\n",
      " 'logger': None,\n",
      " 'observer': None,\n",
      " 'task': None,\n",
      " 'working_dir': None}\n",
      "\n",
      "prefittedsoftvotingclassifier\n",
      "{'estimators': ['27', '26', '6', '25', '17', '15', '20', '13'],\n",
      " 'weights': [0.13333333333333333,\n",
      "             0.2,\n",
      "             0.13333333333333333,\n",
      "             0.13333333333333333,\n",
      "             0.2,\n",
      "             0.06666666666666667,\n",
      "             0.06666666666666667,\n",
      "             0.06666666666666667]}\n",
      "\n",
      "27 - minmaxscaler\n",
      "{'copy': True, 'feature_range': (0, 1)}\n",
      "\n",
      "27 - lightgbmclassifier\n",
      "{'boosting_type': 'gbdt',\n",
      " 'class_weight': None,\n",
      " 'colsample_bytree': 0.8911111111111111,\n",
      " 'importance_type': 'split',\n",
      " 'learning_rate': 0.09473736842105263,\n",
      " 'max_bin': 70,\n",
      " 'max_depth': 6,\n",
      " 'min_child_samples': 9,\n",
      " 'min_child_weight': 1,\n",
      " 'min_split_gain': 0.7368421052631579,\n",
      " 'n_estimators': 50,\n",
      " 'n_jobs': 1,\n",
      " 'num_leaves': 170,\n",
      " 'objective': None,\n",
      " 'random_state': None,\n",
      " 'reg_alpha': 0.5789473684210527,\n",
      " 'reg_lambda': 0.6842105263157894,\n",
      " 'silent': True,\n",
      " 'subsample': 0.5942105263157895,\n",
      " 'subsample_for_bin': 200000,\n",
      " 'subsample_freq': 0,\n",
      " 'verbose': -10}\n",
      "\n",
      "26 - minmaxscaler\n",
      "{'copy': True, 'feature_range': (0, 1)}\n",
      "\n",
      "26 - randomforestclassifier\n",
      "{'bootstrap': True,\n",
      " 'ccp_alpha': 0.0,\n",
      " 'class_weight': None,\n",
      " 'criterion': 'entropy',\n",
      " 'max_depth': None,\n",
      " 'max_features': 0.3,\n",
      " 'max_leaf_nodes': None,\n",
      " 'max_samples': None,\n",
      " 'min_impurity_decrease': 0.0,\n",
      " 'min_impurity_split': None,\n",
      " 'min_samples_leaf': 0.01,\n",
      " 'min_samples_split': 0.056842105263157895,\n",
      " 'min_weight_fraction_leaf': 0.0,\n",
      " 'n_estimators': 50,\n",
      " 'n_jobs': 1,\n",
      " 'oob_score': True,\n",
      " 'random_state': None,\n",
      " 'verbose': 0,\n",
      " 'warm_start': False}\n",
      "\n",
      "6 - standardscalerwrapper\n",
      "{'class_name': 'StandardScaler',\n",
      " 'copy': True,\n",
      " 'module_name': 'sklearn.preprocessing._data',\n",
      " 'with_mean': True,\n",
      " 'with_std': False}\n",
      "\n",
      "6 - randomforestclassifier\n",
      "{'bootstrap': False,\n",
      " 'ccp_alpha': 0.0,\n",
      " 'class_weight': None,\n",
      " 'criterion': 'entropy',\n",
      " 'max_depth': None,\n",
      " 'max_features': 'log2',\n",
      " 'max_leaf_nodes': None,\n",
      " 'max_samples': None,\n",
      " 'min_impurity_decrease': 0.0,\n",
      " 'min_impurity_split': None,\n",
      " 'min_samples_leaf': 0.01,\n",
      " 'min_samples_split': 0.01,\n",
      " 'min_weight_fraction_leaf': 0.0,\n",
      " 'n_estimators': 10,\n",
      " 'n_jobs': 1,\n",
      " 'oob_score': False,\n",
      " 'random_state': None,\n",
      " 'verbose': 0,\n",
      " 'warm_start': False}\n",
      "\n",
      "25 - maxabsscaler\n",
      "{'copy': True}\n",
      "\n",
      "25 - randomforestclassifier\n",
      "{'bootstrap': False,\n",
      " 'ccp_alpha': 0.0,\n",
      " 'class_weight': None,\n",
      " 'criterion': 'entropy',\n",
      " 'max_depth': None,\n",
      " 'max_features': 'sqrt',\n",
      " 'max_leaf_nodes': None,\n",
      " 'max_samples': None,\n",
      " 'min_impurity_decrease': 0.0,\n",
      " 'min_impurity_split': None,\n",
      " 'min_samples_leaf': 0.08736842105263157,\n",
      " 'min_samples_split': 0.056842105263157895,\n",
      " 'min_weight_fraction_leaf': 0.0,\n",
      " 'n_estimators': 200,\n",
      " 'n_jobs': 1,\n",
      " 'oob_score': False,\n",
      " 'random_state': None,\n",
      " 'verbose': 0,\n",
      " 'warm_start': False}\n",
      "\n",
      "17 - standardscalerwrapper\n",
      "{'class_name': 'StandardScaler',\n",
      " 'copy': True,\n",
      " 'module_name': 'sklearn.preprocessing._data',\n",
      " 'with_mean': True,\n",
      " 'with_std': True}\n",
      "\n",
      "17 - randomforestclassifier\n",
      "{'bootstrap': False,\n",
      " 'ccp_alpha': 0.0,\n",
      " 'class_weight': 'balanced',\n",
      " 'criterion': 'entropy',\n",
      " 'max_depth': None,\n",
      " 'max_features': 'sqrt',\n",
      " 'max_leaf_nodes': None,\n",
      " 'max_samples': None,\n",
      " 'min_impurity_decrease': 0.0,\n",
      " 'min_impurity_split': None,\n",
      " 'min_samples_leaf': 0.035789473684210524,\n",
      " 'min_samples_split': 0.15052631578947367,\n",
      " 'min_weight_fraction_leaf': 0.0,\n",
      " 'n_estimators': 10,\n",
      " 'n_jobs': 1,\n",
      " 'oob_score': False,\n",
      " 'random_state': None,\n",
      " 'verbose': 0,\n",
      " 'warm_start': False}\n",
      "\n",
      "15 - minmaxscaler\n",
      "{'copy': True, 'feature_range': (0, 1)}\n",
      "\n",
      "15 - extratreesclassifier\n",
      "{'bootstrap': True,\n",
      " 'ccp_alpha': 0.0,\n",
      " 'class_weight': None,\n",
      " 'criterion': 'entropy',\n",
      " 'max_depth': None,\n",
      " 'max_features': 0.3,\n",
      " 'max_leaf_nodes': None,\n",
      " 'max_samples': None,\n",
      " 'min_impurity_decrease': 0.0,\n",
      " 'min_impurity_split': None,\n",
      " 'min_samples_leaf': 0.01,\n",
      " 'min_samples_split': 0.056842105263157895,\n",
      " 'min_weight_fraction_leaf': 0.0,\n",
      " 'n_estimators': 25,\n",
      " 'n_jobs': 1,\n",
      " 'oob_score': True,\n",
      " 'random_state': None,\n",
      " 'verbose': 0,\n",
      " 'warm_start': False}\n",
      "\n",
      "20 - standardscalerwrapper\n",
      "{'class_name': 'StandardScaler',\n",
      " 'copy': True,\n",
      " 'module_name': 'sklearn.preprocessing._data',\n",
      " 'with_mean': True,\n",
      " 'with_std': True}\n",
      "\n",
      "20 - randomforestclassifier\n",
      "{'bootstrap': False,\n",
      " 'ccp_alpha': 0.0,\n",
      " 'class_weight': 'balanced',\n",
      " 'criterion': 'gini',\n",
      " 'max_depth': None,\n",
      " 'max_features': 0.05,\n",
      " 'max_leaf_nodes': None,\n",
      " 'max_samples': None,\n",
      " 'min_impurity_decrease': 0.0,\n",
      " 'min_impurity_split': None,\n",
      " 'min_samples_leaf': 0.01,\n",
      " 'min_samples_split': 0.10368421052631578,\n",
      " 'min_weight_fraction_leaf': 0.0,\n",
      " 'n_estimators': 10,\n",
      " 'n_jobs': 1,\n",
      " 'oob_score': False,\n",
      " 'random_state': None,\n",
      " 'verbose': 0,\n",
      " 'warm_start': False}\n",
      "\n",
      "13 - minmaxscaler\n",
      "{'copy': True, 'feature_range': (0, 1)}\n",
      "\n",
      "13 - sgdclassifierwrapper\n",
      "{'alpha': 4.693930612244897,\n",
      " 'class_weight': 'balanced',\n",
      " 'eta0': 0.001,\n",
      " 'fit_intercept': False,\n",
      " 'l1_ratio': 0.3877551020408163,\n",
      " 'learning_rate': 'constant',\n",
      " 'loss': 'squared_hinge',\n",
      " 'max_iter': 1000,\n",
      " 'n_jobs': 1,\n",
      " 'penalty': 'none',\n",
      " 'power_t': 0.3333333333333333,\n",
      " 'random_state': None,\n",
      " 'tol': 0.001}\n",
      "\n"
     ]
    }
   ],
   "source": [
    "#Example code from https://docs.microsoft.com/en-us/azure/machine-learning/how-to-configure-auto-features#scaling-and-normalization\n",
    "\n",
    "from pprint import pprint\n",
    "model = fitted_model\n",
    "\n",
    "def print_model(model, prefix=\"\"):\n",
    "    for step in model.steps:\n",
    "        print(prefix + step[0])\n",
    "        if hasattr(step[1], 'estimators') and hasattr(step[1], 'weights'):\n",
    "            pprint({'estimators': list(\n",
    "                e[0] for e in step[1].estimators), 'weights': step[1].weights})\n",
    "            print()\n",
    "            for estimator in step[1].estimators:\n",
    "                print_model(estimator[1], estimator[0] + ' - ')\n",
    "        else:\n",
    "            pprint(step[1].get_params())\n",
    "            print()\n",
    "\n",
    "print_model(model)"
   ]
  },
  {
   "cell_type": "markdown",
   "metadata": {},
   "source": [
    "## Best Model\n",
    "\n",
    "TODO: In the cell below, get the best model from the automl experiments and display all the properties of the model."
   ]
  },
  {
   "cell_type": "code",
   "execution_count": 12,
   "metadata": {
    "gather": {
     "logged": 1606390674847
    },
    "pycharm": {
     "name": "#%%\n"
    }
   },
   "outputs": [
    {
     "name": "stdout",
     "output_type": "stream",
     "text": [
      "AutoML44ab4b49528\n"
     ]
    }
   ],
   "source": [
    "# TODO: save best AutoML model\n",
    "model_name = best_run.properties['model_name']\n",
    "print(model_name)\n",
    "automl_model= auto_run.register_model(model_name=model_name)\n"
   ]
  },
  {
   "cell_type": "markdown",
   "metadata": {},
   "source": [
    "## Model Deployment\n",
    "\n",
    "Remember you have to deploy only one of the two models you trained.. Perform the steps in the rest of this notebook only if you wish to deploy this model.\n",
    "\n",
    "TODO: In the cell below, register the model, create an inference config and deploy the model as a web service."
   ]
  },
  {
   "cell_type": "code",
   "execution_count": 13,
   "metadata": {
    "gather": {
     "logged": 1598431435189
    },
    "jupyter": {
     "outputs_hidden": false,
     "source_hidden": false
    },
    "nteract": {
     "transient": {
      "deleting": false
     }
    }
   },
   "outputs": [
    {
     "name": "stdout",
     "output_type": "stream",
     "text": [
      "Tips: You can try get_logs(): https://aka.ms/debugimage#dockerlog or local deployment: https://aka.ms/debugimage#debug-locally to debug if deployment takes longer than 10 minutes.\n",
      "Running......................................\n",
      "Succeeded\n",
      "ACI service creation operation finished, operation \"Succeeded\"\n"
     ]
    }
   ],
   "source": [
    "# Code from https://docs.microsoft.com/en-us/python/api/overview/azure/ml/?view=azure-ml-py#model-deploy\n",
    "\n",
    "myenv.python.conda_dependencies.add_pip_package(\"joblib\")\n",
    "\n",
    "inference_config = InferenceConfig(entry_script=\"score.py\")\n",
    "\n",
    "# Set deployment configuration\n",
    "deployment_config = AciWebservice.deploy_configuration(cpu_cores = 1,\n",
    "                                                       memory_gb = 1)\n",
    "\n",
    "# Define the model, inference, & deployment configuration and web service name and location to deploy\n",
    "service = Model.deploy(workspace = ws,\n",
    "                       name = \"webservice\",\n",
    "                       models = [automl_model],\n",
    "                       inference_config = inference_config,\n",
    "                       deployment_config = deployment_config)\n",
    "\n",
    "service.wait_for_deployment(show_output=True)"
   ]
  },
  {
   "cell_type": "code",
   "execution_count": 14,
   "metadata": {
    "gather": {
     "logged": 1606387856204
    },
    "jupyter": {
     "outputs_hidden": false,
     "source_hidden": false
    },
    "nteract": {
     "transient": {
      "deleting": false
     }
    },
    "scrolled": true
   },
   "outputs": [
    {
     "name": "stdout",
     "output_type": "stream",
     "text": [
      "2020-11-27T07:17:38.3243566Z stdout F 2020-11-27T07:17:38,323008900+00:00 - iot-server/run \n",
      "2020-11-27T07:17:38.3256827Z stdout F 2020-11-27T07:17:38,325138900+00:00 - gunicorn/run \n",
      "2020-11-27T07:17:38.342712Z stdout F 2020-11-27T07:17:38,342490600+00:00 - rsyslog/run \n",
      "2020-11-27T07:17:38.3606638Z stdout F 2020-11-27T07:17:38,351783700+00:00 - nginx/run \n",
      "2020-11-27T07:17:38.3675054Z stderr F /usr/sbin/nginx: /azureml-envs/azureml_0e3a8a6dba181476a2523c12c58dfc97/lib/libcrypto.so.1.0.0: no version information available (required by /usr/sbin/nginx)\n",
      "2020-11-27T07:17:38.3675054Z stderr F /usr/sbin/nginx: /azureml-envs/azureml_0e3a8a6dba181476a2523c12c58dfc97/lib/libcrypto.so.1.0.0: no version information available (required by /usr/sbin/nginx)\n",
      "2020-11-27T07:17:38.3706679Z stderr F /usr/sbin/nginx: /azureml-envs/azureml_0e3a8a6dba181476a2523c12c58dfc97/lib/libssl.so.1.0.0: no version information available (required by /usr/sbin/nginx)\n",
      "2020-11-27T07:17:38.3706679Z stderr F /usr/sbin/nginx: /azureml-envs/azureml_0e3a8a6dba181476a2523c12c58dfc97/lib/libssl.so.1.0.0: no version information available (required by /usr/sbin/nginx)\n",
      "2020-11-27T07:17:38.3706679Z stderr F /usr/sbin/nginx: /azureml-envs/azureml_0e3a8a6dba181476a2523c12c58dfc97/lib/libssl.so.1.0.0: no version information available (required by /usr/sbin/nginx)\n",
      "2020-11-27T07:17:38.4317479Z stderr F rsyslogd: /azureml-envs/azureml_0e3a8a6dba181476a2523c12c58dfc97/lib/libuuid.so.1: no version information available (required by rsyslogd)\n",
      "2020-11-27T07:17:39.8062093Z stdout F EdgeHubConnectionString and IOTEDGE_IOTHUBHOSTNAME are not set. Exiting...\n",
      "2020-11-27T07:17:39.863224Z stdout F 2020-11-27T07:17:39,861448100+00:00 - iot-server/finish 1 0\n",
      "2020-11-27T07:17:39.863224Z stdout F 2020-11-27T07:17:39,862945000+00:00 - Exit code 1 is normal. Not restarting iot-server.\n",
      "2020-11-27T07:17:40.2992148Z stdout F Starting gunicorn 19.9.0\n",
      "2020-11-27T07:17:40.2992148Z stdout F Listening at: http://127.0.0.1:31311 (59)\n",
      "2020-11-27T07:17:40.300226Z stdout F Using worker: sync\n",
      "2020-11-27T07:17:40.300226Z stdout F worker timeout is set to 300\n",
      "2020-11-27T07:17:40.3062139Z stdout F Booting worker with pid: 97\n",
      "2020-11-27T07:17:42.5985098Z stdout F SPARK_HOME not set. Skipping PySpark Initialization.\n",
      "2020-11-27T07:17:42.5985098Z stdout F Initializing logger\n",
      "2020-11-27T07:17:42.5985098Z stdout F 2020-11-27 07:17:42,598 | root | INFO | Starting up app insights client\n",
      "2020-11-27T07:17:42.5985098Z stdout F Starting up app insights client\n",
      "2020-11-27T07:17:42.5995178Z stdout F 2020-11-27 07:17:42,599 | root | INFO | Starting up request id generator\n",
      "2020-11-27T07:17:42.5995178Z stdout F Starting up request id generator\n",
      "2020-11-27T07:17:42.5995178Z stdout F 2020-11-27 07:17:42,599 | root | INFO | Starting up app insight hooks\n",
      "2020-11-27T07:17:42.5995178Z stdout F Starting up app insight hooks\n",
      "2020-11-27T07:17:42.6005102Z stdout F 2020-11-27 07:17:42,600 | root | INFO | Invoking user's init function\n",
      "2020-11-27T07:17:42.6005102Z stdout F Invoking user's init function\n",
      "2020-11-27T07:17:46.0087268Z stdout F Generating new fontManager, this may take some time...\n",
      "2020-11-27T07:17:54.7762511Z stdout F 2020-11-27 07:17:54,772 | root | INFO | Users's init has completed successfully\n",
      "2020-11-27T07:17:54.7762511Z stdout F Users's init has completed successfully\n",
      "2020-11-27T07:17:54.7762511Z stdout F 2020-11-27 07:17:54,775 | root | INFO | Skipping middleware: dbg_model_info as it's not enabled.\n",
      "2020-11-27T07:17:54.7762511Z stdout F Skipping middleware: dbg_model_info as it's not enabled.\n",
      "2020-11-27T07:17:54.7762511Z stdout F 2020-11-27 07:17:54,776 | root | INFO | Skipping middleware: dbg_resource_usage as it's not enabled.\n",
      "2020-11-27T07:17:54.7762511Z stdout F Skipping middleware: dbg_resource_usage as it's not enabled.\n",
      "2020-11-27T07:17:54.7772639Z stdout F 2020-11-27 07:17:54,777 | root | INFO | Scoring timeout is found from os.environ: 60000 ms\n",
      "2020-11-27T07:17:54.7772639Z stdout F Scoring timeout is found from os.environ: 60000 ms\n",
      "2020-11-27T07:17:57.1074726Z stdout F 2020-11-27 07:17:57,106 | root | INFO | Swagger file not present\n",
      "2020-11-27T07:17:57.1074726Z stdout F Swagger file not present\n",
      "2020-11-27T07:17:57.1074726Z stdout F 2020-11-27 07:17:57,106 | root | INFO | 404\n",
      "2020-11-27T07:17:57.1074726Z stdout F 404\n",
      "2020-11-27T07:17:57.1084591Z stdout F 127.0.0.1 - - [27/Nov/2020:07:17:57 +0000] \"GET /swagger.json HTTP/1.0\" 404 19 \"-\" \"Go-http-client/1.1\"\n",
      "2020-11-27T07:17:59.8822889Z stdout F 2020-11-27 07:17:59,882 | root | INFO | Swagger file not present\n",
      "2020-11-27T07:17:59.8822889Z stdout F Swagger file not present\n",
      "2020-11-27T07:17:59.8822889Z stdout F 2020-11-27 07:17:59,882 | root | INFO | 404\n",
      "2020-11-27T07:17:59.8832341Z stdout F 404\n",
      "2020-11-27T07:17:59.8842551Z stdout F 127.0.0.1 - - [27/Nov/2020:07:17:59 +0000] \"GET /swagger.json HTTP/1.0\" 404 19 \"-\" \"Go-http-client/1.1\"\n",
      "2020-11-27T07:23:47.9377639Z stdout F 2020-11-27 07:23:47,935 | root | INFO | Swagger file not present\n",
      "2020-11-27T07:23:47.9377639Z stdout F Swagger file not present\n",
      "2020-11-27T07:23:47.9377639Z stdout F 2020-11-27 07:23:47,936 | root | INFO | 404\n",
      "2020-11-27T07:23:47.9377639Z stdout F 404\n",
      "2020-11-27T07:23:47.9397764Z stdout F 127.0.0.1 - - [27/Nov/2020:07:23:47 +0000] \"GET /swagger.json HTTP/1.0\" 404 19 \"-\" \"Go-http-client/1.1\"\n",
      "\n"
     ]
    }
   ],
   "source": [
    "print(service.get_logs())"
   ]
  },
  {
   "cell_type": "markdown",
   "metadata": {
    "collapsed": true,
    "gather": {
     "logged": 1598431657736
    },
    "jupyter": {
     "outputs_hidden": false,
     "source_hidden": false
    },
    "nteract": {
     "transient": {
      "deleting": false
     }
    }
   },
   "source": [
    "TODO: In the cell below, send a request to the web service you deployed to test it."
   ]
  },
  {
   "cell_type": "code",
   "execution_count": 44,
   "metadata": {},
   "outputs": [
    {
     "name": "stdout",
     "output_type": "stream",
     "text": [
      "Tips: You can try get_logs(): https://aka.ms/debugimage#dockerlog or local deployment: https://aka.ms/debugimage#debug-locally to debug if deployment takes longer than 10 minutes.\n",
      "Running.................................\n",
      "Succeeded\n",
      "ACI service creation operation finished, operation \"Succeeded\"\n"
     ]
    }
   ],
   "source": [
    "service.update(inference_config=inference_config)\n",
    "service.wait_for_deployment(show_output=True)"
   ]
  },
  {
   "cell_type": "code",
   "execution_count": 49,
   "metadata": {},
   "outputs": [
    {
     "name": "stdout",
     "output_type": "stream",
     "text": [
      "[{\"donor_age_below_35\":1,\"donor_CMV\":0,\"recipient_age_below_10\":1,\"recipient_gender\":1,\"recipient_rh\":1,\"recipient_CMV\":0,\"gender_match\":1,\"ABO_match\":0,\"HLA_mismatch\":1,\"risk_group\":1,\"stem_cell_source\":1,\"tx_post_relapse\":1,\"ANC_recovery\":1,\"PLT_recovery\":1,\"acute_GvHD_II_III_IV\":0,\"acute_GvHD_III_IV\":0,\"relapse\":0,\"donor_age\":0.2860763358,\"recipient_age\":0.170212766,\"recipient_body_mass\":0.0764082543,\"CD34_x1e6_per_kg\":0.1030005264,\"CD3_x1e8_per_kg\":0.0592638802,\"CD3_to_CD34_ratio\":0.0642309858,\"time_to_ANC_recovery\":0.4615384615,\"time_to_PLT_recovery\":0.3198380567,\"time_to_acute_GvHD_III_IV\":0.0,\"donor_ABO_0\":0,\"donor_ABO_A\":1,\"donor_ABO_AB\":0,\"donor_ABO_B\":0,\"recipient_age_int_0_5\":1,\"recipient_age_int_10_20\":0,\"recipient_age_int_5_10\":0,\"recipient_ABO_0\":1,\"recipient_ABO_A\":0,\"recipient_ABO_AB\":0,\"recipient_ABO_B\":0,\"disease_ALL\":0,\"disease_AML\":0,\"disease_chronic\":0,\"disease_lymphoma\":0,\"disease_nonmalignant\":1,\"disease_group_malignant\":0,\"disease_group_nonmalignant\":1,\"CMV_status_0\":1,\"CMV_status_1\":0,\"CMV_status_2\":0,\"CMV_status_3\":0,\"HLA_match_10\\/10\":1,\"HLA_match_7\\/10\":0,\"HLA_match_8\\/10\":0,\"HLA_match_9\\/10\":0,\"antigen_0\":1,\"antigen_1\":0,\"antigen_2\":0,\"antigen_3\":0,\"allel_0\":1,\"allel_1\":0,\"allel_2\":0,\"allel_3\":0,\"allel_4\":0,\"HLA_group_1_DRB1_cell\":0,\"HLA_group_1_matched\":1,\"HLA_group_1_mismatched\":0,\"HLA_group_1_one_allel\":0,\"HLA_group_1_one_antigen\":0,\"HLA_group_1_three_diffs\":0,\"HLA_group_1_two_diffs\":0}]\n"
     ]
    }
   ],
   "source": [
    "x_test_json = x_test[:1].to_json(orient='records')\n",
    "print(x_test_json)"
   ]
  },
  {
   "cell_type": "code",
   "execution_count": 73,
   "metadata": {
    "gather": {
     "logged": 1598432707604
    },
    "jupyter": {
     "outputs_hidden": false,
     "source_hidden": false
    },
    "nteract": {
     "transient": {
      "deleting": false
     }
    }
   },
   "outputs": [
    {
     "name": "stdout",
     "output_type": "stream",
     "text": [
      "1\n",
      "[1]\n"
     ]
    }
   ],
   "source": [
    "df_test = training_data.to_pandas_dataframe()\n",
    "y_test=df_test['survival_status']\n",
    "x_test=df_test.drop(['survival_status'],axis=1)\n",
    "print(y_test[1])\n",
    "\n",
    "if service.state == 'Healthy':\n",
    "    x_test_json = x_test[:1].to_json(orient='records')\n",
    "\n",
    "    output = service.run(x_test_json)\n",
    "\n",
    "    print(output)"
   ]
  },
  {
   "cell_type": "code",
   "execution_count": 71,
   "metadata": {},
   "outputs": [
    {
     "name": "stdout",
     "output_type": "stream",
     "text": [
      "2020-11-27T08:27:24.42469Z stdout F 2020-11-27T08:27:23,630128800+00:00 - gunicorn/run \n",
      "2020-11-27T08:27:24.4252927Z stdout F 2020-11-27T08:27:23,630458300+00:00 - rsyslog/run \n",
      "2020-11-27T08:27:24.4330956Z stdout F 2020-11-27T08:27:23,639759100+00:00 - iot-server/run \n",
      "2020-11-27T08:27:24.5760399Z stdout F 2020-11-27T08:27:23,749940900+00:00 - nginx/run \n",
      "2020-11-27T08:27:24.5940243Z stderr F /usr/sbin/nginx: /azureml-envs/azureml_0e3a8a6dba181476a2523c12c58dfc97/lib/libcrypto.so.1.0.0: no version information available (required by /usr/sbin/nginx)\n",
      "2020-11-27T08:27:24.5940243Z stderr F /usr/sbin/nginx: /azureml-envs/azureml_0e3a8a6dba181476a2523c12c58dfc97/lib/libcrypto.so.1.0.0: no version information available (required by /usr/sbin/nginx)\n",
      "2020-11-27T08:27:24.5980337Z stderr F /usr/sbin/nginx: /azureml-envs/azureml_0e3a8a6dba181476a2523c12c58dfc97/lib/libssl.so.1.0.0: no version information available (required by /usr/sbin/nginx)\n",
      "2020-11-27T08:27:24.5980337Z stderr F /usr/sbin/nginx: /azureml-envs/azureml_0e3a8a6dba181476a2523c12c58dfc97/lib/libssl.so.1.0.0: no version information available (required by /usr/sbin/nginx)\n",
      "2020-11-27T08:27:24.5980337Z stderr F /usr/sbin/nginx: /azureml-envs/azureml_0e3a8a6dba181476a2523c12c58dfc97/lib/libssl.so.1.0.0: no version information available (required by /usr/sbin/nginx)\n",
      "2020-11-27T08:27:24.7100083Z stderr F rsyslogd: /azureml-envs/azureml_0e3a8a6dba181476a2523c12c58dfc97/lib/libuuid.so.1: no version information available (required by rsyslogd)\n",
      "2020-11-27T08:27:28.2873486Z stdout F EdgeHubConnectionString and IOTEDGE_IOTHUBHOSTNAME are not set. Exiting...\n",
      "2020-11-27T08:27:28.2953898Z stdout F 2020-11-27T08:27:27,501785800+00:00 - iot-server/finish 1 0\n",
      "2020-11-27T08:27:28.3053204Z stdout F 2020-11-27T08:27:27,511316900+00:00 - Exit code 1 is normal. Not restarting iot-server.\n",
      "2020-11-27T08:27:28.3343544Z stdout F Starting gunicorn 19.9.0\n",
      "2020-11-27T08:27:28.335301Z stdout F Listening at: http://127.0.0.1:31311 (61)\n",
      "2020-11-27T08:27:28.335301Z stdout F Using worker: sync\n",
      "2020-11-27T08:27:28.3432963Z stdout F worker timeout is set to 300\n",
      "2020-11-27T08:27:28.346294Z stdout F Booting worker with pid: 91\n",
      "2020-11-27T08:27:35.6735735Z stdout F SPARK_HOME not set. Skipping PySpark Initialization.\n",
      "2020-11-27T08:27:35.6765627Z stdout F Generating new fontManager, this may take some time...\n",
      "2020-11-27T08:27:38.7742616Z stdout F Initializing logger\n",
      "2020-11-27T08:27:38.7742616Z stdout F 2020-11-27 08:27:37,979 | root | INFO | Starting up app insights client\n",
      "2020-11-27T08:27:38.7742616Z stdout F Starting up app insights client\n",
      "2020-11-27T08:27:38.7862635Z stdout F 2020-11-27 08:27:37,981 | root | INFO | Starting up request id generator\n",
      "2020-11-27T08:27:38.7862635Z stdout F Starting up request id generator\n",
      "2020-11-27T08:27:38.7862635Z stdout F 2020-11-27 08:27:37,981 | root | INFO | Starting up app insight hooks\n",
      "2020-11-27T08:27:38.7862635Z stdout F Starting up app insight hooks\n",
      "2020-11-27T08:27:38.7862635Z stdout F 2020-11-27 08:27:37,982 | root | INFO | Invoking user's init function\n",
      "2020-11-27T08:27:38.7862635Z stdout F Invoking user's init function\n",
      "2020-11-27T08:27:56.8311468Z stdout F 2020-11-27 08:27:56,037 | root | INFO | Users's init has completed successfully\n",
      "2020-11-27T08:27:56.8311468Z stdout F Users's init has completed successfully\n",
      "2020-11-27T08:27:56.849219Z stdout F 2020-11-27 08:27:56,055 | root | INFO | Skipping middleware: dbg_model_info as it's not enabled.\n",
      "2020-11-27T08:27:56.849219Z stdout F Skipping middleware: dbg_model_info as it's not enabled.\n",
      "2020-11-27T08:27:56.849219Z stdout F 2020-11-27 08:27:56,055 | root | INFO | Skipping middleware: dbg_resource_usage as it's not enabled.\n",
      "2020-11-27T08:27:56.849219Z stdout F Skipping middleware: dbg_resource_usage as it's not enabled.\n",
      "2020-11-27T08:27:56.8592406Z stdout F 2020-11-27 08:27:56,060 | root | INFO | Scoring timeout is found from os.environ: 60000 ms\n",
      "2020-11-27T08:27:56.8592406Z stdout F Scoring timeout is found from os.environ: 60000 ms\n",
      "2020-11-27T08:28:03.8505795Z stdout F 2020-11-27 08:28:03,056 | root | INFO | Swagger file not present\n",
      "2020-11-27T08:28:03.8505795Z stdout F Swagger file not present\n",
      "2020-11-27T08:28:03.8515903Z stdout F 2020-11-27 08:28:03,057 | root | INFO | 404\n",
      "2020-11-27T08:28:03.8515903Z stdout F 404\n",
      "2020-11-27T08:28:03.8625737Z stdout F 127.0.0.1 - - [27/Nov/2020:08:28:03 +0000] \"GET /swagger.json HTTP/1.0\" 404 19 \"-\" \"Go-http-client/1.1\"\n",
      "2020-11-27T08:28:07.0069917Z stdout F 2020-11-27 08:28:06,214 | root | INFO | Swagger file not present\n",
      "2020-11-27T08:28:07.0069917Z stdout F Swagger file not present\n",
      "2020-11-27T08:28:07.0079705Z stdout F 2020-11-27 08:28:06,214 | root | INFO | 404\n",
      "2020-11-27T08:28:07.0079705Z stdout F 404\n",
      "2020-11-27T08:28:07.0154041Z stdout F 127.0.0.1 - - [27/Nov/2020:08:28:06 +0000] \"GET /swagger.json HTTP/1.0\" 404 19 \"-\" \"Go-http-client/1.1\"\n",
      "2020-11-27T08:28:14.3618259Z stdout F 2020-11-27 08:28:13,567 | root | INFO | Validation Request Content-Type\n",
      "2020-11-27T08:28:14.3618259Z stdout F Validation Request Content-Type\n",
      "2020-11-27T08:28:14.3618259Z stdout F 2020-11-27 08:28:13,568 | root | INFO | \tHost: localhost:5001\n",
      "2020-11-27T08:28:14.3618259Z stdout F \tHost: localhost:5001\n",
      "2020-11-27T08:28:14.3628463Z stdout F 2020-11-27 08:28:13,568 | root | INFO | \tX-Real-Ip: 127.0.0.1\n",
      "2020-11-27T08:28:14.3628463Z stdout F \tX-Real-Ip: 127.0.0.1\n",
      "2020-11-27T08:28:14.3628463Z stdout F 2020-11-27 08:28:13,569 | root | INFO | \tX-Forwarded-For: 127.0.0.1\n",
      "2020-11-27T08:28:14.3628463Z stdout F \tX-Forwarded-For: 127.0.0.1\n",
      "2020-11-27T08:28:14.3628463Z stdout F 2020-11-27 08:28:13,569 | root | INFO | \tX-Forwarded-Proto: http\n",
      "2020-11-27T08:28:14.3628463Z stdout F \tX-Forwarded-Proto: http\n",
      "2020-11-27T08:28:14.3678156Z stdout F 2020-11-27 08:28:13,569 | root | INFO | \tConnection: close\n",
      "2020-11-27T08:28:14.3678156Z stdout F \tConnection: close\n",
      "2020-11-27T08:28:14.3678156Z stdout F 2020-11-27 08:28:13,569 | root | INFO | \tContent-Length: 1463\n",
      "2020-11-27T08:28:14.3678156Z stdout F \tContent-Length: 1463\n",
      "2020-11-27T08:28:14.3749438Z stdout F 2020-11-27 08:28:13,574 | root | INFO | \tUser-Agent: python-requests/2.24.0\n",
      "2020-11-27T08:28:14.3749438Z stdout F \tUser-Agent: python-requests/2.24.0\n",
      "2020-11-27T08:28:14.3749438Z stdout F 2020-11-27 08:28:13,575 | root | INFO | \tAccept: application/json\n",
      "2020-11-27T08:28:14.3749438Z stdout F \tAccept: application/json\n",
      "2020-11-27T08:28:14.3749438Z stdout F 2020-11-27 08:28:13,576 | root | INFO | \tAccept-Encoding: gzip, deflate\n",
      "2020-11-27T08:28:14.3749438Z stdout F \tAccept-Encoding: gzip, deflate\n",
      "2020-11-27T08:28:14.3749438Z stdout F 2020-11-27 08:28:13,576 | root | INFO | \tContent-Type: application/json\n",
      "2020-11-27T08:28:14.3749438Z stdout F \tContent-Type: application/json\n",
      "2020-11-27T08:28:14.3749438Z stdout F 2020-11-27 08:28:13,576 | root | INFO | \tX-Ms-Request-Id: 39bcddf6-5359-4f80-b85b-d4b9c9fc70d3\n",
      "2020-11-27T08:28:14.3749438Z stdout F \tX-Ms-Request-Id: 39bcddf6-5359-4f80-b85b-d4b9c9fc70d3\n",
      "2020-11-27T08:28:14.3749438Z stdout F 2020-11-27 08:28:13,577 | root | INFO | Scoring Timer is set to 60.0 seconds\n",
      "2020-11-27T08:28:14.3749438Z stdout F Scoring Timer is set to 60.0 seconds\n",
      "2020-11-27T08:28:14.4850341Z stdout F 2020-11-27 08:28:13,691 | root | ERROR | Encountered Exception: Traceback (most recent call last):\n",
      "2020-11-27T08:28:14.4850341Z stdout F   File \"/var/azureml-server/app.py\", line 239, in run_scoring\n",
      "2020-11-27T08:28:14.4850341Z stdout F     response = invoke_user_with_timer(service_input, request_headers)\n",
      "2020-11-27T08:28:14.4850341Z stdout F   File \"/var/azureml-server/app.py\", line 309, in invoke_user_with_timer\n",
      "2020-11-27T08:28:14.4850341Z stdout F     result = user_main.run(**params)\n",
      "2020-11-27T08:28:14.4850341Z stdout F   File \"/var/azureml-app/main.py\", line 21, in run\n",
      "2020-11-27T08:28:14.4850341Z stdout F     return_obj = driver_module.run(**arguments)\n",
      "2020-11-27T08:28:14.4850341Z stdout F   File \"/var/azureml-app/score.py\", line 24, in run\n",
      "2020-11-27T08:28:14.4850341Z stdout F     y = model.predict(data)\n",
      "2020-11-27T08:28:14.4850341Z stdout F   File \"/azureml-envs/azureml_0e3a8a6dba181476a2523c12c58dfc97/lib/python3.6/site-packages/sklearn/utils/metaestimators.py\", line 116, in <lambda>\n",
      "2020-11-27T08:28:14.4850341Z stdout F     out = lambda *args, **kwargs: self.fn(obj, *args, **kwargs)\n",
      "2020-11-27T08:28:14.4850341Z stdout F   File \"/azureml-envs/azureml_0e3a8a6dba181476a2523c12c58dfc97/lib/python3.6/site-packages/sklearn/pipeline.py\", line 419, in predict\n",
      "2020-11-27T08:28:14.4850341Z stdout F     Xt = transform.transform(Xt)\n",
      "2020-11-27T08:28:14.4850341Z stdout F   File \"/azureml-envs/azureml_0e3a8a6dba181476a2523c12c58dfc97/lib/python3.6/site-packages/azureml/automl/core/shared/logging_utilities.py\", line 302, in debug_log_wrapped\n",
      "2020-11-27T08:28:14.4850341Z stdout F     r = f(self, *args, **kwargs)\n",
      "2020-11-27T08:28:14.4850341Z stdout F   File \"/azureml-envs/azureml_0e3a8a6dba181476a2523c12c58dfc97/lib/python3.6/site-packages/azureml/automl/runtime/featurization/data_transformer.py\", line 430, in transform\n",
      "2020-11-27T08:28:14.4850341Z stdout F     df = self._check_columns_names_and_convert_types(df, self._columns_types_mapping)\n",
      "2020-11-27T08:28:14.4850341Z stdout F   File \"/azureml-envs/azureml_0e3a8a6dba181476a2523c12c58dfc97/lib/python3.6/site-packages/azureml/automl/runtime/featurization/data_transformer.py\", line 1464, in _check_columns_names_and_convert_types\n",
      "2020-11-27T08:28:14.4850341Z stdout F     reference_code=ReferenceCodes._DATA_TRANSFORMER_TRANSFROM_COLUMN_NOT_FOUND\n",
      "2020-11-27T08:28:14.4850341Z stdout F azureml.automl.core.shared.exceptions.DataException: DataException:\n",
      "2020-11-27T08:28:14.4850341Z stdout F \tMessage: Expected column(s) survival_status not found in fitted data.\n",
      "2020-11-27T08:28:14.4850341Z stdout F \tInnerException: None\n",
      "2020-11-27T08:28:14.4850341Z stdout F \tErrorResponse \n",
      "2020-11-27T08:28:14.4850341Z stdout F {\n",
      "2020-11-27T08:28:14.4850341Z stdout F     \"error\": {\n",
      "2020-11-27T08:28:14.4850341Z stdout F         \"code\": \"UserError\",\n",
      "2020-11-27T08:28:14.4850341Z stdout F         \"message\": \"Expected column(s) survival_status not found in fitted data.\",\n",
      "2020-11-27T08:28:14.4850341Z stdout F         \"target\": \"X\",\n",
      "2020-11-27T08:28:14.4850341Z stdout F         \"inner_error\": {\n",
      "2020-11-27T08:28:14.4850341Z stdout F             \"code\": \"BadArgument\",\n",
      "2020-11-27T08:28:14.4850341Z stdout F             \"inner_error\": {\n",
      "2020-11-27T08:28:14.4850341Z stdout F                 \"code\": \"MissingColumnsInData\"\n",
      "2020-11-27T08:28:14.4850341Z stdout F             }\n",
      "2020-11-27T08:28:14.4850341Z stdout F         },\n",
      "2020-11-27T08:28:14.4850341Z stdout F         \"reference_code\": \"17049f70-3bbe-4060-a63f-f06590e784e5\"\n",
      "2020-11-27T08:28:14.4850341Z stdout F     }\n",
      "2020-11-27T08:28:14.4850341Z stdout F }\n",
      "2020-11-27T08:28:14.4850341Z stdout F \n",
      "2020-11-27T08:28:14.4850341Z stdout F During handling of the above exception, another exception occurred:\n",
      "2020-11-27T08:28:14.4850341Z stdout F \n",
      "2020-11-27T08:28:14.4850341Z stdout F Traceback (most recent call last):\n",
      "2020-11-27T08:28:14.4850341Z stdout F   File \"/azureml-envs/azureml_0e3a8a6dba181476a2523c12c58dfc97/lib/python3.6/site-packages/flask/app.py\", line 1832, in full_dispatch_request\n",
      "2020-11-27T08:28:14.4850341Z stdout F     rv = self.dispatch_request()\n",
      "2020-11-27T08:28:14.4850341Z stdout F   File \"/azureml-envs/azureml_0e3a8a6dba181476a2523c12c58dfc97/lib/python3.6/site-packages/flask/app.py\", line 1818, in dispatch_request\n",
      "2020-11-27T08:28:14.4850341Z stdout F     return self.view_functions[rule.endpoint](**req.view_args)\n",
      "2020-11-27T08:28:14.4850341Z stdout F   File \"/var/azureml-server/app.py\", line 142, in score_realtime\n",
      "2020-11-27T08:28:14.4850341Z stdout F     return run_scoring(service_input, request.headers, request.environ.get('REQUEST_ID', '00000000-0000-0000-0000-000000000000'))\n",
      "2020-11-27T08:28:14.4850341Z stdout F   File \"/var/azureml-server/app.py\", line 252, in run_scoring\n",
      "2020-11-27T08:28:14.4850341Z stdout F     raise RunFunctionException(str(exc))\n",
      "2020-11-27T08:28:14.4850341Z stdout F run_function_exception.RunFunctionException\n",
      "2020-11-27T08:28:14.4850341Z stdout F \n",
      "2020-11-27T08:28:14.4850341Z stdout F Encountered Exception: Traceback (most recent call last):\n",
      "2020-11-27T08:28:14.4850341Z stdout F   File \"/var/azureml-server/app.py\", line 239, in run_scoring\n",
      "2020-11-27T08:28:14.4850341Z stdout F     response = invoke_user_with_timer(service_input, request_headers)\n",
      "2020-11-27T08:28:14.4850341Z stdout F   File \"/var/azureml-server/app.py\", line 309, in invoke_user_with_timer\n",
      "2020-11-27T08:28:14.4850341Z stdout F     result = user_main.run(**params)\n",
      "2020-11-27T08:28:14.4850341Z stdout F   File \"/var/azureml-app/main.py\", line 21, in run\n",
      "2020-11-27T08:28:14.4850341Z stdout F     return_obj = driver_module.run(**arguments)\n",
      "2020-11-27T08:28:14.4850341Z stdout F   File \"/var/azureml-app/score.py\", line 24, in run\n",
      "2020-11-27T08:28:14.4850341Z stdout F     y = model.predict(data)\n",
      "2020-11-27T08:28:14.4850341Z stdout F   File \"/azureml-envs/azureml_0e3a8a6dba181476a2523c12c58dfc97/lib/python3.6/site-packages/sklearn/utils/metaestimators.py\", line 116, in <lambda>\n",
      "2020-11-27T08:28:14.4850341Z stdout F     out = lambda *args, **kwargs: self.fn(obj, *args, **kwargs)\n",
      "2020-11-27T08:28:14.4850341Z stdout F   File \"/azureml-envs/azureml_0e3a8a6dba181476a2523c12c58dfc97/lib/python3.6/site-packages/sklearn/pipeline.py\", line 419, in predict\n",
      "2020-11-27T08:28:14.4850341Z stdout F     Xt = transform.transform(Xt)\n",
      "2020-11-27T08:28:14.4850341Z stdout F   File \"/azureml-envs/azureml_0e3a8a6dba181476a2523c12c58dfc97/lib/python3.6/site-packages/azureml/automl/core/shared/logging_utilities.py\", line 302, in debug_log_wrapped\n",
      "2020-11-27T08:28:14.4850341Z stdout F     r = f(self, *args, **kwargs)\n",
      "2020-11-27T08:28:14.4850341Z stdout F   File \"/azureml-envs/azureml_0e3a8a6dba181476a2523c12c58dfc97/lib/python3.6/site-packages/azureml/automl/runtime/featurization/data_transformer.py\", line 430, in transform\n",
      "2020-11-27T08:28:14.4850341Z stdout F     df = self._check_columns_names_and_convert_types(df, self._columns_types_mapping)\n",
      "2020-11-27T08:28:14.4850341Z stdout F   File \"/azureml-envs/azureml_0e3a8a6dba181476a2523c12c58dfc97/lib/python3.6/site-packages/azureml/automl/runtime/featurization/data_transformer.py\", line 1464, in _check_columns_names_and_convert_types\n",
      "2020-11-27T08:28:14.4850341Z stdout F     reference_code=ReferenceCodes._DATA_TRANSFORMER_TRANSFROM_COLUMN_NOT_FOUND\n",
      "2020-11-27T08:28:14.4850341Z stdout F azureml.automl.core.shared.exceptions.DataException: DataException:\n",
      "2020-11-27T08:28:14.4850341Z stdout F \tMessage: Expected column(s) survival_status not found in fitted data.\n",
      "2020-11-27T08:28:14.4850341Z stdout F \tInnerException: None\n",
      "2020-11-27T08:28:14.4860445Z stdout F \tErrorResponse \n",
      "2020-11-27T08:28:14.4860445Z stdout F {\n",
      "2020-11-27T08:28:14.4860445Z stdout F     \"error\": {\n",
      "2020-11-27T08:28:14.4860445Z stdout F         \"code\": \"UserError\",\n",
      "2020-11-27T08:28:14.4860445Z stdout F         \"message\": \"Expected column(s) survival_status not found in fitted data.\",\n",
      "2020-11-27T08:28:14.4860445Z stdout F         \"target\": \"X\",\n",
      "2020-11-27T08:28:14.4860445Z stdout F         \"inner_error\": {\n",
      "2020-11-27T08:28:14.4860445Z stdout F             \"code\": \"BadArgument\",\n",
      "2020-11-27T08:28:14.4860445Z stdout F             \"inner_error\": {\n",
      "2020-11-27T08:28:14.4860445Z stdout F                 \"code\": \"MissingColumnsInData\"\n",
      "2020-11-27T08:28:14.4860445Z stdout F             }\n",
      "2020-11-27T08:28:14.4860445Z stdout F         },\n",
      "2020-11-27T08:28:14.4860445Z stdout F         \"reference_code\": \"17049f70-3bbe-4060-a63f-f06590e784e5\"\n",
      "2020-11-27T08:28:14.4860445Z stdout F     }\n",
      "2020-11-27T08:28:14.4860445Z stdout F }\n",
      "2020-11-27T08:28:14.4860445Z stdout F \n",
      "2020-11-27T08:28:14.4860445Z stdout F During handling of the above exception, another exception occurred:\n",
      "2020-11-27T08:28:14.4860445Z stdout F \n",
      "2020-11-27T08:28:14.4860445Z stdout F Traceback (most recent call last):\n",
      "2020-11-27T08:28:14.4860445Z stdout F   File \"/azureml-envs/azureml_0e3a8a6dba181476a2523c12c58dfc97/lib/python3.6/site-packages/flask/app.py\", line 1832, in full_dispatch_request\n",
      "2020-11-27T08:28:14.4860445Z stdout F     rv = self.dispatch_request()\n",
      "2020-11-27T08:28:14.4860445Z stdout F   File \"/azureml-envs/azureml_0e3a8a6dba181476a2523c12c58dfc97/lib/python3.6/site-packages/flask/app.py\", line 1818, in dispatch_request\n",
      "2020-11-27T08:28:14.4860445Z stdout F     return self.view_functions[rule.endpoint](**req.view_args)\n",
      "2020-11-27T08:28:14.4860445Z stdout F   File \"/var/azureml-server/app.py\", line 142, in score_realtime\n",
      "2020-11-27T08:28:14.4860445Z stdout F     return run_scoring(service_input, request.headers, request.environ.get('REQUEST_ID', '00000000-0000-0000-0000-000000000000'))\n",
      "2020-11-27T08:28:14.4860445Z stdout F   File \"/var/azureml-server/app.py\", line 252, in run_scoring\n",
      "2020-11-27T08:28:14.4860445Z stdout F     raise RunFunctionException(str(exc))\n",
      "2020-11-27T08:28:14.4860445Z stdout F run_function_exception.RunFunctionException\n",
      "2020-11-27T08:28:14.4860445Z stdout F \n",
      "2020-11-27T08:28:14.4860445Z stdout F 2020-11-27 08:28:13,691 | root | INFO | 500\n",
      "2020-11-27T08:28:14.4860445Z stdout F 500\n",
      "2020-11-27T08:28:14.4870549Z stdout F 127.0.0.1 - - [27/Nov/2020:08:28:13 +0000] \"POST /score HTTP/1.0\" 500 509 \"-\" \"python-requests/2.24.0\"\n",
      "2020-11-27T08:29:14.3783972Z stdout F Exception in worker process\n",
      "2020-11-27T08:29:14.3783972Z stdout F Traceback (most recent call last):\n",
      "2020-11-27T08:29:14.3783972Z stdout F   File \"/azureml-envs/azureml_0e3a8a6dba181476a2523c12c58dfc97/lib/python3.6/site-packages/gunicorn/arbiter.py\", line 583, in spawn_worker\n",
      "2020-11-27T08:29:14.3783972Z stdout F     worker.init_process()\n",
      "2020-11-27T08:29:14.3783972Z stdout F   File \"/azureml-envs/azureml_0e3a8a6dba181476a2523c12c58dfc97/lib/python3.6/site-packages/gunicorn/workers/base.py\", line 134, in init_process\n",
      "2020-11-27T08:29:14.3783972Z stdout F     self.run()\n",
      "2020-11-27T08:29:14.3783972Z stdout F   File \"/azureml-envs/azureml_0e3a8a6dba181476a2523c12c58dfc97/lib/python3.6/site-packages/gunicorn/workers/sync.py\", line 124, in run\n",
      "2020-11-27T08:29:14.3783972Z stdout F     self.run_for_one(timeout)\n",
      "2020-11-27T08:29:14.3783972Z stdout F   File \"/azureml-envs/azureml_0e3a8a6dba181476a2523c12c58dfc97/lib/python3.6/site-packages/gunicorn/workers/sync.py\", line 83, in run_for_one\n",
      "2020-11-27T08:29:14.3783972Z stdout F     self.wait(timeout)\n",
      "2020-11-27T08:29:14.3783972Z stdout F   File \"/azureml-envs/azureml_0e3a8a6dba181476a2523c12c58dfc97/lib/python3.6/site-packages/gunicorn/workers/sync.py\", line 35, in wait\n",
      "2020-11-27T08:29:14.3783972Z stdout F     ret = select.select(self.wait_fds, [], [], timeout)\n",
      "2020-11-27T08:29:14.3783972Z stdout F   File \"/var/azureml-server/app.py\", line 279, in alarm_handler\n",
      "2020-11-27T08:29:14.3783972Z stdout F     raise TimeoutException(error_message)\n",
      "2020-11-27T08:29:14.3783972Z stdout F timeout_exception.TimeoutException\n",
      "2020-11-27T08:29:14.3783972Z stdout F Worker exiting (pid: 91)\n",
      "2020-11-27T08:29:15.8988726Z stdout F worker timeout is set to 300\n",
      "2020-11-27T08:29:15.9058659Z stdout F Booting worker with pid: 123\n",
      "2020-11-27T08:29:17.5740503Z stdout F SPARK_HOME not set. Skipping PySpark Initialization.\n",
      "2020-11-27T08:29:17.5740503Z stdout F Initializing logger\n",
      "2020-11-27T08:29:17.5740503Z stdout F 2020-11-27 08:29:16,780 | root | INFO | Starting up app insights client\n",
      "2020-11-27T08:29:17.5740503Z stdout F Starting up app insights client\n",
      "2020-11-27T08:29:17.5833277Z stdout F 2020-11-27 08:29:16,784 | root | INFO | Starting up request id generator\n",
      "2020-11-27T08:29:17.5833277Z stdout F Starting up request id generator\n",
      "2020-11-27T08:29:17.5833277Z stdout F 2020-11-27 08:29:16,784 | root | INFO | Starting up app insight hooks\n",
      "2020-11-27T08:29:17.5833277Z stdout F Starting up app insight hooks\n",
      "2020-11-27T08:29:17.5833277Z stdout F 2020-11-27 08:29:16,785 | root | INFO | Invoking user's init function\n",
      "2020-11-27T08:29:17.5833277Z stdout F Invoking user's init function\n",
      "2020-11-27T08:29:21.2822942Z stdout F 2020-11-27 08:29:20,488 | root | INFO | Users's init has completed successfully\n",
      "2020-11-27T08:29:21.2822942Z stdout F Users's init has completed successfully\n",
      "2020-11-27T08:29:21.2885577Z stdout F 2020-11-27 08:29:20,491 | root | INFO | Skipping middleware: dbg_model_info as it's not enabled.\n",
      "2020-11-27T08:29:21.2885577Z stdout F Skipping middleware: dbg_model_info as it's not enabled.\n",
      "2020-11-27T08:29:21.2885577Z stdout F 2020-11-27 08:29:20,491 | root | INFO | Skipping middleware: dbg_resource_usage as it's not enabled.\n",
      "2020-11-27T08:29:21.2885577Z stdout F Skipping middleware: dbg_resource_usage as it's not enabled.\n",
      "2020-11-27T08:29:21.2885577Z stdout F 2020-11-27 08:29:20,492 | root | INFO | Scoring timeout is found from os.environ: 60000 ms\n",
      "2020-11-27T08:29:21.2885577Z stdout F Scoring timeout is found from os.environ: 60000 ms\n",
      "2020-11-27T08:33:14.5721469Z stdout F 2020-11-27 08:33:13,778 | root | INFO | Validation Request Content-Type\n",
      "2020-11-27T08:33:14.5721469Z stdout F Validation Request Content-Type\n",
      "2020-11-27T08:33:14.5761841Z stdout F 2020-11-27 08:33:13,779 | root | INFO | \tHost: localhost:5001\n",
      "2020-11-27T08:33:14.5761841Z stdout F \tHost: localhost:5001\n",
      "2020-11-27T08:33:14.5761841Z stdout F 2020-11-27 08:33:13,779 | root | INFO | \tX-Real-Ip: 127.0.0.1\n",
      "2020-11-27T08:33:14.5761841Z stdout F \tX-Real-Ip: 127.0.0.1\n",
      "2020-11-27T08:33:14.5831654Z stdout F 2020-11-27 08:33:13,779 | root | INFO | \tX-Forwarded-For: 127.0.0.1\n",
      "2020-11-27T08:33:14.5831654Z stdout F \tX-Forwarded-For: 127.0.0.1\n",
      "2020-11-27T08:33:14.5831654Z stdout F 2020-11-27 08:33:13,780 | root | INFO | \tX-Forwarded-Proto: http\n",
      "2020-11-27T08:33:14.5831654Z stdout F \tX-Forwarded-Proto: http\n",
      "2020-11-27T08:33:14.5831654Z stdout F 2020-11-27 08:33:13,780 | root | INFO | \tConnection: close\n",
      "2020-11-27T08:33:14.5831654Z stdout F \tConnection: close\n",
      "2020-11-27T08:33:14.5831654Z stdout F 2020-11-27 08:33:13,780 | root | INFO | \tContent-Length: 1442\n",
      "2020-11-27T08:33:14.5831654Z stdout F \tContent-Length: 1442\n",
      "2020-11-27T08:33:14.5831654Z stdout F 2020-11-27 08:33:13,780 | root | INFO | \tUser-Agent: python-requests/2.24.0\n",
      "2020-11-27T08:33:14.5831654Z stdout F \tUser-Agent: python-requests/2.24.0\n",
      "2020-11-27T08:33:14.5831654Z stdout F 2020-11-27 08:33:13,781 | root | INFO | \tAccept: application/json\n",
      "2020-11-27T08:33:14.5831654Z stdout F \tAccept: application/json\n",
      "2020-11-27T08:33:14.5831654Z stdout F 2020-11-27 08:33:13,781 | root | INFO | \tAccept-Encoding: gzip, deflate\n",
      "2020-11-27T08:33:14.5831654Z stdout F \tAccept-Encoding: gzip, deflate\n",
      "2020-11-27T08:33:14.5831654Z stdout F 2020-11-27 08:33:13,781 | root | INFO | \tContent-Type: application/json\n",
      "2020-11-27T08:33:14.5831654Z stdout F \tContent-Type: application/json\n",
      "2020-11-27T08:33:14.5831654Z stdout F 2020-11-27 08:33:13,781 | root | INFO | \tX-Ms-Request-Id: 222a13b7-c84b-489c-ac8d-488700511086\n",
      "2020-11-27T08:33:14.5831654Z stdout F \tX-Ms-Request-Id: 222a13b7-c84b-489c-ac8d-488700511086\n",
      "2020-11-27T08:33:14.5831654Z stdout F 2020-11-27 08:33:13,781 | root | INFO | Scoring Timer is set to 60.0 seconds\n",
      "2020-11-27T08:33:14.5831654Z stdout F Scoring Timer is set to 60.0 seconds\n",
      "2020-11-27T08:33:14.707683Z stdout F 2020-11-27 08:33:13,910 | root | ERROR | Encountered Exception: Traceback (most recent call last):\n",
      "2020-11-27T08:33:14.707683Z stdout F   File \"/var/azureml-server/app.py\", line 239, in run_scoring\n",
      "2020-11-27T08:33:14.707683Z stdout F     response = invoke_user_with_timer(service_input, request_headers)\n",
      "2020-11-27T08:33:14.707683Z stdout F   File \"/var/azureml-server/app.py\", line 309, in invoke_user_with_timer\n",
      "2020-11-27T08:33:14.707683Z stdout F     result = user_main.run(**params)\n",
      "2020-11-27T08:33:14.707683Z stdout F   File \"/var/azureml-app/main.py\", line 21, in run\n",
      "2020-11-27T08:33:14.707683Z stdout F     return_obj = driver_module.run(**arguments)\n",
      "2020-11-27T08:33:14.707683Z stdout F   File \"/var/azureml-app/score.py\", line 24, in run\n",
      "2020-11-27T08:33:14.707683Z stdout F     y = model.predict(data)\n",
      "2020-11-27T08:33:14.707683Z stdout F   File \"/azureml-envs/azureml_0e3a8a6dba181476a2523c12c58dfc97/lib/python3.6/site-packages/sklearn/utils/metaestimators.py\", line 116, in <lambda>\n",
      "2020-11-27T08:33:14.707683Z stdout F     out = lambda *args, **kwargs: self.fn(obj, *args, **kwargs)\n",
      "2020-11-27T08:33:14.707683Z stdout F   File \"/azureml-envs/azureml_0e3a8a6dba181476a2523c12c58dfc97/lib/python3.6/site-packages/sklearn/pipeline.py\", line 419, in predict\n",
      "2020-11-27T08:33:14.707683Z stdout F     Xt = transform.transform(Xt)\n",
      "2020-11-27T08:33:14.707683Z stdout F   File \"/azureml-envs/azureml_0e3a8a6dba181476a2523c12c58dfc97/lib/python3.6/site-packages/azureml/automl/core/shared/logging_utilities.py\", line 302, in debug_log_wrapped\n",
      "2020-11-27T08:33:14.707683Z stdout F     r = f(self, *args, **kwargs)\n",
      "2020-11-27T08:33:14.707683Z stdout F   File \"/azureml-envs/azureml_0e3a8a6dba181476a2523c12c58dfc97/lib/python3.6/site-packages/azureml/automl/runtime/featurization/data_transformer.py\", line 430, in transform\n",
      "2020-11-27T08:33:14.707683Z stdout F     df = self._check_columns_names_and_convert_types(df, self._columns_types_mapping)\n",
      "2020-11-27T08:33:14.707683Z stdout F   File \"/azureml-envs/azureml_0e3a8a6dba181476a2523c12c58dfc97/lib/python3.6/site-packages/azureml/automl/runtime/featurization/data_transformer.py\", line 1451, in _check_columns_names_and_convert_types\n",
      "2020-11-27T08:33:14.707683Z stdout F     reference_code=ReferenceCodes._DATA_TRANSFORMER_TRANSFROM_WRONG_COLUMN\n",
      "2020-11-27T08:33:14.707683Z stdout F azureml.automl.core.shared.exceptions.DataException: DataException:\n",
      "2020-11-27T08:33:14.707683Z stdout F \tMessage: The number of features in [fitted data](69) does not match with those in [input data](68). Please inspect your data, and make sure that features are aligned in both the Datasets.\n",
      "2020-11-27T08:33:14.707683Z stdout F \tInnerException: None\n",
      "2020-11-27T08:33:14.707683Z stdout F \tErrorResponse \n",
      "2020-11-27T08:33:14.707683Z stdout F {\n",
      "2020-11-27T08:33:14.707683Z stdout F     \"error\": {\n",
      "2020-11-27T08:33:14.707683Z stdout F         \"code\": \"UserError\",\n",
      "2020-11-27T08:33:14.707683Z stdout F         \"message\": \"The number of features in [fitted data](69) does not match with those in [input data](68). Please inspect your data, and make sure that features are aligned in both the Datasets.\",\n",
      "2020-11-27T08:33:14.707683Z stdout F         \"target\": \"X\",\n",
      "2020-11-27T08:33:14.707683Z stdout F         \"inner_error\": {\n",
      "2020-11-27T08:33:14.707683Z stdout F             \"code\": \"BadData\",\n",
      "2020-11-27T08:33:14.707683Z stdout F             \"inner_error\": {\n",
      "2020-11-27T08:33:14.707683Z stdout F                 \"code\": \"InvalidDimension\",\n",
      "2020-11-27T08:33:14.707683Z stdout F                 \"inner_error\": {\n",
      "2020-11-27T08:33:14.707683Z stdout F                     \"code\": \"DataShapeMismatch\"\n",
      "2020-11-27T08:33:14.707683Z stdout F                 }\n",
      "2020-11-27T08:33:14.707683Z stdout F             }\n",
      "2020-11-27T08:33:14.707683Z stdout F         },\n",
      "2020-11-27T08:33:14.707683Z stdout F         \"reference_code\": \"c402b6c2-3870-45a7-8745-c063bd385962\"\n",
      "2020-11-27T08:33:14.707683Z stdout F     }\n",
      "2020-11-27T08:33:14.707683Z stdout F }\n",
      "2020-11-27T08:33:14.707683Z stdout F \n",
      "2020-11-27T08:33:14.707683Z stdout F During handling of the above exception, another exception occurred:\n",
      "2020-11-27T08:33:14.707683Z stdout F \n",
      "2020-11-27T08:33:14.707683Z stdout F Traceback (most recent call last):\n",
      "2020-11-27T08:33:14.707683Z stdout F   File \"/azureml-envs/azureml_0e3a8a6dba181476a2523c12c58dfc97/lib/python3.6/site-packages/flask/app.py\", line 1832, in full_dispatch_request\n",
      "2020-11-27T08:33:14.707683Z stdout F     rv = self.dispatch_request()\n",
      "2020-11-27T08:33:14.707683Z stdout F   File \"/azureml-envs/azureml_0e3a8a6dba181476a2523c12c58dfc97/lib/python3.6/site-packages/flask/app.py\", line 1818, in dispatch_request\n",
      "2020-11-27T08:33:14.707683Z stdout F     return self.view_functions[rule.endpoint](**req.view_args)\n",
      "2020-11-27T08:33:14.707683Z stdout F   File \"/var/azureml-server/app.py\", line 142, in score_realtime\n",
      "2020-11-27T08:33:14.707683Z stdout F     return run_scoring(service_input, request.headers, request.environ.get('REQUEST_ID', '00000000-0000-0000-0000-000000000000'))\n",
      "2020-11-27T08:33:14.707683Z stdout F   File \"/var/azureml-server/app.py\", line 252, in run_scoring\n",
      "2020-11-27T08:33:14.707683Z stdout F     raise RunFunctionException(str(exc))\n",
      "2020-11-27T08:33:14.707683Z stdout F run_function_exception.RunFunctionException\n",
      "2020-11-27T08:33:14.707683Z stdout F \n",
      "2020-11-27T08:33:14.707683Z stdout F Encountered Exception: Traceback (most recent call last):\n",
      "2020-11-27T08:33:14.707683Z stdout F   File \"/var/azureml-server/app.py\", line 239, in run_scoring\n",
      "2020-11-27T08:33:14.7086669Z stdout F     response = invoke_user_with_timer(service_input, request_headers)\n",
      "2020-11-27T08:33:14.7086669Z stdout F   File \"/var/azureml-server/app.py\", line 309, in invoke_user_with_timer\n",
      "2020-11-27T08:33:14.7086669Z stdout F     result = user_main.run(**params)\n",
      "2020-11-27T08:33:14.7086669Z stdout F   File \"/var/azureml-app/main.py\", line 21, in run\n",
      "2020-11-27T08:33:14.7086669Z stdout F     return_obj = driver_module.run(**arguments)\n",
      "2020-11-27T08:33:14.7086669Z stdout F   File \"/var/azureml-app/score.py\", line 24, in run\n",
      "2020-11-27T08:33:14.7086669Z stdout F     y = model.predict(data)\n",
      "2020-11-27T08:33:14.7086669Z stdout F   File \"/azureml-envs/azureml_0e3a8a6dba181476a2523c12c58dfc97/lib/python3.6/site-packages/sklearn/utils/metaestimators.py\", line 116, in <lambda>\n",
      "2020-11-27T08:33:14.7086669Z stdout F     out = lambda *args, **kwargs: self.fn(obj, *args, **kwargs)\n",
      "2020-11-27T08:33:14.7086669Z stdout F   File \"/azureml-envs/azureml_0e3a8a6dba181476a2523c12c58dfc97/lib/python3.6/site-packages/sklearn/pipeline.py\", line 419, in predict\n",
      "2020-11-27T08:33:14.7086669Z stdout F     Xt = transform.transform(Xt)\n",
      "2020-11-27T08:33:14.7086669Z stdout F   File \"/azureml-envs/azureml_0e3a8a6dba181476a2523c12c58dfc97/lib/python3.6/site-packages/azureml/automl/core/shared/logging_utilities.py\", line 302, in debug_log_wrapped\n",
      "2020-11-27T08:33:14.7096655Z stdout F     r = f(self, *args, **kwargs)\n",
      "2020-11-27T08:33:14.7096655Z stdout F   File \"/azureml-envs/azureml_0e3a8a6dba181476a2523c12c58dfc97/lib/python3.6/site-packages/azureml/automl/runtime/featurization/data_transformer.py\", line 430, in transform\n",
      "2020-11-27T08:33:14.7096655Z stdout F     df = self._check_columns_names_and_convert_types(df, self._columns_types_mapping)\n",
      "2020-11-27T08:33:14.7096655Z stdout F   File \"/azureml-envs/azureml_0e3a8a6dba181476a2523c12c58dfc97/lib/python3.6/site-packages/azureml/automl/runtime/featurization/data_transformer.py\", line 1451, in _check_columns_names_and_convert_types\n",
      "2020-11-27T08:33:14.7096655Z stdout F     reference_code=ReferenceCodes._DATA_TRANSFORMER_TRANSFROM_WRONG_COLUMN\n",
      "2020-11-27T08:33:14.7096655Z stdout F azureml.automl.core.shared.exceptions.DataException: DataException:\n",
      "2020-11-27T08:33:14.7096655Z stdout F \tMessage: The number of features in [fitted data](69) does not match with those in [input data](68). Please inspect your data, and make sure that features are aligned in both the Datasets.\n",
      "2020-11-27T08:33:14.7096655Z stdout F \tInnerException: None\n",
      "2020-11-27T08:33:14.7096655Z stdout F \tErrorResponse \n",
      "2020-11-27T08:33:14.7096655Z stdout F {\n",
      "2020-11-27T08:33:14.7096655Z stdout F     \"error\": {\n",
      "2020-11-27T08:33:14.7096655Z stdout F         \"code\": \"UserError\",\n",
      "2020-11-27T08:33:14.7096655Z stdout F         \"message\": \"The number of features in [fitted data](69) does not match with those in [input data](68). Please inspect your data, and make sure that features are aligned in both the Datasets.\",\n",
      "2020-11-27T08:33:14.7096655Z stdout F         \"target\": \"X\",\n",
      "2020-11-27T08:33:14.7096655Z stdout F         \"inner_error\": {\n",
      "2020-11-27T08:33:14.7096655Z stdout F             \"code\": \"BadData\",\n",
      "2020-11-27T08:33:14.7096655Z stdout F             \"inner_error\": {\n",
      "2020-11-27T08:33:14.7096655Z stdout F                 \"code\": \"InvalidDimension\",\n",
      "2020-11-27T08:33:14.7096655Z stdout F                 \"inner_error\": {\n",
      "2020-11-27T08:33:14.7096655Z stdout F                     \"code\": \"DataShapeMismatch\"\n",
      "2020-11-27T08:33:14.7096655Z stdout F                 }\n",
      "2020-11-27T08:33:14.7096655Z stdout F             }\n",
      "2020-11-27T08:33:14.7096655Z stdout F         },\n",
      "2020-11-27T08:33:14.7096655Z stdout F         \"reference_code\": \"c402b6c2-3870-45a7-8745-c063bd385962\"\n",
      "2020-11-27T08:33:14.7096655Z stdout F     }\n",
      "2020-11-27T08:33:14.7096655Z stdout F }\n",
      "2020-11-27T08:33:14.7096655Z stdout F \n",
      "2020-11-27T08:33:14.7096655Z stdout F During handling of the above exception, another exception occurred:\n",
      "2020-11-27T08:33:14.7096655Z stdout F \n",
      "2020-11-27T08:33:14.7096655Z stdout F Traceback (most recent call last):\n",
      "2020-11-27T08:33:14.7096655Z stdout F   File \"/azureml-envs/azureml_0e3a8a6dba181476a2523c12c58dfc97/lib/python3.6/site-packages/flask/app.py\", line 1832, in full_dispatch_request\n",
      "2020-11-27T08:33:14.7096655Z stdout F     rv = self.dispatch_request()\n",
      "2020-11-27T08:33:14.7096655Z stdout F   File \"/azureml-envs/azureml_0e3a8a6dba181476a2523c12c58dfc97/lib/python3.6/site-packages/flask/app.py\", line 1818, in dispatch_request\n",
      "2020-11-27T08:33:14.7096655Z stdout F     return self.view_functions[rule.endpoint](**req.view_args)\n",
      "2020-11-27T08:33:14.7096655Z stdout F   File \"/var/azureml-server/app.py\", line 142, in score_realtime\n",
      "2020-11-27T08:33:14.7106917Z stdout F     return run_scoring(service_input, request.headers, request.environ.get('REQUEST_ID', '00000000-0000-0000-0000-000000000000'))\n",
      "2020-11-27T08:33:14.7106917Z stdout F   File \"/var/azureml-server/app.py\", line 252, in run_scoring\n",
      "2020-11-27T08:33:14.7106917Z stdout F     raise RunFunctionException(str(exc))\n",
      "2020-11-27T08:33:14.7106917Z stdout F run_function_exception.RunFunctionException\n",
      "2020-11-27T08:33:14.7106917Z stdout F \n",
      "2020-11-27T08:33:14.7106917Z stdout F 2020-11-27 08:33:13,911 | root | INFO | 500\n",
      "2020-11-27T08:33:14.7106917Z stdout F 500\n",
      "2020-11-27T08:33:14.7106917Z stdout F 127.0.0.1 - - [27/Nov/2020:08:33:13 +0000] \"POST /score HTTP/1.0\" 500 837 \"-\" \"python-requests/2.24.0\"\n",
      "2020-11-27T08:34:14.5801355Z stdout F Exception in worker process\n",
      "2020-11-27T08:34:14.5801355Z stdout F Traceback (most recent call last):\n",
      "2020-11-27T08:34:14.5801355Z stdout F   File \"/azureml-envs/azureml_0e3a8a6dba181476a2523c12c58dfc97/lib/python3.6/site-packages/gunicorn/arbiter.py\", line 583, in spawn_worker\n",
      "2020-11-27T08:34:14.5801355Z stdout F     worker.init_process()\n",
      "2020-11-27T08:34:14.5801355Z stdout F   File \"/azureml-envs/azureml_0e3a8a6dba181476a2523c12c58dfc97/lib/python3.6/site-packages/gunicorn/workers/base.py\", line 134, in init_process\n",
      "2020-11-27T08:34:14.5801355Z stdout F     self.run()\n",
      "2020-11-27T08:34:14.5801355Z stdout F   File \"/azureml-envs/azureml_0e3a8a6dba181476a2523c12c58dfc97/lib/python3.6/site-packages/gunicorn/workers/sync.py\", line 124, in run\n",
      "2020-11-27T08:34:14.5801355Z stdout F     self.run_for_one(timeout)\n",
      "2020-11-27T08:34:14.5801355Z stdout F   File \"/azureml-envs/azureml_0e3a8a6dba181476a2523c12c58dfc97/lib/python3.6/site-packages/gunicorn/workers/sync.py\", line 83, in run_for_one\n",
      "2020-11-27T08:34:14.5801355Z stdout F     self.wait(timeout)\n",
      "2020-11-27T08:34:14.5801355Z stdout F   File \"/azureml-envs/azureml_0e3a8a6dba181476a2523c12c58dfc97/lib/python3.6/site-packages/gunicorn/workers/sync.py\", line 35, in wait\n",
      "2020-11-27T08:34:14.5801355Z stdout F     ret = select.select(self.wait_fds, [], [], timeout)\n",
      "2020-11-27T08:34:14.5801355Z stdout F   File \"/var/azureml-server/app.py\", line 279, in alarm_handler\n",
      "2020-11-27T08:34:14.5801355Z stdout F     raise TimeoutException(error_message)\n",
      "2020-11-27T08:34:14.5801355Z stdout F timeout_exception.TimeoutException\n",
      "2020-11-27T08:34:14.5811589Z stdout F Worker exiting (pid: 123)\n",
      "2020-11-27T08:34:16.2598211Z stdout F worker timeout is set to 300\n",
      "2020-11-27T08:34:16.2667777Z stdout F Booting worker with pid: 163\n",
      "2020-11-27T08:34:17.7322599Z stdout F SPARK_HOME not set. Skipping PySpark Initialization.\n",
      "2020-11-27T08:34:17.7322599Z stdout F Initializing logger\n",
      "2020-11-27T08:34:17.7322599Z stdout F 2020-11-27 08:34:16,938 | root | INFO | Starting up app insights client\n",
      "2020-11-27T08:34:17.7322599Z stdout F Starting up app insights client\n",
      "2020-11-27T08:34:17.7322599Z stdout F 2020-11-27 08:34:16,938 | root | INFO | Starting up request id generator\n",
      "2020-11-27T08:34:17.7322599Z stdout F Starting up request id generator\n",
      "2020-11-27T08:34:17.7333038Z stdout F 2020-11-27 08:34:16,938 | root | INFO | Starting up app insight hooks\n",
      "2020-11-27T08:34:17.7333038Z stdout F Starting up app insight hooks\n",
      "2020-11-27T08:34:17.7341941Z stdout F 2020-11-27 08:34:16,940 | root | INFO | Invoking user's init function\n",
      "2020-11-27T08:34:17.7341941Z stdout F Invoking user's init function\n",
      "2020-11-27T08:34:21.4584872Z stdout F 2020-11-27 08:34:20,670 | root | INFO | Users's init has completed successfully\n",
      "2020-11-27T08:34:21.4584872Z stdout F Users's init has completed successfully\n",
      "2020-11-27T08:34:21.4703807Z stdout F 2020-11-27 08:34:20,672 | root | INFO | Skipping middleware: dbg_model_info as it's not enabled.\n",
      "2020-11-27T08:34:21.4703807Z stdout F Skipping middleware: dbg_model_info as it's not enabled.\n",
      "2020-11-27T08:34:21.4703807Z stdout F 2020-11-27 08:34:20,672 | root | INFO | Skipping middleware: dbg_resource_usage as it's not enabled.\n",
      "2020-11-27T08:34:21.4703807Z stdout F Skipping middleware: dbg_resource_usage as it's not enabled.\n",
      "2020-11-27T08:34:21.4703807Z stdout F 2020-11-27 08:34:20,673 | root | INFO | Scoring timeout is found from os.environ: 60000 ms\n",
      "2020-11-27T08:34:21.4703807Z stdout F Scoring timeout is found from os.environ: 60000 ms\n",
      "2020-11-27T09:23:07.602929Z stdout F 2020-11-27 09:23:06,794 | root | INFO | Validation Request Content-Type\n",
      "2020-11-27T09:23:07.602929Z stdout F Validation Request Content-Type\n",
      "2020-11-27T09:23:07.602929Z stdout F 2020-11-27 09:23:06,801 | root | INFO | \tHost: localhost:5001\n",
      "2020-11-27T09:23:07.602929Z stdout F \tHost: localhost:5001\n",
      "2020-11-27T09:23:07.602929Z stdout F 2020-11-27 09:23:06,801 | root | INFO | \tX-Real-Ip: 127.0.0.1\n",
      "2020-11-27T09:23:07.602929Z stdout F \tX-Real-Ip: 127.0.0.1\n",
      "2020-11-27T09:23:07.602929Z stdout F 2020-11-27 09:23:06,801 | root | INFO | \tX-Forwarded-For: 127.0.0.1\n",
      "2020-11-27T09:23:07.602929Z stdout F \tX-Forwarded-For: 127.0.0.1\n",
      "2020-11-27T09:23:07.602929Z stdout F 2020-11-27 09:23:06,802 | root | INFO | \tX-Forwarded-Proto: http\n",
      "2020-11-27T09:23:07.602929Z stdout F \tX-Forwarded-Proto: http\n",
      "2020-11-27T09:23:07.602929Z stdout F 2020-11-27 09:23:06,802 | root | INFO | \tConnection: close\n",
      "2020-11-27T09:23:07.602929Z stdout F \tConnection: close\n",
      "2020-11-27T09:23:07.602929Z stdout F 2020-11-27 09:23:06,802 | root | INFO | \tContent-Length: 1455\n",
      "2020-11-27T09:23:07.602929Z stdout F \tContent-Length: 1455\n",
      "2020-11-27T09:23:07.602929Z stdout F 2020-11-27 09:23:06,802 | root | INFO | \tUser-Agent: python-requests/2.24.0\n",
      "2020-11-27T09:23:07.602929Z stdout F \tUser-Agent: python-requests/2.24.0\n",
      "2020-11-27T09:23:07.602929Z stdout F 2020-11-27 09:23:06,802 | root | INFO | \tAccept: application/json\n",
      "2020-11-27T09:23:07.602929Z stdout F \tAccept: application/json\n",
      "2020-11-27T09:23:07.602929Z stdout F 2020-11-27 09:23:06,803 | root | INFO | \tAccept-Encoding: gzip, deflate\n",
      "2020-11-27T09:23:07.602929Z stdout F \tAccept-Encoding: gzip, deflate\n",
      "2020-11-27T09:23:07.602929Z stdout F 2020-11-27 09:23:06,803 | root | INFO | \tContent-Type: application/json\n",
      "2020-11-27T09:23:07.602929Z stdout F \tContent-Type: application/json\n",
      "2020-11-27T09:23:07.602929Z stdout F 2020-11-27 09:23:06,803 | root | INFO | \tX-Ms-Request-Id: 14be2bd7-8c95-43df-a186-3f1be4d3c3bc\n",
      "2020-11-27T09:23:07.602929Z stdout F \tX-Ms-Request-Id: 14be2bd7-8c95-43df-a186-3f1be4d3c3bc\n",
      "2020-11-27T09:23:07.602929Z stdout F 2020-11-27 09:23:06,803 | root | INFO | Scoring Timer is set to 60.0 seconds\n",
      "2020-11-27T09:23:07.602929Z stdout F Scoring Timer is set to 60.0 seconds\n",
      "2020-11-27T09:23:08.4821307Z stdout F 2020-11-27 09:23:07,688 | root | INFO | 200\n",
      "2020-11-27T09:23:08.4821307Z stdout F 200\n",
      "2020-11-27T09:23:08.4851453Z stdout F 127.0.0.1 - - [27/Nov/2020:09:23:07 +0000] \"POST /score HTTP/1.0\" 200 3 \"-\" \"python-requests/2.24.0\"\n",
      "2020-11-27T09:23:18.3983604Z stdout F 2020-11-27 09:23:17,604 | root | INFO | Validation Request Content-Type\n",
      "2020-11-27T09:23:18.3983604Z stdout F Validation Request Content-Type\n",
      "2020-11-27T09:23:18.3993638Z stdout F 2020-11-27 09:23:17,604 | root | INFO | \tHost: localhost:5001\n",
      "2020-11-27T09:23:18.3993638Z stdout F \tHost: localhost:5001\n",
      "2020-11-27T09:23:18.3993638Z stdout F 2020-11-27 09:23:17,605 | root | INFO | \tX-Real-Ip: 127.0.0.1\n",
      "2020-11-27T09:23:18.3993638Z stdout F \tX-Real-Ip: 127.0.0.1\n",
      "2020-11-27T09:23:18.4003654Z stdout F 2020-11-27 09:23:17,605 | root | INFO | \tX-Forwarded-For: 127.0.0.1\n",
      "2020-11-27T09:23:18.4003654Z stdout F \tX-Forwarded-For: 127.0.0.1\n",
      "2020-11-27T09:23:18.4003654Z stdout F 2020-11-27 09:23:17,605 | root | INFO | \tX-Forwarded-Proto: http\n",
      "2020-11-27T09:23:18.4003654Z stdout F \tX-Forwarded-Proto: http\n",
      "2020-11-27T09:23:18.4003654Z stdout F 2020-11-27 09:23:17,605 | root | INFO | \tConnection: close\n",
      "2020-11-27T09:23:18.4003654Z stdout F \tConnection: close\n",
      "2020-11-27T09:23:18.4003654Z stdout F 2020-11-27 09:23:17,605 | root | INFO | \tContent-Length: 1455\n",
      "2020-11-27T09:23:18.4003654Z stdout F \tContent-Length: 1455\n",
      "2020-11-27T09:23:18.4003654Z stdout F 2020-11-27 09:23:17,605 | root | INFO | \tUser-Agent: python-requests/2.24.0\n",
      "2020-11-27T09:23:18.4003654Z stdout F \tUser-Agent: python-requests/2.24.0\n",
      "2020-11-27T09:23:18.4003654Z stdout F 2020-11-27 09:23:17,606 | root | INFO | \tAccept: application/json\n",
      "2020-11-27T09:23:18.4003654Z stdout F \tAccept: application/json\n",
      "2020-11-27T09:23:18.4013699Z stdout F 2020-11-27 09:23:17,606 | root | INFO | \tAccept-Encoding: gzip, deflate\n",
      "2020-11-27T09:23:18.4013699Z stdout F \tAccept-Encoding: gzip, deflate\n",
      "2020-11-27T09:23:18.4013699Z stdout F 2020-11-27 09:23:17,606 | root | INFO | \tContent-Type: application/json\n",
      "2020-11-27T09:23:18.4013699Z stdout F \tContent-Type: application/json\n",
      "2020-11-27T09:23:18.4013699Z stdout F 2020-11-27 09:23:17,606 | root | INFO | \tX-Ms-Request-Id: 41719352-549a-44d2-89df-5ffb408f64e7\n",
      "2020-11-27T09:23:18.4013699Z stdout F \tX-Ms-Request-Id: 41719352-549a-44d2-89df-5ffb408f64e7\n",
      "2020-11-27T09:23:18.4013699Z stdout F 2020-11-27 09:23:17,606 | root | INFO | Scoring Timer is set to 60.0 seconds\n",
      "2020-11-27T09:23:18.4013699Z stdout F Scoring Timer is set to 60.0 seconds\n",
      "2020-11-27T09:23:19.4391281Z stdout F 2020-11-27 09:23:18,644 | root | INFO | 200\n",
      "2020-11-27T09:23:19.4391281Z stdout F 200\n",
      "2020-11-27T09:23:19.4412813Z stdout F 127.0.0.1 - - [27/Nov/2020:09:23:18 +0000] \"POST /score HTTP/1.0\" 200 3 \"-\" \"python-requests/2.24.0\"\n",
      "\n"
     ]
    }
   ],
   "source": [
    "print(service.get_logs())"
   ]
  },
  {
   "cell_type": "markdown",
   "metadata": {
    "collapsed": true,
    "gather": {
     "logged": 1598432765711
    },
    "jupyter": {
     "outputs_hidden": false,
     "source_hidden": false
    },
    "nteract": {
     "transient": {
      "deleting": false
     }
    }
   },
   "source": [
    "TODO: In the cell below, print the logs of the web service and delete the service"
   ]
  },
  {
   "cell_type": "code",
   "execution_count": 50,
   "metadata": {
    "gather": {
     "logged": 1606385979439
    },
    "jupyter": {
     "outputs_hidden": false,
     "source_hidden": false
    },
    "nteract": {
     "transient": {
      "deleting": false
     }
    }
   },
   "outputs": [],
   "source": [
    "# delete service\n",
    "service.delete()"
   ]
  },
  {
   "cell_type": "code",
   "execution_count": null,
   "metadata": {
    "pycharm": {
     "name": "#%%\n"
    }
   },
   "outputs": [],
   "source": [
    "# delete compute cluster\n",
    "cpu_cluster.delete()\n"
   ]
  }
 ],
 "metadata": {
  "kernel_info": {
   "name": "python3"
  },
  "kernelspec": {
   "display_name": "Python 3",
   "language": "python",
   "name": "python3"
  },
  "language_info": {
   "codemirror_mode": {
    "name": "ipython",
    "version": 3
   },
   "file_extension": ".py",
   "mimetype": "text/x-python",
   "name": "python",
   "nbconvert_exporter": "python",
   "pygments_lexer": "ipython3",
   "version": "3.6.9"
  },
  "nteract": {
   "version": "nteract-front-end@1.0.0"
  }
 },
 "nbformat": 4,
 "nbformat_minor": 2
}
