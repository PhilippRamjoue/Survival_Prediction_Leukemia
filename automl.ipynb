{
 "cells": [
  {
   "cell_type": "markdown",
   "source": [
    "# Automated ML\n",
    "\n",
    "TODO: Import Dependencies. In the cell below, import all the dependencies that you will need to complete the project."
   ],
   "metadata": {}
  },
  {
   "cell_type": "code",
   "source": [
    "from azureml.core import Workspace, Experiment\n",
    "from azureml.core.compute import ComputeTarget, AmlCompute\n",
    "from azureml.core.compute_target import ComputeTargetException\n",
    "from azureml.widgets import RunDetails\n",
    "from azureml.core import Environment,ScriptRunConfig\n",
    "from azureml.train.estimator import Estimator\n",
    "from azureml.train.sklearn import SKLearn\n",
    "from azureml.train.hyperdrive.run import PrimaryMetricGoal\n",
    "from azureml.train.hyperdrive.policy import BanditPolicy\n",
    "from azureml.train.hyperdrive.sampling import RandomParameterSampling\n",
    "from azureml.train.hyperdrive.runconfig import HyperDriveConfig\n",
    "from azureml.train.hyperdrive.parameter_expressions import uniform, normal, choice\n",
    "from azureml.data.dataset_factory import TabularDatasetFactory\n",
    "from azureml.core import Dataset\n",
    "from train import clean_data\n",
    "from sklearn.model_selection import train_test_split\n",
    "import pandas as pd\n",
    "from azureml.train.automl import AutoMLConfig\n",
    "\n",
    "import os\n"
   ],
   "outputs": [],
   "execution_count": 1,
   "metadata": {
    "gather": {
     "logged": 1606138227250
    },
    "jupyter": {
     "outputs_hidden": false,
     "source_hidden": false
    },
    "nteract": {
     "transient": {
      "deleting": false
     }
    }
   }
  },
  {
   "cell_type": "markdown",
   "source": [
    "## Dataset\n",
    "\n",
    "### Overview\n",
    "TODO: In this markdown cell, give an overview of the dataset you are using. Also mention the task you will be performing.\n",
    "\n",
    "\n",
    "TODO: Get data. In the cell below, write code to access the data you will be using in this project. Remember that the dataset needs to be external."
   ],
   "metadata": {}
  },
  {
   "cell_type": "code",
   "source": [
    "ws = Workspace.from_config()\n",
    "\n",
    "# choose a name for experiment\n",
    "experiment_name = 'automl_leukemia_experiment'\n",
    "\n",
    "auto_exp = Experiment(ws,experiment_name)"
   ],
   "outputs": [],
   "execution_count": 2,
   "metadata": {
    "gather": {
     "logged": 1606138228568
    },
    "jupyter": {
     "outputs_hidden": false,
     "source_hidden": false
    },
    "nteract": {
     "transient": {
      "deleting": false
     }
    }
   }
  },
  {
   "cell_type": "code",
   "execution_count": null,
   "outputs": [],
   "source": [
    "# Create compute cluster\n",
    "\n",
    "cpu_cluster_name = \"cluster-leukemia\"\n",
    "\n",
    "try:\n",
    "    cpu_cluster = ComputeTarget(workspace=ws, name=cpu_cluster_name)\n",
    "    print('Found existing cluster, use it.')\n",
    "except ComputeTargetException:\n",
    "    compute_config = AmlCompute.provisioning_configuration(vm_size='STANDARD_D2_V2',min_nodes=0,\n",
    "                                                            max_nodes=4)\n",
    "    cpu_cluster = ComputeTarget.create(ws, cpu_cluster_name, compute_config)\n",
    "\n",
    "cpu_cluster.wait_for_completion(show_output=True)"
   ],
   "metadata": {
    "collapsed": false,
    "pycharm": {
     "name": "#%%\n"
    }
   }
  },
  {
   "cell_type": "markdown",
   "source": [
    "### Dataset is hosted on Github"
   ],
   "metadata": {
    "collapsed": false
   }
  },
  {
   "cell_type": "code",
   "source": [
    "dataset_path = 'https://raw.githubusercontent.com/PhilippRamjoue/Leukemia_Classification/main/dataset/bone-marrow-dataset.csv'\n",
    "\n",
    "ds = Dataset.Tabular.from_delimited_files(path=dataset_path)"
   ],
   "outputs": [],
   "execution_count": 4,
   "metadata": {
    "collapsed": false,
    "pycharm": {
     "name": "#%%\n"
    },
    "gather": {
     "logged": 1606138239850
    }
   }
  },
  {
   "cell_type": "code",
   "source": [
    "\n",
    "# Use the clean_data function to clean your data.\n",
    "x, y = clean_data(ds)\n",
    "\n",
    "x_train,x_test,y_train,y_test = train_test_split(x,y,test_size=0.4,random_state=42)\n",
    "\n",
    "automl_training_set = pd.concat([x_train,y_train],axis=1)"
   ],
   "outputs": [
    {
     "output_type": "stream",
     "name": "stdout",
     "text": [
      "Shape of original frame: (187, 38)\n",
      "Shape of frame with dropped nan rows: (164, 38); Loss: 12 %\n"
     ]
    }
   ],
   "execution_count": 5,
   "metadata": {
    "collapsed": false,
    "pycharm": {
     "name": "#%%\n"
    },
    "gather": {
     "logged": 1606138241419
    }
   }
  },
  {
   "cell_type": "markdown",
   "source": [
    "## Save data in datastore\n",
    "\n",
    "A datastore is necessary to run AutoML on a remote compute"
   ],
   "metadata": {
    "collapsed": false,
    "pycharm": {
     "name": "#%% md\n"
    }
   }
  },
  {
   "cell_type": "code",
   "execution_count": null,
   "outputs": [],
   "source": [
    "\n",
    "# Create a project_folder if it doesn't exist\n",
    "if not os.path.isdir('data'):\n",
    "    os.mkdir('data')\n",
    "\n",
    "if not os.path.exists('project_folder'):\n",
    "    os.makedirs('project_folder')\n",
    "\n",
    "automl_training_set.to_csv('data/cleaned_dataset.csv')\n",
    "\n",
    "ds = ws.get_default_datastore()\n",
    "\n",
    "ds.upload(src_dir='./data', target_path='leukemiadata', overwrite=True, show_progress=True)\n",
    "\n",
    "training_data = Dataset.Tabular.from_delimited_files(path=ds.path('leukemiadata/cleaned_dataset.csv'))"
   ],
   "metadata": {
    "collapsed": false,
    "pycharm": {
     "name": "#%%\n"
    }
   }
  },
  {
   "cell_type": "markdown",
   "source": [
    "## AutoML Configuration\n",
    "\n",
    "TODO: Explain why you chose the automl settings and cofiguration you used below."
   ],
   "metadata": {}
  },
  {
   "cell_type": "code",
   "source": [],
   "outputs": [
    {
     "output_type": "execute_result",
     "execution_count": 18,
     "data": {
      "text/plain": "     donor_age_below_35  donor_CMV  recipient_age_below_10  recipient_gender  \\\n0                     1          1                       1                 1   \n1                     1          0                       1                 1   \n2                     1          0                       1                 1   \n3                     0          1                       0                 0   \n4                     1          0                       1                 0   \n..                  ...        ...                     ...               ...   \n159                   0          1                       1                 1   \n160                   0          1                       0                 1   \n161                   1          0                       0                 0   \n162                   1          1                       0                 0   \n163                   1          0                       1                 1   \n\n     recipient_rh  recipient_CMV  gender_match  ABO_match  HLA_mismatch  \\\n0               1              1             0          1             1   \n1               1              0             0          1             1   \n2               1              1             0          1             1   \n3               1              0             0          0             1   \n4               0              1             0          0             1   \n..            ...            ...           ...        ...           ...   \n159             1              1             0          0             1   \n160             0              1             0          1             1   \n161             1              1             0          0             1   \n162             1              1             0          0             1   \n163             1              0             0          0             1   \n\n     risk_group  ...  allel_2  allel_3  allel_4  HLA_group_1_DRB1_cell  \\\n0             1  ...        0        0        0                      0   \n1             0  ...        0        0        0                      0   \n2             0  ...        0        0        0                      0   \n3             0  ...        0        0        0                      0   \n4             1  ...        0        0        0                      0   \n..          ...  ...      ...      ...      ...                    ...   \n159           1  ...        0        0        0                      0   \n160           1  ...        0        0        0                      0   \n161           1  ...        0        0        0                      0   \n162           0  ...        0        0        0                      0   \n163           0  ...        0        0        0                      0   \n\n     HLA_group_1_matched  HLA_group_1_mismatched  HLA_group_1_one_allel  \\\n0                      1                       0                      0   \n1                      1                       0                      0   \n2                      1                       0                      0   \n3                      1                       0                      0   \n4                      0                       0                      0   \n..                   ...                     ...                    ...   \n159                    1                       0                      0   \n160                    1                       0                      0   \n161                    1                       0                      0   \n162                    1                       0                      0   \n163                    0                       0                      0   \n\n     HLA_group_1_one_antigen  HLA_group_1_three_diffs  HLA_group_1_two_diffs  \n0                          0                        0                      0  \n1                          0                        0                      0  \n2                          0                        0                      0  \n3                          0                        0                      0  \n4                          1                        0                      0  \n..                       ...                      ...                    ...  \n159                        0                        0                      0  \n160                        0                        0                      0  \n161                        0                        0                      0  \n162                        0                        0                      0  \n163                        1                        0                      0  \n\n[164 rows x 69 columns]",
      "text/html": "<div>\n<style scoped>\n    .dataframe tbody tr th:only-of-type {\n        vertical-align: middle;\n    }\n\n    .dataframe tbody tr th {\n        vertical-align: top;\n    }\n\n    .dataframe thead th {\n        text-align: right;\n    }\n</style>\n<table border=\"1\" class=\"dataframe\">\n  <thead>\n    <tr style=\"text-align: right;\">\n      <th></th>\n      <th>donor_age_below_35</th>\n      <th>donor_CMV</th>\n      <th>recipient_age_below_10</th>\n      <th>recipient_gender</th>\n      <th>recipient_rh</th>\n      <th>recipient_CMV</th>\n      <th>gender_match</th>\n      <th>ABO_match</th>\n      <th>HLA_mismatch</th>\n      <th>risk_group</th>\n      <th>...</th>\n      <th>allel_2</th>\n      <th>allel_3</th>\n      <th>allel_4</th>\n      <th>HLA_group_1_DRB1_cell</th>\n      <th>HLA_group_1_matched</th>\n      <th>HLA_group_1_mismatched</th>\n      <th>HLA_group_1_one_allel</th>\n      <th>HLA_group_1_one_antigen</th>\n      <th>HLA_group_1_three_diffs</th>\n      <th>HLA_group_1_two_diffs</th>\n    </tr>\n  </thead>\n  <tbody>\n    <tr>\n      <th>0</th>\n      <td>1</td>\n      <td>1</td>\n      <td>1</td>\n      <td>1</td>\n      <td>1</td>\n      <td>1</td>\n      <td>0</td>\n      <td>1</td>\n      <td>1</td>\n      <td>1</td>\n      <td>...</td>\n      <td>0</td>\n      <td>0</td>\n      <td>0</td>\n      <td>0</td>\n      <td>1</td>\n      <td>0</td>\n      <td>0</td>\n      <td>0</td>\n      <td>0</td>\n      <td>0</td>\n    </tr>\n    <tr>\n      <th>1</th>\n      <td>1</td>\n      <td>0</td>\n      <td>1</td>\n      <td>1</td>\n      <td>1</td>\n      <td>0</td>\n      <td>0</td>\n      <td>1</td>\n      <td>1</td>\n      <td>0</td>\n      <td>...</td>\n      <td>0</td>\n      <td>0</td>\n      <td>0</td>\n      <td>0</td>\n      <td>1</td>\n      <td>0</td>\n      <td>0</td>\n      <td>0</td>\n      <td>0</td>\n      <td>0</td>\n    </tr>\n    <tr>\n      <th>2</th>\n      <td>1</td>\n      <td>0</td>\n      <td>1</td>\n      <td>1</td>\n      <td>1</td>\n      <td>1</td>\n      <td>0</td>\n      <td>1</td>\n      <td>1</td>\n      <td>0</td>\n      <td>...</td>\n      <td>0</td>\n      <td>0</td>\n      <td>0</td>\n      <td>0</td>\n      <td>1</td>\n      <td>0</td>\n      <td>0</td>\n      <td>0</td>\n      <td>0</td>\n      <td>0</td>\n    </tr>\n    <tr>\n      <th>3</th>\n      <td>0</td>\n      <td>1</td>\n      <td>0</td>\n      <td>0</td>\n      <td>1</td>\n      <td>0</td>\n      <td>0</td>\n      <td>0</td>\n      <td>1</td>\n      <td>0</td>\n      <td>...</td>\n      <td>0</td>\n      <td>0</td>\n      <td>0</td>\n      <td>0</td>\n      <td>1</td>\n      <td>0</td>\n      <td>0</td>\n      <td>0</td>\n      <td>0</td>\n      <td>0</td>\n    </tr>\n    <tr>\n      <th>4</th>\n      <td>1</td>\n      <td>0</td>\n      <td>1</td>\n      <td>0</td>\n      <td>0</td>\n      <td>1</td>\n      <td>0</td>\n      <td>0</td>\n      <td>1</td>\n      <td>1</td>\n      <td>...</td>\n      <td>0</td>\n      <td>0</td>\n      <td>0</td>\n      <td>0</td>\n      <td>0</td>\n      <td>0</td>\n      <td>0</td>\n      <td>1</td>\n      <td>0</td>\n      <td>0</td>\n    </tr>\n    <tr>\n      <th>...</th>\n      <td>...</td>\n      <td>...</td>\n      <td>...</td>\n      <td>...</td>\n      <td>...</td>\n      <td>...</td>\n      <td>...</td>\n      <td>...</td>\n      <td>...</td>\n      <td>...</td>\n      <td>...</td>\n      <td>...</td>\n      <td>...</td>\n      <td>...</td>\n      <td>...</td>\n      <td>...</td>\n      <td>...</td>\n      <td>...</td>\n      <td>...</td>\n      <td>...</td>\n      <td>...</td>\n    </tr>\n    <tr>\n      <th>159</th>\n      <td>0</td>\n      <td>1</td>\n      <td>1</td>\n      <td>1</td>\n      <td>1</td>\n      <td>1</td>\n      <td>0</td>\n      <td>0</td>\n      <td>1</td>\n      <td>1</td>\n      <td>...</td>\n      <td>0</td>\n      <td>0</td>\n      <td>0</td>\n      <td>0</td>\n      <td>1</td>\n      <td>0</td>\n      <td>0</td>\n      <td>0</td>\n      <td>0</td>\n      <td>0</td>\n    </tr>\n    <tr>\n      <th>160</th>\n      <td>0</td>\n      <td>1</td>\n      <td>0</td>\n      <td>1</td>\n      <td>0</td>\n      <td>1</td>\n      <td>0</td>\n      <td>1</td>\n      <td>1</td>\n      <td>1</td>\n      <td>...</td>\n      <td>0</td>\n      <td>0</td>\n      <td>0</td>\n      <td>0</td>\n      <td>1</td>\n      <td>0</td>\n      <td>0</td>\n      <td>0</td>\n      <td>0</td>\n      <td>0</td>\n    </tr>\n    <tr>\n      <th>161</th>\n      <td>1</td>\n      <td>0</td>\n      <td>0</td>\n      <td>0</td>\n      <td>1</td>\n      <td>1</td>\n      <td>0</td>\n      <td>0</td>\n      <td>1</td>\n      <td>1</td>\n      <td>...</td>\n      <td>0</td>\n      <td>0</td>\n      <td>0</td>\n      <td>0</td>\n      <td>1</td>\n      <td>0</td>\n      <td>0</td>\n      <td>0</td>\n      <td>0</td>\n      <td>0</td>\n    </tr>\n    <tr>\n      <th>162</th>\n      <td>1</td>\n      <td>1</td>\n      <td>0</td>\n      <td>0</td>\n      <td>1</td>\n      <td>1</td>\n      <td>0</td>\n      <td>0</td>\n      <td>1</td>\n      <td>0</td>\n      <td>...</td>\n      <td>0</td>\n      <td>0</td>\n      <td>0</td>\n      <td>0</td>\n      <td>1</td>\n      <td>0</td>\n      <td>0</td>\n      <td>0</td>\n      <td>0</td>\n      <td>0</td>\n    </tr>\n    <tr>\n      <th>163</th>\n      <td>1</td>\n      <td>0</td>\n      <td>1</td>\n      <td>1</td>\n      <td>1</td>\n      <td>0</td>\n      <td>0</td>\n      <td>0</td>\n      <td>1</td>\n      <td>0</td>\n      <td>...</td>\n      <td>0</td>\n      <td>0</td>\n      <td>0</td>\n      <td>0</td>\n      <td>0</td>\n      <td>0</td>\n      <td>0</td>\n      <td>1</td>\n      <td>0</td>\n      <td>0</td>\n    </tr>\n  </tbody>\n</table>\n<p>164 rows × 69 columns</p>\n</div>"
     },
     "metadata": {}
    }
   ],
   "execution_count": 18,
   "metadata": {
    "collapsed": true,
    "jupyter": {
     "source_hidden": false,
     "outputs_hidden": false
    },
    "nteract": {
     "transient": {
      "deleting": false
     }
    },
    "gather": {
     "logged": 1606140846104
    }
   }
  },
  {
   "cell_type": "code",
   "execution_count": null,
   "outputs": [],
   "source": [
    "# TODO: Put your automl settings here\n",
    "automl_settings = {'experiment_timeout_minutes':30,\n",
    "                    'primary_metric':'accuracy',\n",
    "                    'enable_early_stopping':True,\n",
    "                    'n_cross_validations':5}\n",
    "\n",
    "# TODO: Put your automl config here\n",
    "automl_config = AutoMLConfig(\n",
    "    task=\"classification\",\n",
    "    compute_target=cpu_cluster,\n",
    "    training_data=training_data,\n",
    "    iterations=30,\n",
    "    iteration_timeout_minutes=5,\n",
    "    label_column_name='survival_status',\n",
    "    **automl_settings\n",
    "    )"
   ],
   "metadata": {
    "collapsed": false,
    "pycharm": {
     "name": "#%%\n"
    }
   }
  },
  {
   "cell_type": "code",
   "source": [
    "# TODO: Submit your experiment\n",
    "auto_run = auto_exp.submit(config=automl_config,show_output=True)"
   ],
   "outputs": [],
   "execution_count": 15,
   "metadata": {
    "gather": {
     "logged": 1606138833764
    },
    "jupyter": {
     "outputs_hidden": false,
     "source_hidden": false
    },
    "nteract": {
     "transient": {
      "deleting": false
     }
    }
   }
  },
  {
   "cell_type": "code",
   "source": [
    "# TODO: Submit your experiment\n",
    "auto_run = auto_exp.submit(config=automl_config,show_output=True)"
   ],
   "outputs": [
    {
     "output_type": "stream",
     "name": "stdout",
     "text": [
      "Running on local machine\n",
      "Parent Run ID: AutoML_eda4044b-0ed5-4549-bb34-98848a02cf27\n",
      "\n",
      "Current status: DatasetEvaluation. Gathering dataset statistics.\n",
      "Current status: FeaturesGeneration. Generating features for the dataset.\n",
      "Current status: DatasetFeaturization. Beginning to fit featurizers and featurize the dataset.\n",
      "Current status: DatasetFeaturizationCompleted. Completed fit featurizers and featurizing the dataset.\n",
      "Current status: DatasetCrossValidationSplit. Generating individually featurized CV splits.\n",
      "\n",
      "****************************************************************************************************\n",
      "DATA GUARDRAILS: \n",
      "\n",
      "TYPE:         Class balancing detection\n",
      "STATUS:       PASSED\n",
      "DESCRIPTION:  Your inputs were analyzed, and all classes are balanced in your training data.\n",
      "              Learn more about imbalanced data: https://aka.ms/AutomatedMLImbalancedData\n",
      "\n",
      "****************************************************************************************************\n",
      "\n",
      "TYPE:         Missing feature values imputation\n",
      "STATUS:       PASSED\n",
      "DESCRIPTION:  No feature missing values were detected in the training data.\n",
      "              Learn more about missing value imputation: https://aka.ms/AutomatedMLFeaturization\n",
      "\n",
      "****************************************************************************************************\n",
      "\n",
      "TYPE:         High cardinality feature detection\n",
      "STATUS:       PASSED\n",
      "DESCRIPTION:  Your inputs were analyzed, and no high cardinality features were detected.\n",
      "              Learn more about high cardinality feature handling: https://aka.ms/AutomatedMLFeaturization\n",
      "\n",
      "****************************************************************************************************\n",
      "Current status: ModelSelection. Beginning model selection.\n",
      "\n",
      "****************************************************************************************************\n",
      "ITERATION: The iteration being evaluated.\n",
      "PIPELINE: A summary description of the pipeline being evaluated.\n",
      "DURATION: Time taken for the current iteration.\n",
      "METRIC: The result of computing score on the fitted pipeline.\n",
      "BEST: The best observed score thus far.\n",
      "****************************************************************************************************\n",
      "\n",
      " ITERATION   PIPELINE                                       DURATION      METRIC      BEST\n",
      "         0   MaxAbsScaler LightGBM                          0:00:31       0.8563    0.8563\n",
      "         1   MaxAbsScaler XGBoostClassifier                 0:00:23       0.9084    0.9084\n",
      "         2   MinMaxScaler RandomForest                      0:00:22       0.8884    0.9084\n",
      "         3   StandardScalerWrapper SGD                      0:00:31       0.8058    0.9084\n",
      "         4   MinMaxScaler RandomForest                      0:00:28       0.8058    0.9084\n",
      "         5   StandardScalerWrapper SGD                      0:00:27       0.7842    0.9084\n",
      "         6   StandardScalerWrapper RandomForest             0:00:23       0.8163    0.9084\n",
      "         7   RobustScaler ExtremeRandomTrees                0:00:24       0.7847    0.9084\n",
      "         8   StandardScalerWrapper ExtremeRandomTrees       0:00:22       0.8347    0.9084\n",
      "         9   StandardScalerWrapper SGD                      0:00:23       0.8153    0.9084\n",
      "        10   StandardScalerWrapper SGD                      0:00:23       0.7842    0.9084\n",
      "        11   MinMaxScaler SGD                               0:00:28       0.6916    0.9084\n",
      "        12   RobustScaler ExtremeRandomTrees                0:00:24       0.7853    0.9084\n",
      "        13   MinMaxScaler SGD                               0:00:27       0.7042    0.9084\n",
      "        14   MinMaxScaler ExtremeRandomTrees                0:00:23       0.8668    0.9084\n",
      "        15   MinMaxScaler ExtremeRandomTrees                0:00:24       0.8663    0.9084\n",
      "        16   MinMaxScaler ExtremeRandomTrees                0:00:24       0.7942    0.9084\n",
      "        17   StandardScalerWrapper RandomForest             0:00:23       0.8568    0.9084\n",
      "        18   StandardScalerWrapper SGD                      0:00:22       0.7332    0.9084\n",
      "        19   RobustScaler ExtremeRandomTrees                0:00:28       0.8568    0.9084\n",
      "        20   StandardScalerWrapper RandomForest             0:00:24       0.7658    0.9084\n",
      "        21   MinMaxScaler ExtremeRandomTrees                0:00:28       0.8879    0.9084\n",
      "        22   MinMaxScaler RandomForest                      0:00:25       0.8989    0.9084\n",
      "        23   MaxAbsScaler LightGBM                          0:00:24       0.8874    0.9084\n",
      "        24   StandardScalerWrapper LightGBM                 0:00:29       0.9174    0.9174\n",
      "        25   StandardScalerWrapper LightGBM                 0:00:24       0.8968    0.9174\n",
      "        26   MaxAbsScaler LightGBM                          0:00:29       0.9279    0.9279\n",
      "        27   MaxAbsScaler RandomForest                      0:00:24       0.8668    0.9279\n",
      "        28   VotingEnsemble                                 0:00:36       0.9184    0.9279\n",
      "        29   StackEnsemble                                  0:00:34       0.9079    0.9279\n",
      "****************************************************************************************************\n",
      "Current status: BestRunExplainModel. Best run model explanations started\n",
      "Current status: ModelExplanationDataSetSetup. Model explanations data setup completed\n",
      "Current status: PickSurrogateModel. Choosing LightGBM as the surrogate model for explanations\n",
      "Current status: EngineeredFeatureExplanations. Computation of engineered features started\n",
      "Current status: EngineeredFeatureExplanations. Computation of engineered features completed\n",
      "Current status: RawFeaturesExplanations. Computation of raw features started\n",
      "Current status: RawFeaturesExplanations. Computation of raw features completed\n",
      "Current status: BestRunExplainModel. Best run model explanations completed\n",
      "****************************************************************************************************\n"
     ]
    }
   ],
   "execution_count": 16,
   "metadata": {
    "gather": {
     "logged": 1606139774376
    },
    "jupyter": {
     "outputs_hidden": false,
     "source_hidden": false
    },
    "nteract": {
     "transient": {
      "deleting": false
     }
    }
   }
  },
  {
   "cell_type": "markdown",
   "source": [
    "## Run Details\n",
    "\n",
    "OPTIONAL: Write about the different models trained and their performance. Why do you think some models did better than others?\n",
    "\n",
    "TODO: In the cell below, use the `RunDetails` widget to show the different experiments."
   ],
   "metadata": {}
  },
  {
   "cell_type": "code",
   "source": [
    "RunDetails(auto_run).show()\n"
   ],
   "outputs": [
    {
     "output_type": "display_data",
     "data": {
      "text/plain": "_AutoMLWidget(widget_settings={'childWidgetDisplay': 'popup', 'send_telemetry': False, 'log_level': 'INFO', 's…",
      "application/vnd.jupyter.widget-view+json": {
       "version_major": 2,
       "version_minor": 0,
       "model_id": "7c3d8ee83c6b4294b47b03656f893bc1"
      }
     },
     "metadata": {}
    },
    {
     "output_type": "display_data",
     "data": {
      "application/aml.mini.widget.v1": "{\"status\": \"Completed\", \"workbench_run_details_uri\": \"https://ml.azure.com/experiments/automl_leukemia_experiment/runs/AutoML_eda4044b-0ed5-4549-bb34-98848a02cf27?wsid=/subscriptions/5e9e5b82-0802-460e-849e-48901a64399b/resourcegroups/aml-quickstarts-127543/workspaces/quick-starts-ws-127543\", \"run_id\": \"AutoML_eda4044b-0ed5-4549-bb34-98848a02cf27\", \"run_properties\": {\"run_id\": \"AutoML_eda4044b-0ed5-4549-bb34-98848a02cf27\", \"created_utc\": \"2020-11-23T13:41:09.101375Z\", \"properties\": {\"num_iterations\": \"30\", \"training_type\": \"TrainFull\", \"acquisition_function\": \"EI\", \"primary_metric\": \"accuracy\", \"train_split\": \"0\", \"acquisition_parameter\": \"0\", \"num_cross_validation\": \"5\", \"target\": \"local\", \"AMLSettingsJsonString\": \"{\\\"path\\\":null,\\\"name\\\":\\\"automl_leukemia_experiment\\\",\\\"subscription_id\\\":\\\"5e9e5b82-0802-460e-849e-48901a64399b\\\",\\\"resource_group\\\":\\\"aml-quickstarts-127543\\\",\\\"workspace_name\\\":\\\"quick-starts-ws-127543\\\",\\\"region\\\":\\\"southcentralus\\\",\\\"compute_target\\\":\\\"local\\\",\\\"spark_service\\\":null,\\\"azure_service\\\":\\\"Microsoft.AzureNotebookVM\\\",\\\"_local_managed_run_id\\\":null,\\\"many_models\\\":false,\\\"pipeline_fetch_max_batch_size\\\":1,\\\"iterations\\\":30,\\\"primary_metric\\\":\\\"accuracy\\\",\\\"task_type\\\":\\\"classification\\\",\\\"data_script\\\":null,\\\"validation_size\\\":0.0,\\\"n_cross_validations\\\":5,\\\"y_min\\\":null,\\\"y_max\\\":null,\\\"num_classes\\\":2,\\\"featurization\\\":\\\"auto\\\",\\\"_ignore_package_version_incompatibilities\\\":false,\\\"is_timeseries\\\":false,\\\"max_cores_per_iteration\\\":1,\\\"max_concurrent_iterations\\\":1,\\\"iteration_timeout_minutes\\\":5,\\\"mem_in_mb\\\":null,\\\"enforce_time_on_windows\\\":false,\\\"experiment_timeout_minutes\\\":30,\\\"experiment_exit_score\\\":null,\\\"whitelist_models\\\":null,\\\"blacklist_algos\\\":[\\\"TensorFlowLinearClassifier\\\",\\\"TensorFlowDNN\\\"],\\\"supported_models\\\":[\\\"LogisticRegression\\\",\\\"AveragedPerceptronClassifier\\\",\\\"SGD\\\",\\\"BernoulliNaiveBayes\\\",\\\"XGBoostClassifier\\\",\\\"GradientBoosting\\\",\\\"LinearSVM\\\",\\\"KNN\\\",\\\"MultinomialNaiveBayes\\\",\\\"SVM\\\",\\\"TensorFlowDNN\\\",\\\"LightGBM\\\",\\\"TensorFlowLinearClassifier\\\",\\\"ExtremeRandomTrees\\\",\\\"DecisionTree\\\",\\\"RandomForest\\\"],\\\"auto_blacklist\\\":true,\\\"blacklist_samples_reached\\\":false,\\\"exclude_nan_labels\\\":true,\\\"verbosity\\\":20,\\\"_debug_log\\\":\\\"automl.log\\\",\\\"show_warnings\\\":false,\\\"model_explainability\\\":true,\\\"service_url\\\":null,\\\"sdk_url\\\":null,\\\"sdk_packages\\\":null,\\\"enable_onnx_compatible_models\\\":false,\\\"enable_split_onnx_featurizer_estimator_models\\\":false,\\\"vm_type\\\":null,\\\"telemetry_verbosity\\\":20,\\\"send_telemetry\\\":true,\\\"enable_dnn\\\":false,\\\"scenario\\\":\\\"SDK-1.13.0\\\",\\\"environment_label\\\":null,\\\"force_text_dnn\\\":false,\\\"enable_feature_sweeping\\\":true,\\\"enable_early_stopping\\\":true,\\\"early_stopping_n_iters\\\":10,\\\"metrics\\\":null,\\\"enable_ensembling\\\":true,\\\"enable_stack_ensembling\\\":true,\\\"ensemble_iterations\\\":15,\\\"enable_tf\\\":false,\\\"enable_subsampling\\\":false,\\\"subsample_seed\\\":null,\\\"enable_nimbusml\\\":false,\\\"enable_streaming\\\":false,\\\"force_streaming\\\":false,\\\"track_child_runs\\\":true,\\\"allowed_private_models\\\":[],\\\"label_column_name\\\":\\\"survival_status\\\",\\\"weight_column_name\\\":null,\\\"cv_split_column_names\\\":null,\\\"enable_local_managed\\\":false,\\\"cost_mode\\\":1,\\\"lag_length\\\":0,\\\"metric_operation\\\":\\\"maximize\\\",\\\"preprocess\\\":true}\", \"DataPrepJsonString\": null, \"EnableSubsampling\": \"False\", \"runTemplate\": \"AutoML\", \"azureml.runsource\": \"automl\", \"display_task_type\": \"classification\", \"dependencies_versions\": \"{\\\"azureml-widgets\\\": \\\"1.18.0\\\", \\\"azureml-train\\\": \\\"1.18.0\\\", \\\"azureml-train-restclients-hyperdrive\\\": \\\"1.18.0\\\", \\\"azureml-train-core\\\": \\\"1.18.0\\\", \\\"azureml-train-automl\\\": \\\"1.18.0\\\", \\\"azureml-train-automl-runtime\\\": \\\"1.18.0\\\", \\\"azureml-train-automl-client\\\": \\\"1.18.0\\\", \\\"azureml-tensorboard\\\": \\\"1.18.0\\\", \\\"azureml-telemetry\\\": \\\"1.18.0\\\", \\\"azureml-sdk\\\": \\\"1.18.0\\\", \\\"azureml-samples\\\": \\\"0+unknown\\\", \\\"azureml-pipeline\\\": \\\"1.18.0\\\", \\\"azureml-pipeline-steps\\\": \\\"1.18.0\\\", \\\"azureml-pipeline-core\\\": \\\"1.18.0\\\", \\\"azureml-opendatasets\\\": \\\"1.18.0\\\", \\\"azureml-model-management-sdk\\\": \\\"1.0.1b6.post1\\\", \\\"azureml-mlflow\\\": \\\"1.18.0\\\", \\\"azureml-interpret\\\": \\\"1.18.0\\\", \\\"azureml-explain-model\\\": \\\"1.18.0\\\", \\\"azureml-defaults\\\": \\\"1.18.0\\\", \\\"azureml-dataset-runtime\\\": \\\"1.18.0\\\", \\\"azureml-dataprep\\\": \\\"2.4.2\\\", \\\"azureml-dataprep-rslex\\\": \\\"1.2.2\\\", \\\"azureml-dataprep-native\\\": \\\"24.0.0\\\", \\\"azureml-datadrift\\\": \\\"1.18.0\\\", \\\"azureml-core\\\": \\\"1.18.0\\\", \\\"azureml-contrib-services\\\": \\\"1.18.0\\\", \\\"azureml-contrib-server\\\": \\\"1.18.0\\\", \\\"azureml-contrib-reinforcementlearning\\\": \\\"1.18.0\\\", \\\"azureml-contrib-pipeline-steps\\\": \\\"1.18.0\\\", \\\"azureml-contrib-notebook\\\": \\\"1.18.0\\\", \\\"azureml-contrib-interpret\\\": \\\"1.18.0\\\", \\\"azureml-contrib-gbdt\\\": \\\"1.18.0\\\", \\\"azureml-contrib-fairness\\\": \\\"1.18.0\\\", \\\"azureml-contrib-dataset\\\": \\\"1.18.0\\\", \\\"azureml-cli-common\\\": \\\"1.18.0\\\", \\\"azureml-automl-runtime\\\": \\\"1.18.0\\\", \\\"azureml-automl-core\\\": \\\"1.18.0\\\", \\\"azureml-accel-models\\\": \\\"1.18.0\\\"}\", \"_aml_system_scenario_identification\": \"Local.Parent\", \"ClientSdkVersion\": \"1.18.0\", \"ClientType\": \"SDK\", \"environment_cpu_name\": \"AzureML-AutoML\", \"environment_cpu_version\": \"44\", \"environment_gpu_name\": \"AzureML-AutoML-GPU\", \"environment_gpu_version\": \"32\", \"root_attribution\": \"automl\", \"attribution\": \"AutoML\", \"Orchestrator\": \"AutoML\", \"_azureml.ComputeTargetType\": \"local\", \"ProblemInfoJsonString\": \"{\\\"dataset_num_categorical\\\": 0, \\\"is_sparse\\\": false, \\\"subsampling\\\": false, \\\"dataset_classes\\\": 2, \\\"dataset_features\\\": 68, \\\"dataset_samples\\\": 98, \\\"single_frequency_class_detected\\\": false}\", \"feature_skus\": \"automatedml_sdk_guardrails\"}, \"tags\": {\"model_explain_run\": \"best_run\", \"best_score\": \"0.9278947368421052\", \"best_pipeline\": \"LightGBM\", \"automl_best_child_run_id\": \"AutoML_eda4044b-0ed5-4549-bb34-98848a02cf27_26\", \"model_explain_best_run_child_id\": \"AutoML_eda4044b-0ed5-4549-bb34-98848a02cf27_26\"}, \"end_time_utc\": \"2020-11-23T13:55:26.551052Z\", \"status\": \"Completed\", \"log_files\": {}, \"log_groups\": [], \"run_duration\": \"0:14:17\"}, \"child_runs\": [{\"run_id\": \"AutoML_eda4044b-0ed5-4549-bb34-98848a02cf27_0\", \"run_number\": 7, \"metric\": null, \"status\": \"Completed\", \"run_type\": null, \"training_percent\": \"100\", \"start_time\": \"2020-11-23T13:41:30.870174Z\", \"end_time\": \"2020-11-23T13:42:02.045039Z\", \"created_time\": \"2020-11-23T13:41:30.753262Z\", \"created_time_dt\": \"2020-11-23T13:41:30.753262Z\", \"duration\": \"0:00:31\", \"iteration\": \"0\", \"goal\": \"accuracy_max\", \"run_name\": \"MaxAbsScaler, LightGBM\", \"run_properties\": \"copy=True\", \"primary_metric\": 0.85631579, \"best_metric\": 0.85631579}, {\"run_id\": \"AutoML_eda4044b-0ed5-4549-bb34-98848a02cf27_1\", \"run_number\": 8, \"metric\": null, \"status\": \"Completed\", \"run_type\": null, \"training_percent\": \"100\", \"start_time\": \"2020-11-23T13:42:02.383709Z\", \"end_time\": \"2020-11-23T13:42:25.368431Z\", \"created_time\": \"2020-11-23T13:42:02.257006Z\", \"created_time_dt\": \"2020-11-23T13:42:02.257006Z\", \"duration\": \"0:00:23\", \"iteration\": \"1\", \"goal\": \"accuracy_max\", \"run_name\": \"MaxAbsScaler, XGBoostClassifier\", \"run_properties\": \"copy=True\", \"primary_metric\": 0.90842105, \"best_metric\": 0.90842105}, {\"run_id\": \"AutoML_eda4044b-0ed5-4549-bb34-98848a02cf27_2\", \"run_number\": 9, \"metric\": null, \"status\": \"Completed\", \"run_type\": null, \"training_percent\": \"100\", \"start_time\": \"2020-11-23T13:42:26.132981Z\", \"end_time\": \"2020-11-23T13:42:48.837Z\", \"created_time\": \"2020-11-23T13:42:25.976563Z\", \"created_time_dt\": \"2020-11-23T13:42:25.976563Z\", \"duration\": \"0:00:22\", \"iteration\": \"2\", \"goal\": \"accuracy_max\", \"run_name\": \"MinMaxScaler, RandomForest\", \"run_properties\": \"copy=True, feature_range=(0, 1\", \"primary_metric\": 0.88842105, \"best_metric\": 0.90842105}, {\"run_id\": \"AutoML_eda4044b-0ed5-4549-bb34-98848a02cf27_3\", \"run_number\": 10, \"metric\": null, \"status\": \"Completed\", \"run_type\": null, \"training_percent\": \"100\", \"start_time\": \"2020-11-23T13:42:51.097846Z\", \"end_time\": \"2020-11-23T13:43:22.054864Z\", \"created_time\": \"2020-11-23T13:42:50.476463Z\", \"created_time_dt\": \"2020-11-23T13:42:50.476463Z\", \"duration\": \"0:00:31\", \"iteration\": \"3\", \"goal\": \"accuracy_max\", \"run_name\": \"StandardScalerWrapper, SGD\", \"run_properties\": \"<azureml.automl.runtime.shared.model_wrappers.StandardScalerWrapper object at 0x7fa6551325f8\", \"primary_metric\": 0.80578947, \"best_metric\": 0.90842105}, {\"run_id\": \"AutoML_eda4044b-0ed5-4549-bb34-98848a02cf27_4\", \"run_number\": 11, \"metric\": null, \"status\": \"Completed\", \"run_type\": null, \"training_percent\": \"100\", \"start_time\": \"2020-11-23T13:43:24.90379Z\", \"end_time\": \"2020-11-23T13:43:53.782502Z\", \"created_time\": \"2020-11-23T13:43:24.360045Z\", \"created_time_dt\": \"2020-11-23T13:43:24.360045Z\", \"duration\": \"0:00:29\", \"iteration\": \"4\", \"goal\": \"accuracy_max\", \"run_name\": \"MinMaxScaler, RandomForest\", \"run_properties\": \"copy=True, feature_range=(0, 1\", \"primary_metric\": 0.80578947, \"best_metric\": 0.90842105}, {\"run_id\": \"AutoML_eda4044b-0ed5-4549-bb34-98848a02cf27_5\", \"run_number\": 12, \"metric\": null, \"status\": \"Completed\", \"run_type\": null, \"training_percent\": \"100\", \"start_time\": \"2020-11-23T13:43:55.149983Z\", \"end_time\": \"2020-11-23T13:44:22.867163Z\", \"created_time\": \"2020-11-23T13:43:55.030377Z\", \"created_time_dt\": \"2020-11-23T13:43:55.030377Z\", \"duration\": \"0:00:27\", \"iteration\": \"5\", \"goal\": \"accuracy_max\", \"run_name\": \"StandardScalerWrapper, SGD\", \"run_properties\": \"<azureml.automl.runtime.shared.model_wrappers.StandardScalerWrapper object at 0x7fa6551a73c8\", \"primary_metric\": 0.78421053, \"best_metric\": 0.90842105}, {\"run_id\": \"AutoML_eda4044b-0ed5-4549-bb34-98848a02cf27_6\", \"run_number\": 13, \"metric\": null, \"status\": \"Completed\", \"run_type\": null, \"training_percent\": \"100\", \"start_time\": \"2020-11-23T13:44:24.413785Z\", \"end_time\": \"2020-11-23T13:44:48.037912Z\", \"created_time\": \"2020-11-23T13:44:24.308925Z\", \"created_time_dt\": \"2020-11-23T13:44:24.308925Z\", \"duration\": \"0:00:23\", \"iteration\": \"6\", \"goal\": \"accuracy_max\", \"run_name\": \"StandardScalerWrapper, RandomForest\", \"run_properties\": \"<azureml.automl.runtime.shared.model_wrappers.StandardScalerWrapper object at 0x7fa6553e81d0\", \"primary_metric\": 0.81631579, \"best_metric\": 0.90842105}, {\"run_id\": \"AutoML_eda4044b-0ed5-4549-bb34-98848a02cf27_7\", \"run_number\": 14, \"metric\": null, \"status\": \"Completed\", \"run_type\": null, \"training_percent\": \"100\", \"start_time\": \"2020-11-23T13:44:49.534409Z\", \"end_time\": \"2020-11-23T13:45:14.227266Z\", \"created_time\": \"2020-11-23T13:44:49.420932Z\", \"created_time_dt\": \"2020-11-23T13:44:49.420932Z\", \"duration\": \"0:00:24\", \"iteration\": \"7\", \"goal\": \"accuracy_max\", \"run_name\": \"RobustScaler, ExtremeRandomTrees\", \"run_properties\": \"copy=True, quantile_range=[10, 90], with_centering=False,\\n             with_scaling=False\", \"primary_metric\": 0.78473684, \"best_metric\": 0.90842105}, {\"run_id\": \"AutoML_eda4044b-0ed5-4549-bb34-98848a02cf27_8\", \"run_number\": 15, \"metric\": null, \"status\": \"Completed\", \"run_type\": null, \"training_percent\": \"100\", \"start_time\": \"2020-11-23T13:45:15.759059Z\", \"end_time\": \"2020-11-23T13:45:38.414363Z\", \"created_time\": \"2020-11-23T13:45:15.655966Z\", \"created_time_dt\": \"2020-11-23T13:45:15.655966Z\", \"duration\": \"0:00:22\", \"iteration\": \"8\", \"goal\": \"accuracy_max\", \"run_name\": \"StandardScalerWrapper, ExtremeRandomTrees\", \"run_properties\": \"<azureml.automl.runtime.shared.model_wrappers.StandardScalerWrapper object at 0x7fa6553b1080\", \"primary_metric\": 0.83473684, \"best_metric\": 0.90842105}, {\"run_id\": \"AutoML_eda4044b-0ed5-4549-bb34-98848a02cf27_9\", \"run_number\": 16, \"metric\": null, \"status\": \"Completed\", \"run_type\": null, \"training_percent\": \"100\", \"start_time\": \"2020-11-23T13:45:40.484268Z\", \"end_time\": \"2020-11-23T13:46:04.207336Z\", \"created_time\": \"2020-11-23T13:45:40.16594Z\", \"created_time_dt\": \"2020-11-23T13:45:40.16594Z\", \"duration\": \"0:00:24\", \"iteration\": \"9\", \"goal\": \"accuracy_max\", \"run_name\": \"StandardScalerWrapper, SGD\", \"run_properties\": \"<azureml.automl.runtime.shared.model_wrappers.StandardScalerWrapper object at 0x7fa65529d5c0\", \"primary_metric\": 0.81526316, \"best_metric\": 0.90842105}, {\"run_id\": \"AutoML_eda4044b-0ed5-4549-bb34-98848a02cf27_10\", \"run_number\": 17, \"metric\": null, \"status\": \"Completed\", \"run_type\": null, \"training_percent\": \"100\", \"start_time\": \"2020-11-23T13:46:05.769983Z\", \"end_time\": \"2020-11-23T13:46:28.785163Z\", \"created_time\": \"2020-11-23T13:46:05.671752Z\", \"created_time_dt\": \"2020-11-23T13:46:05.671752Z\", \"duration\": \"0:00:23\", \"iteration\": \"10\", \"goal\": \"accuracy_max\", \"run_name\": \"StandardScalerWrapper, SGD\", \"run_properties\": \"<azureml.automl.runtime.shared.model_wrappers.StandardScalerWrapper object at 0x7fa65501b4e0\", \"primary_metric\": 0.78421053, \"best_metric\": 0.90842105}, {\"run_id\": \"AutoML_eda4044b-0ed5-4549-bb34-98848a02cf27_11\", \"run_number\": 18, \"metric\": null, \"status\": \"Completed\", \"run_type\": null, \"training_percent\": \"100\", \"start_time\": \"2020-11-23T13:46:30.236796Z\", \"end_time\": \"2020-11-23T13:46:58.842821Z\", \"created_time\": \"2020-11-23T13:46:30.125289Z\", \"created_time_dt\": \"2020-11-23T13:46:30.125289Z\", \"duration\": \"0:00:28\", \"iteration\": \"11\", \"goal\": \"accuracy_max\", \"run_name\": \"MinMaxScaler, SGD\", \"run_properties\": \"copy=True, feature_range=(0, 1\", \"primary_metric\": 0.69157895, \"best_metric\": 0.90842105}, {\"run_id\": \"AutoML_eda4044b-0ed5-4549-bb34-98848a02cf27_12\", \"run_number\": 19, \"metric\": null, \"status\": \"Completed\", \"run_type\": null, \"training_percent\": \"100\", \"start_time\": \"2020-11-23T13:47:01.020933Z\", \"end_time\": \"2020-11-23T13:47:25.570148Z\", \"created_time\": \"2020-11-23T13:47:00.703302Z\", \"created_time_dt\": \"2020-11-23T13:47:00.703302Z\", \"duration\": \"0:00:24\", \"iteration\": \"12\", \"goal\": \"accuracy_max\", \"run_name\": \"RobustScaler, ExtremeRandomTrees\", \"run_properties\": \"copy=True, quantile_range=[10, 90], with_centering=False,\\n             with_scaling=False\", \"primary_metric\": 0.78526316, \"best_metric\": 0.90842105}, {\"run_id\": \"AutoML_eda4044b-0ed5-4549-bb34-98848a02cf27_13\", \"run_number\": 20, \"metric\": null, \"status\": \"Completed\", \"run_type\": null, \"training_percent\": \"100\", \"start_time\": \"2020-11-23T13:47:27.018443Z\", \"end_time\": \"2020-11-23T13:47:54.820241Z\", \"created_time\": \"2020-11-23T13:47:26.870634Z\", \"created_time_dt\": \"2020-11-23T13:47:26.870634Z\", \"duration\": \"0:00:27\", \"iteration\": \"13\", \"goal\": \"accuracy_max\", \"run_name\": \"MinMaxScaler, SGD\", \"run_properties\": \"copy=True, feature_range=(0, 1\", \"primary_metric\": 0.70421053, \"best_metric\": 0.90842105}, {\"run_id\": \"AutoML_eda4044b-0ed5-4549-bb34-98848a02cf27_14\", \"run_number\": 21, \"metric\": null, \"status\": \"Completed\", \"run_type\": null, \"training_percent\": \"100\", \"start_time\": \"2020-11-23T13:47:56.192083Z\", \"end_time\": \"2020-11-23T13:48:19.843377Z\", \"created_time\": \"2020-11-23T13:47:56.061878Z\", \"created_time_dt\": \"2020-11-23T13:47:56.061878Z\", \"duration\": \"0:00:23\", \"iteration\": \"14\", \"goal\": \"accuracy_max\", \"run_name\": \"MinMaxScaler, ExtremeRandomTrees\", \"run_properties\": \"copy=True, feature_range=(0, 1\", \"primary_metric\": 0.86684211, \"best_metric\": 0.90842105}, {\"run_id\": \"AutoML_eda4044b-0ed5-4549-bb34-98848a02cf27_15\", \"run_number\": 22, \"metric\": null, \"status\": \"Completed\", \"run_type\": null, \"training_percent\": \"100\", \"start_time\": \"2020-11-23T13:48:21.304346Z\", \"end_time\": \"2020-11-23T13:48:45.560785Z\", \"created_time\": \"2020-11-23T13:48:21.191616Z\", \"created_time_dt\": \"2020-11-23T13:48:21.191616Z\", \"duration\": \"0:00:24\", \"iteration\": \"15\", \"goal\": \"accuracy_max\", \"run_name\": \"MinMaxScaler, ExtremeRandomTrees\", \"run_properties\": \"copy=True, feature_range=(0, 1\", \"primary_metric\": 0.86631579, \"best_metric\": 0.90842105}, {\"run_id\": \"AutoML_eda4044b-0ed5-4549-bb34-98848a02cf27_16\", \"run_number\": 23, \"metric\": null, \"status\": \"Completed\", \"run_type\": null, \"training_percent\": \"100\", \"start_time\": \"2020-11-23T13:48:46.89621Z\", \"end_time\": \"2020-11-23T13:49:10.863381Z\", \"created_time\": \"2020-11-23T13:48:46.794471Z\", \"created_time_dt\": \"2020-11-23T13:48:46.794471Z\", \"duration\": \"0:00:24\", \"iteration\": \"16\", \"goal\": \"accuracy_max\", \"run_name\": \"MinMaxScaler, ExtremeRandomTrees\", \"run_properties\": \"copy=True, feature_range=(0, 1\", \"primary_metric\": 0.79421053, \"best_metric\": 0.90842105}, {\"run_id\": \"AutoML_eda4044b-0ed5-4549-bb34-98848a02cf27_17\", \"run_number\": 24, \"metric\": null, \"status\": \"Completed\", \"run_type\": null, \"training_percent\": \"100\", \"start_time\": \"2020-11-23T13:49:12.175138Z\", \"end_time\": \"2020-11-23T13:49:35.27917Z\", \"created_time\": \"2020-11-23T13:49:12.062711Z\", \"created_time_dt\": \"2020-11-23T13:49:12.062711Z\", \"duration\": \"0:00:23\", \"iteration\": \"17\", \"goal\": \"accuracy_max\", \"run_name\": \"StandardScalerWrapper, RandomForest\", \"run_properties\": \"<azureml.automl.runtime.shared.model_wrappers.StandardScalerWrapper object at 0x7fa65512e1d0\", \"primary_metric\": 0.85684211, \"best_metric\": 0.90842105}, {\"run_id\": \"AutoML_eda4044b-0ed5-4549-bb34-98848a02cf27_18\", \"run_number\": 25, \"metric\": null, \"status\": \"Completed\", \"run_type\": null, \"training_percent\": \"100\", \"start_time\": \"2020-11-23T13:49:36.653041Z\", \"end_time\": \"2020-11-23T13:49:59.437038Z\", \"created_time\": \"2020-11-23T13:49:36.554086Z\", \"created_time_dt\": \"2020-11-23T13:49:36.554086Z\", \"duration\": \"0:00:22\", \"iteration\": \"18\", \"goal\": \"accuracy_max\", \"run_name\": \"StandardScalerWrapper, SGD\", \"run_properties\": \"<azureml.automl.runtime.shared.model_wrappers.StandardScalerWrapper object at 0x7fa6552329e8\", \"primary_metric\": 0.73315789, \"best_metric\": 0.90842105}, {\"run_id\": \"AutoML_eda4044b-0ed5-4549-bb34-98848a02cf27_19\", \"run_number\": 26, \"metric\": null, \"status\": \"Completed\", \"run_type\": null, \"training_percent\": \"100\", \"start_time\": \"2020-11-23T13:50:00.781889Z\", \"end_time\": \"2020-11-23T13:50:29.501979Z\", \"created_time\": \"2020-11-23T13:50:00.675148Z\", \"created_time_dt\": \"2020-11-23T13:50:00.675148Z\", \"duration\": \"0:00:28\", \"iteration\": \"19\", \"goal\": \"accuracy_max\", \"run_name\": \"RobustScaler, ExtremeRandomTrees\", \"run_properties\": \"copy=True, quantile_range=[25, 75], with_centering=True,\\n             with_scaling=False\", \"primary_metric\": 0.85684211, \"best_metric\": 0.90842105}, {\"run_id\": \"AutoML_eda4044b-0ed5-4549-bb34-98848a02cf27_20\", \"run_number\": 27, \"metric\": null, \"status\": \"Completed\", \"run_type\": null, \"training_percent\": \"100\", \"start_time\": \"2020-11-23T13:50:30.882557Z\", \"end_time\": \"2020-11-23T13:50:54.869374Z\", \"created_time\": \"2020-11-23T13:50:30.786355Z\", \"created_time_dt\": \"2020-11-23T13:50:30.786355Z\", \"duration\": \"0:00:24\", \"iteration\": \"20\", \"goal\": \"accuracy_max\", \"run_name\": \"StandardScalerWrapper, RandomForest\", \"run_properties\": \"<azureml.automl.runtime.shared.model_wrappers.StandardScalerWrapper object at 0x7fa6553b1550\", \"primary_metric\": 0.76578947, \"best_metric\": 0.90842105}, {\"run_id\": \"AutoML_eda4044b-0ed5-4549-bb34-98848a02cf27_21\", \"run_number\": 28, \"metric\": null, \"status\": \"Completed\", \"run_type\": null, \"training_percent\": \"100\", \"start_time\": \"2020-11-23T13:50:56.336754Z\", \"end_time\": \"2020-11-23T13:51:24.787924Z\", \"created_time\": \"2020-11-23T13:50:56.236968Z\", \"created_time_dt\": \"2020-11-23T13:50:56.236968Z\", \"duration\": \"0:00:28\", \"iteration\": \"21\", \"goal\": \"accuracy_max\", \"run_name\": \"MinMaxScaler, ExtremeRandomTrees\", \"run_properties\": \"copy=True, feature_range=(0, 1\", \"primary_metric\": 0.88789474, \"best_metric\": 0.90842105}, {\"run_id\": \"AutoML_eda4044b-0ed5-4549-bb34-98848a02cf27_22\", \"run_number\": 29, \"metric\": null, \"status\": \"Completed\", \"run_type\": null, \"training_percent\": \"100\", \"start_time\": \"2020-11-23T13:51:27.749303Z\", \"end_time\": \"2020-11-23T13:51:52.989545Z\", \"created_time\": \"2020-11-23T13:51:27.632218Z\", \"created_time_dt\": \"2020-11-23T13:51:27.632218Z\", \"duration\": \"0:00:25\", \"iteration\": \"22\", \"goal\": \"accuracy_max\", \"run_name\": \"MinMaxScaler, RandomForest\", \"run_properties\": \"copy=True, feature_range=(0, 1\", \"primary_metric\": 0.89894737, \"best_metric\": 0.90842105}, {\"run_id\": \"AutoML_eda4044b-0ed5-4549-bb34-98848a02cf27_23\", \"run_number\": 30, \"metric\": null, \"status\": \"Completed\", \"run_type\": null, \"training_percent\": \"100\", \"start_time\": \"2020-11-23T13:51:54.303792Z\", \"end_time\": \"2020-11-23T13:52:18.908332Z\", \"created_time\": \"2020-11-23T13:51:54.188476Z\", \"created_time_dt\": \"2020-11-23T13:51:54.188476Z\", \"duration\": \"0:00:24\", \"iteration\": \"23\", \"goal\": \"accuracy_max\", \"run_name\": \"MaxAbsScaler, LightGBM\", \"run_properties\": \"copy=True\", \"primary_metric\": 0.88736842, \"best_metric\": 0.90842105}, {\"run_id\": \"AutoML_eda4044b-0ed5-4549-bb34-98848a02cf27_24\", \"run_number\": 31, \"metric\": null, \"status\": \"Completed\", \"run_type\": null, \"training_percent\": \"100\", \"start_time\": \"2020-11-23T13:52:20.253366Z\", \"end_time\": \"2020-11-23T13:52:49.803736Z\", \"created_time\": \"2020-11-23T13:52:20.137198Z\", \"created_time_dt\": \"2020-11-23T13:52:20.137198Z\", \"duration\": \"0:00:29\", \"iteration\": \"24\", \"goal\": \"accuracy_max\", \"run_name\": \"StandardScalerWrapper, LightGBM\", \"run_properties\": \"<azureml.automl.runtime.shared.model_wrappers.StandardScalerWrapper object at 0x7fa75f943438\", \"primary_metric\": 0.91736842, \"best_metric\": 0.91736842}, {\"run_id\": \"AutoML_eda4044b-0ed5-4549-bb34-98848a02cf27_25\", \"run_number\": 32, \"metric\": null, \"status\": \"Completed\", \"run_type\": null, \"training_percent\": \"100\", \"start_time\": \"2020-11-23T13:52:51.952335Z\", \"end_time\": \"2020-11-23T13:53:16.31359Z\", \"created_time\": \"2020-11-23T13:52:51.842886Z\", \"created_time_dt\": \"2020-11-23T13:52:51.842886Z\", \"duration\": \"0:00:24\", \"iteration\": \"25\", \"goal\": \"accuracy_max\", \"run_name\": \"StandardScalerWrapper, LightGBM\", \"run_properties\": \"<azureml.automl.runtime.shared.model_wrappers.StandardScalerWrapper object at 0x7fa75f943080\", \"primary_metric\": 0.89684211, \"best_metric\": 0.91736842}, {\"run_id\": \"AutoML_eda4044b-0ed5-4549-bb34-98848a02cf27_26\", \"run_number\": 33, \"metric\": null, \"status\": \"Completed\", \"run_type\": null, \"training_percent\": \"100\", \"start_time\": \"2020-11-23T13:53:18.100503Z\", \"end_time\": \"2020-11-23T13:53:47.079393Z\", \"created_time\": \"2020-11-23T13:53:18.001165Z\", \"created_time_dt\": \"2020-11-23T13:53:18.001165Z\", \"duration\": \"0:00:29\", \"iteration\": \"26\", \"goal\": \"accuracy_max\", \"run_name\": \"MaxAbsScaler, LightGBM\", \"run_properties\": \"copy=True\", \"primary_metric\": 0.92789474, \"best_metric\": 0.92789474}, {\"run_id\": \"AutoML_eda4044b-0ed5-4549-bb34-98848a02cf27_27\", \"run_number\": 34, \"metric\": null, \"status\": \"Completed\", \"run_type\": null, \"training_percent\": \"100\", \"start_time\": \"2020-11-23T13:53:48.958512Z\", \"end_time\": \"2020-11-23T13:54:13.870083Z\", \"created_time\": \"2020-11-23T13:53:48.778804Z\", \"created_time_dt\": \"2020-11-23T13:53:48.778804Z\", \"duration\": \"0:00:25\", \"iteration\": \"27\", \"goal\": \"accuracy_max\", \"run_name\": \"MaxAbsScaler, RandomForest\", \"run_properties\": \"copy=True\", \"primary_metric\": 0.86684211, \"best_metric\": 0.92789474}, {\"run_id\": \"AutoML_eda4044b-0ed5-4549-bb34-98848a02cf27_28\", \"run_number\": 35, \"metric\": null, \"status\": \"Completed\", \"run_type\": null, \"training_percent\": \"100\", \"start_time\": \"2020-11-23T13:54:14.240446Z\", \"end_time\": \"2020-11-23T13:54:50.225227Z\", \"created_time\": \"2020-11-23T13:54:14.102819Z\", \"created_time_dt\": \"2020-11-23T13:54:14.102819Z\", \"duration\": \"0:00:36\", \"iteration\": \"28\", \"goal\": \"accuracy_max\", \"run_name\": \"VotingEnsemble\", \"run_properties\": \"classification_labels=None,\\n                              estimators=[('26',\\n                                           Pipeline(memory=None,\\n                                                    steps=[('maxabsscaler',\\n                                                            MaxAbsScaler(copy=True\", \"primary_metric\": 0.91842105, \"best_metric\": 0.92789474}, {\"run_id\": \"AutoML_eda4044b-0ed5-4549-bb34-98848a02cf27_29\", \"run_number\": 36, \"metric\": null, \"status\": \"Completed\", \"run_type\": null, \"training_percent\": \"100\", \"start_time\": \"2020-11-23T13:54:50.669531Z\", \"end_time\": \"2020-11-23T13:55:25.243953Z\", \"created_time\": \"2020-11-23T13:54:50.550933Z\", \"created_time_dt\": \"2020-11-23T13:54:50.550933Z\", \"duration\": \"0:00:34\", \"iteration\": \"29\", \"goal\": \"accuracy_max\", \"run_name\": \"StackEnsemble\", \"run_properties\": \"base_learners=[('26',\\n                                        Pipeline(memory=None,\\n                                                 steps=[('maxabsscaler',\\n                                                         MaxAbsScaler(copy=True\", \"primary_metric\": 0.90789474, \"best_metric\": 0.92789474}], \"children_metrics\": {\"categories\": [0], \"series\": {\"precision_score_macro\": [{\"categories\": [\"0\", \"1\", \"2\", \"3\", \"4\", \"5\", \"6\", \"7\", \"8\", \"9\", \"10\", \"11\", \"12\", \"13\", \"14\", \"15\", \"16\", \"17\", \"18\", \"19\", \"20\", \"21\", \"22\", \"23\", \"24\", \"25\", \"26\", \"27\", \"28\", \"29\"], \"mode\": \"markers\", \"name\": \"precision_score_macro\", \"stepped\": false, \"type\": \"scatter\", \"data\": [0.858095238095238, 0.9111309523809524, 0.9012460741872508, 0.7959866522366522, 0.8323319327731091, 0.7808775946275947, 0.8176766860590391, 0.824859584859585, 0.8505069930069931, 0.8050165112665113, 0.8020833333333333, 0.6808726567550097, 0.775563798946152, 0.679596930846931, 0.8842258721670486, 0.8684294871794872, 0.7870095182595183, 0.8529166666666665, 0.7173201798201798, 0.8478030303030304, 0.7489538239538239, 0.9010440539852305, 0.9103899858311623, 0.881547619047619, 0.9381652661064426, 0.9053617216117216, 0.9449834479246244, 0.8559090909090908, 0.936498599439776, 0.9283167812579578]}, {\"categories\": [\"0\", \"1\", \"2\", \"3\", \"4\", \"5\", \"6\", \"7\", \"8\", \"9\", \"10\", \"11\", \"12\", \"13\", \"14\", \"15\", \"16\", \"17\", \"18\", \"19\", \"20\", \"21\", \"22\", \"23\", \"24\", \"25\", \"26\", \"27\", \"28\", \"29\"], \"mode\": \"lines\", \"name\": \"precision_score_macro_max\", \"stepped\": true, \"type\": \"scatter\", \"data\": [0.858095238095238, 0.9111309523809524, 0.9111309523809524, 0.9111309523809524, 0.9111309523809524, 0.9111309523809524, 0.9111309523809524, 0.9111309523809524, 0.9111309523809524, 0.9111309523809524, 0.9111309523809524, 0.9111309523809524, 0.9111309523809524, 0.9111309523809524, 0.9111309523809524, 0.9111309523809524, 0.9111309523809524, 0.9111309523809524, 0.9111309523809524, 0.9111309523809524, 0.9111309523809524, 0.9111309523809524, 0.9111309523809524, 0.9111309523809524, 0.9381652661064426, 0.9381652661064426, 0.9449834479246244, 0.9449834479246244, 0.9449834479246244, 0.9449834479246244]}], \"recall_score_weighted\": [{\"categories\": [\"0\", \"1\", \"2\", \"3\", \"4\", \"5\", \"6\", \"7\", \"8\", \"9\", \"10\", \"11\", \"12\", \"13\", \"14\", \"15\", \"16\", \"17\", \"18\", \"19\", \"20\", \"21\", \"22\", \"23\", \"24\", \"25\", \"26\", \"27\", \"28\", \"29\"], \"mode\": \"markers\", \"name\": \"recall_score_weighted\", \"stepped\": false, \"type\": \"scatter\", \"data\": [0.8563157894736841, 0.908421052631579, 0.8884210526315789, 0.8057894736842106, 0.8057894736842105, 0.7842105263157896, 0.8163157894736843, 0.7847368421052632, 0.8347368421052632, 0.8152631578947368, 0.7842105263157895, 0.6915789473684211, 0.7852631578947368, 0.7042105263157895, 0.8668421052631577, 0.8663157894736843, 0.7942105263157895, 0.8568421052631578, 0.733157894736842, 0.8568421052631578, 0.7657894736842106, 0.8878947368421054, 0.8989473684210527, 0.8873684210526316, 0.9173684210526314, 0.8968421052631579, 0.9278947368421052, 0.866842105263158, 0.9184210526315789, 0.9078947368421053]}, {\"categories\": [\"0\", \"1\", \"2\", \"3\", \"4\", \"5\", \"6\", \"7\", \"8\", \"9\", \"10\", \"11\", \"12\", \"13\", \"14\", \"15\", \"16\", \"17\", \"18\", \"19\", \"20\", \"21\", \"22\", \"23\", \"24\", \"25\", \"26\", \"27\", \"28\", \"29\"], \"mode\": \"lines\", \"name\": \"recall_score_weighted_max\", \"stepped\": true, \"type\": \"scatter\", \"data\": [0.8563157894736841, 0.908421052631579, 0.908421052631579, 0.908421052631579, 0.908421052631579, 0.908421052631579, 0.908421052631579, 0.908421052631579, 0.908421052631579, 0.908421052631579, 0.908421052631579, 0.908421052631579, 0.908421052631579, 0.908421052631579, 0.908421052631579, 0.908421052631579, 0.908421052631579, 0.908421052631579, 0.908421052631579, 0.908421052631579, 0.908421052631579, 0.908421052631579, 0.908421052631579, 0.908421052631579, 0.9173684210526314, 0.9173684210526314, 0.9278947368421052, 0.9278947368421052, 0.9278947368421052, 0.9278947368421052]}], \"AUC_weighted\": [{\"categories\": [\"0\", \"1\", \"2\", \"3\", \"4\", \"5\", \"6\", \"7\", \"8\", \"9\", \"10\", \"11\", \"12\", \"13\", \"14\", \"15\", \"16\", \"17\", \"18\", \"19\", \"20\", \"21\", \"22\", \"23\", \"24\", \"25\", \"26\", \"27\", \"28\", \"29\"], \"mode\": \"markers\", \"name\": \"AUC_weighted\", \"stepped\": false, \"type\": \"scatter\", \"data\": [0.9358351370851372, 0.9412391774891775, 0.8949314574314574, 0.8964709595959596, 0.877732683982684, 0.8679229797979797, 0.9247118506493506, 0.9018452380952381, 0.922943722943723, 0.8915927128427128, 0.8858071789321789, 0.7865602453102454, 0.8901325757575757, 0.8356628787878787, 0.9709090909090909, 0.9468317099567098, 0.8631885822510823, 0.9253742784992784, 0.8318028499278499, 0.9469439935064935, 0.8385569985569985, 0.9524098124098124, 0.9480438311688312, 0.9327227633477634, 0.9558838383838385, 0.9493163780663781, 0.9575306637806638, 0.9359063852813854, 0.9596148989898989, 0.9605176767676766]}, {\"categories\": [\"0\", \"1\", \"2\", \"3\", \"4\", \"5\", \"6\", \"7\", \"8\", \"9\", \"10\", \"11\", \"12\", \"13\", \"14\", \"15\", \"16\", \"17\", \"18\", \"19\", \"20\", \"21\", \"22\", \"23\", \"24\", \"25\", \"26\", \"27\", \"28\", \"29\"], \"mode\": \"lines\", \"name\": \"AUC_weighted_max\", \"stepped\": true, \"type\": \"scatter\", \"data\": [0.9358351370851372, 0.9412391774891775, 0.9412391774891775, 0.9412391774891775, 0.9412391774891775, 0.9412391774891775, 0.9412391774891775, 0.9412391774891775, 0.9412391774891775, 0.9412391774891775, 0.9412391774891775, 0.9412391774891775, 0.9412391774891775, 0.9412391774891775, 0.9709090909090909, 0.9709090909090909, 0.9709090909090909, 0.9709090909090909, 0.9709090909090909, 0.9709090909090909, 0.9709090909090909, 0.9709090909090909, 0.9709090909090909, 0.9709090909090909, 0.9709090909090909, 0.9709090909090909, 0.9709090909090909, 0.9709090909090909, 0.9709090909090909, 0.9709090909090909]}], \"balanced_accuracy\": [{\"categories\": [\"0\", \"1\", \"2\", \"3\", \"4\", \"5\", \"6\", \"7\", \"8\", \"9\", \"10\", \"11\", \"12\", \"13\", \"14\", \"15\", \"16\", \"17\", \"18\", \"19\", \"20\", \"21\", \"22\", \"23\", \"24\", \"25\", \"26\", \"27\", \"28\", \"29\"], \"mode\": \"markers\", \"name\": \"balanced_accuracy\", \"stepped\": false, \"type\": \"scatter\", \"data\": [0.8444336219336218, 0.891794733044733, 0.8687518037518039, 0.7925018037518037, 0.7913708513708514, 0.7676172438672438, 0.7819967532467533, 0.7424963924963924, 0.8523430735930735, 0.7984181096681097, 0.7644859307359306, 0.6631727994227994, 0.7615854978354979, 0.6631096681096682, 0.8487518037518036, 0.8494209956709957, 0.7769101731601731, 0.8346879509379509, 0.724498556998557, 0.8642550505050505, 0.7450901875901875, 0.8658225108225108, 0.8830375180375182, 0.8567063492063494, 0.8942063492063493, 0.8799765512265513, 0.9042063492063491, 0.8611435786435786, 0.898044733044733, 0.888044733044733]}, {\"categories\": [\"0\", \"1\", \"2\", \"3\", \"4\", \"5\", \"6\", \"7\", \"8\", \"9\", \"10\", \"11\", \"12\", \"13\", \"14\", \"15\", \"16\", \"17\", \"18\", \"19\", \"20\", \"21\", \"22\", \"23\", \"24\", \"25\", \"26\", \"27\", \"28\", \"29\"], \"mode\": \"lines\", \"name\": \"balanced_accuracy_max\", \"stepped\": true, \"type\": \"scatter\", \"data\": [0.8444336219336218, 0.891794733044733, 0.891794733044733, 0.891794733044733, 0.891794733044733, 0.891794733044733, 0.891794733044733, 0.891794733044733, 0.891794733044733, 0.891794733044733, 0.891794733044733, 0.891794733044733, 0.891794733044733, 0.891794733044733, 0.891794733044733, 0.891794733044733, 0.891794733044733, 0.891794733044733, 0.891794733044733, 0.891794733044733, 0.891794733044733, 0.891794733044733, 0.891794733044733, 0.891794733044733, 0.8942063492063493, 0.8942063492063493, 0.9042063492063491, 0.9042063492063491, 0.9042063492063491, 0.9042063492063491]}], \"precision_score_weighted\": [{\"categories\": [\"0\", \"1\", \"2\", \"3\", \"4\", \"5\", \"6\", \"7\", \"8\", \"9\", \"10\", \"11\", \"12\", \"13\", \"14\", \"15\", \"16\", \"17\", \"18\", \"19\", \"20\", \"21\", \"22\", \"23\", \"24\", \"25\", \"26\", \"27\", \"28\", \"29\"], \"mode\": \"markers\", \"name\": \"precision_score_weighted\", \"stepped\": false, \"type\": \"scatter\", \"data\": [0.8770050125313282, 0.9208145363408521, 0.8968977211299194, 0.8121444710260499, 0.8330575335397317, 0.8004600443416233, 0.8309675347871941, 0.8189145299145298, 0.8768755980861244, 0.8209425735083631, 0.8166666666666667, 0.7017943614692841, 0.7948679326349605, 0.688643504886926, 0.880797907201158, 0.880386302294197, 0.8061417004048582, 0.8655043859649123, 0.7462753912753912, 0.8666305156831473, 0.7772328548644338, 0.8953182421293878, 0.907647951893308, 0.899937343358396, 0.9305255786525137, 0.9146384229805282, 0.9369849087960544, 0.8815781499202553, 0.9314027716349698, 0.9236515754627209]}, {\"categories\": [\"0\", \"1\", \"2\", \"3\", \"4\", \"5\", \"6\", \"7\", \"8\", \"9\", \"10\", \"11\", \"12\", \"13\", \"14\", \"15\", \"16\", \"17\", \"18\", \"19\", \"20\", \"21\", \"22\", \"23\", \"24\", \"25\", \"26\", \"27\", \"28\", \"29\"], \"mode\": \"lines\", \"name\": \"precision_score_weighted_max\", \"stepped\": true, \"type\": \"scatter\", \"data\": [0.8770050125313282, 0.9208145363408521, 0.9208145363408521, 0.9208145363408521, 0.9208145363408521, 0.9208145363408521, 0.9208145363408521, 0.9208145363408521, 0.9208145363408521, 0.9208145363408521, 0.9208145363408521, 0.9208145363408521, 0.9208145363408521, 0.9208145363408521, 0.9208145363408521, 0.9208145363408521, 0.9208145363408521, 0.9208145363408521, 0.9208145363408521, 0.9208145363408521, 0.9208145363408521, 0.9208145363408521, 0.9208145363408521, 0.9208145363408521, 0.9305255786525137, 0.9305255786525137, 0.9369849087960544, 0.9369849087960544, 0.9369849087960544, 0.9369849087960544]}], \"f1_score_macro\": [{\"categories\": [\"0\", \"1\", \"2\", \"3\", \"4\", \"5\", \"6\", \"7\", \"8\", \"9\", \"10\", \"11\", \"12\", \"13\", \"14\", \"15\", \"16\", \"17\", \"18\", \"19\", \"20\", \"21\", \"22\", \"23\", \"24\", \"25\", \"26\", \"27\", \"28\", \"29\"], \"mode\": \"markers\", \"name\": \"f1_score_macro\", \"stepped\": false, \"type\": \"scatter\", \"data\": [0.8391036174393897, 0.8935593428534944, 0.8777736298788931, 0.7905991454552835, 0.7913418165269019, 0.7628401917065599, 0.7857693363754745, 0.7499609342064584, 0.8287188278614425, 0.7973757022318402, 0.7561039428021861, 0.6649219640009113, 0.7603785387672857, 0.6330170129259313, 0.8559524101629364, 0.8495705426287268, 0.7733946944867998, 0.8338951279261213, 0.714626489296896, 0.8504970357814596, 0.7377660510844655, 0.8766078366078366, 0.8901380257169731, 0.8607478944755158, 0.9059318771594984, 0.8809539657744327, 0.9167535391576311, 0.8517076289436568, 0.907493325537477, 0.8969085302158394]}, {\"categories\": [\"0\", \"1\", \"2\", \"3\", \"4\", \"5\", \"6\", \"7\", \"8\", \"9\", \"10\", \"11\", \"12\", \"13\", \"14\", \"15\", \"16\", \"17\", \"18\", \"19\", \"20\", \"21\", \"22\", \"23\", \"24\", \"25\", \"26\", \"27\", \"28\", \"29\"], \"mode\": \"lines\", \"name\": \"f1_score_macro_max\", \"stepped\": true, \"type\": \"scatter\", \"data\": [0.8391036174393897, 0.8935593428534944, 0.8935593428534944, 0.8935593428534944, 0.8935593428534944, 0.8935593428534944, 0.8935593428534944, 0.8935593428534944, 0.8935593428534944, 0.8935593428534944, 0.8935593428534944, 0.8935593428534944, 0.8935593428534944, 0.8935593428534944, 0.8935593428534944, 0.8935593428534944, 0.8935593428534944, 0.8935593428534944, 0.8935593428534944, 0.8935593428534944, 0.8935593428534944, 0.8935593428534944, 0.8935593428534944, 0.8935593428534944, 0.9059318771594984, 0.9059318771594984, 0.9167535391576311, 0.9167535391576311, 0.9167535391576311, 0.9167535391576311]}], \"matthews_correlation\": [{\"categories\": [\"0\", \"1\", \"2\", \"3\", \"4\", \"5\", \"6\", \"7\", \"8\", \"9\", \"10\", \"11\", \"12\", \"13\", \"14\", \"15\", \"16\", \"17\", \"18\", \"19\", \"20\", \"21\", \"22\", \"23\", \"24\", \"25\", \"26\", \"27\", \"28\", \"29\"], \"mode\": \"markers\", \"name\": \"matthews_correlation\", \"stepped\": false, \"type\": \"scatter\", \"data\": [0.7014158044402146, 0.8022361352320775, 0.7682608589454926, 0.5884644244971756, 0.6205810632487229, 0.5480530162579461, 0.5982639454895948, 0.5592738053857026, 0.7018316579531153, 0.6033529112656646, 0.5633608162937492, 0.343306936053217, 0.536383507077528, 0.3799578449082236, 0.7312205106678041, 0.7173925998168242, 0.5635628842820337, 0.686411723575533, 0.4414118110105809, 0.7113981726847023, 0.49393282391973115, 0.7651216151496083, 0.7922086978600734, 0.7374743002884607, 0.8305079103718219, 0.7843338301306344, 0.8474021099011055, 0.7165435127135755, 0.8327697453154388, 0.8145777123066168]}, {\"categories\": [\"0\", \"1\", \"2\", \"3\", \"4\", \"5\", \"6\", \"7\", \"8\", \"9\", \"10\", \"11\", \"12\", \"13\", \"14\", \"15\", \"16\", \"17\", \"18\", \"19\", \"20\", \"21\", \"22\", \"23\", \"24\", \"25\", \"26\", \"27\", \"28\", \"29\"], \"mode\": \"lines\", \"name\": \"matthews_correlation_max\", \"stepped\": true, \"type\": \"scatter\", \"data\": [0.7014158044402146, 0.8022361352320775, 0.8022361352320775, 0.8022361352320775, 0.8022361352320775, 0.8022361352320775, 0.8022361352320775, 0.8022361352320775, 0.8022361352320775, 0.8022361352320775, 0.8022361352320775, 0.8022361352320775, 0.8022361352320775, 0.8022361352320775, 0.8022361352320775, 0.8022361352320775, 0.8022361352320775, 0.8022361352320775, 0.8022361352320775, 0.8022361352320775, 0.8022361352320775, 0.8022361352320775, 0.8022361352320775, 0.8022361352320775, 0.8305079103718219, 0.8305079103718219, 0.8474021099011055, 0.8474021099011055, 0.8474021099011055, 0.8474021099011055]}], \"norm_macro_recall\": [{\"categories\": [\"0\", \"1\", \"2\", \"3\", \"4\", \"5\", \"6\", \"7\", \"8\", \"9\", \"10\", \"11\", \"12\", \"13\", \"14\", \"15\", \"16\", \"17\", \"18\", \"19\", \"20\", \"21\", \"22\", \"23\", \"24\", \"25\", \"26\", \"27\", \"28\", \"29\"], \"mode\": \"markers\", \"name\": \"norm_macro_recall\", \"stepped\": false, \"type\": \"scatter\", \"data\": [0.6888672438672439, 0.783589466089466, 0.7375036075036076, 0.5850036075036075, 0.5827417027417028, 0.5352344877344878, 0.5639935064935064, 0.4849927849927849, 0.7046861471861472, 0.5968362193362193, 0.5289718614718615, 0.3406313131313131, 0.5231709956709956, 0.32621933621933624, 0.6975036075036074, 0.6988419913419913, 0.5538203463203464, 0.6693759018759018, 0.448997113997114, 0.7285101010101009, 0.49018037518037516, 0.7316450216450218, 0.766075036075036, 0.7134126984126985, 0.7884126984126985, 0.7599531024531025, 0.8084126984126984, 0.7222871572871574, 0.7960894660894661, 0.776089466089466]}, {\"categories\": [\"0\", \"1\", \"2\", \"3\", \"4\", \"5\", \"6\", \"7\", \"8\", \"9\", \"10\", \"11\", \"12\", \"13\", \"14\", \"15\", \"16\", \"17\", \"18\", \"19\", \"20\", \"21\", \"22\", \"23\", \"24\", \"25\", \"26\", \"27\", \"28\", \"29\"], \"mode\": \"lines\", \"name\": \"norm_macro_recall_max\", \"stepped\": true, \"type\": \"scatter\", \"data\": [0.6888672438672439, 0.783589466089466, 0.783589466089466, 0.783589466089466, 0.783589466089466, 0.783589466089466, 0.783589466089466, 0.783589466089466, 0.783589466089466, 0.783589466089466, 0.783589466089466, 0.783589466089466, 0.783589466089466, 0.783589466089466, 0.783589466089466, 0.783589466089466, 0.783589466089466, 0.783589466089466, 0.783589466089466, 0.783589466089466, 0.783589466089466, 0.783589466089466, 0.783589466089466, 0.783589466089466, 0.7884126984126985, 0.7884126984126985, 0.8084126984126984, 0.8084126984126984, 0.8084126984126984, 0.8084126984126984]}], \"AUC_macro\": [{\"categories\": [\"0\", \"1\", \"2\", \"3\", \"4\", \"5\", \"6\", \"7\", \"8\", \"9\", \"10\", \"11\", \"12\", \"13\", \"14\", \"15\", \"16\", \"17\", \"18\", \"19\", \"20\", \"21\", \"22\", \"23\", \"24\", \"25\", \"26\", \"27\", \"28\", \"29\"], \"mode\": \"markers\", \"name\": \"AUC_macro\", \"stepped\": false, \"type\": \"scatter\", \"data\": [0.9358351370851372, 0.9412391774891775, 0.8949314574314574, 0.8964709595959596, 0.877732683982684, 0.8679229797979797, 0.9247118506493506, 0.9018452380952381, 0.922943722943723, 0.8915927128427128, 0.8858071789321789, 0.7865602453102454, 0.8901325757575757, 0.8356628787878788, 0.9709090909090909, 0.9468317099567101, 0.8631885822510823, 0.9253742784992784, 0.8318028499278498, 0.9469439935064935, 0.8385569985569985, 0.9524098124098124, 0.9480438311688312, 0.9327227633477634, 0.9558838383838385, 0.9493163780663781, 0.9575306637806639, 0.9359063852813854, 0.959614898989899, 0.9605176767676769]}, {\"categories\": [\"0\", \"1\", \"2\", \"3\", \"4\", \"5\", \"6\", \"7\", \"8\", \"9\", \"10\", \"11\", \"12\", \"13\", \"14\", \"15\", \"16\", \"17\", \"18\", \"19\", \"20\", \"21\", \"22\", \"23\", \"24\", \"25\", \"26\", \"27\", \"28\", \"29\"], \"mode\": \"lines\", \"name\": \"AUC_macro_max\", \"stepped\": true, \"type\": \"scatter\", \"data\": [0.9358351370851372, 0.9412391774891775, 0.9412391774891775, 0.9412391774891775, 0.9412391774891775, 0.9412391774891775, 0.9412391774891775, 0.9412391774891775, 0.9412391774891775, 0.9412391774891775, 0.9412391774891775, 0.9412391774891775, 0.9412391774891775, 0.9412391774891775, 0.9709090909090909, 0.9709090909090909, 0.9709090909090909, 0.9709090909090909, 0.9709090909090909, 0.9709090909090909, 0.9709090909090909, 0.9709090909090909, 0.9709090909090909, 0.9709090909090909, 0.9709090909090909, 0.9709090909090909, 0.9709090909090909, 0.9709090909090909, 0.9709090909090909, 0.9709090909090909]}], \"precision_score_micro\": [{\"categories\": [\"0\", \"1\", \"2\", \"3\", \"4\", \"5\", \"6\", \"7\", \"8\", \"9\", \"10\", \"11\", \"12\", \"13\", \"14\", \"15\", \"16\", \"17\", \"18\", \"19\", \"20\", \"21\", \"22\", \"23\", \"24\", \"25\", \"26\", \"27\", \"28\", \"29\"], \"mode\": \"markers\", \"name\": \"precision_score_micro\", \"stepped\": false, \"type\": \"scatter\", \"data\": [0.8563157894736841, 0.908421052631579, 0.8884210526315789, 0.8057894736842106, 0.8057894736842105, 0.7842105263157896, 0.8163157894736843, 0.7847368421052632, 0.8347368421052632, 0.8152631578947368, 0.7842105263157895, 0.6915789473684211, 0.7852631578947368, 0.7042105263157895, 0.8668421052631577, 0.8663157894736843, 0.7942105263157895, 0.8568421052631578, 0.733157894736842, 0.8568421052631578, 0.7657894736842106, 0.8878947368421054, 0.8989473684210527, 0.8873684210526316, 0.9173684210526314, 0.8968421052631579, 0.9278947368421052, 0.866842105263158, 0.9184210526315789, 0.9078947368421053]}, {\"categories\": [\"0\", \"1\", \"2\", \"3\", \"4\", \"5\", \"6\", \"7\", \"8\", \"9\", \"10\", \"11\", \"12\", \"13\", \"14\", \"15\", \"16\", \"17\", \"18\", \"19\", \"20\", \"21\", \"22\", \"23\", \"24\", \"25\", \"26\", \"27\", \"28\", \"29\"], \"mode\": \"lines\", \"name\": \"precision_score_micro_max\", \"stepped\": true, \"type\": \"scatter\", \"data\": [0.8563157894736841, 0.908421052631579, 0.908421052631579, 0.908421052631579, 0.908421052631579, 0.908421052631579, 0.908421052631579, 0.908421052631579, 0.908421052631579, 0.908421052631579, 0.908421052631579, 0.908421052631579, 0.908421052631579, 0.908421052631579, 0.908421052631579, 0.908421052631579, 0.908421052631579, 0.908421052631579, 0.908421052631579, 0.908421052631579, 0.908421052631579, 0.908421052631579, 0.908421052631579, 0.908421052631579, 0.9173684210526314, 0.9173684210526314, 0.9278947368421052, 0.9278947368421052, 0.9278947368421052, 0.9278947368421052]}], \"AUC_micro\": [{\"categories\": [\"0\", \"1\", \"2\", \"3\", \"4\", \"5\", \"6\", \"7\", \"8\", \"9\", \"10\", \"11\", \"12\", \"13\", \"14\", \"15\", \"16\", \"17\", \"18\", \"19\", \"20\", \"21\", \"22\", \"23\", \"24\", \"25\", \"26\", \"27\", \"28\", \"29\"], \"mode\": \"markers\", \"name\": \"AUC_micro\", \"stepped\": false, \"type\": \"scatter\", \"data\": [0.941893351800554, 0.9523656509695291, 0.9041308864265927, 0.8986662049861496, 0.8552340720221606, 0.8640997229916897, 0.9207984764542937, 0.8816135734072021, 0.9174903047091414, 0.8821398891966759, 0.8694515235457063, 0.7857119113573406, 0.8819362880886427, 0.7915069252077561, 0.9531232686980611, 0.9386648199445983, 0.8686551246537396, 0.9295429362880887, 0.833303324099723, 0.9369750692520775, 0.8392340720221607, 0.9539875346260388, 0.9538116343490305, 0.9407451523545707, 0.9524889196675901, 0.9534072022160665, 0.9496108033240998, 0.9213947368421053, 0.9622174515235458, 0.9552313019390581]}, {\"categories\": [\"0\", \"1\", \"2\", \"3\", \"4\", \"5\", \"6\", \"7\", \"8\", \"9\", \"10\", \"11\", \"12\", \"13\", \"14\", \"15\", \"16\", \"17\", \"18\", \"19\", \"20\", \"21\", \"22\", \"23\", \"24\", \"25\", \"26\", \"27\", \"28\", \"29\"], \"mode\": \"lines\", \"name\": \"AUC_micro_max\", \"stepped\": true, \"type\": \"scatter\", \"data\": [0.941893351800554, 0.9523656509695291, 0.9523656509695291, 0.9523656509695291, 0.9523656509695291, 0.9523656509695291, 0.9523656509695291, 0.9523656509695291, 0.9523656509695291, 0.9523656509695291, 0.9523656509695291, 0.9523656509695291, 0.9523656509695291, 0.9523656509695291, 0.9531232686980611, 0.9531232686980611, 0.9531232686980611, 0.9531232686980611, 0.9531232686980611, 0.9531232686980611, 0.9531232686980611, 0.9539875346260388, 0.9539875346260388, 0.9539875346260388, 0.9539875346260388, 0.9539875346260388, 0.9539875346260388, 0.9539875346260388, 0.9622174515235458, 0.9622174515235458]}], \"average_precision_score_micro\": [{\"categories\": [\"0\", \"1\", \"2\", \"3\", \"4\", \"5\", \"6\", \"7\", \"8\", \"9\", \"10\", \"11\", \"12\", \"13\", \"14\", \"15\", \"16\", \"17\", \"18\", \"19\", \"20\", \"21\", \"22\", \"23\", \"24\", \"25\", \"26\", \"27\", \"28\", \"29\"], \"mode\": \"markers\", \"name\": \"average_precision_score_micro\", \"stepped\": false, \"type\": \"scatter\", \"data\": [0.9474414889191388, 0.9563074968441823, 0.8906956572158453, 0.906617060399503, 0.8689355287209285, 0.8772327735222069, 0.9072579536242706, 0.8928157226845315, 0.9244356639535944, 0.8779783976438098, 0.8783633152633905, 0.8055187212773408, 0.8919541261446293, 0.8088122237566369, 0.9578917541507339, 0.9418936780360425, 0.868913703152266, 0.93161064095622, 0.8519340118608799, 0.9370109352257039, 0.8476127512697083, 0.9574555418453434, 0.9542765645232233, 0.9422795241148396, 0.9531999499778013, 0.9566670252320353, 0.9490556089322526, 0.9249017519872866, 0.9642666623874744, 0.9567563093389214]}, {\"categories\": [\"0\", \"1\", \"2\", \"3\", \"4\", \"5\", \"6\", \"7\", \"8\", \"9\", \"10\", \"11\", \"12\", \"13\", \"14\", \"15\", \"16\", \"17\", \"18\", \"19\", \"20\", \"21\", \"22\", \"23\", \"24\", \"25\", \"26\", \"27\", \"28\", \"29\"], \"mode\": \"lines\", \"name\": \"average_precision_score_micro_max\", \"stepped\": true, \"type\": \"scatter\", \"data\": [0.9474414889191388, 0.9563074968441823, 0.9563074968441823, 0.9563074968441823, 0.9563074968441823, 0.9563074968441823, 0.9563074968441823, 0.9563074968441823, 0.9563074968441823, 0.9563074968441823, 0.9563074968441823, 0.9563074968441823, 0.9563074968441823, 0.9563074968441823, 0.9578917541507339, 0.9578917541507339, 0.9578917541507339, 0.9578917541507339, 0.9578917541507339, 0.9578917541507339, 0.9578917541507339, 0.9578917541507339, 0.9578917541507339, 0.9578917541507339, 0.9578917541507339, 0.9578917541507339, 0.9578917541507339, 0.9578917541507339, 0.9642666623874744, 0.9642666623874744]}], \"f1_score_weighted\": [{\"categories\": [\"0\", \"1\", \"2\", \"3\", \"4\", \"5\", \"6\", \"7\", \"8\", \"9\", \"10\", \"11\", \"12\", \"13\", \"14\", \"15\", \"16\", \"17\", \"18\", \"19\", \"20\", \"21\", \"22\", \"23\", \"24\", \"25\", \"26\", \"27\", \"28\", \"29\"], \"mode\": \"markers\", \"name\": \"f1_score_weighted\", \"stepped\": false, \"type\": \"scatter\", \"data\": [0.855367061202345, 0.9071740930133714, 0.8869386753597279, 0.8053253765274226, 0.7995328649454373, 0.7807018648332418, 0.810378896107258, 0.7733316154837221, 0.8336144368741992, 0.8138274008189205, 0.7737122528090357, 0.6903252449305081, 0.7824986786892831, 0.6614023690569779, 0.8647498700130278, 0.8639904814528586, 0.7915401090137932, 0.8521363821861868, 0.7338229269889417, 0.856977672328564, 0.7621028701335607, 0.8862703378492851, 0.8978143260248522, 0.8857395603902536, 0.915176789827483, 0.894410365512802, 0.9261168851638631, 0.8678587567011746, 0.916611322450601, 0.9059680475967997]}, {\"categories\": [\"0\", \"1\", \"2\", \"3\", \"4\", \"5\", \"6\", \"7\", \"8\", \"9\", \"10\", \"11\", \"12\", \"13\", \"14\", \"15\", \"16\", \"17\", \"18\", \"19\", \"20\", \"21\", \"22\", \"23\", \"24\", \"25\", \"26\", \"27\", \"28\", \"29\"], \"mode\": \"lines\", \"name\": \"f1_score_weighted_max\", \"stepped\": true, \"type\": \"scatter\", \"data\": [0.855367061202345, 0.9071740930133714, 0.9071740930133714, 0.9071740930133714, 0.9071740930133714, 0.9071740930133714, 0.9071740930133714, 0.9071740930133714, 0.9071740930133714, 0.9071740930133714, 0.9071740930133714, 0.9071740930133714, 0.9071740930133714, 0.9071740930133714, 0.9071740930133714, 0.9071740930133714, 0.9071740930133714, 0.9071740930133714, 0.9071740930133714, 0.9071740930133714, 0.9071740930133714, 0.9071740930133714, 0.9071740930133714, 0.9071740930133714, 0.915176789827483, 0.915176789827483, 0.9261168851638631, 0.9261168851638631, 0.9261168851638631, 0.9261168851638631]}], \"recall_score_micro\": [{\"categories\": [\"0\", \"1\", \"2\", \"3\", \"4\", \"5\", \"6\", \"7\", \"8\", \"9\", \"10\", \"11\", \"12\", \"13\", \"14\", \"15\", \"16\", \"17\", \"18\", \"19\", \"20\", \"21\", \"22\", \"23\", \"24\", \"25\", \"26\", \"27\", \"28\", \"29\"], \"mode\": \"markers\", \"name\": \"recall_score_micro\", \"stepped\": false, \"type\": \"scatter\", \"data\": [0.8563157894736841, 0.908421052631579, 0.8884210526315789, 0.8057894736842106, 0.8057894736842105, 0.7842105263157896, 0.8163157894736843, 0.7847368421052632, 0.8347368421052632, 0.8152631578947368, 0.7842105263157895, 0.6915789473684211, 0.7852631578947368, 0.7042105263157895, 0.8668421052631577, 0.8663157894736843, 0.7942105263157895, 0.8568421052631578, 0.733157894736842, 0.8568421052631578, 0.7657894736842106, 0.8878947368421054, 0.8989473684210527, 0.8873684210526316, 0.9173684210526314, 0.8968421052631579, 0.9278947368421052, 0.866842105263158, 0.9184210526315789, 0.9078947368421053]}, {\"categories\": [\"0\", \"1\", \"2\", \"3\", \"4\", \"5\", \"6\", \"7\", \"8\", \"9\", \"10\", \"11\", \"12\", \"13\", \"14\", \"15\", \"16\", \"17\", \"18\", \"19\", \"20\", \"21\", \"22\", \"23\", \"24\", \"25\", \"26\", \"27\", \"28\", \"29\"], \"mode\": \"lines\", \"name\": \"recall_score_micro_max\", \"stepped\": true, \"type\": \"scatter\", \"data\": [0.8563157894736841, 0.908421052631579, 0.908421052631579, 0.908421052631579, 0.908421052631579, 0.908421052631579, 0.908421052631579, 0.908421052631579, 0.908421052631579, 0.908421052631579, 0.908421052631579, 0.908421052631579, 0.908421052631579, 0.908421052631579, 0.908421052631579, 0.908421052631579, 0.908421052631579, 0.908421052631579, 0.908421052631579, 0.908421052631579, 0.908421052631579, 0.908421052631579, 0.908421052631579, 0.908421052631579, 0.9173684210526314, 0.9173684210526314, 0.9278947368421052, 0.9278947368421052, 0.9278947368421052, 0.9278947368421052]}], \"average_precision_score_weighted\": [{\"categories\": [\"0\", \"1\", \"2\", \"3\", \"4\", \"5\", \"6\", \"7\", \"8\", \"9\", \"10\", \"11\", \"12\", \"13\", \"14\", \"15\", \"16\", \"17\", \"18\", \"19\", \"20\", \"21\", \"22\", \"23\", \"24\", \"25\", \"26\", \"27\", \"28\", \"29\"], \"mode\": \"markers\", \"name\": \"average_precision_score_weighted\", \"stepped\": false, \"type\": \"scatter\", \"data\": [0.9540414270112413, 0.9519210010835399, 0.9003145851464452, 0.9088111343850509, 0.8953209578519177, 0.8930124729072098, 0.9117420118581109, 0.918307825645287, 0.9337116214109248, 0.8937818525734038, 0.8960474733384951, 0.8214867679122608, 0.9068802212149738, 0.854721701021807, 0.9745146578567632, 0.9521906046310071, 0.8824463320906819, 0.9371441435671313, 0.8652404093516608, 0.9458232998082069, 0.8669835145075083, 0.9549667923236035, 0.9542890818331996, 0.9554785191588596, 0.9665272113936976, 0.9634692255199221, 0.9655464903603448, 0.9468081179656258, 0.9683911895208336, 0.968043198330737]}, {\"categories\": [\"0\", \"1\", \"2\", \"3\", \"4\", \"5\", \"6\", \"7\", \"8\", \"9\", \"10\", \"11\", \"12\", \"13\", \"14\", \"15\", \"16\", \"17\", \"18\", \"19\", \"20\", \"21\", \"22\", \"23\", \"24\", \"25\", \"26\", \"27\", \"28\", \"29\"], \"mode\": \"lines\", \"name\": \"average_precision_score_weighted_max\", \"stepped\": true, \"type\": \"scatter\", \"data\": [0.9540414270112413, 0.9540414270112413, 0.9540414270112413, 0.9540414270112413, 0.9540414270112413, 0.9540414270112413, 0.9540414270112413, 0.9540414270112413, 0.9540414270112413, 0.9540414270112413, 0.9540414270112413, 0.9540414270112413, 0.9540414270112413, 0.9540414270112413, 0.9745146578567632, 0.9745146578567632, 0.9745146578567632, 0.9745146578567632, 0.9745146578567632, 0.9745146578567632, 0.9745146578567632, 0.9745146578567632, 0.9745146578567632, 0.9745146578567632, 0.9745146578567632, 0.9745146578567632, 0.9745146578567632, 0.9745146578567632, 0.9745146578567632, 0.9745146578567632]}], \"weighted_accuracy\": [{\"categories\": [\"0\", \"1\", \"2\", \"3\", \"4\", \"5\", \"6\", \"7\", \"8\", \"9\", \"10\", \"11\", \"12\", \"13\", \"14\", \"15\", \"16\", \"17\", \"18\", \"19\", \"20\", \"21\", \"22\", \"23\", \"24\", \"25\", \"26\", \"27\", \"28\", \"29\"], \"mode\": \"markers\", \"name\": \"weighted_accuracy\", \"stepped\": false, \"type\": \"scatter\", \"data\": [0.8632938349192992, 0.9181524634535858, 0.8992241000290081, 0.8127229467521662, 0.8120614608268919, 0.7938156070158164, 0.8359635162150238, 0.8100586861001794, 0.8201509017319969, 0.8252710409398233, 0.7963568790916685, 0.7058415826579147, 0.7951659555097077, 0.7282668373192174, 0.8760907922230892, 0.8765284550618497, 0.8044769493931483, 0.8714074780742187, 0.7373784546142004, 0.8519540734613017, 0.7742546881616011, 0.9010456634008148, 0.9064779860393708, 0.9051095098244563, 0.9315800980597503, 0.9067854704006895, 0.9426298218166563, 0.868651927766342, 0.9299171693359387, 0.9188674455790327]}, {\"categories\": [\"0\", \"1\", \"2\", \"3\", \"4\", \"5\", \"6\", \"7\", \"8\", \"9\", \"10\", \"11\", \"12\", \"13\", \"14\", \"15\", \"16\", \"17\", \"18\", \"19\", \"20\", \"21\", \"22\", \"23\", \"24\", \"25\", \"26\", \"27\", \"28\", \"29\"], \"mode\": \"lines\", \"name\": \"weighted_accuracy_max\", \"stepped\": true, \"type\": \"scatter\", \"data\": [0.8632938349192992, 0.9181524634535858, 0.9181524634535858, 0.9181524634535858, 0.9181524634535858, 0.9181524634535858, 0.9181524634535858, 0.9181524634535858, 0.9181524634535858, 0.9181524634535858, 0.9181524634535858, 0.9181524634535858, 0.9181524634535858, 0.9181524634535858, 0.9181524634535858, 0.9181524634535858, 0.9181524634535858, 0.9181524634535858, 0.9181524634535858, 0.9181524634535858, 0.9181524634535858, 0.9181524634535858, 0.9181524634535858, 0.9181524634535858, 0.9315800980597503, 0.9315800980597503, 0.9426298218166563, 0.9426298218166563, 0.9426298218166563, 0.9426298218166563]}], \"accuracy\": [{\"categories\": [\"0\", \"1\", \"2\", \"3\", \"4\", \"5\", \"6\", \"7\", \"8\", \"9\", \"10\", \"11\", \"12\", \"13\", \"14\", \"15\", \"16\", \"17\", \"18\", \"19\", \"20\", \"21\", \"22\", \"23\", \"24\", \"25\", \"26\", \"27\", \"28\", \"29\"], \"mode\": \"markers\", \"name\": \"accuracy\", \"stepped\": false, \"type\": \"scatter\", \"data\": [0.8563157894736841, 0.908421052631579, 0.8884210526315789, 0.8057894736842106, 0.8057894736842105, 0.7842105263157896, 0.8163157894736843, 0.7847368421052632, 0.8347368421052632, 0.8152631578947368, 0.7842105263157895, 0.6915789473684211, 0.7852631578947368, 0.7042105263157895, 0.8668421052631577, 0.8663157894736843, 0.7942105263157895, 0.8568421052631578, 0.733157894736842, 0.8568421052631578, 0.7657894736842106, 0.8878947368421054, 0.8989473684210527, 0.8873684210526316, 0.9173684210526314, 0.8968421052631579, 0.9278947368421052, 0.866842105263158, 0.9184210526315789, 0.9078947368421053]}, {\"categories\": [\"0\", \"1\", \"2\", \"3\", \"4\", \"5\", \"6\", \"7\", \"8\", \"9\", \"10\", \"11\", \"12\", \"13\", \"14\", \"15\", \"16\", \"17\", \"18\", \"19\", \"20\", \"21\", \"22\", \"23\", \"24\", \"25\", \"26\", \"27\", \"28\", \"29\"], \"mode\": \"lines\", \"name\": \"accuracy_max\", \"stepped\": true, \"type\": \"scatter\", \"data\": [0.8563157894736841, 0.908421052631579, 0.908421052631579, 0.908421052631579, 0.908421052631579, 0.908421052631579, 0.908421052631579, 0.908421052631579, 0.908421052631579, 0.908421052631579, 0.908421052631579, 0.908421052631579, 0.908421052631579, 0.908421052631579, 0.908421052631579, 0.908421052631579, 0.908421052631579, 0.908421052631579, 0.908421052631579, 0.908421052631579, 0.908421052631579, 0.908421052631579, 0.908421052631579, 0.908421052631579, 0.9173684210526314, 0.9173684210526314, 0.9278947368421052, 0.9278947368421052, 0.9278947368421052, 0.9278947368421052]}], \"average_precision_score_macro\": [{\"categories\": [\"0\", \"1\", \"2\", \"3\", \"4\", \"5\", \"6\", \"7\", \"8\", \"9\", \"10\", \"11\", \"12\", \"13\", \"14\", \"15\", \"16\", \"17\", \"18\", \"19\", \"20\", \"21\", \"22\", \"23\", \"24\", \"25\", \"26\", \"27\", \"28\", \"29\"], \"mode\": \"markers\", \"name\": \"average_precision_score_macro\", \"stepped\": false, \"type\": \"scatter\", \"data\": [0.939592945193547, 0.9460317392766424, 0.8934148807632243, 0.9011707676583853, 0.8878880687705031, 0.8757684150840943, 0.8941985117565613, 0.907363554679954, 0.9307552016533108, 0.8805440945274905, 0.8875130246246457, 0.7981253457023904, 0.8934725883753408, 0.8430962526239991, 0.9742160647993983, 0.9465348017076437, 0.8670352796923613, 0.9327747213999441, 0.8437298323579576, 0.9420172889927791, 0.8448236502588621, 0.9527125029098545, 0.9498484254489157, 0.9419447966599817, 0.9596531641480672, 0.9550390352214382, 0.9608413509612541, 0.9395182160681548, 0.9623214869868445, 0.9631269623756534]}, {\"categories\": [\"0\", \"1\", \"2\", \"3\", \"4\", \"5\", \"6\", \"7\", \"8\", \"9\", \"10\", \"11\", \"12\", \"13\", \"14\", \"15\", \"16\", \"17\", \"18\", \"19\", \"20\", \"21\", \"22\", \"23\", \"24\", \"25\", \"26\", \"27\", \"28\", \"29\"], \"mode\": \"lines\", \"name\": \"average_precision_score_macro_max\", \"stepped\": true, \"type\": \"scatter\", \"data\": [0.939592945193547, 0.9460317392766424, 0.9460317392766424, 0.9460317392766424, 0.9460317392766424, 0.9460317392766424, 0.9460317392766424, 0.9460317392766424, 0.9460317392766424, 0.9460317392766424, 0.9460317392766424, 0.9460317392766424, 0.9460317392766424, 0.9460317392766424, 0.9742160647993983, 0.9742160647993983, 0.9742160647993983, 0.9742160647993983, 0.9742160647993983, 0.9742160647993983, 0.9742160647993983, 0.9742160647993983, 0.9742160647993983, 0.9742160647993983, 0.9742160647993983, 0.9742160647993983, 0.9742160647993983, 0.9742160647993983, 0.9742160647993983, 0.9742160647993983]}], \"f1_score_micro\": [{\"categories\": [\"0\", \"1\", \"2\", \"3\", \"4\", \"5\", \"6\", \"7\", \"8\", \"9\", \"10\", \"11\", \"12\", \"13\", \"14\", \"15\", \"16\", \"17\", \"18\", \"19\", \"20\", \"21\", \"22\", \"23\", \"24\", \"25\", \"26\", \"27\", \"28\", \"29\"], \"mode\": \"markers\", \"name\": \"f1_score_micro\", \"stepped\": false, \"type\": \"scatter\", \"data\": [0.8563157894736841, 0.908421052631579, 0.8884210526315789, 0.8057894736842106, 0.8057894736842105, 0.7842105263157896, 0.8163157894736843, 0.7847368421052632, 0.8347368421052632, 0.8152631578947368, 0.7842105263157895, 0.6915789473684211, 0.7852631578947368, 0.7042105263157895, 0.866842105263158, 0.8663157894736843, 0.7942105263157895, 0.8568421052631578, 0.733157894736842, 0.8568421052631578, 0.7657894736842106, 0.8878947368421054, 0.8989473684210527, 0.8873684210526316, 0.9173684210526316, 0.8968421052631579, 0.9278947368421052, 0.866842105263158, 0.9184210526315789, 0.9078947368421053]}, {\"categories\": [\"0\", \"1\", \"2\", \"3\", \"4\", \"5\", \"6\", \"7\", \"8\", \"9\", \"10\", \"11\", \"12\", \"13\", \"14\", \"15\", \"16\", \"17\", \"18\", \"19\", \"20\", \"21\", \"22\", \"23\", \"24\", \"25\", \"26\", \"27\", \"28\", \"29\"], \"mode\": \"lines\", \"name\": \"f1_score_micro_max\", \"stepped\": true, \"type\": \"scatter\", \"data\": [0.8563157894736841, 0.908421052631579, 0.908421052631579, 0.908421052631579, 0.908421052631579, 0.908421052631579, 0.908421052631579, 0.908421052631579, 0.908421052631579, 0.908421052631579, 0.908421052631579, 0.908421052631579, 0.908421052631579, 0.908421052631579, 0.908421052631579, 0.908421052631579, 0.908421052631579, 0.908421052631579, 0.908421052631579, 0.908421052631579, 0.908421052631579, 0.908421052631579, 0.908421052631579, 0.908421052631579, 0.9173684210526316, 0.9173684210526316, 0.9278947368421052, 0.9278947368421052, 0.9278947368421052, 0.9278947368421052]}], \"recall_score_macro\": [{\"categories\": [\"0\", \"1\", \"2\", \"3\", \"4\", \"5\", \"6\", \"7\", \"8\", \"9\", \"10\", \"11\", \"12\", \"13\", \"14\", \"15\", \"16\", \"17\", \"18\", \"19\", \"20\", \"21\", \"22\", \"23\", \"24\", \"25\", \"26\", \"27\", \"28\", \"29\"], \"mode\": \"markers\", \"name\": \"recall_score_macro\", \"stepped\": false, \"type\": \"scatter\", \"data\": [0.8444336219336218, 0.891794733044733, 0.8687518037518039, 0.7925018037518037, 0.7913708513708514, 0.7676172438672438, 0.7819967532467533, 0.7424963924963924, 0.8523430735930735, 0.7984181096681097, 0.7644859307359306, 0.6631727994227994, 0.7615854978354979, 0.6631096681096682, 0.8487518037518036, 0.8494209956709957, 0.7769101731601731, 0.8346879509379509, 0.724498556998557, 0.8642550505050505, 0.7450901875901875, 0.8658225108225108, 0.8830375180375182, 0.8567063492063494, 0.8942063492063493, 0.8799765512265513, 0.9042063492063491, 0.8611435786435786, 0.898044733044733, 0.888044733044733]}, {\"categories\": [\"0\", \"1\", \"2\", \"3\", \"4\", \"5\", \"6\", \"7\", \"8\", \"9\", \"10\", \"11\", \"12\", \"13\", \"14\", \"15\", \"16\", \"17\", \"18\", \"19\", \"20\", \"21\", \"22\", \"23\", \"24\", \"25\", \"26\", \"27\", \"28\", \"29\"], \"mode\": \"lines\", \"name\": \"recall_score_macro_max\", \"stepped\": true, \"type\": \"scatter\", \"data\": [0.8444336219336218, 0.891794733044733, 0.891794733044733, 0.891794733044733, 0.891794733044733, 0.891794733044733, 0.891794733044733, 0.891794733044733, 0.891794733044733, 0.891794733044733, 0.891794733044733, 0.891794733044733, 0.891794733044733, 0.891794733044733, 0.891794733044733, 0.891794733044733, 0.891794733044733, 0.891794733044733, 0.891794733044733, 0.891794733044733, 0.891794733044733, 0.891794733044733, 0.891794733044733, 0.891794733044733, 0.8942063492063493, 0.8942063492063493, 0.9042063492063491, 0.9042063492063491, 0.9042063492063491, 0.9042063492063491]}], \"log_loss\": [{\"categories\": [\"0\", \"1\", \"2\", \"3\", \"4\", \"5\", \"6\", \"7\", \"8\", \"9\", \"10\", \"11\", \"12\", \"13\", \"14\", \"15\", \"16\", \"17\", \"18\", \"19\", \"20\", \"21\", \"22\", \"23\", \"24\", \"25\", \"26\", \"27\", \"28\", \"29\"], \"mode\": \"markers\", \"name\": \"log_loss\", \"stepped\": false, \"type\": \"scatter\", \"data\": [0.3788934323092471, 0.28869436302264245, 0.40059139430296653, 0.44706223675404405, 0.4385756084188153, 0.4776793904113066, 0.40104766838635475, 0.48583697971336115, 0.40838593495000247, 1.0617454893596707, 0.4538699764809594, 0.5619745444647148, 0.5308069305323412, 0.5873951384635749, 0.290813549539829, 0.39271461894791154, 0.471991815603229, 0.387747923932228, 0.5549936803027983, 0.34673215852351236, 0.5101673665106463, 0.3764379127774059, 0.288017124754441, 0.3943737824155389, 0.3088782433467993, 0.29532834320731716, 0.3299921651091688, 0.46880345650931765, 0.26674117639061334, 0.2721306411118085]}, {\"categories\": [\"0\", \"1\", \"2\", \"3\", \"4\", \"5\", \"6\", \"7\", \"8\", \"9\", \"10\", \"11\", \"12\", \"13\", \"14\", \"15\", \"16\", \"17\", \"18\", \"19\", \"20\", \"21\", \"22\", \"23\", \"24\", \"25\", \"26\", \"27\", \"28\", \"29\"], \"mode\": \"lines\", \"name\": \"log_loss_min\", \"stepped\": true, \"type\": \"scatter\", \"data\": [0.3788934323092471, 0.28869436302264245, 0.28869436302264245, 0.28869436302264245, 0.28869436302264245, 0.28869436302264245, 0.28869436302264245, 0.28869436302264245, 0.28869436302264245, 0.28869436302264245, 0.28869436302264245, 0.28869436302264245, 0.28869436302264245, 0.28869436302264245, 0.28869436302264245, 0.28869436302264245, 0.28869436302264245, 0.28869436302264245, 0.28869436302264245, 0.28869436302264245, 0.28869436302264245, 0.28869436302264245, 0.288017124754441, 0.288017124754441, 0.288017124754441, 0.288017124754441, 0.288017124754441, 0.288017124754441, 0.26674117639061334, 0.26674117639061334]}]}, \"metricName\": null, \"primaryMetricName\": \"accuracy\", \"showLegend\": false}, \"run_metrics\": [{\"name\": \"experiment_status\", \"run_id\": \"AutoML_eda4044b-0ed5-4549-bb34-98848a02cf27\", \"categories\": [0, 1, 2, 3, 4, 5, 6, 7, 8, 9, 10, 11, 12, 13], \"series\": [{\"data\": [\"DatasetEvaluation\", \"FeaturesGeneration\", \"DatasetFeaturization\", \"DatasetFeaturizationCompleted\", \"DatasetCrossValidationSplit\", \"ModelSelection\", \"BestRunExplainModel\", \"ModelExplanationDataSetSetup\", \"PickSurrogateModel\", \"EngineeredFeatureExplanations\", \"EngineeredFeatureExplanations\", \"RawFeaturesExplanations\", \"RawFeaturesExplanations\", \"BestRunExplainModel\"]}]}, {\"name\": \"experiment_status_description\", \"run_id\": \"AutoML_eda4044b-0ed5-4549-bb34-98848a02cf27\", \"categories\": [0, 1, 2, 3, 4, 5, 6, 7, 8, 9, 10, 11, 12, 13], \"series\": [{\"data\": [\"Gathering dataset statistics.\", \"Generating features for the dataset.\", \"Beginning to fit featurizers and featurize the dataset.\", \"Completed fit featurizers and featurizing the dataset.\", \"Generating individually featurized CV splits.\", \"Beginning model selection.\", \"Best run model explanations started\", \"Model explanations data setup completed\", \"Choosing LightGBM as the surrogate model for explanations\", \"Computation of engineered features started\", \"Computation of engineered features completed\", \"Computation of raw features started\", \"Computation of raw features completed\", \"Best run model explanations completed\"]}]}, {\"name\": \"precision_score_macro\", \"run_id\": \"AutoML_eda4044b-0ed5-4549-bb34-98848a02cf27\", \"categories\": [0], \"series\": [{\"data\": [0.9449834479246244]}]}, {\"name\": \"recall_score_weighted\", \"run_id\": \"AutoML_eda4044b-0ed5-4549-bb34-98848a02cf27\", \"categories\": [0], \"series\": [{\"data\": [0.9278947368421052]}]}, {\"name\": \"AUC_weighted\", \"run_id\": \"AutoML_eda4044b-0ed5-4549-bb34-98848a02cf27\", \"categories\": [0], \"series\": [{\"data\": [0.9575306637806638]}]}, {\"name\": \"balanced_accuracy\", \"run_id\": \"AutoML_eda4044b-0ed5-4549-bb34-98848a02cf27\", \"categories\": [0], \"series\": [{\"data\": [0.9042063492063491]}]}, {\"name\": \"precision_score_weighted\", \"run_id\": \"AutoML_eda4044b-0ed5-4549-bb34-98848a02cf27\", \"categories\": [0], \"series\": [{\"data\": [0.9369849087960544]}]}, {\"name\": \"f1_score_macro\", \"run_id\": \"AutoML_eda4044b-0ed5-4549-bb34-98848a02cf27\", \"categories\": [0], \"series\": [{\"data\": [0.9167535391576311]}]}, {\"name\": \"matthews_correlation\", \"run_id\": \"AutoML_eda4044b-0ed5-4549-bb34-98848a02cf27\", \"categories\": [0], \"series\": [{\"data\": [0.8474021099011055]}]}, {\"name\": \"norm_macro_recall\", \"run_id\": \"AutoML_eda4044b-0ed5-4549-bb34-98848a02cf27\", \"categories\": [0], \"series\": [{\"data\": [0.8084126984126984]}]}, {\"name\": \"AUC_macro\", \"run_id\": \"AutoML_eda4044b-0ed5-4549-bb34-98848a02cf27\", \"categories\": [0], \"series\": [{\"data\": [0.9575306637806639]}]}, {\"name\": \"precision_score_micro\", \"run_id\": \"AutoML_eda4044b-0ed5-4549-bb34-98848a02cf27\", \"categories\": [0], \"series\": [{\"data\": [0.9278947368421052]}]}, {\"name\": \"AUC_micro\", \"run_id\": \"AutoML_eda4044b-0ed5-4549-bb34-98848a02cf27\", \"categories\": [0], \"series\": [{\"data\": [0.9496108033240998]}]}, {\"name\": \"average_precision_score_micro\", \"run_id\": \"AutoML_eda4044b-0ed5-4549-bb34-98848a02cf27\", \"categories\": [0], \"series\": [{\"data\": [0.9490556089322526]}]}, {\"name\": \"f1_score_weighted\", \"run_id\": \"AutoML_eda4044b-0ed5-4549-bb34-98848a02cf27\", \"categories\": [0], \"series\": [{\"data\": [0.9261168851638631]}]}, {\"name\": \"recall_score_micro\", \"run_id\": \"AutoML_eda4044b-0ed5-4549-bb34-98848a02cf27\", \"categories\": [0], \"series\": [{\"data\": [0.9278947368421052]}]}, {\"name\": \"average_precision_score_weighted\", \"run_id\": \"AutoML_eda4044b-0ed5-4549-bb34-98848a02cf27\", \"categories\": [0], \"series\": [{\"data\": [0.9655464903603448]}]}, {\"name\": \"weighted_accuracy\", \"run_id\": \"AutoML_eda4044b-0ed5-4549-bb34-98848a02cf27\", \"categories\": [0], \"series\": [{\"data\": [0.9426298218166563]}]}, {\"name\": \"accuracy\", \"run_id\": \"AutoML_eda4044b-0ed5-4549-bb34-98848a02cf27\", \"categories\": [0], \"series\": [{\"data\": [0.9278947368421052]}]}, {\"name\": \"average_precision_score_macro\", \"run_id\": \"AutoML_eda4044b-0ed5-4549-bb34-98848a02cf27\", \"categories\": [0], \"series\": [{\"data\": [0.9608413509612541]}]}, {\"name\": \"f1_score_micro\", \"run_id\": \"AutoML_eda4044b-0ed5-4549-bb34-98848a02cf27\", \"categories\": [0], \"series\": [{\"data\": [0.9278947368421052]}]}, {\"name\": \"recall_score_macro\", \"run_id\": \"AutoML_eda4044b-0ed5-4549-bb34-98848a02cf27\", \"categories\": [0], \"series\": [{\"data\": [0.9042063492063491]}]}, {\"name\": \"log_loss\", \"run_id\": \"AutoML_eda4044b-0ed5-4549-bb34-98848a02cf27\", \"categories\": [0], \"series\": [{\"data\": [0.3299921651091688]}]}], \"run_logs\": \"\\nRun is completed.\", \"graph\": {}, \"widget_settings\": {\"childWidgetDisplay\": \"popup\", \"send_telemetry\": false, \"log_level\": \"INFO\", \"sdk_version\": \"1.18.0\"}, \"loading\": false}"
     },
     "metadata": {}
    }
   ],
   "execution_count": 17,
   "metadata": {
    "gather": {
     "logged": 1606139796893
    },
    "jupyter": {
     "outputs_hidden": false,
     "source_hidden": false
    },
    "nteract": {
     "transient": {
      "deleting": false
     }
    }
   }
  },
  {
   "cell_type": "code",
   "source": [
    "# Retrieve and save your best automl model.\n",
    "best_run,fitted_model = auto_run.get_output(iteration=???)"
   ],
   "outputs": [],
   "execution_count": null,
   "metadata": {
    "collapsed": false,
    "pycharm": {
     "name": "#%%\n"
    }
   }
  },
  {
   "cell_type": "code",
   "source": [
    "#Example code from https://docs.microsoft.com/en-us/azure/machine-learning/how-to-configure-auto-features#scaling-and-normalization\n",
    "\n",
    "from pprint import pprint\n",
    "model = fitted_model\n",
    "\n",
    "def print_model(model, prefix=\"\"):\n",
    "    for step in model.steps:\n",
    "        print(prefix + step[0])\n",
    "        if hasattr(step[1], 'estimators') and hasattr(step[1], 'weights'):\n",
    "            pprint({'estimators': list(\n",
    "                e[0] for e in step[1].estimators), 'weights': step[1].weights})\n",
    "            print()\n",
    "            for estimator in step[1].estimators:\n",
    "                print_model(estimator[1], estimator[0] + ' - ')\n",
    "        else:\n",
    "            pprint(step[1].get_params())\n",
    "            print()\n",
    "\n",
    "print_model(model)"
   ],
   "outputs": [],
   "execution_count": null,
   "metadata": {
    "collapsed": false,
    "pycharm": {
     "name": "#%%\n"
    }
   }
  },
  {
   "cell_type": "markdown",
   "source": [
    "## Best Model\n",
    "\n",
    "TODO: In the cell below, get the best model from the automl experiments and display all the properties of the model."
   ],
   "metadata": {}
  },
  {
   "cell_type": "code",
   "source": [
    "model_name = best_run.properties['model_name']\n",
    "# save best AutoML model\n",
    "automl_model= auto_run.register_model(model_name=model_name)\n",
    "\n"
   ],
   "outputs": [],
   "execution_count": null,
   "metadata": {
    "collapsed": false,
    "pycharm": {
     "name": "#%%\n"
    }
   }
  },
  {
   "cell_type": "code",
   "source": [
    "#TODO: Save the best model"
   ],
   "outputs": [],
   "execution_count": null,
   "metadata": {
    "gather": {
     "logged": 1598431426111
    },
    "jupyter": {
     "outputs_hidden": false,
     "source_hidden": false
    },
    "nteract": {
     "transient": {
      "deleting": false
     }
    }
   }
  },
  {
   "cell_type": "markdown",
   "source": [
    "## Model Deployment\n",
    "\n",
    "Remember you have to deploy only one of the two models you trained.. Perform the steps in the rest of this notebook only if you wish to deploy this model.\n",
    "\n",
    "TODO: In the cell below, register the model, create an inference config and deploy the model as a web service."
   ],
   "metadata": {}
  },
  {
   "cell_type": "code",
   "source": [
    "# Code from https://docs.microsoft.com/en-us/python/api/overview/azure/ml/?view=azure-ml-py#model-deploy\n",
    "\n",
    "from azureml.core.model import InferenceConfig, Model\n",
    "from azureml.core.webservice import AciWebservice, Webservice\n",
    "\n",
    "# Register the model to deploy\n",
    "model = run.register_model(model_name = \"mymodel\", model_path = \"outputs/model.pkl\")\n",
    "\n",
    "# Combine scoring script & environment in Inference configuration\n",
    "inference_config = InferenceConfig(entry_script=\"score.py\",\n",
    "                                   environment=myenv)\n",
    "\n",
    "# Set deployment configuration\n",
    "deployment_config = AciWebservice.deploy_configuration(cpu_cores = 1,\n",
    "                                                       memory_gb = 1)\n",
    "\n",
    "# Define the model, inference, & deployment configuration and web service name and location to deploy\n",
    "service = Model.deploy(workspace = ws,\n",
    "                       name = \"my_web_service\",\n",
    "                       models = [model],\n",
    "                       inference_config = inference_config,\n",
    "                       deployment_config = deployment_config)\n",
    "\n",
    "service.wait_for_deployment(show_output=True)"
   ],
   "outputs": [],
   "execution_count": null,
   "metadata": {
    "gather": {
     "logged": 1598431435189
    },
    "jupyter": {
     "outputs_hidden": false,
     "source_hidden": false
    },
    "nteract": {
     "transient": {
      "deleting": false
     }
    }
   }
  },
  {
   "cell_type": "markdown",
   "source": [
    "TODO: In the cell below, send a request to the web service you deployed to test it."
   ],
   "metadata": {
    "collapsed": true,
    "gather": {
     "logged": 1598431657736
    },
    "jupyter": {
     "outputs_hidden": false,
     "source_hidden": false
    },
    "nteract": {
     "transient": {
      "deleting": false
     }
    }
   }
  },
  {
   "cell_type": "code",
   "source": [
    "\n",
    "\n",
    "import json\n",
    "\n",
    "\n",
    "input_payload = json.dumps({\n",
    "    'data': dataset_x[0:2].tolist(),\n",
    "    'method': 'predict'  # If you have a classification model, you can get probabilities by changing this to 'predict_proba'.\n",
    "})\n",
    "\n",
    "output = service.run(input_payload)\n",
    "\n",
    "print(output)\n",
    "\n"
   ],
   "outputs": [],
   "execution_count": null,
   "metadata": {
    "gather": {
     "logged": 1598432707604
    },
    "jupyter": {
     "outputs_hidden": false,
     "source_hidden": false
    },
    "nteract": {
     "transient": {
      "deleting": false
     }
    }
   }
  },
  {
   "cell_type": "markdown",
   "source": [
    "TODO: In the cell below, print the logs of the web service and delete the service"
   ],
   "metadata": {
    "collapsed": true,
    "gather": {
     "logged": 1598432765711
    },
    "jupyter": {
     "outputs_hidden": false,
     "source_hidden": false
    },
    "nteract": {
     "transient": {
      "deleting": false
     }
    }
   }
  },
  {
   "cell_type": "code",
   "source": [
    "service.delete()"
   ],
   "outputs": [],
   "execution_count": null,
   "metadata": {
    "jupyter": {
     "outputs_hidden": false,
     "source_hidden": false
    },
    "nteract": {
     "transient": {
      "deleting": false
     }
    }
   }
  },
  {
   "cell_type": "code",
   "source": [
    "# delete compute cluster\n",
    "cpu_cluster.delete()\n"
   ],
   "outputs": [],
   "execution_count": null,
   "metadata": {
    "collapsed": false,
    "pycharm": {
     "name": "#%%\n"
    }
   }
  }
 ],
 "metadata": {
  "kernel_info": {
   "name": "python3"
  },
  "kernelspec": {
   "name": "python3",
   "language": "python",
   "display_name": "Python 3"
  },
  "language_info": {
   "name": "python",
   "version": "3.6.9",
   "mimetype": "text/x-python",
   "codemirror_mode": {
    "name": "ipython",
    "version": 3
   },
   "pygments_lexer": "ipython3",
   "nbconvert_exporter": "python",
   "file_extension": ".py"
  },
  "nteract": {
   "version": "nteract-front-end@1.0.0"
  }
 },
 "nbformat": 4,
 "nbformat_minor": 2
}