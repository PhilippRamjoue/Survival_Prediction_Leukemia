{
  "cells": [
    {
      "cell_type": "markdown",
      "source": [
        "# Automated ML\n",
        "\n",
        "TODO: Import Dependencies. In the cell below, import all the dependencies that you will need to complete the project."
      ],
      "metadata": {}
    },
    {
      "cell_type": "code",
      "source": [
        "from azureml.core import Workspace, Experiment\n",
        "from azureml.core.compute import ComputeTarget, AmlCompute\n",
        "from azureml.core.compute_target import ComputeTargetException\n",
        "from azureml.widgets import RunDetails\n",
        "from azureml.core import Environment,ScriptRunConfig\n",
        "from azureml.train.estimator import Estimator\n",
        "from azureml.train.sklearn import SKLearn\n",
        "from azureml.train.hyperdrive.run import PrimaryMetricGoal\n",
        "from azureml.train.hyperdrive.policy import BanditPolicy\n",
        "from azureml.train.hyperdrive.sampling import RandomParameterSampling\n",
        "from azureml.train.hyperdrive.runconfig import HyperDriveConfig\n",
        "from azureml.train.hyperdrive.parameter_expressions import uniform, normal, choice\n",
        "from azureml.data.dataset_factory import TabularDatasetFactory\n",
        "from azureml.core import Dataset\n",
        "from azureml.core.model import InferenceConfig, Model\n",
        "from azureml.core.webservice import AciWebservice, Webservice\n",
        "from train import clean_data\n",
        "from sklearn.model_selection import train_test_split\n",
        "import pandas as pd\n",
        "from azureml.train.automl import AutoMLConfig\n",
        "\n",
        "import os\n",
        "\n",
        "import json\n",
        "import joblib\n"
      ],
      "outputs": [],
      "execution_count": 54,
      "metadata": {
        "gather": {
          "logged": 1606386833953
        },
        "jupyter": {
          "outputs_hidden": false,
          "source_hidden": false
        },
        "nteract": {
          "transient": {
            "deleting": false
          }
        }
      }
    },
    {
      "cell_type": "markdown",
      "source": [
        "## Dataset\n",
        "\n",
        "### Overview\n",
        "TODO: In this markdown cell, give an overview of the dataset you are using. Also mention the task you will be performing.\n",
        "\n",
        "\n",
        "TODO: Get data. In the cell below, write code to access the data you will be using in this project. Remember that the dataset needs to be external."
      ],
      "metadata": {}
    },
    {
      "cell_type": "code",
      "source": [
        "ws = Workspace.from_config()\n",
        "\n",
        "# choose a name for experiment\n",
        "experiment_name = 'automl_leukemia_experiment'\n",
        "\n",
        "# Enviornment for model deployment\n",
        "myenv = Environment(name=\"myenv\")\n",
        "\n",
        "auto_exp = Experiment(ws,experiment_name)"
      ],
      "outputs": [
        {
          "output_type": "stream",
          "name": "stdout",
          "text": [
            "Performing interactive authentication. Please follow the instructions on the terminal.\n",
            "To sign in, use a web browser to open the page https://microsoft.com/devicelogin and enter the code R4U3CXTES to authenticate.\n",
            "You have logged in. Now let us find all the subscriptions to which you have access...\n",
            "Interactive authentication successfully completed.\n"
          ]
        }
      ],
      "execution_count": 2,
      "metadata": {
        "gather": {
          "logged": 1606378052722
        },
        "jupyter": {
          "outputs_hidden": false,
          "source_hidden": false
        },
        "nteract": {
          "transient": {
            "deleting": false
          }
        }
      }
    },
    {
      "cell_type": "code",
      "source": [
        "# Create compute cluster\n",
        "\n",
        "cpu_cluster_name = \"cluster-leukemia\"\n",
        "\n",
        "try:\n",
        "    cpu_cluster = ComputeTarget(workspace=ws, name=cpu_cluster_name)\n",
        "    print('Found existing cluster, use it.')\n",
        "except ComputeTargetException:\n",
        "    compute_config = AmlCompute.provisioning_configuration(vm_size='STANDARD_D2_V2',min_nodes=0,\n",
        "                                                            max_nodes=4)\n",
        "    cpu_cluster = ComputeTarget.create(ws, cpu_cluster_name, compute_config)\n",
        "\n",
        "cpu_cluster.wait_for_completion(show_output=True)"
      ],
      "outputs": [
        {
          "output_type": "stream",
          "name": "stdout",
          "text": [
            "Creating\n",
            "Succeeded\n",
            "AmlCompute wait for completion finished\n",
            "\n",
            "Minimum number of nodes requested have been provisioned\n"
          ]
        }
      ],
      "execution_count": 3,
      "metadata": {
        "gather": {
          "logged": 1606378078757
        },
        "pycharm": {
          "name": "#%%\n"
        }
      }
    },
    {
      "cell_type": "markdown",
      "source": [
        "### Dataset is hosted on Github"
      ],
      "metadata": {}
    },
    {
      "cell_type": "code",
      "source": [
        "dataset_path = 'https://raw.githubusercontent.com/PhilippRamjoue/Leukemia_Classification/main/dataset/bone-marrow-dataset.csv'\n",
        "\n",
        "ds = Dataset.Tabular.from_delimited_files(path=dataset_path)"
      ],
      "outputs": [],
      "execution_count": 5,
      "metadata": {
        "gather": {
          "logged": 1606378163980
        },
        "pycharm": {
          "name": "#%%\n"
        }
      }
    },
    {
      "cell_type": "code",
      "source": [
        "\n",
        "# Use the clean_data function to clean your data.\n",
        "x, y = clean_data(ds)\n",
        "\n",
        "# use full dataset but provide test data\n",
        "x_train,x_test,y_train,y_test = train_test_split(x,y,test_size=0.4,random_state=42)\n",
        "#automl_training_set = pd.concat([x_train,y_train],axis=1)\n",
        "\n",
        "automl_training_set = pd.concat([x,y],axis=1)"
      ],
      "outputs": [
        {
          "output_type": "stream",
          "name": "stdout",
          "text": [
            "survival_status_0: 36\n",
            "survival_status_1: 85\n",
            "survival_status_ongoing: 66\n",
            "Shape of original frame: (121, 37)\n",
            "Shape of frame with dropped nan rows: (104, 37); Loss: 14 %\n"
          ]
        }
      ],
      "execution_count": 6,
      "metadata": {
        "gather": {
          "logged": 1606378168148
        },
        "pycharm": {
          "name": "#%%\n"
        }
      }
    },
    {
      "cell_type": "markdown",
      "source": [
        "## Save data in datastore\n",
        "\n",
        "A datastore is necessary to run AutoML on a remote compute"
      ],
      "metadata": {
        "pycharm": {
          "name": "#%% md\n"
        }
      }
    },
    {
      "cell_type": "code",
      "source": [
        "\n",
        "# Create a project_folder if it doesn't exist\n",
        "if not os.path.isdir('data'):\n",
        "    os.mkdir('data')\n",
        "\n",
        "if not os.path.exists('project_folder'):\n",
        "    os.makedirs('project_folder')\n",
        "\n",
        "automl_training_set.to_csv('data/cleaned_dataset.csv')\n",
        "\n",
        "ds = ws.get_default_datastore()\n",
        "\n",
        "ds.upload(src_dir='./data', target_path='leukemiadata', overwrite=True, show_progress=True)\n",
        "\n",
        "training_data = Dataset.Tabular.from_delimited_files(path=ds.path('leukemiadata/cleaned_dataset.csv'))"
      ],
      "outputs": [
        {
          "output_type": "stream",
          "name": "stdout",
          "text": [
            "Uploading an estimated of 1 files\n",
            "Uploading ./data/cleaned_dataset.csv\n",
            "Uploaded ./data/cleaned_dataset.csv, 1 files out of an estimated total of 1\n",
            "Uploaded 1 files\n"
          ]
        }
      ],
      "execution_count": 7,
      "metadata": {
        "gather": {
          "logged": 1606378185713
        },
        "pycharm": {
          "name": "#%%\n"
        }
      }
    },
    {
      "cell_type": "markdown",
      "source": [
        "## AutoML Configuration\n",
        "\n",
        "TODO: Explain why you chose the automl settings and cofiguration you used below."
      ],
      "metadata": {}
    },
    {
      "cell_type": "code",
      "source": [
        "# TODO: Put your automl settings here\n",
        "automl_settings = {'experiment_timeout_minutes':30,\n",
        "                    'primary_metric':'accuracy',\n",
        "                    'enable_early_stopping':True,\n",
        "                    'n_cross_validations':5,\n",
        "                    'max_concurrent_iterations':4\n",
        "                    }\n",
        "\n",
        "# TODO: Put your automl config here\n",
        "automl_config = AutoMLConfig(\n",
        "    task=\"classification\",\n",
        "    compute_target=cpu_cluster,\n",
        "    training_data=training_data,\n",
        "    iterations=30,\n",
        "    iteration_timeout_minutes=5,\n",
        "    label_column_name='survival_status',\n",
        "    **automl_settings\n",
        "    )"
      ],
      "outputs": [],
      "execution_count": 9,
      "metadata": {
        "gather": {
          "logged": 1606378238405
        },
        "pycharm": {
          "name": "#%%\n"
        }
      }
    },
    {
      "cell_type": "code",
      "source": [
        "# TODO: Submit your experiment\n",
        "auto_run = auto_exp.submit(config=automl_config,show_output=True)"
      ],
      "outputs": [
        {
          "output_type": "stream",
          "name": "stdout",
          "text": [
            "Running on remote.\n",
            "Running on remote compute: cluster-leukemia\n",
            "Parent Run ID: AutoML_9a799cff-d460-4b65-a8e8-a9ad332b6707\n",
            "\n",
            "Current status: FeaturesGeneration. Generating features for the dataset.\n",
            "Current status: DatasetCrossValidationSplit. Generating individually featurized CV splits.\n",
            "Current status: ModelSelection. Beginning model selection.\n",
            "\n",
            "****************************************************************************************************\n",
            "DATA GUARDRAILS: \n",
            "\n",
            "TYPE:         Class balancing detection\n",
            "STATUS:       PASSED\n",
            "DESCRIPTION:  Your inputs were analyzed, and all classes are balanced in your training data.\n",
            "              Learn more about imbalanced data: https://aka.ms/AutomatedMLImbalancedData\n",
            "\n",
            "****************************************************************************************************\n",
            "\n",
            "TYPE:         Missing feature values imputation\n",
            "STATUS:       PASSED\n",
            "DESCRIPTION:  No feature missing values were detected in the training data.\n",
            "              Learn more about missing value imputation: https://aka.ms/AutomatedMLFeaturization\n",
            "\n",
            "****************************************************************************************************\n",
            "\n",
            "TYPE:         High cardinality feature detection\n",
            "STATUS:       PASSED\n",
            "DESCRIPTION:  Your inputs were analyzed, and no high cardinality features were detected.\n",
            "              Learn more about high cardinality feature handling: https://aka.ms/AutomatedMLFeaturization\n",
            "\n",
            "****************************************************************************************************\n",
            "\n",
            "****************************************************************************************************\n",
            "ITERATION: The iteration being evaluated.\n",
            "PIPELINE: A summary description of the pipeline being evaluated.\n",
            "DURATION: Time taken for the current iteration.\n",
            "METRIC: The result of computing score on the fitted pipeline.\n",
            "BEST: The best observed score thus far.\n",
            "****************************************************************************************************\n",
            "\n",
            " ITERATION   PIPELINE                                       DURATION      METRIC      BEST\n",
            "         3   StandardScalerWrapper SGD                      0:00:45       0.6338    0.6338\n",
            "         1   MaxAbsScaler XGBoostClassifier                 0:00:47       0.6824    0.6824\n",
            "         0   MaxAbsScaler LightGBM                          0:00:50       0.6257    0.6824\n",
            "         2   MinMaxScaler RandomForest                      0:00:50       0.6638    0.6824\n",
            "         7   RobustScaler ExtremeRandomTrees                0:00:50       0.6438    0.6824\n",
            "         4   MinMaxScaler RandomForest                      0:03:14       0.6438    0.6824\n",
            "         5   StandardScalerWrapper SGD                      0:03:17       0.6243    0.6824\n",
            "         6   StandardScalerWrapper RandomForest             0:03:25       0.6052    0.6824\n",
            "         8   StandardScalerWrapper ExtremeRandomTrees       0:00:43       0.6143    0.6824\n",
            "         9   StandardScalerWrapper SGD                      0:00:27       0.6048    0.6824\n",
            "        11   MinMaxScaler SGD                               0:00:33       0.5848    0.6824\n",
            "        10   StandardScalerWrapper SGD                      0:00:40       0.6348    0.6824\n",
            "        12   RobustScaler ExtremeRandomTrees                0:00:44       0.6043    0.6824\n",
            "        13   MinMaxScaler SGD                               0:00:45       0.7129    0.7129\n",
            "        14   MinMaxScaler ExtremeRandomTrees                0:00:35       0.6243    0.7129\n",
            "        15   MinMaxScaler ExtremeRandomTrees                0:00:44       0.6729    0.7129\n",
            "        17   StandardScalerWrapper RandomForest             0:00:44       0.7114    0.7129\n",
            "        16   MinMaxScaler ExtremeRandomTrees                0:00:57       0.6062    0.7129\n",
            "        18   StandardScalerWrapper SGD                      0:00:48       0.6248    0.7129\n",
            "        19   RobustScaler ExtremeRandomTrees                0:00:46       0.6143    0.7129\n",
            "        20   StandardScalerWrapper RandomForest             0:00:50       0.6724    0.7129\n",
            "        21   MinMaxScaler ExtremeRandomTrees                0:00:53       0.6529    0.7129\n",
            "        22   MaxAbsScaler RandomForest                      0:00:56       0.5976    0.7129\n",
            "        23   MaxAbsScaler ExtremeRandomTrees                0:00:45       0.6248    0.7129\n",
            "        24   MaxAbsScaler SGD                               0:00:53       0.6143    0.7129\n",
            "        27   MinMaxScaler RandomForest                      0:00:21       0.6548    0.7129\n",
            "        25   SparseNormalizer SGD                           0:00:43       0.3252    0.7129\n",
            "        26   MinMaxScaler RandomForest                      0:00:41       0.6819    0.7129\n",
            "        28    VotingEnsemble                                0:01:04       0.7410    0.7410\n",
            "        29    StackEnsemble                                 0:01:04       0.6729    0.7410\n"
          ]
        }
      ],
      "execution_count": 10,
      "metadata": {
        "gather": {
          "logged": 1606379816743
        },
        "jupyter": {
          "outputs_hidden": false,
          "source_hidden": false
        },
        "nteract": {
          "transient": {
            "deleting": false
          }
        }
      }
    },
    {
      "cell_type": "markdown",
      "source": [
        "## Run Details\n",
        "\n",
        "OPTIONAL: Write about the different models trained and their performance. Why do you think some models did better than others?\n",
        "\n",
        "TODO: In the cell below, use the `RunDetails` widget to show the different experiments."
      ],
      "metadata": {}
    },
    {
      "cell_type": "code",
      "source": [
        "RunDetails(auto_run).show()\n"
      ],
      "outputs": [
        {
          "output_type": "display_data",
          "data": {
            "text/plain": "_AutoMLWidget(widget_settings={'childWidgetDisplay': 'popup', 'send_telemetry': False, 'log_level': 'INFO', 's…",
            "application/vnd.jupyter.widget-view+json": {
              "version_major": 2,
              "version_minor": 0,
              "model_id": "04bce786c3bd4f8082b589ef43fc2d0e"
            }
          },
          "metadata": {}
        },
        {
          "output_type": "display_data",
          "data": {
            "application/aml.mini.widget.v1": "{\"status\": \"Completed\", \"workbench_run_details_uri\": \"https://ml.azure.com/experiments/automl_leukemia_experiment/runs/AutoML_9a799cff-d460-4b65-a8e8-a9ad332b6707?wsid=/subscriptions/f39cb977-6a3a-445b-a26a-b9a791c5fd89/resourcegroups/aml-quickstarts-127950/workspaces/quick-starts-ws-127950\", \"run_id\": \"AutoML_9a799cff-d460-4b65-a8e8-a9ad332b6707\", \"run_properties\": {\"run_id\": \"AutoML_9a799cff-d460-4b65-a8e8-a9ad332b6707\", \"created_utc\": \"2020-11-26T08:10:43.199595Z\", \"properties\": {\"num_iterations\": \"30\", \"training_type\": \"TrainFull\", \"acquisition_function\": \"EI\", \"primary_metric\": \"accuracy\", \"train_split\": \"0\", \"acquisition_parameter\": \"0\", \"num_cross_validation\": \"5\", \"target\": \"cluster-leukemia\", \"AMLSettingsJsonString\": \"{\\\"path\\\":null,\\\"name\\\":\\\"automl_leukemia_experiment\\\",\\\"subscription_id\\\":\\\"f39cb977-6a3a-445b-a26a-b9a791c5fd89\\\",\\\"resource_group\\\":\\\"aml-quickstarts-127950\\\",\\\"workspace_name\\\":\\\"quick-starts-ws-127950\\\",\\\"region\\\":\\\"southcentralus\\\",\\\"compute_target\\\":\\\"cluster-leukemia\\\",\\\"spark_service\\\":null,\\\"azure_service\\\":\\\"remote\\\",\\\"_local_managed_run_id\\\":null,\\\"many_models\\\":false,\\\"pipeline_fetch_max_batch_size\\\":1,\\\"iterations\\\":30,\\\"primary_metric\\\":\\\"accuracy\\\",\\\"task_type\\\":\\\"classification\\\",\\\"data_script\\\":null,\\\"validation_size\\\":0.0,\\\"n_cross_validations\\\":5,\\\"y_min\\\":null,\\\"y_max\\\":null,\\\"num_classes\\\":null,\\\"featurization\\\":\\\"auto\\\",\\\"_ignore_package_version_incompatibilities\\\":false,\\\"is_timeseries\\\":false,\\\"max_cores_per_iteration\\\":1,\\\"max_concurrent_iterations\\\":4,\\\"iteration_timeout_minutes\\\":5,\\\"mem_in_mb\\\":null,\\\"enforce_time_on_windows\\\":false,\\\"experiment_timeout_minutes\\\":30,\\\"experiment_exit_score\\\":null,\\\"whitelist_models\\\":null,\\\"blacklist_algos\\\":[\\\"TensorFlowLinearClassifier\\\",\\\"TensorFlowDNN\\\"],\\\"supported_models\\\":[\\\"BernoulliNaiveBayes\\\",\\\"DecisionTree\\\",\\\"ExtremeRandomTrees\\\",\\\"AveragedPerceptronClassifier\\\",\\\"LinearSVM\\\",\\\"LogisticRegression\\\",\\\"MultinomialNaiveBayes\\\",\\\"GradientBoosting\\\",\\\"TensorFlowDNN\\\",\\\"XGBoostClassifier\\\",\\\"RandomForest\\\",\\\"KNN\\\",\\\"LightGBM\\\",\\\"TensorFlowLinearClassifier\\\",\\\"SGD\\\",\\\"SVM\\\"],\\\"auto_blacklist\\\":true,\\\"blacklist_samples_reached\\\":false,\\\"exclude_nan_labels\\\":true,\\\"verbosity\\\":20,\\\"_debug_log\\\":\\\"azureml_automl.log\\\",\\\"show_warnings\\\":false,\\\"model_explainability\\\":true,\\\"service_url\\\":null,\\\"sdk_url\\\":null,\\\"sdk_packages\\\":null,\\\"enable_onnx_compatible_models\\\":false,\\\"enable_split_onnx_featurizer_estimator_models\\\":false,\\\"vm_type\\\":\\\"STANDARD_D2_V2\\\",\\\"telemetry_verbosity\\\":20,\\\"send_telemetry\\\":true,\\\"enable_dnn\\\":false,\\\"scenario\\\":\\\"SDK-1.13.0\\\",\\\"environment_label\\\":null,\\\"force_text_dnn\\\":false,\\\"enable_feature_sweeping\\\":true,\\\"enable_early_stopping\\\":true,\\\"early_stopping_n_iters\\\":10,\\\"metrics\\\":null,\\\"enable_ensembling\\\":true,\\\"enable_stack_ensembling\\\":true,\\\"ensemble_iterations\\\":15,\\\"enable_tf\\\":false,\\\"enable_subsampling\\\":false,\\\"subsample_seed\\\":null,\\\"enable_nimbusml\\\":false,\\\"enable_streaming\\\":false,\\\"force_streaming\\\":false,\\\"track_child_runs\\\":true,\\\"allowed_private_models\\\":[],\\\"label_column_name\\\":\\\"survival_status\\\",\\\"weight_column_name\\\":null,\\\"cv_split_column_names\\\":null,\\\"enable_local_managed\\\":false,\\\"cost_mode\\\":1,\\\"lag_length\\\":0,\\\"metric_operation\\\":\\\"maximize\\\",\\\"preprocess\\\":true}\", \"DataPrepJsonString\": \"{\\\\\\\"training_data\\\\\\\": \\\\\\\"{\\\\\\\\\\\\\\\"blocks\\\\\\\\\\\\\\\": [{\\\\\\\\\\\\\\\"id\\\\\\\\\\\\\\\": \\\\\\\\\\\\\\\"63a84b6a-60cf-4a6a-9e6b-3d6a4ad7b501\\\\\\\\\\\\\\\", \\\\\\\\\\\\\\\"type\\\\\\\\\\\\\\\": \\\\\\\\\\\\\\\"Microsoft.DPrep.GetDatastoreFilesBlock\\\\\\\\\\\\\\\", \\\\\\\\\\\\\\\"arguments\\\\\\\\\\\\\\\": {\\\\\\\\\\\\\\\"datastores\\\\\\\\\\\\\\\": [{\\\\\\\\\\\\\\\"datastoreName\\\\\\\\\\\\\\\": \\\\\\\\\\\\\\\"workspaceblobstore\\\\\\\\\\\\\\\", \\\\\\\\\\\\\\\"path\\\\\\\\\\\\\\\": \\\\\\\\\\\\\\\"leukemiadata/cleaned_dataset.csv\\\\\\\\\\\\\\\", \\\\\\\\\\\\\\\"resourceGroup\\\\\\\\\\\\\\\": \\\\\\\\\\\\\\\"aml-quickstarts-127950\\\\\\\\\\\\\\\", \\\\\\\\\\\\\\\"subscription\\\\\\\\\\\\\\\": \\\\\\\\\\\\\\\"f39cb977-6a3a-445b-a26a-b9a791c5fd89\\\\\\\\\\\\\\\", \\\\\\\\\\\\\\\"workspaceName\\\\\\\\\\\\\\\": \\\\\\\\\\\\\\\"quick-starts-ws-127950\\\\\\\\\\\\\\\"}]}, \\\\\\\\\\\\\\\"localData\\\\\\\\\\\\\\\": {}, \\\\\\\\\\\\\\\"isEnabled\\\\\\\\\\\\\\\": true, \\\\\\\\\\\\\\\"name\\\\\\\\\\\\\\\": null, \\\\\\\\\\\\\\\"annotation\\\\\\\\\\\\\\\": null}, {\\\\\\\\\\\\\\\"id\\\\\\\\\\\\\\\": \\\\\\\\\\\\\\\"b663baf7-477f-47d4-b4e6-59b83c4187af\\\\\\\\\\\\\\\", \\\\\\\\\\\\\\\"type\\\\\\\\\\\\\\\": \\\\\\\\\\\\\\\"Microsoft.DPrep.ParseDelimitedBlock\\\\\\\\\\\\\\\", \\\\\\\\\\\\\\\"arguments\\\\\\\\\\\\\\\": {\\\\\\\\\\\\\\\"columnHeadersMode\\\\\\\\\\\\\\\": 3, \\\\\\\\\\\\\\\"fileEncoding\\\\\\\\\\\\\\\": 0, \\\\\\\\\\\\\\\"handleQuotedLineBreaks\\\\\\\\\\\\\\\": false, \\\\\\\\\\\\\\\"preview\\\\\\\\\\\\\\\": false, \\\\\\\\\\\\\\\"separator\\\\\\\\\\\\\\\": \\\\\\\\\\\\\\\",\\\\\\\\\\\\\\\", \\\\\\\\\\\\\\\"skipRows\\\\\\\\\\\\\\\": 0, \\\\\\\\\\\\\\\"skipRowsMode\\\\\\\\\\\\\\\": 0}, \\\\\\\\\\\\\\\"localData\\\\\\\\\\\\\\\": {}, \\\\\\\\\\\\\\\"isEnabled\\\\\\\\\\\\\\\": true, \\\\\\\\\\\\\\\"name\\\\\\\\\\\\\\\": null, \\\\\\\\\\\\\\\"annotation\\\\\\\\\\\\\\\": null}, {\\\\\\\\\\\\\\\"id\\\\\\\\\\\\\\\": \\\\\\\\\\\\\\\"6327c611-2516-4aca-9dae-f94a45c48493\\\\\\\\\\\\\\\", \\\\\\\\\\\\\\\"type\\\\\\\\\\\\\\\": \\\\\\\\\\\\\\\"Microsoft.DPrep.DropColumnsBlock\\\\\\\\\\\\\\\", \\\\\\\\\\\\\\\"arguments\\\\\\\\\\\\\\\": {\\\\\\\\\\\\\\\"columns\\\\\\\\\\\\\\\": {\\\\\\\\\\\\\\\"type\\\\\\\\\\\\\\\": 0, \\\\\\\\\\\\\\\"details\\\\\\\\\\\\\\\": {\\\\\\\\\\\\\\\"selectedColumns\\\\\\\\\\\\\\\": [\\\\\\\\\\\\\\\"Path\\\\\\\\\\\\\\\"]}}}, \\\\\\\\\\\\\\\"localData\\\\\\\\\\\\\\\": {}, \\\\\\\\\\\\\\\"isEnabled\\\\\\\\\\\\\\\": true, \\\\\\\\\\\\\\\"name\\\\\\\\\\\\\\\": null, \\\\\\\\\\\\\\\"annotation\\\\\\\\\\\\\\\": null}, {\\\\\\\\\\\\\\\"id\\\\\\\\\\\\\\\": \\\\\\\\\\\\\\\"46f7f469-a489-4bd6-a6cc-514f0a1595f6\\\\\\\\\\\\\\\", \\\\\\\\\\\\\\\"type\\\\\\\\\\\\\\\": \\\\\\\\\\\\\\\"Microsoft.DPrep.SetColumnTypesBlock\\\\\\\\\\\\\\\", \\\\\\\\\\\\\\\"arguments\\\\\\\\\\\\\\\": {\\\\\\\\\\\\\\\"columnConversion\\\\\\\\\\\\\\\": [{\\\\\\\\\\\\\\\"column\\\\\\\\\\\\\\\": {\\\\\\\\\\\\\\\"type\\\\\\\\\\\\\\\": 2, \\\\\\\\\\\\\\\"details\\\\\\\\\\\\\\\": {\\\\\\\\\\\\\\\"selectedColumn\\\\\\\\\\\\\\\": \\\\\\\\\\\\\\\"Column1\\\\\\\\\\\\\\\"}}, \\\\\\\\\\\\\\\"typeProperty\\\\\\\\\\\\\\\": 2}, {\\\\\\\\\\\\\\\"column\\\\\\\\\\\\\\\": {\\\\\\\\\\\\\\\"type\\\\\\\\\\\\\\\": 2, \\\\\\\\\\\\\\\"details\\\\\\\\\\\\\\\": {\\\\\\\\\\\\\\\"selectedColumn\\\\\\\\\\\\\\\": \\\\\\\\\\\\\\\"donor_age_below_35\\\\\\\\\\\\\\\"}}, \\\\\\\\\\\\\\\"typeProperty\\\\\\\\\\\\\\\": 2}, {\\\\\\\\\\\\\\\"column\\\\\\\\\\\\\\\": {\\\\\\\\\\\\\\\"type\\\\\\\\\\\\\\\": 2, \\\\\\\\\\\\\\\"details\\\\\\\\\\\\\\\": {\\\\\\\\\\\\\\\"selectedColumn\\\\\\\\\\\\\\\": \\\\\\\\\\\\\\\"donor_CMV\\\\\\\\\\\\\\\"}}, \\\\\\\\\\\\\\\"typeProperty\\\\\\\\\\\\\\\": 2}, {\\\\\\\\\\\\\\\"column\\\\\\\\\\\\\\\": {\\\\\\\\\\\\\\\"type\\\\\\\\\\\\\\\": 2, \\\\\\\\\\\\\\\"details\\\\\\\\\\\\\\\": {\\\\\\\\\\\\\\\"selectedColumn\\\\\\\\\\\\\\\": \\\\\\\\\\\\\\\"recipient_age_below_10\\\\\\\\\\\\\\\"}}, \\\\\\\\\\\\\\\"typeProperty\\\\\\\\\\\\\\\": 2}, {\\\\\\\\\\\\\\\"column\\\\\\\\\\\\\\\": {\\\\\\\\\\\\\\\"type\\\\\\\\\\\\\\\": 2, \\\\\\\\\\\\\\\"details\\\\\\\\\\\\\\\": {\\\\\\\\\\\\\\\"selectedColumn\\\\\\\\\\\\\\\": \\\\\\\\\\\\\\\"recipient_gender\\\\\\\\\\\\\\\"}}, \\\\\\\\\\\\\\\"typeProperty\\\\\\\\\\\\\\\": 2}, {\\\\\\\\\\\\\\\"column\\\\\\\\\\\\\\\": {\\\\\\\\\\\\\\\"type\\\\\\\\\\\\\\\": 2, \\\\\\\\\\\\\\\"details\\\\\\\\\\\\\\\": {\\\\\\\\\\\\\\\"selectedColumn\\\\\\\\\\\\\\\": \\\\\\\\\\\\\\\"recipient_rh\\\\\\\\\\\\\\\"}}, \\\\\\\\\\\\\\\"typeProperty\\\\\\\\\\\\\\\": 2}, {\\\\\\\\\\\\\\\"column\\\\\\\\\\\\\\\": {\\\\\\\\\\\\\\\"type\\\\\\\\\\\\\\\": 2, \\\\\\\\\\\\\\\"details\\\\\\\\\\\\\\\": {\\\\\\\\\\\\\\\"selectedColumn\\\\\\\\\\\\\\\": \\\\\\\\\\\\\\\"recipient_CMV\\\\\\\\\\\\\\\"}}, \\\\\\\\\\\\\\\"typeProperty\\\\\\\\\\\\\\\": 2}, {\\\\\\\\\\\\\\\"column\\\\\\\\\\\\\\\": {\\\\\\\\\\\\\\\"type\\\\\\\\\\\\\\\": 2, \\\\\\\\\\\\\\\"details\\\\\\\\\\\\\\\": {\\\\\\\\\\\\\\\"selectedColumn\\\\\\\\\\\\\\\": \\\\\\\\\\\\\\\"gender_match\\\\\\\\\\\\\\\"}}, \\\\\\\\\\\\\\\"typeProperty\\\\\\\\\\\\\\\": 2}, {\\\\\\\\\\\\\\\"column\\\\\\\\\\\\\\\": {\\\\\\\\\\\\\\\"type\\\\\\\\\\\\\\\": 2, \\\\\\\\\\\\\\\"details\\\\\\\\\\\\\\\": {\\\\\\\\\\\\\\\"selectedColumn\\\\\\\\\\\\\\\": \\\\\\\\\\\\\\\"ABO_match\\\\\\\\\\\\\\\"}}, \\\\\\\\\\\\\\\"typeProperty\\\\\\\\\\\\\\\": 2}, {\\\\\\\\\\\\\\\"column\\\\\\\\\\\\\\\": {\\\\\\\\\\\\\\\"type\\\\\\\\\\\\\\\": 2, \\\\\\\\\\\\\\\"details\\\\\\\\\\\\\\\": {\\\\\\\\\\\\\\\"selectedColumn\\\\\\\\\\\\\\\": \\\\\\\\\\\\\\\"HLA_mismatch\\\\\\\\\\\\\\\"}}, \\\\\\\\\\\\\\\"typeProperty\\\\\\\\\\\\\\\": 2}, {\\\\\\\\\\\\\\\"column\\\\\\\\\\\\\\\": {\\\\\\\\\\\\\\\"type\\\\\\\\\\\\\\\": 2, \\\\\\\\\\\\\\\"details\\\\\\\\\\\\\\\": {\\\\\\\\\\\\\\\"selectedColumn\\\\\\\\\\\\\\\": \\\\\\\\\\\\\\\"risk_group\\\\\\\\\\\\\\\"}}, \\\\\\\\\\\\\\\"typeProperty\\\\\\\\\\\\\\\": 2}, {\\\\\\\\\\\\\\\"column\\\\\\\\\\\\\\\": {\\\\\\\\\\\\\\\"type\\\\\\\\\\\\\\\": 2, \\\\\\\\\\\\\\\"details\\\\\\\\\\\\\\\": {\\\\\\\\\\\\\\\"selectedColumn\\\\\\\\\\\\\\\": \\\\\\\\\\\\\\\"stem_cell_source\\\\\\\\\\\\\\\"}}, \\\\\\\\\\\\\\\"typeProperty\\\\\\\\\\\\\\\": 2}, {\\\\\\\\\\\\\\\"column\\\\\\\\\\\\\\\": {\\\\\\\\\\\\\\\"type\\\\\\\\\\\\\\\": 2, \\\\\\\\\\\\\\\"details\\\\\\\\\\\\\\\": {\\\\\\\\\\\\\\\"selectedColumn\\\\\\\\\\\\\\\": \\\\\\\\\\\\\\\"tx_post_relapse\\\\\\\\\\\\\\\"}}, \\\\\\\\\\\\\\\"typeProperty\\\\\\\\\\\\\\\": 2}, {\\\\\\\\\\\\\\\"column\\\\\\\\\\\\\\\": {\\\\\\\\\\\\\\\"type\\\\\\\\\\\\\\\": 2, \\\\\\\\\\\\\\\"details\\\\\\\\\\\\\\\": {\\\\\\\\\\\\\\\"selectedColumn\\\\\\\\\\\\\\\": \\\\\\\\\\\\\\\"ANC_recovery\\\\\\\\\\\\\\\"}}, \\\\\\\\\\\\\\\"typeProperty\\\\\\\\\\\\\\\": 2}, {\\\\\\\\\\\\\\\"column\\\\\\\\\\\\\\\": {\\\\\\\\\\\\\\\"type\\\\\\\\\\\\\\\": 2, \\\\\\\\\\\\\\\"details\\\\\\\\\\\\\\\": {\\\\\\\\\\\\\\\"selectedColumn\\\\\\\\\\\\\\\": \\\\\\\\\\\\\\\"PLT_recovery\\\\\\\\\\\\\\\"}}, \\\\\\\\\\\\\\\"typeProperty\\\\\\\\\\\\\\\": 2}, {\\\\\\\\\\\\\\\"column\\\\\\\\\\\\\\\": {\\\\\\\\\\\\\\\"type\\\\\\\\\\\\\\\": 2, \\\\\\\\\\\\\\\"details\\\\\\\\\\\\\\\": {\\\\\\\\\\\\\\\"selectedColumn\\\\\\\\\\\\\\\": \\\\\\\\\\\\\\\"acute_GvHD_II_III_IV\\\\\\\\\\\\\\\"}}, \\\\\\\\\\\\\\\"typeProperty\\\\\\\\\\\\\\\": 2}, {\\\\\\\\\\\\\\\"column\\\\\\\\\\\\\\\": {\\\\\\\\\\\\\\\"type\\\\\\\\\\\\\\\": 2, \\\\\\\\\\\\\\\"details\\\\\\\\\\\\\\\": {\\\\\\\\\\\\\\\"selectedColumn\\\\\\\\\\\\\\\": \\\\\\\\\\\\\\\"acute_GvHD_III_IV\\\\\\\\\\\\\\\"}}, \\\\\\\\\\\\\\\"typeProperty\\\\\\\\\\\\\\\": 2}, {\\\\\\\\\\\\\\\"column\\\\\\\\\\\\\\\": {\\\\\\\\\\\\\\\"type\\\\\\\\\\\\\\\": 2, \\\\\\\\\\\\\\\"details\\\\\\\\\\\\\\\": {\\\\\\\\\\\\\\\"selectedColumn\\\\\\\\\\\\\\\": \\\\\\\\\\\\\\\"relapse\\\\\\\\\\\\\\\"}}, \\\\\\\\\\\\\\\"typeProperty\\\\\\\\\\\\\\\": 2}, {\\\\\\\\\\\\\\\"column\\\\\\\\\\\\\\\": {\\\\\\\\\\\\\\\"type\\\\\\\\\\\\\\\": 2, \\\\\\\\\\\\\\\"details\\\\\\\\\\\\\\\": {\\\\\\\\\\\\\\\"selectedColumn\\\\\\\\\\\\\\\": \\\\\\\\\\\\\\\"donor_age\\\\\\\\\\\\\\\"}}, \\\\\\\\\\\\\\\"typeProperty\\\\\\\\\\\\\\\": 3}, {\\\\\\\\\\\\\\\"column\\\\\\\\\\\\\\\": {\\\\\\\\\\\\\\\"type\\\\\\\\\\\\\\\": 2, \\\\\\\\\\\\\\\"details\\\\\\\\\\\\\\\": {\\\\\\\\\\\\\\\"selectedColumn\\\\\\\\\\\\\\\": \\\\\\\\\\\\\\\"recipient_age\\\\\\\\\\\\\\\"}}, \\\\\\\\\\\\\\\"typeProperty\\\\\\\\\\\\\\\": 3}, {\\\\\\\\\\\\\\\"column\\\\\\\\\\\\\\\": {\\\\\\\\\\\\\\\"type\\\\\\\\\\\\\\\": 2, \\\\\\\\\\\\\\\"details\\\\\\\\\\\\\\\": {\\\\\\\\\\\\\\\"selectedColumn\\\\\\\\\\\\\\\": \\\\\\\\\\\\\\\"recipient_body_mass\\\\\\\\\\\\\\\"}}, \\\\\\\\\\\\\\\"typeProperty\\\\\\\\\\\\\\\": 3}, {\\\\\\\\\\\\\\\"column\\\\\\\\\\\\\\\": {\\\\\\\\\\\\\\\"type\\\\\\\\\\\\\\\": 2, \\\\\\\\\\\\\\\"details\\\\\\\\\\\\\\\": {\\\\\\\\\\\\\\\"selectedColumn\\\\\\\\\\\\\\\": \\\\\\\\\\\\\\\"CD34_x1e6_per_kg\\\\\\\\\\\\\\\"}}, \\\\\\\\\\\\\\\"typeProperty\\\\\\\\\\\\\\\": 3}, {\\\\\\\\\\\\\\\"column\\\\\\\\\\\\\\\": {\\\\\\\\\\\\\\\"type\\\\\\\\\\\\\\\": 2, \\\\\\\\\\\\\\\"details\\\\\\\\\\\\\\\": {\\\\\\\\\\\\\\\"selectedColumn\\\\\\\\\\\\\\\": \\\\\\\\\\\\\\\"CD3_x1e8_per_kg\\\\\\\\\\\\\\\"}}, \\\\\\\\\\\\\\\"typeProperty\\\\\\\\\\\\\\\": 3}, {\\\\\\\\\\\\\\\"column\\\\\\\\\\\\\\\": {\\\\\\\\\\\\\\\"type\\\\\\\\\\\\\\\": 2, \\\\\\\\\\\\\\\"details\\\\\\\\\\\\\\\": {\\\\\\\\\\\\\\\"selectedColumn\\\\\\\\\\\\\\\": \\\\\\\\\\\\\\\"CD3_to_CD34_ratio\\\\\\\\\\\\\\\"}}, \\\\\\\\\\\\\\\"typeProperty\\\\\\\\\\\\\\\": 3}, {\\\\\\\\\\\\\\\"column\\\\\\\\\\\\\\\": {\\\\\\\\\\\\\\\"type\\\\\\\\\\\\\\\": 2, \\\\\\\\\\\\\\\"details\\\\\\\\\\\\\\\": {\\\\\\\\\\\\\\\"selectedColumn\\\\\\\\\\\\\\\": \\\\\\\\\\\\\\\"time_to_ANC_recovery\\\\\\\\\\\\\\\"}}, \\\\\\\\\\\\\\\"typeProperty\\\\\\\\\\\\\\\": 3}, {\\\\\\\\\\\\\\\"column\\\\\\\\\\\\\\\": {\\\\\\\\\\\\\\\"type\\\\\\\\\\\\\\\": 2, \\\\\\\\\\\\\\\"details\\\\\\\\\\\\\\\": {\\\\\\\\\\\\\\\"selectedColumn\\\\\\\\\\\\\\\": \\\\\\\\\\\\\\\"time_to_PLT_recovery\\\\\\\\\\\\\\\"}}, \\\\\\\\\\\\\\\"typeProperty\\\\\\\\\\\\\\\": 3}, {\\\\\\\\\\\\\\\"column\\\\\\\\\\\\\\\": {\\\\\\\\\\\\\\\"type\\\\\\\\\\\\\\\": 2, \\\\\\\\\\\\\\\"details\\\\\\\\\\\\\\\": {\\\\\\\\\\\\\\\"selectedColumn\\\\\\\\\\\\\\\": \\\\\\\\\\\\\\\"time_to_acute_GvHD_III_IV\\\\\\\\\\\\\\\"}}, \\\\\\\\\\\\\\\"typeProperty\\\\\\\\\\\\\\\": 3}, {\\\\\\\\\\\\\\\"column\\\\\\\\\\\\\\\": {\\\\\\\\\\\\\\\"type\\\\\\\\\\\\\\\": 2, \\\\\\\\\\\\\\\"details\\\\\\\\\\\\\\\": {\\\\\\\\\\\\\\\"selectedColumn\\\\\\\\\\\\\\\": \\\\\\\\\\\\\\\"donor_ABO_0\\\\\\\\\\\\\\\"}}, \\\\\\\\\\\\\\\"typeProperty\\\\\\\\\\\\\\\": 2}, {\\\\\\\\\\\\\\\"column\\\\\\\\\\\\\\\": {\\\\\\\\\\\\\\\"type\\\\\\\\\\\\\\\": 2, \\\\\\\\\\\\\\\"details\\\\\\\\\\\\\\\": {\\\\\\\\\\\\\\\"selectedColumn\\\\\\\\\\\\\\\": \\\\\\\\\\\\\\\"donor_ABO_A\\\\\\\\\\\\\\\"}}, \\\\\\\\\\\\\\\"typeProperty\\\\\\\\\\\\\\\": 2}, {\\\\\\\\\\\\\\\"column\\\\\\\\\\\\\\\": {\\\\\\\\\\\\\\\"type\\\\\\\\\\\\\\\": 2, \\\\\\\\\\\\\\\"details\\\\\\\\\\\\\\\": {\\\\\\\\\\\\\\\"selectedColumn\\\\\\\\\\\\\\\": \\\\\\\\\\\\\\\"donor_ABO_AB\\\\\\\\\\\\\\\"}}, \\\\\\\\\\\\\\\"typeProperty\\\\\\\\\\\\\\\": 2}, {\\\\\\\\\\\\\\\"column\\\\\\\\\\\\\\\": {\\\\\\\\\\\\\\\"type\\\\\\\\\\\\\\\": 2, \\\\\\\\\\\\\\\"details\\\\\\\\\\\\\\\": {\\\\\\\\\\\\\\\"selectedColumn\\\\\\\\\\\\\\\": \\\\\\\\\\\\\\\"donor_ABO_B\\\\\\\\\\\\\\\"}}, \\\\\\\\\\\\\\\"typeProperty\\\\\\\\\\\\\\\": 2}, {\\\\\\\\\\\\\\\"column\\\\\\\\\\\\\\\": {\\\\\\\\\\\\\\\"type\\\\\\\\\\\\\\\": 2, \\\\\\\\\\\\\\\"details\\\\\\\\\\\\\\\": {\\\\\\\\\\\\\\\"selectedColumn\\\\\\\\\\\\\\\": \\\\\\\\\\\\\\\"recipient_age_int_0_5\\\\\\\\\\\\\\\"}}, \\\\\\\\\\\\\\\"typeProperty\\\\\\\\\\\\\\\": 2}, {\\\\\\\\\\\\\\\"column\\\\\\\\\\\\\\\": {\\\\\\\\\\\\\\\"type\\\\\\\\\\\\\\\": 2, \\\\\\\\\\\\\\\"details\\\\\\\\\\\\\\\": {\\\\\\\\\\\\\\\"selectedColumn\\\\\\\\\\\\\\\": \\\\\\\\\\\\\\\"recipient_age_int_10_20\\\\\\\\\\\\\\\"}}, \\\\\\\\\\\\\\\"typeProperty\\\\\\\\\\\\\\\": 2}, {\\\\\\\\\\\\\\\"column\\\\\\\\\\\\\\\": {\\\\\\\\\\\\\\\"type\\\\\\\\\\\\\\\": 2, \\\\\\\\\\\\\\\"details\\\\\\\\\\\\\\\": {\\\\\\\\\\\\\\\"selectedColumn\\\\\\\\\\\\\\\": \\\\\\\\\\\\\\\"recipient_age_int_5_10\\\\\\\\\\\\\\\"}}, \\\\\\\\\\\\\\\"typeProperty\\\\\\\\\\\\\\\": 2}, {\\\\\\\\\\\\\\\"column\\\\\\\\\\\\\\\": {\\\\\\\\\\\\\\\"type\\\\\\\\\\\\\\\": 2, \\\\\\\\\\\\\\\"details\\\\\\\\\\\\\\\": {\\\\\\\\\\\\\\\"selectedColumn\\\\\\\\\\\\\\\": \\\\\\\\\\\\\\\"recipient_ABO_0\\\\\\\\\\\\\\\"}}, \\\\\\\\\\\\\\\"typeProperty\\\\\\\\\\\\\\\": 2}, {\\\\\\\\\\\\\\\"column\\\\\\\\\\\\\\\": {\\\\\\\\\\\\\\\"type\\\\\\\\\\\\\\\": 2, \\\\\\\\\\\\\\\"details\\\\\\\\\\\\\\\": {\\\\\\\\\\\\\\\"selectedColumn\\\\\\\\\\\\\\\": \\\\\\\\\\\\\\\"recipient_ABO_A\\\\\\\\\\\\\\\"}}, \\\\\\\\\\\\\\\"typeProperty\\\\\\\\\\\\\\\": 2}, {\\\\\\\\\\\\\\\"column\\\\\\\\\\\\\\\": {\\\\\\\\\\\\\\\"type\\\\\\\\\\\\\\\": 2, \\\\\\\\\\\\\\\"details\\\\\\\\\\\\\\\": {\\\\\\\\\\\\\\\"selectedColumn\\\\\\\\\\\\\\\": \\\\\\\\\\\\\\\"recipient_ABO_AB\\\\\\\\\\\\\\\"}}, \\\\\\\\\\\\\\\"typeProperty\\\\\\\\\\\\\\\": 2}, {\\\\\\\\\\\\\\\"column\\\\\\\\\\\\\\\": {\\\\\\\\\\\\\\\"type\\\\\\\\\\\\\\\": 2, \\\\\\\\\\\\\\\"details\\\\\\\\\\\\\\\": {\\\\\\\\\\\\\\\"selectedColumn\\\\\\\\\\\\\\\": \\\\\\\\\\\\\\\"recipient_ABO_B\\\\\\\\\\\\\\\"}}, \\\\\\\\\\\\\\\"typeProperty\\\\\\\\\\\\\\\": 2}, {\\\\\\\\\\\\\\\"column\\\\\\\\\\\\\\\": {\\\\\\\\\\\\\\\"type\\\\\\\\\\\\\\\": 2, \\\\\\\\\\\\\\\"details\\\\\\\\\\\\\\\": {\\\\\\\\\\\\\\\"selectedColumn\\\\\\\\\\\\\\\": \\\\\\\\\\\\\\\"disease_ALL\\\\\\\\\\\\\\\"}}, \\\\\\\\\\\\\\\"typeProperty\\\\\\\\\\\\\\\": 2}, {\\\\\\\\\\\\\\\"column\\\\\\\\\\\\\\\": {\\\\\\\\\\\\\\\"type\\\\\\\\\\\\\\\": 2, \\\\\\\\\\\\\\\"details\\\\\\\\\\\\\\\": {\\\\\\\\\\\\\\\"selectedColumn\\\\\\\\\\\\\\\": \\\\\\\\\\\\\\\"disease_AML\\\\\\\\\\\\\\\"}}, \\\\\\\\\\\\\\\"typeProperty\\\\\\\\\\\\\\\": 2}, {\\\\\\\\\\\\\\\"column\\\\\\\\\\\\\\\": {\\\\\\\\\\\\\\\"type\\\\\\\\\\\\\\\": 2, \\\\\\\\\\\\\\\"details\\\\\\\\\\\\\\\": {\\\\\\\\\\\\\\\"selectedColumn\\\\\\\\\\\\\\\": \\\\\\\\\\\\\\\"disease_chronic\\\\\\\\\\\\\\\"}}, \\\\\\\\\\\\\\\"typeProperty\\\\\\\\\\\\\\\": 2}, {\\\\\\\\\\\\\\\"column\\\\\\\\\\\\\\\": {\\\\\\\\\\\\\\\"type\\\\\\\\\\\\\\\": 2, \\\\\\\\\\\\\\\"details\\\\\\\\\\\\\\\": {\\\\\\\\\\\\\\\"selectedColumn\\\\\\\\\\\\\\\": \\\\\\\\\\\\\\\"disease_lymphoma\\\\\\\\\\\\\\\"}}, \\\\\\\\\\\\\\\"typeProperty\\\\\\\\\\\\\\\": 2}, {\\\\\\\\\\\\\\\"column\\\\\\\\\\\\\\\": {\\\\\\\\\\\\\\\"type\\\\\\\\\\\\\\\": 2, \\\\\\\\\\\\\\\"details\\\\\\\\\\\\\\\": {\\\\\\\\\\\\\\\"selectedColumn\\\\\\\\\\\\\\\": \\\\\\\\\\\\\\\"disease_nonmalignant\\\\\\\\\\\\\\\"}}, \\\\\\\\\\\\\\\"typeProperty\\\\\\\\\\\\\\\": 2}, {\\\\\\\\\\\\\\\"column\\\\\\\\\\\\\\\": {\\\\\\\\\\\\\\\"type\\\\\\\\\\\\\\\": 2, \\\\\\\\\\\\\\\"details\\\\\\\\\\\\\\\": {\\\\\\\\\\\\\\\"selectedColumn\\\\\\\\\\\\\\\": \\\\\\\\\\\\\\\"disease_group_malignant\\\\\\\\\\\\\\\"}}, \\\\\\\\\\\\\\\"typeProperty\\\\\\\\\\\\\\\": 2}, {\\\\\\\\\\\\\\\"column\\\\\\\\\\\\\\\": {\\\\\\\\\\\\\\\"type\\\\\\\\\\\\\\\": 2, \\\\\\\\\\\\\\\"details\\\\\\\\\\\\\\\": {\\\\\\\\\\\\\\\"selectedColumn\\\\\\\\\\\\\\\": \\\\\\\\\\\\\\\"disease_group_nonmalignant\\\\\\\\\\\\\\\"}}, \\\\\\\\\\\\\\\"typeProperty\\\\\\\\\\\\\\\": 2}, {\\\\\\\\\\\\\\\"column\\\\\\\\\\\\\\\": {\\\\\\\\\\\\\\\"type\\\\\\\\\\\\\\\": 2, \\\\\\\\\\\\\\\"details\\\\\\\\\\\\\\\": {\\\\\\\\\\\\\\\"selectedColumn\\\\\\\\\\\\\\\": \\\\\\\\\\\\\\\"CMV_status_0\\\\\\\\\\\\\\\"}}, \\\\\\\\\\\\\\\"typeProperty\\\\\\\\\\\\\\\": 2}, {\\\\\\\\\\\\\\\"column\\\\\\\\\\\\\\\": {\\\\\\\\\\\\\\\"type\\\\\\\\\\\\\\\": 2, \\\\\\\\\\\\\\\"details\\\\\\\\\\\\\\\": {\\\\\\\\\\\\\\\"selectedColumn\\\\\\\\\\\\\\\": \\\\\\\\\\\\\\\"CMV_status_1\\\\\\\\\\\\\\\"}}, \\\\\\\\\\\\\\\"typeProperty\\\\\\\\\\\\\\\": 2}, {\\\\\\\\\\\\\\\"column\\\\\\\\\\\\\\\": {\\\\\\\\\\\\\\\"type\\\\\\\\\\\\\\\": 2, \\\\\\\\\\\\\\\"details\\\\\\\\\\\\\\\": {\\\\\\\\\\\\\\\"selectedColumn\\\\\\\\\\\\\\\": \\\\\\\\\\\\\\\"CMV_status_2\\\\\\\\\\\\\\\"}}, \\\\\\\\\\\\\\\"typeProperty\\\\\\\\\\\\\\\": 2}, {\\\\\\\\\\\\\\\"column\\\\\\\\\\\\\\\": {\\\\\\\\\\\\\\\"type\\\\\\\\\\\\\\\": 2, \\\\\\\\\\\\\\\"details\\\\\\\\\\\\\\\": {\\\\\\\\\\\\\\\"selectedColumn\\\\\\\\\\\\\\\": \\\\\\\\\\\\\\\"CMV_status_3\\\\\\\\\\\\\\\"}}, \\\\\\\\\\\\\\\"typeProperty\\\\\\\\\\\\\\\": 2}, {\\\\\\\\\\\\\\\"column\\\\\\\\\\\\\\\": {\\\\\\\\\\\\\\\"type\\\\\\\\\\\\\\\": 2, \\\\\\\\\\\\\\\"details\\\\\\\\\\\\\\\": {\\\\\\\\\\\\\\\"selectedColumn\\\\\\\\\\\\\\\": \\\\\\\\\\\\\\\"HLA_match_10/10\\\\\\\\\\\\\\\"}}, \\\\\\\\\\\\\\\"typeProperty\\\\\\\\\\\\\\\": 2}, {\\\\\\\\\\\\\\\"column\\\\\\\\\\\\\\\": {\\\\\\\\\\\\\\\"type\\\\\\\\\\\\\\\": 2, \\\\\\\\\\\\\\\"details\\\\\\\\\\\\\\\": {\\\\\\\\\\\\\\\"selectedColumn\\\\\\\\\\\\\\\": \\\\\\\\\\\\\\\"HLA_match_7/10\\\\\\\\\\\\\\\"}}, \\\\\\\\\\\\\\\"typeProperty\\\\\\\\\\\\\\\": 2}, {\\\\\\\\\\\\\\\"column\\\\\\\\\\\\\\\": {\\\\\\\\\\\\\\\"type\\\\\\\\\\\\\\\": 2, \\\\\\\\\\\\\\\"details\\\\\\\\\\\\\\\": {\\\\\\\\\\\\\\\"selectedColumn\\\\\\\\\\\\\\\": \\\\\\\\\\\\\\\"HLA_match_8/10\\\\\\\\\\\\\\\"}}, \\\\\\\\\\\\\\\"typeProperty\\\\\\\\\\\\\\\": 2}, {\\\\\\\\\\\\\\\"column\\\\\\\\\\\\\\\": {\\\\\\\\\\\\\\\"type\\\\\\\\\\\\\\\": 2, \\\\\\\\\\\\\\\"details\\\\\\\\\\\\\\\": {\\\\\\\\\\\\\\\"selectedColumn\\\\\\\\\\\\\\\": \\\\\\\\\\\\\\\"HLA_match_9/10\\\\\\\\\\\\\\\"}}, \\\\\\\\\\\\\\\"typeProperty\\\\\\\\\\\\\\\": 2}, {\\\\\\\\\\\\\\\"column\\\\\\\\\\\\\\\": {\\\\\\\\\\\\\\\"type\\\\\\\\\\\\\\\": 2, \\\\\\\\\\\\\\\"details\\\\\\\\\\\\\\\": {\\\\\\\\\\\\\\\"selectedColumn\\\\\\\\\\\\\\\": \\\\\\\\\\\\\\\"antigen_0\\\\\\\\\\\\\\\"}}, \\\\\\\\\\\\\\\"typeProperty\\\\\\\\\\\\\\\": 2}, {\\\\\\\\\\\\\\\"column\\\\\\\\\\\\\\\": {\\\\\\\\\\\\\\\"type\\\\\\\\\\\\\\\": 2, \\\\\\\\\\\\\\\"details\\\\\\\\\\\\\\\": {\\\\\\\\\\\\\\\"selectedColumn\\\\\\\\\\\\\\\": \\\\\\\\\\\\\\\"antigen_1\\\\\\\\\\\\\\\"}}, \\\\\\\\\\\\\\\"typeProperty\\\\\\\\\\\\\\\": 2}, {\\\\\\\\\\\\\\\"column\\\\\\\\\\\\\\\": {\\\\\\\\\\\\\\\"type\\\\\\\\\\\\\\\": 2, \\\\\\\\\\\\\\\"details\\\\\\\\\\\\\\\": {\\\\\\\\\\\\\\\"selectedColumn\\\\\\\\\\\\\\\": \\\\\\\\\\\\\\\"antigen_2\\\\\\\\\\\\\\\"}}, \\\\\\\\\\\\\\\"typeProperty\\\\\\\\\\\\\\\": 2}, {\\\\\\\\\\\\\\\"column\\\\\\\\\\\\\\\": {\\\\\\\\\\\\\\\"type\\\\\\\\\\\\\\\": 2, \\\\\\\\\\\\\\\"details\\\\\\\\\\\\\\\": {\\\\\\\\\\\\\\\"selectedColumn\\\\\\\\\\\\\\\": \\\\\\\\\\\\\\\"antigen_3\\\\\\\\\\\\\\\"}}, \\\\\\\\\\\\\\\"typeProperty\\\\\\\\\\\\\\\": 2}, {\\\\\\\\\\\\\\\"column\\\\\\\\\\\\\\\": {\\\\\\\\\\\\\\\"type\\\\\\\\\\\\\\\": 2, \\\\\\\\\\\\\\\"details\\\\\\\\\\\\\\\": {\\\\\\\\\\\\\\\"selectedColumn\\\\\\\\\\\\\\\": \\\\\\\\\\\\\\\"allel_0\\\\\\\\\\\\\\\"}}, \\\\\\\\\\\\\\\"typeProperty\\\\\\\\\\\\\\\": 2}, {\\\\\\\\\\\\\\\"column\\\\\\\\\\\\\\\": {\\\\\\\\\\\\\\\"type\\\\\\\\\\\\\\\": 2, \\\\\\\\\\\\\\\"details\\\\\\\\\\\\\\\": {\\\\\\\\\\\\\\\"selectedColumn\\\\\\\\\\\\\\\": \\\\\\\\\\\\\\\"allel_1\\\\\\\\\\\\\\\"}}, \\\\\\\\\\\\\\\"typeProperty\\\\\\\\\\\\\\\": 2}, {\\\\\\\\\\\\\\\"column\\\\\\\\\\\\\\\": {\\\\\\\\\\\\\\\"type\\\\\\\\\\\\\\\": 2, \\\\\\\\\\\\\\\"details\\\\\\\\\\\\\\\": {\\\\\\\\\\\\\\\"selectedColumn\\\\\\\\\\\\\\\": \\\\\\\\\\\\\\\"allel_2\\\\\\\\\\\\\\\"}}, \\\\\\\\\\\\\\\"typeProperty\\\\\\\\\\\\\\\": 2}, {\\\\\\\\\\\\\\\"column\\\\\\\\\\\\\\\": {\\\\\\\\\\\\\\\"type\\\\\\\\\\\\\\\": 2, \\\\\\\\\\\\\\\"details\\\\\\\\\\\\\\\": {\\\\\\\\\\\\\\\"selectedColumn\\\\\\\\\\\\\\\": \\\\\\\\\\\\\\\"allel_3\\\\\\\\\\\\\\\"}}, \\\\\\\\\\\\\\\"typeProperty\\\\\\\\\\\\\\\": 2}, {\\\\\\\\\\\\\\\"column\\\\\\\\\\\\\\\": {\\\\\\\\\\\\\\\"type\\\\\\\\\\\\\\\": 2, \\\\\\\\\\\\\\\"details\\\\\\\\\\\\\\\": {\\\\\\\\\\\\\\\"selectedColumn\\\\\\\\\\\\\\\": \\\\\\\\\\\\\\\"allel_4\\\\\\\\\\\\\\\"}}, \\\\\\\\\\\\\\\"typeProperty\\\\\\\\\\\\\\\": 2}, {\\\\\\\\\\\\\\\"column\\\\\\\\\\\\\\\": {\\\\\\\\\\\\\\\"type\\\\\\\\\\\\\\\": 2, \\\\\\\\\\\\\\\"details\\\\\\\\\\\\\\\": {\\\\\\\\\\\\\\\"selectedColumn\\\\\\\\\\\\\\\": \\\\\\\\\\\\\\\"HLA_group_1_DRB1_cell\\\\\\\\\\\\\\\"}}, \\\\\\\\\\\\\\\"typeProperty\\\\\\\\\\\\\\\": 2}, {\\\\\\\\\\\\\\\"column\\\\\\\\\\\\\\\": {\\\\\\\\\\\\\\\"type\\\\\\\\\\\\\\\": 2, \\\\\\\\\\\\\\\"details\\\\\\\\\\\\\\\": {\\\\\\\\\\\\\\\"selectedColumn\\\\\\\\\\\\\\\": \\\\\\\\\\\\\\\"HLA_group_1_matched\\\\\\\\\\\\\\\"}}, \\\\\\\\\\\\\\\"typeProperty\\\\\\\\\\\\\\\": 2}, {\\\\\\\\\\\\\\\"column\\\\\\\\\\\\\\\": {\\\\\\\\\\\\\\\"type\\\\\\\\\\\\\\\": 2, \\\\\\\\\\\\\\\"details\\\\\\\\\\\\\\\": {\\\\\\\\\\\\\\\"selectedColumn\\\\\\\\\\\\\\\": \\\\\\\\\\\\\\\"HLA_group_1_mismatched\\\\\\\\\\\\\\\"}}, \\\\\\\\\\\\\\\"typeProperty\\\\\\\\\\\\\\\": 2}, {\\\\\\\\\\\\\\\"column\\\\\\\\\\\\\\\": {\\\\\\\\\\\\\\\"type\\\\\\\\\\\\\\\": 2, \\\\\\\\\\\\\\\"details\\\\\\\\\\\\\\\": {\\\\\\\\\\\\\\\"selectedColumn\\\\\\\\\\\\\\\": \\\\\\\\\\\\\\\"HLA_group_1_one_allel\\\\\\\\\\\\\\\"}}, \\\\\\\\\\\\\\\"typeProperty\\\\\\\\\\\\\\\": 2}, {\\\\\\\\\\\\\\\"column\\\\\\\\\\\\\\\": {\\\\\\\\\\\\\\\"type\\\\\\\\\\\\\\\": 2, \\\\\\\\\\\\\\\"details\\\\\\\\\\\\\\\": {\\\\\\\\\\\\\\\"selectedColumn\\\\\\\\\\\\\\\": \\\\\\\\\\\\\\\"HLA_group_1_one_antigen\\\\\\\\\\\\\\\"}}, \\\\\\\\\\\\\\\"typeProperty\\\\\\\\\\\\\\\": 2}, {\\\\\\\\\\\\\\\"column\\\\\\\\\\\\\\\": {\\\\\\\\\\\\\\\"type\\\\\\\\\\\\\\\": 2, \\\\\\\\\\\\\\\"details\\\\\\\\\\\\\\\": {\\\\\\\\\\\\\\\"selectedColumn\\\\\\\\\\\\\\\": \\\\\\\\\\\\\\\"HLA_group_1_three_diffs\\\\\\\\\\\\\\\"}}, \\\\\\\\\\\\\\\"typeProperty\\\\\\\\\\\\\\\": 2}, {\\\\\\\\\\\\\\\"column\\\\\\\\\\\\\\\": {\\\\\\\\\\\\\\\"type\\\\\\\\\\\\\\\": 2, \\\\\\\\\\\\\\\"details\\\\\\\\\\\\\\\": {\\\\\\\\\\\\\\\"selectedColumn\\\\\\\\\\\\\\\": \\\\\\\\\\\\\\\"HLA_group_1_two_diffs\\\\\\\\\\\\\\\"}}, \\\\\\\\\\\\\\\"typeProperty\\\\\\\\\\\\\\\": 2}, {\\\\\\\\\\\\\\\"column\\\\\\\\\\\\\\\": {\\\\\\\\\\\\\\\"type\\\\\\\\\\\\\\\": 2, \\\\\\\\\\\\\\\"details\\\\\\\\\\\\\\\": {\\\\\\\\\\\\\\\"selectedColumn\\\\\\\\\\\\\\\": \\\\\\\\\\\\\\\"survival_status\\\\\\\\\\\\\\\"}}, \\\\\\\\\\\\\\\"typeProperty\\\\\\\\\\\\\\\": 2}]}, \\\\\\\\\\\\\\\"localData\\\\\\\\\\\\\\\": {}, \\\\\\\\\\\\\\\"isEnabled\\\\\\\\\\\\\\\": true, \\\\\\\\\\\\\\\"name\\\\\\\\\\\\\\\": null, \\\\\\\\\\\\\\\"annotation\\\\\\\\\\\\\\\": null}], \\\\\\\\\\\\\\\"inspectors\\\\\\\\\\\\\\\": [], \\\\\\\\\\\\\\\"meta\\\\\\\\\\\\\\\": {\\\\\\\\\\\\\\\"savedDatasetId\\\\\\\\\\\\\\\": \\\\\\\\\\\\\\\"245d6fe1-08d3-4184-aee2-abbe0a7a5002\\\\\\\\\\\\\\\", \\\\\\\\\\\\\\\"datasetType\\\\\\\\\\\\\\\": \\\\\\\\\\\\\\\"tabular\\\\\\\\\\\\\\\", \\\\\\\\\\\\\\\"subscriptionId\\\\\\\\\\\\\\\": \\\\\\\\\\\\\\\"f39cb977-6a3a-445b-a26a-b9a791c5fd89\\\\\\\\\\\\\\\", \\\\\\\\\\\\\\\"workspaceId\\\\\\\\\\\\\\\": \\\\\\\\\\\\\\\"3926bc7f-79db-44a2-b6d0-2714b929da11\\\\\\\\\\\\\\\", \\\\\\\\\\\\\\\"workspaceLocation\\\\\\\\\\\\\\\": \\\\\\\\\\\\\\\"southcentralus\\\\\\\\\\\\\\\"}}\\\\\\\", \\\\\\\"activities\\\\\\\": 0}\", \"EnableSubsampling\": \"False\", \"runTemplate\": \"AutoML\", \"azureml.runsource\": \"automl\", \"display_task_type\": \"classification\", \"dependencies_versions\": \"{\\\"azureml-widgets\\\": \\\"1.18.0\\\", \\\"azureml-train\\\": \\\"1.18.0\\\", \\\"azureml-train-restclients-hyperdrive\\\": \\\"1.18.0\\\", \\\"azureml-train-core\\\": \\\"1.18.0\\\", \\\"azureml-train-automl\\\": \\\"1.18.0\\\", \\\"azureml-train-automl-runtime\\\": \\\"1.18.0\\\", \\\"azureml-train-automl-client\\\": \\\"1.18.0\\\", \\\"azureml-tensorboard\\\": \\\"1.18.0\\\", \\\"azureml-telemetry\\\": \\\"1.18.0\\\", \\\"azureml-sdk\\\": \\\"1.18.0\\\", \\\"azureml-samples\\\": \\\"0+unknown\\\", \\\"azureml-pipeline\\\": \\\"1.18.0\\\", \\\"azureml-pipeline-steps\\\": \\\"1.18.0\\\", \\\"azureml-pipeline-core\\\": \\\"1.18.0\\\", \\\"azureml-opendatasets\\\": \\\"1.18.0\\\", \\\"azureml-model-management-sdk\\\": \\\"1.0.1b6.post1\\\", \\\"azureml-mlflow\\\": \\\"1.18.0\\\", \\\"azureml-interpret\\\": \\\"1.18.0\\\", \\\"azureml-explain-model\\\": \\\"1.18.0\\\", \\\"azureml-defaults\\\": \\\"1.18.0\\\", \\\"azureml-dataset-runtime\\\": \\\"1.18.0\\\", \\\"azureml-dataprep\\\": \\\"2.4.2\\\", \\\"azureml-dataprep-rslex\\\": \\\"1.2.2\\\", \\\"azureml-dataprep-native\\\": \\\"24.0.0\\\", \\\"azureml-datadrift\\\": \\\"1.18.0\\\", \\\"azureml-core\\\": \\\"1.18.0\\\", \\\"azureml-contrib-services\\\": \\\"1.18.0\\\", \\\"azureml-contrib-server\\\": \\\"1.18.0\\\", \\\"azureml-contrib-reinforcementlearning\\\": \\\"1.18.0\\\", \\\"azureml-contrib-pipeline-steps\\\": \\\"1.18.0\\\", \\\"azureml-contrib-notebook\\\": \\\"1.18.0\\\", \\\"azureml-contrib-interpret\\\": \\\"1.18.0\\\", \\\"azureml-contrib-gbdt\\\": \\\"1.18.0\\\", \\\"azureml-contrib-fairness\\\": \\\"1.18.0\\\", \\\"azureml-contrib-dataset\\\": \\\"1.18.0\\\", \\\"azureml-cli-common\\\": \\\"1.18.0\\\", \\\"azureml-automl-runtime\\\": \\\"1.18.0\\\", \\\"azureml-automl-core\\\": \\\"1.18.0\\\", \\\"azureml-accel-models\\\": \\\"1.18.0\\\"}\", \"_aml_system_scenario_identification\": \"Remote.Parent\", \"ClientType\": \"SDK\", \"environment_cpu_name\": \"AzureML-AutoML\", \"environment_cpu_version\": \"44\", \"environment_gpu_name\": \"AzureML-AutoML-GPU\", \"environment_gpu_version\": \"32\", \"root_attribution\": \"automl\", \"attribution\": \"AutoML\", \"Orchestrator\": \"AutoML\", \"CancelUri\": \"https://southcentralus.experiments.azureml.net/jasmine/v1.0/subscriptions/f39cb977-6a3a-445b-a26a-b9a791c5fd89/resourceGroups/aml-quickstarts-127950/providers/Microsoft.MachineLearningServices/workspaces/quick-starts-ws-127950/experimentids/57573b45-6665-4a07-a926-afc6eebba54d/cancel/AutoML_9a799cff-d460-4b65-a8e8-a9ad332b6707\", \"ClientSdkVersion\": \"1.17.0\", \"snapshotId\": \"00000000-0000-0000-0000-000000000000\", \"SetupRunId\": \"AutoML_9a799cff-d460-4b65-a8e8-a9ad332b6707_setup\", \"SetupRunContainerId\": \"dcid.AutoML_9a799cff-d460-4b65-a8e8-a9ad332b6707_setup\", \"FeaturizationRunJsonPath\": \"featurizer_container.json\", \"FeaturizationRunId\": \"AutoML_9a799cff-d460-4b65-a8e8-a9ad332b6707_featurize\", \"ProblemInfoJsonString\": \"{\\\"dataset_num_categorical\\\": 0, \\\"is_sparse\\\": false, \\\"subsampling\\\": false, \\\"dataset_classes\\\": 2, \\\"dataset_features\\\": 69, \\\"dataset_samples\\\": 104, \\\"single_frequency_class_detected\\\": false}\", \"ModelExplainRunId\": \"AutoML_9a799cff-d460-4b65-a8e8-a9ad332b6707_ModelExplain\"}, \"tags\": {\"model_explain_run\": \"best_run\", \"_aml_system_azureml.automlComponent\": \"AutoML\", \"pipeline_id\": \"<f873311e8cfb2bcdbeb6c20367cf912f4ee6733e>;<c7af0367625be6ac5c2fecbfc72ed444cb7a2111>;<5dfac790c5c209f98a1da2dc1c7fb76f0397324f>;<cf1dc9b7ea4a50d759bce352343ec6737501695a>;<62c0e30b2e9113b3ecd95bcf5b31423c72074070>;<47dd667bb7c34b68c9fffa6fd580565b1f85400f>;<b19eeb61727e9c4fbb5aa45fb6e9fe3fab5b1f04>;<713f188a27b176644f73e8664c667c674a2d3d62>;<9e3f4780268658ad403e896559a8d3406152018c>;<e81d621ed176e5fac9def492d4ac54f304146b7c>;<59e4a1b86a57dfaeac5f3a051de6155ffc74f55b>;<a2983da01504b121cc4056d933a1191b51be87bc>;<a91f8b94ae9bf0dfc66e93d29d1ef41b7e2687f2>;<52ac74da744a165756acc49238b34b81115532fd>;<4d4be808b8b6dd0f67e8354c79eddd3d712440a5>;<8de8c085d2a4b23d3f4cc392a2f2660d23d38c14>;<80d7fafc6227885ab86e843212a0c5ea47a69004>;<19bb9b610818186383462e6b1f9b568bc04b93e9>;<d8d1a28b70a271fc16185d8e06b7faeee4bdd817>;<9fd7f177a78effac65f3f97ae40ca91e296c3f10>;<f86e0c37319548491774cfe027df9161ae6eecd2>;<9845a0ba1345a7474c237d10111bcf5bccbb1f0e>;<ce2643edf3d450b10c86c7d034a9bc952dc282d3>;<51ae05309834b29f71340af1008fc94fbd8213f4>;<bc9206626b500d75953081471497ef8df99a5b5f>;<be1ef63576c9bf239084ecda182b48071c3c26e3>;<37452a43c88db304a03070733533c0390b959001>;<adf88c245fccd90cff054b0559cb3f18c133bb49>;<__AutoML_Stack_Ensemble__>;<__AutoML_Ensemble__>;\", \"score\": \"<0.6338095238095238>;<0.6823809523809523>;<0.6257142857142857>;<0.6638095238095237>;<0.6438095238095239>;<0.6242857142857142>;<0.6438095238095237>;<0.6052380952380952>;<0.6142857142857143>;<0.6047619047619047>;<0.6347619047619047>;<0.5847619047619047>;<0.7128571428571429>;<0.6042857142857143>;<0.6728571428571428>;<0.6242857142857142>;<0.7114285714285714>;<0.6247619047619047>;<0.6061904761904762>;<0.6142857142857142>;<0.6723809523809524>;<0.6528571428571428>;<0.5976190476190476>;<0.6247619047619047>;<0.6142857142857143>;<0.6819047619047619>;<0.3252380952380952>;<0.6547619047619049>;<0.6728571428571428>;<0.740952380952381>;\", \"predicted_cost\": \"<0.5>;<0>;<0>;<0.5>;<0.011522278910252622>;<0.0058730000000000015>;<0.0058730000000000015>;<0.0058730000000000015>;<0.020436321053115266>;<0.005109805779610788>;<0.007936763808352686>;<0.004514368595735517>;<0.005936209601344592>;<0.026174706678219493>;<0.01609297490472087>;<0.0164943239048422>;<0.016899968783820222>;<0.004854829177805098>;<0.022498487069490047>;<0.023268059052253806>;<0.0207122113934833>;<0.022861098296726407>;<0.027219352641163944>;<0.024292044704917724>;<0.0036963832971614588>;<0.02183740339093544>;<0.005401768237958935>;<0.03316945181410477>;<0>;<0>;\", \"fit_time\": \"<0.005873>;<0.04337339999999999>;<0.018863799999999997>;<0.014287>;<0.056112800000000004>;<0.0037426>;<0.0214664>;<0.014982600000000002>;<0.039712000000000004>;<0.0030228000000000004>;<0.012372600000000001>;<0.004146>;<0.018325799999999996>;<0.0566848>;<0.04787620000000001>;<0.021461799999999996>;<0.018551599999999998>;<0.0037402000000000004>;<0.049758>;<0.0350226>;<0.0177106>;<0.049079>;<0.0175902>;<0.015523399999999998>;<0.0028572>;<0.09840560000000001>;<0.0035949999999999997>;<0.9436456>;<26>;<26>;\", \"training_percent\": \"<100>;<100>;<100>;<100>;<100>;<100>;<100>;<100>;<100>;<100>;<100>;<100>;<100>;<100>;<100>;<100>;<100>;<100>;<100>;<100>;<100>;<100>;<100>;<100>;<100>;<100>;<100>;<100>;<100>;<100>;\", \"iteration\": \"<3>;<1>;<0>;<2>;<7>;<5>;<4>;<6>;<8>;<9>;<10>;<11>;<13>;<12>;<15>;<14>;<17>;<18>;<16>;<19>;<20>;<21>;<22>;<23>;<24>;<26>;<25>;<27>;<29>;<28>;\", \"run_preprocessor\": \"<StandardScalerWrapper>;<MaxAbsScaler>;<MaxAbsScaler>;<MinMaxScaler>;<RobustScaler>;<StandardScalerWrapper>;<MinMaxScaler>;<StandardScalerWrapper>;<StandardScalerWrapper>;<StandardScalerWrapper>;<StandardScalerWrapper>;<MinMaxScaler>;<MinMaxScaler>;<RobustScaler>;<MinMaxScaler>;<MinMaxScaler>;<StandardScalerWrapper>;<StandardScalerWrapper>;<MinMaxScaler>;<RobustScaler>;<StandardScalerWrapper>;<MinMaxScaler>;<MaxAbsScaler>;<MaxAbsScaler>;<MaxAbsScaler>;<MinMaxScaler>;<SparseNormalizer>;<MinMaxScaler>;<>;<>;\", \"run_algorithm\": \"<SGD>;<XGBoostClassifier>;<LightGBM>;<RandomForest>;<ExtremeRandomTrees>;<SGD>;<RandomForest>;<RandomForest>;<ExtremeRandomTrees>;<SGD>;<SGD>;<SGD>;<SGD>;<ExtremeRandomTrees>;<ExtremeRandomTrees>;<ExtremeRandomTrees>;<RandomForest>;<SGD>;<ExtremeRandomTrees>;<ExtremeRandomTrees>;<RandomForest>;<ExtremeRandomTrees>;<RandomForest>;<ExtremeRandomTrees>;<SGD>;<RandomForest>;<SGD>;<RandomForest>;<StackEnsemble>;<VotingEnsemble>;\", \"dynamic_whitelisting_iterations\": \"<25>;\", \"automl_best_child_run_id\": \"AutoML_9a799cff-d460-4b65-a8e8-a9ad332b6707_28\", \"model_explain_best_run_child_id\": \"AutoML_9a799cff-d460-4b65-a8e8-a9ad332b6707_28\"}, \"end_time_utc\": \"2020-11-26T08:36:49.431019Z\", \"status\": \"Completed\", \"log_files\": {}, \"log_groups\": [], \"run_duration\": \"0:26:06\"}, \"child_runs\": [{\"run_id\": \"AutoML_9a799cff-d460-4b65-a8e8-a9ad332b6707_1\", \"run_number\": 5, \"metric\": null, \"status\": \"Completed\", \"run_type\": \"azureml.scriptrun\", \"training_percent\": \"100\", \"start_time\": \"2020-11-26T08:21:15.268567Z\", \"end_time\": \"2020-11-26T08:22:02.218164Z\", \"created_time\": \"2020-11-26T08:19:58.837506Z\", \"created_time_dt\": \"2020-11-26T08:19:58.837506Z\", \"duration\": \"0:02:03\", \"iteration\": \"1\", \"goal\": \"accuracy_max\", \"run_name\": \"MaxAbsScaler, XGBoostClassifier\", \"run_properties\": \"copy=True\", \"primary_metric\": 0.68238095, \"best_metric\": 0.68238095}, {\"run_id\": \"AutoML_9a799cff-d460-4b65-a8e8-a9ad332b6707_2\", \"run_number\": 6, \"metric\": null, \"status\": \"Completed\", \"run_type\": \"azureml.scriptrun\", \"training_percent\": \"100\", \"start_time\": \"2020-11-26T08:23:44.529415Z\", \"end_time\": \"2020-11-26T08:24:34.452771Z\", \"created_time\": \"2020-11-26T08:19:58.968903Z\", \"created_time_dt\": \"2020-11-26T08:19:58.968903Z\", \"duration\": \"0:04:35\", \"iteration\": \"2\", \"goal\": \"accuracy_max\", \"run_name\": \"MinMaxScaler, RandomForest\", \"run_properties\": \"copy=True, feature_range=(0, 1\", \"primary_metric\": 0.66380952, \"best_metric\": 0.68238095}, {\"run_id\": \"AutoML_9a799cff-d460-4b65-a8e8-a9ad332b6707_3\", \"run_number\": 7, \"metric\": null, \"status\": \"Completed\", \"run_type\": \"azureml.scriptrun\", \"training_percent\": \"100\", \"start_time\": \"2020-11-26T08:20:10.307677Z\", \"end_time\": \"2020-11-26T08:20:55.122915Z\", \"created_time\": \"2020-11-26T08:19:58.999876Z\", \"created_time_dt\": \"2020-11-26T08:19:58.999876Z\", \"duration\": \"0:00:56\", \"iteration\": \"3\", \"goal\": \"accuracy_max\", \"run_name\": \"StandardScalerWrapper, SGD\", \"run_properties\": \"<azureml.automl.runtime.shared.model_wrappers.StandardScalerWrapper object at 0x7fc51065c668\", \"primary_metric\": 0.63380952, \"best_metric\": 0.68238095}, {\"run_id\": \"AutoML_9a799cff-d460-4b65-a8e8-a9ad332b6707_0\", \"run_number\": 8, \"metric\": null, \"status\": \"Completed\", \"run_type\": \"azureml.scriptrun\", \"training_percent\": \"100\", \"start_time\": \"2020-11-26T08:22:28.658172Z\", \"end_time\": \"2020-11-26T08:23:18.706413Z\", \"created_time\": \"2020-11-26T08:19:59.026648Z\", \"created_time_dt\": \"2020-11-26T08:19:59.026648Z\", \"duration\": \"0:03:19\", \"iteration\": \"0\", \"goal\": \"accuracy_max\", \"run_name\": \"MaxAbsScaler, LightGBM\", \"run_properties\": \"copy=True\", \"primary_metric\": 0.62571429, \"best_metric\": 0.62571429}, {\"run_id\": \"AutoML_9a799cff-d460-4b65-a8e8-a9ad332b6707_4\", \"run_number\": 9, \"metric\": null, \"status\": \"Completed\", \"run_type\": \"azureml.scriptrun\", \"training_percent\": \"100\", \"start_time\": \"2020-11-26T08:23:58.430684Z\", \"end_time\": \"2020-11-26T08:27:12.253462Z\", \"created_time\": \"2020-11-26T08:20:57.723856Z\", \"created_time_dt\": \"2020-11-26T08:20:57.723856Z\", \"duration\": \"0:06:14\", \"iteration\": \"4\", \"goal\": \"accuracy_max\", \"run_name\": \"MinMaxScaler, RandomForest\", \"run_properties\": \"copy=True, feature_range=(0, 1\", \"primary_metric\": 0.64380952, \"best_metric\": 0.68238095}, {\"run_id\": \"AutoML_9a799cff-d460-4b65-a8e8-a9ad332b6707_5\", \"run_number\": 10, \"metric\": null, \"status\": \"Completed\", \"run_type\": \"azureml.scriptrun\", \"training_percent\": \"100\", \"start_time\": \"2020-11-26T08:23:55.504397Z\", \"end_time\": \"2020-11-26T08:27:12.972767Z\", \"created_time\": \"2020-11-26T08:22:12.042925Z\", \"created_time_dt\": \"2020-11-26T08:22:12.042925Z\", \"duration\": \"0:05:00\", \"iteration\": \"5\", \"goal\": \"accuracy_max\", \"run_name\": \"StandardScalerWrapper, SGD\", \"run_properties\": \"<azureml.automl.runtime.shared.model_wrappers.StandardScalerWrapper object at 0x7fc7e86924e0\", \"primary_metric\": 0.62428571, \"best_metric\": 0.68238095}, {\"run_id\": \"AutoML_9a799cff-d460-4b65-a8e8-a9ad332b6707_6\", \"run_number\": 11, \"metric\": null, \"status\": \"Completed\", \"run_type\": \"azureml.scriptrun\", \"training_percent\": \"100\", \"start_time\": \"2020-11-26T08:24:00.012477Z\", \"end_time\": \"2020-11-26T08:27:25.317686Z\", \"created_time\": \"2020-11-26T08:23:31.83163Z\", \"created_time_dt\": \"2020-11-26T08:23:31.83163Z\", \"duration\": \"0:03:53\", \"iteration\": \"6\", \"goal\": \"accuracy_max\", \"run_name\": \"StandardScalerWrapper, RandomForest\", \"run_properties\": \"<azureml.automl.runtime.shared.model_wrappers.StandardScalerWrapper object at 0x7f39b31d1320\", \"primary_metric\": 0.6052381, \"best_metric\": 0.68238095}, {\"run_id\": \"AutoML_9a799cff-d460-4b65-a8e8-a9ad332b6707_7\", \"run_number\": 12, \"metric\": null, \"status\": \"Completed\", \"run_type\": \"azureml.scriptrun\", \"training_percent\": \"100\", \"start_time\": \"2020-11-26T08:24:59.221518Z\", \"end_time\": \"2020-11-26T08:25:49.270396Z\", \"created_time\": \"2020-11-26T08:24:39.844056Z\", \"created_time_dt\": \"2020-11-26T08:24:39.844056Z\", \"duration\": \"0:01:09\", \"iteration\": \"7\", \"goal\": \"accuracy_max\", \"run_name\": \"RobustScaler, ExtremeRandomTrees\", \"run_properties\": \"copy=True, quantile_range=[10, 90], with_centering=False,\\n             with_scaling=False\", \"primary_metric\": 0.64380952, \"best_metric\": 0.68238095}, {\"run_id\": \"AutoML_9a799cff-d460-4b65-a8e8-a9ad332b6707_8\", \"run_number\": 13, \"metric\": null, \"status\": \"Completed\", \"run_type\": \"azureml.scriptrun\", \"training_percent\": \"100\", \"start_time\": \"2020-11-26T08:27:20.161029Z\", \"end_time\": \"2020-11-26T08:28:02.850708Z\", \"created_time\": \"2020-11-26T08:25:52.341347Z\", \"created_time_dt\": \"2020-11-26T08:25:52.341347Z\", \"duration\": \"0:02:10\", \"iteration\": \"8\", \"goal\": \"accuracy_max\", \"run_name\": \"StandardScalerWrapper, ExtremeRandomTrees\", \"run_properties\": \"<azureml.automl.runtime.shared.model_wrappers.StandardScalerWrapper object at 0x7fcfb1550da0\", \"primary_metric\": 0.61428571, \"best_metric\": 0.68238095}, {\"run_id\": \"AutoML_9a799cff-d460-4b65-a8e8-a9ad332b6707_9\", \"run_number\": 14, \"metric\": null, \"status\": \"Completed\", \"run_type\": \"azureml.scriptrun\", \"training_percent\": \"100\", \"start_time\": \"2020-11-26T08:27:57.510216Z\", \"end_time\": \"2020-11-26T08:28:24.805332Z\", \"created_time\": \"2020-11-26T08:27:25.767637Z\", \"created_time_dt\": \"2020-11-26T08:27:25.767637Z\", \"duration\": \"0:00:59\", \"iteration\": \"9\", \"goal\": \"accuracy_max\", \"run_name\": \"StandardScalerWrapper, SGD\", \"run_properties\": \"<azureml.automl.runtime.shared.model_wrappers.StandardScalerWrapper object at 0x7fc47cb5a400\", \"primary_metric\": 0.6047619, \"best_metric\": 0.68238095}, {\"run_id\": \"AutoML_9a799cff-d460-4b65-a8e8-a9ad332b6707_10\", \"run_number\": 15, \"metric\": null, \"status\": \"Completed\", \"run_type\": \"azureml.scriptrun\", \"training_percent\": \"100\", \"start_time\": \"2020-11-26T08:28:04.208144Z\", \"end_time\": \"2020-11-26T08:28:44.511575Z\", \"created_time\": \"2020-11-26T08:27:25.792229Z\", \"created_time_dt\": \"2020-11-26T08:27:25.792229Z\", \"duration\": \"0:01:18\", \"iteration\": \"10\", \"goal\": \"accuracy_max\", \"run_name\": \"StandardScalerWrapper, SGD\", \"run_properties\": \"<azureml.automl.runtime.shared.model_wrappers.StandardScalerWrapper object at 0x7fc6db7fa438\", \"primary_metric\": 0.6347619, \"best_metric\": 0.68238095}, {\"run_id\": \"AutoML_9a799cff-d460-4b65-a8e8-a9ad332b6707_11\", \"run_number\": 16, \"metric\": null, \"status\": \"Completed\", \"run_type\": \"azureml.scriptrun\", \"training_percent\": \"100\", \"start_time\": \"2020-11-26T08:28:05.96566Z\", \"end_time\": \"2020-11-26T08:28:39.385348Z\", \"created_time\": \"2020-11-26T08:27:45.380712Z\", \"created_time_dt\": \"2020-11-26T08:27:45.380712Z\", \"duration\": \"0:00:54\", \"iteration\": \"11\", \"goal\": \"accuracy_max\", \"run_name\": \"MinMaxScaler, SGD\", \"run_properties\": \"copy=True, feature_range=(0, 1\", \"primary_metric\": 0.5847619, \"best_metric\": 0.68238095}, {\"run_id\": \"AutoML_9a799cff-d460-4b65-a8e8-a9ad332b6707_12\", \"run_number\": 17, \"metric\": null, \"status\": \"Completed\", \"run_type\": \"azureml.scriptrun\", \"training_percent\": \"100\", \"start_time\": \"2020-11-26T08:28:58.075766Z\", \"end_time\": \"2020-11-26T08:29:41.799921Z\", \"created_time\": \"2020-11-26T08:28:12.62267Z\", \"created_time_dt\": \"2020-11-26T08:28:12.62267Z\", \"duration\": \"0:01:29\", \"iteration\": \"12\", \"goal\": \"accuracy_max\", \"run_name\": \"RobustScaler, ExtremeRandomTrees\", \"run_properties\": \"copy=True, quantile_range=[10, 90], with_centering=False,\\n             with_scaling=False\", \"primary_metric\": 0.60428571, \"best_metric\": 0.68238095}, {\"run_id\": \"AutoML_9a799cff-d460-4b65-a8e8-a9ad332b6707_13\", \"run_number\": 18, \"metric\": null, \"status\": \"Completed\", \"run_type\": \"azureml.scriptrun\", \"training_percent\": \"100\", \"start_time\": \"2020-11-26T08:28:56.071298Z\", \"end_time\": \"2020-11-26T08:29:41.098711Z\", \"created_time\": \"2020-11-26T08:28:38.268858Z\", \"created_time_dt\": \"2020-11-26T08:28:38.268858Z\", \"duration\": \"0:01:02\", \"iteration\": \"13\", \"goal\": \"accuracy_max\", \"run_name\": \"MinMaxScaler, SGD\", \"run_properties\": \"copy=True, feature_range=(0, 1\", \"primary_metric\": 0.71285714, \"best_metric\": 0.71285714}, {\"run_id\": \"AutoML_9a799cff-d460-4b65-a8e8-a9ad332b6707_14\", \"run_number\": 19, \"metric\": null, \"status\": \"Completed\", \"run_type\": \"azureml.scriptrun\", \"training_percent\": \"100\", \"start_time\": \"2020-11-26T08:29:28.226021Z\", \"end_time\": \"2020-11-26T08:30:03.432836Z\", \"created_time\": \"2020-11-26T08:28:53.761896Z\", \"created_time_dt\": \"2020-11-26T08:28:53.761896Z\", \"duration\": \"0:01:09\", \"iteration\": \"14\", \"goal\": \"accuracy_max\", \"run_name\": \"MinMaxScaler, ExtremeRandomTrees\", \"run_properties\": \"copy=True, feature_range=(0, 1\", \"primary_metric\": 0.62428571, \"best_metric\": 0.71285714}, {\"run_id\": \"AutoML_9a799cff-d460-4b65-a8e8-a9ad332b6707_15\", \"run_number\": 20, \"metric\": null, \"status\": \"Completed\", \"run_type\": \"azureml.scriptrun\", \"training_percent\": \"100\", \"start_time\": \"2020-11-26T08:29:18.56044Z\", \"end_time\": \"2020-11-26T08:30:02.21705Z\", \"created_time\": \"2020-11-26T08:28:54.017157Z\", \"created_time_dt\": \"2020-11-26T08:28:54.017157Z\", \"duration\": \"0:01:08\", \"iteration\": \"15\", \"goal\": \"accuracy_max\", \"run_name\": \"MinMaxScaler, ExtremeRandomTrees\", \"run_properties\": \"copy=True, feature_range=(0, 1\", \"primary_metric\": 0.67285714, \"best_metric\": 0.71285714}, {\"run_id\": \"AutoML_9a799cff-d460-4b65-a8e8-a9ad332b6707_16\", \"run_number\": 21, \"metric\": null, \"status\": \"Completed\", \"run_type\": \"azureml.scriptrun\", \"training_percent\": \"100\", \"start_time\": \"2020-11-26T08:30:15.477158Z\", \"end_time\": \"2020-11-26T08:31:12.471881Z\", \"created_time\": \"2020-11-26T08:29:52.715663Z\", \"created_time_dt\": \"2020-11-26T08:29:52.715663Z\", \"duration\": \"0:01:19\", \"iteration\": \"16\", \"goal\": \"accuracy_max\", \"run_name\": \"MinMaxScaler, ExtremeRandomTrees\", \"run_properties\": \"copy=True, feature_range=(0, 1\", \"primary_metric\": 0.60619048, \"best_metric\": 0.71285714}, {\"run_id\": \"AutoML_9a799cff-d460-4b65-a8e8-a9ad332b6707_17\", \"run_number\": 22, \"metric\": null, \"status\": \"Completed\", \"run_type\": \"azureml.scriptrun\", \"training_percent\": \"100\", \"start_time\": \"2020-11-26T08:30:20.62001Z\", \"end_time\": \"2020-11-26T08:31:04.789949Z\", \"created_time\": \"2020-11-26T08:29:52.729959Z\", \"created_time_dt\": \"2020-11-26T08:29:52.729959Z\", \"duration\": \"0:01:12\", \"iteration\": \"17\", \"goal\": \"accuracy_max\", \"run_name\": \"StandardScalerWrapper, RandomForest\", \"run_properties\": \"<azureml.automl.runtime.shared.model_wrappers.StandardScalerWrapper object at 0x7fdc5f187b00\", \"primary_metric\": 0.71142857, \"best_metric\": 0.71285714}, {\"run_id\": \"AutoML_9a799cff-d460-4b65-a8e8-a9ad332b6707_18\", \"run_number\": 23, \"metric\": null, \"status\": \"Completed\", \"run_type\": \"azureml.scriptrun\", \"training_percent\": \"100\", \"start_time\": \"2020-11-26T08:30:31.295128Z\", \"end_time\": \"2020-11-26T08:31:19.594506Z\", \"created_time\": \"2020-11-26T08:30:18.737228Z\", \"created_time_dt\": \"2020-11-26T08:30:18.737228Z\", \"duration\": \"0:01:00\", \"iteration\": \"18\", \"goal\": \"accuracy_max\", \"run_name\": \"StandardScalerWrapper, SGD\", \"run_properties\": \"<azureml.automl.runtime.shared.model_wrappers.StandardScalerWrapper object at 0x7f98f45a0c88\", \"primary_metric\": 0.6247619, \"best_metric\": 0.71285714}, {\"run_id\": \"AutoML_9a799cff-d460-4b65-a8e8-a9ad332b6707_19\", \"run_number\": 24, \"metric\": null, \"status\": \"Completed\", \"run_type\": \"azureml.scriptrun\", \"training_percent\": \"100\", \"start_time\": \"2020-11-26T08:30:39.82879Z\", \"end_time\": \"2020-11-26T08:31:25.619854Z\", \"created_time\": \"2020-11-26T08:30:18.899198Z\", \"created_time_dt\": \"2020-11-26T08:30:18.899198Z\", \"duration\": \"0:01:06\", \"iteration\": \"19\", \"goal\": \"accuracy_max\", \"run_name\": \"RobustScaler, ExtremeRandomTrees\", \"run_properties\": \"copy=True, quantile_range=[25, 75], with_centering=True,\\n             with_scaling=False\", \"primary_metric\": 0.61428571, \"best_metric\": 0.71285714}, {\"run_id\": \"AutoML_9a799cff-d460-4b65-a8e8-a9ad332b6707_20\", \"run_number\": 25, \"metric\": null, \"status\": \"Completed\", \"run_type\": \"azureml.scriptrun\", \"training_percent\": \"100\", \"start_time\": \"2020-11-26T08:31:30.933501Z\", \"end_time\": \"2020-11-26T08:32:20.880006Z\", \"created_time\": \"2020-11-26T08:31:07.903612Z\", \"created_time_dt\": \"2020-11-26T08:31:07.903612Z\", \"duration\": \"0:01:12\", \"iteration\": \"20\", \"goal\": \"accuracy_max\", \"run_name\": \"StandardScalerWrapper, RandomForest\", \"run_properties\": \"<azureml.automl.runtime.shared.model_wrappers.StandardScalerWrapper object at 0x7f3e100cbb70\", \"primary_metric\": 0.67238095, \"best_metric\": 0.71285714}, {\"run_id\": \"AutoML_9a799cff-d460-4b65-a8e8-a9ad332b6707_22\", \"run_number\": 26, \"metric\": null, \"status\": \"Completed\", \"run_type\": \"azureml.scriptrun\", \"training_percent\": \"100\", \"start_time\": \"2020-11-26T08:31:36.932279Z\", \"end_time\": \"2020-11-26T08:32:32.984339Z\", \"created_time\": \"2020-11-26T08:31:24.410527Z\", \"created_time_dt\": \"2020-11-26T08:31:24.410527Z\", \"duration\": \"0:01:08\", \"iteration\": \"22\", \"goal\": \"accuracy_max\", \"run_name\": \"MaxAbsScaler, RandomForest\", \"run_properties\": \"copy=True\", \"primary_metric\": 0.59761905, \"best_metric\": 0.71285714}, {\"run_id\": \"AutoML_9a799cff-d460-4b65-a8e8-a9ad332b6707_21\", \"run_number\": 27, \"metric\": null, \"status\": \"Completed\", \"run_type\": \"azureml.scriptrun\", \"training_percent\": \"100\", \"start_time\": \"2020-11-26T08:31:47.089033Z\", \"end_time\": \"2020-11-26T08:32:39.855982Z\", \"created_time\": \"2020-11-26T08:31:24.421431Z\", \"created_time_dt\": \"2020-11-26T08:31:24.421431Z\", \"duration\": \"0:01:15\", \"iteration\": \"21\", \"goal\": \"accuracy_max\", \"run_name\": \"MinMaxScaler, ExtremeRandomTrees\", \"run_properties\": \"copy=True, feature_range=(0, 1\", \"primary_metric\": 0.65285714, \"best_metric\": 0.71285714}, {\"run_id\": \"AutoML_9a799cff-d460-4b65-a8e8-a9ad332b6707_23\", \"run_number\": 28, \"metric\": null, \"status\": \"Completed\", \"run_type\": \"azureml.scriptrun\", \"training_percent\": \"100\", \"start_time\": \"2020-11-26T08:31:57.371775Z\", \"end_time\": \"2020-11-26T08:32:42.438063Z\", \"created_time\": \"2020-11-26T08:31:42.567842Z\", \"created_time_dt\": \"2020-11-26T08:31:42.567842Z\", \"duration\": \"0:00:59\", \"iteration\": \"23\", \"goal\": \"accuracy_max\", \"run_name\": \"MaxAbsScaler, ExtremeRandomTrees\", \"run_properties\": \"copy=True\", \"primary_metric\": 0.6247619, \"best_metric\": 0.71285714}, {\"run_id\": \"AutoML_9a799cff-d460-4b65-a8e8-a9ad332b6707_24\", \"run_number\": 29, \"metric\": null, \"status\": \"Completed\", \"run_type\": \"azureml.scriptrun\", \"training_percent\": \"100\", \"start_time\": \"2020-11-26T08:32:44.954774Z\", \"end_time\": \"2020-11-26T08:33:37.762637Z\", \"created_time\": \"2020-11-26T08:32:32.21448Z\", \"created_time_dt\": \"2020-11-26T08:32:32.21448Z\", \"duration\": \"0:01:05\", \"iteration\": \"24\", \"goal\": \"accuracy_max\", \"run_name\": \"MaxAbsScaler, SGD\", \"run_properties\": \"copy=True\", \"primary_metric\": 0.61428571, \"best_metric\": 0.71285714}, {\"run_id\": \"AutoML_9a799cff-d460-4b65-a8e8-a9ad332b6707_25\", \"run_number\": 30, \"metric\": null, \"status\": \"Completed\", \"run_type\": \"azureml.scriptrun\", \"training_percent\": \"100\", \"start_time\": \"2020-11-26T08:33:35.568911Z\", \"end_time\": \"2020-11-26T08:34:18.253265Z\", \"created_time\": \"2020-11-26T08:32:48.420352Z\", \"created_time_dt\": \"2020-11-26T08:32:48.420352Z\", \"duration\": \"0:01:29\", \"iteration\": \"25\", \"goal\": \"accuracy_max\", \"run_name\": \"SparseNormalizer, SGD\", \"run_properties\": \"<azureml.automl.runtime.shared.model_wrappers.SparseNormalizer object at 0x7ff90aff44e0\", \"primary_metric\": 0.3252381, \"best_metric\": 0.71285714}, {\"run_id\": \"AutoML_9a799cff-d460-4b65-a8e8-a9ad332b6707_26\", \"run_number\": 31, \"metric\": null, \"status\": \"Completed\", \"run_type\": \"azureml.scriptrun\", \"training_percent\": \"100\", \"start_time\": \"2020-11-26T08:34:25.378066Z\", \"end_time\": \"2020-11-26T08:35:06.789671Z\", \"created_time\": \"2020-11-26T08:32:48.426621Z\", \"created_time_dt\": \"2020-11-26T08:32:48.426621Z\", \"duration\": \"0:02:18\", \"iteration\": \"26\", \"goal\": \"accuracy_max\", \"run_name\": \"MinMaxScaler, RandomForest\", \"run_properties\": \"copy=True, feature_range=(0, 1\", \"primary_metric\": 0.68190476, \"best_metric\": 0.71285714}, {\"run_id\": \"AutoML_9a799cff-d460-4b65-a8e8-a9ad332b6707_27\", \"run_number\": 32, \"metric\": null, \"status\": \"Completed\", \"run_type\": \"azureml.scriptrun\", \"training_percent\": \"100\", \"start_time\": \"2020-11-26T08:33:29.138897Z\", \"end_time\": \"2020-11-26T08:33:49.773913Z\", \"created_time\": \"2020-11-26T08:32:48.568856Z\", \"created_time_dt\": \"2020-11-26T08:32:48.568856Z\", \"duration\": \"0:01:01\", \"iteration\": \"27\", \"goal\": \"accuracy_max\", \"run_name\": \"MinMaxScaler, RandomForest\", \"run_properties\": \"copy=True, feature_range=(0, 1\", \"primary_metric\": 0.6547619, \"best_metric\": 0.71285714}, {\"run_id\": \"AutoML_9a799cff-d460-4b65-a8e8-a9ad332b6707_28\", \"run_number\": 33, \"metric\": null, \"status\": \"Completed\", \"run_type\": \"azureml.scriptrun\", \"training_percent\": \"100\", \"start_time\": \"2020-11-26T08:35:38.312475Z\", \"end_time\": \"2020-11-26T08:36:42.36864Z\", \"created_time\": \"2020-11-26T08:35:11.062381Z\", \"created_time_dt\": \"2020-11-26T08:35:11.062381Z\", \"duration\": \"0:01:31\", \"iteration\": \"28\", \"goal\": \"accuracy_max\", \"run_name\": \"VotingEnsemble\", \"run_properties\": \"classification_labels=None,\\n                              estimators=[('13',\\n                                           Pipeline(memory=None,\\n                                                    steps=[('minmaxscaler',\\n                                                            MinMaxScaler(copy=True,\\n                                                                         feature_range=(0,\\n                                                                                        1\", \"primary_metric\": 0.74095238, \"best_metric\": 0.74095238}, {\"run_id\": \"AutoML_9a799cff-d460-4b65-a8e8-a9ad332b6707_29\", \"run_number\": 34, \"metric\": null, \"status\": \"Completed\", \"run_type\": \"azureml.scriptrun\", \"training_percent\": \"100\", \"start_time\": \"2020-11-26T08:35:37.72374Z\", \"end_time\": \"2020-11-26T08:36:42.172895Z\", \"created_time\": \"2020-11-26T08:35:11.084019Z\", \"created_time_dt\": \"2020-11-26T08:35:11.084019Z\", \"duration\": \"0:01:31\", \"iteration\": \"29\", \"goal\": \"accuracy_max\", \"run_name\": \"StackEnsemble\", \"run_properties\": \"base_learners=[('13',\\n                                        Pipeline(memory=None,\\n                                                 steps=[('minmaxscaler',\\n                                                         MinMaxScaler(copy=True,\\n                                                                      feature_range=(0,\\n                                                                                     1\", \"primary_metric\": 0.67285714, \"best_metric\": 0.74095238}], \"children_metrics\": {\"categories\": [0], \"series\": {\"recall_score_weighted\": [{\"categories\": [\"0\", \"1\", \"2\", \"3\", \"4\", \"5\", \"6\", \"7\", \"8\", \"9\", \"10\", \"11\", \"12\", \"13\", \"14\", \"15\", \"16\", \"17\", \"18\", \"19\", \"20\", \"21\", \"22\", \"23\", \"24\", \"25\", \"26\", \"27\", \"28\", \"29\"], \"mode\": \"markers\", \"name\": \"recall_score_weighted\", \"stepped\": false, \"type\": \"scatter\", \"data\": [0.6257142857142857, 0.6823809523809523, 0.6638095238095237, 0.6338095238095238, 0.6438095238095237, 0.6242857142857142, 0.6052380952380952, 0.6438095238095239, 0.6142857142857143, 0.6047619047619047, 0.6347619047619047, 0.5847619047619047, 0.6042857142857143, 0.7128571428571429, 0.6242857142857142, 0.6728571428571428, 0.6061904761904762, 0.7114285714285714, 0.6247619047619047, 0.6142857142857142, 0.6723809523809524, 0.6528571428571428, 0.5976190476190476, 0.6247619047619047, 0.6142857142857143, 0.3252380952380952, 0.6819047619047619, 0.6547619047619049, 0.740952380952381, 0.6728571428571428]}, {\"categories\": [\"0\", \"1\", \"2\", \"3\", \"4\", \"5\", \"6\", \"7\", \"8\", \"9\", \"10\", \"11\", \"12\", \"13\", \"14\", \"15\", \"16\", \"17\", \"18\", \"19\", \"20\", \"21\", \"22\", \"23\", \"24\", \"25\", \"26\", \"27\", \"28\", \"29\"], \"mode\": \"lines\", \"name\": \"recall_score_weighted_max\", \"stepped\": true, \"type\": \"scatter\", \"data\": [0.6257142857142857, 0.6823809523809523, 0.6823809523809523, 0.6823809523809523, 0.6823809523809523, 0.6823809523809523, 0.6823809523809523, 0.6823809523809523, 0.6823809523809523, 0.6823809523809523, 0.6823809523809523, 0.6823809523809523, 0.6823809523809523, 0.7128571428571429, 0.7128571428571429, 0.7128571428571429, 0.7128571428571429, 0.7128571428571429, 0.7128571428571429, 0.7128571428571429, 0.7128571428571429, 0.7128571428571429, 0.7128571428571429, 0.7128571428571429, 0.7128571428571429, 0.7128571428571429, 0.7128571428571429, 0.7128571428571429, 0.740952380952381, 0.740952380952381]}], \"balanced_accuracy\": [{\"categories\": [\"0\", \"1\", \"2\", \"3\", \"4\", \"5\", \"6\", \"7\", \"8\", \"9\", \"10\", \"11\", \"12\", \"13\", \"14\", \"15\", \"16\", \"17\", \"18\", \"19\", \"20\", \"21\", \"22\", \"23\", \"24\", \"25\", \"26\", \"27\", \"28\", \"29\"], \"mode\": \"markers\", \"name\": \"balanced_accuracy\", \"stepped\": false, \"type\": \"scatter\", \"data\": [0.5687267634326458, 0.6253119429590017, 0.5897224344283167, 0.5823351158645276, 0.5371734148204736, 0.6506951871657753, 0.5376546982429335, 0.5679577285459639, 0.5671454036159919, 0.5616042780748662, 0.538515406162465, 0.6035243188184365, 0.5905271199388846, 0.5538961038961039, 0.575841609371021, 0.6271734148204736, 0.547005347593583, 0.6780341227400051, 0.633720397249809, 0.5809549274255156, 0.6357499363381716, 0.6310847975553858, 0.4659842118665648, 0.5993481028775147, 0.5758899923605807, 0.5, 0.6189966895849248, 0.5665138782785842, 0.6501018589253883, 0.5857015533486122]}, {\"categories\": [\"0\", \"1\", \"2\", \"3\", \"4\", \"5\", \"6\", \"7\", \"8\", \"9\", \"10\", \"11\", \"12\", \"13\", \"14\", \"15\", \"16\", \"17\", \"18\", \"19\", \"20\", \"21\", \"22\", \"23\", \"24\", \"25\", \"26\", \"27\", \"28\", \"29\"], \"mode\": \"lines\", \"name\": \"balanced_accuracy_max\", \"stepped\": true, \"type\": \"scatter\", \"data\": [0.5687267634326458, 0.6253119429590017, 0.6253119429590017, 0.6253119429590017, 0.6253119429590017, 0.6506951871657753, 0.6506951871657753, 0.6506951871657753, 0.6506951871657753, 0.6506951871657753, 0.6506951871657753, 0.6506951871657753, 0.6506951871657753, 0.6506951871657753, 0.6506951871657753, 0.6506951871657753, 0.6506951871657753, 0.6780341227400051, 0.6780341227400051, 0.6780341227400051, 0.6780341227400051, 0.6780341227400051, 0.6780341227400051, 0.6780341227400051, 0.6780341227400051, 0.6780341227400051, 0.6780341227400051, 0.6780341227400051, 0.6780341227400051, 0.6780341227400051]}], \"recall_score_macro\": [{\"categories\": [\"0\", \"1\", \"2\", \"3\", \"4\", \"5\", \"6\", \"7\", \"8\", \"9\", \"10\", \"11\", \"12\", \"13\", \"14\", \"15\", \"16\", \"17\", \"18\", \"19\", \"20\", \"21\", \"22\", \"23\", \"24\", \"25\", \"26\", \"27\", \"28\", \"29\"], \"mode\": \"markers\", \"name\": \"recall_score_macro\", \"stepped\": false, \"type\": \"scatter\", \"data\": [0.5687267634326458, 0.6253119429590017, 0.5897224344283167, 0.5823351158645276, 0.5371734148204736, 0.6506951871657753, 0.5376546982429335, 0.5679577285459639, 0.5671454036159919, 0.5616042780748662, 0.538515406162465, 0.6035243188184365, 0.5905271199388846, 0.5538961038961039, 0.575841609371021, 0.6271734148204736, 0.547005347593583, 0.6780341227400051, 0.633720397249809, 0.5809549274255156, 0.6357499363381716, 0.6310847975553858, 0.4659842118665648, 0.5993481028775147, 0.5758899923605807, 0.5, 0.6189966895849248, 0.5665138782785842, 0.6501018589253883, 0.5857015533486122]}, {\"categories\": [\"0\", \"1\", \"2\", \"3\", \"4\", \"5\", \"6\", \"7\", \"8\", \"9\", \"10\", \"11\", \"12\", \"13\", \"14\", \"15\", \"16\", \"17\", \"18\", \"19\", \"20\", \"21\", \"22\", \"23\", \"24\", \"25\", \"26\", \"27\", \"28\", \"29\"], \"mode\": \"lines\", \"name\": \"recall_score_macro_max\", \"stepped\": true, \"type\": \"scatter\", \"data\": [0.5687267634326458, 0.6253119429590017, 0.6253119429590017, 0.6253119429590017, 0.6253119429590017, 0.6506951871657753, 0.6506951871657753, 0.6506951871657753, 0.6506951871657753, 0.6506951871657753, 0.6506951871657753, 0.6506951871657753, 0.6506951871657753, 0.6506951871657753, 0.6506951871657753, 0.6506951871657753, 0.6506951871657753, 0.6780341227400051, 0.6780341227400051, 0.6780341227400051, 0.6780341227400051, 0.6780341227400051, 0.6780341227400051, 0.6780341227400051, 0.6780341227400051, 0.6780341227400051, 0.6780341227400051, 0.6780341227400051, 0.6780341227400051, 0.6780341227400051]}], \"recall_score_micro\": [{\"categories\": [\"0\", \"1\", \"2\", \"3\", \"4\", \"5\", \"6\", \"7\", \"8\", \"9\", \"10\", \"11\", \"12\", \"13\", \"14\", \"15\", \"16\", \"17\", \"18\", \"19\", \"20\", \"21\", \"22\", \"23\", \"24\", \"25\", \"26\", \"27\", \"28\", \"29\"], \"mode\": \"markers\", \"name\": \"recall_score_micro\", \"stepped\": false, \"type\": \"scatter\", \"data\": [0.6257142857142857, 0.6823809523809523, 0.6638095238095237, 0.6338095238095238, 0.6438095238095237, 0.6242857142857142, 0.6052380952380952, 0.6438095238095239, 0.6142857142857143, 0.6047619047619047, 0.6347619047619047, 0.5847619047619047, 0.6042857142857143, 0.7128571428571429, 0.6242857142857142, 0.6728571428571428, 0.6061904761904762, 0.7114285714285714, 0.6247619047619047, 0.6142857142857142, 0.6723809523809524, 0.6528571428571428, 0.5976190476190476, 0.6247619047619047, 0.6142857142857143, 0.3252380952380952, 0.6819047619047619, 0.6547619047619049, 0.740952380952381, 0.6728571428571428]}, {\"categories\": [\"0\", \"1\", \"2\", \"3\", \"4\", \"5\", \"6\", \"7\", \"8\", \"9\", \"10\", \"11\", \"12\", \"13\", \"14\", \"15\", \"16\", \"17\", \"18\", \"19\", \"20\", \"21\", \"22\", \"23\", \"24\", \"25\", \"26\", \"27\", \"28\", \"29\"], \"mode\": \"lines\", \"name\": \"recall_score_micro_max\", \"stepped\": true, \"type\": \"scatter\", \"data\": [0.6257142857142857, 0.6823809523809523, 0.6823809523809523, 0.6823809523809523, 0.6823809523809523, 0.6823809523809523, 0.6823809523809523, 0.6823809523809523, 0.6823809523809523, 0.6823809523809523, 0.6823809523809523, 0.6823809523809523, 0.6823809523809523, 0.7128571428571429, 0.7128571428571429, 0.7128571428571429, 0.7128571428571429, 0.7128571428571429, 0.7128571428571429, 0.7128571428571429, 0.7128571428571429, 0.7128571428571429, 0.7128571428571429, 0.7128571428571429, 0.7128571428571429, 0.7128571428571429, 0.7128571428571429, 0.7128571428571429, 0.740952380952381, 0.740952380952381]}], \"matthews_correlation\": [{\"categories\": [\"0\", \"1\", \"2\", \"3\", \"4\", \"5\", \"6\", \"7\", \"8\", \"9\", \"10\", \"11\", \"12\", \"13\", \"14\", \"15\", \"16\", \"17\", \"18\", \"19\", \"20\", \"21\", \"22\", \"23\", \"24\", \"25\", \"26\", \"27\", \"28\", \"29\"], \"mode\": \"markers\", \"name\": \"matthews_correlation\", \"stepped\": false, \"type\": \"scatter\", \"data\": [0.1362934813020564, 0.2795038159822158, 0.2095497790054389, 0.15813957625253888, 0.1254295787135017, 0.266061531937091, 0.08052451091409703, 0.1553511187152729, 0.15747716169472029, 0.11964594448247232, 0.06867452942505854, 0.19521101141984196, 0.18294895938041653, 0.147618115060229, 0.20444438826767816, 0.28306379579339297, 0.04705079220246644, 0.3422535862110749, 0.23466149491765637, 0.18891271735028095, 0.2699997526698164, 0.26160971703506786, -0.06928077736262633, 0.17429086030322458, 0.1494045043913032, 0.0, 0.2975055630679315, 0.158156019090209, 0.4081213879215442, 0.28557488383451435]}, {\"categories\": [\"0\", \"1\", \"2\", \"3\", \"4\", \"5\", \"6\", \"7\", \"8\", \"9\", \"10\", \"11\", \"12\", \"13\", \"14\", \"15\", \"16\", \"17\", \"18\", \"19\", \"20\", \"21\", \"22\", \"23\", \"24\", \"25\", \"26\", \"27\", \"28\", \"29\"], \"mode\": \"lines\", \"name\": \"matthews_correlation_max\", \"stepped\": true, \"type\": \"scatter\", \"data\": [0.1362934813020564, 0.2795038159822158, 0.2795038159822158, 0.2795038159822158, 0.2795038159822158, 0.2795038159822158, 0.2795038159822158, 0.2795038159822158, 0.2795038159822158, 0.2795038159822158, 0.2795038159822158, 0.2795038159822158, 0.2795038159822158, 0.2795038159822158, 0.2795038159822158, 0.28306379579339297, 0.28306379579339297, 0.3422535862110749, 0.3422535862110749, 0.3422535862110749, 0.3422535862110749, 0.3422535862110749, 0.3422535862110749, 0.3422535862110749, 0.3422535862110749, 0.3422535862110749, 0.3422535862110749, 0.3422535862110749, 0.4081213879215442, 0.4081213879215442]}], \"f1_score_weighted\": [{\"categories\": [\"0\", \"1\", \"2\", \"3\", \"4\", \"5\", \"6\", \"7\", \"8\", \"9\", \"10\", \"11\", \"12\", \"13\", \"14\", \"15\", \"16\", \"17\", \"18\", \"19\", \"20\", \"21\", \"22\", \"23\", \"24\", \"25\", \"26\", \"27\", \"28\", \"29\"], \"mode\": \"markers\", \"name\": \"f1_score_weighted\", \"stepped\": false, \"type\": \"scatter\", \"data\": [0.604608813613422, 0.6668803801562422, 0.6245750883854332, 0.6310946848850075, 0.5947335368164861, 0.6393777131952352, 0.609961722172722, 0.5982380060777627, 0.5991696575029909, 0.6035187035187034, 0.5468981461417501, 0.5907321551407574, 0.6174781794967885, 0.6280379725096077, 0.5980495251462993, 0.6555392531087749, 0.5566507504322631, 0.7173600857176965, 0.6356245376230121, 0.6024809895332698, 0.6749424423061797, 0.6448611112480183, 0.5692366946778712, 0.6179804816440294, 0.615581353512388, 0.17191338854382335, 0.6637464985994398, 0.6028811897823217, 0.6985879351740696, 0.612543675777521]}, {\"categories\": [\"0\", \"1\", \"2\", \"3\", \"4\", \"5\", \"6\", \"7\", \"8\", \"9\", \"10\", \"11\", \"12\", \"13\", \"14\", \"15\", \"16\", \"17\", \"18\", \"19\", \"20\", \"21\", \"22\", \"23\", \"24\", \"25\", \"26\", \"27\", \"28\", \"29\"], \"mode\": \"lines\", \"name\": \"f1_score_weighted_max\", \"stepped\": true, \"type\": \"scatter\", \"data\": [0.604608813613422, 0.6668803801562422, 0.6668803801562422, 0.6668803801562422, 0.6668803801562422, 0.6668803801562422, 0.6668803801562422, 0.6668803801562422, 0.6668803801562422, 0.6668803801562422, 0.6668803801562422, 0.6668803801562422, 0.6668803801562422, 0.6668803801562422, 0.6668803801562422, 0.6668803801562422, 0.6668803801562422, 0.7173600857176965, 0.7173600857176965, 0.7173600857176965, 0.7173600857176965, 0.7173600857176965, 0.7173600857176965, 0.7173600857176965, 0.7173600857176965, 0.7173600857176965, 0.7173600857176965, 0.7173600857176965, 0.7173600857176965, 0.7173600857176965]}], \"average_precision_score_micro\": [{\"categories\": [\"0\", \"1\", \"2\", \"3\", \"4\", \"5\", \"6\", \"7\", \"8\", \"9\", \"10\", \"11\", \"12\", \"13\", \"14\", \"15\", \"16\", \"17\", \"18\", \"19\", \"20\", \"21\", \"22\", \"23\", \"24\", \"25\", \"26\", \"27\", \"28\", \"29\"], \"mode\": \"markers\", \"name\": \"average_precision_score_micro\", \"stepped\": false, \"type\": \"scatter\", \"data\": [0.6389788787450528, 0.7366374342174598, 0.6845695155196596, 0.7357165582027728, 0.6719424253868859, 0.6768146699898261, 0.648792003406585, 0.732852055654134, 0.7089514612676698, 0.6872184871312257, 0.7513208161827787, 0.6607321162087876, 0.6607022508953901, 0.7523331752039346, 0.7464771164347632, 0.7421670866684253, 0.6641190460647491, 0.7477399229436402, 0.6677577051093586, 0.6918357890939434, 0.71302723142724, 0.6599975719396786, 0.6638751505997664, 0.7052881375088462, 0.6704376512121032, 0.5, 0.7526634633563271, 0.7167073579136367, 0.7605419335028485, 0.7358449718771443]}, {\"categories\": [\"0\", \"1\", \"2\", \"3\", \"4\", \"5\", \"6\", \"7\", \"8\", \"9\", \"10\", \"11\", \"12\", \"13\", \"14\", \"15\", \"16\", \"17\", \"18\", \"19\", \"20\", \"21\", \"22\", \"23\", \"24\", \"25\", \"26\", \"27\", \"28\", \"29\"], \"mode\": \"lines\", \"name\": \"average_precision_score_micro_max\", \"stepped\": true, \"type\": \"scatter\", \"data\": [0.6389788787450528, 0.7366374342174598, 0.7366374342174598, 0.7366374342174598, 0.7366374342174598, 0.7366374342174598, 0.7366374342174598, 0.7366374342174598, 0.7366374342174598, 0.7366374342174598, 0.7513208161827787, 0.7513208161827787, 0.7513208161827787, 0.7523331752039346, 0.7523331752039346, 0.7523331752039346, 0.7523331752039346, 0.7523331752039346, 0.7523331752039346, 0.7523331752039346, 0.7523331752039346, 0.7523331752039346, 0.7523331752039346, 0.7523331752039346, 0.7523331752039346, 0.7523331752039346, 0.7526634633563271, 0.7526634633563271, 0.7605419335028485, 0.7605419335028485]}], \"AUC_macro\": [{\"categories\": [\"0\", \"1\", \"2\", \"3\", \"4\", \"5\", \"6\", \"7\", \"8\", \"9\", \"10\", \"11\", \"12\", \"13\", \"14\", \"15\", \"16\", \"17\", \"18\", \"19\", \"20\", \"21\", \"22\", \"23\", \"24\", \"25\", \"26\", \"27\", \"28\", \"29\"], \"mode\": \"markers\", \"name\": \"AUC_macro\", \"stepped\": false, \"type\": \"scatter\", \"data\": [0.5447701504844362, 0.730629463906775, 0.6372900675421683, 0.6956450458971467, 0.548071592273273, 0.7082748250815477, 0.5805745328434404, 0.6962462560781889, 0.6604121648659464, 0.692533013205282, 0.716229764633126, 0.6863804915905756, 0.6702055367601586, 0.6683531594455964, 0.7169019122800636, 0.7060426594880377, 0.6162081802417937, 0.7219489007724302, 0.7103219469606025, 0.6677662580183588, 0.6755211175379243, 0.6734742381801204, 0.5757532103750591, 0.6390969721221822, 0.6712067857446009, 0.5, 0.7091335928310718, 0.6646927862053913, 0.7191157675191289, 0.737079074053864]}, {\"categories\": [\"0\", \"1\", \"2\", \"3\", \"4\", \"5\", \"6\", \"7\", \"8\", \"9\", \"10\", \"11\", \"12\", \"13\", \"14\", \"15\", \"16\", \"17\", \"18\", \"19\", \"20\", \"21\", \"22\", \"23\", \"24\", \"25\", \"26\", \"27\", \"28\", \"29\"], \"mode\": \"lines\", \"name\": \"AUC_macro_max\", \"stepped\": true, \"type\": \"scatter\", \"data\": [0.5447701504844362, 0.730629463906775, 0.730629463906775, 0.730629463906775, 0.730629463906775, 0.730629463906775, 0.730629463906775, 0.730629463906775, 0.730629463906775, 0.730629463906775, 0.730629463906775, 0.730629463906775, 0.730629463906775, 0.730629463906775, 0.730629463906775, 0.730629463906775, 0.730629463906775, 0.730629463906775, 0.730629463906775, 0.730629463906775, 0.730629463906775, 0.730629463906775, 0.730629463906775, 0.730629463906775, 0.730629463906775, 0.730629463906775, 0.730629463906775, 0.730629463906775, 0.730629463906775, 0.737079074053864]}], \"log_loss\": [{\"categories\": [\"0\", \"1\", \"2\", \"3\", \"4\", \"5\", \"6\", \"7\", \"8\", \"9\", \"10\", \"11\", \"12\", \"13\", \"14\", \"15\", \"16\", \"17\", \"18\", \"19\", \"20\", \"21\", \"22\", \"23\", \"24\", \"25\", \"26\", \"27\", \"28\", \"29\"], \"mode\": \"markers\", \"name\": \"log_loss\", \"stepped\": false, \"type\": \"scatter\", \"data\": [0.8272229056675192, 0.695031847482929, 0.6690103034608978, 1.066579998525024, 0.6619240555372883, 0.6572745689318635, 1.607164618120407, 0.619989402180489, 0.6304776505096908, 2.8520589373955234, 0.6282841301950051, 0.6891289925455726, 0.6529358926992528, 0.6033915144794177, 0.6316412281976334, 0.5900301965056372, 0.6640484424083815, 0.6297576319719068, 0.6574729213561074, 0.6962184548329569, 0.6301886482053214, 0.655769317252972, 0.966408552802904, 0.7418360251569907, 2.9264927477712877, 0.6931471805599453, 0.5976576023948731, 0.6226339457094718, 0.5874866694086803, 0.6216538862118378]}, {\"categories\": [\"0\", \"1\", \"2\", \"3\", \"4\", \"5\", \"6\", \"7\", \"8\", \"9\", \"10\", \"11\", \"12\", \"13\", \"14\", \"15\", \"16\", \"17\", \"18\", \"19\", \"20\", \"21\", \"22\", \"23\", \"24\", \"25\", \"26\", \"27\", \"28\", \"29\"], \"mode\": \"lines\", \"name\": \"log_loss_min\", \"stepped\": true, \"type\": \"scatter\", \"data\": [0.8272229056675192, 0.695031847482929, 0.6690103034608978, 0.6690103034608978, 0.6619240555372883, 0.6572745689318635, 0.6572745689318635, 0.619989402180489, 0.619989402180489, 0.619989402180489, 0.619989402180489, 0.619989402180489, 0.619989402180489, 0.6033915144794177, 0.6033915144794177, 0.5900301965056372, 0.5900301965056372, 0.5900301965056372, 0.5900301965056372, 0.5900301965056372, 0.5900301965056372, 0.5900301965056372, 0.5900301965056372, 0.5900301965056372, 0.5900301965056372, 0.5900301965056372, 0.5900301965056372, 0.5900301965056372, 0.5874866694086803, 0.5874866694086803]}], \"precision_score_macro\": [{\"categories\": [\"0\", \"1\", \"2\", \"3\", \"4\", \"5\", \"6\", \"7\", \"8\", \"9\", \"10\", \"11\", \"12\", \"13\", \"14\", \"15\", \"16\", \"17\", \"18\", \"19\", \"20\", \"21\", \"22\", \"23\", \"24\", \"25\", \"26\", \"27\", \"28\", \"29\"], \"mode\": \"markers\", \"name\": \"precision_score_macro\", \"stepped\": false, \"type\": \"scatter\", \"data\": [0.5728072254542843, 0.6629411764705881, 0.6368233933249413, 0.5776537433155079, 0.5778226675285498, 0.6191239316239316, 0.5422457444516268, 0.5933359914938862, 0.5962128639334522, 0.559411976911977, 0.4208020050125313, 0.5926923076923077, 0.5931060606060606, 0.5271974052779006, 0.6574342105263158, 0.6698538011695906, 0.4967543859649123, 0.6666575091575092, 0.6053603341103341, 0.6184522860180754, 0.6370528817587642, 0.6359803921568628, 0.4660947712418301, 0.5792335115864528, 0.5750072150072151, 0.1626190476190476, 0.707379679144385, 0.6172431077694236, 0.8116666666666668, 0.7816666666666666]}, {\"categories\": [\"0\", \"1\", \"2\", \"3\", \"4\", \"5\", \"6\", \"7\", \"8\", \"9\", \"10\", \"11\", \"12\", \"13\", \"14\", \"15\", \"16\", \"17\", \"18\", \"19\", \"20\", \"21\", \"22\", \"23\", \"24\", \"25\", \"26\", \"27\", \"28\", \"29\"], \"mode\": \"lines\", \"name\": \"precision_score_macro_max\", \"stepped\": true, \"type\": \"scatter\", \"data\": [0.5728072254542843, 0.6629411764705881, 0.6629411764705881, 0.6629411764705881, 0.6629411764705881, 0.6629411764705881, 0.6629411764705881, 0.6629411764705881, 0.6629411764705881, 0.6629411764705881, 0.6629411764705881, 0.6629411764705881, 0.6629411764705881, 0.6629411764705881, 0.6629411764705881, 0.6698538011695906, 0.6698538011695906, 0.6698538011695906, 0.6698538011695906, 0.6698538011695906, 0.6698538011695906, 0.6698538011695906, 0.6698538011695906, 0.6698538011695906, 0.6698538011695906, 0.6698538011695906, 0.707379679144385, 0.707379679144385, 0.8116666666666668, 0.8116666666666668]}], \"precision_score_weighted\": [{\"categories\": [\"0\", \"1\", \"2\", \"3\", \"4\", \"5\", \"6\", \"7\", \"8\", \"9\", \"10\", \"11\", \"12\", \"13\", \"14\", \"15\", \"16\", \"17\", \"18\", \"19\", \"20\", \"21\", \"22\", \"23\", \"24\", \"25\", \"26\", \"27\", \"28\", \"29\"], \"mode\": \"markers\", \"name\": \"precision_score_weighted\", \"stepped\": false, \"type\": \"scatter\", \"data\": [0.6398642533936651, 0.7222720199190787, 0.7073196566075823, 0.6609467787114846, 0.6462177691589457, 0.7064275539275539, 0.6326428391869569, 0.6773413331308068, 0.6620449593979005, 0.6502844774273346, 0.5241759159804273, 0.6818241758241758, 0.6736489898989898, 0.6422777075742578, 0.7259360902255639, 0.740072403230298, 0.6029264828738513, 0.739920634920635, 0.6912139712139712, 0.6997862079441026, 0.7136517637357974, 0.7146615312791782, 0.5683364456893869, 0.67180460062813, 0.6637765409193981, 0.12014625850340135, 0.7500325382678323, 0.6702965747702588, 0.822994708994709, 0.7999999999999998]}, {\"categories\": [\"0\", \"1\", \"2\", \"3\", \"4\", \"5\", \"6\", \"7\", \"8\", \"9\", \"10\", \"11\", \"12\", \"13\", \"14\", \"15\", \"16\", \"17\", \"18\", \"19\", \"20\", \"21\", \"22\", \"23\", \"24\", \"25\", \"26\", \"27\", \"28\", \"29\"], \"mode\": \"lines\", \"name\": \"precision_score_weighted_max\", \"stepped\": true, \"type\": \"scatter\", \"data\": [0.6398642533936651, 0.7222720199190787, 0.7222720199190787, 0.7222720199190787, 0.7222720199190787, 0.7222720199190787, 0.7222720199190787, 0.7222720199190787, 0.7222720199190787, 0.7222720199190787, 0.7222720199190787, 0.7222720199190787, 0.7222720199190787, 0.7222720199190787, 0.7259360902255639, 0.740072403230298, 0.740072403230298, 0.740072403230298, 0.740072403230298, 0.740072403230298, 0.740072403230298, 0.740072403230298, 0.740072403230298, 0.740072403230298, 0.740072403230298, 0.740072403230298, 0.7500325382678323, 0.7500325382678323, 0.822994708994709, 0.822994708994709]}], \"f1_score_macro\": [{\"categories\": [\"0\", \"1\", \"2\", \"3\", \"4\", \"5\", \"6\", \"7\", \"8\", \"9\", \"10\", \"11\", \"12\", \"13\", \"14\", \"15\", \"16\", \"17\", \"18\", \"19\", \"20\", \"21\", \"22\", \"23\", \"24\", \"25\", \"26\", \"27\", \"28\", \"29\"], \"mode\": \"markers\", \"name\": \"f1_score_macro\", \"stepped\": false, \"type\": \"scatter\", \"data\": [0.5347447982125402, 0.5994353012887496, 0.5430049500308122, 0.5572293969471389, 0.49425918167853655, 0.599305173468789, 0.5288909098476683, 0.5095701821842795, 0.533245411995412, 0.5304057054057054, 0.44108526870484593, 0.5501634625828175, 0.5653741910775215, 0.4933763955232253, 0.529211720179462, 0.5912905267702264, 0.4632930250577309, 0.6596752809251824, 0.5870705377341533, 0.5402942959895128, 0.6122274777502807, 0.5836395118164568, 0.45034173669467786, 0.5490769167363423, 0.5459545244028001, 0.23928140096618358, 0.5919236694677872, 0.5154748754411779, 0.6209243697478992, 0.5245506353011423]}, {\"categories\": [\"0\", \"1\", \"2\", \"3\", \"4\", \"5\", \"6\", \"7\", \"8\", \"9\", \"10\", \"11\", \"12\", \"13\", \"14\", \"15\", \"16\", \"17\", \"18\", \"19\", \"20\", \"21\", \"22\", \"23\", \"24\", \"25\", \"26\", \"27\", \"28\", \"29\"], \"mode\": \"lines\", \"name\": \"f1_score_macro_max\", \"stepped\": true, \"type\": \"scatter\", \"data\": [0.5347447982125402, 0.5994353012887496, 0.5994353012887496, 0.5994353012887496, 0.5994353012887496, 0.5994353012887496, 0.5994353012887496, 0.5994353012887496, 0.5994353012887496, 0.5994353012887496, 0.5994353012887496, 0.5994353012887496, 0.5994353012887496, 0.5994353012887496, 0.5994353012887496, 0.5994353012887496, 0.5994353012887496, 0.6596752809251824, 0.6596752809251824, 0.6596752809251824, 0.6596752809251824, 0.6596752809251824, 0.6596752809251824, 0.6596752809251824, 0.6596752809251824, 0.6596752809251824, 0.6596752809251824, 0.6596752809251824, 0.6596752809251824, 0.6596752809251824]}], \"AUC_weighted\": [{\"categories\": [\"0\", \"1\", \"2\", \"3\", \"4\", \"5\", \"6\", \"7\", \"8\", \"9\", \"10\", \"11\", \"12\", \"13\", \"14\", \"15\", \"16\", \"17\", \"18\", \"19\", \"20\", \"21\", \"22\", \"23\", \"24\", \"25\", \"26\", \"27\", \"28\", \"29\"], \"mode\": \"markers\", \"name\": \"AUC_weighted\", \"stepped\": false, \"type\": \"scatter\", \"data\": [0.5447701504844362, 0.7306294639067747, 0.6372900675421683, 0.6956450458971467, 0.548071592273273, 0.7082748250815477, 0.5805745328434405, 0.6962462560781888, 0.6604121648659464, 0.692533013205282, 0.7162297646331259, 0.6863804915905756, 0.6702055367601586, 0.6683531594455964, 0.7169019122800636, 0.7060426594880376, 0.6162081802417937, 0.7219489007724302, 0.7103219469606025, 0.6677662580183588, 0.6755211175379242, 0.6734742381801206, 0.5757532103750591, 0.6390969721221822, 0.6712067857446009, 0.5, 0.7091335928310719, 0.6646927862053913, 0.7191157675191289, 0.737079074053864]}, {\"categories\": [\"0\", \"1\", \"2\", \"3\", \"4\", \"5\", \"6\", \"7\", \"8\", \"9\", \"10\", \"11\", \"12\", \"13\", \"14\", \"15\", \"16\", \"17\", \"18\", \"19\", \"20\", \"21\", \"22\", \"23\", \"24\", \"25\", \"26\", \"27\", \"28\", \"29\"], \"mode\": \"lines\", \"name\": \"AUC_weighted_max\", \"stepped\": true, \"type\": \"scatter\", \"data\": [0.5447701504844362, 0.7306294639067747, 0.7306294639067747, 0.7306294639067747, 0.7306294639067747, 0.7306294639067747, 0.7306294639067747, 0.7306294639067747, 0.7306294639067747, 0.7306294639067747, 0.7306294639067747, 0.7306294639067747, 0.7306294639067747, 0.7306294639067747, 0.7306294639067747, 0.7306294639067747, 0.7306294639067747, 0.7306294639067747, 0.7306294639067747, 0.7306294639067747, 0.7306294639067747, 0.7306294639067747, 0.7306294639067747, 0.7306294639067747, 0.7306294639067747, 0.7306294639067747, 0.7306294639067747, 0.7306294639067747, 0.7306294639067747, 0.737079074053864]}], \"norm_macro_recall\": [{\"categories\": [\"0\", \"1\", \"2\", \"3\", \"4\", \"5\", \"6\", \"7\", \"8\", \"9\", \"10\", \"11\", \"12\", \"13\", \"14\", \"15\", \"16\", \"17\", \"18\", \"19\", \"20\", \"21\", \"22\", \"23\", \"24\", \"25\", \"26\", \"27\", \"28\", \"29\"], \"mode\": \"markers\", \"name\": \"norm_macro_recall\", \"stepped\": false, \"type\": \"scatter\", \"data\": [0.1735574229691877, 0.25062388591800355, 0.17944486885663355, 0.17895594601476952, 0.07826839826839826, 0.3013903743315508, 0.09766233766233764, 0.15020117137764202, 0.13792717086834733, 0.15177998472116117, 0.07703081232492996, 0.20704863763687292, 0.19533995416348354, 0.10779220779220781, 0.1716832187420422, 0.2543468296409473, 0.1482964094728801, 0.3560682454800102, 0.267440794499618, 0.1619098548510313, 0.27149987267634323, 0.2764553093964859, 0.042857142857142885, 0.2196485867074102, 0.19463712757830404, 0.0, 0.23799337916984972, 0.1348459383753501, 0.3002037178507767, 0.1714031066972243]}, {\"categories\": [\"0\", \"1\", \"2\", \"3\", \"4\", \"5\", \"6\", \"7\", \"8\", \"9\", \"10\", \"11\", \"12\", \"13\", \"14\", \"15\", \"16\", \"17\", \"18\", \"19\", \"20\", \"21\", \"22\", \"23\", \"24\", \"25\", \"26\", \"27\", \"28\", \"29\"], \"mode\": \"lines\", \"name\": \"norm_macro_recall_max\", \"stepped\": true, \"type\": \"scatter\", \"data\": [0.1735574229691877, 0.25062388591800355, 0.25062388591800355, 0.25062388591800355, 0.25062388591800355, 0.3013903743315508, 0.3013903743315508, 0.3013903743315508, 0.3013903743315508, 0.3013903743315508, 0.3013903743315508, 0.3013903743315508, 0.3013903743315508, 0.3013903743315508, 0.3013903743315508, 0.3013903743315508, 0.3013903743315508, 0.3560682454800102, 0.3560682454800102, 0.3560682454800102, 0.3560682454800102, 0.3560682454800102, 0.3560682454800102, 0.3560682454800102, 0.3560682454800102, 0.3560682454800102, 0.3560682454800102, 0.3560682454800102, 0.3560682454800102, 0.3560682454800102]}], \"AUC_micro\": [{\"categories\": [\"0\", \"1\", \"2\", \"3\", \"4\", \"5\", \"6\", \"7\", \"8\", \"9\", \"10\", \"11\", \"12\", \"13\", \"14\", \"15\", \"16\", \"17\", \"18\", \"19\", \"20\", \"21\", \"22\", \"23\", \"24\", \"25\", \"26\", \"27\", \"28\", \"29\"], \"mode\": \"markers\", \"name\": \"AUC_micro\", \"stepped\": false, \"type\": \"scatter\", \"data\": [0.6393197278911565, 0.733953514739229, 0.6955782312925171, 0.712452380952381, 0.6534376417233559, 0.6574160997732426, 0.6676927437641723, 0.7196961451247165, 0.6860680272108843, 0.6922539682539682, 0.7301734693877551, 0.6302993197278912, 0.6410442176870748, 0.750939909297052, 0.7126609977324263, 0.7325929705215419, 0.6591700680272108, 0.7513378684807257, 0.6582993197278911, 0.6882074829931973, 0.7063832199546486, 0.6498469387755101, 0.6673435374149659, 0.6638458049886621, 0.672939909297052, 0.5, 0.7434648526077098, 0.7172414965986394, 0.763, 0.7311507936507937]}, {\"categories\": [\"0\", \"1\", \"2\", \"3\", \"4\", \"5\", \"6\", \"7\", \"8\", \"9\", \"10\", \"11\", \"12\", \"13\", \"14\", \"15\", \"16\", \"17\", \"18\", \"19\", \"20\", \"21\", \"22\", \"23\", \"24\", \"25\", \"26\", \"27\", \"28\", \"29\"], \"mode\": \"lines\", \"name\": \"AUC_micro_max\", \"stepped\": true, \"type\": \"scatter\", \"data\": [0.6393197278911565, 0.733953514739229, 0.733953514739229, 0.733953514739229, 0.733953514739229, 0.733953514739229, 0.733953514739229, 0.733953514739229, 0.733953514739229, 0.733953514739229, 0.733953514739229, 0.733953514739229, 0.733953514739229, 0.750939909297052, 0.750939909297052, 0.750939909297052, 0.750939909297052, 0.7513378684807257, 0.7513378684807257, 0.7513378684807257, 0.7513378684807257, 0.7513378684807257, 0.7513378684807257, 0.7513378684807257, 0.7513378684807257, 0.7513378684807257, 0.7513378684807257, 0.7513378684807257, 0.763, 0.763]}], \"average_precision_score_macro\": [{\"categories\": [\"0\", \"1\", \"2\", \"3\", \"4\", \"5\", \"6\", \"7\", \"8\", \"9\", \"10\", \"11\", \"12\", \"13\", \"14\", \"15\", \"16\", \"17\", \"18\", \"19\", \"20\", \"21\", \"22\", \"23\", \"24\", \"25\", \"26\", \"27\", \"28\", \"29\"], \"mode\": \"markers\", \"name\": \"average_precision_score_macro\", \"stepped\": false, \"type\": \"scatter\", \"data\": [0.5733214930181054, 0.7045972490930323, 0.6327005117794494, 0.6970860407937378, 0.6022212563157338, 0.7055896008040926, 0.5803455528942039, 0.7100508790652207, 0.6519386690725277, 0.6671737237490625, 0.7081191306759844, 0.6999585575969041, 0.6968111370768837, 0.6811170507267041, 0.7294307723221596, 0.698286161417228, 0.6021390511486155, 0.7119984279156008, 0.7065318663657341, 0.6568953730205942, 0.6958137707787102, 0.6602250374029659, 0.5770247474772021, 0.6475526284934159, 0.6729714925852373, 0.5, 0.7339774325701134, 0.6598444160200524, 0.7201485133037746, 0.7241058963807395]}, {\"categories\": [\"0\", \"1\", \"2\", \"3\", \"4\", \"5\", \"6\", \"7\", \"8\", \"9\", \"10\", \"11\", \"12\", \"13\", \"14\", \"15\", \"16\", \"17\", \"18\", \"19\", \"20\", \"21\", \"22\", \"23\", \"24\", \"25\", \"26\", \"27\", \"28\", \"29\"], \"mode\": \"lines\", \"name\": \"average_precision_score_macro_max\", \"stepped\": true, \"type\": \"scatter\", \"data\": [0.5733214930181054, 0.7045972490930323, 0.7045972490930323, 0.7045972490930323, 0.7045972490930323, 0.7055896008040926, 0.7055896008040926, 0.7100508790652207, 0.7100508790652207, 0.7100508790652207, 0.7100508790652207, 0.7100508790652207, 0.7100508790652207, 0.7100508790652207, 0.7294307723221596, 0.7294307723221596, 0.7294307723221596, 0.7294307723221596, 0.7294307723221596, 0.7294307723221596, 0.7294307723221596, 0.7294307723221596, 0.7294307723221596, 0.7294307723221596, 0.7294307723221596, 0.7294307723221596, 0.7339774325701134, 0.7339774325701134, 0.7339774325701134, 0.7339774325701134]}], \"accuracy\": [{\"categories\": [\"0\", \"1\", \"2\", \"3\", \"4\", \"5\", \"6\", \"7\", \"8\", \"9\", \"10\", \"11\", \"12\", \"13\", \"14\", \"15\", \"16\", \"17\", \"18\", \"19\", \"20\", \"21\", \"22\", \"23\", \"24\", \"25\", \"26\", \"27\", \"28\", \"29\"], \"mode\": \"markers\", \"name\": \"accuracy\", \"stepped\": false, \"type\": \"scatter\", \"data\": [0.6257142857142857, 0.6823809523809523, 0.6638095238095237, 0.6338095238095238, 0.6438095238095237, 0.6242857142857142, 0.6052380952380952, 0.6438095238095239, 0.6142857142857143, 0.6047619047619047, 0.6347619047619047, 0.5847619047619047, 0.6042857142857143, 0.7128571428571429, 0.6242857142857142, 0.6728571428571428, 0.6061904761904762, 0.7114285714285714, 0.6247619047619047, 0.6142857142857142, 0.6723809523809524, 0.6528571428571428, 0.5976190476190476, 0.6247619047619047, 0.6142857142857143, 0.3252380952380952, 0.6819047619047619, 0.6547619047619049, 0.740952380952381, 0.6728571428571428]}, {\"categories\": [\"0\", \"1\", \"2\", \"3\", \"4\", \"5\", \"6\", \"7\", \"8\", \"9\", \"10\", \"11\", \"12\", \"13\", \"14\", \"15\", \"16\", \"17\", \"18\", \"19\", \"20\", \"21\", \"22\", \"23\", \"24\", \"25\", \"26\", \"27\", \"28\", \"29\"], \"mode\": \"lines\", \"name\": \"accuracy_max\", \"stepped\": true, \"type\": \"scatter\", \"data\": [0.6257142857142857, 0.6823809523809523, 0.6823809523809523, 0.6823809523809523, 0.6823809523809523, 0.6823809523809523, 0.6823809523809523, 0.6823809523809523, 0.6823809523809523, 0.6823809523809523, 0.6823809523809523, 0.6823809523809523, 0.6823809523809523, 0.7128571428571429, 0.7128571428571429, 0.7128571428571429, 0.7128571428571429, 0.7128571428571429, 0.7128571428571429, 0.7128571428571429, 0.7128571428571429, 0.7128571428571429, 0.7128571428571429, 0.7128571428571429, 0.7128571428571429, 0.7128571428571429, 0.7128571428571429, 0.7128571428571429, 0.740952380952381, 0.740952380952381]}], \"f1_score_micro\": [{\"categories\": [\"0\", \"1\", \"2\", \"3\", \"4\", \"5\", \"6\", \"7\", \"8\", \"9\", \"10\", \"11\", \"12\", \"13\", \"14\", \"15\", \"16\", \"17\", \"18\", \"19\", \"20\", \"21\", \"22\", \"23\", \"24\", \"25\", \"26\", \"27\", \"28\", \"29\"], \"mode\": \"markers\", \"name\": \"f1_score_micro\", \"stepped\": false, \"type\": \"scatter\", \"data\": [0.6257142857142857, 0.6823809523809523, 0.6638095238095237, 0.6338095238095238, 0.6438095238095237, 0.6242857142857142, 0.6052380952380952, 0.6438095238095239, 0.6142857142857143, 0.6047619047619047, 0.6347619047619047, 0.5847619047619047, 0.6042857142857143, 0.7128571428571429, 0.6242857142857142, 0.6728571428571428, 0.6061904761904762, 0.7114285714285714, 0.6247619047619047, 0.6142857142857142, 0.6723809523809524, 0.6528571428571428, 0.5976190476190476, 0.6247619047619047, 0.6142857142857143, 0.3252380952380952, 0.6819047619047619, 0.6547619047619049, 0.740952380952381, 0.6728571428571428]}, {\"categories\": [\"0\", \"1\", \"2\", \"3\", \"4\", \"5\", \"6\", \"7\", \"8\", \"9\", \"10\", \"11\", \"12\", \"13\", \"14\", \"15\", \"16\", \"17\", \"18\", \"19\", \"20\", \"21\", \"22\", \"23\", \"24\", \"25\", \"26\", \"27\", \"28\", \"29\"], \"mode\": \"lines\", \"name\": \"f1_score_micro_max\", \"stepped\": true, \"type\": \"scatter\", \"data\": [0.6257142857142857, 0.6823809523809523, 0.6823809523809523, 0.6823809523809523, 0.6823809523809523, 0.6823809523809523, 0.6823809523809523, 0.6823809523809523, 0.6823809523809523, 0.6823809523809523, 0.6823809523809523, 0.6823809523809523, 0.6823809523809523, 0.7128571428571429, 0.7128571428571429, 0.7128571428571429, 0.7128571428571429, 0.7128571428571429, 0.7128571428571429, 0.7128571428571429, 0.7128571428571429, 0.7128571428571429, 0.7128571428571429, 0.7128571428571429, 0.7128571428571429, 0.7128571428571429, 0.7128571428571429, 0.7128571428571429, 0.740952380952381, 0.740952380952381]}], \"precision_score_micro\": [{\"categories\": [\"0\", \"1\", \"2\", \"3\", \"4\", \"5\", \"6\", \"7\", \"8\", \"9\", \"10\", \"11\", \"12\", \"13\", \"14\", \"15\", \"16\", \"17\", \"18\", \"19\", \"20\", \"21\", \"22\", \"23\", \"24\", \"25\", \"26\", \"27\", \"28\", \"29\"], \"mode\": \"markers\", \"name\": \"precision_score_micro\", \"stepped\": false, \"type\": \"scatter\", \"data\": [0.6257142857142857, 0.6823809523809523, 0.6638095238095237, 0.6338095238095238, 0.6438095238095237, 0.6242857142857142, 0.6052380952380952, 0.6438095238095239, 0.6142857142857143, 0.6047619047619047, 0.6347619047619047, 0.5847619047619047, 0.6042857142857143, 0.7128571428571429, 0.6242857142857142, 0.6728571428571428, 0.6061904761904762, 0.7114285714285714, 0.6247619047619047, 0.6142857142857142, 0.6723809523809524, 0.6528571428571428, 0.5976190476190476, 0.6247619047619047, 0.6142857142857143, 0.3252380952380952, 0.6819047619047619, 0.6547619047619049, 0.740952380952381, 0.6728571428571428]}, {\"categories\": [\"0\", \"1\", \"2\", \"3\", \"4\", \"5\", \"6\", \"7\", \"8\", \"9\", \"10\", \"11\", \"12\", \"13\", \"14\", \"15\", \"16\", \"17\", \"18\", \"19\", \"20\", \"21\", \"22\", \"23\", \"24\", \"25\", \"26\", \"27\", \"28\", \"29\"], \"mode\": \"lines\", \"name\": \"precision_score_micro_max\", \"stepped\": true, \"type\": \"scatter\", \"data\": [0.6257142857142857, 0.6823809523809523, 0.6823809523809523, 0.6823809523809523, 0.6823809523809523, 0.6823809523809523, 0.6823809523809523, 0.6823809523809523, 0.6823809523809523, 0.6823809523809523, 0.6823809523809523, 0.6823809523809523, 0.6823809523809523, 0.7128571428571429, 0.7128571428571429, 0.7128571428571429, 0.7128571428571429, 0.7128571428571429, 0.7128571428571429, 0.7128571428571429, 0.7128571428571429, 0.7128571428571429, 0.7128571428571429, 0.7128571428571429, 0.7128571428571429, 0.7128571428571429, 0.7128571428571429, 0.7128571428571429, 0.740952380952381, 0.740952380952381]}], \"average_precision_score_weighted\": [{\"categories\": [\"0\", \"1\", \"2\", \"3\", \"4\", \"5\", \"6\", \"7\", \"8\", \"9\", \"10\", \"11\", \"12\", \"13\", \"14\", \"15\", \"16\", \"17\", \"18\", \"19\", \"20\", \"21\", \"22\", \"23\", \"24\", \"25\", \"26\", \"27\", \"28\", \"29\"], \"mode\": \"markers\", \"name\": \"average_precision_score_weighted\", \"stepped\": false, \"type\": \"scatter\", \"data\": [0.6515412492891485, 0.7788211191850067, 0.7063923898066977, 0.7665360408957268, 0.6853108604910905, 0.7698087809634138, 0.6599738384128034, 0.765469084947192, 0.7373943001811202, 0.7501686007020483, 0.7792732699222085, 0.753294099795482, 0.7522096669322453, 0.7427925351733954, 0.7817618188137317, 0.7773538081756237, 0.6887431051961127, 0.7829961933123144, 0.7691345274072496, 0.7438362927983118, 0.7628851679795953, 0.7436833540965562, 0.6620855730669972, 0.7420227325359458, 0.738419648158204, 0.5898163265306122, 0.7879941715695807, 0.7260047560614235, 0.7847721888411849, 0.7934408681805852]}, {\"categories\": [\"0\", \"1\", \"2\", \"3\", \"4\", \"5\", \"6\", \"7\", \"8\", \"9\", \"10\", \"11\", \"12\", \"13\", \"14\", \"15\", \"16\", \"17\", \"18\", \"19\", \"20\", \"21\", \"22\", \"23\", \"24\", \"25\", \"26\", \"27\", \"28\", \"29\"], \"mode\": \"lines\", \"name\": \"average_precision_score_weighted_max\", \"stepped\": true, \"type\": \"scatter\", \"data\": [0.6515412492891485, 0.7788211191850067, 0.7788211191850067, 0.7788211191850067, 0.7788211191850067, 0.7788211191850067, 0.7788211191850067, 0.7788211191850067, 0.7788211191850067, 0.7788211191850067, 0.7792732699222085, 0.7792732699222085, 0.7792732699222085, 0.7792732699222085, 0.7817618188137317, 0.7817618188137317, 0.7817618188137317, 0.7829961933123144, 0.7829961933123144, 0.7829961933123144, 0.7829961933123144, 0.7829961933123144, 0.7829961933123144, 0.7829961933123144, 0.7829961933123144, 0.7829961933123144, 0.7879941715695807, 0.7879941715695807, 0.7879941715695807, 0.7934408681805852]}], \"weighted_accuracy\": [{\"categories\": [\"0\", \"1\", \"2\", \"3\", \"4\", \"5\", \"6\", \"7\", \"8\", \"9\", \"10\", \"11\", \"12\", \"13\", \"14\", \"15\", \"16\", \"17\", \"18\", \"19\", \"20\", \"21\", \"22\", \"23\", \"24\", \"25\", \"26\", \"27\", \"28\", \"29\"], \"mode\": \"markers\", \"name\": \"weighted_accuracy\", \"stepped\": false, \"type\": \"scatter\", \"data\": [0.6674961509713814, 0.7252430753513018, 0.7185389553610417, 0.6768899529619408, 0.7144571674111404, 0.6199322920024827, 0.6479056721579558, 0.7026167151388709, 0.6548675054021039, 0.6419300439453727, 0.7067274462880053, 0.5903817523306476, 0.6211935855822757, 0.8024950501803627, 0.6639126665566624, 0.7070638779428957, 0.6622798715911694, 0.7352235283944992, 0.632326909650514, 0.644264261452004, 0.7024499853169688, 0.6843007024966539, 0.6707903908897688, 0.6567610015896769, 0.6476443296596585, 0.2231287377963665, 0.7318158324515786, 0.7178403781714562, 0.8039890173219876, 0.7384227557115095]}, {\"categories\": [\"0\", \"1\", \"2\", \"3\", \"4\", \"5\", \"6\", \"7\", \"8\", \"9\", \"10\", \"11\", \"12\", \"13\", \"14\", \"15\", \"16\", \"17\", \"18\", \"19\", \"20\", \"21\", \"22\", \"23\", \"24\", \"25\", \"26\", \"27\", \"28\", \"29\"], \"mode\": \"lines\", \"name\": \"weighted_accuracy_max\", \"stepped\": true, \"type\": \"scatter\", \"data\": [0.6674961509713814, 0.7252430753513018, 0.7252430753513018, 0.7252430753513018, 0.7252430753513018, 0.7252430753513018, 0.7252430753513018, 0.7252430753513018, 0.7252430753513018, 0.7252430753513018, 0.7252430753513018, 0.7252430753513018, 0.7252430753513018, 0.8024950501803627, 0.8024950501803627, 0.8024950501803627, 0.8024950501803627, 0.8024950501803627, 0.8024950501803627, 0.8024950501803627, 0.8024950501803627, 0.8024950501803627, 0.8024950501803627, 0.8024950501803627, 0.8024950501803627, 0.8024950501803627, 0.8024950501803627, 0.8024950501803627, 0.8039890173219876, 0.8039890173219876]}]}, \"metricName\": null, \"primaryMetricName\": \"accuracy\", \"showLegend\": false}, \"run_metrics\": [{\"name\": \"experiment_status\", \"run_id\": \"AutoML_9a799cff-d460-4b65-a8e8-a9ad332b6707\", \"categories\": [0, 1, 2, 3, 4, 5, 6, 7, 8, 9, 10, 11, 12, 13], \"series\": [{\"data\": [\"DatasetEvaluation\", \"FeaturesGeneration\", \"DatasetFeaturization\", \"DatasetFeaturizationCompleted\", \"DatasetCrossValidationSplit\", \"ModelSelection\", \"BestRunExplainModel\", \"ModelExplanationDataSetSetup\", \"PickSurrogateModel\", \"EngineeredFeatureExplanations\", \"EngineeredFeatureExplanations\", \"RawFeaturesExplanations\", \"RawFeaturesExplanations\", \"BestRunExplainModel\"]}]}, {\"name\": \"experiment_status_description\", \"run_id\": \"AutoML_9a799cff-d460-4b65-a8e8-a9ad332b6707\", \"categories\": [0, 1, 2, 3, 4, 5, 6, 7, 8, 9, 10, 11, 12, 13], \"series\": [{\"data\": [\"Gathering dataset statistics.\", \"Generating features for the dataset.\", \"Beginning to fit featurizers and featurize the dataset.\", \"Completed fit featurizers and featurizing the dataset.\", \"Generating individually featurized CV splits.\", \"Beginning model selection.\", \"Best run model explanations started\", \"Model explanations data setup completed\", \"Choosing LightGBM as the surrogate model for explanations\", \"Computation of engineered features started\", \"Computation of engineered features completed\", \"Computation of raw features started\", \"Computation of raw features completed\", \"Best run model explanations completed\"]}]}, {\"name\": \"recall_score_micro\", \"run_id\": \"AutoML_9a799cff-d460-4b65-a8e8-a9ad332b6707\", \"categories\": [0], \"series\": [{\"data\": [0.740952380952381]}]}, {\"name\": \"average_precision_score_weighted\", \"run_id\": \"AutoML_9a799cff-d460-4b65-a8e8-a9ad332b6707\", \"categories\": [0], \"series\": [{\"data\": [0.7847721888411849]}]}, {\"name\": \"accuracy\", \"run_id\": \"AutoML_9a799cff-d460-4b65-a8e8-a9ad332b6707\", \"categories\": [0], \"series\": [{\"data\": [0.740952380952381]}]}, {\"name\": \"weighted_accuracy\", \"run_id\": \"AutoML_9a799cff-d460-4b65-a8e8-a9ad332b6707\", \"categories\": [0], \"series\": [{\"data\": [0.8039890173219876]}]}, {\"name\": \"matthews_correlation\", \"run_id\": \"AutoML_9a799cff-d460-4b65-a8e8-a9ad332b6707\", \"categories\": [0], \"series\": [{\"data\": [0.4081213879215442]}]}, {\"name\": \"AUC_micro\", \"run_id\": \"AutoML_9a799cff-d460-4b65-a8e8-a9ad332b6707\", \"categories\": [0], \"series\": [{\"data\": [0.763]}]}, {\"name\": \"precision_score_macro\", \"run_id\": \"AutoML_9a799cff-d460-4b65-a8e8-a9ad332b6707\", \"categories\": [0], \"series\": [{\"data\": [0.8116666666666668]}]}, {\"name\": \"norm_macro_recall\", \"run_id\": \"AutoML_9a799cff-d460-4b65-a8e8-a9ad332b6707\", \"categories\": [0], \"series\": [{\"data\": [0.3002037178507767]}]}, {\"name\": \"f1_score_micro\", \"run_id\": \"AutoML_9a799cff-d460-4b65-a8e8-a9ad332b6707\", \"categories\": [0], \"series\": [{\"data\": [0.740952380952381]}]}, {\"name\": \"AUC_weighted\", \"run_id\": \"AutoML_9a799cff-d460-4b65-a8e8-a9ad332b6707\", \"categories\": [0], \"series\": [{\"data\": [0.7191157675191289]}]}, {\"name\": \"f1_score_weighted\", \"run_id\": \"AutoML_9a799cff-d460-4b65-a8e8-a9ad332b6707\", \"categories\": [0], \"series\": [{\"data\": [0.6985879351740696]}]}, {\"name\": \"recall_score_weighted\", \"run_id\": \"AutoML_9a799cff-d460-4b65-a8e8-a9ad332b6707\", \"categories\": [0], \"series\": [{\"data\": [0.740952380952381]}]}, {\"name\": \"average_precision_score_micro\", \"run_id\": \"AutoML_9a799cff-d460-4b65-a8e8-a9ad332b6707\", \"categories\": [0], \"series\": [{\"data\": [0.7605419335028485]}]}, {\"name\": \"f1_score_macro\", \"run_id\": \"AutoML_9a799cff-d460-4b65-a8e8-a9ad332b6707\", \"categories\": [0], \"series\": [{\"data\": [0.6209243697478992]}]}, {\"name\": \"precision_score_micro\", \"run_id\": \"AutoML_9a799cff-d460-4b65-a8e8-a9ad332b6707\", \"categories\": [0], \"series\": [{\"data\": [0.740952380952381]}]}, {\"name\": \"recall_score_macro\", \"run_id\": \"AutoML_9a799cff-d460-4b65-a8e8-a9ad332b6707\", \"categories\": [0], \"series\": [{\"data\": [0.6501018589253883]}]}, {\"name\": \"average_precision_score_macro\", \"run_id\": \"AutoML_9a799cff-d460-4b65-a8e8-a9ad332b6707\", \"categories\": [0], \"series\": [{\"data\": [0.7201485133037746]}]}, {\"name\": \"balanced_accuracy\", \"run_id\": \"AutoML_9a799cff-d460-4b65-a8e8-a9ad332b6707\", \"categories\": [0], \"series\": [{\"data\": [0.6501018589253883]}]}, {\"name\": \"log_loss\", \"run_id\": \"AutoML_9a799cff-d460-4b65-a8e8-a9ad332b6707\", \"categories\": [0], \"series\": [{\"data\": [0.5874866694086803]}]}, {\"name\": \"precision_score_weighted\", \"run_id\": \"AutoML_9a799cff-d460-4b65-a8e8-a9ad332b6707\", \"categories\": [0], \"series\": [{\"data\": [0.822994708994709]}]}, {\"name\": \"AUC_macro\", \"run_id\": \"AutoML_9a799cff-d460-4b65-a8e8-a9ad332b6707\", \"categories\": [0], \"series\": [{\"data\": [0.7191157675191289]}]}], \"run_logs\": \"\\nRun is completed.\", \"graph\": {}, \"widget_settings\": {\"childWidgetDisplay\": \"popup\", \"send_telemetry\": false, \"log_level\": \"INFO\", \"sdk_version\": \"1.18.0\"}, \"loading\": false}"
          },
          "metadata": {}
        }
      ],
      "execution_count": 11,
      "metadata": {
        "gather": {
          "logged": 1606379867852
        },
        "jupyter": {
          "outputs_hidden": false,
          "source_hidden": false
        },
        "nteract": {
          "transient": {
            "deleting": false
          }
        }
      }
    },
    {
      "cell_type": "code",
      "source": [
        "# Retrieve and save your best automl model.\n",
        "best_run,fitted_model = auto_run.get_output(iteration=28)"
      ],
      "outputs": [],
      "execution_count": 12,
      "metadata": {
        "pycharm": {
          "name": "#%%\n"
        },
        "gather": {
          "logged": 1606379898706
        }
      }
    },
    {
      "cell_type": "code",
      "source": [
        "#Example code from https://docs.microsoft.com/en-us/azure/machine-learning/how-to-configure-auto-features#scaling-and-normalization\n",
        "\n",
        "from pprint import pprint\n",
        "model = fitted_model\n",
        "\n",
        "def print_model(model, prefix=\"\"):\n",
        "    for step in model.steps:\n",
        "        print(prefix + step[0])\n",
        "        if hasattr(step[1], 'estimators') and hasattr(step[1], 'weights'):\n",
        "            pprint({'estimators': list(\n",
        "                e[0] for e in step[1].estimators), 'weights': step[1].weights})\n",
        "            print()\n",
        "            for estimator in step[1].estimators:\n",
        "                print_model(estimator[1], estimator[0] + ' - ')\n",
        "        else:\n",
        "            pprint(step[1].get_params())\n",
        "            print()\n",
        "\n",
        "print_model(model)"
      ],
      "outputs": [
        {
          "output_type": "stream",
          "name": "stdout",
          "text": [
            "datatransformer\n",
            "{'enable_dnn': None,\n",
            " 'enable_feature_sweeping': None,\n",
            " 'feature_sweeping_config': None,\n",
            " 'feature_sweeping_timeout': None,\n",
            " 'featurization_config': None,\n",
            " 'force_text_dnn': None,\n",
            " 'is_cross_validation': None,\n",
            " 'is_onnx_compatible': None,\n",
            " 'logger': None,\n",
            " 'observer': None,\n",
            " 'task': None,\n",
            " 'working_dir': None}\n",
            "\n",
            "prefittedsoftvotingclassifier\n",
            "{'estimators': ['13', '17', '1', '26', '20', '2'],\n",
            " 'weights': [0.38461538461538464,\n",
            "             0.07692307692307693,\n",
            "             0.07692307692307693,\n",
            "             0.23076923076923078,\n",
            "             0.15384615384615385,\n",
            "             0.07692307692307693]}\n",
            "\n",
            "13 - minmaxscaler\n",
            "{'copy': True, 'feature_range': (0, 1)}\n",
            "\n",
            "13 - sgdclassifierwrapper\n",
            "{'alpha': 4.693930612244897,\n",
            " 'class_weight': 'balanced',\n",
            " 'eta0': 0.001,\n",
            " 'fit_intercept': False,\n",
            " 'l1_ratio': 0.3877551020408163,\n",
            " 'learning_rate': 'constant',\n",
            " 'loss': 'squared_hinge',\n",
            " 'max_iter': 1000,\n",
            " 'n_jobs': 1,\n",
            " 'penalty': 'none',\n",
            " 'power_t': 0.3333333333333333,\n",
            " 'random_state': None,\n",
            " 'tol': 0.001}\n",
            "\n",
            "17 - standardscalerwrapper\n",
            "{'class_name': 'StandardScaler',\n",
            " 'copy': True,\n",
            " 'module_name': 'sklearn.preprocessing._data',\n",
            " 'with_mean': True,\n",
            " 'with_std': True}\n",
            "\n",
            "17 - randomforestclassifier\n",
            "{'bootstrap': False,\n",
            " 'ccp_alpha': 0.0,\n",
            " 'class_weight': 'balanced',\n",
            " 'criterion': 'entropy',\n",
            " 'max_depth': None,\n",
            " 'max_features': 'sqrt',\n",
            " 'max_leaf_nodes': None,\n",
            " 'max_samples': None,\n",
            " 'min_impurity_decrease': 0.0,\n",
            " 'min_impurity_split': None,\n",
            " 'min_samples_leaf': 0.035789473684210524,\n",
            " 'min_samples_split': 0.15052631578947367,\n",
            " 'min_weight_fraction_leaf': 0.0,\n",
            " 'n_estimators': 10,\n",
            " 'n_jobs': 1,\n",
            " 'oob_score': False,\n",
            " 'random_state': None,\n",
            " 'verbose': 0,\n",
            " 'warm_start': False}\n",
            "\n",
            "1 - maxabsscaler\n",
            "{'copy': True}\n",
            "\n",
            "1 - xgboostclassifier\n",
            "{'base_score': 0.5,\n",
            " 'booster': 'gbtree',\n",
            " 'colsample_bylevel': 1,\n",
            " 'colsample_bynode': 1,\n",
            " 'colsample_bytree': 1,\n",
            " 'gamma': 0,\n",
            " 'learning_rate': 0.1,\n",
            " 'max_delta_step': 0,\n",
            " 'max_depth': 3,\n",
            " 'min_child_weight': 1,\n",
            " 'missing': nan,\n",
            " 'n_estimators': 100,\n",
            " 'n_jobs': 1,\n",
            " 'nthread': None,\n",
            " 'objective': 'binary:logistic',\n",
            " 'random_state': 0,\n",
            " 'reg_alpha': 0,\n",
            " 'reg_lambda': 1,\n",
            " 'scale_pos_weight': 1,\n",
            " 'seed': None,\n",
            " 'silent': None,\n",
            " 'subsample': 1,\n",
            " 'tree_method': 'auto',\n",
            " 'verbose': -10,\n",
            " 'verbosity': 0}\n",
            "\n",
            "26 - minmaxscaler\n",
            "{'copy': True, 'feature_range': (0, 1)}\n",
            "\n",
            "26 - randomforestclassifier\n",
            "{'bootstrap': True,\n",
            " 'ccp_alpha': 0.0,\n",
            " 'class_weight': None,\n",
            " 'criterion': 'entropy',\n",
            " 'max_depth': None,\n",
            " 'max_features': 0.3,\n",
            " 'max_leaf_nodes': None,\n",
            " 'max_samples': None,\n",
            " 'min_impurity_decrease': 0.0,\n",
            " 'min_impurity_split': None,\n",
            " 'min_samples_leaf': 0.01,\n",
            " 'min_samples_split': 0.056842105263157895,\n",
            " 'min_weight_fraction_leaf': 0.0,\n",
            " 'n_estimators': 50,\n",
            " 'n_jobs': 1,\n",
            " 'oob_score': True,\n",
            " 'random_state': None,\n",
            " 'verbose': 0,\n",
            " 'warm_start': False}\n",
            "\n",
            "20 - standardscalerwrapper\n",
            "{'class_name': 'StandardScaler',\n",
            " 'copy': True,\n",
            " 'module_name': 'sklearn.preprocessing._data',\n",
            " 'with_mean': True,\n",
            " 'with_std': True}\n",
            "\n",
            "20 - randomforestclassifier\n",
            "{'bootstrap': False,\n",
            " 'ccp_alpha': 0.0,\n",
            " 'class_weight': 'balanced',\n",
            " 'criterion': 'gini',\n",
            " 'max_depth': None,\n",
            " 'max_features': 0.05,\n",
            " 'max_leaf_nodes': None,\n",
            " 'max_samples': None,\n",
            " 'min_impurity_decrease': 0.0,\n",
            " 'min_impurity_split': None,\n",
            " 'min_samples_leaf': 0.01,\n",
            " 'min_samples_split': 0.10368421052631578,\n",
            " 'min_weight_fraction_leaf': 0.0,\n",
            " 'n_estimators': 10,\n",
            " 'n_jobs': 1,\n",
            " 'oob_score': False,\n",
            " 'random_state': None,\n",
            " 'verbose': 0,\n",
            " 'warm_start': False}\n",
            "\n",
            "2 - minmaxscaler\n",
            "{'copy': True, 'feature_range': (0, 1)}\n",
            "\n",
            "2 - randomforestclassifier\n",
            "{'bootstrap': False,\n",
            " 'ccp_alpha': 0.0,\n",
            " 'class_weight': None,\n",
            " 'criterion': 'gini',\n",
            " 'max_depth': None,\n",
            " 'max_features': 'sqrt',\n",
            " 'max_leaf_nodes': None,\n",
            " 'max_samples': None,\n",
            " 'min_impurity_decrease': 0.0,\n",
            " 'min_impurity_split': None,\n",
            " 'min_samples_leaf': 0.01,\n",
            " 'min_samples_split': 0.10368421052631578,\n",
            " 'min_weight_fraction_leaf': 0.0,\n",
            " 'n_estimators': 10,\n",
            " 'n_jobs': 1,\n",
            " 'oob_score': False,\n",
            " 'random_state': None,\n",
            " 'verbose': 0,\n",
            " 'warm_start': False}\n",
            "\n"
          ]
        }
      ],
      "execution_count": 13,
      "metadata": {
        "pycharm": {
          "name": "#%%\n"
        },
        "gather": {
          "logged": 1606379911449
        }
      }
    },
    {
      "cell_type": "markdown",
      "source": [
        "## Best Model\n",
        "\n",
        "TODO: In the cell below, get the best model from the automl experiments and display all the properties of the model."
      ],
      "metadata": {}
    },
    {
      "cell_type": "code",
      "source": [
        "import joblib\r\n",
        "joblib.dump(fitted_model,'tmp_autoML_model.pkl')"
      ],
      "outputs": [
        {
          "output_type": "execute_result",
          "execution_count": 40,
          "data": {
            "text/plain": "['tmp_autoML_model.pkl']"
          },
          "metadata": {}
        }
      ],
      "execution_count": 40,
      "metadata": {
        "collapsed": true,
        "jupyter": {
          "source_hidden": false,
          "outputs_hidden": false
        },
        "nteract": {
          "transient": {
            "deleting": false
          }
        },
        "gather": {
          "logged": 1606385079638
        }
      }
    },
    {
      "cell_type": "code",
      "source": [
        "if not os.path.exists('outputs'):\n",
        "    os.makedirs('outputs')\n",
        "\n",
        "# TODO: save best AutoML model\n",
        "automl_model= auto_run.register_model(model_name='new_try_automl_model',iteration=28)"
      ],
      "outputs": [],
      "execution_count": 43,
      "metadata": {
        "pycharm": {
          "name": "#%%\n"
        },
        "gather": {
          "logged": 1606385299025
        }
      }
    },
    {
      "cell_type": "markdown",
      "source": [
        "## Model Deployment\n",
        "\n",
        "Remember you have to deploy only one of the two models you trained.. Perform the steps in the rest of this notebook only if you wish to deploy this model.\n",
        "\n",
        "TODO: In the cell below, register the model, create an inference config and deploy the model as a web service."
      ],
      "metadata": {}
    },
    {
      "cell_type": "code",
      "source": [
        "import os\r\n",
        "#print(os.getenv('AZUREML_MODEL_DIR'))\r\n",
        "print(os.)"
      ],
      "outputs": [
        {
          "output_type": "error",
          "ename": "TypeError",
          "evalue": "getenv() missing 1 required positional argument: 'key'",
          "traceback": [
            "\u001b[0;31m---------------------------------------------------------------------------\u001b[0m",
            "\u001b[0;31mTypeError\u001b[0m                                 Traceback (most recent call last)",
            "\u001b[0;32m<ipython-input-48-4bf800022eb1>\u001b[0m in \u001b[0;36m<module>\u001b[0;34m\u001b[0m\n\u001b[1;32m      1\u001b[0m \u001b[0;32mimport\u001b[0m \u001b[0mos\u001b[0m\u001b[0;34m\u001b[0m\u001b[0;34m\u001b[0m\u001b[0m\n\u001b[1;32m      2\u001b[0m \u001b[0;31m#print(os.getenv('AZUREML_MODEL_DIR'))\u001b[0m\u001b[0;34m\u001b[0m\u001b[0;34m\u001b[0m\u001b[0;34m\u001b[0m\u001b[0m\n\u001b[0;32m----> 3\u001b[0;31m \u001b[0mprint\u001b[0m\u001b[0;34m(\u001b[0m\u001b[0mos\u001b[0m\u001b[0;34m.\u001b[0m\u001b[0mgetenv\u001b[0m\u001b[0;34m(\u001b[0m\u001b[0;34m)\u001b[0m\u001b[0;34m)\u001b[0m\u001b[0;34m\u001b[0m\u001b[0;34m\u001b[0m\u001b[0m\n\u001b[0m",
            "\u001b[0;31mTypeError\u001b[0m: getenv() missing 1 required positional argument: 'key'"
          ]
        }
      ],
      "execution_count": 48,
      "metadata": {
        "collapsed": true,
        "jupyter": {
          "source_hidden": false,
          "outputs_hidden": false
        },
        "nteract": {
          "transient": {
            "deleting": false
          }
        },
        "gather": {
          "logged": 1606385576481
        }
      }
    },
    {
      "cell_type": "code",
      "source": [
        "import json\r\n",
        "import numpy as np\r\n",
        "import os\r\n",
        "import pickle\r\n",
        "import joblib\r\n",
        "import azureml.train.automl\r\n",
        "from azureml.core.model import Model\r\n",
        "\r\n",
        "model_path = os.path.join(os.getenv('AZUREML_MODEL_DIR'), 'model.pkl')\r\n",
        "\r\n",
        "#model = Model.register(model_path='tmp_autoML_model.pkl',model_name='new_automl_model',workspace=ws)"
      ],
      "outputs": [
        {
          "output_type": "error",
          "ename": "TypeError",
          "evalue": "expected str, bytes or os.PathLike object, not NoneType",
          "traceback": [
            "\u001b[0;31m---------------------------------------------------------------------------\u001b[0m",
            "\u001b[0;31mTypeError\u001b[0m                                 Traceback (most recent call last)",
            "\u001b[0;32m<ipython-input-44-9687c06d4879>\u001b[0m in \u001b[0;36m<module>\u001b[0;34m\u001b[0m\n\u001b[1;32m      7\u001b[0m \u001b[0;32mfrom\u001b[0m \u001b[0mazureml\u001b[0m\u001b[0;34m.\u001b[0m\u001b[0mcore\u001b[0m\u001b[0;34m.\u001b[0m\u001b[0mmodel\u001b[0m \u001b[0;32mimport\u001b[0m \u001b[0mModel\u001b[0m\u001b[0;34m\u001b[0m\u001b[0;34m\u001b[0m\u001b[0m\n\u001b[1;32m      8\u001b[0m \u001b[0;34m\u001b[0m\u001b[0m\n\u001b[0;32m----> 9\u001b[0;31m \u001b[0mmodel_path\u001b[0m \u001b[0;34m=\u001b[0m \u001b[0mos\u001b[0m\u001b[0;34m.\u001b[0m\u001b[0mpath\u001b[0m\u001b[0;34m.\u001b[0m\u001b[0mjoin\u001b[0m\u001b[0;34m(\u001b[0m\u001b[0mos\u001b[0m\u001b[0;34m.\u001b[0m\u001b[0mgetenv\u001b[0m\u001b[0;34m(\u001b[0m\u001b[0;34m'AZURE_MODEL_DIR'\u001b[0m\u001b[0;34m)\u001b[0m\u001b[0;34m,\u001b[0m \u001b[0;34m'model.pkl'\u001b[0m\u001b[0;34m)\u001b[0m\u001b[0;34m\u001b[0m\u001b[0;34m\u001b[0m\u001b[0m\n\u001b[0m\u001b[1;32m     10\u001b[0m \u001b[0;34m\u001b[0m\u001b[0m\n\u001b[1;32m     11\u001b[0m \u001b[0;31m#model = Model.register(model_path='tmp_autoML_model.pkl',model_name='new_automl_model',workspace=ws)\u001b[0m\u001b[0;34m\u001b[0m\u001b[0;34m\u001b[0m\u001b[0;34m\u001b[0m\u001b[0m\n",
            "\u001b[0;32m/anaconda/envs/azureml_py36/lib/python3.6/posixpath.py\u001b[0m in \u001b[0;36mjoin\u001b[0;34m(a, *p)\u001b[0m\n\u001b[1;32m     78\u001b[0m     \u001b[0mwill\u001b[0m \u001b[0mbe\u001b[0m \u001b[0mdiscarded\u001b[0m\u001b[0;34m.\u001b[0m  \u001b[0mAn\u001b[0m \u001b[0mempty\u001b[0m \u001b[0mlast\u001b[0m \u001b[0mpart\u001b[0m \u001b[0mwill\u001b[0m \u001b[0mresult\u001b[0m \u001b[0;32min\u001b[0m \u001b[0ma\u001b[0m \u001b[0mpath\u001b[0m \u001b[0mthat\u001b[0m\u001b[0;34m\u001b[0m\u001b[0;34m\u001b[0m\u001b[0m\n\u001b[1;32m     79\u001b[0m     ends with a separator.\"\"\"\n\u001b[0;32m---> 80\u001b[0;31m     \u001b[0ma\u001b[0m \u001b[0;34m=\u001b[0m \u001b[0mos\u001b[0m\u001b[0;34m.\u001b[0m\u001b[0mfspath\u001b[0m\u001b[0;34m(\u001b[0m\u001b[0ma\u001b[0m\u001b[0;34m)\u001b[0m\u001b[0;34m\u001b[0m\u001b[0;34m\u001b[0m\u001b[0m\n\u001b[0m\u001b[1;32m     81\u001b[0m     \u001b[0msep\u001b[0m \u001b[0;34m=\u001b[0m \u001b[0m_get_sep\u001b[0m\u001b[0;34m(\u001b[0m\u001b[0ma\u001b[0m\u001b[0;34m)\u001b[0m\u001b[0;34m\u001b[0m\u001b[0;34m\u001b[0m\u001b[0m\n\u001b[1;32m     82\u001b[0m     \u001b[0mpath\u001b[0m \u001b[0;34m=\u001b[0m \u001b[0ma\u001b[0m\u001b[0;34m\u001b[0m\u001b[0;34m\u001b[0m\u001b[0m\n",
            "\u001b[0;31mTypeError\u001b[0m: expected str, bytes or os.PathLike object, not NoneType"
          ]
        }
      ],
      "execution_count": 44,
      "metadata": {
        "collapsed": true,
        "jupyter": {
          "source_hidden": false,
          "outputs_hidden": false
        },
        "nteract": {
          "transient": {
            "deleting": false
          }
        },
        "gather": {
          "logged": 1606385107687
        }
      }
    },
    {
      "cell_type": "code",
      "source": [
        "from azureml.core.model import Model\r\n",
        "import logging\r\n",
        "\r\n",
        "\r\n",
        "\r\n",
        "logging.basicConfig(level=logging.DEBUG)\r\n",
        "print(Model.get_model_path(model_name='new_automl_model'))"
      ],
      "outputs": [
        {
          "output_type": "error",
          "ename": "ModelNotFoundException",
          "evalue": "ModelNotFoundException:\n\tMessage: Model not found in cache or in root at ./new_automl_model. For more info,set logging level to DEBUG.\n\tInnerException None\n\tErrorResponse \n{\n    \"error\": {\n        \"message\": \"Model not found in cache or in root at ./new_automl_model. For more info,set logging level to DEBUG.\"\n    }\n}",
          "traceback": [
            "\u001b[0;31m---------------------------------------------------------------------------\u001b[0m",
            "\u001b[0;31mModelNotFoundException\u001b[0m                    Traceback (most recent call last)",
            "\u001b[0;32m<ipython-input-42-4e35bfed5708>\u001b[0m in \u001b[0;36m<module>\u001b[0;34m\u001b[0m\n\u001b[1;32m      5\u001b[0m \u001b[0;34m\u001b[0m\u001b[0m\n\u001b[1;32m      6\u001b[0m \u001b[0mlogging\u001b[0m\u001b[0;34m.\u001b[0m\u001b[0mbasicConfig\u001b[0m\u001b[0;34m(\u001b[0m\u001b[0mlevel\u001b[0m\u001b[0;34m=\u001b[0m\u001b[0mlogging\u001b[0m\u001b[0;34m.\u001b[0m\u001b[0mDEBUG\u001b[0m\u001b[0;34m)\u001b[0m\u001b[0;34m\u001b[0m\u001b[0;34m\u001b[0m\u001b[0m\n\u001b[0;32m----> 7\u001b[0;31m \u001b[0mprint\u001b[0m\u001b[0;34m(\u001b[0m\u001b[0mModel\u001b[0m\u001b[0;34m.\u001b[0m\u001b[0mget_model_path\u001b[0m\u001b[0;34m(\u001b[0m\u001b[0mmodel_name\u001b[0m\u001b[0;34m=\u001b[0m\u001b[0;34m'new_automl_model'\u001b[0m\u001b[0;34m)\u001b[0m\u001b[0;34m)\u001b[0m\u001b[0;34m\u001b[0m\u001b[0;34m\u001b[0m\u001b[0m\n\u001b[0m",
            "\u001b[0;32m/anaconda/envs/azureml_py36/lib/python3.6/site-packages/azureml/core/model.py\u001b[0m in \u001b[0;36mget_model_path\u001b[0;34m(model_name, version, _workspace)\u001b[0m\n\u001b[1;32m    790\u001b[0m                 \u001b[0;32mreturn\u001b[0m \u001b[0mModel\u001b[0m\u001b[0;34m.\u001b[0m\u001b[0m_get_model_path_remote\u001b[0m\u001b[0;34m(\u001b[0m\u001b[0mmodel_name\u001b[0m\u001b[0;34m,\u001b[0m \u001b[0mversion\u001b[0m\u001b[0;34m,\u001b[0m \u001b[0mactive_workspace\u001b[0m\u001b[0;34m)\u001b[0m\u001b[0;34m\u001b[0m\u001b[0;34m\u001b[0m\u001b[0m\n\u001b[1;32m    791\u001b[0m             \u001b[0;32melse\u001b[0m\u001b[0;34m:\u001b[0m\u001b[0;34m\u001b[0m\u001b[0;34m\u001b[0m\u001b[0m\n\u001b[0;32m--> 792\u001b[0;31m                 \u001b[0;32mreturn\u001b[0m \u001b[0mModel\u001b[0m\u001b[0;34m.\u001b[0m\u001b[0m_get_model_path_local\u001b[0m\u001b[0;34m(\u001b[0m\u001b[0mmodel_name\u001b[0m\u001b[0;34m,\u001b[0m \u001b[0mversion\u001b[0m\u001b[0;34m)\u001b[0m\u001b[0;34m\u001b[0m\u001b[0;34m\u001b[0m\u001b[0m\n\u001b[0m\u001b[1;32m    793\u001b[0m \u001b[0;34m\u001b[0m\u001b[0m\n\u001b[1;32m    794\u001b[0m     \u001b[0;34m@\u001b[0m\u001b[0mstaticmethod\u001b[0m\u001b[0;34m\u001b[0m\u001b[0;34m\u001b[0m\u001b[0m\n",
            "\u001b[0;32m/anaconda/envs/azureml_py36/lib/python3.6/site-packages/azureml/core/model.py\u001b[0m in \u001b[0;36m_get_model_path_local\u001b[0;34m(model_name, version)\u001b[0m\n\u001b[1;32m    811\u001b[0m         \u001b[0;31m# Probing azureml-models/<name>\u001b[0m\u001b[0;34m\u001b[0m\u001b[0;34m\u001b[0m\u001b[0;34m\u001b[0m\u001b[0m\n\u001b[1;32m    812\u001b[0m         \u001b[0;32mif\u001b[0m \u001b[0;32mnot\u001b[0m \u001b[0mos\u001b[0m\u001b[0;34m.\u001b[0m\u001b[0mpath\u001b[0m\u001b[0;34m.\u001b[0m\u001b[0mexists\u001b[0m\u001b[0;34m(\u001b[0m\u001b[0mcandidate_model_path\u001b[0m\u001b[0;34m)\u001b[0m\u001b[0;34m:\u001b[0m\u001b[0;34m\u001b[0m\u001b[0;34m\u001b[0m\u001b[0m\n\u001b[0;32m--> 813\u001b[0;31m             \u001b[0;32mreturn\u001b[0m \u001b[0mModel\u001b[0m\u001b[0;34m.\u001b[0m\u001b[0m_get_model_path_local_from_root\u001b[0m\u001b[0;34m(\u001b[0m\u001b[0mmodel_name\u001b[0m\u001b[0;34m)\u001b[0m\u001b[0;34m\u001b[0m\u001b[0;34m\u001b[0m\u001b[0m\n\u001b[0m\u001b[1;32m    814\u001b[0m         \u001b[0;32melse\u001b[0m\u001b[0;34m:\u001b[0m\u001b[0;34m\u001b[0m\u001b[0;34m\u001b[0m\u001b[0m\n\u001b[1;32m    815\u001b[0m             \u001b[0;31m# Probing azureml-models/<name> exists, probing version\u001b[0m\u001b[0;34m\u001b[0m\u001b[0;34m\u001b[0m\u001b[0;34m\u001b[0m\u001b[0m\n",
            "\u001b[0;32m/anaconda/envs/azureml_py36/lib/python3.6/site-packages/azureml/core/model.py\u001b[0m in \u001b[0;36m_get_model_path_local_from_root\u001b[0;34m(model_name)\u001b[0m\n\u001b[1;32m    854\u001b[0m             \u001b[0;32mreturn\u001b[0m \u001b[0mcandidate_model_path\u001b[0m\u001b[0;34m\u001b[0m\u001b[0;34m\u001b[0m\u001b[0m\n\u001b[1;32m    855\u001b[0m         raise ModelNotFoundException(\"Model not found in cache or in root at ./{}. For more info,\"\n\u001b[0;32m--> 856\u001b[0;31m                                      \"set logging level to DEBUG.\".format(candidate_model_path))\n\u001b[0m\u001b[1;32m    857\u001b[0m \u001b[0;34m\u001b[0m\u001b[0m\n\u001b[1;32m    858\u001b[0m     \u001b[0;34m@\u001b[0m\u001b[0mstaticmethod\u001b[0m\u001b[0;34m\u001b[0m\u001b[0;34m\u001b[0m\u001b[0m\n",
            "\u001b[0;31mModelNotFoundException\u001b[0m: ModelNotFoundException:\n\tMessage: Model not found in cache or in root at ./new_automl_model. For more info,set logging level to DEBUG.\n\tInnerException None\n\tErrorResponse \n{\n    \"error\": {\n        \"message\": \"Model not found in cache or in root at ./new_automl_model. For more info,set logging level to DEBUG.\"\n    }\n}"
          ]
        }
      ],
      "execution_count": 42,
      "metadata": {
        "collapsed": true,
        "jupyter": {
          "source_hidden": false,
          "outputs_hidden": false
        },
        "nteract": {
          "transient": {
            "deleting": false
          }
        }
      }
    },
    {
      "cell_type": "code",
      "source": [
        "# Code from https://docs.microsoft.com/en-us/python/api/overview/azure/ml/?view=azure-ml-py#model-deploy\n",
        "\n",
        "# Combine scoring script & environment in Inference configuration\n",
        "inference_config = InferenceConfig(entry_script=\"score.py\",\n",
        "                                   environment=myenv)\n",
        "\n",
        "# Set deployment configuration\n",
        "deployment_config = AciWebservice.deploy_configuration(cpu_cores = 1,\n",
        "                                                       memory_gb = 1)\n",
        "\n",
        "# Define the model, inference, & deployment configuration and web service name and location to deploy\n",
        "service = Model.deploy(workspace = ws,\n",
        "                       name = \"webservice-4\",\n",
        "                       models = [automl_model],\n",
        "                       inference_config = inference_config,\n",
        "                       deployment_config = deployment_config)\n",
        "\n",
        "service.wait_for_deployment(show_output=True)"
      ],
      "outputs": [
        {
          "output_type": "stream",
          "name": "stdout",
          "text": [
            "Tips: You can try get_logs(): https://aka.ms/debugimage#dockerlog or local deployment: https://aka.ms/debugimage#debug-locally to debug if deployment takes longer than 10 minutes.\n",
            "Running....................................................................................\n",
            "Failed\n"
          ]
        },
        {
          "output_type": "stream",
          "name": "stderr",
          "text": [
            "ERROR - Service deployment polling reached non-successful terminal state, current service state: Failed\n",
            "Operation ID: 6db7c5f5-1db4-4045-8943-35be105d417a\n",
            "More information can be found using '.get_logs()'\n",
            "Error:\n",
            "{\n",
            "  \"code\": \"AciDeploymentFailed\",\n",
            "  \"message\": \"Aci Deployment failed with exception: Your container application crashed. This may be caused by errors in your scoring file's init() function.\\nPlease check the logs for your container instance: webservice-3. From the AML SDK, you can run print(service.get_logs()) if you have service object to fetch the logs. \\nYou can also try to run image 3926bc7f79db44a2b6d02714b929da11.azurecr.io/azureml/azureml_1a31af1e7a24bf75a2aeeda4db33c10b locally. Please refer to https://aka.ms/debugimage#service-launch-fails for more information.\",\n",
            "  \"details\": [\n",
            "    {\n",
            "      \"code\": \"CrashLoopBackOff\",\n",
            "      \"message\": \"Your container application crashed. This may be caused by errors in your scoring file's init() function.\\nPlease check the logs for your container instance: webservice-3. From the AML SDK, you can run print(service.get_logs()) if you have service object to fetch the logs. \\nYou can also try to run image 3926bc7f79db44a2b6d02714b929da11.azurecr.io/azureml/azureml_1a31af1e7a24bf75a2aeeda4db33c10b locally. Please refer to https://aka.ms/debugimage#service-launch-fails for more information.\"\n",
            "    },\n",
            "    {\n",
            "      \"code\": \"AciDeploymentFailed\",\n",
            "      \"message\": \"Your container application crashed. Please follow the steps to debug:\\n1. From the AML SDK, you can run print(service.get_logs()) if you have service object to fetch the logs. Please refer to https://aka.ms/debugimage#dockerlog for more information.\\n2. If your container application crashed. This may be caused by errors in your scoring file's init() function. You can try debugging locally first. Please refer to https://aka.ms/debugimage#debug-locally for more information.\\n3. View the diagnostic events to check status of container, it may help you to debug the issue. {\\\"restartCount\\\":5,\\\"currentState\\\":{\\\"state\\\":\\\"Waiting\\\",\\\"startTime\\\":null,\\\"exitCode\\\":null,\\\"finishTime\\\":null,\\\"detailStatus\\\":\\\"CrashLoopBackOff: Back-off restarting failed\\\"},\\\"previousState\\\":{\\\"state\\\":\\\"Terminated\\\",\\\"startTime\\\":\\\"2020-11-26T10:46:37.454Z\\\",\\\"exitCode\\\":111,\\\"finishTime\\\":\\\"2020-11-26T10:46:41.113Z\\\",\\\"detailStatus\\\":\\\"Error\\\"},\\\"events\\\":[{\\\"count\\\":1,\\\"firstTimestamp\\\":\\\"2020-11-26T10:40:35Z\\\",\\\"lastTimestamp\\\":\\\"2020-11-26T10:40:35Z\\\",\\\"name\\\":\\\"Pulling\\\",\\\"message\\\":\\\"pulling image \\\\\\\"3926bc7f79db44a2b6d02714b929da11.azurecr.io/azureml/azureml_1a31af1e7a24bf75a2aeeda4db33c10b:latest\\\\\\\"\\\",\\\"type\\\":\\\"Normal\\\"},{\\\"count\\\":1,\\\"firstTimestamp\\\":\\\"2020-11-26T10:42:22Z\\\",\\\"lastTimestamp\\\":\\\"2020-11-26T10:42:22Z\\\",\\\"name\\\":\\\"Pulled\\\",\\\"message\\\":\\\"Successfully pulled image \\\\\\\"3926bc7f79db44a2b6d02714b929da11.azurecr.io/azureml/azureml_1a31af1e7a24bf75a2aeeda4db33c10b:latest\\\\\\\"\\\",\\\"type\\\":\\\"Normal\\\"},{\\\"count\\\":6,\\\"firstTimestamp\\\":\\\"2020-11-26T10:42:52Z\\\",\\\"lastTimestamp\\\":\\\"2020-11-26T10:46:37Z\\\",\\\"name\\\":\\\"Started\\\",\\\"message\\\":\\\"Started container\\\",\\\"type\\\":\\\"Normal\\\"},{\\\"count\\\":6,\\\"firstTimestamp\\\":\\\"2020-11-26T10:43:01Z\\\",\\\"lastTimestamp\\\":\\\"2020-11-26T10:46:41Z\\\",\\\"name\\\":\\\"Killing\\\",\\\"message\\\":\\\"Killing container with id 03fb54f33598d23dab2c7442a87bcc28259dc5cb8b5df33049190664b28751a0.\\\",\\\"type\\\":\\\"Normal\\\"}]}\"\n",
            "    }\n",
            "  ]\n",
            "}\n",
            "\n"
          ]
        },
        {
          "output_type": "error",
          "ename": "WebserviceException",
          "evalue": "WebserviceException:\n\tMessage: Service deployment polling reached non-successful terminal state, current service state: Failed\nOperation ID: 6db7c5f5-1db4-4045-8943-35be105d417a\nMore information can be found using '.get_logs()'\nError:\n{\n  \"code\": \"AciDeploymentFailed\",\n  \"message\": \"Aci Deployment failed with exception: Your container application crashed. This may be caused by errors in your scoring file's init() function.\\nPlease check the logs for your container instance: webservice-3. From the AML SDK, you can run print(service.get_logs()) if you have service object to fetch the logs. \\nYou can also try to run image 3926bc7f79db44a2b6d02714b929da11.azurecr.io/azureml/azureml_1a31af1e7a24bf75a2aeeda4db33c10b locally. Please refer to https://aka.ms/debugimage#service-launch-fails for more information.\",\n  \"details\": [\n    {\n      \"code\": \"CrashLoopBackOff\",\n      \"message\": \"Your container application crashed. This may be caused by errors in your scoring file's init() function.\\nPlease check the logs for your container instance: webservice-3. From the AML SDK, you can run print(service.get_logs()) if you have service object to fetch the logs. \\nYou can also try to run image 3926bc7f79db44a2b6d02714b929da11.azurecr.io/azureml/azureml_1a31af1e7a24bf75a2aeeda4db33c10b locally. Please refer to https://aka.ms/debugimage#service-launch-fails for more information.\"\n    },\n    {\n      \"code\": \"AciDeploymentFailed\",\n      \"message\": \"Your container application crashed. Please follow the steps to debug:\\n1. From the AML SDK, you can run print(service.get_logs()) if you have service object to fetch the logs. Please refer to https://aka.ms/debugimage#dockerlog for more information.\\n2. If your container application crashed. This may be caused by errors in your scoring file's init() function. You can try debugging locally first. Please refer to https://aka.ms/debugimage#debug-locally for more information.\\n3. View the diagnostic events to check status of container, it may help you to debug the issue. {\\\"restartCount\\\":5,\\\"currentState\\\":{\\\"state\\\":\\\"Waiting\\\",\\\"startTime\\\":null,\\\"exitCode\\\":null,\\\"finishTime\\\":null,\\\"detailStatus\\\":\\\"CrashLoopBackOff: Back-off restarting failed\\\"},\\\"previousState\\\":{\\\"state\\\":\\\"Terminated\\\",\\\"startTime\\\":\\\"2020-11-26T10:46:37.454Z\\\",\\\"exitCode\\\":111,\\\"finishTime\\\":\\\"2020-11-26T10:46:41.113Z\\\",\\\"detailStatus\\\":\\\"Error\\\"},\\\"events\\\":[{\\\"count\\\":1,\\\"firstTimestamp\\\":\\\"2020-11-26T10:40:35Z\\\",\\\"lastTimestamp\\\":\\\"2020-11-26T10:40:35Z\\\",\\\"name\\\":\\\"Pulling\\\",\\\"message\\\":\\\"pulling image \\\\\\\"3926bc7f79db44a2b6d02714b929da11.azurecr.io/azureml/azureml_1a31af1e7a24bf75a2aeeda4db33c10b:latest\\\\\\\"\\\",\\\"type\\\":\\\"Normal\\\"},{\\\"count\\\":1,\\\"firstTimestamp\\\":\\\"2020-11-26T10:42:22Z\\\",\\\"lastTimestamp\\\":\\\"2020-11-26T10:42:22Z\\\",\\\"name\\\":\\\"Pulled\\\",\\\"message\\\":\\\"Successfully pulled image \\\\\\\"3926bc7f79db44a2b6d02714b929da11.azurecr.io/azureml/azureml_1a31af1e7a24bf75a2aeeda4db33c10b:latest\\\\\\\"\\\",\\\"type\\\":\\\"Normal\\\"},{\\\"count\\\":6,\\\"firstTimestamp\\\":\\\"2020-11-26T10:42:52Z\\\",\\\"lastTimestamp\\\":\\\"2020-11-26T10:46:37Z\\\",\\\"name\\\":\\\"Started\\\",\\\"message\\\":\\\"Started container\\\",\\\"type\\\":\\\"Normal\\\"},{\\\"count\\\":6,\\\"firstTimestamp\\\":\\\"2020-11-26T10:43:01Z\\\",\\\"lastTimestamp\\\":\\\"2020-11-26T10:46:41Z\\\",\\\"name\\\":\\\"Killing\\\",\\\"message\\\":\\\"Killing container with id 03fb54f33598d23dab2c7442a87bcc28259dc5cb8b5df33049190664b28751a0.\\\",\\\"type\\\":\\\"Normal\\\"}]}\"\n    }\n  ]\n}\n\tInnerException None\n\tErrorResponse \n{\n    \"error\": {\n        \"message\": \"Service deployment polling reached non-successful terminal state, current service state: Failed\\nOperation ID: 6db7c5f5-1db4-4045-8943-35be105d417a\\nMore information can be found using '.get_logs()'\\nError:\\n{\\n  \\\"code\\\": \\\"AciDeploymentFailed\\\",\\n  \\\"message\\\": \\\"Aci Deployment failed with exception: Your container application crashed. This may be caused by errors in your scoring file's init() function.\\\\nPlease check the logs for your container instance: webservice-3. From the AML SDK, you can run print(service.get_logs()) if you have service object to fetch the logs. \\\\nYou can also try to run image 3926bc7f79db44a2b6d02714b929da11.azurecr.io/azureml/azureml_1a31af1e7a24bf75a2aeeda4db33c10b locally. Please refer to https://aka.ms/debugimage#service-launch-fails for more information.\\\",\\n  \\\"details\\\": [\\n    {\\n      \\\"code\\\": \\\"CrashLoopBackOff\\\",\\n      \\\"message\\\": \\\"Your container application crashed. This may be caused by errors in your scoring file's init() function.\\\\nPlease check the logs for your container instance: webservice-3. From the AML SDK, you can run print(service.get_logs()) if you have service object to fetch the logs. \\\\nYou can also try to run image 3926bc7f79db44a2b6d02714b929da11.azurecr.io/azureml/azureml_1a31af1e7a24bf75a2aeeda4db33c10b locally. Please refer to https://aka.ms/debugimage#service-launch-fails for more information.\\\"\\n    },\\n    {\\n      \\\"code\\\": \\\"AciDeploymentFailed\\\",\\n      \\\"message\\\": \\\"Your container application crashed. Please follow the steps to debug:\\\\n1. From the AML SDK, you can run print(service.get_logs()) if you have service object to fetch the logs. Please refer to https://aka.ms/debugimage#dockerlog for more information.\\\\n2. If your container application crashed. This may be caused by errors in your scoring file's init() function. You can try debugging locally first. Please refer to https://aka.ms/debugimage#debug-locally for more information.\\\\n3. View the diagnostic events to check status of container, it may help you to debug the issue. {\\\\\\\"restartCount\\\\\\\":5,\\\\\\\"currentState\\\\\\\":{\\\\\\\"state\\\\\\\":\\\\\\\"Waiting\\\\\\\",\\\\\\\"startTime\\\\\\\":null,\\\\\\\"exitCode\\\\\\\":null,\\\\\\\"finishTime\\\\\\\":null,\\\\\\\"detailStatus\\\\\\\":\\\\\\\"CrashLoopBackOff: Back-off restarting failed\\\\\\\"},\\\\\\\"previousState\\\\\\\":{\\\\\\\"state\\\\\\\":\\\\\\\"Terminated\\\\\\\",\\\\\\\"startTime\\\\\\\":\\\\\\\"2020-11-26T10:46:37.454Z\\\\\\\",\\\\\\\"exitCode\\\\\\\":111,\\\\\\\"finishTime\\\\\\\":\\\\\\\"2020-11-26T10:46:41.113Z\\\\\\\",\\\\\\\"detailStatus\\\\\\\":\\\\\\\"Error\\\\\\\"},\\\\\\\"events\\\\\\\":[{\\\\\\\"count\\\\\\\":1,\\\\\\\"firstTimestamp\\\\\\\":\\\\\\\"2020-11-26T10:40:35Z\\\\\\\",\\\\\\\"lastTimestamp\\\\\\\":\\\\\\\"2020-11-26T10:40:35Z\\\\\\\",\\\\\\\"name\\\\\\\":\\\\\\\"Pulling\\\\\\\",\\\\\\\"message\\\\\\\":\\\\\\\"pulling image \\\\\\\\\\\\\\\"3926bc7f79db44a2b6d02714b929da11.azurecr.io/azureml/azureml_1a31af1e7a24bf75a2aeeda4db33c10b:latest\\\\\\\\\\\\\\\"\\\\\\\",\\\\\\\"type\\\\\\\":\\\\\\\"Normal\\\\\\\"},{\\\\\\\"count\\\\\\\":1,\\\\\\\"firstTimestamp\\\\\\\":\\\\\\\"2020-11-26T10:42:22Z\\\\\\\",\\\\\\\"lastTimestamp\\\\\\\":\\\\\\\"2020-11-26T10:42:22Z\\\\\\\",\\\\\\\"name\\\\\\\":\\\\\\\"Pulled\\\\\\\",\\\\\\\"message\\\\\\\":\\\\\\\"Successfully pulled image \\\\\\\\\\\\\\\"3926bc7f79db44a2b6d02714b929da11.azurecr.io/azureml/azureml_1a31af1e7a24bf75a2aeeda4db33c10b:latest\\\\\\\\\\\\\\\"\\\\\\\",\\\\\\\"type\\\\\\\":\\\\\\\"Normal\\\\\\\"},{\\\\\\\"count\\\\\\\":6,\\\\\\\"firstTimestamp\\\\\\\":\\\\\\\"2020-11-26T10:42:52Z\\\\\\\",\\\\\\\"lastTimestamp\\\\\\\":\\\\\\\"2020-11-26T10:46:37Z\\\\\\\",\\\\\\\"name\\\\\\\":\\\\\\\"Started\\\\\\\",\\\\\\\"message\\\\\\\":\\\\\\\"Started container\\\\\\\",\\\\\\\"type\\\\\\\":\\\\\\\"Normal\\\\\\\"},{\\\\\\\"count\\\\\\\":6,\\\\\\\"firstTimestamp\\\\\\\":\\\\\\\"2020-11-26T10:43:01Z\\\\\\\",\\\\\\\"lastTimestamp\\\\\\\":\\\\\\\"2020-11-26T10:46:41Z\\\\\\\",\\\\\\\"name\\\\\\\":\\\\\\\"Killing\\\\\\\",\\\\\\\"message\\\\\\\":\\\\\\\"Killing container with id 03fb54f33598d23dab2c7442a87bcc28259dc5cb8b5df33049190664b28751a0.\\\\\\\",\\\\\\\"type\\\\\\\":\\\\\\\"Normal\\\\\\\"}]}\\\"\\n    }\\n  ]\\n}\"\n    }\n}",
          "traceback": [
            "\u001b[0;31m---------------------------------------------------------------------------\u001b[0m",
            "\u001b[0;31mWebserviceException\u001b[0m                       Traceback (most recent call last)",
            "\u001b[0;32m<ipython-input-55-54eb627a30d5>\u001b[0m in \u001b[0;36m<module>\u001b[0;34m\u001b[0m\n\u001b[1;32m     16\u001b[0m                        deployment_config = deployment_config)\n\u001b[1;32m     17\u001b[0m \u001b[0;34m\u001b[0m\u001b[0m\n\u001b[0;32m---> 18\u001b[0;31m \u001b[0mservice\u001b[0m\u001b[0;34m.\u001b[0m\u001b[0mwait_for_deployment\u001b[0m\u001b[0;34m(\u001b[0m\u001b[0mshow_output\u001b[0m\u001b[0;34m=\u001b[0m\u001b[0;32mTrue\u001b[0m\u001b[0;34m)\u001b[0m\u001b[0;34m\u001b[0m\u001b[0;34m\u001b[0m\u001b[0m\n\u001b[0m",
            "\u001b[0;32m/anaconda/envs/azureml_py36/lib/python3.6/site-packages/azureml/core/webservice/webservice.py\u001b[0m in \u001b[0;36mwait_for_deployment\u001b[0;34m(self, show_output, timeout_sec)\u001b[0m\n\u001b[1;32m    810\u001b[0m                                           \u001b[0;34m'Error:\\n'\u001b[0m\u001b[0;34m\u001b[0m\u001b[0;34m\u001b[0m\u001b[0m\n\u001b[1;32m    811\u001b[0m                                           '{}'.format(self.state, self._operation_endpoint.split('/')[-1],\n\u001b[0;32m--> 812\u001b[0;31m                                                       logs_response, error_response), logger=module_logger)\n\u001b[0m\u001b[1;32m    813\u001b[0m             print('{} service creation operation finished, operation \"{}\"'.format(self._webservice_type,\n\u001b[1;32m    814\u001b[0m                                                                                   operation_state))\n",
            "\u001b[0;31mWebserviceException\u001b[0m: WebserviceException:\n\tMessage: Service deployment polling reached non-successful terminal state, current service state: Failed\nOperation ID: 6db7c5f5-1db4-4045-8943-35be105d417a\nMore information can be found using '.get_logs()'\nError:\n{\n  \"code\": \"AciDeploymentFailed\",\n  \"message\": \"Aci Deployment failed with exception: Your container application crashed. This may be caused by errors in your scoring file's init() function.\\nPlease check the logs for your container instance: webservice-3. From the AML SDK, you can run print(service.get_logs()) if you have service object to fetch the logs. \\nYou can also try to run image 3926bc7f79db44a2b6d02714b929da11.azurecr.io/azureml/azureml_1a31af1e7a24bf75a2aeeda4db33c10b locally. Please refer to https://aka.ms/debugimage#service-launch-fails for more information.\",\n  \"details\": [\n    {\n      \"code\": \"CrashLoopBackOff\",\n      \"message\": \"Your container application crashed. This may be caused by errors in your scoring file's init() function.\\nPlease check the logs for your container instance: webservice-3. From the AML SDK, you can run print(service.get_logs()) if you have service object to fetch the logs. \\nYou can also try to run image 3926bc7f79db44a2b6d02714b929da11.azurecr.io/azureml/azureml_1a31af1e7a24bf75a2aeeda4db33c10b locally. Please refer to https://aka.ms/debugimage#service-launch-fails for more information.\"\n    },\n    {\n      \"code\": \"AciDeploymentFailed\",\n      \"message\": \"Your container application crashed. Please follow the steps to debug:\\n1. From the AML SDK, you can run print(service.get_logs()) if you have service object to fetch the logs. Please refer to https://aka.ms/debugimage#dockerlog for more information.\\n2. If your container application crashed. This may be caused by errors in your scoring file's init() function. You can try debugging locally first. Please refer to https://aka.ms/debugimage#debug-locally for more information.\\n3. View the diagnostic events to check status of container, it may help you to debug the issue. {\\\"restartCount\\\":5,\\\"currentState\\\":{\\\"state\\\":\\\"Waiting\\\",\\\"startTime\\\":null,\\\"exitCode\\\":null,\\\"finishTime\\\":null,\\\"detailStatus\\\":\\\"CrashLoopBackOff: Back-off restarting failed\\\"},\\\"previousState\\\":{\\\"state\\\":\\\"Terminated\\\",\\\"startTime\\\":\\\"2020-11-26T10:46:37.454Z\\\",\\\"exitCode\\\":111,\\\"finishTime\\\":\\\"2020-11-26T10:46:41.113Z\\\",\\\"detailStatus\\\":\\\"Error\\\"},\\\"events\\\":[{\\\"count\\\":1,\\\"firstTimestamp\\\":\\\"2020-11-26T10:40:35Z\\\",\\\"lastTimestamp\\\":\\\"2020-11-26T10:40:35Z\\\",\\\"name\\\":\\\"Pulling\\\",\\\"message\\\":\\\"pulling image \\\\\\\"3926bc7f79db44a2b6d02714b929da11.azurecr.io/azureml/azureml_1a31af1e7a24bf75a2aeeda4db33c10b:latest\\\\\\\"\\\",\\\"type\\\":\\\"Normal\\\"},{\\\"count\\\":1,\\\"firstTimestamp\\\":\\\"2020-11-26T10:42:22Z\\\",\\\"lastTimestamp\\\":\\\"2020-11-26T10:42:22Z\\\",\\\"name\\\":\\\"Pulled\\\",\\\"message\\\":\\\"Successfully pulled image \\\\\\\"3926bc7f79db44a2b6d02714b929da11.azurecr.io/azureml/azureml_1a31af1e7a24bf75a2aeeda4db33c10b:latest\\\\\\\"\\\",\\\"type\\\":\\\"Normal\\\"},{\\\"count\\\":6,\\\"firstTimestamp\\\":\\\"2020-11-26T10:42:52Z\\\",\\\"lastTimestamp\\\":\\\"2020-11-26T10:46:37Z\\\",\\\"name\\\":\\\"Started\\\",\\\"message\\\":\\\"Started container\\\",\\\"type\\\":\\\"Normal\\\"},{\\\"count\\\":6,\\\"firstTimestamp\\\":\\\"2020-11-26T10:43:01Z\\\",\\\"lastTimestamp\\\":\\\"2020-11-26T10:46:41Z\\\",\\\"name\\\":\\\"Killing\\\",\\\"message\\\":\\\"Killing container with id 03fb54f33598d23dab2c7442a87bcc28259dc5cb8b5df33049190664b28751a0.\\\",\\\"type\\\":\\\"Normal\\\"}]}\"\n    }\n  ]\n}\n\tInnerException None\n\tErrorResponse \n{\n    \"error\": {\n        \"message\": \"Service deployment polling reached non-successful terminal state, current service state: Failed\\nOperation ID: 6db7c5f5-1db4-4045-8943-35be105d417a\\nMore information can be found using '.get_logs()'\\nError:\\n{\\n  \\\"code\\\": \\\"AciDeploymentFailed\\\",\\n  \\\"message\\\": \\\"Aci Deployment failed with exception: Your container application crashed. This may be caused by errors in your scoring file's init() function.\\\\nPlease check the logs for your container instance: webservice-3. From the AML SDK, you can run print(service.get_logs()) if you have service object to fetch the logs. \\\\nYou can also try to run image 3926bc7f79db44a2b6d02714b929da11.azurecr.io/azureml/azureml_1a31af1e7a24bf75a2aeeda4db33c10b locally. Please refer to https://aka.ms/debugimage#service-launch-fails for more information.\\\",\\n  \\\"details\\\": [\\n    {\\n      \\\"code\\\": \\\"CrashLoopBackOff\\\",\\n      \\\"message\\\": \\\"Your container application crashed. This may be caused by errors in your scoring file's init() function.\\\\nPlease check the logs for your container instance: webservice-3. From the AML SDK, you can run print(service.get_logs()) if you have service object to fetch the logs. \\\\nYou can also try to run image 3926bc7f79db44a2b6d02714b929da11.azurecr.io/azureml/azureml_1a31af1e7a24bf75a2aeeda4db33c10b locally. Please refer to https://aka.ms/debugimage#service-launch-fails for more information.\\\"\\n    },\\n    {\\n      \\\"code\\\": \\\"AciDeploymentFailed\\\",\\n      \\\"message\\\": \\\"Your container application crashed. Please follow the steps to debug:\\\\n1. From the AML SDK, you can run print(service.get_logs()) if you have service object to fetch the logs. Please refer to https://aka.ms/debugimage#dockerlog for more information.\\\\n2. If your container application crashed. This may be caused by errors in your scoring file's init() function. You can try debugging locally first. Please refer to https://aka.ms/debugimage#debug-locally for more information.\\\\n3. View the diagnostic events to check status of container, it may help you to debug the issue. {\\\\\\\"restartCount\\\\\\\":5,\\\\\\\"currentState\\\\\\\":{\\\\\\\"state\\\\\\\":\\\\\\\"Waiting\\\\\\\",\\\\\\\"startTime\\\\\\\":null,\\\\\\\"exitCode\\\\\\\":null,\\\\\\\"finishTime\\\\\\\":null,\\\\\\\"detailStatus\\\\\\\":\\\\\\\"CrashLoopBackOff: Back-off restarting failed\\\\\\\"},\\\\\\\"previousState\\\\\\\":{\\\\\\\"state\\\\\\\":\\\\\\\"Terminated\\\\\\\",\\\\\\\"startTime\\\\\\\":\\\\\\\"2020-11-26T10:46:37.454Z\\\\\\\",\\\\\\\"exitCode\\\\\\\":111,\\\\\\\"finishTime\\\\\\\":\\\\\\\"2020-11-26T10:46:41.113Z\\\\\\\",\\\\\\\"detailStatus\\\\\\\":\\\\\\\"Error\\\\\\\"},\\\\\\\"events\\\\\\\":[{\\\\\\\"count\\\\\\\":1,\\\\\\\"firstTimestamp\\\\\\\":\\\\\\\"2020-11-26T10:40:35Z\\\\\\\",\\\\\\\"lastTimestamp\\\\\\\":\\\\\\\"2020-11-26T10:40:35Z\\\\\\\",\\\\\\\"name\\\\\\\":\\\\\\\"Pulling\\\\\\\",\\\\\\\"message\\\\\\\":\\\\\\\"pulling image \\\\\\\\\\\\\\\"3926bc7f79db44a2b6d02714b929da11.azurecr.io/azureml/azureml_1a31af1e7a24bf75a2aeeda4db33c10b:latest\\\\\\\\\\\\\\\"\\\\\\\",\\\\\\\"type\\\\\\\":\\\\\\\"Normal\\\\\\\"},{\\\\\\\"count\\\\\\\":1,\\\\\\\"firstTimestamp\\\\\\\":\\\\\\\"2020-11-26T10:42:22Z\\\\\\\",\\\\\\\"lastTimestamp\\\\\\\":\\\\\\\"2020-11-26T10:42:22Z\\\\\\\",\\\\\\\"name\\\\\\\":\\\\\\\"Pulled\\\\\\\",\\\\\\\"message\\\\\\\":\\\\\\\"Successfully pulled image \\\\\\\\\\\\\\\"3926bc7f79db44a2b6d02714b929da11.azurecr.io/azureml/azureml_1a31af1e7a24bf75a2aeeda4db33c10b:latest\\\\\\\\\\\\\\\"\\\\\\\",\\\\\\\"type\\\\\\\":\\\\\\\"Normal\\\\\\\"},{\\\\\\\"count\\\\\\\":6,\\\\\\\"firstTimestamp\\\\\\\":\\\\\\\"2020-11-26T10:42:52Z\\\\\\\",\\\\\\\"lastTimestamp\\\\\\\":\\\\\\\"2020-11-26T10:46:37Z\\\\\\\",\\\\\\\"name\\\\\\\":\\\\\\\"Started\\\\\\\",\\\\\\\"message\\\\\\\":\\\\\\\"Started container\\\\\\\",\\\\\\\"type\\\\\\\":\\\\\\\"Normal\\\\\\\"},{\\\\\\\"count\\\\\\\":6,\\\\\\\"firstTimestamp\\\\\\\":\\\\\\\"2020-11-26T10:43:01Z\\\\\\\",\\\\\\\"lastTimestamp\\\\\\\":\\\\\\\"2020-11-26T10:46:41Z\\\\\\\",\\\\\\\"name\\\\\\\":\\\\\\\"Killing\\\\\\\",\\\\\\\"message\\\\\\\":\\\\\\\"Killing container with id 03fb54f33598d23dab2c7442a87bcc28259dc5cb8b5df33049190664b28751a0.\\\\\\\",\\\\\\\"type\\\\\\\":\\\\\\\"Normal\\\\\\\"}]}\\\"\\n    }\\n  ]\\n}\"\n    }\n}"
          ]
        }
      ],
      "execution_count": 55,
      "metadata": {
        "gather": {
          "logged": 1598431435189
        },
        "jupyter": {
          "outputs_hidden": false,
          "source_hidden": false
        },
        "nteract": {
          "transient": {
            "deleting": false
          }
        }
      }
    },
    {
      "cell_type": "code",
      "source": [
        "print(service.get_logs())"
      ],
      "outputs": [
        {
          "output_type": "stream",
          "name": "stdout",
          "text": [
            "None\n"
          ]
        }
      ],
      "execution_count": 57,
      "metadata": {
        "collapsed": true,
        "jupyter": {
          "source_hidden": false,
          "outputs_hidden": false
        },
        "nteract": {
          "transient": {
            "deleting": false
          }
        },
        "gather": {
          "logged": 1606387856204
        }
      }
    },
    {
      "cell_type": "code",
      "source": [
        "automl_training_set[:1].to_json(orient='records')\r\n"
      ],
      "outputs": [
        {
          "output_type": "execute_result",
          "execution_count": 22,
          "data": {
            "text/plain": "'[{\"donor_age_below_35\":1,\"donor_CMV\":0,\"recipient_age_below_10\":1,\"recipient_gender\":1,\"recipient_rh\":1,\"recipient_CMV\":0,\"gender_match\":0,\"ABO_match\":1,\"HLA_mismatch\":1,\"risk_group\":0,\"stem_cell_source\":1,\"tx_post_relapse\":0,\"ANC_recovery\":1,\"PLT_recovery\":1,\"acute_GvHD_II_III_IV\":1,\"acute_GvHD_III_IV\":0,\"relapse\":1,\"donor_age\":0.1277579149,\"recipient_age\":0.1436170213,\"recipient_body_mass\":0.1388733965,\"CD34_x1e6_per_kg\":0.0650991402,\"CD3_x1e8_per_kg\":0.0230817218,\"CD3_to_CD34_ratio\":0.1079678604,\"time_to_ANC_recovery\":0.6153846154,\"time_to_PLT_recovery\":0.1497975709,\"time_to_acute_GvHD_III_IV\":0.0,\"donor_ABO_0\":0,\"donor_ABO_A\":0,\"donor_ABO_AB\":0,\"donor_ABO_B\":1,\"recipient_age_int_0_5\":1,\"recipient_age_int_10_20\":0,\"recipient_age_int_5_10\":0,\"recipient_ABO_0\":0,\"recipient_ABO_A\":0,\"recipient_ABO_AB\":0,\"recipient_ABO_B\":1,\"disease_ALL\":1,\"disease_AML\":0,\"disease_chronic\":0,\"disease_lymphoma\":0,\"disease_nonmalignant\":0,\"disease_group_malignant\":1,\"disease_group_nonmalignant\":0,\"CMV_status_0\":1,\"CMV_status_1\":0,\"CMV_status_2\":0,\"CMV_status_3\":0,\"HLA_match_10\\\\/10\":1,\"HLA_match_7\\\\/10\":0,\"HLA_match_8\\\\/10\":0,\"HLA_match_9\\\\/10\":0,\"antigen_0\":1,\"antigen_1\":0,\"antigen_2\":0,\"antigen_3\":0,\"allel_0\":1,\"allel_1\":0,\"allel_2\":0,\"allel_3\":0,\"allel_4\":0,\"HLA_group_1_DRB1_cell\":0,\"HLA_group_1_matched\":1,\"HLA_group_1_mismatched\":0,\"HLA_group_1_one_allel\":0,\"HLA_group_1_one_antigen\":0,\"HLA_group_1_three_diffs\":0,\"HLA_group_1_two_diffs\":0,\"survival_status\":1}]'"
          },
          "metadata": {}
        }
      ],
      "execution_count": 22,
      "metadata": {
        "collapsed": true,
        "jupyter": {
          "source_hidden": false,
          "outputs_hidden": false
        },
        "nteract": {
          "transient": {
            "deleting": false
          }
        },
        "gather": {
          "logged": 1606310426987
        }
      }
    },
    {
      "cell_type": "markdown",
      "source": [
        "TODO: In the cell below, send a request to the web service you deployed to test it."
      ],
      "metadata": {
        "collapsed": true,
        "gather": {
          "logged": 1598431657736
        },
        "jupyter": {
          "outputs_hidden": false,
          "source_hidden": false
        },
        "nteract": {
          "transient": {
            "deleting": false
          }
        }
      }
    },
    {
      "cell_type": "code",
      "source": [
        "if service.state == 'Healthy':\n",
        "    x_test_json = x_test[:1].to_json(orient='records')    \n",
        "    output = service.run(x_test_json)\n",
        "    print(output['predictions'])\n",
        "\n"
      ],
      "outputs": [],
      "execution_count": null,
      "metadata": {
        "gather": {
          "logged": 1598432707604
        },
        "jupyter": {
          "outputs_hidden": false,
          "source_hidden": false
        },
        "nteract": {
          "transient": {
            "deleting": false
          }
        }
      }
    },
    {
      "cell_type": "markdown",
      "source": [
        "TODO: In the cell below, print the logs of the web service and delete the service"
      ],
      "metadata": {
        "collapsed": true,
        "gather": {
          "logged": 1598432765711
        },
        "jupyter": {
          "outputs_hidden": false,
          "source_hidden": false
        },
        "nteract": {
          "transient": {
            "deleting": false
          }
        }
      }
    },
    {
      "cell_type": "code",
      "source": [
        "service.delete()"
      ],
      "outputs": [],
      "execution_count": 50,
      "metadata": {
        "jupyter": {
          "outputs_hidden": false,
          "source_hidden": false
        },
        "nteract": {
          "transient": {
            "deleting": false
          }
        },
        "gather": {
          "logged": 1606385979439
        }
      }
    },
    {
      "cell_type": "code",
      "source": [
        "# delete compute cluster\n",
        "cpu_cluster.delete()\n"
      ],
      "outputs": [],
      "execution_count": null,
      "metadata": {
        "pycharm": {
          "name": "#%%\n"
        }
      }
    }
  ],
  "metadata": {
    "kernel_info": {
      "name": "python3"
    },
    "kernelspec": {
      "name": "python3",
      "language": "python",
      "display_name": "Python 3"
    },
    "language_info": {
      "name": "python",
      "version": "3.6.9",
      "mimetype": "text/x-python",
      "codemirror_mode": {
        "name": "ipython",
        "version": 3
      },
      "pygments_lexer": "ipython3",
      "nbconvert_exporter": "python",
      "file_extension": ".py"
    },
    "nteract": {
      "version": "nteract-front-end@1.0.0"
    }
  },
  "nbformat": 4,
  "nbformat_minor": 2
}