{
 "cells": [
  {
   "cell_type": "markdown",
   "metadata": {},
   "source": [
    "# Automated ML\n",
    "\n",
    "TODO: Import Dependencies. In the cell below, import all the dependencies that you will need to complete the project."
   ]
  },
  {
   "cell_type": "code",
   "execution_count": 1,
   "metadata": {
    "gather": {
     "logged": 1606386833953
    },
    "jupyter": {
     "outputs_hidden": false,
     "source_hidden": false
    },
    "nteract": {
     "transient": {
      "deleting": false
     }
    }
   },
   "outputs": [],
   "source": [
    "from azureml.core import Workspace, Experiment\n",
    "from azureml.core.compute import ComputeTarget, AmlCompute\n",
    "from azureml.core.compute_target import ComputeTargetException\n",
    "from azureml.widgets import RunDetails\n",
    "from azureml.core import Environment,ScriptRunConfig\n",
    "from azureml.core import Dataset\n",
    "from azureml.core.model import InferenceConfig, Model\n",
    "from azureml.core.webservice import AciWebservice, Webservice\n",
    "from azureml.train.automl import AutoMLConfig\n",
    "from azureml.core.environment import CondaDependencies\n",
    "\n",
    "from train import clean_data\n",
    "from sklearn.model_selection import train_test_split\n",
    "import pandas as pd\n",
    "import os\n",
    "import requests\n",
    "import json\n",
    "\n"
   ]
  },
  {
   "cell_type": "markdown",
   "metadata": {},
   "source": [
    "## Dataset\n",
    "\n",
    "### Overview\n",
    "TODO: In this markdown cell, give an overview of the dataset you are using. Also mention the task you will be performing.\n",
    "\n",
    "Check out the data exploration in the Readme.md file."
   ]
  },
  {
   "cell_type": "code",
   "execution_count": 2,
   "metadata": {
    "gather": {
     "logged": 1606390632790
    },
    "jupyter": {
     "outputs_hidden": false,
     "source_hidden": false
    },
    "nteract": {
     "transient": {
      "deleting": false
     }
    }
   },
   "outputs": [],
   "source": [
    "ws = Workspace.from_config()\n",
    "\n",
    "# choose a name for experiment\n",
    "experiment_name = 'automl_leukemia_experiment'\n",
    "\n",
    "# Enviornment for model deployment\n",
    "myenv = Environment(workspace=ws,name=\"myenv\")\n",
    " \n",
    "auto_exp = Experiment(ws,experiment_name)"
   ]
  },
  {
   "cell_type": "code",
   "execution_count": 3,
   "metadata": {
    "gather": {
     "logged": 1606378078757
    },
    "pycharm": {
     "name": "#%%\n"
    }
   },
   "outputs": [
    {
     "name": "stdout",
     "output_type": "stream",
     "text": [
      "Creating\n",
      "Succeeded\n",
      "AmlCompute wait for completion finished\n",
      "\n",
      "Minimum number of nodes requested have been provisioned\n"
     ]
    }
   ],
   "source": [
    "# Create compute cluster\n",
    "\n",
    "cpu_cluster_name = \"cluster-leukemia\"\n",
    "\n",
    "try:\n",
    "    cpu_cluster = ComputeTarget(workspace=ws, name=cpu_cluster_name)\n",
    "    print('Found existing cluster, use it.')\n",
    "except ComputeTargetException:\n",
    "    compute_config = AmlCompute.provisioning_configuration(vm_size='STANDARD_D2_V2',min_nodes=0,\n",
    "                                                            max_nodes=4)\n",
    "    cpu_cluster = ComputeTarget.create(ws, cpu_cluster_name, compute_config)\n",
    "\n",
    "cpu_cluster.wait_for_completion(show_output=True)"
   ]
  },
  {
   "cell_type": "markdown",
   "metadata": {},
   "source": [
    "### Dataset is hosted on Github\n",
    "\n",
    "TODO: Get data. In the cell below, write code to access the data you will be using in this project. Remember that the dataset needs to be external."
   ]
  },
  {
   "cell_type": "code",
   "execution_count": 4,
   "metadata": {
    "gather": {
     "logged": 1606378163980
    },
    "pycharm": {
     "name": "#%%\n"
    }
   },
   "outputs": [],
   "source": [
    "dataset_path = 'https://raw.githubusercontent.com/PhilippRamjoue/Leukemia_Classification/main/dataset/bone-marrow-dataset.csv'\n",
    "\n",
    "ds = Dataset.Tabular.from_delimited_files(path=dataset_path)"
   ]
  },
  {
   "cell_type": "code",
   "execution_count": 5,
   "metadata": {
    "gather": {
     "logged": 1606378168148
    },
    "pycharm": {
     "name": "#%%\n"
    }
   },
   "outputs": [
    {
     "name": "stdout",
     "output_type": "stream",
     "text": [
      "survival_status_0: 36\n",
      "survival_status_1: 85\n",
      "survival_status_ongoing: 66\n",
      "Shape of original frame: (121, 37)\n",
      "Shape of frame with dropped nan rows: (104, 37); Loss: 14 %\n"
     ]
    }
   ],
   "source": [
    "\n",
    "# Use the clean_data function to clean your data.\n",
    "x, y = clean_data(ds)\n",
    "\n",
    "# use full dataset but provide test data\n",
    "x_train,x_test,y_train,y_test = train_test_split(x,y,test_size=0.4,random_state=42)\n",
    "\n",
    "automl_training_set = pd.concat([x,y],axis=1)"
   ]
  },
  {
   "cell_type": "markdown",
   "metadata": {
    "pycharm": {
     "name": "#%% md\n"
    }
   },
   "source": [
    "## Save data in datastore\n",
    "\n",
    "A datastore is necessary to run AutoML on a remote compute"
   ]
  },
  {
   "cell_type": "code",
   "execution_count": 6,
   "metadata": {
    "gather": {
     "logged": 1606378185713
    },
    "pycharm": {
     "name": "#%%\n"
    }
   },
   "outputs": [
    {
     "name": "stdout",
     "output_type": "stream",
     "text": [
      "Uploading an estimated of 1 files\n",
      "Uploading ./data/cleaned_dataset.csv\n",
      "Uploaded ./data/cleaned_dataset.csv, 1 files out of an estimated total of 1\n",
      "Uploaded 1 files\n"
     ]
    }
   ],
   "source": [
    "\n",
    "# Create a project_folder if it doesn't exist\n",
    "if not os.path.isdir('data'):\n",
    "    os.mkdir('data')\n",
    "\n",
    "if not os.path.exists('project_folder'):\n",
    "    os.makedirs('project_folder')\n",
    "\n",
    "automl_training_set.to_csv('data/cleaned_dataset.csv')\n",
    "\n",
    "ds = ws.get_default_datastore()\n",
    "\n",
    "ds.upload(src_dir='./data', target_path='leukemiadata', overwrite=True, show_progress=True)\n",
    "\n",
    "training_data = Dataset.Tabular.from_delimited_files(path=ds.path('leukemiadata/cleaned_dataset.csv'))"
   ]
  },
  {
   "cell_type": "markdown",
   "metadata": {},
   "source": [
    "## AutoML Configuration\n",
    "\n",
    "TODO: Explain why you chose the automl settings and cofiguration you used below.\n",
    "\n",
    "The settings and configurations are explained in the Readme.md file."
   ]
  },
  {
   "cell_type": "code",
   "execution_count": 7,
   "metadata": {
    "gather": {
     "logged": 1606378238405
    },
    "pycharm": {
     "name": "#%%\n"
    }
   },
   "outputs": [],
   "source": [
    "# TODO: Put your automl settings here\n",
    "automl_settings = {'experiment_timeout_minutes':30,\n",
    "                    'primary_metric':'accuracy',\n",
    "                    'enable_early_stopping':True,\n",
    "                    'n_cross_validations':5,\n",
    "                    'max_concurrent_iterations':4\n",
    "                    }\n",
    "\n",
    "# TODO: Put your automl config here\n",
    "automl_config = AutoMLConfig(\n",
    "    task=\"classification\",\n",
    "    compute_target=cpu_cluster,\n",
    "    training_data=training_data,\n",
    "    iterations=30,\n",
    "    iteration_timeout_minutes=5,\n",
    "    label_column_name='survival_status',\n",
    "    **automl_settings\n",
    "    )"
   ]
  },
  {
   "cell_type": "code",
   "execution_count": 8,
   "metadata": {
    "gather": {
     "logged": 1606379816743
    },
    "jupyter": {
     "outputs_hidden": false,
     "source_hidden": false
    },
    "nteract": {
     "transient": {
      "deleting": false
     }
    },
    "scrolled": false
   },
   "outputs": [
    {
     "name": "stdout",
     "output_type": "stream",
     "text": [
      "Running on remote.\n",
      "Running on remote compute: cluster-leukemia\n",
      "Parent Run ID: AutoML_739312ee-8942-4633-ab8e-d0ee3de0fe38\n",
      "\n",
      "Current status: FeaturesGeneration. Generating features for the dataset.\n",
      "Current status: DatasetCrossValidationSplit. Generating individually featurized CV splits.\n",
      "Current status: ModelSelection. Beginning model selection.\n",
      "\n",
      "****************************************************************************************************\n",
      "DATA GUARDRAILS: \n",
      "\n",
      "TYPE:         Class balancing detection\n",
      "STATUS:       PASSED\n",
      "DESCRIPTION:  Your inputs were analyzed, and all classes are balanced in your training data.\n",
      "              Learn more about imbalanced data: https://aka.ms/AutomatedMLImbalancedData\n",
      "\n",
      "****************************************************************************************************\n",
      "\n",
      "TYPE:         Missing feature values imputation\n",
      "STATUS:       PASSED\n",
      "DESCRIPTION:  No feature missing values were detected in the training data.\n",
      "              Learn more about missing value imputation: https://aka.ms/AutomatedMLFeaturization\n",
      "\n",
      "****************************************************************************************************\n",
      "\n",
      "TYPE:         High cardinality feature detection\n",
      "STATUS:       PASSED\n",
      "DESCRIPTION:  Your inputs were analyzed, and no high cardinality features were detected.\n",
      "              Learn more about high cardinality feature handling: https://aka.ms/AutomatedMLFeaturization\n",
      "\n",
      "****************************************************************************************************\n",
      "\n",
      "****************************************************************************************************\n",
      "ITERATION: The iteration being evaluated.\n",
      "PIPELINE: A summary description of the pipeline being evaluated.\n",
      "DURATION: Time taken for the current iteration.\n",
      "METRIC: The result of computing score on the fitted pipeline.\n",
      "BEST: The best observed score thus far.\n",
      "****************************************************************************************************\n",
      "\n",
      " ITERATION   PIPELINE                                       DURATION      METRIC      BEST\n",
      "         1   MaxAbsScaler XGBoostClassifier                 0:00:48       0.6824    0.6824\n",
      "         3   StandardScalerWrapper SGD                      0:00:44       0.6433    0.6824\n",
      "         2   MinMaxScaler RandomForest                      0:00:47       0.6638    0.6824\n",
      "         6   StandardScalerWrapper RandomForest             0:00:52       0.6724    0.6824\n",
      "         7   RobustScaler ExtremeRandomTrees                0:00:48       0.6729    0.6824\n",
      "         0   MaxAbsScaler LightGBM                          0:03:11       0.6257    0.6824\n",
      "         4   MinMaxScaler RandomForest                      0:03:11       0.6829    0.6829\n",
      "         5   StandardScalerWrapper SGD                      0:03:22       0.6243    0.6829\n",
      "         8   StandardScalerWrapper ExtremeRandomTrees       0:00:44       0.6243    0.6829\n",
      "         9   StandardScalerWrapper SGD                      0:00:45       0.6143    0.6829\n",
      "        10   StandardScalerWrapper SGD                      0:00:41       0.6552    0.6829\n",
      "        11   MinMaxScaler SGD                               0:00:42       0.6233    0.6829\n",
      "        12   RobustScaler ExtremeRandomTrees                0:00:45       0.6533    0.6829\n",
      "        13   MinMaxScaler SGD                               0:00:52       0.6343    0.6829\n",
      "        14   MinMaxScaler ExtremeRandomTrees                0:00:49       0.6443    0.6829\n",
      "        15   MinMaxScaler ExtremeRandomTrees                0:00:49       0.6243    0.6829\n",
      "        16   MinMaxScaler ExtremeRandomTrees                0:00:43       0.6552    0.6829\n",
      "        17   StandardScalerWrapper RandomForest             0:00:49       0.6248    0.6829\n",
      "        18   StandardScalerWrapper SGD                      0:00:52       0.6333    0.6829\n",
      "        19   RobustScaler ExtremeRandomTrees                0:00:47       0.6252    0.6829\n",
      "        20   StandardScalerWrapper RandomForest             0:00:48       0.5871    0.6829\n",
      "        21   MinMaxScaler ExtremeRandomTrees                0:00:52       0.6614    0.6829\n",
      "        22   MaxAbsScaler RandomForest                      0:00:46       0.6443    0.6829\n",
      "        23   MaxAbsScaler ExtremeRandomTrees                0:00:45       0.6243    0.6829\n",
      "        24   MaxAbsScaler SGD                               0:00:56       0.6529    0.6829\n",
      "        25   RobustScaler RandomForest                      0:00:54       0.6748    0.6829\n",
      "        26   MinMaxScaler RandomForest                      0:00:43       0.6729    0.6829\n",
      "        27   MinMaxScaler RandomForest                      0:00:49       0.6543    0.6829\n",
      "        28    VotingEnsemble                                0:01:03       0.7214    0.7214\n",
      "        29    StackEnsemble                                 0:01:07       0.6248    0.7214\n"
     ]
    }
   ],
   "source": [
    "# TODO: Submit your experiment\n",
    "auto_run = auto_exp.submit(config=automl_config,show_output=True)"
   ]
  },
  {
   "cell_type": "markdown",
   "metadata": {},
   "source": [
    "## Run Details\n",
    "\n",
    "OPTIONAL: Write about the different models trained and their performance. Why do you think some models did better than others?\n",
    "\n",
    "TODO: In the cell below, use the `RunDetails` widget to show the different experiments."
   ]
  },
  {
   "cell_type": "code",
   "execution_count": 9,
   "metadata": {
    "gather": {
     "logged": 1606379867852
    },
    "jupyter": {
     "outputs_hidden": false,
     "source_hidden": false
    },
    "nteract": {
     "transient": {
      "deleting": false
     }
    },
    "scrolled": false
   },
   "outputs": [
    {
     "data": {
      "application/vnd.jupyter.widget-view+json": {
       "model_id": "2117c46c54dc48d18dc68735fdbd6511",
       "version_major": 2,
       "version_minor": 0
      },
      "text/plain": [
       "_AutoMLWidget(widget_settings={'childWidgetDisplay': 'popup', 'send_telemetry': False, 'log_level': 'INFO', 's…"
      ]
     },
     "metadata": {},
     "output_type": "display_data"
    },
    {
     "data": {
      "application/aml.mini.widget.v1": "{\"status\": \"Completed\", \"workbench_run_details_uri\": \"https://ml.azure.com/experiments/automl_leukemia_experiment/runs/AutoML_739312ee-8942-4633-ab8e-d0ee3de0fe38?wsid=/subscriptions/ef22e2eb-a072-4db6-86df-7ea6643b1b5f/resourcegroups/aml-quickstarts-128767/workspaces/quick-starts-ws-128767\", \"run_id\": \"AutoML_739312ee-8942-4633-ab8e-d0ee3de0fe38\", \"run_properties\": {\"run_id\": \"AutoML_739312ee-8942-4633-ab8e-d0ee3de0fe38\", \"created_utc\": \"2020-12-02T08:21:18.994664Z\", \"properties\": {\"num_iterations\": \"30\", \"training_type\": \"TrainFull\", \"acquisition_function\": \"EI\", \"primary_metric\": \"accuracy\", \"train_split\": \"0\", \"acquisition_parameter\": \"0\", \"num_cross_validation\": \"5\", \"target\": \"cluster-leukemia\", \"AMLSettingsJsonString\": \"{\\\"path\\\":null,\\\"name\\\":\\\"automl_leukemia_experiment\\\",\\\"subscription_id\\\":\\\"ef22e2eb-a072-4db6-86df-7ea6643b1b5f\\\",\\\"resource_group\\\":\\\"aml-quickstarts-128767\\\",\\\"workspace_name\\\":\\\"quick-starts-ws-128767\\\",\\\"region\\\":\\\"southcentralus\\\",\\\"compute_target\\\":\\\"cluster-leukemia\\\",\\\"spark_service\\\":null,\\\"azure_service\\\":\\\"remote\\\",\\\"_local_managed_run_id\\\":null,\\\"many_models\\\":false,\\\"pipeline_fetch_max_batch_size\\\":1,\\\"iterations\\\":30,\\\"primary_metric\\\":\\\"accuracy\\\",\\\"task_type\\\":\\\"classification\\\",\\\"data_script\\\":null,\\\"validation_size\\\":0.0,\\\"n_cross_validations\\\":5,\\\"y_min\\\":null,\\\"y_max\\\":null,\\\"num_classes\\\":null,\\\"featurization\\\":\\\"auto\\\",\\\"_ignore_package_version_incompatibilities\\\":false,\\\"is_timeseries\\\":false,\\\"max_cores_per_iteration\\\":1,\\\"max_concurrent_iterations\\\":4,\\\"iteration_timeout_minutes\\\":5,\\\"mem_in_mb\\\":null,\\\"enforce_time_on_windows\\\":false,\\\"experiment_timeout_minutes\\\":30,\\\"experiment_exit_score\\\":null,\\\"whitelist_models\\\":null,\\\"blacklist_algos\\\":[\\\"TensorFlowLinearClassifier\\\",\\\"TensorFlowDNN\\\"],\\\"supported_models\\\":[\\\"SGD\\\",\\\"MultinomialNaiveBayes\\\",\\\"RandomForest\\\",\\\"ExtremeRandomTrees\\\",\\\"KNN\\\",\\\"XGBoostClassifier\\\",\\\"LinearSVM\\\",\\\"SVM\\\",\\\"LogisticRegression\\\",\\\"LightGBM\\\",\\\"DecisionTree\\\",\\\"AveragedPerceptronClassifier\\\",\\\"GradientBoosting\\\",\\\"TensorFlowDNN\\\",\\\"TensorFlowLinearClassifier\\\",\\\"BernoulliNaiveBayes\\\"],\\\"auto_blacklist\\\":true,\\\"blacklist_samples_reached\\\":false,\\\"exclude_nan_labels\\\":true,\\\"verbosity\\\":20,\\\"_debug_log\\\":\\\"azureml_automl.log\\\",\\\"show_warnings\\\":false,\\\"model_explainability\\\":true,\\\"service_url\\\":null,\\\"sdk_url\\\":null,\\\"sdk_packages\\\":null,\\\"enable_onnx_compatible_models\\\":false,\\\"enable_split_onnx_featurizer_estimator_models\\\":false,\\\"vm_type\\\":\\\"STANDARD_D2_V2\\\",\\\"telemetry_verbosity\\\":20,\\\"send_telemetry\\\":true,\\\"enable_dnn\\\":false,\\\"scenario\\\":\\\"SDK-1.13.0\\\",\\\"environment_label\\\":null,\\\"force_text_dnn\\\":false,\\\"enable_feature_sweeping\\\":true,\\\"enable_early_stopping\\\":true,\\\"early_stopping_n_iters\\\":10,\\\"metrics\\\":null,\\\"enable_ensembling\\\":true,\\\"enable_stack_ensembling\\\":true,\\\"ensemble_iterations\\\":15,\\\"enable_tf\\\":false,\\\"enable_subsampling\\\":false,\\\"subsample_seed\\\":null,\\\"enable_nimbusml\\\":false,\\\"enable_streaming\\\":false,\\\"force_streaming\\\":false,\\\"track_child_runs\\\":true,\\\"allowed_private_models\\\":[],\\\"label_column_name\\\":\\\"survival_status\\\",\\\"weight_column_name\\\":null,\\\"cv_split_column_names\\\":null,\\\"enable_local_managed\\\":false,\\\"cost_mode\\\":1,\\\"lag_length\\\":0,\\\"metric_operation\\\":\\\"maximize\\\",\\\"preprocess\\\":true}\", \"DataPrepJsonString\": \"{\\\\\\\"training_data\\\\\\\": \\\\\\\"{\\\\\\\\\\\\\\\"blocks\\\\\\\\\\\\\\\": [{\\\\\\\\\\\\\\\"id\\\\\\\\\\\\\\\": \\\\\\\\\\\\\\\"299a3f4f-aa5a-4e1a-b692-e7baeec8e176\\\\\\\\\\\\\\\", \\\\\\\\\\\\\\\"type\\\\\\\\\\\\\\\": \\\\\\\\\\\\\\\"Microsoft.DPrep.GetDatastoreFilesBlock\\\\\\\\\\\\\\\", \\\\\\\\\\\\\\\"arguments\\\\\\\\\\\\\\\": {\\\\\\\\\\\\\\\"datastores\\\\\\\\\\\\\\\": [{\\\\\\\\\\\\\\\"datastoreName\\\\\\\\\\\\\\\": \\\\\\\\\\\\\\\"workspaceblobstore\\\\\\\\\\\\\\\", \\\\\\\\\\\\\\\"path\\\\\\\\\\\\\\\": \\\\\\\\\\\\\\\"leukemiadata/cleaned_dataset.csv\\\\\\\\\\\\\\\", \\\\\\\\\\\\\\\"resourceGroup\\\\\\\\\\\\\\\": \\\\\\\\\\\\\\\"aml-quickstarts-128767\\\\\\\\\\\\\\\", \\\\\\\\\\\\\\\"subscription\\\\\\\\\\\\\\\": \\\\\\\\\\\\\\\"ef22e2eb-a072-4db6-86df-7ea6643b1b5f\\\\\\\\\\\\\\\", \\\\\\\\\\\\\\\"workspaceName\\\\\\\\\\\\\\\": \\\\\\\\\\\\\\\"quick-starts-ws-128767\\\\\\\\\\\\\\\"}]}, \\\\\\\\\\\\\\\"localData\\\\\\\\\\\\\\\": {}, \\\\\\\\\\\\\\\"isEnabled\\\\\\\\\\\\\\\": true, \\\\\\\\\\\\\\\"name\\\\\\\\\\\\\\\": null, \\\\\\\\\\\\\\\"annotation\\\\\\\\\\\\\\\": null}, {\\\\\\\\\\\\\\\"id\\\\\\\\\\\\\\\": \\\\\\\\\\\\\\\"d134affd-2cde-4359-a36e-6639544767a3\\\\\\\\\\\\\\\", \\\\\\\\\\\\\\\"type\\\\\\\\\\\\\\\": \\\\\\\\\\\\\\\"Microsoft.DPrep.ParseDelimitedBlock\\\\\\\\\\\\\\\", \\\\\\\\\\\\\\\"arguments\\\\\\\\\\\\\\\": {\\\\\\\\\\\\\\\"columnHeadersMode\\\\\\\\\\\\\\\": 3, \\\\\\\\\\\\\\\"fileEncoding\\\\\\\\\\\\\\\": 0, \\\\\\\\\\\\\\\"handleQuotedLineBreaks\\\\\\\\\\\\\\\": false, \\\\\\\\\\\\\\\"preview\\\\\\\\\\\\\\\": false, \\\\\\\\\\\\\\\"separator\\\\\\\\\\\\\\\": \\\\\\\\\\\\\\\",\\\\\\\\\\\\\\\", \\\\\\\\\\\\\\\"skipRows\\\\\\\\\\\\\\\": 0, \\\\\\\\\\\\\\\"skipRowsMode\\\\\\\\\\\\\\\": 0}, \\\\\\\\\\\\\\\"localData\\\\\\\\\\\\\\\": {}, \\\\\\\\\\\\\\\"isEnabled\\\\\\\\\\\\\\\": true, \\\\\\\\\\\\\\\"name\\\\\\\\\\\\\\\": null, \\\\\\\\\\\\\\\"annotation\\\\\\\\\\\\\\\": null}, {\\\\\\\\\\\\\\\"id\\\\\\\\\\\\\\\": \\\\\\\\\\\\\\\"108978f0-cc14-4eca-bc9c-e3463f0da8d3\\\\\\\\\\\\\\\", \\\\\\\\\\\\\\\"type\\\\\\\\\\\\\\\": \\\\\\\\\\\\\\\"Microsoft.DPrep.DropColumnsBlock\\\\\\\\\\\\\\\", \\\\\\\\\\\\\\\"arguments\\\\\\\\\\\\\\\": {\\\\\\\\\\\\\\\"columns\\\\\\\\\\\\\\\": {\\\\\\\\\\\\\\\"type\\\\\\\\\\\\\\\": 0, \\\\\\\\\\\\\\\"details\\\\\\\\\\\\\\\": {\\\\\\\\\\\\\\\"selectedColumns\\\\\\\\\\\\\\\": [\\\\\\\\\\\\\\\"Path\\\\\\\\\\\\\\\"]}}}, \\\\\\\\\\\\\\\"localData\\\\\\\\\\\\\\\": {}, \\\\\\\\\\\\\\\"isEnabled\\\\\\\\\\\\\\\": true, \\\\\\\\\\\\\\\"name\\\\\\\\\\\\\\\": null, \\\\\\\\\\\\\\\"annotation\\\\\\\\\\\\\\\": null}, {\\\\\\\\\\\\\\\"id\\\\\\\\\\\\\\\": \\\\\\\\\\\\\\\"85623924-e5a8-4c5b-948d-456dc43dbae1\\\\\\\\\\\\\\\", \\\\\\\\\\\\\\\"type\\\\\\\\\\\\\\\": \\\\\\\\\\\\\\\"Microsoft.DPrep.SetColumnTypesBlock\\\\\\\\\\\\\\\", \\\\\\\\\\\\\\\"arguments\\\\\\\\\\\\\\\": {\\\\\\\\\\\\\\\"columnConversion\\\\\\\\\\\\\\\": [{\\\\\\\\\\\\\\\"column\\\\\\\\\\\\\\\": {\\\\\\\\\\\\\\\"type\\\\\\\\\\\\\\\": 2, \\\\\\\\\\\\\\\"details\\\\\\\\\\\\\\\": {\\\\\\\\\\\\\\\"selectedColumn\\\\\\\\\\\\\\\": \\\\\\\\\\\\\\\"Column1\\\\\\\\\\\\\\\"}}, \\\\\\\\\\\\\\\"typeProperty\\\\\\\\\\\\\\\": 2}, {\\\\\\\\\\\\\\\"column\\\\\\\\\\\\\\\": {\\\\\\\\\\\\\\\"type\\\\\\\\\\\\\\\": 2, \\\\\\\\\\\\\\\"details\\\\\\\\\\\\\\\": {\\\\\\\\\\\\\\\"selectedColumn\\\\\\\\\\\\\\\": \\\\\\\\\\\\\\\"donor_age_below_35\\\\\\\\\\\\\\\"}}, \\\\\\\\\\\\\\\"typeProperty\\\\\\\\\\\\\\\": 2}, {\\\\\\\\\\\\\\\"column\\\\\\\\\\\\\\\": {\\\\\\\\\\\\\\\"type\\\\\\\\\\\\\\\": 2, \\\\\\\\\\\\\\\"details\\\\\\\\\\\\\\\": {\\\\\\\\\\\\\\\"selectedColumn\\\\\\\\\\\\\\\": \\\\\\\\\\\\\\\"donor_CMV\\\\\\\\\\\\\\\"}}, \\\\\\\\\\\\\\\"typeProperty\\\\\\\\\\\\\\\": 2}, {\\\\\\\\\\\\\\\"column\\\\\\\\\\\\\\\": {\\\\\\\\\\\\\\\"type\\\\\\\\\\\\\\\": 2, \\\\\\\\\\\\\\\"details\\\\\\\\\\\\\\\": {\\\\\\\\\\\\\\\"selectedColumn\\\\\\\\\\\\\\\": \\\\\\\\\\\\\\\"recipient_age_below_10\\\\\\\\\\\\\\\"}}, \\\\\\\\\\\\\\\"typeProperty\\\\\\\\\\\\\\\": 2}, {\\\\\\\\\\\\\\\"column\\\\\\\\\\\\\\\": {\\\\\\\\\\\\\\\"type\\\\\\\\\\\\\\\": 2, \\\\\\\\\\\\\\\"details\\\\\\\\\\\\\\\": {\\\\\\\\\\\\\\\"selectedColumn\\\\\\\\\\\\\\\": \\\\\\\\\\\\\\\"recipient_gender\\\\\\\\\\\\\\\"}}, \\\\\\\\\\\\\\\"typeProperty\\\\\\\\\\\\\\\": 2}, {\\\\\\\\\\\\\\\"column\\\\\\\\\\\\\\\": {\\\\\\\\\\\\\\\"type\\\\\\\\\\\\\\\": 2, \\\\\\\\\\\\\\\"details\\\\\\\\\\\\\\\": {\\\\\\\\\\\\\\\"selectedColumn\\\\\\\\\\\\\\\": \\\\\\\\\\\\\\\"recipient_rh\\\\\\\\\\\\\\\"}}, \\\\\\\\\\\\\\\"typeProperty\\\\\\\\\\\\\\\": 2}, {\\\\\\\\\\\\\\\"column\\\\\\\\\\\\\\\": {\\\\\\\\\\\\\\\"type\\\\\\\\\\\\\\\": 2, \\\\\\\\\\\\\\\"details\\\\\\\\\\\\\\\": {\\\\\\\\\\\\\\\"selectedColumn\\\\\\\\\\\\\\\": \\\\\\\\\\\\\\\"recipient_CMV\\\\\\\\\\\\\\\"}}, \\\\\\\\\\\\\\\"typeProperty\\\\\\\\\\\\\\\": 2}, {\\\\\\\\\\\\\\\"column\\\\\\\\\\\\\\\": {\\\\\\\\\\\\\\\"type\\\\\\\\\\\\\\\": 2, \\\\\\\\\\\\\\\"details\\\\\\\\\\\\\\\": {\\\\\\\\\\\\\\\"selectedColumn\\\\\\\\\\\\\\\": \\\\\\\\\\\\\\\"gender_match\\\\\\\\\\\\\\\"}}, \\\\\\\\\\\\\\\"typeProperty\\\\\\\\\\\\\\\": 2}, {\\\\\\\\\\\\\\\"column\\\\\\\\\\\\\\\": {\\\\\\\\\\\\\\\"type\\\\\\\\\\\\\\\": 2, \\\\\\\\\\\\\\\"details\\\\\\\\\\\\\\\": {\\\\\\\\\\\\\\\"selectedColumn\\\\\\\\\\\\\\\": \\\\\\\\\\\\\\\"ABO_match\\\\\\\\\\\\\\\"}}, \\\\\\\\\\\\\\\"typeProperty\\\\\\\\\\\\\\\": 2}, {\\\\\\\\\\\\\\\"column\\\\\\\\\\\\\\\": {\\\\\\\\\\\\\\\"type\\\\\\\\\\\\\\\": 2, \\\\\\\\\\\\\\\"details\\\\\\\\\\\\\\\": {\\\\\\\\\\\\\\\"selectedColumn\\\\\\\\\\\\\\\": \\\\\\\\\\\\\\\"HLA_mismatch\\\\\\\\\\\\\\\"}}, \\\\\\\\\\\\\\\"typeProperty\\\\\\\\\\\\\\\": 2}, {\\\\\\\\\\\\\\\"column\\\\\\\\\\\\\\\": {\\\\\\\\\\\\\\\"type\\\\\\\\\\\\\\\": 2, \\\\\\\\\\\\\\\"details\\\\\\\\\\\\\\\": {\\\\\\\\\\\\\\\"selectedColumn\\\\\\\\\\\\\\\": \\\\\\\\\\\\\\\"risk_group\\\\\\\\\\\\\\\"}}, \\\\\\\\\\\\\\\"typeProperty\\\\\\\\\\\\\\\": 2}, {\\\\\\\\\\\\\\\"column\\\\\\\\\\\\\\\": {\\\\\\\\\\\\\\\"type\\\\\\\\\\\\\\\": 2, \\\\\\\\\\\\\\\"details\\\\\\\\\\\\\\\": {\\\\\\\\\\\\\\\"selectedColumn\\\\\\\\\\\\\\\": \\\\\\\\\\\\\\\"stem_cell_source\\\\\\\\\\\\\\\"}}, \\\\\\\\\\\\\\\"typeProperty\\\\\\\\\\\\\\\": 2}, {\\\\\\\\\\\\\\\"column\\\\\\\\\\\\\\\": {\\\\\\\\\\\\\\\"type\\\\\\\\\\\\\\\": 2, \\\\\\\\\\\\\\\"details\\\\\\\\\\\\\\\": {\\\\\\\\\\\\\\\"selectedColumn\\\\\\\\\\\\\\\": \\\\\\\\\\\\\\\"tx_post_relapse\\\\\\\\\\\\\\\"}}, \\\\\\\\\\\\\\\"typeProperty\\\\\\\\\\\\\\\": 2}, {\\\\\\\\\\\\\\\"column\\\\\\\\\\\\\\\": {\\\\\\\\\\\\\\\"type\\\\\\\\\\\\\\\": 2, \\\\\\\\\\\\\\\"details\\\\\\\\\\\\\\\": {\\\\\\\\\\\\\\\"selectedColumn\\\\\\\\\\\\\\\": \\\\\\\\\\\\\\\"ANC_recovery\\\\\\\\\\\\\\\"}}, \\\\\\\\\\\\\\\"typeProperty\\\\\\\\\\\\\\\": 2}, {\\\\\\\\\\\\\\\"column\\\\\\\\\\\\\\\": {\\\\\\\\\\\\\\\"type\\\\\\\\\\\\\\\": 2, \\\\\\\\\\\\\\\"details\\\\\\\\\\\\\\\": {\\\\\\\\\\\\\\\"selectedColumn\\\\\\\\\\\\\\\": \\\\\\\\\\\\\\\"PLT_recovery\\\\\\\\\\\\\\\"}}, \\\\\\\\\\\\\\\"typeProperty\\\\\\\\\\\\\\\": 2}, {\\\\\\\\\\\\\\\"column\\\\\\\\\\\\\\\": {\\\\\\\\\\\\\\\"type\\\\\\\\\\\\\\\": 2, \\\\\\\\\\\\\\\"details\\\\\\\\\\\\\\\": {\\\\\\\\\\\\\\\"selectedColumn\\\\\\\\\\\\\\\": \\\\\\\\\\\\\\\"acute_GvHD_II_III_IV\\\\\\\\\\\\\\\"}}, \\\\\\\\\\\\\\\"typeProperty\\\\\\\\\\\\\\\": 2}, {\\\\\\\\\\\\\\\"column\\\\\\\\\\\\\\\": {\\\\\\\\\\\\\\\"type\\\\\\\\\\\\\\\": 2, \\\\\\\\\\\\\\\"details\\\\\\\\\\\\\\\": {\\\\\\\\\\\\\\\"selectedColumn\\\\\\\\\\\\\\\": \\\\\\\\\\\\\\\"acute_GvHD_III_IV\\\\\\\\\\\\\\\"}}, \\\\\\\\\\\\\\\"typeProperty\\\\\\\\\\\\\\\": 2}, {\\\\\\\\\\\\\\\"column\\\\\\\\\\\\\\\": {\\\\\\\\\\\\\\\"type\\\\\\\\\\\\\\\": 2, \\\\\\\\\\\\\\\"details\\\\\\\\\\\\\\\": {\\\\\\\\\\\\\\\"selectedColumn\\\\\\\\\\\\\\\": \\\\\\\\\\\\\\\"relapse\\\\\\\\\\\\\\\"}}, \\\\\\\\\\\\\\\"typeProperty\\\\\\\\\\\\\\\": 2}, {\\\\\\\\\\\\\\\"column\\\\\\\\\\\\\\\": {\\\\\\\\\\\\\\\"type\\\\\\\\\\\\\\\": 2, \\\\\\\\\\\\\\\"details\\\\\\\\\\\\\\\": {\\\\\\\\\\\\\\\"selectedColumn\\\\\\\\\\\\\\\": \\\\\\\\\\\\\\\"donor_age\\\\\\\\\\\\\\\"}}, \\\\\\\\\\\\\\\"typeProperty\\\\\\\\\\\\\\\": 3}, {\\\\\\\\\\\\\\\"column\\\\\\\\\\\\\\\": {\\\\\\\\\\\\\\\"type\\\\\\\\\\\\\\\": 2, \\\\\\\\\\\\\\\"details\\\\\\\\\\\\\\\": {\\\\\\\\\\\\\\\"selectedColumn\\\\\\\\\\\\\\\": \\\\\\\\\\\\\\\"recipient_age\\\\\\\\\\\\\\\"}}, \\\\\\\\\\\\\\\"typeProperty\\\\\\\\\\\\\\\": 3}, {\\\\\\\\\\\\\\\"column\\\\\\\\\\\\\\\": {\\\\\\\\\\\\\\\"type\\\\\\\\\\\\\\\": 2, \\\\\\\\\\\\\\\"details\\\\\\\\\\\\\\\": {\\\\\\\\\\\\\\\"selectedColumn\\\\\\\\\\\\\\\": \\\\\\\\\\\\\\\"recipient_body_mass\\\\\\\\\\\\\\\"}}, \\\\\\\\\\\\\\\"typeProperty\\\\\\\\\\\\\\\": 3}, {\\\\\\\\\\\\\\\"column\\\\\\\\\\\\\\\": {\\\\\\\\\\\\\\\"type\\\\\\\\\\\\\\\": 2, \\\\\\\\\\\\\\\"details\\\\\\\\\\\\\\\": {\\\\\\\\\\\\\\\"selectedColumn\\\\\\\\\\\\\\\": \\\\\\\\\\\\\\\"CD34_x1e6_per_kg\\\\\\\\\\\\\\\"}}, \\\\\\\\\\\\\\\"typeProperty\\\\\\\\\\\\\\\": 3}, {\\\\\\\\\\\\\\\"column\\\\\\\\\\\\\\\": {\\\\\\\\\\\\\\\"type\\\\\\\\\\\\\\\": 2, \\\\\\\\\\\\\\\"details\\\\\\\\\\\\\\\": {\\\\\\\\\\\\\\\"selectedColumn\\\\\\\\\\\\\\\": \\\\\\\\\\\\\\\"CD3_x1e8_per_kg\\\\\\\\\\\\\\\"}}, \\\\\\\\\\\\\\\"typeProperty\\\\\\\\\\\\\\\": 3}, {\\\\\\\\\\\\\\\"column\\\\\\\\\\\\\\\": {\\\\\\\\\\\\\\\"type\\\\\\\\\\\\\\\": 2, \\\\\\\\\\\\\\\"details\\\\\\\\\\\\\\\": {\\\\\\\\\\\\\\\"selectedColumn\\\\\\\\\\\\\\\": \\\\\\\\\\\\\\\"CD3_to_CD34_ratio\\\\\\\\\\\\\\\"}}, \\\\\\\\\\\\\\\"typeProperty\\\\\\\\\\\\\\\": 3}, {\\\\\\\\\\\\\\\"column\\\\\\\\\\\\\\\": {\\\\\\\\\\\\\\\"type\\\\\\\\\\\\\\\": 2, \\\\\\\\\\\\\\\"details\\\\\\\\\\\\\\\": {\\\\\\\\\\\\\\\"selectedColumn\\\\\\\\\\\\\\\": \\\\\\\\\\\\\\\"time_to_ANC_recovery\\\\\\\\\\\\\\\"}}, \\\\\\\\\\\\\\\"typeProperty\\\\\\\\\\\\\\\": 3}, {\\\\\\\\\\\\\\\"column\\\\\\\\\\\\\\\": {\\\\\\\\\\\\\\\"type\\\\\\\\\\\\\\\": 2, \\\\\\\\\\\\\\\"details\\\\\\\\\\\\\\\": {\\\\\\\\\\\\\\\"selectedColumn\\\\\\\\\\\\\\\": \\\\\\\\\\\\\\\"time_to_PLT_recovery\\\\\\\\\\\\\\\"}}, \\\\\\\\\\\\\\\"typeProperty\\\\\\\\\\\\\\\": 3}, {\\\\\\\\\\\\\\\"column\\\\\\\\\\\\\\\": {\\\\\\\\\\\\\\\"type\\\\\\\\\\\\\\\": 2, \\\\\\\\\\\\\\\"details\\\\\\\\\\\\\\\": {\\\\\\\\\\\\\\\"selectedColumn\\\\\\\\\\\\\\\": \\\\\\\\\\\\\\\"time_to_acute_GvHD_III_IV\\\\\\\\\\\\\\\"}}, \\\\\\\\\\\\\\\"typeProperty\\\\\\\\\\\\\\\": 3}, {\\\\\\\\\\\\\\\"column\\\\\\\\\\\\\\\": {\\\\\\\\\\\\\\\"type\\\\\\\\\\\\\\\": 2, \\\\\\\\\\\\\\\"details\\\\\\\\\\\\\\\": {\\\\\\\\\\\\\\\"selectedColumn\\\\\\\\\\\\\\\": \\\\\\\\\\\\\\\"donor_ABO_0\\\\\\\\\\\\\\\"}}, \\\\\\\\\\\\\\\"typeProperty\\\\\\\\\\\\\\\": 2}, {\\\\\\\\\\\\\\\"column\\\\\\\\\\\\\\\": {\\\\\\\\\\\\\\\"type\\\\\\\\\\\\\\\": 2, \\\\\\\\\\\\\\\"details\\\\\\\\\\\\\\\": {\\\\\\\\\\\\\\\"selectedColumn\\\\\\\\\\\\\\\": \\\\\\\\\\\\\\\"donor_ABO_A\\\\\\\\\\\\\\\"}}, \\\\\\\\\\\\\\\"typeProperty\\\\\\\\\\\\\\\": 2}, {\\\\\\\\\\\\\\\"column\\\\\\\\\\\\\\\": {\\\\\\\\\\\\\\\"type\\\\\\\\\\\\\\\": 2, \\\\\\\\\\\\\\\"details\\\\\\\\\\\\\\\": {\\\\\\\\\\\\\\\"selectedColumn\\\\\\\\\\\\\\\": \\\\\\\\\\\\\\\"donor_ABO_AB\\\\\\\\\\\\\\\"}}, \\\\\\\\\\\\\\\"typeProperty\\\\\\\\\\\\\\\": 2}, {\\\\\\\\\\\\\\\"column\\\\\\\\\\\\\\\": {\\\\\\\\\\\\\\\"type\\\\\\\\\\\\\\\": 2, \\\\\\\\\\\\\\\"details\\\\\\\\\\\\\\\": {\\\\\\\\\\\\\\\"selectedColumn\\\\\\\\\\\\\\\": \\\\\\\\\\\\\\\"donor_ABO_B\\\\\\\\\\\\\\\"}}, \\\\\\\\\\\\\\\"typeProperty\\\\\\\\\\\\\\\": 2}, {\\\\\\\\\\\\\\\"column\\\\\\\\\\\\\\\": {\\\\\\\\\\\\\\\"type\\\\\\\\\\\\\\\": 2, \\\\\\\\\\\\\\\"details\\\\\\\\\\\\\\\": {\\\\\\\\\\\\\\\"selectedColumn\\\\\\\\\\\\\\\": \\\\\\\\\\\\\\\"recipient_age_int_0_5\\\\\\\\\\\\\\\"}}, \\\\\\\\\\\\\\\"typeProperty\\\\\\\\\\\\\\\": 2}, {\\\\\\\\\\\\\\\"column\\\\\\\\\\\\\\\": {\\\\\\\\\\\\\\\"type\\\\\\\\\\\\\\\": 2, \\\\\\\\\\\\\\\"details\\\\\\\\\\\\\\\": {\\\\\\\\\\\\\\\"selectedColumn\\\\\\\\\\\\\\\": \\\\\\\\\\\\\\\"recipient_age_int_10_20\\\\\\\\\\\\\\\"}}, \\\\\\\\\\\\\\\"typeProperty\\\\\\\\\\\\\\\": 2}, {\\\\\\\\\\\\\\\"column\\\\\\\\\\\\\\\": {\\\\\\\\\\\\\\\"type\\\\\\\\\\\\\\\": 2, \\\\\\\\\\\\\\\"details\\\\\\\\\\\\\\\": {\\\\\\\\\\\\\\\"selectedColumn\\\\\\\\\\\\\\\": \\\\\\\\\\\\\\\"recipient_age_int_5_10\\\\\\\\\\\\\\\"}}, \\\\\\\\\\\\\\\"typeProperty\\\\\\\\\\\\\\\": 2}, {\\\\\\\\\\\\\\\"column\\\\\\\\\\\\\\\": {\\\\\\\\\\\\\\\"type\\\\\\\\\\\\\\\": 2, \\\\\\\\\\\\\\\"details\\\\\\\\\\\\\\\": {\\\\\\\\\\\\\\\"selectedColumn\\\\\\\\\\\\\\\": \\\\\\\\\\\\\\\"recipient_ABO_0\\\\\\\\\\\\\\\"}}, \\\\\\\\\\\\\\\"typeProperty\\\\\\\\\\\\\\\": 2}, {\\\\\\\\\\\\\\\"column\\\\\\\\\\\\\\\": {\\\\\\\\\\\\\\\"type\\\\\\\\\\\\\\\": 2, \\\\\\\\\\\\\\\"details\\\\\\\\\\\\\\\": {\\\\\\\\\\\\\\\"selectedColumn\\\\\\\\\\\\\\\": \\\\\\\\\\\\\\\"recipient_ABO_A\\\\\\\\\\\\\\\"}}, \\\\\\\\\\\\\\\"typeProperty\\\\\\\\\\\\\\\": 2}, {\\\\\\\\\\\\\\\"column\\\\\\\\\\\\\\\": {\\\\\\\\\\\\\\\"type\\\\\\\\\\\\\\\": 2, \\\\\\\\\\\\\\\"details\\\\\\\\\\\\\\\": {\\\\\\\\\\\\\\\"selectedColumn\\\\\\\\\\\\\\\": \\\\\\\\\\\\\\\"recipient_ABO_AB\\\\\\\\\\\\\\\"}}, \\\\\\\\\\\\\\\"typeProperty\\\\\\\\\\\\\\\": 2}, {\\\\\\\\\\\\\\\"column\\\\\\\\\\\\\\\": {\\\\\\\\\\\\\\\"type\\\\\\\\\\\\\\\": 2, \\\\\\\\\\\\\\\"details\\\\\\\\\\\\\\\": {\\\\\\\\\\\\\\\"selectedColumn\\\\\\\\\\\\\\\": \\\\\\\\\\\\\\\"recipient_ABO_B\\\\\\\\\\\\\\\"}}, \\\\\\\\\\\\\\\"typeProperty\\\\\\\\\\\\\\\": 2}, {\\\\\\\\\\\\\\\"column\\\\\\\\\\\\\\\": {\\\\\\\\\\\\\\\"type\\\\\\\\\\\\\\\": 2, \\\\\\\\\\\\\\\"details\\\\\\\\\\\\\\\": {\\\\\\\\\\\\\\\"selectedColumn\\\\\\\\\\\\\\\": \\\\\\\\\\\\\\\"disease_ALL\\\\\\\\\\\\\\\"}}, \\\\\\\\\\\\\\\"typeProperty\\\\\\\\\\\\\\\": 2}, {\\\\\\\\\\\\\\\"column\\\\\\\\\\\\\\\": {\\\\\\\\\\\\\\\"type\\\\\\\\\\\\\\\": 2, \\\\\\\\\\\\\\\"details\\\\\\\\\\\\\\\": {\\\\\\\\\\\\\\\"selectedColumn\\\\\\\\\\\\\\\": \\\\\\\\\\\\\\\"disease_AML\\\\\\\\\\\\\\\"}}, \\\\\\\\\\\\\\\"typeProperty\\\\\\\\\\\\\\\": 2}, {\\\\\\\\\\\\\\\"column\\\\\\\\\\\\\\\": {\\\\\\\\\\\\\\\"type\\\\\\\\\\\\\\\": 2, \\\\\\\\\\\\\\\"details\\\\\\\\\\\\\\\": {\\\\\\\\\\\\\\\"selectedColumn\\\\\\\\\\\\\\\": \\\\\\\\\\\\\\\"disease_chronic\\\\\\\\\\\\\\\"}}, \\\\\\\\\\\\\\\"typeProperty\\\\\\\\\\\\\\\": 2}, {\\\\\\\\\\\\\\\"column\\\\\\\\\\\\\\\": {\\\\\\\\\\\\\\\"type\\\\\\\\\\\\\\\": 2, \\\\\\\\\\\\\\\"details\\\\\\\\\\\\\\\": {\\\\\\\\\\\\\\\"selectedColumn\\\\\\\\\\\\\\\": \\\\\\\\\\\\\\\"disease_lymphoma\\\\\\\\\\\\\\\"}}, \\\\\\\\\\\\\\\"typeProperty\\\\\\\\\\\\\\\": 2}, {\\\\\\\\\\\\\\\"column\\\\\\\\\\\\\\\": {\\\\\\\\\\\\\\\"type\\\\\\\\\\\\\\\": 2, \\\\\\\\\\\\\\\"details\\\\\\\\\\\\\\\": {\\\\\\\\\\\\\\\"selectedColumn\\\\\\\\\\\\\\\": \\\\\\\\\\\\\\\"disease_nonmalignant\\\\\\\\\\\\\\\"}}, \\\\\\\\\\\\\\\"typeProperty\\\\\\\\\\\\\\\": 2}, {\\\\\\\\\\\\\\\"column\\\\\\\\\\\\\\\": {\\\\\\\\\\\\\\\"type\\\\\\\\\\\\\\\": 2, \\\\\\\\\\\\\\\"details\\\\\\\\\\\\\\\": {\\\\\\\\\\\\\\\"selectedColumn\\\\\\\\\\\\\\\": \\\\\\\\\\\\\\\"disease_group_malignant\\\\\\\\\\\\\\\"}}, \\\\\\\\\\\\\\\"typeProperty\\\\\\\\\\\\\\\": 2}, {\\\\\\\\\\\\\\\"column\\\\\\\\\\\\\\\": {\\\\\\\\\\\\\\\"type\\\\\\\\\\\\\\\": 2, \\\\\\\\\\\\\\\"details\\\\\\\\\\\\\\\": {\\\\\\\\\\\\\\\"selectedColumn\\\\\\\\\\\\\\\": \\\\\\\\\\\\\\\"disease_group_nonmalignant\\\\\\\\\\\\\\\"}}, \\\\\\\\\\\\\\\"typeProperty\\\\\\\\\\\\\\\": 2}, {\\\\\\\\\\\\\\\"column\\\\\\\\\\\\\\\": {\\\\\\\\\\\\\\\"type\\\\\\\\\\\\\\\": 2, \\\\\\\\\\\\\\\"details\\\\\\\\\\\\\\\": {\\\\\\\\\\\\\\\"selectedColumn\\\\\\\\\\\\\\\": \\\\\\\\\\\\\\\"CMV_status_0\\\\\\\\\\\\\\\"}}, \\\\\\\\\\\\\\\"typeProperty\\\\\\\\\\\\\\\": 2}, {\\\\\\\\\\\\\\\"column\\\\\\\\\\\\\\\": {\\\\\\\\\\\\\\\"type\\\\\\\\\\\\\\\": 2, \\\\\\\\\\\\\\\"details\\\\\\\\\\\\\\\": {\\\\\\\\\\\\\\\"selectedColumn\\\\\\\\\\\\\\\": \\\\\\\\\\\\\\\"CMV_status_1\\\\\\\\\\\\\\\"}}, \\\\\\\\\\\\\\\"typeProperty\\\\\\\\\\\\\\\": 2}, {\\\\\\\\\\\\\\\"column\\\\\\\\\\\\\\\": {\\\\\\\\\\\\\\\"type\\\\\\\\\\\\\\\": 2, \\\\\\\\\\\\\\\"details\\\\\\\\\\\\\\\": {\\\\\\\\\\\\\\\"selectedColumn\\\\\\\\\\\\\\\": \\\\\\\\\\\\\\\"CMV_status_2\\\\\\\\\\\\\\\"}}, \\\\\\\\\\\\\\\"typeProperty\\\\\\\\\\\\\\\": 2}, {\\\\\\\\\\\\\\\"column\\\\\\\\\\\\\\\": {\\\\\\\\\\\\\\\"type\\\\\\\\\\\\\\\": 2, \\\\\\\\\\\\\\\"details\\\\\\\\\\\\\\\": {\\\\\\\\\\\\\\\"selectedColumn\\\\\\\\\\\\\\\": \\\\\\\\\\\\\\\"CMV_status_3\\\\\\\\\\\\\\\"}}, \\\\\\\\\\\\\\\"typeProperty\\\\\\\\\\\\\\\": 2}, {\\\\\\\\\\\\\\\"column\\\\\\\\\\\\\\\": {\\\\\\\\\\\\\\\"type\\\\\\\\\\\\\\\": 2, \\\\\\\\\\\\\\\"details\\\\\\\\\\\\\\\": {\\\\\\\\\\\\\\\"selectedColumn\\\\\\\\\\\\\\\": \\\\\\\\\\\\\\\"HLA_match_10/10\\\\\\\\\\\\\\\"}}, \\\\\\\\\\\\\\\"typeProperty\\\\\\\\\\\\\\\": 2}, {\\\\\\\\\\\\\\\"column\\\\\\\\\\\\\\\": {\\\\\\\\\\\\\\\"type\\\\\\\\\\\\\\\": 2, \\\\\\\\\\\\\\\"details\\\\\\\\\\\\\\\": {\\\\\\\\\\\\\\\"selectedColumn\\\\\\\\\\\\\\\": \\\\\\\\\\\\\\\"HLA_match_7/10\\\\\\\\\\\\\\\"}}, \\\\\\\\\\\\\\\"typeProperty\\\\\\\\\\\\\\\": 2}, {\\\\\\\\\\\\\\\"column\\\\\\\\\\\\\\\": {\\\\\\\\\\\\\\\"type\\\\\\\\\\\\\\\": 2, \\\\\\\\\\\\\\\"details\\\\\\\\\\\\\\\": {\\\\\\\\\\\\\\\"selectedColumn\\\\\\\\\\\\\\\": \\\\\\\\\\\\\\\"HLA_match_8/10\\\\\\\\\\\\\\\"}}, \\\\\\\\\\\\\\\"typeProperty\\\\\\\\\\\\\\\": 2}, {\\\\\\\\\\\\\\\"column\\\\\\\\\\\\\\\": {\\\\\\\\\\\\\\\"type\\\\\\\\\\\\\\\": 2, \\\\\\\\\\\\\\\"details\\\\\\\\\\\\\\\": {\\\\\\\\\\\\\\\"selectedColumn\\\\\\\\\\\\\\\": \\\\\\\\\\\\\\\"HLA_match_9/10\\\\\\\\\\\\\\\"}}, \\\\\\\\\\\\\\\"typeProperty\\\\\\\\\\\\\\\": 2}, {\\\\\\\\\\\\\\\"column\\\\\\\\\\\\\\\": {\\\\\\\\\\\\\\\"type\\\\\\\\\\\\\\\": 2, \\\\\\\\\\\\\\\"details\\\\\\\\\\\\\\\": {\\\\\\\\\\\\\\\"selectedColumn\\\\\\\\\\\\\\\": \\\\\\\\\\\\\\\"antigen_0\\\\\\\\\\\\\\\"}}, \\\\\\\\\\\\\\\"typeProperty\\\\\\\\\\\\\\\": 2}, {\\\\\\\\\\\\\\\"column\\\\\\\\\\\\\\\": {\\\\\\\\\\\\\\\"type\\\\\\\\\\\\\\\": 2, \\\\\\\\\\\\\\\"details\\\\\\\\\\\\\\\": {\\\\\\\\\\\\\\\"selectedColumn\\\\\\\\\\\\\\\": \\\\\\\\\\\\\\\"antigen_1\\\\\\\\\\\\\\\"}}, \\\\\\\\\\\\\\\"typeProperty\\\\\\\\\\\\\\\": 2}, {\\\\\\\\\\\\\\\"column\\\\\\\\\\\\\\\": {\\\\\\\\\\\\\\\"type\\\\\\\\\\\\\\\": 2, \\\\\\\\\\\\\\\"details\\\\\\\\\\\\\\\": {\\\\\\\\\\\\\\\"selectedColumn\\\\\\\\\\\\\\\": \\\\\\\\\\\\\\\"antigen_2\\\\\\\\\\\\\\\"}}, \\\\\\\\\\\\\\\"typeProperty\\\\\\\\\\\\\\\": 2}, {\\\\\\\\\\\\\\\"column\\\\\\\\\\\\\\\": {\\\\\\\\\\\\\\\"type\\\\\\\\\\\\\\\": 2, \\\\\\\\\\\\\\\"details\\\\\\\\\\\\\\\": {\\\\\\\\\\\\\\\"selectedColumn\\\\\\\\\\\\\\\": \\\\\\\\\\\\\\\"antigen_3\\\\\\\\\\\\\\\"}}, \\\\\\\\\\\\\\\"typeProperty\\\\\\\\\\\\\\\": 2}, {\\\\\\\\\\\\\\\"column\\\\\\\\\\\\\\\": {\\\\\\\\\\\\\\\"type\\\\\\\\\\\\\\\": 2, \\\\\\\\\\\\\\\"details\\\\\\\\\\\\\\\": {\\\\\\\\\\\\\\\"selectedColumn\\\\\\\\\\\\\\\": \\\\\\\\\\\\\\\"allel_0\\\\\\\\\\\\\\\"}}, \\\\\\\\\\\\\\\"typeProperty\\\\\\\\\\\\\\\": 2}, {\\\\\\\\\\\\\\\"column\\\\\\\\\\\\\\\": {\\\\\\\\\\\\\\\"type\\\\\\\\\\\\\\\": 2, \\\\\\\\\\\\\\\"details\\\\\\\\\\\\\\\": {\\\\\\\\\\\\\\\"selectedColumn\\\\\\\\\\\\\\\": \\\\\\\\\\\\\\\"allel_1\\\\\\\\\\\\\\\"}}, \\\\\\\\\\\\\\\"typeProperty\\\\\\\\\\\\\\\": 2}, {\\\\\\\\\\\\\\\"column\\\\\\\\\\\\\\\": {\\\\\\\\\\\\\\\"type\\\\\\\\\\\\\\\": 2, \\\\\\\\\\\\\\\"details\\\\\\\\\\\\\\\": {\\\\\\\\\\\\\\\"selectedColumn\\\\\\\\\\\\\\\": \\\\\\\\\\\\\\\"allel_2\\\\\\\\\\\\\\\"}}, \\\\\\\\\\\\\\\"typeProperty\\\\\\\\\\\\\\\": 2}, {\\\\\\\\\\\\\\\"column\\\\\\\\\\\\\\\": {\\\\\\\\\\\\\\\"type\\\\\\\\\\\\\\\": 2, \\\\\\\\\\\\\\\"details\\\\\\\\\\\\\\\": {\\\\\\\\\\\\\\\"selectedColumn\\\\\\\\\\\\\\\": \\\\\\\\\\\\\\\"allel_3\\\\\\\\\\\\\\\"}}, \\\\\\\\\\\\\\\"typeProperty\\\\\\\\\\\\\\\": 2}, {\\\\\\\\\\\\\\\"column\\\\\\\\\\\\\\\": {\\\\\\\\\\\\\\\"type\\\\\\\\\\\\\\\": 2, \\\\\\\\\\\\\\\"details\\\\\\\\\\\\\\\": {\\\\\\\\\\\\\\\"selectedColumn\\\\\\\\\\\\\\\": \\\\\\\\\\\\\\\"allel_4\\\\\\\\\\\\\\\"}}, \\\\\\\\\\\\\\\"typeProperty\\\\\\\\\\\\\\\": 2}, {\\\\\\\\\\\\\\\"column\\\\\\\\\\\\\\\": {\\\\\\\\\\\\\\\"type\\\\\\\\\\\\\\\": 2, \\\\\\\\\\\\\\\"details\\\\\\\\\\\\\\\": {\\\\\\\\\\\\\\\"selectedColumn\\\\\\\\\\\\\\\": \\\\\\\\\\\\\\\"HLA_group_1_DRB1_cell\\\\\\\\\\\\\\\"}}, \\\\\\\\\\\\\\\"typeProperty\\\\\\\\\\\\\\\": 2}, {\\\\\\\\\\\\\\\"column\\\\\\\\\\\\\\\": {\\\\\\\\\\\\\\\"type\\\\\\\\\\\\\\\": 2, \\\\\\\\\\\\\\\"details\\\\\\\\\\\\\\\": {\\\\\\\\\\\\\\\"selectedColumn\\\\\\\\\\\\\\\": \\\\\\\\\\\\\\\"HLA_group_1_matched\\\\\\\\\\\\\\\"}}, \\\\\\\\\\\\\\\"typeProperty\\\\\\\\\\\\\\\": 2}, {\\\\\\\\\\\\\\\"column\\\\\\\\\\\\\\\": {\\\\\\\\\\\\\\\"type\\\\\\\\\\\\\\\": 2, \\\\\\\\\\\\\\\"details\\\\\\\\\\\\\\\": {\\\\\\\\\\\\\\\"selectedColumn\\\\\\\\\\\\\\\": \\\\\\\\\\\\\\\"HLA_group_1_mismatched\\\\\\\\\\\\\\\"}}, \\\\\\\\\\\\\\\"typeProperty\\\\\\\\\\\\\\\": 2}, {\\\\\\\\\\\\\\\"column\\\\\\\\\\\\\\\": {\\\\\\\\\\\\\\\"type\\\\\\\\\\\\\\\": 2, \\\\\\\\\\\\\\\"details\\\\\\\\\\\\\\\": {\\\\\\\\\\\\\\\"selectedColumn\\\\\\\\\\\\\\\": \\\\\\\\\\\\\\\"HLA_group_1_one_allel\\\\\\\\\\\\\\\"}}, \\\\\\\\\\\\\\\"typeProperty\\\\\\\\\\\\\\\": 2}, {\\\\\\\\\\\\\\\"column\\\\\\\\\\\\\\\": {\\\\\\\\\\\\\\\"type\\\\\\\\\\\\\\\": 2, \\\\\\\\\\\\\\\"details\\\\\\\\\\\\\\\": {\\\\\\\\\\\\\\\"selectedColumn\\\\\\\\\\\\\\\": \\\\\\\\\\\\\\\"HLA_group_1_one_antigen\\\\\\\\\\\\\\\"}}, \\\\\\\\\\\\\\\"typeProperty\\\\\\\\\\\\\\\": 2}, {\\\\\\\\\\\\\\\"column\\\\\\\\\\\\\\\": {\\\\\\\\\\\\\\\"type\\\\\\\\\\\\\\\": 2, \\\\\\\\\\\\\\\"details\\\\\\\\\\\\\\\": {\\\\\\\\\\\\\\\"selectedColumn\\\\\\\\\\\\\\\": \\\\\\\\\\\\\\\"HLA_group_1_three_diffs\\\\\\\\\\\\\\\"}}, \\\\\\\\\\\\\\\"typeProperty\\\\\\\\\\\\\\\": 2}, {\\\\\\\\\\\\\\\"column\\\\\\\\\\\\\\\": {\\\\\\\\\\\\\\\"type\\\\\\\\\\\\\\\": 2, \\\\\\\\\\\\\\\"details\\\\\\\\\\\\\\\": {\\\\\\\\\\\\\\\"selectedColumn\\\\\\\\\\\\\\\": \\\\\\\\\\\\\\\"HLA_group_1_two_diffs\\\\\\\\\\\\\\\"}}, \\\\\\\\\\\\\\\"typeProperty\\\\\\\\\\\\\\\": 2}, {\\\\\\\\\\\\\\\"column\\\\\\\\\\\\\\\": {\\\\\\\\\\\\\\\"type\\\\\\\\\\\\\\\": 2, \\\\\\\\\\\\\\\"details\\\\\\\\\\\\\\\": {\\\\\\\\\\\\\\\"selectedColumn\\\\\\\\\\\\\\\": \\\\\\\\\\\\\\\"survival_status\\\\\\\\\\\\\\\"}}, \\\\\\\\\\\\\\\"typeProperty\\\\\\\\\\\\\\\": 2}]}, \\\\\\\\\\\\\\\"localData\\\\\\\\\\\\\\\": {}, \\\\\\\\\\\\\\\"isEnabled\\\\\\\\\\\\\\\": true, \\\\\\\\\\\\\\\"name\\\\\\\\\\\\\\\": null, \\\\\\\\\\\\\\\"annotation\\\\\\\\\\\\\\\": null}], \\\\\\\\\\\\\\\"inspectors\\\\\\\\\\\\\\\": [], \\\\\\\\\\\\\\\"meta\\\\\\\\\\\\\\\": {\\\\\\\\\\\\\\\"savedDatasetId\\\\\\\\\\\\\\\": \\\\\\\\\\\\\\\"7a5ed722-f878-4d1d-88f0-d2772b881247\\\\\\\\\\\\\\\", \\\\\\\\\\\\\\\"datasetType\\\\\\\\\\\\\\\": \\\\\\\\\\\\\\\"tabular\\\\\\\\\\\\\\\", \\\\\\\\\\\\\\\"subscriptionId\\\\\\\\\\\\\\\": \\\\\\\\\\\\\\\"ef22e2eb-a072-4db6-86df-7ea6643b1b5f\\\\\\\\\\\\\\\", \\\\\\\\\\\\\\\"workspaceId\\\\\\\\\\\\\\\": \\\\\\\\\\\\\\\"4f07af82-a074-40c4-b1ed-7a88fb12b17f\\\\\\\\\\\\\\\", \\\\\\\\\\\\\\\"workspaceLocation\\\\\\\\\\\\\\\": \\\\\\\\\\\\\\\"southcentralus\\\\\\\\\\\\\\\"}}\\\\\\\", \\\\\\\"activities\\\\\\\": 0}\", \"EnableSubsampling\": \"False\", \"runTemplate\": \"AutoML\", \"azureml.runsource\": \"automl\", \"display_task_type\": \"classification\", \"dependencies_versions\": \"{\\\"azureml-widgets\\\": \\\"1.18.0\\\", \\\"azureml-train\\\": \\\"1.18.0\\\", \\\"azureml-train-restclients-hyperdrive\\\": \\\"1.18.0\\\", \\\"azureml-train-core\\\": \\\"1.18.0\\\", \\\"azureml-train-automl\\\": \\\"1.18.0\\\", \\\"azureml-train-automl-runtime\\\": \\\"1.18.0\\\", \\\"azureml-train-automl-client\\\": \\\"1.18.0\\\", \\\"azureml-tensorboard\\\": \\\"1.18.0\\\", \\\"azureml-telemetry\\\": \\\"1.18.0\\\", \\\"azureml-sdk\\\": \\\"1.18.0\\\", \\\"azureml-samples\\\": \\\"0+unknown\\\", \\\"azureml-pipeline\\\": \\\"1.18.0\\\", \\\"azureml-pipeline-steps\\\": \\\"1.18.0\\\", \\\"azureml-pipeline-core\\\": \\\"1.18.0\\\", \\\"azureml-opendatasets\\\": \\\"1.18.0\\\", \\\"azureml-model-management-sdk\\\": \\\"1.0.1b6.post1\\\", \\\"azureml-mlflow\\\": \\\"1.18.0\\\", \\\"azureml-interpret\\\": \\\"1.18.0\\\", \\\"azureml-explain-model\\\": \\\"1.18.0\\\", \\\"azureml-defaults\\\": \\\"1.18.0\\\", \\\"azureml-dataset-runtime\\\": \\\"1.18.0\\\", \\\"azureml-dataprep\\\": \\\"2.4.2\\\", \\\"azureml-dataprep-rslex\\\": \\\"1.2.2\\\", \\\"azureml-dataprep-native\\\": \\\"24.0.0\\\", \\\"azureml-datadrift\\\": \\\"1.18.0\\\", \\\"azureml-core\\\": \\\"1.18.0\\\", \\\"azureml-contrib-services\\\": \\\"1.18.0\\\", \\\"azureml-contrib-server\\\": \\\"1.18.0\\\", \\\"azureml-contrib-reinforcementlearning\\\": \\\"1.18.0\\\", \\\"azureml-contrib-pipeline-steps\\\": \\\"1.18.0\\\", \\\"azureml-contrib-notebook\\\": \\\"1.18.0\\\", \\\"azureml-contrib-interpret\\\": \\\"1.18.0\\\", \\\"azureml-contrib-gbdt\\\": \\\"1.18.0\\\", \\\"azureml-contrib-fairness\\\": \\\"1.18.0\\\", \\\"azureml-contrib-dataset\\\": \\\"1.18.0\\\", \\\"azureml-cli-common\\\": \\\"1.18.0\\\", \\\"azureml-automl-runtime\\\": \\\"1.18.0\\\", \\\"azureml-automl-core\\\": \\\"1.18.0\\\", \\\"azureml-accel-models\\\": \\\"1.18.0\\\"}\", \"_aml_system_scenario_identification\": \"Remote.Parent\", \"ClientType\": \"SDK\", \"environment_cpu_name\": \"AzureML-AutoML\", \"environment_cpu_version\": \"44\", \"environment_gpu_name\": \"AzureML-AutoML-GPU\", \"environment_gpu_version\": \"32\", \"root_attribution\": \"automl\", \"attribution\": \"AutoML\", \"Orchestrator\": \"AutoML\", \"CancelUri\": \"https://southcentralus.experiments.azureml.net/jasmine/v1.0/subscriptions/ef22e2eb-a072-4db6-86df-7ea6643b1b5f/resourceGroups/aml-quickstarts-128767/providers/Microsoft.MachineLearningServices/workspaces/quick-starts-ws-128767/experimentids/445fccbc-9dfe-43cd-bd09-b4c9583c0847/cancel/AutoML_739312ee-8942-4633-ab8e-d0ee3de0fe38\", \"ClientSdkVersion\": \"1.17.0\", \"snapshotId\": \"00000000-0000-0000-0000-000000000000\", \"SetupRunId\": \"AutoML_739312ee-8942-4633-ab8e-d0ee3de0fe38_setup\", \"SetupRunContainerId\": \"dcid.AutoML_739312ee-8942-4633-ab8e-d0ee3de0fe38_setup\", \"FeaturizationRunJsonPath\": \"featurizer_container.json\", \"FeaturizationRunId\": \"AutoML_739312ee-8942-4633-ab8e-d0ee3de0fe38_featurize\", \"ProblemInfoJsonString\": \"{\\\"dataset_num_categorical\\\": 0, \\\"is_sparse\\\": false, \\\"subsampling\\\": false, \\\"dataset_classes\\\": 2, \\\"dataset_features\\\": 69, \\\"dataset_samples\\\": 104, \\\"single_frequency_class_detected\\\": false}\", \"ModelExplainRunId\": \"AutoML_739312ee-8942-4633-ab8e-d0ee3de0fe38_ModelExplain\"}, \"tags\": {\"model_explain_run\": \"best_run\", \"_aml_system_azureml.automlComponent\": \"AutoML\", \"pipeline_id\": \"<c7af0367625be6ac5c2fecbfc72ed444cb7a2111>;<f873311e8cfb2bcdbeb6c20367cf912f4ee6733e>;<cf1dc9b7ea4a50d759bce352343ec6737501695a>;<713f188a27b176644f73e8664c667c674a2d3d62>;<62c0e30b2e9113b3ecd95bcf5b31423c72074070>;<5dfac790c5c209f98a1da2dc1c7fb76f0397324f>;<b19eeb61727e9c4fbb5aa45fb6e9fe3fab5b1f04>;<47dd667bb7c34b68c9fffa6fd580565b1f85400f>;<9e3f4780268658ad403e896559a8d3406152018c>;<e81d621ed176e5fac9def492d4ac54f304146b7c>;<59e4a1b86a57dfaeac5f3a051de6155ffc74f55b>;<a2983da01504b121cc4056d933a1191b51be87bc>;<52ac74da744a165756acc49238b34b81115532fd>;<a91f8b94ae9bf0dfc66e93d29d1ef41b7e2687f2>;<4d4be808b8b6dd0f67e8354c79eddd3d712440a5>;<8de8c085d2a4b23d3f4cc392a2f2660d23d38c14>;<d8d1a28b70a271fc16185d8e06b7faeee4bdd817>;<80d7fafc6227885ab86e843212a0c5ea47a69004>;<9fd7f177a78effac65f3f97ae40ca91e296c3f10>;<f86e0c37319548491774cfe027df9161ae6eecd2>;<19bb9b610818186383462e6b1f9b568bc04b93e9>;<9845a0ba1345a7474c237d10111bcf5bccbb1f0e>;<ce2643edf3d450b10c86c7d034a9bc952dc282d3>;<51ae05309834b29f71340af1008fc94fbd8213f4>;<f278b8166760d8a4636eeaac50616b8292d033b1>;<be1ef63576c9bf239084ecda182b48071c3c26e3>;<bc9206626b500d75953081471497ef8df99a5b5f>;<adf88c245fccd90cff054b0559cb3f18c133bb49>;<__AutoML_Stack_Ensemble__>;<__AutoML_Ensemble__>;\", \"score\": \"<0.6823809523809523>;<0.6433333333333333>;<0.6638095238095237>;<0.6723809523809524>;<0.6728571428571428>;<0.6257142857142857>;<0.6828571428571429>;<0.6242857142857142>;<0.6242857142857142>;<0.6142857142857142>;<0.6552380952380952>;<0.6233333333333333>;<0.6533333333333333>;<0.6342857142857142>;<0.6242857142857142>;<0.6442857142857142>;<0.6552380952380952>;<0.6247619047619047>;<0.6252380952380951>;<0.5871428571428571>;<0.6333333333333334>;<0.6614285714285715>;<0.6442857142857142>;<0.6242857142857142>;<0.6747619047619048>;<0.6728571428571428>;<0.6528571428571428>;<0.6542857142857142>;<0.6247619047619047>;<0.7214285714285714>;\", \"predicted_cost\": \"<0>;<0.5>;<0.5>;<0.009511238648392503>;<0.014028964789935918>;<0>;<0.5>;<0.004820399999999999>;<0.019170728945609002>;<0.005735441694195611>;<0.007435413588901407>;<0.004083754732124763>;<0.02683965318461507>;<0.005532838310798178>;<0.016548247485080804>;<0.016695235393974925>;<0.023207214106651525>;<0.017068252809790213>;<0.02291350441134013>;<0.022449032172721657>;<0.004690365167538159>;<0.023676621962119702>;<0.02729685070862472>;<0.02319334468902756>;<0.06736463087069218>;<0.022393112976632035>;<0.003517286518176763>;<0.03456070693859801>;<0>;<0>;\", \"fit_time\": \"<0.0446554>;<0.004820400000000001>;<0.0139772>;<0.015871000000000003>;<0.055771400000000006>;<0.0186142>;<0.021378>;<0.0036106>;<0.0421958>;<0.0028753999999999997>;<0.033105800000000005>;<0.0037373999999999997>;<0.061421800000000006>;<0.0123646>;<0.0503686>;<0.021758800000000002>;<0.046584200000000006>;<0.017108599999999998>;<0.033359799999999995>;<0.015687200000000002>;<0.0036998000000000005>;<0.0494722>;<0.017051>;<0.015454200000000001>;<0.41186539999999994>;<0.09269560000000002>;<0.0053396>;<0.948559>;<30>;<28>;\", \"training_percent\": \"<100>;<100>;<100>;<100>;<100>;<100>;<100>;<100>;<100>;<100>;<100>;<100>;<100>;<100>;<100>;<100>;<100>;<100>;<100>;<100>;<100>;<100>;<100>;<100>;<100>;<100>;<100>;<100>;<100>;<100>;\", \"iteration\": \"<1>;<3>;<2>;<6>;<7>;<0>;<4>;<5>;<8>;<9>;<10>;<11>;<12>;<13>;<15>;<14>;<16>;<17>;<19>;<20>;<18>;<21>;<22>;<23>;<25>;<26>;<24>;<27>;<29>;<28>;\", \"run_preprocessor\": \"<MaxAbsScaler>;<StandardScalerWrapper>;<MinMaxScaler>;<StandardScalerWrapper>;<RobustScaler>;<MaxAbsScaler>;<MinMaxScaler>;<StandardScalerWrapper>;<StandardScalerWrapper>;<StandardScalerWrapper>;<StandardScalerWrapper>;<MinMaxScaler>;<RobustScaler>;<MinMaxScaler>;<MinMaxScaler>;<MinMaxScaler>;<MinMaxScaler>;<StandardScalerWrapper>;<RobustScaler>;<StandardScalerWrapper>;<StandardScalerWrapper>;<MinMaxScaler>;<MaxAbsScaler>;<MaxAbsScaler>;<RobustScaler>;<MinMaxScaler>;<MaxAbsScaler>;<MinMaxScaler>;<>;<>;\", \"run_algorithm\": \"<XGBoostClassifier>;<SGD>;<RandomForest>;<RandomForest>;<ExtremeRandomTrees>;<LightGBM>;<RandomForest>;<SGD>;<ExtremeRandomTrees>;<SGD>;<SGD>;<SGD>;<ExtremeRandomTrees>;<SGD>;<ExtremeRandomTrees>;<ExtremeRandomTrees>;<ExtremeRandomTrees>;<RandomForest>;<ExtremeRandomTrees>;<RandomForest>;<SGD>;<ExtremeRandomTrees>;<RandomForest>;<ExtremeRandomTrees>;<RandomForest>;<RandomForest>;<SGD>;<RandomForest>;<StackEnsemble>;<VotingEnsemble>;\", \"dynamic_whitelisting_iterations\": \"<25>;\", \"automl_best_child_run_id\": \"AutoML_739312ee-8942-4633-ab8e-d0ee3de0fe38_28\", \"model_explain_best_run_child_id\": \"AutoML_739312ee-8942-4633-ab8e-d0ee3de0fe38_28\"}, \"end_time_utc\": \"2020-12-02T08:45:16.974611Z\", \"status\": \"Completed\", \"log_files\": {}, \"log_groups\": [], \"run_duration\": \"0:23:57\"}, \"child_runs\": [{\"run_id\": \"AutoML_739312ee-8942-4633-ab8e-d0ee3de0fe38_0\", \"run_number\": 5, \"metric\": null, \"status\": \"Completed\", \"run_type\": \"azureml.scriptrun\", \"training_percent\": \"100\", \"start_time\": \"2020-12-02T08:33:53.421301Z\", \"end_time\": \"2020-12-02T08:37:04.522787Z\", \"created_time\": \"2020-12-02T08:30:49.17614Z\", \"created_time_dt\": \"2020-12-02T08:30:49.17614Z\", \"duration\": \"0:06:15\", \"iteration\": \"0\", \"goal\": \"accuracy_max\", \"run_name\": \"MaxAbsScaler, LightGBM\", \"run_properties\": \"copy=True\", \"primary_metric\": 0.62571429, \"best_metric\": 0.62571429}, {\"run_id\": \"AutoML_739312ee-8942-4633-ab8e-d0ee3de0fe38_3\", \"run_number\": 6, \"metric\": null, \"status\": \"Completed\", \"run_type\": \"azureml.scriptrun\", \"training_percent\": \"100\", \"start_time\": \"2020-12-02T08:32:11.408382Z\", \"end_time\": \"2020-12-02T08:32:55.336384Z\", \"created_time\": \"2020-12-02T08:30:49.205119Z\", \"created_time_dt\": \"2020-12-02T08:30:49.205119Z\", \"duration\": \"0:02:06\", \"iteration\": \"3\", \"goal\": \"accuracy_max\", \"run_name\": \"StandardScalerWrapper, SGD\", \"run_properties\": \"<azureml.automl.runtime.shared.model_wrappers.StandardScalerWrapper object at 0x7f1065157c88\", \"primary_metric\": 0.64333333, \"best_metric\": 0.68238095}, {\"run_id\": \"AutoML_739312ee-8942-4633-ab8e-d0ee3de0fe38_1\", \"run_number\": 7, \"metric\": null, \"status\": \"Completed\", \"run_type\": \"azureml.scriptrun\", \"training_percent\": \"100\", \"start_time\": \"2020-12-02T08:31:00.847291Z\", \"end_time\": \"2020-12-02T08:31:49.165931Z\", \"created_time\": \"2020-12-02T08:30:49.595092Z\", \"created_time_dt\": \"2020-12-02T08:30:49.595092Z\", \"duration\": \"0:00:59\", \"iteration\": \"1\", \"goal\": \"accuracy_max\", \"run_name\": \"MaxAbsScaler, XGBoostClassifier\", \"run_properties\": \"copy=True\", \"primary_metric\": 0.68238095, \"best_metric\": 0.68238095}, {\"run_id\": \"AutoML_739312ee-8942-4633-ab8e-d0ee3de0fe38_2\", \"run_number\": 8, \"metric\": null, \"status\": \"Completed\", \"run_type\": \"azureml.scriptrun\", \"training_percent\": \"100\", \"start_time\": \"2020-12-02T08:33:19.78851Z\", \"end_time\": \"2020-12-02T08:34:06.617239Z\", \"created_time\": \"2020-12-02T08:30:49.231087Z\", \"created_time_dt\": \"2020-12-02T08:30:49.231087Z\", \"duration\": \"0:03:17\", \"iteration\": \"2\", \"goal\": \"accuracy_max\", \"run_name\": \"MinMaxScaler, RandomForest\", \"run_properties\": \"copy=True, feature_range=(0, 1\", \"primary_metric\": 0.66380952, \"best_metric\": 0.68238095}, {\"run_id\": \"AutoML_739312ee-8942-4633-ab8e-d0ee3de0fe38_4\", \"run_number\": 9, \"metric\": null, \"status\": \"Completed\", \"run_type\": \"azureml.scriptrun\", \"training_percent\": \"100\", \"start_time\": \"2020-12-02T08:34:05.486071Z\", \"end_time\": \"2020-12-02T08:37:16.476146Z\", \"created_time\": \"2020-12-02T08:31:59.638251Z\", \"created_time_dt\": \"2020-12-02T08:31:59.638251Z\", \"duration\": \"0:05:16\", \"iteration\": \"4\", \"goal\": \"accuracy_max\", \"run_name\": \"MinMaxScaler, RandomForest\", \"run_properties\": \"copy=True, feature_range=(0, 1\", \"primary_metric\": 0.68285714, \"best_metric\": 0.68285714}, {\"run_id\": \"AutoML_739312ee-8942-4633-ab8e-d0ee3de0fe38_5\", \"run_number\": 10, \"metric\": null, \"status\": \"Completed\", \"run_type\": \"azureml.scriptrun\", \"training_percent\": \"100\", \"start_time\": \"2020-12-02T08:33:52.07224Z\", \"end_time\": \"2020-12-02T08:37:14.248328Z\", \"created_time\": \"2020-12-02T08:32:58.731287Z\", \"created_time_dt\": \"2020-12-02T08:32:58.731287Z\", \"duration\": \"0:04:15\", \"iteration\": \"5\", \"goal\": \"accuracy_max\", \"run_name\": \"StandardScalerWrapper, SGD\", \"run_properties\": \"<azureml.automl.runtime.shared.model_wrappers.StandardScalerWrapper object at 0x7f2c55513940\", \"primary_metric\": 0.62428571, \"best_metric\": 0.68285714}, {\"run_id\": \"AutoML_739312ee-8942-4633-ab8e-d0ee3de0fe38_6\", \"run_number\": 11, \"metric\": null, \"status\": \"Completed\", \"run_type\": \"azureml.scriptrun\", \"training_percent\": \"100\", \"start_time\": \"2020-12-02T08:34:32.140205Z\", \"end_time\": \"2020-12-02T08:35:23.775757Z\", \"created_time\": \"2020-12-02T08:34:17.381669Z\", \"created_time_dt\": \"2020-12-02T08:34:17.381669Z\", \"duration\": \"0:01:06\", \"iteration\": \"6\", \"goal\": \"accuracy_max\", \"run_name\": \"StandardScalerWrapper, RandomForest\", \"run_properties\": \"<azureml.automl.runtime.shared.model_wrappers.StandardScalerWrapper object at 0x7efd081221d0\", \"primary_metric\": 0.67238095, \"best_metric\": 0.68285714}, {\"run_id\": \"AutoML_739312ee-8942-4633-ab8e-d0ee3de0fe38_7\", \"run_number\": 12, \"metric\": null, \"status\": \"Completed\", \"run_type\": \"azureml.scriptrun\", \"training_percent\": \"100\", \"start_time\": \"2020-12-02T08:35:49.185823Z\", \"end_time\": \"2020-12-02T08:36:36.742525Z\", \"created_time\": \"2020-12-02T08:35:31.970167Z\", \"created_time_dt\": \"2020-12-02T08:35:31.970167Z\", \"duration\": \"0:01:04\", \"iteration\": \"7\", \"goal\": \"accuracy_max\", \"run_name\": \"RobustScaler, ExtremeRandomTrees\", \"run_properties\": \"copy=True, quantile_range=[10, 90], with_centering=False,\\n             with_scaling=False\", \"primary_metric\": 0.67285714, \"best_metric\": 0.68285714}, {\"run_id\": \"AutoML_739312ee-8942-4633-ab8e-d0ee3de0fe38_8\", \"run_number\": 13, \"metric\": null, \"status\": \"Completed\", \"run_type\": \"azureml.scriptrun\", \"training_percent\": \"100\", \"start_time\": \"2020-12-02T08:37:02.562637Z\", \"end_time\": \"2020-12-02T08:37:46.836439Z\", \"created_time\": \"2020-12-02T08:36:47.085893Z\", \"created_time_dt\": \"2020-12-02T08:36:47.085893Z\", \"duration\": \"0:00:59\", \"iteration\": \"8\", \"goal\": \"accuracy_max\", \"run_name\": \"StandardScalerWrapper, ExtremeRandomTrees\", \"run_properties\": \"<azureml.automl.runtime.shared.model_wrappers.StandardScalerWrapper object at 0x7fec6ca22860\", \"primary_metric\": 0.62428571, \"best_metric\": 0.68285714}, {\"run_id\": \"AutoML_739312ee-8942-4633-ab8e-d0ee3de0fe38_9\", \"run_number\": 14, \"metric\": null, \"status\": \"Completed\", \"run_type\": \"azureml.scriptrun\", \"training_percent\": \"100\", \"start_time\": \"2020-12-02T08:37:28.85963Z\", \"end_time\": \"2020-12-02T08:38:14.162674Z\", \"created_time\": \"2020-12-02T08:37:13.602833Z\", \"created_time_dt\": \"2020-12-02T08:37:13.602833Z\", \"duration\": \"0:01:00\", \"iteration\": \"9\", \"goal\": \"accuracy_max\", \"run_name\": \"StandardScalerWrapper, SGD\", \"run_properties\": \"<azureml.automl.runtime.shared.model_wrappers.StandardScalerWrapper object at 0x7fc93b484cc0\", \"primary_metric\": 0.61428571, \"best_metric\": 0.68285714}, {\"run_id\": \"AutoML_739312ee-8942-4633-ab8e-d0ee3de0fe38_10\", \"run_number\": 15, \"metric\": null, \"status\": \"Completed\", \"run_type\": \"azureml.scriptrun\", \"training_percent\": \"100\", \"start_time\": \"2020-12-02T08:37:45.590956Z\", \"end_time\": \"2020-12-02T08:38:26.508866Z\", \"created_time\": \"2020-12-02T08:37:30.74955Z\", \"created_time_dt\": \"2020-12-02T08:37:30.74955Z\", \"duration\": \"0:00:55\", \"iteration\": \"10\", \"goal\": \"accuracy_max\", \"run_name\": \"StandardScalerWrapper, SGD\", \"run_properties\": \"<azureml.automl.runtime.shared.model_wrappers.StandardScalerWrapper object at 0x7f27697a44a8\", \"primary_metric\": 0.6552381, \"best_metric\": 0.68285714}, {\"run_id\": \"AutoML_739312ee-8942-4633-ab8e-d0ee3de0fe38_11\", \"run_number\": 16, \"metric\": null, \"status\": \"Completed\", \"run_type\": \"azureml.scriptrun\", \"training_percent\": \"100\", \"start_time\": \"2020-12-02T08:37:45.860503Z\", \"end_time\": \"2020-12-02T08:38:28.271628Z\", \"created_time\": \"2020-12-02T08:37:30.955867Z\", \"created_time_dt\": \"2020-12-02T08:37:30.955867Z\", \"duration\": \"0:00:57\", \"iteration\": \"11\", \"goal\": \"accuracy_max\", \"run_name\": \"MinMaxScaler, SGD\", \"run_properties\": \"copy=True, feature_range=(0, 1\", \"primary_metric\": 0.62333333, \"best_metric\": 0.68285714}, {\"run_id\": \"AutoML_739312ee-8942-4633-ab8e-d0ee3de0fe38_12\", \"run_number\": 17, \"metric\": null, \"status\": \"Completed\", \"run_type\": \"azureml.scriptrun\", \"training_percent\": \"100\", \"start_time\": \"2020-12-02T08:38:12.472238Z\", \"end_time\": \"2020-12-02T08:38:57.960904Z\", \"created_time\": \"2020-12-02T08:37:58.462502Z\", \"created_time_dt\": \"2020-12-02T08:37:58.462502Z\", \"duration\": \"0:00:59\", \"iteration\": \"12\", \"goal\": \"accuracy_max\", \"run_name\": \"RobustScaler, ExtremeRandomTrees\", \"run_properties\": \"copy=True, quantile_range=[10, 90], with_centering=False,\\n             with_scaling=False\", \"primary_metric\": 0.65333333, \"best_metric\": 0.68285714}, {\"run_id\": \"AutoML_739312ee-8942-4633-ab8e-d0ee3de0fe38_13\", \"run_number\": 18, \"metric\": null, \"status\": \"Completed\", \"run_type\": \"azureml.scriptrun\", \"training_percent\": \"100\", \"start_time\": \"2020-12-02T08:38:41.368862Z\", \"end_time\": \"2020-12-02T08:39:33.675544Z\", \"created_time\": \"2020-12-02T08:38:24.544925Z\", \"created_time_dt\": \"2020-12-02T08:38:24.544925Z\", \"duration\": \"0:01:09\", \"iteration\": \"13\", \"goal\": \"accuracy_max\", \"run_name\": \"MinMaxScaler, SGD\", \"run_properties\": \"copy=True, feature_range=(0, 1\", \"primary_metric\": 0.63428571, \"best_metric\": 0.68285714}, {\"run_id\": \"AutoML_739312ee-8942-4633-ab8e-d0ee3de0fe38_14\", \"run_number\": 19, \"metric\": null, \"status\": \"Completed\", \"run_type\": \"azureml.scriptrun\", \"training_percent\": \"100\", \"start_time\": \"2020-12-02T08:38:52.038823Z\", \"end_time\": \"2020-12-02T08:39:41.370Z\", \"created_time\": \"2020-12-02T08:38:39.813849Z\", \"created_time_dt\": \"2020-12-02T08:38:39.813849Z\", \"duration\": \"0:01:01\", \"iteration\": \"14\", \"goal\": \"accuracy_max\", \"run_name\": \"MinMaxScaler, ExtremeRandomTrees\", \"run_properties\": \"copy=True, feature_range=(0, 1\", \"primary_metric\": 0.64428571, \"best_metric\": 0.68285714}, {\"run_id\": \"AutoML_739312ee-8942-4633-ab8e-d0ee3de0fe38_15\", \"run_number\": 20, \"metric\": null, \"status\": \"Completed\", \"run_type\": \"azureml.scriptrun\", \"training_percent\": \"100\", \"start_time\": \"2020-12-02T08:38:52.474026Z\", \"end_time\": \"2020-12-02T08:39:41.208096Z\", \"created_time\": \"2020-12-02T08:38:39.833502Z\", \"created_time_dt\": \"2020-12-02T08:38:39.833502Z\", \"duration\": \"0:01:01\", \"iteration\": \"15\", \"goal\": \"accuracy_max\", \"run_name\": \"MinMaxScaler, ExtremeRandomTrees\", \"run_properties\": \"copy=True, feature_range=(0, 1\", \"primary_metric\": 0.62428571, \"best_metric\": 0.68285714}, {\"run_id\": \"AutoML_739312ee-8942-4633-ab8e-d0ee3de0fe38_16\", \"run_number\": 21, \"metric\": null, \"status\": \"Completed\", \"run_type\": \"azureml.scriptrun\", \"training_percent\": \"100\", \"start_time\": \"2020-12-02T08:39:24.884345Z\", \"end_time\": \"2020-12-02T08:40:07.940994Z\", \"created_time\": \"2020-12-02T08:39:06.14794Z\", \"created_time_dt\": \"2020-12-02T08:39:06.14794Z\", \"duration\": \"0:01:01\", \"iteration\": \"16\", \"goal\": \"accuracy_max\", \"run_name\": \"MinMaxScaler, ExtremeRandomTrees\", \"run_properties\": \"copy=True, feature_range=(0, 1\", \"primary_metric\": 0.6552381, \"best_metric\": 0.68285714}, {\"run_id\": \"AutoML_739312ee-8942-4633-ab8e-d0ee3de0fe38_17\", \"run_number\": 22, \"metric\": null, \"status\": \"Completed\", \"run_type\": \"azureml.scriptrun\", \"training_percent\": \"100\", \"start_time\": \"2020-12-02T08:39:57.675833Z\", \"end_time\": \"2020-12-02T08:40:46.529328Z\", \"created_time\": \"2020-12-02T08:39:42.750215Z\", \"created_time_dt\": \"2020-12-02T08:39:42.750215Z\", \"duration\": \"0:01:03\", \"iteration\": \"17\", \"goal\": \"accuracy_max\", \"run_name\": \"StandardScalerWrapper, RandomForest\", \"run_properties\": \"<azureml.automl.runtime.shared.model_wrappers.StandardScalerWrapper object at 0x7f61fc073908\", \"primary_metric\": 0.6247619, \"best_metric\": 0.68285714}, {\"run_id\": \"AutoML_739312ee-8942-4633-ab8e-d0ee3de0fe38_18\", \"run_number\": 23, \"metric\": null, \"status\": \"Completed\", \"run_type\": \"azureml.scriptrun\", \"training_percent\": \"100\", \"start_time\": \"2020-12-02T08:40:13.203304Z\", \"end_time\": \"2020-12-02T08:41:05.675217Z\", \"created_time\": \"2020-12-02T08:39:59.401664Z\", \"created_time_dt\": \"2020-12-02T08:39:59.401664Z\", \"duration\": \"0:01:06\", \"iteration\": \"18\", \"goal\": \"accuracy_max\", \"run_name\": \"StandardScalerWrapper, SGD\", \"run_properties\": \"<azureml.automl.runtime.shared.model_wrappers.StandardScalerWrapper object at 0x7fb3c0ef4cf8\", \"primary_metric\": 0.63333333, \"best_metric\": 0.68285714}, {\"run_id\": \"AutoML_739312ee-8942-4633-ab8e-d0ee3de0fe38_19\", \"run_number\": 24, \"metric\": null, \"status\": \"Completed\", \"run_type\": \"azureml.scriptrun\", \"training_percent\": \"100\", \"start_time\": \"2020-12-02T08:40:13.798732Z\", \"end_time\": \"2020-12-02T08:41:00.404948Z\", \"created_time\": \"2020-12-02T08:39:59.572108Z\", \"created_time_dt\": \"2020-12-02T08:39:59.572108Z\", \"duration\": \"0:01:00\", \"iteration\": \"19\", \"goal\": \"accuracy_max\", \"run_name\": \"RobustScaler, ExtremeRandomTrees\", \"run_properties\": \"copy=True, quantile_range=[25, 75], with_centering=True,\\n             with_scaling=False\", \"primary_metric\": 0.6252381, \"best_metric\": 0.68285714}, {\"run_id\": \"AutoML_739312ee-8942-4633-ab8e-d0ee3de0fe38_20\", \"run_number\": 25, \"metric\": null, \"status\": \"Completed\", \"run_type\": \"azureml.scriptrun\", \"training_percent\": \"100\", \"start_time\": \"2020-12-02T08:40:31.068571Z\", \"end_time\": \"2020-12-02T08:41:18.677896Z\", \"created_time\": \"2020-12-02T08:40:15.561074Z\", \"created_time_dt\": \"2020-12-02T08:40:15.561074Z\", \"duration\": \"0:01:03\", \"iteration\": \"20\", \"goal\": \"accuracy_max\", \"run_name\": \"StandardScalerWrapper, RandomForest\", \"run_properties\": \"<azureml.automl.runtime.shared.model_wrappers.StandardScalerWrapper object at 0x7f0d915ddd68\", \"primary_metric\": 0.58714286, \"best_metric\": 0.68285714}, {\"run_id\": \"AutoML_739312ee-8942-4633-ab8e-d0ee3de0fe38_21\", \"run_number\": 26, \"metric\": null, \"status\": \"Completed\", \"run_type\": \"azureml.scriptrun\", \"training_percent\": \"100\", \"start_time\": \"2020-12-02T08:41:15.63817Z\", \"end_time\": \"2020-12-02T08:42:07.921592Z\", \"created_time\": \"2020-12-02T08:40:52.00424Z\", \"created_time_dt\": \"2020-12-02T08:40:52.00424Z\", \"duration\": \"0:01:15\", \"iteration\": \"21\", \"goal\": \"accuracy_max\", \"run_name\": \"MinMaxScaler, ExtremeRandomTrees\", \"run_properties\": \"copy=True, feature_range=(0, 1\", \"primary_metric\": 0.66142857, \"best_metric\": 0.68285714}, {\"run_id\": \"AutoML_739312ee-8942-4633-ab8e-d0ee3de0fe38_22\", \"run_number\": 27, \"metric\": null, \"status\": \"Completed\", \"run_type\": \"azureml.scriptrun\", \"training_percent\": \"100\", \"start_time\": \"2020-12-02T08:41:27.606338Z\", \"end_time\": \"2020-12-02T08:42:13.961289Z\", \"created_time\": \"2020-12-02T08:41:07.056234Z\", \"created_time_dt\": \"2020-12-02T08:41:07.056234Z\", \"duration\": \"0:01:06\", \"iteration\": \"22\", \"goal\": \"accuracy_max\", \"run_name\": \"MaxAbsScaler, RandomForest\", \"run_properties\": \"copy=True\", \"primary_metric\": 0.64428571, \"best_metric\": 0.68285714}, {\"run_id\": \"AutoML_739312ee-8942-4633-ab8e-d0ee3de0fe38_23\", \"run_number\": 28, \"metric\": null, \"status\": \"Completed\", \"run_type\": \"azureml.scriptrun\", \"training_percent\": \"100\", \"start_time\": \"2020-12-02T08:41:33.407624Z\", \"end_time\": \"2020-12-02T08:42:18.668808Z\", \"created_time\": \"2020-12-02T08:41:22.435223Z\", \"created_time_dt\": \"2020-12-02T08:41:22.435223Z\", \"duration\": \"0:00:56\", \"iteration\": \"23\", \"goal\": \"accuracy_max\", \"run_name\": \"MaxAbsScaler, ExtremeRandomTrees\", \"run_properties\": \"copy=True\", \"primary_metric\": 0.62428571, \"best_metric\": 0.68285714}, {\"run_id\": \"AutoML_739312ee-8942-4633-ab8e-d0ee3de0fe38_24\", \"run_number\": 29, \"metric\": null, \"status\": \"Completed\", \"run_type\": \"azureml.scriptrun\", \"training_percent\": \"100\", \"start_time\": \"2020-12-02T08:41:42.39565Z\", \"end_time\": \"2020-12-02T08:42:37.996026Z\", \"created_time\": \"2020-12-02T08:41:22.595205Z\", \"created_time_dt\": \"2020-12-02T08:41:22.595205Z\", \"duration\": \"0:01:15\", \"iteration\": \"24\", \"goal\": \"accuracy_max\", \"run_name\": \"MaxAbsScaler, SGD\", \"run_properties\": \"copy=True\", \"primary_metric\": 0.65285714, \"best_metric\": 0.68285714}, {\"run_id\": \"AutoML_739312ee-8942-4633-ab8e-d0ee3de0fe38_25\", \"run_number\": 30, \"metric\": null, \"status\": \"Completed\", \"run_type\": \"azureml.scriptrun\", \"training_percent\": \"100\", \"start_time\": \"2020-12-02T08:42:31.283771Z\", \"end_time\": \"2020-12-02T08:43:24.88417Z\", \"created_time\": \"2020-12-02T08:42:15.828343Z\", \"created_time_dt\": \"2020-12-02T08:42:15.828343Z\", \"duration\": \"0:01:09\", \"iteration\": \"25\", \"goal\": \"accuracy_max\", \"run_name\": \"RobustScaler, RandomForest\", \"run_properties\": \"copy=True, quantile_range=[25, 75], with_centering=True,\\n             with_scaling=False\", \"primary_metric\": 0.6747619, \"best_metric\": 0.68285714}, {\"run_id\": \"AutoML_739312ee-8942-4633-ab8e-d0ee3de0fe38_26\", \"run_number\": 31, \"metric\": null, \"status\": \"Completed\", \"run_type\": \"azureml.scriptrun\", \"training_percent\": \"100\", \"start_time\": \"2020-12-02T08:42:45.463564Z\", \"end_time\": \"2020-12-02T08:43:28.660581Z\", \"created_time\": \"2020-12-02T08:42:29.708808Z\", \"created_time_dt\": \"2020-12-02T08:42:29.708808Z\", \"duration\": \"0:00:58\", \"iteration\": \"26\", \"goal\": \"accuracy_max\", \"run_name\": \"MinMaxScaler, RandomForest\", \"run_properties\": \"copy=True, feature_range=(0, 1\", \"primary_metric\": 0.67285714, \"best_metric\": 0.68285714}, {\"run_id\": \"AutoML_739312ee-8942-4633-ab8e-d0ee3de0fe38_27\", \"run_number\": 32, \"metric\": null, \"status\": \"Completed\", \"run_type\": \"azureml.scriptrun\", \"training_percent\": \"100\", \"start_time\": \"2020-12-02T08:42:42.908623Z\", \"end_time\": \"2020-12-02T08:43:32.169485Z\", \"created_time\": \"2020-12-02T08:42:29.729457Z\", \"created_time_dt\": \"2020-12-02T08:42:29.729457Z\", \"duration\": \"0:01:02\", \"iteration\": \"27\", \"goal\": \"accuracy_max\", \"run_name\": \"MinMaxScaler, RandomForest\", \"run_properties\": \"copy=True, feature_range=(0, 1\", \"primary_metric\": 0.65428571, \"best_metric\": 0.68285714}, {\"run_id\": \"AutoML_739312ee-8942-4633-ab8e-d0ee3de0fe38_28\", \"run_number\": 33, \"metric\": null, \"status\": \"Completed\", \"run_type\": \"azureml.scriptrun\", \"training_percent\": \"100\", \"start_time\": \"2020-12-02T08:43:54.742743Z\", \"end_time\": \"2020-12-02T08:44:57.697679Z\", \"created_time\": \"2020-12-02T08:43:41.039208Z\", \"created_time_dt\": \"2020-12-02T08:43:41.039208Z\", \"duration\": \"0:01:16\", \"iteration\": \"28\", \"goal\": \"accuracy_max\", \"run_name\": \"VotingEnsemble\", \"run_properties\": \"classification_labels=None,\\n                              estimators=[('4',\\n                                           Pipeline(memory=None,\\n                                                    steps=[('minmaxscaler',\\n                                                            MinMaxScaler(copy=True,\\n                                                                         feature_range=(0,\\n                                                                                        1\", \"primary_metric\": 0.72142857, \"best_metric\": 0.72142857}, {\"run_id\": \"AutoML_739312ee-8942-4633-ab8e-d0ee3de0fe38_29\", \"run_number\": 34, \"metric\": null, \"status\": \"Completed\", \"run_type\": \"azureml.scriptrun\", \"training_percent\": \"100\", \"start_time\": \"2020-12-02T08:43:55.019312Z\", \"end_time\": \"2020-12-02T08:45:02.313777Z\", \"created_time\": \"2020-12-02T08:43:41.118258Z\", \"created_time_dt\": \"2020-12-02T08:43:41.118258Z\", \"duration\": \"0:01:21\", \"iteration\": \"29\", \"goal\": \"accuracy_max\", \"run_name\": \"StackEnsemble\", \"run_properties\": \"base_learners=[('4',\\n                                        Pipeline(memory=None,\\n                                                 steps=[('minmaxscaler',\\n                                                         MinMaxScaler(copy=True,\\n                                                                      feature_range=(0,\\n                                                                                     1\", \"primary_metric\": 0.6247619, \"best_metric\": 0.72142857}], \"children_metrics\": {\"categories\": [0], \"series\": {\"recall_score_weighted\": [{\"categories\": [\"0\", \"1\", \"2\", \"3\", \"4\", \"5\", \"6\", \"7\", \"8\", \"9\", \"10\", \"11\", \"12\", \"13\", \"14\", \"15\", \"16\", \"17\", \"18\", \"19\", \"20\", \"21\", \"22\", \"23\", \"24\", \"25\", \"26\", \"27\", \"28\", \"29\"], \"mode\": \"markers\", \"name\": \"recall_score_weighted\", \"stepped\": false, \"type\": \"scatter\", \"data\": [0.6257142857142857, 0.6823809523809523, 0.6638095238095237, 0.6433333333333333, 0.6828571428571429, 0.6242857142857142, 0.6723809523809524, 0.6728571428571428, 0.6242857142857142, 0.6142857142857142, 0.6552380952380952, 0.6233333333333333, 0.6533333333333333, 0.6342857142857142, 0.6442857142857142, 0.6242857142857142, 0.6552380952380952, 0.6247619047619047, 0.6333333333333334, 0.6252380952380951, 0.5871428571428571, 0.6614285714285715, 0.6442857142857142, 0.6242857142857142, 0.6528571428571428, 0.6747619047619048, 0.6728571428571428, 0.6542857142857142, 0.7214285714285714, 0.6247619047619047]}, {\"categories\": [\"0\", \"1\", \"2\", \"3\", \"4\", \"5\", \"6\", \"7\", \"8\", \"9\", \"10\", \"11\", \"12\", \"13\", \"14\", \"15\", \"16\", \"17\", \"18\", \"19\", \"20\", \"21\", \"22\", \"23\", \"24\", \"25\", \"26\", \"27\", \"28\", \"29\"], \"mode\": \"lines\", \"name\": \"recall_score_weighted_max\", \"stepped\": true, \"type\": \"scatter\", \"data\": [0.6257142857142857, 0.6823809523809523, 0.6823809523809523, 0.6823809523809523, 0.6828571428571429, 0.6828571428571429, 0.6828571428571429, 0.6828571428571429, 0.6828571428571429, 0.6828571428571429, 0.6828571428571429, 0.6828571428571429, 0.6828571428571429, 0.6828571428571429, 0.6828571428571429, 0.6828571428571429, 0.6828571428571429, 0.6828571428571429, 0.6828571428571429, 0.6828571428571429, 0.6828571428571429, 0.6828571428571429, 0.6828571428571429, 0.6828571428571429, 0.6828571428571429, 0.6828571428571429, 0.6828571428571429, 0.6828571428571429, 0.7214285714285714, 0.7214285714285714]}], \"f1_score_weighted\": [{\"categories\": [\"0\", \"1\", \"2\", \"3\", \"4\", \"5\", \"6\", \"7\", \"8\", \"9\", \"10\", \"11\", \"12\", \"13\", \"14\", \"15\", \"16\", \"17\", \"18\", \"19\", \"20\", \"21\", \"22\", \"23\", \"24\", \"25\", \"26\", \"27\", \"28\", \"29\"], \"mode\": \"markers\", \"name\": \"f1_score_weighted\", \"stepped\": false, \"type\": \"scatter\", \"data\": [0.604608813613422, 0.6668803801562422, 0.6484344520473553, 0.6430133409415946, 0.6323822079336785, 0.6393777131952352, 0.6371432115617157, 0.6472007820217783, 0.6202481263202325, 0.6123889182712713, 0.5768350168350167, 0.6313676539603993, 0.6637303914723269, 0.5447619047619048, 0.6164916947675568, 0.5934741244418664, 0.5902270152092668, 0.63669792006506, 0.6477261859746604, 0.6097657743319589, 0.5770108526776067, 0.6632913721881464, 0.5770691703453596, 0.6231108397775065, 0.6594140629485457, 0.550041101008843, 0.6297117551304743, 0.6014991978196846, 0.6737460640821984, 0.5252534562211981]}, {\"categories\": [\"0\", \"1\", \"2\", \"3\", \"4\", \"5\", \"6\", \"7\", \"8\", \"9\", \"10\", \"11\", \"12\", \"13\", \"14\", \"15\", \"16\", \"17\", \"18\", \"19\", \"20\", \"21\", \"22\", \"23\", \"24\", \"25\", \"26\", \"27\", \"28\", \"29\"], \"mode\": \"lines\", \"name\": \"f1_score_weighted_max\", \"stepped\": true, \"type\": \"scatter\", \"data\": [0.604608813613422, 0.6668803801562422, 0.6668803801562422, 0.6668803801562422, 0.6668803801562422, 0.6668803801562422, 0.6668803801562422, 0.6668803801562422, 0.6668803801562422, 0.6668803801562422, 0.6668803801562422, 0.6668803801562422, 0.6668803801562422, 0.6668803801562422, 0.6668803801562422, 0.6668803801562422, 0.6668803801562422, 0.6668803801562422, 0.6668803801562422, 0.6668803801562422, 0.6668803801562422, 0.6668803801562422, 0.6668803801562422, 0.6668803801562422, 0.6668803801562422, 0.6668803801562422, 0.6668803801562422, 0.6668803801562422, 0.6737460640821984, 0.6737460640821984]}], \"balanced_accuracy\": [{\"categories\": [\"0\", \"1\", \"2\", \"3\", \"4\", \"5\", \"6\", \"7\", \"8\", \"9\", \"10\", \"11\", \"12\", \"13\", \"14\", \"15\", \"16\", \"17\", \"18\", \"19\", \"20\", \"21\", \"22\", \"23\", \"24\", \"25\", \"26\", \"27\", \"28\", \"29\"], \"mode\": \"markers\", \"name\": \"balanced_accuracy\", \"stepped\": false, \"type\": \"scatter\", \"data\": [0.5687267634326458, 0.6253119429590017, 0.6017137764196588, 0.5966208301502418, 0.5656480774127832, 0.6506951871657753, 0.5781257957728545, 0.6043595620066208, 0.5759714795008912, 0.5716042780748662, 0.5235166793990322, 0.6365495289024701, 0.6276546982429335, 0.5345811051693404, 0.5686885663356251, 0.5644996180290298, 0.5557295645530941, 0.6114209320091673, 0.6671937866055513, 0.5634071810542399, 0.5281257957728546, 0.6366310160427807, 0.5221033868092692, 0.5883524318818437, 0.6189584924879042, 0.5, 0.5876928953399541, 0.5677743824802649, 0.6024828113063407, 0.5254901960784314]}, {\"categories\": [\"0\", \"1\", \"2\", \"3\", \"4\", \"5\", \"6\", \"7\", \"8\", \"9\", \"10\", \"11\", \"12\", \"13\", \"14\", \"15\", \"16\", \"17\", \"18\", \"19\", \"20\", \"21\", \"22\", \"23\", \"24\", \"25\", \"26\", \"27\", \"28\", \"29\"], \"mode\": \"lines\", \"name\": \"balanced_accuracy_max\", \"stepped\": true, \"type\": \"scatter\", \"data\": [0.5687267634326458, 0.6253119429590017, 0.6253119429590017, 0.6253119429590017, 0.6253119429590017, 0.6506951871657753, 0.6506951871657753, 0.6506951871657753, 0.6506951871657753, 0.6506951871657753, 0.6506951871657753, 0.6506951871657753, 0.6506951871657753, 0.6506951871657753, 0.6506951871657753, 0.6506951871657753, 0.6506951871657753, 0.6506951871657753, 0.6671937866055513, 0.6671937866055513, 0.6671937866055513, 0.6671937866055513, 0.6671937866055513, 0.6671937866055513, 0.6671937866055513, 0.6671937866055513, 0.6671937866055513, 0.6671937866055513, 0.6671937866055513, 0.6671937866055513]}], \"precision_score_macro\": [{\"categories\": [\"0\", \"1\", \"2\", \"3\", \"4\", \"5\", \"6\", \"7\", \"8\", \"9\", \"10\", \"11\", \"12\", \"13\", \"14\", \"15\", \"16\", \"17\", \"18\", \"19\", \"20\", \"21\", \"22\", \"23\", \"24\", \"25\", \"26\", \"27\", \"28\", \"29\"], \"mode\": \"markers\", \"name\": \"precision_score_macro\", \"stepped\": false, \"type\": \"scatter\", \"data\": [0.5728072254542843, 0.6629411764705881, 0.6082812659476746, 0.5922370766488413, 0.5986429308565532, 0.6191239316239316, 0.7210682815636377, 0.6553835569315446, 0.5908088235294118, 0.5760786435786436, 0.5245761462479728, 0.6214660339660341, 0.6170049395049395, 0.4678932178932179, 0.5853470072239422, 0.5401960784313726, 0.5045906432748538, 0.591024531024531, 0.6416136641136642, 0.5569281045751634, 0.5263888888888889, 0.6595354808590103, 0.5098621553884712, 0.6061425339366515, 0.6166293183940242, 0.3373809523809524, 0.634327485380117, 0.6303528050896473, 0.7867397660818714, 0.3655122655122655]}, {\"categories\": [\"0\", \"1\", \"2\", \"3\", \"4\", \"5\", \"6\", \"7\", \"8\", \"9\", \"10\", \"11\", \"12\", \"13\", \"14\", \"15\", \"16\", \"17\", \"18\", \"19\", \"20\", \"21\", \"22\", \"23\", \"24\", \"25\", \"26\", \"27\", \"28\", \"29\"], \"mode\": \"lines\", \"name\": \"precision_score_macro_max\", \"stepped\": true, \"type\": \"scatter\", \"data\": [0.5728072254542843, 0.6629411764705881, 0.6629411764705881, 0.6629411764705881, 0.6629411764705881, 0.6629411764705881, 0.7210682815636377, 0.7210682815636377, 0.7210682815636377, 0.7210682815636377, 0.7210682815636377, 0.7210682815636377, 0.7210682815636377, 0.7210682815636377, 0.7210682815636377, 0.7210682815636377, 0.7210682815636377, 0.7210682815636377, 0.7210682815636377, 0.7210682815636377, 0.7210682815636377, 0.7210682815636377, 0.7210682815636377, 0.7210682815636377, 0.7210682815636377, 0.7210682815636377, 0.7210682815636377, 0.7210682815636377, 0.7867397660818714, 0.7867397660818714]}], \"recall_score_macro\": [{\"categories\": [\"0\", \"1\", \"2\", \"3\", \"4\", \"5\", \"6\", \"7\", \"8\", \"9\", \"10\", \"11\", \"12\", \"13\", \"14\", \"15\", \"16\", \"17\", \"18\", \"19\", \"20\", \"21\", \"22\", \"23\", \"24\", \"25\", \"26\", \"27\", \"28\", \"29\"], \"mode\": \"markers\", \"name\": \"recall_score_macro\", \"stepped\": false, \"type\": \"scatter\", \"data\": [0.5687267634326458, 0.6253119429590017, 0.6017137764196588, 0.5966208301502418, 0.5656480774127832, 0.6506951871657753, 0.5781257957728545, 0.6043595620066208, 0.5759714795008912, 0.5716042780748662, 0.5235166793990322, 0.6365495289024701, 0.6276546982429335, 0.5345811051693404, 0.5686885663356251, 0.5644996180290298, 0.5557295645530941, 0.6114209320091673, 0.6671937866055513, 0.5634071810542399, 0.5281257957728546, 0.6366310160427807, 0.5221033868092692, 0.5883524318818437, 0.6189584924879042, 0.5, 0.5876928953399541, 0.5677743824802649, 0.6024828113063407, 0.5254901960784314]}, {\"categories\": [\"0\", \"1\", \"2\", \"3\", \"4\", \"5\", \"6\", \"7\", \"8\", \"9\", \"10\", \"11\", \"12\", \"13\", \"14\", \"15\", \"16\", \"17\", \"18\", \"19\", \"20\", \"21\", \"22\", \"23\", \"24\", \"25\", \"26\", \"27\", \"28\", \"29\"], \"mode\": \"lines\", \"name\": \"recall_score_macro_max\", \"stepped\": true, \"type\": \"scatter\", \"data\": [0.5687267634326458, 0.6253119429590017, 0.6253119429590017, 0.6253119429590017, 0.6253119429590017, 0.6506951871657753, 0.6506951871657753, 0.6506951871657753, 0.6506951871657753, 0.6506951871657753, 0.6506951871657753, 0.6506951871657753, 0.6506951871657753, 0.6506951871657753, 0.6506951871657753, 0.6506951871657753, 0.6506951871657753, 0.6506951871657753, 0.6671937866055513, 0.6671937866055513, 0.6671937866055513, 0.6671937866055513, 0.6671937866055513, 0.6671937866055513, 0.6671937866055513, 0.6671937866055513, 0.6671937866055513, 0.6671937866055513, 0.6671937866055513, 0.6671937866055513]}], \"AUC_weighted\": [{\"categories\": [\"0\", \"1\", \"2\", \"3\", \"4\", \"5\", \"6\", \"7\", \"8\", \"9\", \"10\", \"11\", \"12\", \"13\", \"14\", \"15\", \"16\", \"17\", \"18\", \"19\", \"20\", \"21\", \"22\", \"23\", \"24\", \"25\", \"26\", \"27\", \"28\", \"29\"], \"mode\": \"markers\", \"name\": \"AUC_weighted\", \"stepped\": false, \"type\": \"scatter\", \"data\": [0.5447701504844362, 0.7306294639067747, 0.6501279299598627, 0.6861088677895401, 0.5807404173790728, 0.7062340087550172, 0.6379321425539913, 0.6363958916900093, 0.6737024506772407, 0.6997669370778614, 0.6045545490923642, 0.6770257193786606, 0.7024298204130137, 0.6032737943662314, 0.6057734608995113, 0.6169268919689086, 0.6321750518389175, 0.6623662798452715, 0.6987655668327937, 0.6451009494706973, 0.5660943165144847, 0.7166592697685135, 0.584429893169389, 0.6306991887664156, 0.6665397067918077, 0.6657370827118726, 0.6649730195108347, 0.6596209392848049, 0.6646003856087889, 0.7291954357500577]}, {\"categories\": [\"0\", \"1\", \"2\", \"3\", \"4\", \"5\", \"6\", \"7\", \"8\", \"9\", \"10\", \"11\", \"12\", \"13\", \"14\", \"15\", \"16\", \"17\", \"18\", \"19\", \"20\", \"21\", \"22\", \"23\", \"24\", \"25\", \"26\", \"27\", \"28\", \"29\"], \"mode\": \"lines\", \"name\": \"AUC_weighted_max\", \"stepped\": true, \"type\": \"scatter\", \"data\": [0.5447701504844362, 0.7306294639067747, 0.7306294639067747, 0.7306294639067747, 0.7306294639067747, 0.7306294639067747, 0.7306294639067747, 0.7306294639067747, 0.7306294639067747, 0.7306294639067747, 0.7306294639067747, 0.7306294639067747, 0.7306294639067747, 0.7306294639067747, 0.7306294639067747, 0.7306294639067747, 0.7306294639067747, 0.7306294639067747, 0.7306294639067747, 0.7306294639067747, 0.7306294639067747, 0.7306294639067747, 0.7306294639067747, 0.7306294639067747, 0.7306294639067747, 0.7306294639067747, 0.7306294639067747, 0.7306294639067747, 0.7306294639067747, 0.7306294639067747]}], \"f1_score_micro\": [{\"categories\": [\"0\", \"1\", \"2\", \"3\", \"4\", \"5\", \"6\", \"7\", \"8\", \"9\", \"10\", \"11\", \"12\", \"13\", \"14\", \"15\", \"16\", \"17\", \"18\", \"19\", \"20\", \"21\", \"22\", \"23\", \"24\", \"25\", \"26\", \"27\", \"28\", \"29\"], \"mode\": \"markers\", \"name\": \"f1_score_micro\", \"stepped\": false, \"type\": \"scatter\", \"data\": [0.6257142857142857, 0.6823809523809523, 0.6638095238095237, 0.6433333333333333, 0.6828571428571429, 0.6242857142857142, 0.6723809523809524, 0.6728571428571428, 0.6242857142857142, 0.6142857142857142, 0.6552380952380953, 0.6233333333333333, 0.6533333333333333, 0.6342857142857142, 0.6442857142857142, 0.6242857142857142, 0.6552380952380953, 0.6247619047619047, 0.6333333333333334, 0.6252380952380951, 0.5871428571428571, 0.6614285714285715, 0.6442857142857142, 0.6242857142857142, 0.6528571428571428, 0.6747619047619048, 0.6728571428571428, 0.6542857142857142, 0.7214285714285714, 0.6247619047619047]}, {\"categories\": [\"0\", \"1\", \"2\", \"3\", \"4\", \"5\", \"6\", \"7\", \"8\", \"9\", \"10\", \"11\", \"12\", \"13\", \"14\", \"15\", \"16\", \"17\", \"18\", \"19\", \"20\", \"21\", \"22\", \"23\", \"24\", \"25\", \"26\", \"27\", \"28\", \"29\"], \"mode\": \"lines\", \"name\": \"f1_score_micro_max\", \"stepped\": true, \"type\": \"scatter\", \"data\": [0.6257142857142857, 0.6823809523809523, 0.6823809523809523, 0.6823809523809523, 0.6828571428571429, 0.6828571428571429, 0.6828571428571429, 0.6828571428571429, 0.6828571428571429, 0.6828571428571429, 0.6828571428571429, 0.6828571428571429, 0.6828571428571429, 0.6828571428571429, 0.6828571428571429, 0.6828571428571429, 0.6828571428571429, 0.6828571428571429, 0.6828571428571429, 0.6828571428571429, 0.6828571428571429, 0.6828571428571429, 0.6828571428571429, 0.6828571428571429, 0.6828571428571429, 0.6828571428571429, 0.6828571428571429, 0.6828571428571429, 0.7214285714285714, 0.7214285714285714]}], \"average_precision_score_micro\": [{\"categories\": [\"0\", \"1\", \"2\", \"3\", \"4\", \"5\", \"6\", \"7\", \"8\", \"9\", \"10\", \"11\", \"12\", \"13\", \"14\", \"15\", \"16\", \"17\", \"18\", \"19\", \"20\", \"21\", \"22\", \"23\", \"24\", \"25\", \"26\", \"27\", \"28\", \"29\"], \"mode\": \"markers\", \"name\": \"average_precision_score_micro\", \"stepped\": false, \"type\": \"scatter\", \"data\": [0.6389788787450528, 0.7366374342174598, 0.7242137895721186, 0.7278495187661023, 0.692962027287549, 0.6749910769162331, 0.6701475823628829, 0.7170955133314412, 0.7035786042131928, 0.6981236882637123, 0.7138668182296678, 0.665957407280718, 0.6995775266104136, 0.6697212459032947, 0.6837899517053083, 0.7062839112350673, 0.6817733195771555, 0.714758523719597, 0.6613443478443173, 0.702066498247932, 0.6684827724310102, 0.712651415302255, 0.6537287657019135, 0.7169501642105047, 0.6642697507699149, 0.7484909114176623, 0.7119517169150017, 0.7130087785113888, 0.7259256521056205, 0.7151937964270769]}, {\"categories\": [\"0\", \"1\", \"2\", \"3\", \"4\", \"5\", \"6\", \"7\", \"8\", \"9\", \"10\", \"11\", \"12\", \"13\", \"14\", \"15\", \"16\", \"17\", \"18\", \"19\", \"20\", \"21\", \"22\", \"23\", \"24\", \"25\", \"26\", \"27\", \"28\", \"29\"], \"mode\": \"lines\", \"name\": \"average_precision_score_micro_max\", \"stepped\": true, \"type\": \"scatter\", \"data\": [0.6389788787450528, 0.7366374342174598, 0.7366374342174598, 0.7366374342174598, 0.7366374342174598, 0.7366374342174598, 0.7366374342174598, 0.7366374342174598, 0.7366374342174598, 0.7366374342174598, 0.7366374342174598, 0.7366374342174598, 0.7366374342174598, 0.7366374342174598, 0.7366374342174598, 0.7366374342174598, 0.7366374342174598, 0.7366374342174598, 0.7366374342174598, 0.7366374342174598, 0.7366374342174598, 0.7366374342174598, 0.7366374342174598, 0.7366374342174598, 0.7366374342174598, 0.7484909114176623, 0.7484909114176623, 0.7484909114176623, 0.7484909114176623, 0.7484909114176623]}], \"log_loss\": [{\"categories\": [\"0\", \"1\", \"2\", \"3\", \"4\", \"5\", \"6\", \"7\", \"8\", \"9\", \"10\", \"11\", \"12\", \"13\", \"14\", \"15\", \"16\", \"17\", \"18\", \"19\", \"20\", \"21\", \"22\", \"23\", \"24\", \"25\", \"26\", \"27\", \"28\", \"29\"], \"mode\": \"markers\", \"name\": \"log_loss\", \"stepped\": false, \"type\": \"scatter\", \"data\": [0.827222905667519, 0.6950319128121197, 0.6140114553703097, 1.044327178172061, 0.6541890965213055, 0.6573261893804223, 0.9582279989041442, 0.6272650938522469, 0.6481449140511341, 2.5423633509458816, 0.630552839219621, 0.6843775187708034, 0.6341024265541135, 0.6626133171433081, 0.650183388550044, 0.6370523622794799, 0.6446739080413139, 0.6243328125167642, 0.660828399595053, 0.9710759163683959, 0.664946892019785, 0.6174913472489044, 0.9758996069964724, 0.7037121835312102, 3.502841480285916, 0.6377655471596145, 0.6332535997058051, 0.620237187716565, 0.6167874652677439, 0.6430419249766913]}, {\"categories\": [\"0\", \"1\", \"2\", \"3\", \"4\", \"5\", \"6\", \"7\", \"8\", \"9\", \"10\", \"11\", \"12\", \"13\", \"14\", \"15\", \"16\", \"17\", \"18\", \"19\", \"20\", \"21\", \"22\", \"23\", \"24\", \"25\", \"26\", \"27\", \"28\", \"29\"], \"mode\": \"lines\", \"name\": \"log_loss_min\", \"stepped\": true, \"type\": \"scatter\", \"data\": [0.827222905667519, 0.6950319128121197, 0.6140114553703097, 0.6140114553703097, 0.6140114553703097, 0.6140114553703097, 0.6140114553703097, 0.6140114553703097, 0.6140114553703097, 0.6140114553703097, 0.6140114553703097, 0.6140114553703097, 0.6140114553703097, 0.6140114553703097, 0.6140114553703097, 0.6140114553703097, 0.6140114553703097, 0.6140114553703097, 0.6140114553703097, 0.6140114553703097, 0.6140114553703097, 0.6140114553703097, 0.6140114553703097, 0.6140114553703097, 0.6140114553703097, 0.6140114553703097, 0.6140114553703097, 0.6140114553703097, 0.6140114553703097, 0.6140114553703097]}], \"precision_score_micro\": [{\"categories\": [\"0\", \"1\", \"2\", \"3\", \"4\", \"5\", \"6\", \"7\", \"8\", \"9\", \"10\", \"11\", \"12\", \"13\", \"14\", \"15\", \"16\", \"17\", \"18\", \"19\", \"20\", \"21\", \"22\", \"23\", \"24\", \"25\", \"26\", \"27\", \"28\", \"29\"], \"mode\": \"markers\", \"name\": \"precision_score_micro\", \"stepped\": false, \"type\": \"scatter\", \"data\": [0.6257142857142857, 0.6823809523809523, 0.6638095238095237, 0.6433333333333333, 0.6828571428571429, 0.6242857142857142, 0.6723809523809524, 0.6728571428571428, 0.6242857142857142, 0.6142857142857142, 0.6552380952380952, 0.6233333333333333, 0.6533333333333333, 0.6342857142857142, 0.6442857142857142, 0.6242857142857142, 0.6552380952380952, 0.6247619047619047, 0.6333333333333334, 0.6252380952380951, 0.5871428571428571, 0.6614285714285715, 0.6442857142857142, 0.6242857142857142, 0.6528571428571428, 0.6747619047619048, 0.6728571428571428, 0.6542857142857142, 0.7214285714285714, 0.6247619047619047]}, {\"categories\": [\"0\", \"1\", \"2\", \"3\", \"4\", \"5\", \"6\", \"7\", \"8\", \"9\", \"10\", \"11\", \"12\", \"13\", \"14\", \"15\", \"16\", \"17\", \"18\", \"19\", \"20\", \"21\", \"22\", \"23\", \"24\", \"25\", \"26\", \"27\", \"28\", \"29\"], \"mode\": \"lines\", \"name\": \"precision_score_micro_max\", \"stepped\": true, \"type\": \"scatter\", \"data\": [0.6257142857142857, 0.6823809523809523, 0.6823809523809523, 0.6823809523809523, 0.6828571428571429, 0.6828571428571429, 0.6828571428571429, 0.6828571428571429, 0.6828571428571429, 0.6828571428571429, 0.6828571428571429, 0.6828571428571429, 0.6828571428571429, 0.6828571428571429, 0.6828571428571429, 0.6828571428571429, 0.6828571428571429, 0.6828571428571429, 0.6828571428571429, 0.6828571428571429, 0.6828571428571429, 0.6828571428571429, 0.6828571428571429, 0.6828571428571429, 0.6828571428571429, 0.6828571428571429, 0.6828571428571429, 0.6828571428571429, 0.7214285714285714, 0.7214285714285714]}], \"AUC_micro\": [{\"categories\": [\"0\", \"1\", \"2\", \"3\", \"4\", \"5\", \"6\", \"7\", \"8\", \"9\", \"10\", \"11\", \"12\", \"13\", \"14\", \"15\", \"16\", \"17\", \"18\", \"19\", \"20\", \"21\", \"22\", \"23\", \"24\", \"25\", \"26\", \"27\", \"28\", \"29\"], \"mode\": \"markers\", \"name\": \"AUC_micro\", \"stepped\": false, \"type\": \"scatter\", \"data\": [0.6393197278911565, 0.733953514739229, 0.7121020408163264, 0.7028356009070295, 0.7002993197278912, 0.6556020408163264, 0.6984467120181405, 0.7078696145124718, 0.688672335600907, 0.7011496598639455, 0.7098911564625849, 0.6441598639455783, 0.6949410430839003, 0.6557981859410431, 0.6687403628117915, 0.6763752834467119, 0.6910770975056689, 0.700766439909297, 0.6416825396825396, 0.6853344671201815, 0.6458083900226758, 0.7008832199546485, 0.6754382086167802, 0.6674569160997732, 0.6715442176870748, 0.7397766439909297, 0.7182074829931973, 0.7132879818594103, 0.7296496598639456, 0.7142086167800453]}, {\"categories\": [\"0\", \"1\", \"2\", \"3\", \"4\", \"5\", \"6\", \"7\", \"8\", \"9\", \"10\", \"11\", \"12\", \"13\", \"14\", \"15\", \"16\", \"17\", \"18\", \"19\", \"20\", \"21\", \"22\", \"23\", \"24\", \"25\", \"26\", \"27\", \"28\", \"29\"], \"mode\": \"lines\", \"name\": \"AUC_micro_max\", \"stepped\": true, \"type\": \"scatter\", \"data\": [0.6393197278911565, 0.733953514739229, 0.733953514739229, 0.733953514739229, 0.733953514739229, 0.733953514739229, 0.733953514739229, 0.733953514739229, 0.733953514739229, 0.733953514739229, 0.733953514739229, 0.733953514739229, 0.733953514739229, 0.733953514739229, 0.733953514739229, 0.733953514739229, 0.733953514739229, 0.733953514739229, 0.733953514739229, 0.733953514739229, 0.733953514739229, 0.733953514739229, 0.733953514739229, 0.733953514739229, 0.733953514739229, 0.7397766439909297, 0.7397766439909297, 0.7397766439909297, 0.7397766439909297, 0.7397766439909297]}], \"average_precision_score_macro\": [{\"categories\": [\"0\", \"1\", \"2\", \"3\", \"4\", \"5\", \"6\", \"7\", \"8\", \"9\", \"10\", \"11\", \"12\", \"13\", \"14\", \"15\", \"16\", \"17\", \"18\", \"19\", \"20\", \"21\", \"22\", \"23\", \"24\", \"25\", \"26\", \"27\", \"28\", \"29\"], \"mode\": \"markers\", \"name\": \"average_precision_score_macro\", \"stepped\": false, \"type\": \"scatter\", \"data\": [0.5733214930181054, 0.7045972490930323, 0.646884853713962, 0.6903993339219661, 0.6167731692460241, 0.7029371363095229, 0.6357859830379863, 0.6518401118022966, 0.6667848966615405, 0.6768400981747952, 0.639451918664536, 0.693659167221979, 0.6966973051744724, 0.6442508142636079, 0.6321864315594965, 0.6381559909724568, 0.6151226571844564, 0.6786165545475112, 0.6985397208390203, 0.6345548751683661, 0.5983929696081449, 0.7070027797668775, 0.589385967802653, 0.6564859338248203, 0.6646683189172913, 0.6671710326526227, 0.6684444917682878, 0.6673556530001686, 0.680446809343582, 0.7049553558135239]}, {\"categories\": [\"0\", \"1\", \"2\", \"3\", \"4\", \"5\", \"6\", \"7\", \"8\", \"9\", \"10\", \"11\", \"12\", \"13\", \"14\", \"15\", \"16\", \"17\", \"18\", \"19\", \"20\", \"21\", \"22\", \"23\", \"24\", \"25\", \"26\", \"27\", \"28\", \"29\"], \"mode\": \"lines\", \"name\": \"average_precision_score_macro_max\", \"stepped\": true, \"type\": \"scatter\", \"data\": [0.5733214930181054, 0.7045972490930323, 0.7045972490930323, 0.7045972490930323, 0.7045972490930323, 0.7045972490930323, 0.7045972490930323, 0.7045972490930323, 0.7045972490930323, 0.7045972490930323, 0.7045972490930323, 0.7045972490930323, 0.7045972490930323, 0.7045972490930323, 0.7045972490930323, 0.7045972490930323, 0.7045972490930323, 0.7045972490930323, 0.7045972490930323, 0.7045972490930323, 0.7045972490930323, 0.7070027797668775, 0.7070027797668775, 0.7070027797668775, 0.7070027797668775, 0.7070027797668775, 0.7070027797668775, 0.7070027797668775, 0.7070027797668775, 0.7070027797668775]}], \"AUC_macro\": [{\"categories\": [\"0\", \"1\", \"2\", \"3\", \"4\", \"5\", \"6\", \"7\", \"8\", \"9\", \"10\", \"11\", \"12\", \"13\", \"14\", \"15\", \"16\", \"17\", \"18\", \"19\", \"20\", \"21\", \"22\", \"23\", \"24\", \"25\", \"26\", \"27\", \"28\", \"29\"], \"mode\": \"markers\", \"name\": \"AUC_macro\", \"stepped\": false, \"type\": \"scatter\", \"data\": [0.5447701504844362, 0.730629463906775, 0.6497877939054411, 0.6861088677895401, 0.5807404173790728, 0.7062340087550172, 0.6379321425539913, 0.6363958916900093, 0.6737024506772407, 0.6997669370778615, 0.6045545490923642, 0.6770257193786605, 0.7024298204130137, 0.6032737943662314, 0.6057734608995113, 0.617164987207004, 0.6321750518389173, 0.6623662798452715, 0.6987655668327937, 0.6451009494706973, 0.5660943165144847, 0.7166592697685135, 0.584429893169389, 0.6306991887664156, 0.6665397067918077, 0.6657370827118727, 0.6649730195108347, 0.6596209392848049, 0.664600385608789, 0.7291954357500577]}, {\"categories\": [\"0\", \"1\", \"2\", \"3\", \"4\", \"5\", \"6\", \"7\", \"8\", \"9\", \"10\", \"11\", \"12\", \"13\", \"14\", \"15\", \"16\", \"17\", \"18\", \"19\", \"20\", \"21\", \"22\", \"23\", \"24\", \"25\", \"26\", \"27\", \"28\", \"29\"], \"mode\": \"lines\", \"name\": \"AUC_macro_max\", \"stepped\": true, \"type\": \"scatter\", \"data\": [0.5447701504844362, 0.730629463906775, 0.730629463906775, 0.730629463906775, 0.730629463906775, 0.730629463906775, 0.730629463906775, 0.730629463906775, 0.730629463906775, 0.730629463906775, 0.730629463906775, 0.730629463906775, 0.730629463906775, 0.730629463906775, 0.730629463906775, 0.730629463906775, 0.730629463906775, 0.730629463906775, 0.730629463906775, 0.730629463906775, 0.730629463906775, 0.730629463906775, 0.730629463906775, 0.730629463906775, 0.730629463906775, 0.730629463906775, 0.730629463906775, 0.730629463906775, 0.730629463906775, 0.730629463906775]}], \"f1_score_macro\": [{\"categories\": [\"0\", \"1\", \"2\", \"3\", \"4\", \"5\", \"6\", \"7\", \"8\", \"9\", \"10\", \"11\", \"12\", \"13\", \"14\", \"15\", \"16\", \"17\", \"18\", \"19\", \"20\", \"21\", \"22\", \"23\", \"24\", \"25\", \"26\", \"27\", \"28\", \"29\"], \"mode\": \"markers\", \"name\": \"f1_score_macro\", \"stepped\": false, \"type\": \"scatter\", \"data\": [0.5347447982125402, 0.5994353012887496, 0.5759872922776149, 0.5725786453998356, 0.5295625371360665, 0.599305173468789, 0.5524393078404071, 0.5688973519936844, 0.5498436945723473, 0.5393272740331563, 0.4619726678550208, 0.5873212479631091, 0.6059907834101382, 0.4314285714285714, 0.528476676580125, 0.5116685465072562, 0.4926741691371509, 0.5816462577314503, 0.6124276805912962, 0.5314238279950182, 0.5008213438778283, 0.6083719201945008, 0.4601903476502705, 0.5565099715099715, 0.596862203888066, 0.3997413542574833, 0.5368144499178982, 0.513169564264899, 0.5786372124607418, 0.4126113671274962]}, {\"categories\": [\"0\", \"1\", \"2\", \"3\", \"4\", \"5\", \"6\", \"7\", \"8\", \"9\", \"10\", \"11\", \"12\", \"13\", \"14\", \"15\", \"16\", \"17\", \"18\", \"19\", \"20\", \"21\", \"22\", \"23\", \"24\", \"25\", \"26\", \"27\", \"28\", \"29\"], \"mode\": \"lines\", \"name\": \"f1_score_macro_max\", \"stepped\": true, \"type\": \"scatter\", \"data\": [0.5347447982125402, 0.5994353012887496, 0.5994353012887496, 0.5994353012887496, 0.5994353012887496, 0.5994353012887496, 0.5994353012887496, 0.5994353012887496, 0.5994353012887496, 0.5994353012887496, 0.5994353012887496, 0.5994353012887496, 0.6059907834101382, 0.6059907834101382, 0.6059907834101382, 0.6059907834101382, 0.6059907834101382, 0.6059907834101382, 0.6124276805912962, 0.6124276805912962, 0.6124276805912962, 0.6124276805912962, 0.6124276805912962, 0.6124276805912962, 0.6124276805912962, 0.6124276805912962, 0.6124276805912962, 0.6124276805912962, 0.6124276805912962, 0.6124276805912962]}], \"recall_score_micro\": [{\"categories\": [\"0\", \"1\", \"2\", \"3\", \"4\", \"5\", \"6\", \"7\", \"8\", \"9\", \"10\", \"11\", \"12\", \"13\", \"14\", \"15\", \"16\", \"17\", \"18\", \"19\", \"20\", \"21\", \"22\", \"23\", \"24\", \"25\", \"26\", \"27\", \"28\", \"29\"], \"mode\": \"markers\", \"name\": \"recall_score_micro\", \"stepped\": false, \"type\": \"scatter\", \"data\": [0.6257142857142857, 0.6823809523809523, 0.6638095238095237, 0.6433333333333333, 0.6828571428571429, 0.6242857142857142, 0.6723809523809524, 0.6728571428571428, 0.6242857142857142, 0.6142857142857142, 0.6552380952380952, 0.6233333333333333, 0.6533333333333333, 0.6342857142857142, 0.6442857142857142, 0.6242857142857142, 0.6552380952380952, 0.6247619047619047, 0.6333333333333334, 0.6252380952380951, 0.5871428571428571, 0.6614285714285715, 0.6442857142857142, 0.6242857142857142, 0.6528571428571428, 0.6747619047619048, 0.6728571428571428, 0.6542857142857142, 0.7214285714285714, 0.6247619047619047]}, {\"categories\": [\"0\", \"1\", \"2\", \"3\", \"4\", \"5\", \"6\", \"7\", \"8\", \"9\", \"10\", \"11\", \"12\", \"13\", \"14\", \"15\", \"16\", \"17\", \"18\", \"19\", \"20\", \"21\", \"22\", \"23\", \"24\", \"25\", \"26\", \"27\", \"28\", \"29\"], \"mode\": \"lines\", \"name\": \"recall_score_micro_max\", \"stepped\": true, \"type\": \"scatter\", \"data\": [0.6257142857142857, 0.6823809523809523, 0.6823809523809523, 0.6823809523809523, 0.6828571428571429, 0.6828571428571429, 0.6828571428571429, 0.6828571428571429, 0.6828571428571429, 0.6828571428571429, 0.6828571428571429, 0.6828571428571429, 0.6828571428571429, 0.6828571428571429, 0.6828571428571429, 0.6828571428571429, 0.6828571428571429, 0.6828571428571429, 0.6828571428571429, 0.6828571428571429, 0.6828571428571429, 0.6828571428571429, 0.6828571428571429, 0.6828571428571429, 0.6828571428571429, 0.6828571428571429, 0.6828571428571429, 0.6828571428571429, 0.7214285714285714, 0.7214285714285714]}], \"precision_score_weighted\": [{\"categories\": [\"0\", \"1\", \"2\", \"3\", \"4\", \"5\", \"6\", \"7\", \"8\", \"9\", \"10\", \"11\", \"12\", \"13\", \"14\", \"15\", \"16\", \"17\", \"18\", \"19\", \"20\", \"21\", \"22\", \"23\", \"24\", \"25\", \"26\", \"27\", \"28\", \"29\"], \"mode\": \"markers\", \"name\": \"precision_score_weighted\", \"stepped\": false, \"type\": \"scatter\", \"data\": [0.6398642533936651, 0.7222720199190787, 0.6753470254498561, 0.6737245564892623, 0.6699606860287975, 0.7064275539275539, 0.760394878599213, 0.7230315986043541, 0.6686895424836601, 0.6675180375180375, 0.6231936985320443, 0.7085347985347985, 0.6958214008214008, 0.593411667697382, 0.6649631431519977, 0.6343314659197012, 0.5955678084099135, 0.6760901532330104, 0.728028823028823, 0.6389729225023343, 0.6050661375661376, 0.7298426592859366, 0.6188703902613677, 0.6922180564533505, 0.6957569249922191, 0.4696700680272109, 0.7104789752158174, 0.6813842298052825, 0.8031199526594264, 0.4863821892393321]}, {\"categories\": [\"0\", \"1\", \"2\", \"3\", \"4\", \"5\", \"6\", \"7\", \"8\", \"9\", \"10\", \"11\", \"12\", \"13\", \"14\", \"15\", \"16\", \"17\", \"18\", \"19\", \"20\", \"21\", \"22\", \"23\", \"24\", \"25\", \"26\", \"27\", \"28\", \"29\"], \"mode\": \"lines\", \"name\": \"precision_score_weighted_max\", \"stepped\": true, \"type\": \"scatter\", \"data\": [0.6398642533936651, 0.7222720199190787, 0.7222720199190787, 0.7222720199190787, 0.7222720199190787, 0.7222720199190787, 0.760394878599213, 0.760394878599213, 0.760394878599213, 0.760394878599213, 0.760394878599213, 0.760394878599213, 0.760394878599213, 0.760394878599213, 0.760394878599213, 0.760394878599213, 0.760394878599213, 0.760394878599213, 0.760394878599213, 0.760394878599213, 0.760394878599213, 0.760394878599213, 0.760394878599213, 0.760394878599213, 0.760394878599213, 0.760394878599213, 0.760394878599213, 0.760394878599213, 0.8031199526594264, 0.8031199526594264]}], \"weighted_accuracy\": [{\"categories\": [\"0\", \"1\", \"2\", \"3\", \"4\", \"5\", \"6\", \"7\", \"8\", \"9\", \"10\", \"11\", \"12\", \"13\", \"14\", \"15\", \"16\", \"17\", \"18\", \"19\", \"20\", \"21\", \"22\", \"23\", \"24\", \"25\", \"26\", \"27\", \"28\", \"29\"], \"mode\": \"markers\", \"name\": \"weighted_accuracy\", \"stepped\": false, \"type\": \"scatter\", \"data\": [0.6674961509713814, 0.7252430753513018, 0.7101825517916565, 0.6826042386762264, 0.7585936004722506, 0.6199322920024827, 0.7338189280305075, 0.723980862243247, 0.6642488010104439, 0.6509798177010288, 0.7374492156359098, 0.6313192672436856, 0.6740384509419455, 0.7109870871603585, 0.7018973338716862, 0.673721491943581, 0.7246520729951852, 0.6367088029023583, 0.6255343902822019, 0.6715299190012287, 0.6319156860401398, 0.6858018373710547, 0.7246043502762398, 0.6538426013953194, 0.6816992613006609, 0.7768712622036335, 0.7365260182366788, 0.7178595536268733, 0.79626130878891, 0.7010323360291368]}, {\"categories\": [\"0\", \"1\", \"2\", \"3\", \"4\", \"5\", \"6\", \"7\", \"8\", \"9\", \"10\", \"11\", \"12\", \"13\", \"14\", \"15\", \"16\", \"17\", \"18\", \"19\", \"20\", \"21\", \"22\", \"23\", \"24\", \"25\", \"26\", \"27\", \"28\", \"29\"], \"mode\": \"lines\", \"name\": \"weighted_accuracy_max\", \"stepped\": true, \"type\": \"scatter\", \"data\": [0.6674961509713814, 0.7252430753513018, 0.7252430753513018, 0.7252430753513018, 0.7585936004722506, 0.7585936004722506, 0.7585936004722506, 0.7585936004722506, 0.7585936004722506, 0.7585936004722506, 0.7585936004722506, 0.7585936004722506, 0.7585936004722506, 0.7585936004722506, 0.7585936004722506, 0.7585936004722506, 0.7585936004722506, 0.7585936004722506, 0.7585936004722506, 0.7585936004722506, 0.7585936004722506, 0.7585936004722506, 0.7585936004722506, 0.7585936004722506, 0.7585936004722506, 0.7768712622036335, 0.7768712622036335, 0.7768712622036335, 0.79626130878891, 0.79626130878891]}], \"norm_macro_recall\": [{\"categories\": [\"0\", \"1\", \"2\", \"3\", \"4\", \"5\", \"6\", \"7\", \"8\", \"9\", \"10\", \"11\", \"12\", \"13\", \"14\", \"15\", \"16\", \"17\", \"18\", \"19\", \"20\", \"21\", \"22\", \"23\", \"24\", \"25\", \"26\", \"27\", \"28\", \"29\"], \"mode\": \"markers\", \"name\": \"norm_macro_recall\", \"stepped\": false, \"type\": \"scatter\", \"data\": [0.1735574229691877, 0.25062388591800355, 0.20342755283931752, 0.20752737458619808, 0.13129615482556659, 0.3013903743315508, 0.16017316017316013, 0.2087191240132417, 0.17194295900178252, 0.17177998472116118, 0.0756047873694932, 0.27309905780494015, 0.25530939648586704, 0.0691622103386809, 0.14404379933791697, 0.12899923605805957, 0.1408963585434174, 0.22284186401833458, 0.3343875732111026, 0.14110007639419403, 0.11988795518207285, 0.27326203208556155, 0.058492487904252634, 0.18337153043035395, 0.23791698497580854, 0.0, 0.18871912401324162, 0.13736694677871147, 0.2049656226126814, 0.050980392156862744]}, {\"categories\": [\"0\", \"1\", \"2\", \"3\", \"4\", \"5\", \"6\", \"7\", \"8\", \"9\", \"10\", \"11\", \"12\", \"13\", \"14\", \"15\", \"16\", \"17\", \"18\", \"19\", \"20\", \"21\", \"22\", \"23\", \"24\", \"25\", \"26\", \"27\", \"28\", \"29\"], \"mode\": \"lines\", \"name\": \"norm_macro_recall_max\", \"stepped\": true, \"type\": \"scatter\", \"data\": [0.1735574229691877, 0.25062388591800355, 0.25062388591800355, 0.25062388591800355, 0.25062388591800355, 0.3013903743315508, 0.3013903743315508, 0.3013903743315508, 0.3013903743315508, 0.3013903743315508, 0.3013903743315508, 0.3013903743315508, 0.3013903743315508, 0.3013903743315508, 0.3013903743315508, 0.3013903743315508, 0.3013903743315508, 0.3013903743315508, 0.3343875732111026, 0.3343875732111026, 0.3343875732111026, 0.3343875732111026, 0.3343875732111026, 0.3343875732111026, 0.3343875732111026, 0.3343875732111026, 0.3343875732111026, 0.3343875732111026, 0.3343875732111026, 0.3343875732111026]}], \"accuracy\": [{\"categories\": [\"0\", \"1\", \"2\", \"3\", \"4\", \"5\", \"6\", \"7\", \"8\", \"9\", \"10\", \"11\", \"12\", \"13\", \"14\", \"15\", \"16\", \"17\", \"18\", \"19\", \"20\", \"21\", \"22\", \"23\", \"24\", \"25\", \"26\", \"27\", \"28\", \"29\"], \"mode\": \"markers\", \"name\": \"accuracy\", \"stepped\": false, \"type\": \"scatter\", \"data\": [0.6257142857142857, 0.6823809523809523, 0.6638095238095237, 0.6433333333333333, 0.6828571428571429, 0.6242857142857142, 0.6723809523809524, 0.6728571428571428, 0.6242857142857142, 0.6142857142857142, 0.6552380952380952, 0.6233333333333333, 0.6533333333333333, 0.6342857142857142, 0.6442857142857142, 0.6242857142857142, 0.6552380952380952, 0.6247619047619047, 0.6333333333333334, 0.6252380952380951, 0.5871428571428571, 0.6614285714285715, 0.6442857142857142, 0.6242857142857142, 0.6528571428571428, 0.6747619047619048, 0.6728571428571428, 0.6542857142857142, 0.7214285714285714, 0.6247619047619047]}, {\"categories\": [\"0\", \"1\", \"2\", \"3\", \"4\", \"5\", \"6\", \"7\", \"8\", \"9\", \"10\", \"11\", \"12\", \"13\", \"14\", \"15\", \"16\", \"17\", \"18\", \"19\", \"20\", \"21\", \"22\", \"23\", \"24\", \"25\", \"26\", \"27\", \"28\", \"29\"], \"mode\": \"lines\", \"name\": \"accuracy_max\", \"stepped\": true, \"type\": \"scatter\", \"data\": [0.6257142857142857, 0.6823809523809523, 0.6823809523809523, 0.6823809523809523, 0.6828571428571429, 0.6828571428571429, 0.6828571428571429, 0.6828571428571429, 0.6828571428571429, 0.6828571428571429, 0.6828571428571429, 0.6828571428571429, 0.6828571428571429, 0.6828571428571429, 0.6828571428571429, 0.6828571428571429, 0.6828571428571429, 0.6828571428571429, 0.6828571428571429, 0.6828571428571429, 0.6828571428571429, 0.6828571428571429, 0.6828571428571429, 0.6828571428571429, 0.6828571428571429, 0.6828571428571429, 0.6828571428571429, 0.6828571428571429, 0.7214285714285714, 0.7214285714285714]}], \"matthews_correlation\": [{\"categories\": [\"0\", \"1\", \"2\", \"3\", \"4\", \"5\", \"6\", \"7\", \"8\", \"9\", \"10\", \"11\", \"12\", \"13\", \"14\", \"15\", \"16\", \"17\", \"18\", \"19\", \"20\", \"21\", \"22\", \"23\", \"24\", \"25\", \"26\", \"27\", \"28\", \"29\"], \"mode\": \"markers\", \"name\": \"matthews_correlation\", \"stepped\": false, \"type\": \"scatter\", \"data\": [0.1362934813020564, 0.2795038159822158, 0.20428694400685274, 0.18704954750169275, 0.18265192833584182, 0.266061531937091, 0.2590761431708589, 0.24639694496417358, 0.16302276919405162, 0.14586250156872388, 0.0628358247860267, 0.2562028712527255, 0.24257155521595805, 0.079230838617587, 0.14577466066676803, 0.13452683251249747, 0.07557974629081247, 0.20019367054184306, 0.30591849495709844, 0.11749133769380662, 0.049824352689768224, 0.29282438387157833, 0.059298942587868386, 0.18994846791366085, 0.2335291736500827, 0.0, 0.21000644614197364, 0.1696529464400394, 0.33157802096695954, 0.03659069534646492]}, {\"categories\": [\"0\", \"1\", \"2\", \"3\", \"4\", \"5\", \"6\", \"7\", \"8\", \"9\", \"10\", \"11\", \"12\", \"13\", \"14\", \"15\", \"16\", \"17\", \"18\", \"19\", \"20\", \"21\", \"22\", \"23\", \"24\", \"25\", \"26\", \"27\", \"28\", \"29\"], \"mode\": \"lines\", \"name\": \"matthews_correlation_max\", \"stepped\": true, \"type\": \"scatter\", \"data\": [0.1362934813020564, 0.2795038159822158, 0.2795038159822158, 0.2795038159822158, 0.2795038159822158, 0.2795038159822158, 0.2795038159822158, 0.2795038159822158, 0.2795038159822158, 0.2795038159822158, 0.2795038159822158, 0.2795038159822158, 0.2795038159822158, 0.2795038159822158, 0.2795038159822158, 0.2795038159822158, 0.2795038159822158, 0.2795038159822158, 0.30591849495709844, 0.30591849495709844, 0.30591849495709844, 0.30591849495709844, 0.30591849495709844, 0.30591849495709844, 0.30591849495709844, 0.30591849495709844, 0.30591849495709844, 0.30591849495709844, 0.33157802096695954, 0.33157802096695954]}], \"average_precision_score_weighted\": [{\"categories\": [\"0\", \"1\", \"2\", \"3\", \"4\", \"5\", \"6\", \"7\", \"8\", \"9\", \"10\", \"11\", \"12\", \"13\", \"14\", \"15\", \"16\", \"17\", \"18\", \"19\", \"20\", \"21\", \"22\", \"23\", \"24\", \"25\", \"26\", \"27\", \"28\", \"29\"], \"mode\": \"markers\", \"name\": \"average_precision_score_weighted\", \"stepped\": false, \"type\": \"scatter\", \"data\": [0.6515412492891485, 0.7788211191850067, 0.7270458186423466, 0.7602502103241819, 0.6929303756692633, 0.7678594632246223, 0.7046859362278425, 0.7263244402144778, 0.7506965566785337, 0.7563520125283172, 0.7079888186698227, 0.7460564036292143, 0.7696757912321269, 0.7075965616791026, 0.6985947881381318, 0.7279198704713963, 0.6910371826807034, 0.7524475240940853, 0.7623447687687515, 0.7169487124502605, 0.6800091724008134, 0.7812322242948625, 0.671412140032883, 0.7482626120194121, 0.7328045798186775, 0.7399163055010577, 0.7354411388732485, 0.7284308648765194, 0.7492577352210259, 0.7791638789118885]}, {\"categories\": [\"0\", \"1\", \"2\", \"3\", \"4\", \"5\", \"6\", \"7\", \"8\", \"9\", \"10\", \"11\", \"12\", \"13\", \"14\", \"15\", \"16\", \"17\", \"18\", \"19\", \"20\", \"21\", \"22\", \"23\", \"24\", \"25\", \"26\", \"27\", \"28\", \"29\"], \"mode\": \"lines\", \"name\": \"average_precision_score_weighted_max\", \"stepped\": true, \"type\": \"scatter\", \"data\": [0.6515412492891485, 0.7788211191850067, 0.7788211191850067, 0.7788211191850067, 0.7788211191850067, 0.7788211191850067, 0.7788211191850067, 0.7788211191850067, 0.7788211191850067, 0.7788211191850067, 0.7788211191850067, 0.7788211191850067, 0.7788211191850067, 0.7788211191850067, 0.7788211191850067, 0.7788211191850067, 0.7788211191850067, 0.7788211191850067, 0.7788211191850067, 0.7788211191850067, 0.7788211191850067, 0.7812322242948625, 0.7812322242948625, 0.7812322242948625, 0.7812322242948625, 0.7812322242948625, 0.7812322242948625, 0.7812322242948625, 0.7812322242948625, 0.7812322242948625]}]}, \"metricName\": null, \"primaryMetricName\": \"accuracy\", \"showLegend\": false}, \"run_metrics\": [{\"name\": \"experiment_status\", \"run_id\": \"AutoML_739312ee-8942-4633-ab8e-d0ee3de0fe38\", \"categories\": [0, 1, 2, 3, 4, 5, 6, 7, 8, 9, 10, 11, 12, 13], \"series\": [{\"data\": [\"DatasetEvaluation\", \"FeaturesGeneration\", \"DatasetFeaturization\", \"DatasetFeaturizationCompleted\", \"DatasetCrossValidationSplit\", \"ModelSelection\", \"BestRunExplainModel\", \"ModelExplanationDataSetSetup\", \"PickSurrogateModel\", \"EngineeredFeatureExplanations\", \"EngineeredFeatureExplanations\", \"RawFeaturesExplanations\", \"RawFeaturesExplanations\", \"BestRunExplainModel\"]}]}, {\"name\": \"experiment_status_description\", \"run_id\": \"AutoML_739312ee-8942-4633-ab8e-d0ee3de0fe38\", \"categories\": [0, 1, 2, 3, 4, 5, 6, 7, 8, 9, 10, 11, 12, 13], \"series\": [{\"data\": [\"Gathering dataset statistics.\", \"Generating features for the dataset.\", \"Beginning to fit featurizers and featurize the dataset.\", \"Completed fit featurizers and featurizing the dataset.\", \"Generating individually featurized CV splits.\", \"Beginning model selection.\", \"Best run model explanations started\", \"Model explanations data setup completed\", \"Choosing LightGBM as the surrogate model for explanations\", \"Computation of engineered features started\", \"Computation of engineered features completed\", \"Computation of raw features started\", \"Computation of raw features completed\", \"Best run model explanations completed\"]}]}, {\"name\": \"recall_score_micro\", \"run_id\": \"AutoML_739312ee-8942-4633-ab8e-d0ee3de0fe38\", \"categories\": [0], \"series\": [{\"data\": [0.7214285714285714]}]}, {\"name\": \"balanced_accuracy\", \"run_id\": \"AutoML_739312ee-8942-4633-ab8e-d0ee3de0fe38\", \"categories\": [0], \"series\": [{\"data\": [0.6024828113063407]}]}, {\"name\": \"average_precision_score_micro\", \"run_id\": \"AutoML_739312ee-8942-4633-ab8e-d0ee3de0fe38\", \"categories\": [0], \"series\": [{\"data\": [0.7259256521056205]}]}, {\"name\": \"AUC_weighted\", \"run_id\": \"AutoML_739312ee-8942-4633-ab8e-d0ee3de0fe38\", \"categories\": [0], \"series\": [{\"data\": [0.6646003856087889]}]}, {\"name\": \"f1_score_micro\", \"run_id\": \"AutoML_739312ee-8942-4633-ab8e-d0ee3de0fe38\", \"categories\": [0], \"series\": [{\"data\": [0.7214285714285714]}]}, {\"name\": \"AUC_micro\", \"run_id\": \"AutoML_739312ee-8942-4633-ab8e-d0ee3de0fe38\", \"categories\": [0], \"series\": [{\"data\": [0.7296496598639456]}]}, {\"name\": \"recall_score_macro\", \"run_id\": \"AutoML_739312ee-8942-4633-ab8e-d0ee3de0fe38\", \"categories\": [0], \"series\": [{\"data\": [0.6024828113063407]}]}, {\"name\": \"average_precision_score_weighted\", \"run_id\": \"AutoML_739312ee-8942-4633-ab8e-d0ee3de0fe38\", \"categories\": [0], \"series\": [{\"data\": [0.7492577352210259]}]}, {\"name\": \"AUC_macro\", \"run_id\": \"AutoML_739312ee-8942-4633-ab8e-d0ee3de0fe38\", \"categories\": [0], \"series\": [{\"data\": [0.664600385608789]}]}, {\"name\": \"precision_score_macro\", \"run_id\": \"AutoML_739312ee-8942-4633-ab8e-d0ee3de0fe38\", \"categories\": [0], \"series\": [{\"data\": [0.7867397660818714]}]}, {\"name\": \"recall_score_weighted\", \"run_id\": \"AutoML_739312ee-8942-4633-ab8e-d0ee3de0fe38\", \"categories\": [0], \"series\": [{\"data\": [0.7214285714285714]}]}, {\"name\": \"f1_score_weighted\", \"run_id\": \"AutoML_739312ee-8942-4633-ab8e-d0ee3de0fe38\", \"categories\": [0], \"series\": [{\"data\": [0.6737460640821984]}]}, {\"name\": \"precision_score_weighted\", \"run_id\": \"AutoML_739312ee-8942-4633-ab8e-d0ee3de0fe38\", \"categories\": [0], \"series\": [{\"data\": [0.8031199526594264]}]}, {\"name\": \"matthews_correlation\", \"run_id\": \"AutoML_739312ee-8942-4633-ab8e-d0ee3de0fe38\", \"categories\": [0], \"series\": [{\"data\": [0.33157802096695954]}]}, {\"name\": \"precision_score_micro\", \"run_id\": \"AutoML_739312ee-8942-4633-ab8e-d0ee3de0fe38\", \"categories\": [0], \"series\": [{\"data\": [0.7214285714285714]}]}, {\"name\": \"log_loss\", \"run_id\": \"AutoML_739312ee-8942-4633-ab8e-d0ee3de0fe38\", \"categories\": [0], \"series\": [{\"data\": [0.6167874652677439]}]}, {\"name\": \"weighted_accuracy\", \"run_id\": \"AutoML_739312ee-8942-4633-ab8e-d0ee3de0fe38\", \"categories\": [0], \"series\": [{\"data\": [0.79626130878891]}]}, {\"name\": \"norm_macro_recall\", \"run_id\": \"AutoML_739312ee-8942-4633-ab8e-d0ee3de0fe38\", \"categories\": [0], \"series\": [{\"data\": [0.2049656226126814]}]}, {\"name\": \"f1_score_macro\", \"run_id\": \"AutoML_739312ee-8942-4633-ab8e-d0ee3de0fe38\", \"categories\": [0], \"series\": [{\"data\": [0.5786372124607418]}]}, {\"name\": \"accuracy\", \"run_id\": \"AutoML_739312ee-8942-4633-ab8e-d0ee3de0fe38\", \"categories\": [0], \"series\": [{\"data\": [0.7214285714285714]}]}, {\"name\": \"average_precision_score_macro\", \"run_id\": \"AutoML_739312ee-8942-4633-ab8e-d0ee3de0fe38\", \"categories\": [0], \"series\": [{\"data\": [0.680446809343582]}]}], \"run_logs\": \"\\nRun is completed.\", \"graph\": {}, \"widget_settings\": {\"childWidgetDisplay\": \"popup\", \"send_telemetry\": false, \"log_level\": \"INFO\", \"sdk_version\": \"1.18.0\"}, \"loading\": false}"
     },
     "metadata": {},
     "output_type": "display_data"
    }
   ],
   "source": [
    "RunDetails(auto_run).show()\n"
   ]
  },
  {
   "cell_type": "code",
   "execution_count": 10,
   "metadata": {
    "gather": {
     "logged": 1606379898706
    },
    "pycharm": {
     "name": "#%%\n"
    }
   },
   "outputs": [],
   "source": [
    "# Retrieve and save your best automl model.\n",
    "best_run,fitted_model = auto_run.get_output(iteration=28)"
   ]
  },
  {
   "cell_type": "code",
   "execution_count": 11,
   "metadata": {
    "gather": {
     "logged": 1606379911449
    },
    "pycharm": {
     "name": "#%%\n"
    },
    "scrolled": true
   },
   "outputs": [
    {
     "name": "stdout",
     "output_type": "stream",
     "text": [
      "datatransformer\n",
      "{'enable_dnn': None,\n",
      " 'enable_feature_sweeping': None,\n",
      " 'feature_sweeping_config': None,\n",
      " 'feature_sweeping_timeout': None,\n",
      " 'featurization_config': None,\n",
      " 'force_text_dnn': None,\n",
      " 'is_cross_validation': None,\n",
      " 'is_onnx_compatible': None,\n",
      " 'logger': None,\n",
      " 'observer': None,\n",
      " 'task': None,\n",
      " 'working_dir': None}\n",
      "\n",
      "prefittedsoftvotingclassifier\n",
      "{'estimators': ['4', '1', '25', '26', '7', '6'],\n",
      " 'weights': [0.5454545454545454,\n",
      "             0.09090909090909091,\n",
      "             0.09090909090909091,\n",
      "             0.09090909090909091,\n",
      "             0.09090909090909091,\n",
      "             0.09090909090909091]}\n",
      "\n",
      "4 - minmaxscaler\n",
      "{'copy': True, 'feature_range': (0, 1)}\n",
      "\n",
      "4 - randomforestclassifier\n",
      "{'bootstrap': True,\n",
      " 'ccp_alpha': 0.0,\n",
      " 'class_weight': None,\n",
      " 'criterion': 'gini',\n",
      " 'max_depth': None,\n",
      " 'max_features': 'sqrt',\n",
      " 'max_leaf_nodes': None,\n",
      " 'max_samples': None,\n",
      " 'min_impurity_decrease': 0.0,\n",
      " 'min_impurity_split': None,\n",
      " 'min_samples_leaf': 0.035789473684210524,\n",
      " 'min_samples_split': 0.01,\n",
      " 'min_weight_fraction_leaf': 0.0,\n",
      " 'n_estimators': 10,\n",
      " 'n_jobs': 1,\n",
      " 'oob_score': True,\n",
      " 'random_state': None,\n",
      " 'verbose': 0,\n",
      " 'warm_start': False}\n",
      "\n",
      "1 - maxabsscaler\n",
      "{'copy': True}\n",
      "\n",
      "1 - xgboostclassifier\n",
      "{'base_score': 0.5,\n",
      " 'booster': 'gbtree',\n",
      " 'colsample_bylevel': 1,\n",
      " 'colsample_bynode': 1,\n",
      " 'colsample_bytree': 1,\n",
      " 'gamma': 0,\n",
      " 'learning_rate': 0.1,\n",
      " 'max_delta_step': 0,\n",
      " 'max_depth': 3,\n",
      " 'min_child_weight': 1,\n",
      " 'missing': nan,\n",
      " 'n_estimators': 100,\n",
      " 'n_jobs': 1,\n",
      " 'nthread': None,\n",
      " 'objective': 'binary:logistic',\n",
      " 'random_state': 0,\n",
      " 'reg_alpha': 0,\n",
      " 'reg_lambda': 1,\n",
      " 'scale_pos_weight': 1,\n",
      " 'seed': None,\n",
      " 'silent': None,\n",
      " 'subsample': 1,\n",
      " 'tree_method': 'auto',\n",
      " 'verbose': -10,\n",
      " 'verbosity': 0}\n",
      "\n",
      "25 - robustscaler\n",
      "{'copy': True,\n",
      " 'quantile_range': [25, 75],\n",
      " 'with_centering': True,\n",
      " 'with_scaling': False}\n",
      "\n",
      "25 - randomforestclassifier\n",
      "{'bootstrap': False,\n",
      " 'ccp_alpha': 0.0,\n",
      " 'class_weight': None,\n",
      " 'criterion': 'entropy',\n",
      " 'max_depth': None,\n",
      " 'max_features': 0.05,\n",
      " 'max_leaf_nodes': None,\n",
      " 'max_samples': None,\n",
      " 'min_impurity_decrease': 0.0,\n",
      " 'min_impurity_split': None,\n",
      " 'min_samples_leaf': 0.16473684210526315,\n",
      " 'min_samples_split': 0.33789473684210525,\n",
      " 'min_weight_fraction_leaf': 0.0,\n",
      " 'n_estimators': 400,\n",
      " 'n_jobs': 1,\n",
      " 'oob_score': False,\n",
      " 'random_state': None,\n",
      " 'verbose': 0,\n",
      " 'warm_start': False}\n",
      "\n",
      "26 - minmaxscaler\n",
      "{'copy': True, 'feature_range': (0, 1)}\n",
      "\n",
      "26 - randomforestclassifier\n",
      "{'bootstrap': True,\n",
      " 'ccp_alpha': 0.0,\n",
      " 'class_weight': None,\n",
      " 'criterion': 'entropy',\n",
      " 'max_depth': None,\n",
      " 'max_features': 0.3,\n",
      " 'max_leaf_nodes': None,\n",
      " 'max_samples': None,\n",
      " 'min_impurity_decrease': 0.0,\n",
      " 'min_impurity_split': None,\n",
      " 'min_samples_leaf': 0.01,\n",
      " 'min_samples_split': 0.056842105263157895,\n",
      " 'min_weight_fraction_leaf': 0.0,\n",
      " 'n_estimators': 50,\n",
      " 'n_jobs': 1,\n",
      " 'oob_score': True,\n",
      " 'random_state': None,\n",
      " 'verbose': 0,\n",
      " 'warm_start': False}\n",
      "\n",
      "7 - robustscaler\n",
      "{'copy': True,\n",
      " 'quantile_range': [10, 90],\n",
      " 'with_centering': False,\n",
      " 'with_scaling': False}\n",
      "\n",
      "7 - extratreesclassifier\n",
      "{'bootstrap': False,\n",
      " 'ccp_alpha': 0.0,\n",
      " 'class_weight': None,\n",
      " 'criterion': 'entropy',\n",
      " 'max_depth': None,\n",
      " 'max_features': 'log2',\n",
      " 'max_leaf_nodes': None,\n",
      " 'max_samples': None,\n",
      " 'min_impurity_decrease': 0.0,\n",
      " 'min_impurity_split': None,\n",
      " 'min_samples_leaf': 0.01,\n",
      " 'min_samples_split': 0.10368421052631578,\n",
      " 'min_weight_fraction_leaf': 0.0,\n",
      " 'n_estimators': 50,\n",
      " 'n_jobs': 1,\n",
      " 'oob_score': False,\n",
      " 'random_state': None,\n",
      " 'verbose': 0,\n",
      " 'warm_start': False}\n",
      "\n",
      "6 - standardscalerwrapper\n",
      "{'class_name': 'StandardScaler',\n",
      " 'copy': True,\n",
      " 'module_name': 'sklearn.preprocessing._data',\n",
      " 'with_mean': True,\n",
      " 'with_std': False}\n",
      "\n",
      "6 - randomforestclassifier\n",
      "{'bootstrap': False,\n",
      " 'ccp_alpha': 0.0,\n",
      " 'class_weight': None,\n",
      " 'criterion': 'entropy',\n",
      " 'max_depth': None,\n",
      " 'max_features': 'log2',\n",
      " 'max_leaf_nodes': None,\n",
      " 'max_samples': None,\n",
      " 'min_impurity_decrease': 0.0,\n",
      " 'min_impurity_split': None,\n",
      " 'min_samples_leaf': 0.01,\n",
      " 'min_samples_split': 0.01,\n",
      " 'min_weight_fraction_leaf': 0.0,\n",
      " 'n_estimators': 10,\n",
      " 'n_jobs': 1,\n",
      " 'oob_score': False,\n",
      " 'random_state': None,\n",
      " 'verbose': 0,\n",
      " 'warm_start': False}\n",
      "\n"
     ]
    }
   ],
   "source": [
    "#Example code from https://docs.microsoft.com/en-us/azure/machine-learning/how-to-configure-auto-features#scaling-and-normalization\n",
    "\n",
    "from pprint import pprint\n",
    "model = fitted_model\n",
    "\n",
    "def print_model(model, prefix=\"\"):\n",
    "    for step in model.steps:\n",
    "        print(prefix + step[0])\n",
    "        if hasattr(step[1], 'estimators') and hasattr(step[1], 'weights'):\n",
    "            pprint({'estimators': list(\n",
    "                e[0] for e in step[1].estimators), 'weights': step[1].weights})\n",
    "            print()\n",
    "            for estimator in step[1].estimators:\n",
    "                print_model(estimator[1], estimator[0] + ' - ')\n",
    "        else:\n",
    "            pprint(step[1].get_params())\n",
    "            print()\n",
    "\n",
    "print_model(model)"
   ]
  },
  {
   "cell_type": "markdown",
   "metadata": {},
   "source": [
    "## Best Model\n",
    "\n",
    "TODO: In the cell below, get the best model from the automl experiments and display all the properties of the model."
   ]
  },
  {
   "cell_type": "code",
   "execution_count": 12,
   "metadata": {
    "gather": {
     "logged": 1606390674847
    },
    "pycharm": {
     "name": "#%%\n"
    }
   },
   "outputs": [
    {
     "name": "stdout",
     "output_type": "stream",
     "text": [
      "AutoML739312ee828\n"
     ]
    }
   ],
   "source": [
    "# TODO: save best AutoML model\n",
    "model_name = best_run.properties['model_name']\n",
    "print(model_name)\n",
    "automl_model= auto_run.register_model(model_name=model_name)\n"
   ]
  },
  {
   "cell_type": "markdown",
   "metadata": {},
   "source": [
    "## Model Deployment\n",
    "\n",
    "Remember you have to deploy only one of the two models you trained.. Perform the steps in the rest of this notebook only if you wish to deploy this model.\n",
    "\n",
    "TODO: In the cell below, register the model, create an inference config and deploy the model as a web service."
   ]
  },
  {
   "cell_type": "code",
   "execution_count": 41,
   "metadata": {
    "gather": {
     "logged": 1598431435189
    },
    "jupyter": {
     "outputs_hidden": false,
     "source_hidden": false
    },
    "nteract": {
     "transient": {
      "deleting": false
     }
    }
   },
   "outputs": [
    {
     "name": "stdout",
     "output_type": "stream",
     "text": [
      "Tips: You can try get_logs(): https://aka.ms/debugimage#dockerlog or local deployment: https://aka.ms/debugimage#debug-locally to debug if deployment takes longer than 10 minutes.\n",
      "Running..............................................\n",
      "Succeeded\n",
      "ACI service creation operation finished, operation \"Succeeded\"\n"
     ]
    }
   ],
   "source": [
    "# Code from https://docs.microsoft.com/en-us/python/api/overview/azure/ml/?view=azure-ml-py#model-deploy\n",
    "\n",
    "inference_config = InferenceConfig(entry_script=\"score.py\")\n",
    "\n",
    "# Set deployment configuration\n",
    "deployment_config = AciWebservice.deploy_configuration(cpu_cores = 1,\n",
    "                                                       memory_gb = 1)\n",
    "\n",
    "# Define the model, inference, & deployment configuration and web service name and location to deploy\n",
    "service = Model.deploy(workspace = ws,\n",
    "                       name = \"webservice\",\n",
    "                       models = [automl_model],\n",
    "                       inference_config = inference_config,\n",
    "                       deployment_config = deployment_config)\n",
    "\n",
    "service.wait_for_deployment(show_output=True)"
   ]
  },
  {
   "cell_type": "code",
   "execution_count": 42,
   "metadata": {
    "gather": {
     "logged": 1606387856204
    },
    "jupyter": {
     "outputs_hidden": false,
     "source_hidden": false
    },
    "nteract": {
     "transient": {
      "deleting": false
     }
    },
    "scrolled": true
   },
   "outputs": [
    {
     "name": "stdout",
     "output_type": "stream",
     "text": [
      "2020-12-02T09:37:42,362165507+00:00 - rsyslog/run \n",
      "2020-12-02T09:37:42,362712414+00:00 - iot-server/run \n",
      "2020-12-02T09:37:42,364297931+00:00 - gunicorn/run \n",
      "2020-12-02T09:37:42,364403732+00:00 - nginx/run \n",
      "/usr/sbin/nginx: /azureml-envs/azureml_0e3a8a6dba181476a2523c12c58dfc97/lib/libcrypto.so.1.0.0: no version information available (required by /usr/sbin/nginx)\n",
      "/usr/sbin/nginx: /azureml-envs/azureml_0e3a8a6dba181476a2523c12c58dfc97/lib/libcrypto.so.1.0.0: no version information available (required by /usr/sbin/nginx)\n",
      "/usr/sbin/nginx: /azureml-envs/azureml_0e3a8a6dba181476a2523c12c58dfc97/lib/libssl.so.1.0.0: no version information available (required by /usr/sbin/nginx)\n",
      "/usr/sbin/nginx: /azureml-envs/azureml_0e3a8a6dba181476a2523c12c58dfc97/lib/libssl.so.1.0.0: no version information available (required by /usr/sbin/nginx)\n",
      "/usr/sbin/nginx: /azureml-envs/azureml_0e3a8a6dba181476a2523c12c58dfc97/lib/libssl.so.1.0.0: no version information available (required by /usr/sbin/nginx)\n",
      "rsyslogd: /azureml-envs/azureml_0e3a8a6dba181476a2523c12c58dfc97/lib/libuuid.so.1: no version information available (required by rsyslogd)\n",
      "EdgeHubConnectionString and IOTEDGE_IOTHUBHOSTNAME are not set. Exiting...\n",
      "2020-12-02T09:37:42,490715346+00:00 - iot-server/finish 1 0\n",
      "2020-12-02T09:37:42,491948460+00:00 - Exit code 1 is normal. Not restarting iot-server.\n",
      "Starting gunicorn 19.9.0\n",
      "Listening at: http://127.0.0.1:31311 (11)\n",
      "Using worker: sync\n",
      "worker timeout is set to 300\n",
      "Booting worker with pid: 41\n",
      "SPARK_HOME not set. Skipping PySpark Initialization.\n",
      "Generating new fontManager, this may take some time...\n",
      "Initializing logger\n",
      "2020-12-02 09:37:43,624 | root | INFO | Starting up app insights client\n",
      "Starting up app insights client\n",
      "2020-12-02 09:37:43,625 | root | INFO | Starting up request id generator\n",
      "Starting up request id generator\n",
      "2020-12-02 09:37:43,625 | root | INFO | Starting up app insight hooks\n",
      "Starting up app insight hooks\n",
      "2020-12-02 09:37:43,625 | root | INFO | Invoking user's init function\n",
      "Invoking user's init function\n",
      "2020-12-02 09:37:45,170 | root | INFO | Users's init has completed successfully\n",
      "Users's init has completed successfully\n",
      "2020-12-02 09:37:45,173 | root | INFO | Skipping middleware: dbg_model_info as it's not enabled.\n",
      "Skipping middleware: dbg_model_info as it's not enabled.\n",
      "2020-12-02 09:37:45,173 | root | INFO | Skipping middleware: dbg_resource_usage as it's not enabled.\n",
      "Skipping middleware: dbg_resource_usage as it's not enabled.\n",
      "2020-12-02 09:37:45,174 | root | INFO | Scoring timeout is found from os.environ: 60000 ms\n",
      "Scoring timeout is found from os.environ: 60000 ms\n",
      "2020-12-02 09:37:53,992 | root | INFO | Swagger file not present\n",
      "Swagger file not present\n",
      "2020-12-02 09:37:53,992 | root | INFO | 404\n",
      "404\n",
      "127.0.0.1 - - [02/Dec/2020:09:37:53 +0000] \"GET /swagger.json HTTP/1.0\" 404 19 \"-\" \"Go-http-client/1.1\"\n",
      "2020-12-02 09:38:00,206 | root | INFO | Swagger file not present\n",
      "Swagger file not present\n",
      "2020-12-02 09:38:00,206 | root | INFO | 404\n",
      "404\n",
      "127.0.0.1 - - [02/Dec/2020:09:38:00 +0000] \"GET /swagger.json HTTP/1.0\" 404 19 \"-\" \"Go-http-client/1.1\"\n",
      "\n"
     ]
    }
   ],
   "source": [
    "print(service.get_logs())"
   ]
  },
  {
   "cell_type": "markdown",
   "metadata": {
    "collapsed": true,
    "gather": {
     "logged": 1598431657736
    },
    "jupyter": {
     "outputs_hidden": false,
     "source_hidden": false
    },
    "nteract": {
     "transient": {
      "deleting": false
     }
    }
   },
   "source": [
    "TODO: In the cell below, send a request to the web service you deployed to test it."
   ]
  },
  {
   "cell_type": "code",
   "execution_count": 44,
   "metadata": {},
   "outputs": [
    {
     "name": "stdout",
     "output_type": "stream",
     "text": [
      "Tips: You can try get_logs(): https://aka.ms/debugimage#dockerlog or local deployment: https://aka.ms/debugimage#debug-locally to debug if deployment takes longer than 10 minutes.\n",
      "Running.................................\n",
      "Succeeded\n",
      "ACI service creation operation finished, operation \"Succeeded\"\n"
     ]
    }
   ],
   "source": [
    "service.update(inference_config=inference_config)\n",
    "service.wait_for_deployment(show_output=True)"
   ]
  },
  {
   "cell_type": "code",
   "execution_count": 43,
   "metadata": {},
   "outputs": [
    {
     "name": "stdout",
     "output_type": "stream",
     "text": [
      "[{\"Column1\":0,\"donor_age_below_35\":1,\"donor_CMV\":0,\"recipient_age_below_10\":1,\"recipient_gender\":1,\"recipient_rh\":1,\"recipient_CMV\":0,\"gender_match\":0,\"ABO_match\":1,\"HLA_mismatch\":1,\"risk_group\":0,\"stem_cell_source\":1,\"tx_post_relapse\":0,\"ANC_recovery\":1,\"PLT_recovery\":1,\"acute_GvHD_II_III_IV\":1,\"acute_GvHD_III_IV\":0,\"relapse\":1,\"donor_age\":0.1277579149,\"recipient_age\":0.1436170213,\"recipient_body_mass\":0.1388733965,\"CD34_x1e6_per_kg\":0.0650991402,\"CD3_x1e8_per_kg\":0.0230817218,\"CD3_to_CD34_ratio\":0.1079678604,\"time_to_ANC_recovery\":0.6153846154,\"time_to_PLT_recovery\":0.1497975709,\"time_to_acute_GvHD_III_IV\":0.0,\"donor_ABO_0\":0,\"donor_ABO_A\":0,\"donor_ABO_AB\":0,\"donor_ABO_B\":1,\"recipient_age_int_0_5\":1,\"recipient_age_int_10_20\":0,\"recipient_age_int_5_10\":0,\"recipient_ABO_0\":0,\"recipient_ABO_A\":0,\"recipient_ABO_AB\":0,\"recipient_ABO_B\":1,\"disease_ALL\":1,\"disease_AML\":0,\"disease_chronic\":0,\"disease_lymphoma\":0,\"disease_nonmalignant\":0,\"disease_group_malignant\":1,\"disease_group_nonmalignant\":0,\"CMV_status_0\":1,\"CMV_status_1\":0,\"CMV_status_2\":0,\"CMV_status_3\":0,\"HLA_match_10\\/10\":1,\"HLA_match_7\\/10\":0,\"HLA_match_8\\/10\":0,\"HLA_match_9\\/10\":0,\"antigen_0\":1,\"antigen_1\":0,\"antigen_2\":0,\"antigen_3\":0,\"allel_0\":1,\"allel_1\":0,\"allel_2\":0,\"allel_3\":0,\"allel_4\":0,\"HLA_group_1_DRB1_cell\":0,\"HLA_group_1_matched\":1,\"HLA_group_1_mismatched\":0,\"HLA_group_1_one_allel\":0,\"HLA_group_1_one_antigen\":0,\"HLA_group_1_three_diffs\":0,\"HLA_group_1_two_diffs\":0}]\n"
     ]
    }
   ],
   "source": [
    "x_test_json = x_test[:1].to_json(orient='records')\n",
    "print(x_test_json)"
   ]
  },
  {
   "cell_type": "code",
   "execution_count": 46,
   "metadata": {
    "pycharm": {
     "name": "#%%\n"
    }
   },
   "outputs": [
    {
     "name": "stdout",
     "output_type": "stream",
     "text": [
      "http://02698779-13e5-433c-b6c6-cf956c4507f4.southcentralus.azurecontainer.io/score\n",
      "200\n",
      "0:00:00.488152\n",
      "[0]\n",
      "0\n"
     ]
    }
   ],
   "source": [
    "scoring_uri = service.scoring_uri\n",
    "print(scoring_uri)\n",
    "headers = {'Content-Type':'application/json'}\n",
    "\n",
    "x_test_json = x_test[:1].to_json(orient='records')\n",
    "\n",
    "json_content = '{\"data\":' + x_test_json + '}'\n",
    "\n",
    "json_content_conv = json.loads(json_content)\n",
    "\n",
    "test_data = json.dumps(json_content_conv)\n",
    "\n",
    "response = requests.post(scoring_uri, data=test_data, headers=headers)\n",
    "\n",
    "print(response.status_code)\n",
    "print(response.elapsed)\n",
    "print(response.json())\n",
    "print(y_test[1])"
   ]
  },
  {
   "cell_type": "markdown",
   "metadata": {
    "pycharm": {
     "name": "#%% md\n"
    }
   },
   "source": [
    "Save conda environment"
   ]
  },
  {
   "cell_type": "code",
   "execution_count": 58,
   "metadata": {
    "pycharm": {
     "name": "#%%\n"
    }
   },
   "outputs": [
    {
     "data": {
      "text/plain": [
       "'conda_env.json'"
      ]
     },
     "execution_count": 58,
     "metadata": {},
     "output_type": "execute_result"
    }
   ],
   "source": [
    "#include missing dependencies\n",
    "packages = ['pandas','requests', 'json','os','scikit-learn']\n",
    "\n",
    "conda_dep = CondaDependencies().create(conda_packages=packages)\n",
    "\n",
    "conda_dep.save('conda_env.json')"
   ]
  },
  {
   "cell_type": "markdown",
   "metadata": {
    "collapsed": true,
    "gather": {
     "logged": 1598432765711
    },
    "jupyter": {
     "outputs_hidden": false,
     "source_hidden": false
    },
    "nteract": {
     "transient": {
      "deleting": false
     }
    }
   },
   "source": [
    "TODO: In the cell below, print the logs of the web service and delete the service"
   ]
  },
  {
   "cell_type": "code",
   "execution_count": 50,
   "metadata": {
    "gather": {
     "logged": 1606385979439
    },
    "jupyter": {
     "outputs_hidden": false,
     "source_hidden": false
    },
    "nteract": {
     "transient": {
      "deleting": false
     }
    }
   },
   "outputs": [],
   "source": [
    "# delete service\n",
    "service.delete()"
   ]
  },
  {
   "cell_type": "code",
   "execution_count": null,
   "metadata": {
    "pycharm": {
     "name": "#%%\n"
    }
   },
   "outputs": [],
   "source": [
    "# delete compute cluster\n",
    "cpu_cluster.delete()\n"
   ]
  }
 ],
 "metadata": {
  "kernel_info": {
   "name": "python3"
  },
  "kernelspec": {
   "display_name": "Python 3",
   "language": "python",
   "name": "python3"
  },
  "language_info": {
   "codemirror_mode": {
    "name": "ipython",
    "version": 3
   },
   "file_extension": ".py",
   "mimetype": "text/x-python",
   "name": "python",
   "nbconvert_exporter": "python",
   "pygments_lexer": "ipython3",
   "version": "3.6.9"
  },
  "nteract": {
   "version": "nteract-front-end@1.0.0"
  }
 },
 "nbformat": 4,
 "nbformat_minor": 2
}
